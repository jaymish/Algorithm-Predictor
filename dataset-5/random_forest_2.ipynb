{
 "cells": [
  {
   "cell_type": "markdown",
   "metadata": {},
   "source": [
    "### Table of Contents:\n",
    "* [1. Preparing the Data](#1)\n",
    "* &emsp;[1.1. Importing Libraries](#11)\n",
    "* [2. Data Cleaning](#2)\n",
    "* &emsp;[2.1. Identifying Missing Values](#21)\n",
    "* &emsp;[2.2. Dealing with Missing Values](#22)\n",
    "* &emsp;[2.3. Removing Rows](#23)\n",
    "* &emsp;[2.4. Finding Outliers](#24)\n",
    "* &emsp;&emsp;[2.4.1. IQR Score Method](#241)\n",
    "* &emsp;[2.5. Box Plot](#25)\n",
    "* [3. Data Transformation](#3)\n",
    "* &emsp;[3.1. Binning](#31)\n",
    "* &emsp;[3.2. Normalization](#32)\n",
    "* &emsp;&emsp;[3.2.1. Z-score Method](#33)\n",
    "* [4. Results](#4)\n",
    "* &emsp;[4.1. Data Cleaning](#41)\n",
    "* &emsp;[4.2. Data Transformation](#42)"
   ]
  },
  {
   "cell_type": "markdown",
   "metadata": {},
   "source": [
    "# 1. Preparing the Data <a class=\"anchor\" id=\"1\"></a>"
   ]
  },
  {
   "cell_type": "markdown",
   "metadata": {},
   "source": [
    "## 1.1. Importing Libraries <a class=\"anchor\" id=\"11\"></a>"
   ]
  },
  {
   "cell_type": "code",
   "execution_count": 51,
   "metadata": {},
   "outputs": [],
   "source": [
    "import pandas as pd \n",
    "import numpy as np  \n",
    "import matplotlib.pyplot as plt \n",
    "import seaborn as sns\n",
    "from sklearn.preprocessing import StandardScaler\n",
    "\n",
    "%matplotlib inline  \n",
    "plt.style.use('fivethirtyeight')"
   ]
  },
  {
   "cell_type": "markdown",
   "metadata": {},
   "source": [
    "# 2. Data Cleaning <a class=\"anchor\" id=\"2\"></a>"
   ]
  },
  {
   "cell_type": "markdown",
   "metadata": {},
   "source": [
    "## 2.1. Identifying Missing Values <a class=\"anchor\" id=\"21\"></a>"
   ]
  },
  {
   "cell_type": "code",
   "execution_count": 52,
   "metadata": {},
   "outputs": [],
   "source": [
    "df = pd.read_csv('data/raw_training_data.csv')"
   ]
  },
  {
   "cell_type": "code",
   "execution_count": 53,
   "metadata": {},
   "outputs": [],
   "source": [
    "categorical_features = ['company','country','director','genre','released','year',\n",
    "                        'writer','original_title','tagline','title','genres_edited','production_countries_edited',]\n",
    "continuous_features = ['budget','runtime','votes','popularity']\n",
    "target_features = ['isprofit','profitability_ratio']"
   ]
  },
  {
   "cell_type": "code",
   "execution_count": 54,
   "metadata": {},
   "outputs": [
    {
     "data": {
      "text/plain": [
       "(3524, 25)"
      ]
     },
     "execution_count": 54,
     "metadata": {},
     "output_type": "execute_result"
    }
   ],
   "source": [
    "df.shape # (# rows, # cols)"
   ]
  },
  {
   "cell_type": "code",
   "execution_count": 55,
   "metadata": {},
   "outputs": [
    {
     "data": {
      "text/html": [
       "<div>\n",
       "<style scoped>\n",
       "    .dataframe tbody tr th:only-of-type {\n",
       "        vertical-align: middle;\n",
       "    }\n",
       "\n",
       "    .dataframe tbody tr th {\n",
       "        vertical-align: top;\n",
       "    }\n",
       "\n",
       "    .dataframe thead th {\n",
       "        text-align: right;\n",
       "    }\n",
       "</style>\n",
       "<table border=\"1\" class=\"dataframe\">\n",
       "  <thead>\n",
       "    <tr style=\"text-align: right;\">\n",
       "      <th></th>\n",
       "      <th>Unnamed: 0</th>\n",
       "      <th>budget</th>\n",
       "      <th>company</th>\n",
       "      <th>country</th>\n",
       "      <th>director</th>\n",
       "      <th>genre</th>\n",
       "      <th>gross</th>\n",
       "      <th>name</th>\n",
       "      <th>released</th>\n",
       "      <th>runtime</th>\n",
       "      <th>...</th>\n",
       "      <th>profitability_ratio_bucket</th>\n",
       "      <th>id</th>\n",
       "      <th>imdb_id</th>\n",
       "      <th>original_title</th>\n",
       "      <th>popularity</th>\n",
       "      <th>tagline</th>\n",
       "      <th>title</th>\n",
       "      <th>genres_edited</th>\n",
       "      <th>production_countries_edited</th>\n",
       "      <th>year_released</th>\n",
       "    </tr>\n",
       "  </thead>\n",
       "  <tbody>\n",
       "    <tr>\n",
       "      <th>0</th>\n",
       "      <td>0</td>\n",
       "      <td>8000000</td>\n",
       "      <td>Columbia Pictures Corporation</td>\n",
       "      <td>USA</td>\n",
       "      <td>Rob Reiner</td>\n",
       "      <td>Adventure</td>\n",
       "      <td>52287414</td>\n",
       "      <td>Stand by Me</td>\n",
       "      <td>22.08.1986 00:00</td>\n",
       "      <td>89</td>\n",
       "      <td>...</td>\n",
       "      <td>550</td>\n",
       "      <td>235</td>\n",
       "      <td>tt0092005</td>\n",
       "      <td>Stand by Me</td>\n",
       "      <td>15.206957</td>\n",
       "      <td>For some, it's the last real taste of innocenc...</td>\n",
       "      <td>Stand by Me</td>\n",
       "      <td>Crime, Drama</td>\n",
       "      <td>US</td>\n",
       "      <td>1986</td>\n",
       "    </tr>\n",
       "    <tr>\n",
       "      <th>1</th>\n",
       "      <td>1</td>\n",
       "      <td>6000000</td>\n",
       "      <td>Paramount Pictures</td>\n",
       "      <td>USA</td>\n",
       "      <td>Other</td>\n",
       "      <td>Comedy</td>\n",
       "      <td>70136369</td>\n",
       "      <td>Ferris Bueller's Day Off</td>\n",
       "      <td>11.06.1986 00:00</td>\n",
       "      <td>103</td>\n",
       "      <td>...</td>\n",
       "      <td>1070</td>\n",
       "      <td>9377</td>\n",
       "      <td>tt0091042</td>\n",
       "      <td>Ferris Bueller's Day Off</td>\n",
       "      <td>12.724645</td>\n",
       "      <td>One man's struggle to take it easy.</td>\n",
       "      <td>Ferris Bueller's Day Off</td>\n",
       "      <td>Comedy</td>\n",
       "      <td>US</td>\n",
       "      <td>1986</td>\n",
       "    </tr>\n",
       "    <tr>\n",
       "      <th>2</th>\n",
       "      <td>2</td>\n",
       "      <td>15000000</td>\n",
       "      <td>Paramount Pictures</td>\n",
       "      <td>USA</td>\n",
       "      <td>Other</td>\n",
       "      <td>Action</td>\n",
       "      <td>179800601</td>\n",
       "      <td>Top Gun</td>\n",
       "      <td>16.05.1986 00:00</td>\n",
       "      <td>110</td>\n",
       "      <td>...</td>\n",
       "      <td>1100</td>\n",
       "      <td>744</td>\n",
       "      <td>tt0092099</td>\n",
       "      <td>Top Gun</td>\n",
       "      <td>20.301019</td>\n",
       "      <td>Up there with the best of the best.</td>\n",
       "      <td>Top Gun</td>\n",
       "      <td>Action, Romance, War</td>\n",
       "      <td>US</td>\n",
       "      <td>1986</td>\n",
       "    </tr>\n",
       "    <tr>\n",
       "      <th>3</th>\n",
       "      <td>3</td>\n",
       "      <td>18500000</td>\n",
       "      <td>Twentieth Century Fox Film Corporation</td>\n",
       "      <td>USA</td>\n",
       "      <td>Other</td>\n",
       "      <td>Action</td>\n",
       "      <td>85160248</td>\n",
       "      <td>Aliens</td>\n",
       "      <td>18.07.1986 00:00</td>\n",
       "      <td>137</td>\n",
       "      <td>...</td>\n",
       "      <td>360</td>\n",
       "      <td>679</td>\n",
       "      <td>tt0090605</td>\n",
       "      <td>Aliens</td>\n",
       "      <td>21.761179</td>\n",
       "      <td>This Time It's War</td>\n",
       "      <td>Aliens</td>\n",
       "      <td>Horror, Action, Thriller, Science Fiction</td>\n",
       "      <td>GB, US</td>\n",
       "      <td>1986</td>\n",
       "    </tr>\n",
       "    <tr>\n",
       "      <th>4</th>\n",
       "      <td>4</td>\n",
       "      <td>9000000</td>\n",
       "      <td>Walt Disney Pictures</td>\n",
       "      <td>USA</td>\n",
       "      <td>Other</td>\n",
       "      <td>Adventure</td>\n",
       "      <td>18564613</td>\n",
       "      <td>Flight of the Navigator</td>\n",
       "      <td>1.08.1986 00:00</td>\n",
       "      <td>90</td>\n",
       "      <td>...</td>\n",
       "      <td>110</td>\n",
       "      <td>10122</td>\n",
       "      <td>tt0091059</td>\n",
       "      <td>Flight of the Navigator</td>\n",
       "      <td>5.526865</td>\n",
       "      <td>Come along on the greatest adventure of the su...</td>\n",
       "      <td>Flight of the Navigator</td>\n",
       "      <td>Family, Science Fiction, Adventure</td>\n",
       "      <td>US</td>\n",
       "      <td>1986</td>\n",
       "    </tr>\n",
       "  </tbody>\n",
       "</table>\n",
       "<p>5 rows × 25 columns</p>\n",
       "</div>"
      ],
      "text/plain": [
       "   Unnamed: 0    budget                                 company country  \\\n",
       "0           0   8000000           Columbia Pictures Corporation     USA   \n",
       "1           1   6000000                      Paramount Pictures     USA   \n",
       "2           2  15000000                      Paramount Pictures     USA   \n",
       "3           3  18500000  Twentieth Century Fox Film Corporation     USA   \n",
       "4           4   9000000                    Walt Disney Pictures     USA   \n",
       "\n",
       "     director      genre      gross                      name  \\\n",
       "0  Rob Reiner  Adventure   52287414               Stand by Me   \n",
       "1       Other     Comedy   70136369  Ferris Bueller's Day Off   \n",
       "2       Other     Action  179800601                   Top Gun   \n",
       "3       Other     Action   85160248                    Aliens   \n",
       "4       Other  Adventure   18564613   Flight of the Navigator   \n",
       "\n",
       "           released  runtime  ...  profitability_ratio_bucket     id  \\\n",
       "0  22.08.1986 00:00       89  ...                         550    235   \n",
       "1  11.06.1986 00:00      103  ...                        1070   9377   \n",
       "2  16.05.1986 00:00      110  ...                        1100    744   \n",
       "3  18.07.1986 00:00      137  ...                         360    679   \n",
       "4   1.08.1986 00:00       90  ...                         110  10122   \n",
       "\n",
       "     imdb_id            original_title  popularity  \\\n",
       "0  tt0092005               Stand by Me   15.206957   \n",
       "1  tt0091042  Ferris Bueller's Day Off   12.724645   \n",
       "2  tt0092099                   Top Gun   20.301019   \n",
       "3  tt0090605                    Aliens   21.761179   \n",
       "4  tt0091059   Flight of the Navigator    5.526865   \n",
       "\n",
       "                                             tagline  \\\n",
       "0  For some, it's the last real taste of innocenc...   \n",
       "1                One man's struggle to take it easy.   \n",
       "2                Up there with the best of the best.   \n",
       "3                                 This Time It's War   \n",
       "4  Come along on the greatest adventure of the su...   \n",
       "\n",
       "                      title                              genres_edited  \\\n",
       "0               Stand by Me                               Crime, Drama   \n",
       "1  Ferris Bueller's Day Off                                     Comedy   \n",
       "2                   Top Gun                       Action, Romance, War   \n",
       "3                    Aliens  Horror, Action, Thriller, Science Fiction   \n",
       "4   Flight of the Navigator         Family, Science Fiction, Adventure   \n",
       "\n",
       "  production_countries_edited  year_released  \n",
       "0                          US           1986  \n",
       "1                          US           1986  \n",
       "2                          US           1986  \n",
       "3                      GB, US           1986  \n",
       "4                          US           1986  \n",
       "\n",
       "[5 rows x 25 columns]"
      ]
     },
     "execution_count": 55,
     "metadata": {},
     "output_type": "execute_result"
    }
   ],
   "source": [
    "df.head() # take a peak at the dataset"
   ]
  },
  {
   "cell_type": "code",
   "execution_count": 56,
   "metadata": {},
   "outputs": [],
   "source": [
    "del df['Unnamed: 0']"
   ]
  },
  {
   "cell_type": "code",
   "execution_count": 57,
   "metadata": {},
   "outputs": [
    {
     "name": "stdout",
     "output_type": "stream",
     "text": [
      "<class 'pandas.core.frame.DataFrame'>\n",
      "RangeIndex: 3524 entries, 0 to 3523\n",
      "Data columns (total 24 columns):\n",
      " #   Column                       Non-Null Count  Dtype  \n",
      "---  ------                       --------------  -----  \n",
      " 0   budget                       3524 non-null   int64  \n",
      " 1   company                      3524 non-null   object \n",
      " 2   country                      3524 non-null   object \n",
      " 3   director                     3524 non-null   object \n",
      " 4   genre                        3524 non-null   object \n",
      " 5   gross                        3524 non-null   int64  \n",
      " 6   name                         3524 non-null   object \n",
      " 7   released                     3524 non-null   object \n",
      " 8   runtime                      3524 non-null   int64  \n",
      " 9   votes                        3524 non-null   int64  \n",
      " 10  writer                       3524 non-null   object \n",
      " 11  year                         3524 non-null   int64  \n",
      " 12  isprofit                     3524 non-null   int64  \n",
      " 13  profitability_ratio          3524 non-null   float64\n",
      " 14  profitability_ratio_bucket   3524 non-null   int64  \n",
      " 15  id                           3524 non-null   int64  \n",
      " 16  imdb_id                      3524 non-null   object \n",
      " 17  original_title               3524 non-null   object \n",
      " 18  popularity                   3524 non-null   float64\n",
      " 19  tagline                      3153 non-null   object \n",
      " 20  title                        3524 non-null   object \n",
      " 21  genres_edited                3524 non-null   object \n",
      " 22  production_countries_edited  3493 non-null   object \n",
      " 23  year_released                3524 non-null   int64  \n",
      "dtypes: float64(2), int64(9), object(13)\n",
      "memory usage: 481.9+ KB\n"
     ]
    }
   ],
   "source": [
    "df.info()"
   ]
  },
  {
   "cell_type": "code",
   "execution_count": 58,
   "metadata": {},
   "outputs": [
    {
     "data": {
      "text/plain": [
       "budget                           0\n",
       "company                          0\n",
       "country                          0\n",
       "director                         0\n",
       "genre                            0\n",
       "gross                            0\n",
       "name                             0\n",
       "released                         0\n",
       "runtime                          0\n",
       "votes                            0\n",
       "writer                           0\n",
       "year                             0\n",
       "isprofit                         0\n",
       "profitability_ratio              0\n",
       "profitability_ratio_bucket       0\n",
       "id                               0\n",
       "imdb_id                          0\n",
       "original_title                   0\n",
       "popularity                       0\n",
       "tagline                        371\n",
       "title                            0\n",
       "genres_edited                    0\n",
       "production_countries_edited     31\n",
       "year_released                    0\n",
       "dtype: int64"
      ]
     },
     "execution_count": 58,
     "metadata": {},
     "output_type": "execute_result"
    }
   ],
   "source": [
    "df.isnull().sum()"
   ]
  },
  {
   "cell_type": "code",
   "execution_count": 59,
   "metadata": {},
   "outputs": [
    {
     "data": {
      "text/html": [
       "<div>\n",
       "<style scoped>\n",
       "    .dataframe tbody tr th:only-of-type {\n",
       "        vertical-align: middle;\n",
       "    }\n",
       "\n",
       "    .dataframe tbody tr th {\n",
       "        vertical-align: top;\n",
       "    }\n",
       "\n",
       "    .dataframe thead th {\n",
       "        text-align: right;\n",
       "    }\n",
       "</style>\n",
       "<table border=\"1\" class=\"dataframe\">\n",
       "  <thead>\n",
       "    <tr style=\"text-align: right;\">\n",
       "      <th></th>\n",
       "      <th>budget</th>\n",
       "      <th>gross</th>\n",
       "      <th>runtime</th>\n",
       "      <th>votes</th>\n",
       "      <th>year</th>\n",
       "      <th>isprofit</th>\n",
       "      <th>profitability_ratio</th>\n",
       "      <th>profitability_ratio_bucket</th>\n",
       "      <th>id</th>\n",
       "      <th>popularity</th>\n",
       "      <th>year_released</th>\n",
       "    </tr>\n",
       "  </thead>\n",
       "  <tbody>\n",
       "    <tr>\n",
       "      <th>count</th>\n",
       "      <td>3.524000e+03</td>\n",
       "      <td>3.524000e+03</td>\n",
       "      <td>3524.000000</td>\n",
       "      <td>3.524000e+03</td>\n",
       "      <td>3524.000000</td>\n",
       "      <td>3524.000000</td>\n",
       "      <td>3524.000000</td>\n",
       "      <td>3524.000000</td>\n",
       "      <td>3524.000000</td>\n",
       "      <td>3524.000000</td>\n",
       "      <td>3524.000000</td>\n",
       "    </tr>\n",
       "    <tr>\n",
       "      <th>mean</th>\n",
       "      <td>3.646837e+07</td>\n",
       "      <td>4.772520e+07</td>\n",
       "      <td>107.189274</td>\n",
       "      <td>9.928306e+04</td>\n",
       "      <td>1997.125709</td>\n",
       "      <td>0.510499</td>\n",
       "      <td>3.996876</td>\n",
       "      <td>399.602157</td>\n",
       "      <td>45443.112656</td>\n",
       "      <td>9.785946</td>\n",
       "      <td>2002.385641</td>\n",
       "    </tr>\n",
       "    <tr>\n",
       "      <th>std</th>\n",
       "      <td>4.063369e+07</td>\n",
       "      <td>6.707121e+07</td>\n",
       "      <td>18.472177</td>\n",
       "      <td>1.568040e+05</td>\n",
       "      <td>101.418026</td>\n",
       "      <td>0.499961</td>\n",
       "      <td>127.868810</td>\n",
       "      <td>12786.904323</td>\n",
       "      <td>77014.289184</td>\n",
       "      <td>13.318482</td>\n",
       "      <td>8.422442</td>\n",
       "    </tr>\n",
       "    <tr>\n",
       "      <th>min</th>\n",
       "      <td>0.000000e+00</td>\n",
       "      <td>0.000000e+00</td>\n",
       "      <td>0.000000</td>\n",
       "      <td>0.000000e+00</td>\n",
       "      <td>0.000000</td>\n",
       "      <td>0.000000</td>\n",
       "      <td>-0.999979</td>\n",
       "      <td>-100.000000</td>\n",
       "      <td>0.000000</td>\n",
       "      <td>0.000000</td>\n",
       "      <td>1986.000000</td>\n",
       "    </tr>\n",
       "    <tr>\n",
       "      <th>25%</th>\n",
       "      <td>1.000000e+07</td>\n",
       "      <td>6.955428e+06</td>\n",
       "      <td>95.000000</td>\n",
       "      <td>1.554475e+04</td>\n",
       "      <td>1996.000000</td>\n",
       "      <td>0.000000</td>\n",
       "      <td>-0.552571</td>\n",
       "      <td>-60.000000</td>\n",
       "      <td>8864.750000</td>\n",
       "      <td>5.746421</td>\n",
       "      <td>1996.000000</td>\n",
       "    </tr>\n",
       "    <tr>\n",
       "      <th>50%</th>\n",
       "      <td>2.300000e+07</td>\n",
       "      <td>2.511110e+07</td>\n",
       "      <td>104.000000</td>\n",
       "      <td>4.403550e+04</td>\n",
       "      <td>2002.000000</td>\n",
       "      <td>1.000000</td>\n",
       "      <td>0.020240</td>\n",
       "      <td>0.000000</td>\n",
       "      <td>12513.500000</td>\n",
       "      <td>8.411079</td>\n",
       "      <td>2003.000000</td>\n",
       "    </tr>\n",
       "    <tr>\n",
       "      <th>75%</th>\n",
       "      <td>4.800000e+07</td>\n",
       "      <td>6.036672e+07</td>\n",
       "      <td>117.000000</td>\n",
       "      <td>1.148628e+05</td>\n",
       "      <td>2009.000000</td>\n",
       "      <td>1.000000</td>\n",
       "      <td>1.029155</td>\n",
       "      <td>100.000000</td>\n",
       "      <td>41220.250000</td>\n",
       "      <td>11.654501</td>\n",
       "      <td>2010.000000</td>\n",
       "    </tr>\n",
       "    <tr>\n",
       "      <th>max</th>\n",
       "      <td>3.000000e+08</td>\n",
       "      <td>9.366622e+08</td>\n",
       "      <td>271.000000</td>\n",
       "      <td>1.861666e+06</td>\n",
       "      <td>2016.000000</td>\n",
       "      <td>1.000000</td>\n",
       "      <td>7193.587333</td>\n",
       "      <td>719360.000000</td>\n",
       "      <td>404378.000000</td>\n",
       "      <td>547.488298</td>\n",
       "      <td>2017.000000</td>\n",
       "    </tr>\n",
       "  </tbody>\n",
       "</table>\n",
       "</div>"
      ],
      "text/plain": [
       "             budget         gross      runtime         votes         year  \\\n",
       "count  3.524000e+03  3.524000e+03  3524.000000  3.524000e+03  3524.000000   \n",
       "mean   3.646837e+07  4.772520e+07   107.189274  9.928306e+04  1997.125709   \n",
       "std    4.063369e+07  6.707121e+07    18.472177  1.568040e+05   101.418026   \n",
       "min    0.000000e+00  0.000000e+00     0.000000  0.000000e+00     0.000000   \n",
       "25%    1.000000e+07  6.955428e+06    95.000000  1.554475e+04  1996.000000   \n",
       "50%    2.300000e+07  2.511110e+07   104.000000  4.403550e+04  2002.000000   \n",
       "75%    4.800000e+07  6.036672e+07   117.000000  1.148628e+05  2009.000000   \n",
       "max    3.000000e+08  9.366622e+08   271.000000  1.861666e+06  2016.000000   \n",
       "\n",
       "          isprofit  profitability_ratio  profitability_ratio_bucket  \\\n",
       "count  3524.000000          3524.000000                 3524.000000   \n",
       "mean      0.510499             3.996876                  399.602157   \n",
       "std       0.499961           127.868810                12786.904323   \n",
       "min       0.000000            -0.999979                 -100.000000   \n",
       "25%       0.000000            -0.552571                  -60.000000   \n",
       "50%       1.000000             0.020240                    0.000000   \n",
       "75%       1.000000             1.029155                  100.000000   \n",
       "max       1.000000          7193.587333               719360.000000   \n",
       "\n",
       "                  id   popularity  year_released  \n",
       "count    3524.000000  3524.000000    3524.000000  \n",
       "mean    45443.112656     9.785946    2002.385641  \n",
       "std     77014.289184    13.318482       8.422442  \n",
       "min         0.000000     0.000000    1986.000000  \n",
       "25%      8864.750000     5.746421    1996.000000  \n",
       "50%     12513.500000     8.411079    2003.000000  \n",
       "75%     41220.250000    11.654501    2010.000000  \n",
       "max    404378.000000   547.488298    2017.000000  "
      ]
     },
     "execution_count": 59,
     "metadata": {},
     "output_type": "execute_result"
    }
   ],
   "source": [
    "df.describe()   # before replacing zero with None"
   ]
  },
  {
   "cell_type": "markdown",
   "metadata": {},
   "source": [
    "## 2.2. Dealing with Missing Values <a class=\"anchor\" id=\"22\"></a>"
   ]
  },
  {
   "cell_type": "markdown",
   "metadata": {},
   "source": [
    "By observing the data, we see that only the following columns need initial transformation to replace zeros with the value None:\n",
    "* overview\n",
    "* tagline\n",
    "* spoken_languages_edited\n",
    "* production_countries_edited\n",
    "* keywords_edited\n",
    "\n",
    "And the remaining features do not have to change since they do not contain zero values."
   ]
  },
  {
   "cell_type": "code",
   "execution_count": 40,
   "metadata": {},
   "outputs": [],
   "source": [
    "#df['overview'] = df['overview'].map(lambda x:x if x != 0 else None)\n",
    "df['tagline'] = df['tagline'].map(lambda x:x if x != 0 else None)\n",
    "#df['spoken_languages_edited'] = df['spoken_languages_edited'].map(lambda x:x if x != 0 else None)\n",
    "df['production_countries_edited'] = df['production_countries_edited'].map(lambda x:x if x != 0 else None)\n",
    "#df['keywords_edited'] = df['keywords_edited'].map(lambda x:x if x != 0 else None)"
   ]
  },
  {
   "cell_type": "code",
   "execution_count": 41,
   "metadata": {},
   "outputs": [
    {
     "data": {
      "text/html": [
       "<div>\n",
       "<style scoped>\n",
       "    .dataframe tbody tr th:only-of-type {\n",
       "        vertical-align: middle;\n",
       "    }\n",
       "\n",
       "    .dataframe tbody tr th {\n",
       "        vertical-align: top;\n",
       "    }\n",
       "\n",
       "    .dataframe thead th {\n",
       "        text-align: right;\n",
       "    }\n",
       "</style>\n",
       "<table border=\"1\" class=\"dataframe\">\n",
       "  <thead>\n",
       "    <tr style=\"text-align: right;\">\n",
       "      <th></th>\n",
       "      <th>budget</th>\n",
       "      <th>company</th>\n",
       "      <th>country</th>\n",
       "      <th>director</th>\n",
       "      <th>genre</th>\n",
       "      <th>gross</th>\n",
       "      <th>name</th>\n",
       "      <th>released</th>\n",
       "      <th>runtime</th>\n",
       "      <th>votes</th>\n",
       "      <th>...</th>\n",
       "      <th>profitability_ratio_bucket</th>\n",
       "      <th>id</th>\n",
       "      <th>imdb_id</th>\n",
       "      <th>original_title</th>\n",
       "      <th>popularity</th>\n",
       "      <th>tagline</th>\n",
       "      <th>title</th>\n",
       "      <th>genres_edited</th>\n",
       "      <th>production_countries_edited</th>\n",
       "      <th>year_released</th>\n",
       "    </tr>\n",
       "  </thead>\n",
       "  <tbody>\n",
       "    <tr>\n",
       "      <th>0</th>\n",
       "      <td>8000000</td>\n",
       "      <td>Columbia Pictures Corporation</td>\n",
       "      <td>USA</td>\n",
       "      <td>Rob Reiner</td>\n",
       "      <td>Adventure</td>\n",
       "      <td>52287414</td>\n",
       "      <td>Stand by Me</td>\n",
       "      <td>22.08.1986 00:00</td>\n",
       "      <td>89</td>\n",
       "      <td>299174</td>\n",
       "      <td>...</td>\n",
       "      <td>550</td>\n",
       "      <td>235</td>\n",
       "      <td>tt0092005</td>\n",
       "      <td>Stand by Me</td>\n",
       "      <td>15.206957</td>\n",
       "      <td>For some, it's the last real taste of innocenc...</td>\n",
       "      <td>Stand by Me</td>\n",
       "      <td>Crime, Drama</td>\n",
       "      <td>US</td>\n",
       "      <td>1986</td>\n",
       "    </tr>\n",
       "    <tr>\n",
       "      <th>1</th>\n",
       "      <td>6000000</td>\n",
       "      <td>Paramount Pictures</td>\n",
       "      <td>USA</td>\n",
       "      <td>Other</td>\n",
       "      <td>Comedy</td>\n",
       "      <td>70136369</td>\n",
       "      <td>Ferris Bueller's Day Off</td>\n",
       "      <td>11.06.1986 00:00</td>\n",
       "      <td>103</td>\n",
       "      <td>264740</td>\n",
       "      <td>...</td>\n",
       "      <td>1070</td>\n",
       "      <td>9377</td>\n",
       "      <td>tt0091042</td>\n",
       "      <td>Ferris Bueller's Day Off</td>\n",
       "      <td>12.724645</td>\n",
       "      <td>One man's struggle to take it easy.</td>\n",
       "      <td>Ferris Bueller's Day Off</td>\n",
       "      <td>Comedy</td>\n",
       "      <td>US</td>\n",
       "      <td>1986</td>\n",
       "    </tr>\n",
       "    <tr>\n",
       "      <th>2</th>\n",
       "      <td>15000000</td>\n",
       "      <td>Paramount Pictures</td>\n",
       "      <td>USA</td>\n",
       "      <td>Other</td>\n",
       "      <td>Action</td>\n",
       "      <td>179800601</td>\n",
       "      <td>Top Gun</td>\n",
       "      <td>16.05.1986 00:00</td>\n",
       "      <td>110</td>\n",
       "      <td>236909</td>\n",
       "      <td>...</td>\n",
       "      <td>1100</td>\n",
       "      <td>744</td>\n",
       "      <td>tt0092099</td>\n",
       "      <td>Top Gun</td>\n",
       "      <td>20.301019</td>\n",
       "      <td>Up there with the best of the best.</td>\n",
       "      <td>Top Gun</td>\n",
       "      <td>Action, Romance, War</td>\n",
       "      <td>US</td>\n",
       "      <td>1986</td>\n",
       "    </tr>\n",
       "    <tr>\n",
       "      <th>3</th>\n",
       "      <td>18500000</td>\n",
       "      <td>Twentieth Century Fox Film Corporation</td>\n",
       "      <td>USA</td>\n",
       "      <td>Other</td>\n",
       "      <td>Action</td>\n",
       "      <td>85160248</td>\n",
       "      <td>Aliens</td>\n",
       "      <td>18.07.1986 00:00</td>\n",
       "      <td>137</td>\n",
       "      <td>540152</td>\n",
       "      <td>...</td>\n",
       "      <td>360</td>\n",
       "      <td>679</td>\n",
       "      <td>tt0090605</td>\n",
       "      <td>Aliens</td>\n",
       "      <td>21.761179</td>\n",
       "      <td>This Time It's War</td>\n",
       "      <td>Aliens</td>\n",
       "      <td>Horror, Action, Thriller, Science Fiction</td>\n",
       "      <td>GB, US</td>\n",
       "      <td>1986</td>\n",
       "    </tr>\n",
       "    <tr>\n",
       "      <th>4</th>\n",
       "      <td>9000000</td>\n",
       "      <td>Walt Disney Pictures</td>\n",
       "      <td>USA</td>\n",
       "      <td>Other</td>\n",
       "      <td>Adventure</td>\n",
       "      <td>18564613</td>\n",
       "      <td>Flight of the Navigator</td>\n",
       "      <td>1.08.1986 00:00</td>\n",
       "      <td>90</td>\n",
       "      <td>36636</td>\n",
       "      <td>...</td>\n",
       "      <td>110</td>\n",
       "      <td>10122</td>\n",
       "      <td>tt0091059</td>\n",
       "      <td>Flight of the Navigator</td>\n",
       "      <td>5.526865</td>\n",
       "      <td>Come along on the greatest adventure of the su...</td>\n",
       "      <td>Flight of the Navigator</td>\n",
       "      <td>Family, Science Fiction, Adventure</td>\n",
       "      <td>US</td>\n",
       "      <td>1986</td>\n",
       "    </tr>\n",
       "  </tbody>\n",
       "</table>\n",
       "<p>5 rows × 24 columns</p>\n",
       "</div>"
      ],
      "text/plain": [
       "     budget                                 company country    director  \\\n",
       "0   8000000           Columbia Pictures Corporation     USA  Rob Reiner   \n",
       "1   6000000                      Paramount Pictures     USA       Other   \n",
       "2  15000000                      Paramount Pictures     USA       Other   \n",
       "3  18500000  Twentieth Century Fox Film Corporation     USA       Other   \n",
       "4   9000000                    Walt Disney Pictures     USA       Other   \n",
       "\n",
       "       genre      gross                      name          released  runtime  \\\n",
       "0  Adventure   52287414               Stand by Me  22.08.1986 00:00       89   \n",
       "1     Comedy   70136369  Ferris Bueller's Day Off  11.06.1986 00:00      103   \n",
       "2     Action  179800601                   Top Gun  16.05.1986 00:00      110   \n",
       "3     Action   85160248                    Aliens  18.07.1986 00:00      137   \n",
       "4  Adventure   18564613   Flight of the Navigator   1.08.1986 00:00       90   \n",
       "\n",
       "    votes  ... profitability_ratio_bucket     id    imdb_id  \\\n",
       "0  299174  ...                        550    235  tt0092005   \n",
       "1  264740  ...                       1070   9377  tt0091042   \n",
       "2  236909  ...                       1100    744  tt0092099   \n",
       "3  540152  ...                        360    679  tt0090605   \n",
       "4   36636  ...                        110  10122  tt0091059   \n",
       "\n",
       "             original_title  popularity  \\\n",
       "0               Stand by Me   15.206957   \n",
       "1  Ferris Bueller's Day Off   12.724645   \n",
       "2                   Top Gun   20.301019   \n",
       "3                    Aliens   21.761179   \n",
       "4   Flight of the Navigator    5.526865   \n",
       "\n",
       "                                             tagline  \\\n",
       "0  For some, it's the last real taste of innocenc...   \n",
       "1                One man's struggle to take it easy.   \n",
       "2                Up there with the best of the best.   \n",
       "3                                 This Time It's War   \n",
       "4  Come along on the greatest adventure of the su...   \n",
       "\n",
       "                      title                              genres_edited  \\\n",
       "0               Stand by Me                               Crime, Drama   \n",
       "1  Ferris Bueller's Day Off                                     Comedy   \n",
       "2                   Top Gun                       Action, Romance, War   \n",
       "3                    Aliens  Horror, Action, Thriller, Science Fiction   \n",
       "4   Flight of the Navigator         Family, Science Fiction, Adventure   \n",
       "\n",
       "   production_countries_edited year_released  \n",
       "0                           US          1986  \n",
       "1                           US          1986  \n",
       "2                           US          1986  \n",
       "3                       GB, US          1986  \n",
       "4                           US          1986  \n",
       "\n",
       "[5 rows x 24 columns]"
      ]
     },
     "execution_count": 41,
     "metadata": {},
     "output_type": "execute_result"
    }
   ],
   "source": [
    "df.head()   # take a peak at the dataset"
   ]
  },
  {
   "cell_type": "code",
   "execution_count": 42,
   "metadata": {},
   "outputs": [
    {
     "name": "stdout",
     "output_type": "stream",
     "text": [
      "<class 'pandas.core.frame.DataFrame'>\n",
      "RangeIndex: 3524 entries, 0 to 3523\n",
      "Data columns (total 24 columns):\n",
      " #   Column                       Non-Null Count  Dtype  \n",
      "---  ------                       --------------  -----  \n",
      " 0   budget                       3524 non-null   int64  \n",
      " 1   company                      3524 non-null   object \n",
      " 2   country                      3524 non-null   object \n",
      " 3   director                     3524 non-null   object \n",
      " 4   genre                        3524 non-null   object \n",
      " 5   gross                        3524 non-null   int64  \n",
      " 6   name                         3524 non-null   object \n",
      " 7   released                     3524 non-null   object \n",
      " 8   runtime                      3524 non-null   int64  \n",
      " 9   votes                        3524 non-null   int64  \n",
      " 10  writer                       3524 non-null   object \n",
      " 11  year                         3524 non-null   int64  \n",
      " 12  isprofit                     3524 non-null   int64  \n",
      " 13  profitability_ratio          3524 non-null   float64\n",
      " 14  profitability_ratio_bucket   3524 non-null   int64  \n",
      " 15  id                           3524 non-null   int64  \n",
      " 16  imdb_id                      3524 non-null   object \n",
      " 17  original_title               3524 non-null   object \n",
      " 18  popularity                   3524 non-null   float64\n",
      " 19  tagline                      3153 non-null   object \n",
      " 20  title                        3524 non-null   object \n",
      " 21  genres_edited                3524 non-null   object \n",
      " 22  production_countries_edited  3493 non-null   object \n",
      " 23  year_released                3524 non-null   int64  \n",
      "dtypes: float64(2), int64(9), object(13)\n",
      "memory usage: 481.9+ KB\n"
     ]
    }
   ],
   "source": [
    "df.info()"
   ]
  },
  {
   "cell_type": "code",
   "execution_count": 43,
   "metadata": {},
   "outputs": [
    {
     "data": {
      "text/plain": [
       "budget                           0\n",
       "company                          0\n",
       "country                          0\n",
       "director                         0\n",
       "genre                            0\n",
       "gross                            0\n",
       "name                             0\n",
       "released                         0\n",
       "runtime                          0\n",
       "votes                            0\n",
       "writer                           0\n",
       "year                             0\n",
       "isprofit                         0\n",
       "profitability_ratio              0\n",
       "profitability_ratio_bucket       0\n",
       "id                               0\n",
       "imdb_id                          0\n",
       "original_title                   0\n",
       "popularity                       0\n",
       "tagline                        371\n",
       "title                            0\n",
       "genres_edited                    0\n",
       "production_countries_edited     31\n",
       "year_released                    0\n",
       "dtype: int64"
      ]
     },
     "execution_count": 43,
     "metadata": {},
     "output_type": "execute_result"
    }
   ],
   "source": [
    "df.isnull().sum()"
   ]
  },
  {
   "cell_type": "code",
   "execution_count": 44,
   "metadata": {},
   "outputs": [
    {
     "data": {
      "text/html": [
       "<div>\n",
       "<style scoped>\n",
       "    .dataframe tbody tr th:only-of-type {\n",
       "        vertical-align: middle;\n",
       "    }\n",
       "\n",
       "    .dataframe tbody tr th {\n",
       "        vertical-align: top;\n",
       "    }\n",
       "\n",
       "    .dataframe thead th {\n",
       "        text-align: right;\n",
       "    }\n",
       "</style>\n",
       "<table border=\"1\" class=\"dataframe\">\n",
       "  <thead>\n",
       "    <tr style=\"text-align: right;\">\n",
       "      <th></th>\n",
       "      <th>budget</th>\n",
       "      <th>gross</th>\n",
       "      <th>runtime</th>\n",
       "      <th>votes</th>\n",
       "      <th>year</th>\n",
       "      <th>isprofit</th>\n",
       "      <th>profitability_ratio</th>\n",
       "      <th>profitability_ratio_bucket</th>\n",
       "      <th>id</th>\n",
       "      <th>popularity</th>\n",
       "      <th>year_released</th>\n",
       "    </tr>\n",
       "  </thead>\n",
       "  <tbody>\n",
       "    <tr>\n",
       "      <th>count</th>\n",
       "      <td>3.524000e+03</td>\n",
       "      <td>3.524000e+03</td>\n",
       "      <td>3524.000000</td>\n",
       "      <td>3.524000e+03</td>\n",
       "      <td>3524.000000</td>\n",
       "      <td>3524.000000</td>\n",
       "      <td>3524.000000</td>\n",
       "      <td>3524.000000</td>\n",
       "      <td>3524.000000</td>\n",
       "      <td>3524.000000</td>\n",
       "      <td>3524.000000</td>\n",
       "    </tr>\n",
       "    <tr>\n",
       "      <th>mean</th>\n",
       "      <td>3.646837e+07</td>\n",
       "      <td>4.772520e+07</td>\n",
       "      <td>107.189274</td>\n",
       "      <td>9.928306e+04</td>\n",
       "      <td>1997.125709</td>\n",
       "      <td>0.510499</td>\n",
       "      <td>3.996876</td>\n",
       "      <td>399.602157</td>\n",
       "      <td>45443.112656</td>\n",
       "      <td>9.785946</td>\n",
       "      <td>2002.385641</td>\n",
       "    </tr>\n",
       "    <tr>\n",
       "      <th>std</th>\n",
       "      <td>4.063369e+07</td>\n",
       "      <td>6.707121e+07</td>\n",
       "      <td>18.472177</td>\n",
       "      <td>1.568040e+05</td>\n",
       "      <td>101.418026</td>\n",
       "      <td>0.499961</td>\n",
       "      <td>127.868810</td>\n",
       "      <td>12786.904323</td>\n",
       "      <td>77014.289184</td>\n",
       "      <td>13.318482</td>\n",
       "      <td>8.422442</td>\n",
       "    </tr>\n",
       "    <tr>\n",
       "      <th>min</th>\n",
       "      <td>0.000000e+00</td>\n",
       "      <td>0.000000e+00</td>\n",
       "      <td>0.000000</td>\n",
       "      <td>0.000000e+00</td>\n",
       "      <td>0.000000</td>\n",
       "      <td>0.000000</td>\n",
       "      <td>-0.999979</td>\n",
       "      <td>-100.000000</td>\n",
       "      <td>0.000000</td>\n",
       "      <td>0.000000</td>\n",
       "      <td>1986.000000</td>\n",
       "    </tr>\n",
       "    <tr>\n",
       "      <th>25%</th>\n",
       "      <td>1.000000e+07</td>\n",
       "      <td>6.955428e+06</td>\n",
       "      <td>95.000000</td>\n",
       "      <td>1.554475e+04</td>\n",
       "      <td>1996.000000</td>\n",
       "      <td>0.000000</td>\n",
       "      <td>-0.552571</td>\n",
       "      <td>-60.000000</td>\n",
       "      <td>8864.750000</td>\n",
       "      <td>5.746421</td>\n",
       "      <td>1996.000000</td>\n",
       "    </tr>\n",
       "    <tr>\n",
       "      <th>50%</th>\n",
       "      <td>2.300000e+07</td>\n",
       "      <td>2.511110e+07</td>\n",
       "      <td>104.000000</td>\n",
       "      <td>4.403550e+04</td>\n",
       "      <td>2002.000000</td>\n",
       "      <td>1.000000</td>\n",
       "      <td>0.020240</td>\n",
       "      <td>0.000000</td>\n",
       "      <td>12513.500000</td>\n",
       "      <td>8.411079</td>\n",
       "      <td>2003.000000</td>\n",
       "    </tr>\n",
       "    <tr>\n",
       "      <th>75%</th>\n",
       "      <td>4.800000e+07</td>\n",
       "      <td>6.036672e+07</td>\n",
       "      <td>117.000000</td>\n",
       "      <td>1.148628e+05</td>\n",
       "      <td>2009.000000</td>\n",
       "      <td>1.000000</td>\n",
       "      <td>1.029155</td>\n",
       "      <td>100.000000</td>\n",
       "      <td>41220.250000</td>\n",
       "      <td>11.654501</td>\n",
       "      <td>2010.000000</td>\n",
       "    </tr>\n",
       "    <tr>\n",
       "      <th>max</th>\n",
       "      <td>3.000000e+08</td>\n",
       "      <td>9.366622e+08</td>\n",
       "      <td>271.000000</td>\n",
       "      <td>1.861666e+06</td>\n",
       "      <td>2016.000000</td>\n",
       "      <td>1.000000</td>\n",
       "      <td>7193.587333</td>\n",
       "      <td>719360.000000</td>\n",
       "      <td>404378.000000</td>\n",
       "      <td>547.488298</td>\n",
       "      <td>2017.000000</td>\n",
       "    </tr>\n",
       "  </tbody>\n",
       "</table>\n",
       "</div>"
      ],
      "text/plain": [
       "             budget         gross      runtime         votes         year  \\\n",
       "count  3.524000e+03  3.524000e+03  3524.000000  3.524000e+03  3524.000000   \n",
       "mean   3.646837e+07  4.772520e+07   107.189274  9.928306e+04  1997.125709   \n",
       "std    4.063369e+07  6.707121e+07    18.472177  1.568040e+05   101.418026   \n",
       "min    0.000000e+00  0.000000e+00     0.000000  0.000000e+00     0.000000   \n",
       "25%    1.000000e+07  6.955428e+06    95.000000  1.554475e+04  1996.000000   \n",
       "50%    2.300000e+07  2.511110e+07   104.000000  4.403550e+04  2002.000000   \n",
       "75%    4.800000e+07  6.036672e+07   117.000000  1.148628e+05  2009.000000   \n",
       "max    3.000000e+08  9.366622e+08   271.000000  1.861666e+06  2016.000000   \n",
       "\n",
       "          isprofit  profitability_ratio  profitability_ratio_bucket  \\\n",
       "count  3524.000000          3524.000000                 3524.000000   \n",
       "mean      0.510499             3.996876                  399.602157   \n",
       "std       0.499961           127.868810                12786.904323   \n",
       "min       0.000000            -0.999979                 -100.000000   \n",
       "25%       0.000000            -0.552571                  -60.000000   \n",
       "50%       1.000000             0.020240                    0.000000   \n",
       "75%       1.000000             1.029155                  100.000000   \n",
       "max       1.000000          7193.587333               719360.000000   \n",
       "\n",
       "                  id   popularity  year_released  \n",
       "count    3524.000000  3524.000000    3524.000000  \n",
       "mean    45443.112656     9.785946    2002.385641  \n",
       "std     77014.289184    13.318482       8.422442  \n",
       "min         0.000000     0.000000    1986.000000  \n",
       "25%      8864.750000     5.746421    1996.000000  \n",
       "50%     12513.500000     8.411079    2003.000000  \n",
       "75%     41220.250000    11.654501    2010.000000  \n",
       "max    404378.000000   547.488298    2017.000000  "
      ]
     },
     "execution_count": 44,
     "metadata": {},
     "output_type": "execute_result"
    }
   ],
   "source": [
    "df.describe()   # after replacing zero with None"
   ]
  },
  {
   "cell_type": "markdown",
   "metadata": {},
   "source": [
    "## 2.3. Removing Rows <a class=\"anchor\" id=\"23\"></a>"
   ]
  },
  {
   "cell_type": "code",
   "execution_count": 60,
   "metadata": {},
   "outputs": [
    {
     "data": {
      "text/plain": [
       "(3136, 24)"
      ]
     },
     "execution_count": 60,
     "metadata": {},
     "output_type": "execute_result"
    }
   ],
   "source": [
    "data_dropped = df.dropna(axis=0)\n",
    "data_dropped.shape"
   ]
  },
  {
   "cell_type": "code",
   "execution_count": 61,
   "metadata": {},
   "outputs": [],
   "source": [
    "data_dropped = data_dropped.reset_index() \n",
    "del data_dropped['index']"
   ]
  },
  {
   "cell_type": "code",
   "execution_count": 62,
   "metadata": {},
   "outputs": [
    {
     "data": {
      "text/plain": [
       "(3136, 24)"
      ]
     },
     "execution_count": 62,
     "metadata": {},
     "output_type": "execute_result"
    }
   ],
   "source": [
    "data_dropped.shape"
   ]
  },
  {
   "cell_type": "code",
   "execution_count": 69,
   "metadata": {},
   "outputs": [
    {
     "data": {
      "text/plain": [
       "(3524, 24)"
      ]
     },
     "execution_count": 69,
     "metadata": {},
     "output_type": "execute_result"
    }
   ],
   "source": [
    "df.shape"
   ]
  },
  {
   "cell_type": "code",
   "execution_count": 70,
   "metadata": {},
   "outputs": [
    {
     "data": {
      "text/plain": [
       "11.010215664018162"
      ]
     },
     "execution_count": 70,
     "metadata": {},
     "output_type": "execute_result"
    }
   ],
   "source": [
    "num_rows_lost = (100*(df.shape[0] - data_dropped.shape[0])/float(df.shape[0]))\n",
    "num_rows_lost"
   ]
  },
  {
   "cell_type": "code",
   "execution_count": 71,
   "metadata": {},
   "outputs": [
    {
     "name": "stdout",
     "output_type": "stream",
     "text": [
      "retained {}% of rows\n",
      "retained {}% of rows\n"
     ]
    }
   ],
   "source": [
    "template = 'retained {}% of rows'\n",
    "print(template)\n",
    "template.format(num_rows_lost)\n",
    "print(template)"
   ]
  },
  {
   "cell_type": "code",
   "execution_count": 72,
   "metadata": {},
   "outputs": [
    {
     "data": {
      "text/plain": [
       "isprofit\n",
       "0    1485\n",
       "1    1651\n",
       "dtype: int64"
      ]
     },
     "execution_count": 72,
     "metadata": {},
     "output_type": "execute_result"
    }
   ],
   "source": [
    "# class distribution\n",
    "class_counts = data_dropped.groupby('isprofit').size()\n",
    "class_counts"
   ]
  },
  {
   "cell_type": "code",
   "execution_count": 73,
   "metadata": {},
   "outputs": [
    {
     "data": {
      "text/plain": [
       "0.4213961407491487"
      ]
     },
     "execution_count": 73,
     "metadata": {},
     "output_type": "execute_result"
    }
   ],
   "source": [
    "class_counts[0]/df['isprofit'].size"
   ]
  },
  {
   "cell_type": "code",
   "execution_count": 74,
   "metadata": {},
   "outputs": [
    {
     "data": {
      "text/plain": [
       "1    0.510499\n",
       "0    0.489501\n",
       "Name: isprofit, dtype: float64"
      ]
     },
     "execution_count": 74,
     "metadata": {},
     "output_type": "execute_result"
    }
   ],
   "source": [
    "df['isprofit'].value_counts(normalize=True)   #  split of trues and falses before rows dropped"
   ]
  },
  {
   "cell_type": "code",
   "execution_count": 75,
   "metadata": {},
   "outputs": [
    {
     "data": {
      "text/plain": [
       "1    0.526467\n",
       "0    0.473533\n",
       "Name: isprofit, dtype: float64"
      ]
     },
     "execution_count": 75,
     "metadata": {},
     "output_type": "execute_result"
    }
   ],
   "source": [
    "data_dropped['isprofit'].value_counts(normalize=True)   #  split of trues and falses after rows dropped"
   ]
  },
  {
   "cell_type": "code",
   "execution_count": 76,
   "metadata": {},
   "outputs": [
    {
     "data": {
      "text/html": [
       "<div>\n",
       "<style scoped>\n",
       "    .dataframe tbody tr th:only-of-type {\n",
       "        vertical-align: middle;\n",
       "    }\n",
       "\n",
       "    .dataframe tbody tr th {\n",
       "        vertical-align: top;\n",
       "    }\n",
       "\n",
       "    .dataframe thead th {\n",
       "        text-align: right;\n",
       "    }\n",
       "</style>\n",
       "<table border=\"1\" class=\"dataframe\">\n",
       "  <thead>\n",
       "    <tr style=\"text-align: right;\">\n",
       "      <th></th>\n",
       "      <th>budget</th>\n",
       "      <th>gross</th>\n",
       "      <th>runtime</th>\n",
       "      <th>votes</th>\n",
       "      <th>year</th>\n",
       "      <th>isprofit</th>\n",
       "      <th>profitability_ratio</th>\n",
       "      <th>profitability_ratio_bucket</th>\n",
       "      <th>id</th>\n",
       "      <th>popularity</th>\n",
       "      <th>year_released</th>\n",
       "    </tr>\n",
       "  </thead>\n",
       "  <tbody>\n",
       "    <tr>\n",
       "      <th>count</th>\n",
       "      <td>3.136000e+03</td>\n",
       "      <td>3.136000e+03</td>\n",
       "      <td>3136.000000</td>\n",
       "      <td>3.136000e+03</td>\n",
       "      <td>3136.000000</td>\n",
       "      <td>3136.000000</td>\n",
       "      <td>3136.000000</td>\n",
       "      <td>3136.000000</td>\n",
       "      <td>3136.000000</td>\n",
       "      <td>3136.000000</td>\n",
       "      <td>3136.000000</td>\n",
       "    </tr>\n",
       "    <tr>\n",
       "      <th>mean</th>\n",
       "      <td>3.859966e+07</td>\n",
       "      <td>5.140497e+07</td>\n",
       "      <td>107.340561</td>\n",
       "      <td>1.073402e+05</td>\n",
       "      <td>1996.713329</td>\n",
       "      <td>0.526467</td>\n",
       "      <td>4.405641</td>\n",
       "      <td>440.518495</td>\n",
       "      <td>44533.575255</td>\n",
       "      <td>10.205283</td>\n",
       "      <td>2002.584821</td>\n",
       "    </tr>\n",
       "    <tr>\n",
       "      <th>std</th>\n",
       "      <td>4.168162e+07</td>\n",
       "      <td>6.928857e+07</td>\n",
       "      <td>18.487155</td>\n",
       "      <td>1.623381e+05</td>\n",
       "      <td>107.462775</td>\n",
       "      <td>0.499379</td>\n",
       "      <td>135.536262</td>\n",
       "      <td>13553.649593</td>\n",
       "      <td>76072.815446</td>\n",
       "      <td>13.920346</td>\n",
       "      <td>8.389510</td>\n",
       "    </tr>\n",
       "    <tr>\n",
       "      <th>min</th>\n",
       "      <td>0.000000e+00</td>\n",
       "      <td>0.000000e+00</td>\n",
       "      <td>0.000000</td>\n",
       "      <td>0.000000e+00</td>\n",
       "      <td>0.000000</td>\n",
       "      <td>0.000000</td>\n",
       "      <td>-0.999979</td>\n",
       "      <td>-100.000000</td>\n",
       "      <td>0.000000</td>\n",
       "      <td>0.000000</td>\n",
       "      <td>1986.000000</td>\n",
       "    </tr>\n",
       "    <tr>\n",
       "      <th>25%</th>\n",
       "      <td>1.100000e+07</td>\n",
       "      <td>8.998127e+06</td>\n",
       "      <td>96.000000</td>\n",
       "      <td>1.859850e+04</td>\n",
       "      <td>1996.000000</td>\n",
       "      <td>0.000000</td>\n",
       "      <td>-0.504688</td>\n",
       "      <td>-50.000000</td>\n",
       "      <td>8487.750000</td>\n",
       "      <td>6.142214</td>\n",
       "      <td>1996.000000</td>\n",
       "    </tr>\n",
       "    <tr>\n",
       "      <th>50%</th>\n",
       "      <td>2.500000e+07</td>\n",
       "      <td>2.862322e+07</td>\n",
       "      <td>104.000000</td>\n",
       "      <td>5.132950e+04</td>\n",
       "      <td>2003.000000</td>\n",
       "      <td>1.000000</td>\n",
       "      <td>0.064458</td>\n",
       "      <td>10.000000</td>\n",
       "      <td>11933.000000</td>\n",
       "      <td>8.777836</td>\n",
       "      <td>2003.000000</td>\n",
       "    </tr>\n",
       "    <tr>\n",
       "      <th>75%</th>\n",
       "      <td>5.000000e+07</td>\n",
       "      <td>6.571659e+07</td>\n",
       "      <td>117.000000</td>\n",
       "      <td>1.256960e+05</td>\n",
       "      <td>2010.000000</td>\n",
       "      <td>1.000000</td>\n",
       "      <td>1.069474</td>\n",
       "      <td>110.000000</td>\n",
       "      <td>40127.500000</td>\n",
       "      <td>11.930611</td>\n",
       "      <td>2010.000000</td>\n",
       "    </tr>\n",
       "    <tr>\n",
       "      <th>max</th>\n",
       "      <td>3.000000e+08</td>\n",
       "      <td>9.366622e+08</td>\n",
       "      <td>219.000000</td>\n",
       "      <td>1.861666e+06</td>\n",
       "      <td>2016.000000</td>\n",
       "      <td>1.000000</td>\n",
       "      <td>7193.587333</td>\n",
       "      <td>719360.000000</td>\n",
       "      <td>404378.000000</td>\n",
       "      <td>547.488298</td>\n",
       "      <td>2017.000000</td>\n",
       "    </tr>\n",
       "  </tbody>\n",
       "</table>\n",
       "</div>"
      ],
      "text/plain": [
       "             budget         gross      runtime         votes         year  \\\n",
       "count  3.136000e+03  3.136000e+03  3136.000000  3.136000e+03  3136.000000   \n",
       "mean   3.859966e+07  5.140497e+07   107.340561  1.073402e+05  1996.713329   \n",
       "std    4.168162e+07  6.928857e+07    18.487155  1.623381e+05   107.462775   \n",
       "min    0.000000e+00  0.000000e+00     0.000000  0.000000e+00     0.000000   \n",
       "25%    1.100000e+07  8.998127e+06    96.000000  1.859850e+04  1996.000000   \n",
       "50%    2.500000e+07  2.862322e+07   104.000000  5.132950e+04  2003.000000   \n",
       "75%    5.000000e+07  6.571659e+07   117.000000  1.256960e+05  2010.000000   \n",
       "max    3.000000e+08  9.366622e+08   219.000000  1.861666e+06  2016.000000   \n",
       "\n",
       "          isprofit  profitability_ratio  profitability_ratio_bucket  \\\n",
       "count  3136.000000          3136.000000                 3136.000000   \n",
       "mean      0.526467             4.405641                  440.518495   \n",
       "std       0.499379           135.536262                13553.649593   \n",
       "min       0.000000            -0.999979                 -100.000000   \n",
       "25%       0.000000            -0.504688                  -50.000000   \n",
       "50%       1.000000             0.064458                   10.000000   \n",
       "75%       1.000000             1.069474                  110.000000   \n",
       "max       1.000000          7193.587333               719360.000000   \n",
       "\n",
       "                  id   popularity  year_released  \n",
       "count    3136.000000  3136.000000    3136.000000  \n",
       "mean    44533.575255    10.205283    2002.584821  \n",
       "std     76072.815446    13.920346       8.389510  \n",
       "min         0.000000     0.000000    1986.000000  \n",
       "25%      8487.750000     6.142214    1996.000000  \n",
       "50%     11933.000000     8.777836    2003.000000  \n",
       "75%     40127.500000    11.930611    2010.000000  \n",
       "max    404378.000000   547.488298    2017.000000  "
      ]
     },
     "execution_count": 76,
     "metadata": {},
     "output_type": "execute_result"
    }
   ],
   "source": [
    "data_dropped.describe()   # after removing rows which include NaN"
   ]
  },
  {
   "cell_type": "code",
   "execution_count": 77,
   "metadata": {},
   "outputs": [
    {
     "data": {
      "text/plain": [
       "budget                         5.84\n",
       "gross                          7.71\n",
       "runtime                        0.14\n",
       "votes                          8.12\n",
       "year                          -0.02\n",
       "isprofit                       3.13\n",
       "profitability_ratio           10.23\n",
       "profitability_ratio_bucket    10.24\n",
       "id                            -2.00\n",
       "popularity                     4.29\n",
       "year_released                  0.01\n",
       "dtype: float64"
      ]
     },
     "execution_count": 77,
     "metadata": {},
     "output_type": "execute_result"
    }
   ],
   "source": [
    "# % change in means of columns before and after dropping missing-value rows\n",
    "change_in_means = ((data_dropped.mean() - df.mean()) / df.mean() * 100).round(2)\n",
    "change_in_means"
   ]
  },
  {
   "cell_type": "markdown",
   "metadata": {},
   "source": [
    "### Bar Chart of the Change in Means"
   ]
  },
  {
   "cell_type": "code",
   "execution_count": 79,
   "metadata": {},
   "outputs": [
    {
     "data": {
      "text/plain": [
       "Text(0, 0.5, '% change')"
      ]
     },
     "execution_count": 79,
     "metadata": {},
     "output_type": "execute_result"
    },
    {
     "data": {
      "image/png": "[encoded data removed]",
      "text/plain": [
       "<Figure size 648x288 with 1 Axes>"
      ]
     },
     "metadata": {},
     "output_type": "display_data"
    }
   ],
   "source": [
    "plt.figure(figsize=(9, 4))\n",
    "change_in_means.plot.bar(title='% change in average column values')\n",
    "plt.ylabel('% change')\n"
   ]
  },
  {
   "cell_type": "markdown",
   "metadata": {},
   "source": [
    "Figure 1: Percent change in average column values\n",
    "<p>Figure 1 shows the percent change in mean of columns before and after dropping missing-value rows.</p>"
   ]
  },
  {
   "cell_type": "markdown",
   "metadata": {},
   "source": [
    "## 2.4. Finding Outliers <a class=\"anchor\" id=\"24\"></a>"
   ]
  },
  {
   "cell_type": "markdown",
   "metadata": {},
   "source": [
    "### 2.4.1. IQR Score Method <a class=\"anchor\" id=\"241\"></a>"
   ]
  },
  {
   "cell_type": "code",
   "execution_count": 80,
   "metadata": {},
   "outputs": [
    {
     "name": "stdout",
     "output_type": "stream",
     "text": [
      "budget                        3.900000e+07\n",
      "gross                         5.671846e+07\n",
      "runtime                       2.100000e+01\n",
      "votes                         1.070975e+05\n",
      "year                          1.400000e+01\n",
      "isprofit                      1.000000e+00\n",
      "profitability_ratio           1.574162e+00\n",
      "profitability_ratio_bucket    1.600000e+02\n",
      "id                            3.163975e+04\n",
      "popularity                    5.788397e+00\n",
      "year_released                 1.400000e+01\n",
      "dtype: float64\n"
     ]
    }
   ],
   "source": [
    "Q1 = data_dropped.quantile(0.25)\n",
    "Q3 = data_dropped.quantile(0.75)\n",
    "IQR = Q3 - Q1\n",
    "print(IQR)"
   ]
  },
  {
   "cell_type": "code",
   "execution_count": 81,
   "metadata": {},
   "outputs": [
    {
     "name": "stdout",
     "output_type": "stream",
     "text": [
      "      budget  company  country  director  genre  genres_edited  gross     id  \\\n",
      "0      False    False    False     False  False          False  False  False   \n",
      "1      False    False    False     False  False          False  False  False   \n",
      "2      False    False    False     False  False          False   True  False   \n",
      "3      False    False    False     False  False          False  False  False   \n",
      "4      False    False    False     False  False          False  False  False   \n",
      "...      ...      ...      ...       ...    ...            ...    ...    ...   \n",
      "3131   False    False    False     False  False          False  False   True   \n",
      "3132   False    False    False     False  False          False  False   True   \n",
      "3133   False    False    False     False  False          False  False   True   \n",
      "3134   False    False    False     False  False          False  False   True   \n",
      "3135   False    False    False     False  False          False  False   True   \n",
      "\n",
      "      imdb_id  isprofit  ...  profitability_ratio  profitability_ratio_bucket  \\\n",
      "0       False     False  ...                 True                        True   \n",
      "1       False     False  ...                 True                        True   \n",
      "2       False     False  ...                 True                        True   \n",
      "3       False     False  ...                 True                        True   \n",
      "4       False     False  ...                False                       False   \n",
      "...       ...       ...  ...                  ...                         ...   \n",
      "3131    False     False  ...                False                       False   \n",
      "3132    False     False  ...                False                       False   \n",
      "3133    False     False  ...                 True                        True   \n",
      "3134    False     False  ...                False                       False   \n",
      "3135    False     False  ...                False                       False   \n",
      "\n",
      "      released  runtime  tagline  title  votes  writer   year  year_released  \n",
      "0        False    False    False  False   True   False  False          False  \n",
      "1        False    False    False  False  False   False  False          False  \n",
      "2        False    False    False  False  False   False  False          False  \n",
      "3        False    False    False  False   True   False  False          False  \n",
      "4        False    False    False  False  False   False  False          False  \n",
      "...        ...      ...      ...    ...    ...     ...    ...            ...  \n",
      "3131     False    False    False  False  False   False  False          False  \n",
      "3132     False    False    False  False  False   False  False          False  \n",
      "3133     False    False    False  False  False   False  False          False  \n",
      "3134     False    False    False  False  False   False  False          False  \n",
      "3135     False    False    False  False  False   False  False          False  \n",
      "\n",
      "[3136 rows x 24 columns]\n"
     ]
    },
    {
     "name": "stderr",
     "output_type": "stream",
     "text": [
      "c:\\users\\jaymish\\desktop\\pcs\\web2txt\\webapp\\venv\\lib\\site-packages\\ipykernel_launcher.py:1: FutureWarning: Automatic reindexing on DataFrame vs Series comparisons is deprecated and will raise ValueError in a future version.  Do `left, right = left.align(right, axis=1, copy=False)` before e.g. `left == right`\n",
      "  \"\"\"Entry point for launching an IPython kernel.\n",
      "c:\\users\\jaymish\\desktop\\pcs\\web2txt\\webapp\\venv\\lib\\site-packages\\ipykernel_launcher.py:1: FutureWarning: Automatic reindexing on DataFrame vs Series comparisons is deprecated and will raise ValueError in a future version.  Do `left, right = left.align(right, axis=1, copy=False)` before e.g. `left == right`\n",
      "  \"\"\"Entry point for launching an IPython kernel.\n"
     ]
    }
   ],
   "source": [
    "print((data_dropped < (Q1 - (1.5 * IQR))) | (data_dropped > (Q3 + (1.5 * IQR))))"
   ]
  },
  {
   "cell_type": "code",
   "execution_count": 82,
   "metadata": {},
   "outputs": [
    {
     "data": {
      "text/plain": [
       "(3136, 24)"
      ]
     },
     "execution_count": 82,
     "metadata": {},
     "output_type": "execute_result"
    }
   ],
   "source": [
    "data_dropped.shape"
   ]
  },
  {
   "cell_type": "code",
   "execution_count": 83,
   "metadata": {},
   "outputs": [
    {
     "name": "stderr",
     "output_type": "stream",
     "text": [
      "c:\\users\\jaymish\\desktop\\pcs\\web2txt\\webapp\\venv\\lib\\site-packages\\ipykernel_launcher.py:1: FutureWarning: Automatic reindexing on DataFrame vs Series comparisons is deprecated and will raise ValueError in a future version.  Do `left, right = left.align(right, axis=1, copy=False)` before e.g. `left == right`\n",
      "  \"\"\"Entry point for launching an IPython kernel.\n",
      "c:\\users\\jaymish\\desktop\\pcs\\web2txt\\webapp\\venv\\lib\\site-packages\\ipykernel_launcher.py:1: FutureWarning: Automatic reindexing on DataFrame vs Series comparisons is deprecated and will raise ValueError in a future version.  Do `left, right = left.align(right, axis=1, copy=False)` before e.g. `left == right`\n",
      "  \"\"\"Entry point for launching an IPython kernel.\n"
     ]
    }
   ],
   "source": [
    "data_dropped_outlier_IQR = data_dropped[~((data_dropped < (Q1 - 1.5 * IQR)) | (data_dropped > (Q3 + 1.5 * IQR))).any(axis=1)]"
   ]
  },
  {
   "cell_type": "code",
   "execution_count": 84,
   "metadata": {},
   "outputs": [
    {
     "data": {
      "text/plain": [
       "(2128, 24)"
      ]
     },
     "execution_count": 84,
     "metadata": {},
     "output_type": "execute_result"
    }
   ],
   "source": [
    "data_dropped_outlier_IQR.shape"
   ]
  },
  {
   "cell_type": "code",
   "execution_count": 85,
   "metadata": {},
   "outputs": [
    {
     "data": {
      "text/html": [
       "<div>\n",
       "<style scoped>\n",
       "    .dataframe tbody tr th:only-of-type {\n",
       "        vertical-align: middle;\n",
       "    }\n",
       "\n",
       "    .dataframe tbody tr th {\n",
       "        vertical-align: top;\n",
       "    }\n",
       "\n",
       "    .dataframe thead th {\n",
       "        text-align: right;\n",
       "    }\n",
       "</style>\n",
       "<table border=\"1\" class=\"dataframe\">\n",
       "  <thead>\n",
       "    <tr style=\"text-align: right;\">\n",
       "      <th></th>\n",
       "      <th>budget</th>\n",
       "      <th>company</th>\n",
       "      <th>country</th>\n",
       "      <th>director</th>\n",
       "      <th>genre</th>\n",
       "      <th>gross</th>\n",
       "      <th>name</th>\n",
       "      <th>released</th>\n",
       "      <th>runtime</th>\n",
       "      <th>votes</th>\n",
       "      <th>...</th>\n",
       "      <th>profitability_ratio_bucket</th>\n",
       "      <th>id</th>\n",
       "      <th>imdb_id</th>\n",
       "      <th>original_title</th>\n",
       "      <th>popularity</th>\n",
       "      <th>tagline</th>\n",
       "      <th>title</th>\n",
       "      <th>genres_edited</th>\n",
       "      <th>production_countries_edited</th>\n",
       "      <th>year_released</th>\n",
       "    </tr>\n",
       "  </thead>\n",
       "  <tbody>\n",
       "    <tr>\n",
       "      <th>0</th>\n",
       "      <td>9000000</td>\n",
       "      <td>Walt Disney Pictures</td>\n",
       "      <td>USA</td>\n",
       "      <td>Other</td>\n",
       "      <td>Adventure</td>\n",
       "      <td>18564613</td>\n",
       "      <td>Flight of the Navigator</td>\n",
       "      <td>1.08.1986 00:00</td>\n",
       "      <td>90</td>\n",
       "      <td>36636</td>\n",
       "      <td>...</td>\n",
       "      <td>110</td>\n",
       "      <td>10122</td>\n",
       "      <td>tt0091059</td>\n",
       "      <td>Flight of the Navigator</td>\n",
       "      <td>5.526865</td>\n",
       "      <td>Come along on the greatest adventure of the su...</td>\n",
       "      <td>Flight of the Navigator</td>\n",
       "      <td>Family, Science Fiction, Adventure</td>\n",
       "      <td>US</td>\n",
       "      <td>1986</td>\n",
       "    </tr>\n",
       "    <tr>\n",
       "      <th>1</th>\n",
       "      <td>6000000</td>\n",
       "      <td>Other</td>\n",
       "      <td>USA</td>\n",
       "      <td>Other</td>\n",
       "      <td>Drama</td>\n",
       "      <td>8551228</td>\n",
       "      <td>Blue Velvet</td>\n",
       "      <td>23.10.1986 00:00</td>\n",
       "      <td>120</td>\n",
       "      <td>146768</td>\n",
       "      <td>...</td>\n",
       "      <td>40</td>\n",
       "      <td>793</td>\n",
       "      <td>tt0090756</td>\n",
       "      <td>Blue Velvet</td>\n",
       "      <td>7.882247</td>\n",
       "      <td>It's a strange world.</td>\n",
       "      <td>Blue Velvet</td>\n",
       "      <td>Crime, Drama, Mystery, Thriller</td>\n",
       "      <td>US</td>\n",
       "      <td>1986</td>\n",
       "    </tr>\n",
       "    <tr>\n",
       "      <th>2</th>\n",
       "      <td>16000000</td>\n",
       "      <td>Other</td>\n",
       "      <td>Other</td>\n",
       "      <td>Other</td>\n",
       "      <td>Action</td>\n",
       "      <td>5900000</td>\n",
       "      <td>Highlander</td>\n",
       "      <td>7.03.1986 00:00</td>\n",
       "      <td>116</td>\n",
       "      <td>104860</td>\n",
       "      <td>...</td>\n",
       "      <td>-60</td>\n",
       "      <td>8009</td>\n",
       "      <td>tt0091203</td>\n",
       "      <td>Highlander</td>\n",
       "      <td>16.870392</td>\n",
       "      <td>There can be only one.</td>\n",
       "      <td>Highlander</td>\n",
       "      <td>Adventure, Action, Fantasy</td>\n",
       "      <td>GB, US</td>\n",
       "      <td>1986</td>\n",
       "    </tr>\n",
       "    <tr>\n",
       "      <th>3</th>\n",
       "      <td>6000000</td>\n",
       "      <td>Twentieth Century Fox Film Corporation</td>\n",
       "      <td>USA</td>\n",
       "      <td>Other</td>\n",
       "      <td>Comedy</td>\n",
       "      <td>8200000</td>\n",
       "      <td>Lucas</td>\n",
       "      <td>28.03.1986 00:00</td>\n",
       "      <td>100</td>\n",
       "      <td>12228</td>\n",
       "      <td>...</td>\n",
       "      <td>40</td>\n",
       "      <td>13346</td>\n",
       "      <td>tt0091445</td>\n",
       "      <td>Lucas</td>\n",
       "      <td>4.575350</td>\n",
       "      <td>It's about falling in love.  For the first time.</td>\n",
       "      <td>Lucas</td>\n",
       "      <td>Comedy, Drama, Romance</td>\n",
       "      <td>US</td>\n",
       "      <td>1986</td>\n",
       "    </tr>\n",
       "    <tr>\n",
       "      <th>4</th>\n",
       "      <td>25000000</td>\n",
       "      <td>Twentieth Century Fox Film Corporation</td>\n",
       "      <td>USA</td>\n",
       "      <td>Other</td>\n",
       "      <td>Action</td>\n",
       "      <td>11100000</td>\n",
       "      <td>Big Trouble in Little China</td>\n",
       "      <td>2.07.1986 00:00</td>\n",
       "      <td>99</td>\n",
       "      <td>101678</td>\n",
       "      <td>...</td>\n",
       "      <td>-60</td>\n",
       "      <td>6978</td>\n",
       "      <td>tt0090728</td>\n",
       "      <td>Big Trouble in Little China</td>\n",
       "      <td>11.109932</td>\n",
       "      <td>Adventure doesn't come any bigger!</td>\n",
       "      <td>Big Trouble in Little China</td>\n",
       "      <td>Action, Adventure, Comedy, Fantasy</td>\n",
       "      <td>US</td>\n",
       "      <td>1986</td>\n",
       "    </tr>\n",
       "    <tr>\n",
       "      <th>...</th>\n",
       "      <td>...</td>\n",
       "      <td>...</td>\n",
       "      <td>...</td>\n",
       "      <td>...</td>\n",
       "      <td>...</td>\n",
       "      <td>...</td>\n",
       "      <td>...</td>\n",
       "      <td>...</td>\n",
       "      <td>...</td>\n",
       "      <td>...</td>\n",
       "      <td>...</td>\n",
       "      <td>...</td>\n",
       "      <td>...</td>\n",
       "      <td>...</td>\n",
       "      <td>...</td>\n",
       "      <td>...</td>\n",
       "      <td>...</td>\n",
       "      <td>...</td>\n",
       "      <td>...</td>\n",
       "      <td>...</td>\n",
       "      <td>...</td>\n",
       "    </tr>\n",
       "    <tr>\n",
       "      <th>2123</th>\n",
       "      <td>70000000</td>\n",
       "      <td>Universal Pictures</td>\n",
       "      <td>USA</td>\n",
       "      <td>Other</td>\n",
       "      <td>Action</td>\n",
       "      <td>56280355</td>\n",
       "      <td>Dracula Untold</td>\n",
       "      <td>10.10.2014 00:00</td>\n",
       "      <td>92</td>\n",
       "      <td>152210</td>\n",
       "      <td>...</td>\n",
       "      <td>-20</td>\n",
       "      <td>49017</td>\n",
       "      <td>tt0829150</td>\n",
       "      <td>Dracula Untold</td>\n",
       "      <td>16.316318</td>\n",
       "      <td>Every bloodline has a beginning</td>\n",
       "      <td>Dracula Untold</td>\n",
       "      <td>Horror, Action, Drama, Fantasy, War</td>\n",
       "      <td>US</td>\n",
       "      <td>2014</td>\n",
       "    </tr>\n",
       "    <tr>\n",
       "      <th>2124</th>\n",
       "      <td>95000000</td>\n",
       "      <td>Other</td>\n",
       "      <td>USA</td>\n",
       "      <td>Other</td>\n",
       "      <td>Action</td>\n",
       "      <td>17223265</td>\n",
       "      <td>Seventh Son</td>\n",
       "      <td>6.02.2015 00:00</td>\n",
       "      <td>102</td>\n",
       "      <td>61441</td>\n",
       "      <td>...</td>\n",
       "      <td>-80</td>\n",
       "      <td>68737</td>\n",
       "      <td>tt1121096</td>\n",
       "      <td>Seventh Son</td>\n",
       "      <td>15.297821</td>\n",
       "      <td>When darkness falls, the son will rise. When t...</td>\n",
       "      <td>Seventh Son</td>\n",
       "      <td>Adventure, Fantasy</td>\n",
       "      <td>CN, CA, US, GB</td>\n",
       "      <td>2015</td>\n",
       "    </tr>\n",
       "    <tr>\n",
       "      <th>2125</th>\n",
       "      <td>24000000</td>\n",
       "      <td>Other</td>\n",
       "      <td>USA</td>\n",
       "      <td>Other</td>\n",
       "      <td>Biography</td>\n",
       "      <td>12096300</td>\n",
       "      <td>Foxcatcher</td>\n",
       "      <td>16.01.2015 00:00</td>\n",
       "      <td>134</td>\n",
       "      <td>117034</td>\n",
       "      <td>...</td>\n",
       "      <td>-50</td>\n",
       "      <td>87492</td>\n",
       "      <td>tt1100089</td>\n",
       "      <td>Foxcatcher</td>\n",
       "      <td>8.103570</td>\n",
       "      <td>Based on the shocking true story</td>\n",
       "      <td>Foxcatcher</td>\n",
       "      <td>Drama, Thriller</td>\n",
       "      <td>US</td>\n",
       "      <td>2015</td>\n",
       "    </tr>\n",
       "    <tr>\n",
       "      <th>2126</th>\n",
       "      <td>10000000</td>\n",
       "      <td>Other</td>\n",
       "      <td>USA</td>\n",
       "      <td>Tim Burton</td>\n",
       "      <td>Biography</td>\n",
       "      <td>14479776</td>\n",
       "      <td>Big Eyes</td>\n",
       "      <td>25.12.2014 00:00</td>\n",
       "      <td>106</td>\n",
       "      <td>66972</td>\n",
       "      <td>...</td>\n",
       "      <td>40</td>\n",
       "      <td>87093</td>\n",
       "      <td>tt1126590</td>\n",
       "      <td>Big Eyes</td>\n",
       "      <td>7.412826</td>\n",
       "      <td>She created it. He sold it. And they bought it.</td>\n",
       "      <td>Big Eyes</td>\n",
       "      <td>Drama</td>\n",
       "      <td>CA, US</td>\n",
       "      <td>2014</td>\n",
       "    </tr>\n",
       "    <tr>\n",
       "      <th>2127</th>\n",
       "      <td>28000000</td>\n",
       "      <td>Other</td>\n",
       "      <td>USA</td>\n",
       "      <td>Other</td>\n",
       "      <td>Comedy</td>\n",
       "      <td>6998324</td>\n",
       "      <td>Our Brand Is Crisis</td>\n",
       "      <td>30.10.2015 00:00</td>\n",
       "      <td>107</td>\n",
       "      <td>16204</td>\n",
       "      <td>...</td>\n",
       "      <td>-80</td>\n",
       "      <td>10317</td>\n",
       "      <td>tt1018765</td>\n",
       "      <td>Our Brand Is Crisis</td>\n",
       "      <td>12.158176</td>\n",
       "      <td>May the best campaign win.</td>\n",
       "      <td>Our Brand Is Crisis</td>\n",
       "      <td>Comedy, Drama</td>\n",
       "      <td>US</td>\n",
       "      <td>2015</td>\n",
       "    </tr>\n",
       "  </tbody>\n",
       "</table>\n",
       "<p>2128 rows × 24 columns</p>\n",
       "</div>"
      ],
      "text/plain": [
       "        budget                                 company country    director  \\\n",
       "0      9000000                    Walt Disney Pictures     USA       Other   \n",
       "1      6000000                                   Other     USA       Other   \n",
       "2     16000000                                   Other   Other       Other   \n",
       "3      6000000  Twentieth Century Fox Film Corporation     USA       Other   \n",
       "4     25000000  Twentieth Century Fox Film Corporation     USA       Other   \n",
       "...        ...                                     ...     ...         ...   \n",
       "2123  70000000                      Universal Pictures     USA       Other   \n",
       "2124  95000000                                   Other     USA       Other   \n",
       "2125  24000000                                   Other     USA       Other   \n",
       "2126  10000000                                   Other     USA  Tim Burton   \n",
       "2127  28000000                                   Other     USA       Other   \n",
       "\n",
       "          genre     gross                         name          released  \\\n",
       "0     Adventure  18564613      Flight of the Navigator   1.08.1986 00:00   \n",
       "1         Drama   8551228                  Blue Velvet  23.10.1986 00:00   \n",
       "2        Action   5900000                   Highlander   7.03.1986 00:00   \n",
       "3        Comedy   8200000                        Lucas  28.03.1986 00:00   \n",
       "4        Action  11100000  Big Trouble in Little China   2.07.1986 00:00   \n",
       "...         ...       ...                          ...               ...   \n",
       "2123     Action  56280355               Dracula Untold  10.10.2014 00:00   \n",
       "2124     Action  17223265                  Seventh Son   6.02.2015 00:00   \n",
       "2125  Biography  12096300                   Foxcatcher  16.01.2015 00:00   \n",
       "2126  Biography  14479776                     Big Eyes  25.12.2014 00:00   \n",
       "2127     Comedy   6998324          Our Brand Is Crisis  30.10.2015 00:00   \n",
       "\n",
       "      runtime   votes  ... profitability_ratio_bucket     id    imdb_id  \\\n",
       "0          90   36636  ...                        110  10122  tt0091059   \n",
       "1         120  146768  ...                         40    793  tt0090756   \n",
       "2         116  104860  ...                        -60   8009  tt0091203   \n",
       "3         100   12228  ...                         40  13346  tt0091445   \n",
       "4          99  101678  ...                        -60   6978  tt0090728   \n",
       "...       ...     ...  ...                        ...    ...        ...   \n",
       "2123       92  152210  ...                        -20  49017  tt0829150   \n",
       "2124      102   61441  ...                        -80  68737  tt1121096   \n",
       "2125      134  117034  ...                        -50  87492  tt1100089   \n",
       "2126      106   66972  ...                         40  87093  tt1126590   \n",
       "2127      107   16204  ...                        -80  10317  tt1018765   \n",
       "\n",
       "                   original_title  popularity  \\\n",
       "0         Flight of the Navigator    5.526865   \n",
       "1                     Blue Velvet    7.882247   \n",
       "2                      Highlander   16.870392   \n",
       "3                           Lucas    4.575350   \n",
       "4     Big Trouble in Little China   11.109932   \n",
       "...                           ...         ...   \n",
       "2123               Dracula Untold   16.316318   \n",
       "2124                  Seventh Son   15.297821   \n",
       "2125                   Foxcatcher    8.103570   \n",
       "2126                     Big Eyes    7.412826   \n",
       "2127          Our Brand Is Crisis   12.158176   \n",
       "\n",
       "                                                tagline  \\\n",
       "0     Come along on the greatest adventure of the su...   \n",
       "1                                 It's a strange world.   \n",
       "2                                There can be only one.   \n",
       "3      It's about falling in love.  For the first time.   \n",
       "4                    Adventure doesn't come any bigger!   \n",
       "...                                                 ...   \n",
       "2123                    Every bloodline has a beginning   \n",
       "2124  When darkness falls, the son will rise. When t...   \n",
       "2125                   Based on the shocking true story   \n",
       "2126    She created it. He sold it. And they bought it.   \n",
       "2127                         May the best campaign win.   \n",
       "\n",
       "                            title                        genres_edited  \\\n",
       "0         Flight of the Navigator   Family, Science Fiction, Adventure   \n",
       "1                     Blue Velvet      Crime, Drama, Mystery, Thriller   \n",
       "2                      Highlander           Adventure, Action, Fantasy   \n",
       "3                           Lucas               Comedy, Drama, Romance   \n",
       "4     Big Trouble in Little China   Action, Adventure, Comedy, Fantasy   \n",
       "...                           ...                                  ...   \n",
       "2123               Dracula Untold  Horror, Action, Drama, Fantasy, War   \n",
       "2124                  Seventh Son                   Adventure, Fantasy   \n",
       "2125                   Foxcatcher                      Drama, Thriller   \n",
       "2126                     Big Eyes                                Drama   \n",
       "2127          Our Brand Is Crisis                        Comedy, Drama   \n",
       "\n",
       "      production_countries_edited year_released  \n",
       "0                              US          1986  \n",
       "1                              US          1986  \n",
       "2                          GB, US          1986  \n",
       "3                              US          1986  \n",
       "4                              US          1986  \n",
       "...                           ...           ...  \n",
       "2123                           US          2014  \n",
       "2124               CN, CA, US, GB          2015  \n",
       "2125                           US          2015  \n",
       "2126                       CA, US          2014  \n",
       "2127                           US          2015  \n",
       "\n",
       "[2128 rows x 24 columns]"
      ]
     },
     "execution_count": 85,
     "metadata": {},
     "output_type": "execute_result"
    }
   ],
   "source": [
    "data_dropped_outlier_IQR = data_dropped_outlier_IQR.reset_index()\n",
    "del data_dropped_outlier_IQR['index']\n",
    "data_dropped_outlier_IQR"
   ]
  },
  {
   "cell_type": "code",
   "execution_count": 86,
   "metadata": {},
   "outputs": [
    {
     "data": {
      "text/html": [
       "<div>\n",
       "<style scoped>\n",
       "    .dataframe tbody tr th:only-of-type {\n",
       "        vertical-align: middle;\n",
       "    }\n",
       "\n",
       "    .dataframe tbody tr th {\n",
       "        vertical-align: top;\n",
       "    }\n",
       "\n",
       "    .dataframe thead th {\n",
       "        text-align: right;\n",
       "    }\n",
       "</style>\n",
       "<table border=\"1\" class=\"dataframe\">\n",
       "  <thead>\n",
       "    <tr style=\"text-align: right;\">\n",
       "      <th></th>\n",
       "      <th>budget</th>\n",
       "      <th>gross</th>\n",
       "      <th>runtime</th>\n",
       "      <th>votes</th>\n",
       "      <th>year</th>\n",
       "      <th>isprofit</th>\n",
       "      <th>profitability_ratio</th>\n",
       "      <th>profitability_ratio_bucket</th>\n",
       "      <th>id</th>\n",
       "      <th>popularity</th>\n",
       "      <th>year_released</th>\n",
       "    </tr>\n",
       "  </thead>\n",
       "  <tbody>\n",
       "    <tr>\n",
       "      <th>count</th>\n",
       "      <td>2.128000e+03</td>\n",
       "      <td>2.128000e+03</td>\n",
       "      <td>2128.000000</td>\n",
       "      <td>2128.000000</td>\n",
       "      <td>2128.000000</td>\n",
       "      <td>2128.000000</td>\n",
       "      <td>2128.000000</td>\n",
       "      <td>2128.000000</td>\n",
       "      <td>2128.000000</td>\n",
       "      <td>2128.000000</td>\n",
       "      <td>2128.000000</td>\n",
       "    </tr>\n",
       "    <tr>\n",
       "      <th>mean</th>\n",
       "      <td>2.973382e+07</td>\n",
       "      <td>3.089648e+07</td>\n",
       "      <td>104.856203</td>\n",
       "      <td>57913.900846</td>\n",
       "      <td>2000.263158</td>\n",
       "      <td>0.448778</td>\n",
       "      <td>0.142902</td>\n",
       "      <td>14.261278</td>\n",
       "      <td>18176.117481</td>\n",
       "      <td>7.986923</td>\n",
       "      <td>2000.407425</td>\n",
       "    </tr>\n",
       "    <tr>\n",
       "      <th>std</th>\n",
       "      <td>2.336575e+07</td>\n",
       "      <td>3.097718e+07</td>\n",
       "      <td>14.085340</td>\n",
       "      <td>60278.475392</td>\n",
       "      <td>7.264194</td>\n",
       "      <td>0.497486</td>\n",
       "      <td>0.981796</td>\n",
       "      <td>98.265376</td>\n",
       "      <td>18249.650742</td>\n",
       "      <td>3.574890</td>\n",
       "      <td>7.315438</td>\n",
       "    </tr>\n",
       "    <tr>\n",
       "      <th>min</th>\n",
       "      <td>5.000000e+04</td>\n",
       "      <td>3.090000e+02</td>\n",
       "      <td>69.000000</td>\n",
       "      <td>704.000000</td>\n",
       "      <td>1986.000000</td>\n",
       "      <td>0.000000</td>\n",
       "      <td>-0.999979</td>\n",
       "      <td>-100.000000</td>\n",
       "      <td>5.000000</td>\n",
       "      <td>0.000578</td>\n",
       "      <td>1986.000000</td>\n",
       "    </tr>\n",
       "    <tr>\n",
       "      <th>25%</th>\n",
       "      <td>1.200000e+07</td>\n",
       "      <td>6.594533e+06</td>\n",
       "      <td>95.000000</td>\n",
       "      <td>14275.000000</td>\n",
       "      <td>1995.000000</td>\n",
       "      <td>0.000000</td>\n",
       "      <td>-0.584004</td>\n",
       "      <td>-60.000000</td>\n",
       "      <td>8864.250000</td>\n",
       "      <td>5.535085</td>\n",
       "      <td>1995.000000</td>\n",
       "    </tr>\n",
       "    <tr>\n",
       "      <th>50%</th>\n",
       "      <td>2.400000e+07</td>\n",
       "      <td>2.099714e+07</td>\n",
       "      <td>102.000000</td>\n",
       "      <td>35855.500000</td>\n",
       "      <td>2001.000000</td>\n",
       "      <td>0.000000</td>\n",
       "      <td>-0.118160</td>\n",
       "      <td>-10.000000</td>\n",
       "      <td>11255.500000</td>\n",
       "      <td>7.758758</td>\n",
       "      <td>2001.000000</td>\n",
       "    </tr>\n",
       "    <tr>\n",
       "      <th>75%</th>\n",
       "      <td>4.000000e+07</td>\n",
       "      <td>4.550808e+07</td>\n",
       "      <td>114.000000</td>\n",
       "      <td>80594.000000</td>\n",
       "      <td>2006.000000</td>\n",
       "      <td>1.000000</td>\n",
       "      <td>0.615320</td>\n",
       "      <td>60.000000</td>\n",
       "      <td>21894.000000</td>\n",
       "      <td>10.393513</td>\n",
       "      <td>2007.000000</td>\n",
       "    </tr>\n",
       "    <tr>\n",
       "      <th>max</th>\n",
       "      <td>1.050000e+08</td>\n",
       "      <td>1.484780e+08</td>\n",
       "      <td>147.000000</td>\n",
       "      <td>286238.000000</td>\n",
       "      <td>2015.000000</td>\n",
       "      <td>1.000000</td>\n",
       "      <td>3.399053</td>\n",
       "      <td>340.000000</td>\n",
       "      <td>87567.000000</td>\n",
       "      <td>19.420510</td>\n",
       "      <td>2015.000000</td>\n",
       "    </tr>\n",
       "  </tbody>\n",
       "</table>\n",
       "</div>"
      ],
      "text/plain": [
       "             budget         gross      runtime          votes         year  \\\n",
       "count  2.128000e+03  2.128000e+03  2128.000000    2128.000000  2128.000000   \n",
       "mean   2.973382e+07  3.089648e+07   104.856203   57913.900846  2000.263158   \n",
       "std    2.336575e+07  3.097718e+07    14.085340   60278.475392     7.264194   \n",
       "min    5.000000e+04  3.090000e+02    69.000000     704.000000  1986.000000   \n",
       "25%    1.200000e+07  6.594533e+06    95.000000   14275.000000  1995.000000   \n",
       "50%    2.400000e+07  2.099714e+07   102.000000   35855.500000  2001.000000   \n",
       "75%    4.000000e+07  4.550808e+07   114.000000   80594.000000  2006.000000   \n",
       "max    1.050000e+08  1.484780e+08   147.000000  286238.000000  2015.000000   \n",
       "\n",
       "          isprofit  profitability_ratio  profitability_ratio_bucket  \\\n",
       "count  2128.000000          2128.000000                 2128.000000   \n",
       "mean      0.448778             0.142902                   14.261278   \n",
       "std       0.497486             0.981796                   98.265376   \n",
       "min       0.000000            -0.999979                 -100.000000   \n",
       "25%       0.000000            -0.584004                  -60.000000   \n",
       "50%       0.000000            -0.118160                  -10.000000   \n",
       "75%       1.000000             0.615320                   60.000000   \n",
       "max       1.000000             3.399053                  340.000000   \n",
       "\n",
       "                 id   popularity  year_released  \n",
       "count   2128.000000  2128.000000    2128.000000  \n",
       "mean   18176.117481     7.986923    2000.407425  \n",
       "std    18249.650742     3.574890       7.315438  \n",
       "min        5.000000     0.000578    1986.000000  \n",
       "25%     8864.250000     5.535085    1995.000000  \n",
       "50%    11255.500000     7.758758    2001.000000  \n",
       "75%    21894.000000    10.393513    2007.000000  \n",
       "max    87567.000000    19.420510    2015.000000  "
      ]
     },
     "execution_count": 86,
     "metadata": {},
     "output_type": "execute_result"
    }
   ],
   "source": [
    "data_dropped_outlier_IQR.describe()"
   ]
  },
  {
   "cell_type": "markdown",
   "metadata": {},
   "source": [
    "## 2.5. Box Plot <a class=\"anchor\" id=\"25\"></a>"
   ]
  },
  {
   "cell_type": "markdown",
   "metadata": {},
   "source": [
    "### Boxplot of Initial Data"
   ]
  },
  {
   "cell_type": "code",
   "execution_count": 87,
   "metadata": {},
   "outputs": [
    {
     "data": {
      "text/plain": [
       "<AxesSubplot:>"
      ]
     },
     "execution_count": 87,
     "metadata": {},
     "output_type": "execute_result"
    },
    {
     "data": {
      "image/png": "[encoded data removed]",
      "text/plain": [
       "<Figure size 2304x1008 with 1 Axes>"
      ]
     },
     "metadata": {},
     "output_type": "display_data"
    }
   ],
   "source": [
    "df.plot(x=df.index.name, kind='box', figsize=(32, 14))"
   ]
  },
  {
   "cell_type": "markdown",
   "metadata": {},
   "source": [
    "Figure 2: Data Distribution before Cleaning\n",
    "<p>Figure 2 shows the distribution of the data before dropping rows. The graph represents five number summary: “minimum, first quartile, median, third quartile, and ''maximum”. The ends of the box are the quartiles, Q1 and Q3, while the box length is interquartile range (IQR). Two lines (called whiskers) outside the box extend to the smallest (Minimum) and largest (Maximum) observations. The circles are the outliers.</p>"
   ]
  },
  {
   "cell_type": "markdown",
   "metadata": {},
   "source": [
    "### Boxplot of Dropped Data"
   ]
  },
  {
   "cell_type": "code",
   "execution_count": 88,
   "metadata": {},
   "outputs": [
    {
     "data": {
      "text/plain": [
       "<AxesSubplot:>"
      ]
     },
     "execution_count": 88,
     "metadata": {},
     "output_type": "execute_result"
    },
    {
     "data": {
      "image/png": "[encoded data removed]",
      "text/plain": [
       "<Figure size 2304x1008 with 1 Axes>"
      ]
     },
     "metadata": {},
     "output_type": "display_data"
    }
   ],
   "source": [
    "data_dropped.plot(x=data_dropped.index.name, kind='box', figsize=(32, 14))"
   ]
  },
  {
   "cell_type": "markdown",
   "metadata": {},
   "source": [
    "Figure 3: Data Distribution of Dropped Data\n",
    "<p>Figure 3 shows the distibution of data after dropping rows with the value NaN. The graph represents five number summary: “minimum, first quartile, median, third quartile, and ''maximum”. The ends of the box are the quartiles, Q1 and Q3, while the box length is interquartile range (IQR). Two lines (called whiskers) outside the box extend to the smallest (Minimum) and largest (Maximum) observations. The circles are the outliers.</p>"
   ]
  },
  {
   "cell_type": "markdown",
   "metadata": {},
   "source": [
    "### Boxplot of Dropped Outlier Data"
   ]
  },
  {
   "cell_type": "code",
   "execution_count": 89,
   "metadata": {},
   "outputs": [
    {
     "data": {
      "text/plain": [
       "<AxesSubplot:>"
      ]
     },
     "execution_count": 89,
     "metadata": {},
     "output_type": "execute_result"
    },
    {
     "data": {
      "image/png": "[encoded data removed]",
      "text/plain": [
       "<Figure size 3312x1008 with 1 Axes>"
      ]
     },
     "metadata": {},
     "output_type": "display_data"
    }
   ],
   "source": [
    "data_dropped_outlier_IQR.plot(x=data_dropped_outlier_IQR.index.name, kind='box', figsize=(46, 14))"
   ]
  },
  {
   "cell_type": "markdown",
   "metadata": {},
   "source": [
    "Figure 4: Data Distribution of Outlier Data\n",
    "<p>Figure 4 shows the distributoion of data after dropping outliers. The graph represents five number summary: “minimum, first quartile, median, third quartile, and ''maximum”. The ends of the box are the quartiles, Q1 and Q3, while the box length is interquartile range (IQR). Two lines (called whiskers) outside the box extend to the smallest (Minimum) and largest (Maximum) observations. The circles are the outliers.</p>"
   ]
  },
  {
   "cell_type": "markdown",
   "metadata": {},
   "source": [
    "# 3. Data Transformation <a class=\"anchor\" id=\"3\"></a>"
   ]
  },
  {
   "cell_type": "markdown",
   "metadata": {},
   "source": [
    "Our data has the following columns that we can perform transformation on:\n",
    "* budget\n",
    "* runtime\n",
    "* score\n",
    "* votes\n",
    "* popularity\n",
    "\n",
    "<p>\n",
    "> We want to discretize and normalize the data so it will be ready for the modeling stage.\n",
    "<br><br>\n",
    "> After writing some general functions, we will perform the transformations one by one.\n",
    "</p>"
   ]
  },
  {
   "cell_type": "markdown",
   "metadata": {},
   "source": [
    "## 3.1. Binning <a class=\"anchor\" id=\"31\"></a>"
   ]
  },
  {
   "cell_type": "markdown",
   "metadata": {},
   "source": [
    "Below, we iterate over all continuous features and use binning to discretize the data. At the end, we summarize the results by indicating the 4 intervals that our data was partitioned into."
   ]
  },
  {
   "cell_type": "code",
   "execution_count": 90,
   "metadata": {},
   "outputs": [
    {
     "data": {
      "text/plain": [
       "count    2.128000e+03\n",
       "mean     2.973382e+07\n",
       "std      2.336575e+07\n",
       "min      5.000000e+04\n",
       "25%      1.200000e+07\n",
       "50%      2.400000e+07\n",
       "75%      4.000000e+07\n",
       "max      1.050000e+08\n",
       "Name: budget, dtype: float64"
      ]
     },
     "metadata": {},
     "output_type": "display_data"
    },
    {
     "data": {
      "text/plain": [
       "0         (49999.999, 12000000.0]\n",
       "1         (49999.999, 12000000.0]\n",
       "2        (12000000.0, 24000000.0]\n",
       "3         (49999.999, 12000000.0]\n",
       "4        (24000000.0, 40000000.0]\n",
       "                  ...            \n",
       "2123    (40000000.0, 105000000.0]\n",
       "2124    (40000000.0, 105000000.0]\n",
       "2125     (12000000.0, 24000000.0]\n",
       "2126      (49999.999, 12000000.0]\n",
       "2127     (24000000.0, 40000000.0]\n",
       "Name: budget, Length: 2128, dtype: category\n",
       "Categories (4, interval[float64]): [(49999.999, 12000000.0] < (12000000.0, 24000000.0] < (24000000.0, 40000000.0] < (40000000.0, 105000000.0]]"
      ]
     },
     "metadata": {},
     "output_type": "display_data"
    },
    {
     "data": {
      "text/plain": [
       "(49999.999, 12000000.0]      561\n",
       "(24000000.0, 40000000.0]     529\n",
       "(40000000.0, 105000000.0]    524\n",
       "(12000000.0, 24000000.0]     514\n",
       "Name: budget, dtype: int64"
      ]
     },
     "metadata": {},
     "output_type": "display_data"
    },
    {
     "data": {
      "text/plain": [
       "count    2128.000000\n",
       "mean      104.856203\n",
       "std        14.085340\n",
       "min        69.000000\n",
       "25%        95.000000\n",
       "50%       102.000000\n",
       "75%       114.000000\n",
       "max       147.000000\n",
       "Name: runtime, dtype: float64"
      ]
     },
     "metadata": {},
     "output_type": "display_data"
    },
    {
     "data": {
      "text/plain": [
       "0       (68.999, 95.0]\n",
       "1       (114.0, 147.0]\n",
       "2       (114.0, 147.0]\n",
       "3        (95.0, 102.0]\n",
       "4        (95.0, 102.0]\n",
       "             ...      \n",
       "2123    (68.999, 95.0]\n",
       "2124     (95.0, 102.0]\n",
       "2125    (114.0, 147.0]\n",
       "2126    (102.0, 114.0]\n",
       "2127    (102.0, 114.0]\n",
       "Name: runtime, Length: 2128, dtype: category\n",
       "Categories (4, interval[float64]): [(68.999, 95.0] < (95.0, 102.0] < (102.0, 114.0] < (114.0, 147.0]]"
      ]
     },
     "metadata": {},
     "output_type": "display_data"
    },
    {
     "data": {
      "text/plain": [
       "(68.999, 95.0]    561\n",
       "(102.0, 114.0]    541\n",
       "(95.0, 102.0]     518\n",
       "(114.0, 147.0]    508\n",
       "Name: runtime, dtype: int64"
      ]
     },
     "metadata": {},
     "output_type": "display_data"
    },
    {
     "data": {
      "text/plain": [
       "count      2128.000000\n",
       "mean      57913.900846\n",
       "std       60278.475392\n",
       "min         704.000000\n",
       "25%       14275.000000\n",
       "50%       35855.500000\n",
       "75%       80594.000000\n",
       "max      286238.000000\n",
       "Name: votes, dtype: float64"
      ]
     },
     "metadata": {},
     "output_type": "display_data"
    },
    {
     "data": {
      "text/plain": [
       "0        (35855.5, 80594.0]\n",
       "1       (80594.0, 286238.0]\n",
       "2       (80594.0, 286238.0]\n",
       "3        (703.999, 14275.0]\n",
       "4       (80594.0, 286238.0]\n",
       "               ...         \n",
       "2123    (80594.0, 286238.0]\n",
       "2124     (35855.5, 80594.0]\n",
       "2125    (80594.0, 286238.0]\n",
       "2126     (35855.5, 80594.0]\n",
       "2127     (14275.0, 35855.5]\n",
       "Name: votes, Length: 2128, dtype: category\n",
       "Categories (4, interval[float64]): [(703.999, 14275.0] < (14275.0, 35855.5] < (35855.5, 80594.0] < (80594.0, 286238.0]]"
      ]
     },
     "metadata": {},
     "output_type": "display_data"
    },
    {
     "data": {
      "text/plain": [
       "(703.999, 14275.0]     532\n",
       "(14275.0, 35855.5]     532\n",
       "(35855.5, 80594.0]     532\n",
       "(80594.0, 286238.0]    532\n",
       "Name: votes, dtype: int64"
      ]
     },
     "metadata": {},
     "output_type": "display_data"
    },
    {
     "data": {
      "text/plain": [
       "count    2128.000000\n",
       "mean        7.986923\n",
       "std         3.574890\n",
       "min         0.000578\n",
       "25%         5.535085\n",
       "50%         7.758758\n",
       "75%        10.393513\n",
       "max        19.420510\n",
       "Name: popularity, dtype: float64"
      ]
     },
     "metadata": {},
     "output_type": "display_data"
    },
    {
     "data": {
      "text/plain": [
       "0       (-0.00042200000000000007, 5.535]\n",
       "1                        (7.759, 10.394]\n",
       "2                       (10.394, 19.421]\n",
       "3       (-0.00042200000000000007, 5.535]\n",
       "4                       (10.394, 19.421]\n",
       "                      ...               \n",
       "2123                    (10.394, 19.421]\n",
       "2124                    (10.394, 19.421]\n",
       "2125                     (7.759, 10.394]\n",
       "2126                      (5.535, 7.759]\n",
       "2127                    (10.394, 19.421]\n",
       "Name: popularity, Length: 2128, dtype: category\n",
       "Categories (4, interval[float64]): [(-0.00042200000000000007, 5.535] < (5.535, 7.759] < (7.759, 10.394] < (10.394, 19.421]]"
      ]
     },
     "metadata": {},
     "output_type": "display_data"
    },
    {
     "data": {
      "text/plain": [
       "(-0.00042200000000000007, 5.535]    532\n",
       "(5.535, 7.759]                      532\n",
       "(7.759, 10.394]                     532\n",
       "(10.394, 19.421]                    532\n",
       "Name: popularity, dtype: int64"
      ]
     },
     "metadata": {},
     "output_type": "display_data"
    }
   ],
   "source": [
    "for i in continuous_features:\n",
    "    display(data_dropped_outlier_IQR[i].describe())\n",
    "\n",
    "    display(pd.qcut(data_dropped_outlier_IQR[i], q=4))\n",
    "\n",
    "    display(pd.qcut(data_dropped_outlier_IQR[i], q=4).value_counts())"
   ]
  },
  {
   "cell_type": "markdown",
   "metadata": {},
   "source": [
    "## 3.2. Normalization <a class=\"anchor\" id=\"32\"></a>"
   ]
  },
  {
   "cell_type": "markdown",
   "metadata": {},
   "source": [
    "### 3.2.1. Z-score Method <a class=\"anchor\" id=\"321\"></a>"
   ]
  },
  {
   "cell_type": "code",
   "execution_count": 91,
   "metadata": {},
   "outputs": [
    {
     "data": {
      "text/html": [
       "<div>\n",
       "<style scoped>\n",
       "    .dataframe tbody tr th:only-of-type {\n",
       "        vertical-align: middle;\n",
       "    }\n",
       "\n",
       "    .dataframe tbody tr th {\n",
       "        vertical-align: top;\n",
       "    }\n",
       "\n",
       "    .dataframe thead th {\n",
       "        text-align: right;\n",
       "    }\n",
       "</style>\n",
       "<table border=\"1\" class=\"dataframe\">\n",
       "  <thead>\n",
       "    <tr style=\"text-align: right;\">\n",
       "      <th></th>\n",
       "      <th>budget</th>\n",
       "      <th>runtime</th>\n",
       "      <th>votes</th>\n",
       "      <th>popularity</th>\n",
       "    </tr>\n",
       "  </thead>\n",
       "  <tbody>\n",
       "    <tr>\n",
       "      <th>count</th>\n",
       "      <td>2.128000e+03</td>\n",
       "      <td>2128.000000</td>\n",
       "      <td>2128.000000</td>\n",
       "      <td>2128.000000</td>\n",
       "    </tr>\n",
       "    <tr>\n",
       "      <th>mean</th>\n",
       "      <td>2.973382e+07</td>\n",
       "      <td>104.856203</td>\n",
       "      <td>57913.900846</td>\n",
       "      <td>7.986923</td>\n",
       "    </tr>\n",
       "    <tr>\n",
       "      <th>std</th>\n",
       "      <td>2.336575e+07</td>\n",
       "      <td>14.085340</td>\n",
       "      <td>60278.475392</td>\n",
       "      <td>3.574890</td>\n",
       "    </tr>\n",
       "    <tr>\n",
       "      <th>min</th>\n",
       "      <td>5.000000e+04</td>\n",
       "      <td>69.000000</td>\n",
       "      <td>704.000000</td>\n",
       "      <td>0.000578</td>\n",
       "    </tr>\n",
       "    <tr>\n",
       "      <th>25%</th>\n",
       "      <td>1.200000e+07</td>\n",
       "      <td>95.000000</td>\n",
       "      <td>14275.000000</td>\n",
       "      <td>5.535085</td>\n",
       "    </tr>\n",
       "    <tr>\n",
       "      <th>50%</th>\n",
       "      <td>2.400000e+07</td>\n",
       "      <td>102.000000</td>\n",
       "      <td>35855.500000</td>\n",
       "      <td>7.758758</td>\n",
       "    </tr>\n",
       "    <tr>\n",
       "      <th>75%</th>\n",
       "      <td>4.000000e+07</td>\n",
       "      <td>114.000000</td>\n",
       "      <td>80594.000000</td>\n",
       "      <td>10.393513</td>\n",
       "    </tr>\n",
       "    <tr>\n",
       "      <th>max</th>\n",
       "      <td>1.050000e+08</td>\n",
       "      <td>147.000000</td>\n",
       "      <td>286238.000000</td>\n",
       "      <td>19.420510</td>\n",
       "    </tr>\n",
       "  </tbody>\n",
       "</table>\n",
       "</div>"
      ],
      "text/plain": [
       "             budget      runtime          votes   popularity\n",
       "count  2.128000e+03  2128.000000    2128.000000  2128.000000\n",
       "mean   2.973382e+07   104.856203   57913.900846     7.986923\n",
       "std    2.336575e+07    14.085340   60278.475392     3.574890\n",
       "min    5.000000e+04    69.000000     704.000000     0.000578\n",
       "25%    1.200000e+07    95.000000   14275.000000     5.535085\n",
       "50%    2.400000e+07   102.000000   35855.500000     7.758758\n",
       "75%    4.000000e+07   114.000000   80594.000000    10.393513\n",
       "max    1.050000e+08   147.000000  286238.000000    19.420510"
      ]
     },
     "execution_count": 91,
     "metadata": {},
     "output_type": "execute_result"
    }
   ],
   "source": [
    "data_dropped_outlier_IQR[continuous_features].describe()"
   ]
  },
  {
   "cell_type": "code",
   "execution_count": 92,
   "metadata": {},
   "outputs": [],
   "source": [
    "scaler = StandardScaler()"
   ]
  },
  {
   "cell_type": "code",
   "execution_count": 93,
   "metadata": {},
   "outputs": [],
   "source": [
    "data_dropped_z_score_scaled = pd.DataFrame(scaler.fit_transform(data_dropped_outlier_IQR[continuous_features]), columns=continuous_features)"
   ]
  },
  {
   "cell_type": "code",
   "execution_count": 94,
   "metadata": {},
   "outputs": [
    {
     "data": {
      "text/html": [
       "<div>\n",
       "<style scoped>\n",
       "    .dataframe tbody tr th:only-of-type {\n",
       "        vertical-align: middle;\n",
       "    }\n",
       "\n",
       "    .dataframe tbody tr th {\n",
       "        vertical-align: top;\n",
       "    }\n",
       "\n",
       "    .dataframe thead th {\n",
       "        text-align: right;\n",
       "    }\n",
       "</style>\n",
       "<table border=\"1\" class=\"dataframe\">\n",
       "  <thead>\n",
       "    <tr style=\"text-align: right;\">\n",
       "      <th></th>\n",
       "      <th>budget</th>\n",
       "      <th>runtime</th>\n",
       "      <th>votes</th>\n",
       "      <th>popularity</th>\n",
       "    </tr>\n",
       "  </thead>\n",
       "  <tbody>\n",
       "    <tr>\n",
       "      <th>count</th>\n",
       "      <td>2.128000e+03</td>\n",
       "      <td>2.128000e+03</td>\n",
       "      <td>2.128000e+03</td>\n",
       "      <td>2.128000e+03</td>\n",
       "    </tr>\n",
       "    <tr>\n",
       "      <th>mean</th>\n",
       "      <td>-2.671213e-17</td>\n",
       "      <td>-2.470872e-16</td>\n",
       "      <td>-2.671213e-17</td>\n",
       "      <td>1.602728e-16</td>\n",
       "    </tr>\n",
       "    <tr>\n",
       "      <th>std</th>\n",
       "      <td>1.000235e+00</td>\n",
       "      <td>1.000235e+00</td>\n",
       "      <td>1.000235e+00</td>\n",
       "      <td>1.000235e+00</td>\n",
       "    </tr>\n",
       "    <tr>\n",
       "      <th>min</th>\n",
       "      <td>-1.270698e+00</td>\n",
       "      <td>-2.546238e+00</td>\n",
       "      <td>-9.493164e-01</td>\n",
       "      <td>-2.234536e+00</td>\n",
       "    </tr>\n",
       "    <tr>\n",
       "      <th>25%</th>\n",
       "      <td>-7.591451e-01</td>\n",
       "      <td>-6.999135e-01</td>\n",
       "      <td>-7.241251e-01</td>\n",
       "      <td>-6.860109e-01</td>\n",
       "    </tr>\n",
       "    <tr>\n",
       "      <th>50%</th>\n",
       "      <td>-2.454520e-01</td>\n",
       "      <td>-2.028261e-01</td>\n",
       "      <td>-3.660276e-01</td>\n",
       "      <td>-6.383910e-02</td>\n",
       "    </tr>\n",
       "    <tr>\n",
       "      <th>75%</th>\n",
       "      <td>4.394720e-01</td>\n",
       "      <td>6.493238e-01</td>\n",
       "      <td>3.763438e-01</td>\n",
       "      <td>6.733509e-01</td>\n",
       "    </tr>\n",
       "    <tr>\n",
       "      <th>max</th>\n",
       "      <td>3.221976e+00</td>\n",
       "      <td>2.992736e+00</td>\n",
       "      <td>3.788712e+00</td>\n",
       "      <td>3.199056e+00</td>\n",
       "    </tr>\n",
       "  </tbody>\n",
       "</table>\n",
       "</div>"
      ],
      "text/plain": [
       "             budget       runtime         votes    popularity\n",
       "count  2.128000e+03  2.128000e+03  2.128000e+03  2.128000e+03\n",
       "mean  -2.671213e-17 -2.470872e-16 -2.671213e-17  1.602728e-16\n",
       "std    1.000235e+00  1.000235e+00  1.000235e+00  1.000235e+00\n",
       "min   -1.270698e+00 -2.546238e+00 -9.493164e-01 -2.234536e+00\n",
       "25%   -7.591451e-01 -6.999135e-01 -7.241251e-01 -6.860109e-01\n",
       "50%   -2.454520e-01 -2.028261e-01 -3.660276e-01 -6.383910e-02\n",
       "75%    4.394720e-01  6.493238e-01  3.763438e-01  6.733509e-01\n",
       "max    3.221976e+00  2.992736e+00  3.788712e+00  3.199056e+00"
      ]
     },
     "execution_count": 94,
     "metadata": {},
     "output_type": "execute_result"
    }
   ],
   "source": [
    "data_dropped_z_score_scaled.describe()"
   ]
  },
  {
   "cell_type": "code",
   "execution_count": 95,
   "metadata": {},
   "outputs": [
    {
     "data": {
      "text/plain": [
       "array([[<AxesSubplot:title={'center':'budget'}>,\n",
       "        <AxesSubplot:title={'center':'gross'}>,\n",
       "        <AxesSubplot:title={'center':'runtime'}>],\n",
       "       [<AxesSubplot:title={'center':'votes'}>,\n",
       "        <AxesSubplot:title={'center':'year'}>,\n",
       "        <AxesSubplot:title={'center':'isprofit'}>],\n",
       "       [<AxesSubplot:title={'center':'profitability_ratio'}>,\n",
       "        <AxesSubplot:title={'center':'profitability_ratio_bucket'}>,\n",
       "        <AxesSubplot:title={'center':'id'}>],\n",
       "       [<AxesSubplot:title={'center':'popularity'}>,\n",
       "        <AxesSubplot:title={'center':'year_released'}>, <AxesSubplot:>]],\n",
       "      dtype=object)"
      ]
     },
     "execution_count": 95,
     "metadata": {},
     "output_type": "execute_result"
    },
    {
     "data": {
      "image/png": "[encoded data removed]",
      "text/plain": [
       "<Figure size 1152x1152 with 12 Axes>"
      ]
     },
     "metadata": {},
     "output_type": "display_data"
    }
   ],
   "source": [
    "data_dropped_outlier_IQR.hist(figsize=(16, 16))"
   ]
  },
  {
   "cell_type": "markdown",
   "metadata": {},
   "source": [
    "Figure 6: Histogram of Data Before Normalization\n",
    "<p>Figure 6 shows the bar charts helping us visualize the data befor the five features above have been normalized.</p>"
   ]
  },
  {
   "cell_type": "code",
   "execution_count": 96,
   "metadata": {},
   "outputs": [
    {
     "data": {
      "text/plain": [
       "array([[<AxesSubplot:title={'center':'budget'}>,\n",
       "        <AxesSubplot:title={'center':'runtime'}>],\n",
       "       [<AxesSubplot:title={'center':'votes'}>,\n",
       "        <AxesSubplot:title={'center':'popularity'}>]], dtype=object)"
      ]
     },
     "execution_count": 96,
     "metadata": {},
     "output_type": "execute_result"
    },
    {
     "data": {
      "image/png": "[encoded data removed]",
      "text/plain": [
       "<Figure size 720x720 with 4 Axes>"
      ]
     },
     "metadata": {},
     "output_type": "display_data"
    }
   ],
   "source": [
    "data_dropped_z_score_scaled.hist(figsize=(10, 10))"
   ]
  },
  {
   "cell_type": "markdown",
   "metadata": {},
   "source": [
    "Figure 7: Histogram of Data After Normalization\n",
    "<p>Figure 7 shows bar charts helping us visualize the data after the five features above have been normalized.</p>"
   ]
  },
  {
   "cell_type": "markdown",
   "metadata": {},
   "source": [
    "Add normalized columns to main dataset as new columns labeled with the feature name they relate to followed by \"_norm\"."
   ]
  },
  {
   "cell_type": "code",
   "execution_count": 97,
   "metadata": {},
   "outputs": [],
   "source": [
    "norm_column_names = ['budget_norm', 'runtime_norm', 'votes_norm', 'popularity_norm']\n",
    "    \n",
    "for i, j in zip(norm_column_names, continuous_features):\n",
    "    data_dropped_outlier_IQR[i] = pd.Series(data_dropped_z_score_scaled[j])\n"
   ]
  },
  {
   "cell_type": "code",
   "execution_count": 98,
   "metadata": {},
   "outputs": [],
   "source": [
    "data_dropped_outlier_IQR.to_csv('data/training_data.csv')"
   ]
  },
  {
   "cell_type": "markdown",
   "metadata": {},
   "source": [
    "# 4. Results <a class=\"anchor\" id=\"4\"></a>"
   ]
  },
  {
   "cell_type": "markdown",
   "metadata": {},
   "source": [
    "## 4.1. Data Cleaning <a class=\"anchor\" id=\"41\"></a>"
   ]
  },
  {
   "cell_type": "markdown",
   "metadata": {},
   "source": [
    "As we analyze all the features in <a href=\"#21\">Section 2.1.</a> we can see that the only features that need cleaning are overview, tagline, spoken_languages_edited, production_countries_edited and keywords_edited. The rest of the features are clean meaning not missing any values that require either dropping or replacement of those values."
   ]
  },
  {
   "cell_type": "markdown",
   "metadata": {},
   "source": [
    "## 4.2. Data Transformation <a class=\"anchor\" id=\"42\"></a>"
   ]
  },
  {
   "cell_type": "markdown",
   "metadata": {},
   "source": [
    "After analyzing and cleaning the five categorical features found in <a href=\"#21\">Section 2.1.</a> we are able to focus on transforming our data.  \n",
    "\n",
    "<p>Our data includes categorical and continuous types but for transformation we want to focus on five that need to be discretized and normalized in order to be ready for modeling. These five features include budget, runtime, score, votes and popularity. The reason for discretizing the data is so we can partition the data into equal distributions that will be easier to manage and manipulate. After that we can use normalization to give all the attributes an equal weight which is useful to us in the following section where we model our data.</p>"
   ]
  }
 ],
 "metadata": {
  "kernelspec": {
   "display_name": "'Python3'",
   "language": "python",
   "name": "python3"
  },
  "language_info": {
   "codemirror_mode": {
    "name": "ipython",
    "version": 3
   },
   "file_extension": ".py",
   "mimetype": "text/x-python",
   "name": "python",
   "nbconvert_exporter": "python",
   "pygments_lexer": "ipython3",
   "version": "3.7.3"
  }
 },
 "nbformat": 4,
 "nbformat_minor": 2
}
