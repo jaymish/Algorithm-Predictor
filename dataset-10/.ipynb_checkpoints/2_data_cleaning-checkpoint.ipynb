{
 "cells": [
  {
   "cell_type": "markdown",
   "metadata": {},
   "source": [
    "### Table of Contents:\n",
    "* [1. Preparing the Data](#1)\n",
    "* &emsp;[1.1. Importing Libraries](#11)\n",
    "* [2. Data Cleaning](#2)\n",
    "* &emsp;[2.1. Identifying Missing Values](#21)\n",
    "* &emsp;[2.2. Dealing with Missing Values](#22)\n",
    "* &emsp;[2.3. Removing Rows](#23)\n",
    "* &emsp;[2.4. Finding Outliers](#24)\n",
    "* &emsp;&emsp;[2.4.1. IQR Score Method](#241)\n",
    "* &emsp;[2.5. Box Plot](#25)\n",
    "* [3. Data Transformation](#3)\n",
    "* &emsp;[3.1. Binning](#31)\n",
    "* &emsp;[3.2. Normalization](#32)\n",
    "* &emsp;&emsp;[3.2.1. Z-score Method](#33)\n",
    "* [4. Results](#4)\n",
    "* &emsp;[4.1. Data Cleaning](#41)\n",
    "* &emsp;[4.2. Data Transformation](#42)"
   ]
  },
  {
   "cell_type": "markdown",
   "metadata": {},
   "source": [
    "# 1. Preparing the Data <a class=\"anchor\" id=\"1\"></a>"
   ]
  },
  {
   "cell_type": "markdown",
   "metadata": {},
   "source": [
    "## 1.1. Importing Libraries <a class=\"anchor\" id=\"11\"></a>"
   ]
  },
  {
   "cell_type": "code",
   "execution_count": 1,
   "metadata": {},
   "outputs": [],
   "source": [
    "import pandas as pd \n",
    "import numpy as np  \n",
    "import matplotlib.pyplot as plt \n",
    "import seaborn as sns\n",
    "from sklearn.preprocessing import StandardScaler\n",
    "\n",
    "%matplotlib inline  \n",
    "plt.style.use('fivethirtyeight')"
   ]
  },
  {
   "cell_type": "markdown",
   "metadata": {},
   "source": [
    "# 2. Data Cleaning <a class=\"anchor\" id=\"2\"></a>"
   ]
  },
  {
   "cell_type": "markdown",
   "metadata": {},
   "source": [
    "## 2.1. Identifying Missing Values <a class=\"anchor\" id=\"21\"></a>"
   ]
  },
  {
   "cell_type": "code",
   "execution_count": 2,
   "metadata": {},
   "outputs": [],
   "source": [
    "df = pd.read_csv('data/raw_training_data.csv')"
   ]
  },
  {
   "cell_type": "code",
   "execution_count": 3,
   "metadata": {},
   "outputs": [],
   "source": [
    "categorical_features = ['company','country','director','genre','rating','released','star','year',\n",
    "                        'writer','adult','original_title','overview','tagline','title','genres_edited',\n",
    "                        'spoken_languages_edited','production_countries_edited','keywords_edited']\n",
    "continuous_features = ['budget','runtime','score','votes','popularity']\n",
    "target_features = ['isprofit','profitability_ratio']"
   ]
  },
  {
   "cell_type": "code",
   "execution_count": 4,
   "metadata": {},
   "outputs": [
    {
     "data": {
      "text/plain": [
       "(1761, 32)"
      ]
     },
     "execution_count": 4,
     "metadata": {},
     "output_type": "execute_result"
    }
   ],
   "source": [
    "df.shape # (# rows, # cols)"
   ]
  },
  {
   "cell_type": "code",
   "execution_count": 5,
   "metadata": {},
   "outputs": [
    {
     "data": {
      "text/html": [
       "<div>\n",
       "<style scoped>\n",
       "    .dataframe tbody tr th:only-of-type {\n",
       "        vertical-align: middle;\n",
       "    }\n",
       "\n",
       "    .dataframe tbody tr th {\n",
       "        vertical-align: top;\n",
       "    }\n",
       "\n",
       "    .dataframe thead th {\n",
       "        text-align: right;\n",
       "    }\n",
       "</style>\n",
       "<table border=\"1\" class=\"dataframe\">\n",
       "  <thead>\n",
       "    <tr style=\"text-align: right;\">\n",
       "      <th></th>\n",
       "      <th>Unnamed: 0</th>\n",
       "      <th>budget</th>\n",
       "      <th>company</th>\n",
       "      <th>country</th>\n",
       "      <th>director</th>\n",
       "      <th>genre</th>\n",
       "      <th>gross</th>\n",
       "      <th>name</th>\n",
       "      <th>rating</th>\n",
       "      <th>released</th>\n",
       "      <th>...</th>\n",
       "      <th>original_title</th>\n",
       "      <th>overview</th>\n",
       "      <th>popularity</th>\n",
       "      <th>tagline</th>\n",
       "      <th>title</th>\n",
       "      <th>genres_edited</th>\n",
       "      <th>spoken_languages_edited</th>\n",
       "      <th>production_countries_edited</th>\n",
       "      <th>keywords_edited</th>\n",
       "      <th>year_released</th>\n",
       "    </tr>\n",
       "  </thead>\n",
       "  <tbody>\n",
       "    <tr>\n",
       "      <th>0</th>\n",
       "      <td>1763</td>\n",
       "      <td>140000000</td>\n",
       "      <td>Walt Disney Pictures</td>\n",
       "      <td>USA</td>\n",
       "      <td>Other</td>\n",
       "      <td>Action</td>\n",
       "      <td>305413918</td>\n",
       "      <td>Pirates of the Caribbean: The Curse of the Bla...</td>\n",
       "      <td>PG-13</td>\n",
       "      <td>9.07.2003 00:00</td>\n",
       "      <td>...</td>\n",
       "      <td>Pirates of the Caribbean: The Curse of the Bla...</td>\n",
       "      <td>Jack Sparrow, a freewheeling 17th-century pira...</td>\n",
       "      <td>47.326665</td>\n",
       "      <td>Prepare to be blown out of the water.</td>\n",
       "      <td>Pirates of the Caribbean: The Curse of the Bla...</td>\n",
       "      <td>Adventure, Fantasy, Action</td>\n",
       "      <td>en</td>\n",
       "      <td>US</td>\n",
       "      <td>exotic island, blacksmith, east india trading ...</td>\n",
       "      <td>2003</td>\n",
       "    </tr>\n",
       "    <tr>\n",
       "      <th>1</th>\n",
       "      <td>1764</td>\n",
       "      <td>30000000</td>\n",
       "      <td>Miramax</td>\n",
       "      <td>USA</td>\n",
       "      <td>Other</td>\n",
       "      <td>Action</td>\n",
       "      <td>70099045</td>\n",
       "      <td>Kill Bill: Vol. 1</td>\n",
       "      <td>R</td>\n",
       "      <td>10.10.2003 00:00</td>\n",
       "      <td>...</td>\n",
       "      <td>Kill Bill: Vol. 1</td>\n",
       "      <td>An assassin is shot at the altar by her ruthle...</td>\n",
       "      <td>25.261865</td>\n",
       "      <td>Go for the kill.</td>\n",
       "      <td>Kill Bill: Vol. 1</td>\n",
       "      <td>Action, Crime</td>\n",
       "      <td>en, ja, fr</td>\n",
       "      <td>US</td>\n",
       "      <td>japan, coma, martial arts, kung fu, underworld...</td>\n",
       "      <td>2003</td>\n",
       "    </tr>\n",
       "    <tr>\n",
       "      <th>2</th>\n",
       "      <td>1765</td>\n",
       "      <td>94000000</td>\n",
       "      <td>New Line Cinema</td>\n",
       "      <td>USA</td>\n",
       "      <td>Other</td>\n",
       "      <td>Adventure</td>\n",
       "      <td>377845905</td>\n",
       "      <td>The Lord of the Rings: The Return of the King</td>\n",
       "      <td>PG-13</td>\n",
       "      <td>17.12.2003 00:00</td>\n",
       "      <td>...</td>\n",
       "      <td>The Lord of the Rings: The Return of the King</td>\n",
       "      <td>Aragorn is revealed as the heir to the ancient...</td>\n",
       "      <td>29.324358</td>\n",
       "      <td>The eye of the enemy is moving.</td>\n",
       "      <td>The Lord of the Rings: The Return of the King</td>\n",
       "      <td>Adventure, Fantasy, Action</td>\n",
       "      <td>en</td>\n",
       "      <td>NZ, US</td>\n",
       "      <td>elves, orcs, middle-earth (tolkien), based on ...</td>\n",
       "      <td>2003</td>\n",
       "    </tr>\n",
       "    <tr>\n",
       "      <th>3</th>\n",
       "      <td>1766</td>\n",
       "      <td>40000000</td>\n",
       "      <td>Universal Pictures</td>\n",
       "      <td>Other</td>\n",
       "      <td>Other</td>\n",
       "      <td>Comedy</td>\n",
       "      <td>59696144</td>\n",
       "      <td>Love Actually</td>\n",
       "      <td>R</td>\n",
       "      <td>14.11.2003 00:00</td>\n",
       "      <td>...</td>\n",
       "      <td>Love Actually</td>\n",
       "      <td>Follows seemingly unrelated people as their li...</td>\n",
       "      <td>10.586815</td>\n",
       "      <td>The ultimate romantic comedy.</td>\n",
       "      <td>Love Actually</td>\n",
       "      <td>Comedy, Romance, Drama</td>\n",
       "      <td>en, fr, pt</td>\n",
       "      <td>GB, US</td>\n",
       "      <td>london england, male nudity, female nudity, lo...</td>\n",
       "      <td>2003</td>\n",
       "    </tr>\n",
       "    <tr>\n",
       "      <th>4</th>\n",
       "      <td>1767</td>\n",
       "      <td>25000000</td>\n",
       "      <td>Warner Bros.</td>\n",
       "      <td>USA</td>\n",
       "      <td>Clint Eastwood</td>\n",
       "      <td>Crime</td>\n",
       "      <td>90135191</td>\n",
       "      <td>Mystic River</td>\n",
       "      <td>R</td>\n",
       "      <td>15.10.2003 00:00</td>\n",
       "      <td>...</td>\n",
       "      <td>Mystic River</td>\n",
       "      <td>A story about friendship and loyalty, guilt an...</td>\n",
       "      <td>12.602438</td>\n",
       "      <td>We bury our sins, we wash them clean.</td>\n",
       "      <td>Mystic River</td>\n",
       "      <td>Thriller, Crime, Drama, Mystery</td>\n",
       "      <td>en</td>\n",
       "      <td>US</td>\n",
       "      <td>child abuse, sexual abuse, loss of child, repa...</td>\n",
       "      <td>2003</td>\n",
       "    </tr>\n",
       "  </tbody>\n",
       "</table>\n",
       "<p>5 rows × 32 columns</p>\n",
       "</div>"
      ],
      "text/plain": [
       "   Unnamed: 0     budget               company country        director  \\\n",
       "0        1763  140000000  Walt Disney Pictures     USA           Other   \n",
       "1        1764   30000000               Miramax     USA           Other   \n",
       "2        1765   94000000       New Line Cinema     USA           Other   \n",
       "3        1766   40000000    Universal Pictures   Other           Other   \n",
       "4        1767   25000000          Warner Bros.     USA  Clint Eastwood   \n",
       "\n",
       "       genre      gross                                               name  \\\n",
       "0     Action  305413918  Pirates of the Caribbean: The Curse of the Bla...   \n",
       "1     Action   70099045                                  Kill Bill: Vol. 1   \n",
       "2  Adventure  377845905      The Lord of the Rings: The Return of the King   \n",
       "3     Comedy   59696144                                      Love Actually   \n",
       "4      Crime   90135191                                       Mystic River   \n",
       "\n",
       "  rating          released  ...  \\\n",
       "0  PG-13   9.07.2003 00:00  ...   \n",
       "1      R  10.10.2003 00:00  ...   \n",
       "2  PG-13  17.12.2003 00:00  ...   \n",
       "3      R  14.11.2003 00:00  ...   \n",
       "4      R  15.10.2003 00:00  ...   \n",
       "\n",
       "                                      original_title  \\\n",
       "0  Pirates of the Caribbean: The Curse of the Bla...   \n",
       "1                                  Kill Bill: Vol. 1   \n",
       "2      The Lord of the Rings: The Return of the King   \n",
       "3                                      Love Actually   \n",
       "4                                       Mystic River   \n",
       "\n",
       "                                            overview popularity  \\\n",
       "0  Jack Sparrow, a freewheeling 17th-century pira...  47.326665   \n",
       "1  An assassin is shot at the altar by her ruthle...  25.261865   \n",
       "2  Aragorn is revealed as the heir to the ancient...  29.324358   \n",
       "3  Follows seemingly unrelated people as their li...  10.586815   \n",
       "4  A story about friendship and loyalty, guilt an...  12.602438   \n",
       "\n",
       "                                 tagline  \\\n",
       "0  Prepare to be blown out of the water.   \n",
       "1                       Go for the kill.   \n",
       "2        The eye of the enemy is moving.   \n",
       "3          The ultimate romantic comedy.   \n",
       "4  We bury our sins, we wash them clean.   \n",
       "\n",
       "                                               title  \\\n",
       "0  Pirates of the Caribbean: The Curse of the Bla...   \n",
       "1                                  Kill Bill: Vol. 1   \n",
       "2      The Lord of the Rings: The Return of the King   \n",
       "3                                      Love Actually   \n",
       "4                                       Mystic River   \n",
       "\n",
       "                     genres_edited  spoken_languages_edited  \\\n",
       "0       Adventure, Fantasy, Action                       en   \n",
       "1                    Action, Crime               en, ja, fr   \n",
       "2       Adventure, Fantasy, Action                       en   \n",
       "3           Comedy, Romance, Drama               en, fr, pt   \n",
       "4  Thriller, Crime, Drama, Mystery                       en   \n",
       "\n",
       "   production_countries_edited  \\\n",
       "0                           US   \n",
       "1                           US   \n",
       "2                       NZ, US   \n",
       "3                       GB, US   \n",
       "4                           US   \n",
       "\n",
       "                                     keywords_edited year_released  \n",
       "0  exotic island, blacksmith, east india trading ...          2003  \n",
       "1  japan, coma, martial arts, kung fu, underworld...          2003  \n",
       "2  elves, orcs, middle-earth (tolkien), based on ...          2003  \n",
       "3  london england, male nudity, female nudity, lo...          2003  \n",
       "4  child abuse, sexual abuse, loss of child, repa...          2003  \n",
       "\n",
       "[5 rows x 32 columns]"
      ]
     },
     "execution_count": 5,
     "metadata": {},
     "output_type": "execute_result"
    }
   ],
   "source": [
    "df.head() # take a peak at the dataset"
   ]
  },
  {
   "cell_type": "code",
   "execution_count": 6,
   "metadata": {},
   "outputs": [],
   "source": [
    "del df['Unnamed: 0']"
   ]
  },
  {
   "cell_type": "code",
   "execution_count": 7,
   "metadata": {},
   "outputs": [
    {
     "name": "stdout",
     "output_type": "stream",
     "text": [
      "<class 'pandas.core.frame.DataFrame'>\n",
      "RangeIndex: 1761 entries, 0 to 1760\n",
      "Data columns (total 31 columns):\n",
      " #   Column                       Non-Null Count  Dtype  \n",
      "---  ------                       --------------  -----  \n",
      " 0   budget                       1761 non-null   int64  \n",
      " 1   company                      1761 non-null   object \n",
      " 2   country                      1761 non-null   object \n",
      " 3   director                     1761 non-null   object \n",
      " 4   genre                        1761 non-null   object \n",
      " 5   gross                        1761 non-null   int64  \n",
      " 6   name                         1761 non-null   object \n",
      " 7   rating                       1761 non-null   object \n",
      " 8   released                     1761 non-null   object \n",
      " 9   runtime                      1761 non-null   int64  \n",
      " 10  score                        1761 non-null   float64\n",
      " 11  star                         1761 non-null   object \n",
      " 12  votes                        1761 non-null   int64  \n",
      " 13  writer                       1761 non-null   object \n",
      " 14  year                         1761 non-null   int64  \n",
      " 15  isprofit                     1761 non-null   int64  \n",
      " 16  profitability_ratio          1761 non-null   float64\n",
      " 17  profitability_ratio_bucket   1761 non-null   int64  \n",
      " 18  adult                        1761 non-null   object \n",
      " 19  id                           1761 non-null   int64  \n",
      " 20  imdb_id                      1761 non-null   object \n",
      " 21  original_title               1761 non-null   object \n",
      " 22  overview                     1761 non-null   object \n",
      " 23  popularity                   1761 non-null   float64\n",
      " 24  tagline                      1615 non-null   object \n",
      " 25  title                        1761 non-null   object \n",
      " 26  genres_edited                1761 non-null   object \n",
      " 27  spoken_languages_edited      1758 non-null   object \n",
      " 28  production_countries_edited  1752 non-null   object \n",
      " 29  keywords_edited              1701 non-null   object \n",
      " 30  year_released                1761 non-null   int64  \n",
      "dtypes: float64(3), int64(9), object(19)\n",
      "memory usage: 295.9+ KB\n"
     ]
    }
   ],
   "source": [
    "df.info()"
   ]
  },
  {
   "cell_type": "code",
   "execution_count": 8,
   "metadata": {},
   "outputs": [
    {
     "data": {
      "text/plain": [
       "budget                           0\n",
       "company                          0\n",
       "country                          0\n",
       "director                         0\n",
       "genre                            0\n",
       "gross                            0\n",
       "name                             0\n",
       "rating                           0\n",
       "released                         0\n",
       "runtime                          0\n",
       "score                            0\n",
       "star                             0\n",
       "votes                            0\n",
       "writer                           0\n",
       "year                             0\n",
       "isprofit                         0\n",
       "profitability_ratio              0\n",
       "profitability_ratio_bucket       0\n",
       "adult                            0\n",
       "id                               0\n",
       "imdb_id                          0\n",
       "original_title                   0\n",
       "overview                         0\n",
       "popularity                       0\n",
       "tagline                        146\n",
       "title                            0\n",
       "genres_edited                    0\n",
       "spoken_languages_edited          3\n",
       "production_countries_edited      9\n",
       "keywords_edited                 60\n",
       "year_released                    0\n",
       "dtype: int64"
      ]
     },
     "execution_count": 8,
     "metadata": {},
     "output_type": "execute_result"
    }
   ],
   "source": [
    "df.isnull().sum()"
   ]
  },
  {
   "cell_type": "code",
   "execution_count": 9,
   "metadata": {},
   "outputs": [
    {
     "data": {
      "text/html": [
       "<div>\n",
       "<style scoped>\n",
       "    .dataframe tbody tr th:only-of-type {\n",
       "        vertical-align: middle;\n",
       "    }\n",
       "\n",
       "    .dataframe tbody tr th {\n",
       "        vertical-align: top;\n",
       "    }\n",
       "\n",
       "    .dataframe thead th {\n",
       "        text-align: right;\n",
       "    }\n",
       "</style>\n",
       "<table border=\"1\" class=\"dataframe\">\n",
       "  <thead>\n",
       "    <tr style=\"text-align: right;\">\n",
       "      <th></th>\n",
       "      <th>budget</th>\n",
       "      <th>gross</th>\n",
       "      <th>runtime</th>\n",
       "      <th>score</th>\n",
       "      <th>votes</th>\n",
       "      <th>year</th>\n",
       "      <th>isprofit</th>\n",
       "      <th>profitability_ratio</th>\n",
       "      <th>profitability_ratio_bucket</th>\n",
       "      <th>id</th>\n",
       "      <th>popularity</th>\n",
       "      <th>year_released</th>\n",
       "    </tr>\n",
       "  </thead>\n",
       "  <tbody>\n",
       "    <tr>\n",
       "      <th>count</th>\n",
       "      <td>1.761000e+03</td>\n",
       "      <td>1.761000e+03</td>\n",
       "      <td>1761.000000</td>\n",
       "      <td>1761.000000</td>\n",
       "      <td>1.761000e+03</td>\n",
       "      <td>1761.000000</td>\n",
       "      <td>1761.000000</td>\n",
       "      <td>1761.000000</td>\n",
       "      <td>1761.000000</td>\n",
       "      <td>1761.000000</td>\n",
       "      <td>1761.000000</td>\n",
       "      <td>1761.000000</td>\n",
       "    </tr>\n",
       "    <tr>\n",
       "      <th>mean</th>\n",
       "      <td>4.537605e+07</td>\n",
       "      <td>5.847045e+07</td>\n",
       "      <td>107.989779</td>\n",
       "      <td>6.416922</td>\n",
       "      <td>1.267775e+05</td>\n",
       "      <td>2007.089722</td>\n",
       "      <td>0.515048</td>\n",
       "      <td>5.212285</td>\n",
       "      <td>521.071550</td>\n",
       "      <td>75101.222601</td>\n",
       "      <td>11.736641</td>\n",
       "      <td>2009.539466</td>\n",
       "    </tr>\n",
       "    <tr>\n",
       "      <th>std</th>\n",
       "      <td>4.934178e+07</td>\n",
       "      <td>7.947174e+07</td>\n",
       "      <td>17.516256</td>\n",
       "      <td>0.988455</td>\n",
       "      <td>1.589880e+05</td>\n",
       "      <td>67.813731</td>\n",
       "      <td>0.499915</td>\n",
       "      <td>171.583058</td>\n",
       "      <td>17158.343643</td>\n",
       "      <td>98650.533770</td>\n",
       "      <td>17.674824</td>\n",
       "      <td>4.015418</td>\n",
       "    </tr>\n",
       "    <tr>\n",
       "      <th>min</th>\n",
       "      <td>0.000000e+00</td>\n",
       "      <td>0.000000e+00</td>\n",
       "      <td>0.000000</td>\n",
       "      <td>0.000000</td>\n",
       "      <td>0.000000e+00</td>\n",
       "      <td>0.000000</td>\n",
       "      <td>0.000000</td>\n",
       "      <td>-0.999923</td>\n",
       "      <td>-100.000000</td>\n",
       "      <td>0.000000</td>\n",
       "      <td>0.000000</td>\n",
       "      <td>1997.000000</td>\n",
       "    </tr>\n",
       "    <tr>\n",
       "      <th>25%</th>\n",
       "      <td>1.200000e+07</td>\n",
       "      <td>9.396870e+06</td>\n",
       "      <td>97.000000</td>\n",
       "      <td>5.900000</td>\n",
       "      <td>3.147800e+04</td>\n",
       "      <td>2006.000000</td>\n",
       "      <td>0.000000</td>\n",
       "      <td>-0.532721</td>\n",
       "      <td>-50.000000</td>\n",
       "      <td>9910.000000</td>\n",
       "      <td>6.959638</td>\n",
       "      <td>2006.000000</td>\n",
       "    </tr>\n",
       "    <tr>\n",
       "      <th>50%</th>\n",
       "      <td>2.800000e+07</td>\n",
       "      <td>3.211675e+07</td>\n",
       "      <td>104.000000</td>\n",
       "      <td>6.500000</td>\n",
       "      <td>6.982700e+04</td>\n",
       "      <td>2009.000000</td>\n",
       "      <td>1.000000</td>\n",
       "      <td>0.033425</td>\n",
       "      <td>0.000000</td>\n",
       "      <td>22971.000000</td>\n",
       "      <td>9.529382</td>\n",
       "      <td>2010.000000</td>\n",
       "    </tr>\n",
       "    <tr>\n",
       "      <th>75%</th>\n",
       "      <td>6.000000e+07</td>\n",
       "      <td>7.507245e+07</td>\n",
       "      <td>117.000000</td>\n",
       "      <td>7.100000</td>\n",
       "      <td>1.578580e+05</td>\n",
       "      <td>2013.000000</td>\n",
       "      <td>1.000000</td>\n",
       "      <td>0.918280</td>\n",
       "      <td>90.000000</td>\n",
       "      <td>93856.000000</td>\n",
       "      <td>12.868098</td>\n",
       "      <td>2013.000000</td>\n",
       "    </tr>\n",
       "    <tr>\n",
       "      <th>max</th>\n",
       "      <td>3.000000e+08</td>\n",
       "      <td>9.366622e+08</td>\n",
       "      <td>219.000000</td>\n",
       "      <td>8.900000</td>\n",
       "      <td>1.629342e+06</td>\n",
       "      <td>2016.000000</td>\n",
       "      <td>1.000000</td>\n",
       "      <td>7193.587333</td>\n",
       "      <td>719360.000000</td>\n",
       "      <td>404378.000000</td>\n",
       "      <td>547.488298</td>\n",
       "      <td>2017.000000</td>\n",
       "    </tr>\n",
       "  </tbody>\n",
       "</table>\n",
       "</div>"
      ],
      "text/plain": [
       "             budget         gross      runtime        score         votes  \\\n",
       "count  1.761000e+03  1.761000e+03  1761.000000  1761.000000  1.761000e+03   \n",
       "mean   4.537605e+07  5.847045e+07   107.989779     6.416922  1.267775e+05   \n",
       "std    4.934178e+07  7.947174e+07    17.516256     0.988455  1.589880e+05   \n",
       "min    0.000000e+00  0.000000e+00     0.000000     0.000000  0.000000e+00   \n",
       "25%    1.200000e+07  9.396870e+06    97.000000     5.900000  3.147800e+04   \n",
       "50%    2.800000e+07  3.211675e+07   104.000000     6.500000  6.982700e+04   \n",
       "75%    6.000000e+07  7.507245e+07   117.000000     7.100000  1.578580e+05   \n",
       "max    3.000000e+08  9.366622e+08   219.000000     8.900000  1.629342e+06   \n",
       "\n",
       "              year     isprofit  profitability_ratio  \\\n",
       "count  1761.000000  1761.000000          1761.000000   \n",
       "mean   2007.089722     0.515048             5.212285   \n",
       "std      67.813731     0.499915           171.583058   \n",
       "min       0.000000     0.000000            -0.999923   \n",
       "25%    2006.000000     0.000000            -0.532721   \n",
       "50%    2009.000000     1.000000             0.033425   \n",
       "75%    2013.000000     1.000000             0.918280   \n",
       "max    2016.000000     1.000000          7193.587333   \n",
       "\n",
       "       profitability_ratio_bucket             id   popularity  year_released  \n",
       "count                 1761.000000    1761.000000  1761.000000    1761.000000  \n",
       "mean                   521.071550   75101.222601    11.736641    2009.539466  \n",
       "std                  17158.343643   98650.533770    17.674824       4.015418  \n",
       "min                   -100.000000       0.000000     0.000000    1997.000000  \n",
       "25%                    -50.000000    9910.000000     6.959638    2006.000000  \n",
       "50%                      0.000000   22971.000000     9.529382    2010.000000  \n",
       "75%                     90.000000   93856.000000    12.868098    2013.000000  \n",
       "max                 719360.000000  404378.000000   547.488298    2017.000000  "
      ]
     },
     "execution_count": 9,
     "metadata": {},
     "output_type": "execute_result"
    }
   ],
   "source": [
    "df.describe()   # before replacing zero with None"
   ]
  },
  {
   "cell_type": "markdown",
   "metadata": {},
   "source": [
    "## 2.2. Dealing with Missing Values <a class=\"anchor\" id=\"22\"></a>"
   ]
  },
  {
   "cell_type": "markdown",
   "metadata": {},
   "source": [
    "By observing the data, we see that only the following columns need initial transformation to replace zeros with the value None:\n",
    "* overview\n",
    "* tagline\n",
    "* spoken_languages_edited\n",
    "* production_countries_edited\n",
    "* keywords_edited\n",
    "\n",
    "And the remaining features do not have to change since they do not contain zero values."
   ]
  },
  {
   "cell_type": "code",
   "execution_count": 10,
   "metadata": {},
   "outputs": [],
   "source": [
    "df['overview'] = df['overview'].map(lambda x:x if x != 0 else None)\n",
    "df['tagline'] = df['tagline'].map(lambda x:x if x != 0 else None)\n",
    "df['spoken_languages_edited'] = df['spoken_languages_edited'].map(lambda x:x if x != 0 else None)\n",
    "df['production_countries_edited'] = df['production_countries_edited'].map(lambda x:x if x != 0 else None)\n",
    "df['keywords_edited'] = df['keywords_edited'].map(lambda x:x if x != 0 else None)"
   ]
  },
  {
   "cell_type": "code",
   "execution_count": 11,
   "metadata": {},
   "outputs": [
    {
     "data": {
      "text/html": [
       "<div>\n",
       "<style scoped>\n",
       "    .dataframe tbody tr th:only-of-type {\n",
       "        vertical-align: middle;\n",
       "    }\n",
       "\n",
       "    .dataframe tbody tr th {\n",
       "        vertical-align: top;\n",
       "    }\n",
       "\n",
       "    .dataframe thead th {\n",
       "        text-align: right;\n",
       "    }\n",
       "</style>\n",
       "<table border=\"1\" class=\"dataframe\">\n",
       "  <thead>\n",
       "    <tr style=\"text-align: right;\">\n",
       "      <th></th>\n",
       "      <th>budget</th>\n",
       "      <th>company</th>\n",
       "      <th>country</th>\n",
       "      <th>director</th>\n",
       "      <th>genre</th>\n",
       "      <th>gross</th>\n",
       "      <th>name</th>\n",
       "      <th>rating</th>\n",
       "      <th>released</th>\n",
       "      <th>runtime</th>\n",
       "      <th>...</th>\n",
       "      <th>original_title</th>\n",
       "      <th>overview</th>\n",
       "      <th>popularity</th>\n",
       "      <th>tagline</th>\n",
       "      <th>title</th>\n",
       "      <th>genres_edited</th>\n",
       "      <th>spoken_languages_edited</th>\n",
       "      <th>production_countries_edited</th>\n",
       "      <th>keywords_edited</th>\n",
       "      <th>year_released</th>\n",
       "    </tr>\n",
       "  </thead>\n",
       "  <tbody>\n",
       "    <tr>\n",
       "      <th>0</th>\n",
       "      <td>140000000</td>\n",
       "      <td>Walt Disney Pictures</td>\n",
       "      <td>USA</td>\n",
       "      <td>Other</td>\n",
       "      <td>Action</td>\n",
       "      <td>305413918</td>\n",
       "      <td>Pirates of the Caribbean: The Curse of the Bla...</td>\n",
       "      <td>PG-13</td>\n",
       "      <td>9.07.2003 00:00</td>\n",
       "      <td>143</td>\n",
       "      <td>...</td>\n",
       "      <td>Pirates of the Caribbean: The Curse of the Bla...</td>\n",
       "      <td>Jack Sparrow, a freewheeling 17th-century pira...</td>\n",
       "      <td>47.326665</td>\n",
       "      <td>Prepare to be blown out of the water.</td>\n",
       "      <td>Pirates of the Caribbean: The Curse of the Bla...</td>\n",
       "      <td>Adventure, Fantasy, Action</td>\n",
       "      <td>en</td>\n",
       "      <td>US</td>\n",
       "      <td>exotic island, blacksmith, east india trading ...</td>\n",
       "      <td>2003</td>\n",
       "    </tr>\n",
       "    <tr>\n",
       "      <th>1</th>\n",
       "      <td>30000000</td>\n",
       "      <td>Miramax</td>\n",
       "      <td>USA</td>\n",
       "      <td>Other</td>\n",
       "      <td>Action</td>\n",
       "      <td>70099045</td>\n",
       "      <td>Kill Bill: Vol. 1</td>\n",
       "      <td>R</td>\n",
       "      <td>10.10.2003 00:00</td>\n",
       "      <td>111</td>\n",
       "      <td>...</td>\n",
       "      <td>Kill Bill: Vol. 1</td>\n",
       "      <td>An assassin is shot at the altar by her ruthle...</td>\n",
       "      <td>25.261865</td>\n",
       "      <td>Go for the kill.</td>\n",
       "      <td>Kill Bill: Vol. 1</td>\n",
       "      <td>Action, Crime</td>\n",
       "      <td>en, ja, fr</td>\n",
       "      <td>US</td>\n",
       "      <td>japan, coma, martial arts, kung fu, underworld...</td>\n",
       "      <td>2003</td>\n",
       "    </tr>\n",
       "    <tr>\n",
       "      <th>2</th>\n",
       "      <td>94000000</td>\n",
       "      <td>New Line Cinema</td>\n",
       "      <td>USA</td>\n",
       "      <td>Other</td>\n",
       "      <td>Adventure</td>\n",
       "      <td>377845905</td>\n",
       "      <td>The Lord of the Rings: The Return of the King</td>\n",
       "      <td>PG-13</td>\n",
       "      <td>17.12.2003 00:00</td>\n",
       "      <td>201</td>\n",
       "      <td>...</td>\n",
       "      <td>The Lord of the Rings: The Return of the King</td>\n",
       "      <td>Aragorn is revealed as the heir to the ancient...</td>\n",
       "      <td>29.324358</td>\n",
       "      <td>The eye of the enemy is moving.</td>\n",
       "      <td>The Lord of the Rings: The Return of the King</td>\n",
       "      <td>Adventure, Fantasy, Action</td>\n",
       "      <td>en</td>\n",
       "      <td>NZ, US</td>\n",
       "      <td>elves, orcs, middle-earth (tolkien), based on ...</td>\n",
       "      <td>2003</td>\n",
       "    </tr>\n",
       "    <tr>\n",
       "      <th>3</th>\n",
       "      <td>40000000</td>\n",
       "      <td>Universal Pictures</td>\n",
       "      <td>Other</td>\n",
       "      <td>Other</td>\n",
       "      <td>Comedy</td>\n",
       "      <td>59696144</td>\n",
       "      <td>Love Actually</td>\n",
       "      <td>R</td>\n",
       "      <td>14.11.2003 00:00</td>\n",
       "      <td>135</td>\n",
       "      <td>...</td>\n",
       "      <td>Love Actually</td>\n",
       "      <td>Follows seemingly unrelated people as their li...</td>\n",
       "      <td>10.586815</td>\n",
       "      <td>The ultimate romantic comedy.</td>\n",
       "      <td>Love Actually</td>\n",
       "      <td>Comedy, Romance, Drama</td>\n",
       "      <td>en, fr, pt</td>\n",
       "      <td>GB, US</td>\n",
       "      <td>london england, male nudity, female nudity, lo...</td>\n",
       "      <td>2003</td>\n",
       "    </tr>\n",
       "    <tr>\n",
       "      <th>4</th>\n",
       "      <td>25000000</td>\n",
       "      <td>Warner Bros.</td>\n",
       "      <td>USA</td>\n",
       "      <td>Clint Eastwood</td>\n",
       "      <td>Crime</td>\n",
       "      <td>90135191</td>\n",
       "      <td>Mystic River</td>\n",
       "      <td>R</td>\n",
       "      <td>15.10.2003 00:00</td>\n",
       "      <td>138</td>\n",
       "      <td>...</td>\n",
       "      <td>Mystic River</td>\n",
       "      <td>A story about friendship and loyalty, guilt an...</td>\n",
       "      <td>12.602438</td>\n",
       "      <td>We bury our sins, we wash them clean.</td>\n",
       "      <td>Mystic River</td>\n",
       "      <td>Thriller, Crime, Drama, Mystery</td>\n",
       "      <td>en</td>\n",
       "      <td>US</td>\n",
       "      <td>child abuse, sexual abuse, loss of child, repa...</td>\n",
       "      <td>2003</td>\n",
       "    </tr>\n",
       "  </tbody>\n",
       "</table>\n",
       "<p>5 rows × 31 columns</p>\n",
       "</div>"
      ],
      "text/plain": [
       "      budget               company country        director      genre  \\\n",
       "0  140000000  Walt Disney Pictures     USA           Other     Action   \n",
       "1   30000000               Miramax     USA           Other     Action   \n",
       "2   94000000       New Line Cinema     USA           Other  Adventure   \n",
       "3   40000000    Universal Pictures   Other           Other     Comedy   \n",
       "4   25000000          Warner Bros.     USA  Clint Eastwood      Crime   \n",
       "\n",
       "       gross                                               name rating  \\\n",
       "0  305413918  Pirates of the Caribbean: The Curse of the Bla...  PG-13   \n",
       "1   70099045                                  Kill Bill: Vol. 1      R   \n",
       "2  377845905      The Lord of the Rings: The Return of the King  PG-13   \n",
       "3   59696144                                      Love Actually      R   \n",
       "4   90135191                                       Mystic River      R   \n",
       "\n",
       "           released  runtime  ...  \\\n",
       "0   9.07.2003 00:00      143  ...   \n",
       "1  10.10.2003 00:00      111  ...   \n",
       "2  17.12.2003 00:00      201  ...   \n",
       "3  14.11.2003 00:00      135  ...   \n",
       "4  15.10.2003 00:00      138  ...   \n",
       "\n",
       "                                      original_title  \\\n",
       "0  Pirates of the Caribbean: The Curse of the Bla...   \n",
       "1                                  Kill Bill: Vol. 1   \n",
       "2      The Lord of the Rings: The Return of the King   \n",
       "3                                      Love Actually   \n",
       "4                                       Mystic River   \n",
       "\n",
       "                                            overview  popularity  \\\n",
       "0  Jack Sparrow, a freewheeling 17th-century pira...   47.326665   \n",
       "1  An assassin is shot at the altar by her ruthle...   25.261865   \n",
       "2  Aragorn is revealed as the heir to the ancient...   29.324358   \n",
       "3  Follows seemingly unrelated people as their li...   10.586815   \n",
       "4  A story about friendship and loyalty, guilt an...   12.602438   \n",
       "\n",
       "                                 tagline  \\\n",
       "0  Prepare to be blown out of the water.   \n",
       "1                       Go for the kill.   \n",
       "2        The eye of the enemy is moving.   \n",
       "3          The ultimate romantic comedy.   \n",
       "4  We bury our sins, we wash them clean.   \n",
       "\n",
       "                                               title  \\\n",
       "0  Pirates of the Caribbean: The Curse of the Bla...   \n",
       "1                                  Kill Bill: Vol. 1   \n",
       "2      The Lord of the Rings: The Return of the King   \n",
       "3                                      Love Actually   \n",
       "4                                       Mystic River   \n",
       "\n",
       "                     genres_edited  spoken_languages_edited  \\\n",
       "0       Adventure, Fantasy, Action                       en   \n",
       "1                    Action, Crime               en, ja, fr   \n",
       "2       Adventure, Fantasy, Action                       en   \n",
       "3           Comedy, Romance, Drama               en, fr, pt   \n",
       "4  Thriller, Crime, Drama, Mystery                       en   \n",
       "\n",
       "   production_countries_edited  \\\n",
       "0                           US   \n",
       "1                           US   \n",
       "2                       NZ, US   \n",
       "3                       GB, US   \n",
       "4                           US   \n",
       "\n",
       "                                     keywords_edited  year_released  \n",
       "0  exotic island, blacksmith, east india trading ...           2003  \n",
       "1  japan, coma, martial arts, kung fu, underworld...           2003  \n",
       "2  elves, orcs, middle-earth (tolkien), based on ...           2003  \n",
       "3  london england, male nudity, female nudity, lo...           2003  \n",
       "4  child abuse, sexual abuse, loss of child, repa...           2003  \n",
       "\n",
       "[5 rows x 31 columns]"
      ]
     },
     "execution_count": 11,
     "metadata": {},
     "output_type": "execute_result"
    }
   ],
   "source": [
    "df.head()   # take a peak at the dataset"
   ]
  },
  {
   "cell_type": "code",
   "execution_count": 12,
   "metadata": {},
   "outputs": [
    {
     "name": "stdout",
     "output_type": "stream",
     "text": [
      "<class 'pandas.core.frame.DataFrame'>\n",
      "RangeIndex: 1761 entries, 0 to 1760\n",
      "Data columns (total 31 columns):\n",
      " #   Column                       Non-Null Count  Dtype  \n",
      "---  ------                       --------------  -----  \n",
      " 0   budget                       1761 non-null   int64  \n",
      " 1   company                      1761 non-null   object \n",
      " 2   country                      1761 non-null   object \n",
      " 3   director                     1761 non-null   object \n",
      " 4   genre                        1761 non-null   object \n",
      " 5   gross                        1761 non-null   int64  \n",
      " 6   name                         1761 non-null   object \n",
      " 7   rating                       1761 non-null   object \n",
      " 8   released                     1761 non-null   object \n",
      " 9   runtime                      1761 non-null   int64  \n",
      " 10  score                        1761 non-null   float64\n",
      " 11  star                         1761 non-null   object \n",
      " 12  votes                        1761 non-null   int64  \n",
      " 13  writer                       1761 non-null   object \n",
      " 14  year                         1761 non-null   int64  \n",
      " 15  isprofit                     1761 non-null   int64  \n",
      " 16  profitability_ratio          1761 non-null   float64\n",
      " 17  profitability_ratio_bucket   1761 non-null   int64  \n",
      " 18  adult                        1761 non-null   object \n",
      " 19  id                           1761 non-null   int64  \n",
      " 20  imdb_id                      1761 non-null   object \n",
      " 21  original_title               1761 non-null   object \n",
      " 22  overview                     1761 non-null   object \n",
      " 23  popularity                   1761 non-null   float64\n",
      " 24  tagline                      1615 non-null   object \n",
      " 25  title                        1761 non-null   object \n",
      " 26  genres_edited                1761 non-null   object \n",
      " 27  spoken_languages_edited      1758 non-null   object \n",
      " 28  production_countries_edited  1752 non-null   object \n",
      " 29  keywords_edited              1701 non-null   object \n",
      " 30  year_released                1761 non-null   int64  \n",
      "dtypes: float64(3), int64(9), object(19)\n",
      "memory usage: 295.9+ KB\n"
     ]
    }
   ],
   "source": [
    "df.info()"
   ]
  },
  {
   "cell_type": "code",
   "execution_count": 13,
   "metadata": {},
   "outputs": [
    {
     "data": {
      "text/plain": [
       "budget                           0\n",
       "company                          0\n",
       "country                          0\n",
       "director                         0\n",
       "genre                            0\n",
       "gross                            0\n",
       "name                             0\n",
       "rating                           0\n",
       "released                         0\n",
       "runtime                          0\n",
       "score                            0\n",
       "star                             0\n",
       "votes                            0\n",
       "writer                           0\n",
       "year                             0\n",
       "isprofit                         0\n",
       "profitability_ratio              0\n",
       "profitability_ratio_bucket       0\n",
       "adult                            0\n",
       "id                               0\n",
       "imdb_id                          0\n",
       "original_title                   0\n",
       "overview                         0\n",
       "popularity                       0\n",
       "tagline                        146\n",
       "title                            0\n",
       "genres_edited                    0\n",
       "spoken_languages_edited          3\n",
       "production_countries_edited      9\n",
       "keywords_edited                 60\n",
       "year_released                    0\n",
       "dtype: int64"
      ]
     },
     "execution_count": 13,
     "metadata": {},
     "output_type": "execute_result"
    }
   ],
   "source": [
    "df.isnull().sum()"
   ]
  },
  {
   "cell_type": "code",
   "execution_count": 14,
   "metadata": {},
   "outputs": [
    {
     "data": {
      "text/html": [
       "<div>\n",
       "<style scoped>\n",
       "    .dataframe tbody tr th:only-of-type {\n",
       "        vertical-align: middle;\n",
       "    }\n",
       "\n",
       "    .dataframe tbody tr th {\n",
       "        vertical-align: top;\n",
       "    }\n",
       "\n",
       "    .dataframe thead th {\n",
       "        text-align: right;\n",
       "    }\n",
       "</style>\n",
       "<table border=\"1\" class=\"dataframe\">\n",
       "  <thead>\n",
       "    <tr style=\"text-align: right;\">\n",
       "      <th></th>\n",
       "      <th>budget</th>\n",
       "      <th>gross</th>\n",
       "      <th>runtime</th>\n",
       "      <th>score</th>\n",
       "      <th>votes</th>\n",
       "      <th>year</th>\n",
       "      <th>isprofit</th>\n",
       "      <th>profitability_ratio</th>\n",
       "      <th>profitability_ratio_bucket</th>\n",
       "      <th>id</th>\n",
       "      <th>popularity</th>\n",
       "      <th>year_released</th>\n",
       "    </tr>\n",
       "  </thead>\n",
       "  <tbody>\n",
       "    <tr>\n",
       "      <th>count</th>\n",
       "      <td>1.761000e+03</td>\n",
       "      <td>1.761000e+03</td>\n",
       "      <td>1761.000000</td>\n",
       "      <td>1761.000000</td>\n",
       "      <td>1.761000e+03</td>\n",
       "      <td>1761.000000</td>\n",
       "      <td>1761.000000</td>\n",
       "      <td>1761.000000</td>\n",
       "      <td>1761.000000</td>\n",
       "      <td>1761.000000</td>\n",
       "      <td>1761.000000</td>\n",
       "      <td>1761.000000</td>\n",
       "    </tr>\n",
       "    <tr>\n",
       "      <th>mean</th>\n",
       "      <td>4.537605e+07</td>\n",
       "      <td>5.847045e+07</td>\n",
       "      <td>107.989779</td>\n",
       "      <td>6.416922</td>\n",
       "      <td>1.267775e+05</td>\n",
       "      <td>2007.089722</td>\n",
       "      <td>0.515048</td>\n",
       "      <td>5.212285</td>\n",
       "      <td>521.071550</td>\n",
       "      <td>75101.222601</td>\n",
       "      <td>11.736641</td>\n",
       "      <td>2009.539466</td>\n",
       "    </tr>\n",
       "    <tr>\n",
       "      <th>std</th>\n",
       "      <td>4.934178e+07</td>\n",
       "      <td>7.947174e+07</td>\n",
       "      <td>17.516256</td>\n",
       "      <td>0.988455</td>\n",
       "      <td>1.589880e+05</td>\n",
       "      <td>67.813731</td>\n",
       "      <td>0.499915</td>\n",
       "      <td>171.583058</td>\n",
       "      <td>17158.343643</td>\n",
       "      <td>98650.533770</td>\n",
       "      <td>17.674824</td>\n",
       "      <td>4.015418</td>\n",
       "    </tr>\n",
       "    <tr>\n",
       "      <th>min</th>\n",
       "      <td>0.000000e+00</td>\n",
       "      <td>0.000000e+00</td>\n",
       "      <td>0.000000</td>\n",
       "      <td>0.000000</td>\n",
       "      <td>0.000000e+00</td>\n",
       "      <td>0.000000</td>\n",
       "      <td>0.000000</td>\n",
       "      <td>-0.999923</td>\n",
       "      <td>-100.000000</td>\n",
       "      <td>0.000000</td>\n",
       "      <td>0.000000</td>\n",
       "      <td>1997.000000</td>\n",
       "    </tr>\n",
       "    <tr>\n",
       "      <th>25%</th>\n",
       "      <td>1.200000e+07</td>\n",
       "      <td>9.396870e+06</td>\n",
       "      <td>97.000000</td>\n",
       "      <td>5.900000</td>\n",
       "      <td>3.147800e+04</td>\n",
       "      <td>2006.000000</td>\n",
       "      <td>0.000000</td>\n",
       "      <td>-0.532721</td>\n",
       "      <td>-50.000000</td>\n",
       "      <td>9910.000000</td>\n",
       "      <td>6.959638</td>\n",
       "      <td>2006.000000</td>\n",
       "    </tr>\n",
       "    <tr>\n",
       "      <th>50%</th>\n",
       "      <td>2.800000e+07</td>\n",
       "      <td>3.211675e+07</td>\n",
       "      <td>104.000000</td>\n",
       "      <td>6.500000</td>\n",
       "      <td>6.982700e+04</td>\n",
       "      <td>2009.000000</td>\n",
       "      <td>1.000000</td>\n",
       "      <td>0.033425</td>\n",
       "      <td>0.000000</td>\n",
       "      <td>22971.000000</td>\n",
       "      <td>9.529382</td>\n",
       "      <td>2010.000000</td>\n",
       "    </tr>\n",
       "    <tr>\n",
       "      <th>75%</th>\n",
       "      <td>6.000000e+07</td>\n",
       "      <td>7.507245e+07</td>\n",
       "      <td>117.000000</td>\n",
       "      <td>7.100000</td>\n",
       "      <td>1.578580e+05</td>\n",
       "      <td>2013.000000</td>\n",
       "      <td>1.000000</td>\n",
       "      <td>0.918280</td>\n",
       "      <td>90.000000</td>\n",
       "      <td>93856.000000</td>\n",
       "      <td>12.868098</td>\n",
       "      <td>2013.000000</td>\n",
       "    </tr>\n",
       "    <tr>\n",
       "      <th>max</th>\n",
       "      <td>3.000000e+08</td>\n",
       "      <td>9.366622e+08</td>\n",
       "      <td>219.000000</td>\n",
       "      <td>8.900000</td>\n",
       "      <td>1.629342e+06</td>\n",
       "      <td>2016.000000</td>\n",
       "      <td>1.000000</td>\n",
       "      <td>7193.587333</td>\n",
       "      <td>719360.000000</td>\n",
       "      <td>404378.000000</td>\n",
       "      <td>547.488298</td>\n",
       "      <td>2017.000000</td>\n",
       "    </tr>\n",
       "  </tbody>\n",
       "</table>\n",
       "</div>"
      ],
      "text/plain": [
       "             budget         gross      runtime        score         votes  \\\n",
       "count  1.761000e+03  1.761000e+03  1761.000000  1761.000000  1.761000e+03   \n",
       "mean   4.537605e+07  5.847045e+07   107.989779     6.416922  1.267775e+05   \n",
       "std    4.934178e+07  7.947174e+07    17.516256     0.988455  1.589880e+05   \n",
       "min    0.000000e+00  0.000000e+00     0.000000     0.000000  0.000000e+00   \n",
       "25%    1.200000e+07  9.396870e+06    97.000000     5.900000  3.147800e+04   \n",
       "50%    2.800000e+07  3.211675e+07   104.000000     6.500000  6.982700e+04   \n",
       "75%    6.000000e+07  7.507245e+07   117.000000     7.100000  1.578580e+05   \n",
       "max    3.000000e+08  9.366622e+08   219.000000     8.900000  1.629342e+06   \n",
       "\n",
       "              year     isprofit  profitability_ratio  \\\n",
       "count  1761.000000  1761.000000          1761.000000   \n",
       "mean   2007.089722     0.515048             5.212285   \n",
       "std      67.813731     0.499915           171.583058   \n",
       "min       0.000000     0.000000            -0.999923   \n",
       "25%    2006.000000     0.000000            -0.532721   \n",
       "50%    2009.000000     1.000000             0.033425   \n",
       "75%    2013.000000     1.000000             0.918280   \n",
       "max    2016.000000     1.000000          7193.587333   \n",
       "\n",
       "       profitability_ratio_bucket             id   popularity  year_released  \n",
       "count                 1761.000000    1761.000000  1761.000000    1761.000000  \n",
       "mean                   521.071550   75101.222601    11.736641    2009.539466  \n",
       "std                  17158.343643   98650.533770    17.674824       4.015418  \n",
       "min                   -100.000000       0.000000     0.000000    1997.000000  \n",
       "25%                    -50.000000    9910.000000     6.959638    2006.000000  \n",
       "50%                      0.000000   22971.000000     9.529382    2010.000000  \n",
       "75%                     90.000000   93856.000000    12.868098    2013.000000  \n",
       "max                 719360.000000  404378.000000   547.488298    2017.000000  "
      ]
     },
     "execution_count": 14,
     "metadata": {},
     "output_type": "execute_result"
    }
   ],
   "source": [
    "df.describe()   # after replacing zero with None"
   ]
  },
  {
   "cell_type": "markdown",
   "metadata": {},
   "source": [
    "## 2.3. Removing Rows <a class=\"anchor\" id=\"23\"></a>"
   ]
  },
  {
   "cell_type": "code",
   "execution_count": 15,
   "metadata": {},
   "outputs": [],
   "source": [
    "data_dropped = df.dropna()"
   ]
  },
  {
   "cell_type": "code",
   "execution_count": 16,
   "metadata": {},
   "outputs": [],
   "source": [
    "data_dropped = data_dropped.reset_index() \n",
    "del data_dropped['index']"
   ]
  },
  {
   "cell_type": "code",
   "execution_count": 17,
   "metadata": {},
   "outputs": [
    {
     "data": {
      "text/plain": [
       "(1567, 31)"
      ]
     },
     "execution_count": 17,
     "metadata": {},
     "output_type": "execute_result"
    }
   ],
   "source": [
    "data_dropped.shape"
   ]
  },
  {
   "cell_type": "code",
   "execution_count": 18,
   "metadata": {},
   "outputs": [
    {
     "data": {
      "text/plain": [
       "(1761, 31)"
      ]
     },
     "execution_count": 18,
     "metadata": {},
     "output_type": "execute_result"
    }
   ],
   "source": [
    "df.shape"
   ]
  },
  {
   "cell_type": "code",
   "execution_count": 19,
   "metadata": {},
   "outputs": [],
   "source": [
    "num_rows_lost = round(100*(df.shape[0] - data_dropped.shape[0])/float(df.shape[0]))"
   ]
  },
  {
   "cell_type": "code",
   "execution_count": 20,
   "metadata": {},
   "outputs": [
    {
     "data": {
      "text/plain": [
       "'retained 11% of rows'"
      ]
     },
     "execution_count": 20,
     "metadata": {},
     "output_type": "execute_result"
    }
   ],
   "source": [
    "template = 'retained {}% of rows'\n",
    "template.format(num_rows_lost)"
   ]
  },
  {
   "cell_type": "code",
   "execution_count": 21,
   "metadata": {},
   "outputs": [
    {
     "data": {
      "text/plain": [
       "isprofit\n",
       "0    738\n",
       "1    829\n",
       "dtype: int64"
      ]
     },
     "execution_count": 21,
     "metadata": {},
     "output_type": "execute_result"
    }
   ],
   "source": [
    "# class distribution\n",
    "class_counts = data_dropped.groupby('isprofit').size()\n",
    "class_counts"
   ]
  },
  {
   "cell_type": "code",
   "execution_count": 22,
   "metadata": {},
   "outputs": [
    {
     "data": {
      "text/plain": [
       "0.4190800681431005"
      ]
     },
     "execution_count": 22,
     "metadata": {},
     "output_type": "execute_result"
    }
   ],
   "source": [
    "class_counts[0]/df['isprofit'].size"
   ]
  },
  {
   "cell_type": "code",
   "execution_count": 23,
   "metadata": {},
   "outputs": [
    {
     "data": {
      "text/plain": [
       "1    0.515048\n",
       "0    0.484952\n",
       "Name: isprofit, dtype: float64"
      ]
     },
     "execution_count": 23,
     "metadata": {},
     "output_type": "execute_result"
    }
   ],
   "source": [
    "df['isprofit'].value_counts(normalize=True)   #  split of trues and falses before rows dropped"
   ]
  },
  {
   "cell_type": "code",
   "execution_count": 24,
   "metadata": {},
   "outputs": [
    {
     "data": {
      "text/plain": [
       "1    0.529036\n",
       "0    0.470964\n",
       "Name: isprofit, dtype: float64"
      ]
     },
     "execution_count": 24,
     "metadata": {},
     "output_type": "execute_result"
    }
   ],
   "source": [
    "data_dropped['isprofit'].value_counts(normalize=True)   #  split of trues and falses after rows dropped"
   ]
  },
  {
   "cell_type": "code",
   "execution_count": 25,
   "metadata": {},
   "outputs": [
    {
     "data": {
      "text/html": [
       "<div>\n",
       "<style scoped>\n",
       "    .dataframe tbody tr th:only-of-type {\n",
       "        vertical-align: middle;\n",
       "    }\n",
       "\n",
       "    .dataframe tbody tr th {\n",
       "        vertical-align: top;\n",
       "    }\n",
       "\n",
       "    .dataframe thead th {\n",
       "        text-align: right;\n",
       "    }\n",
       "</style>\n",
       "<table border=\"1\" class=\"dataframe\">\n",
       "  <thead>\n",
       "    <tr style=\"text-align: right;\">\n",
       "      <th></th>\n",
       "      <th>budget</th>\n",
       "      <th>gross</th>\n",
       "      <th>runtime</th>\n",
       "      <th>score</th>\n",
       "      <th>votes</th>\n",
       "      <th>year</th>\n",
       "      <th>isprofit</th>\n",
       "      <th>profitability_ratio</th>\n",
       "      <th>profitability_ratio_bucket</th>\n",
       "      <th>id</th>\n",
       "      <th>popularity</th>\n",
       "      <th>year_released</th>\n",
       "    </tr>\n",
       "  </thead>\n",
       "  <tbody>\n",
       "    <tr>\n",
       "      <th>count</th>\n",
       "      <td>1.567000e+03</td>\n",
       "      <td>1.567000e+03</td>\n",
       "      <td>1567.000000</td>\n",
       "      <td>1567.000000</td>\n",
       "      <td>1.567000e+03</td>\n",
       "      <td>1567.000000</td>\n",
       "      <td>1567.000000</td>\n",
       "      <td>1567.000000</td>\n",
       "      <td>1567.000000</td>\n",
       "      <td>1567.000000</td>\n",
       "      <td>1567.000000</td>\n",
       "      <td>1567.000000</td>\n",
       "    </tr>\n",
       "    <tr>\n",
       "      <th>mean</th>\n",
       "      <td>4.813278e+07</td>\n",
       "      <td>6.255069e+07</td>\n",
       "      <td>108.402042</td>\n",
       "      <td>6.438226</td>\n",
       "      <td>1.361677e+05</td>\n",
       "      <td>2006.818124</td>\n",
       "      <td>0.529036</td>\n",
       "      <td>5.804904</td>\n",
       "      <td>580.328015</td>\n",
       "      <td>73409.877473</td>\n",
       "      <td>12.199945</td>\n",
       "      <td>2009.529036</td>\n",
       "    </tr>\n",
       "    <tr>\n",
       "      <th>std</th>\n",
       "      <td>5.040355e+07</td>\n",
       "      <td>8.209634e+07</td>\n",
       "      <td>17.742351</td>\n",
       "      <td>0.987715</td>\n",
       "      <td>1.638601e+05</td>\n",
       "      <td>71.871911</td>\n",
       "      <td>0.499316</td>\n",
       "      <td>181.890448</td>\n",
       "      <td>18189.085249</td>\n",
       "      <td>97176.910102</td>\n",
       "      <td>18.539862</td>\n",
       "      <td>3.990444</td>\n",
       "    </tr>\n",
       "    <tr>\n",
       "      <th>min</th>\n",
       "      <td>0.000000e+00</td>\n",
       "      <td>0.000000e+00</td>\n",
       "      <td>0.000000</td>\n",
       "      <td>0.000000</td>\n",
       "      <td>0.000000e+00</td>\n",
       "      <td>0.000000</td>\n",
       "      <td>0.000000</td>\n",
       "      <td>-0.999923</td>\n",
       "      <td>-100.000000</td>\n",
       "      <td>0.000000</td>\n",
       "      <td>0.000000</td>\n",
       "      <td>1997.000000</td>\n",
       "    </tr>\n",
       "    <tr>\n",
       "      <th>25%</th>\n",
       "      <td>1.400000e+07</td>\n",
       "      <td>1.216197e+07</td>\n",
       "      <td>97.000000</td>\n",
       "      <td>5.900000</td>\n",
       "      <td>3.521150e+04</td>\n",
       "      <td>2006.000000</td>\n",
       "      <td>0.000000</td>\n",
       "      <td>-0.486617</td>\n",
       "      <td>-50.000000</td>\n",
       "      <td>9740.000000</td>\n",
       "      <td>7.280527</td>\n",
       "      <td>2006.000000</td>\n",
       "    </tr>\n",
       "    <tr>\n",
       "      <th>50%</th>\n",
       "      <td>3.000000e+07</td>\n",
       "      <td>3.576314e+07</td>\n",
       "      <td>105.000000</td>\n",
       "      <td>6.500000</td>\n",
       "      <td>7.759800e+04</td>\n",
       "      <td>2009.000000</td>\n",
       "      <td>1.000000</td>\n",
       "      <td>0.069583</td>\n",
       "      <td>10.000000</td>\n",
       "      <td>22947.000000</td>\n",
       "      <td>9.863584</td>\n",
       "      <td>2010.000000</td>\n",
       "    </tr>\n",
       "    <tr>\n",
       "      <th>75%</th>\n",
       "      <td>6.150000e+07</td>\n",
       "      <td>8.007556e+07</td>\n",
       "      <td>117.000000</td>\n",
       "      <td>7.100000</td>\n",
       "      <td>1.730975e+05</td>\n",
       "      <td>2013.000000</td>\n",
       "      <td>1.000000</td>\n",
       "      <td>0.929669</td>\n",
       "      <td>90.000000</td>\n",
       "      <td>89143.000000</td>\n",
       "      <td>13.186534</td>\n",
       "      <td>2013.000000</td>\n",
       "    </tr>\n",
       "    <tr>\n",
       "      <th>max</th>\n",
       "      <td>3.000000e+08</td>\n",
       "      <td>9.366622e+08</td>\n",
       "      <td>219.000000</td>\n",
       "      <td>8.900000</td>\n",
       "      <td>1.629342e+06</td>\n",
       "      <td>2016.000000</td>\n",
       "      <td>1.000000</td>\n",
       "      <td>7193.587333</td>\n",
       "      <td>719360.000000</td>\n",
       "      <td>404378.000000</td>\n",
       "      <td>547.488298</td>\n",
       "      <td>2017.000000</td>\n",
       "    </tr>\n",
       "  </tbody>\n",
       "</table>\n",
       "</div>"
      ],
      "text/plain": [
       "             budget         gross      runtime        score         votes  \\\n",
       "count  1.567000e+03  1.567000e+03  1567.000000  1567.000000  1.567000e+03   \n",
       "mean   4.813278e+07  6.255069e+07   108.402042     6.438226  1.361677e+05   \n",
       "std    5.040355e+07  8.209634e+07    17.742351     0.987715  1.638601e+05   \n",
       "min    0.000000e+00  0.000000e+00     0.000000     0.000000  0.000000e+00   \n",
       "25%    1.400000e+07  1.216197e+07    97.000000     5.900000  3.521150e+04   \n",
       "50%    3.000000e+07  3.576314e+07   105.000000     6.500000  7.759800e+04   \n",
       "75%    6.150000e+07  8.007556e+07   117.000000     7.100000  1.730975e+05   \n",
       "max    3.000000e+08  9.366622e+08   219.000000     8.900000  1.629342e+06   \n",
       "\n",
       "              year     isprofit  profitability_ratio  \\\n",
       "count  1567.000000  1567.000000          1567.000000   \n",
       "mean   2006.818124     0.529036             5.804904   \n",
       "std      71.871911     0.499316           181.890448   \n",
       "min       0.000000     0.000000            -0.999923   \n",
       "25%    2006.000000     0.000000            -0.486617   \n",
       "50%    2009.000000     1.000000             0.069583   \n",
       "75%    2013.000000     1.000000             0.929669   \n",
       "max    2016.000000     1.000000          7193.587333   \n",
       "\n",
       "       profitability_ratio_bucket             id   popularity  year_released  \n",
       "count                 1567.000000    1567.000000  1567.000000    1567.000000  \n",
       "mean                   580.328015   73409.877473    12.199945    2009.529036  \n",
       "std                  18189.085249   97176.910102    18.539862       3.990444  \n",
       "min                   -100.000000       0.000000     0.000000    1997.000000  \n",
       "25%                    -50.000000    9740.000000     7.280527    2006.000000  \n",
       "50%                     10.000000   22947.000000     9.863584    2010.000000  \n",
       "75%                     90.000000   89143.000000    13.186534    2013.000000  \n",
       "max                 719360.000000  404378.000000   547.488298    2017.000000  "
      ]
     },
     "execution_count": 25,
     "metadata": {},
     "output_type": "execute_result"
    }
   ],
   "source": [
    "data_dropped.describe()   # after removing rows which include NaN"
   ]
  },
  {
   "cell_type": "code",
   "execution_count": 26,
   "metadata": {},
   "outputs": [
    {
     "data": {
      "text/plain": [
       "budget                         6.08\n",
       "gross                          6.98\n",
       "runtime                        0.38\n",
       "score                          0.33\n",
       "votes                          7.41\n",
       "year                          -0.01\n",
       "isprofit                       2.72\n",
       "profitability_ratio           11.37\n",
       "profitability_ratio_bucket    11.37\n",
       "id                            -2.25\n",
       "popularity                     3.95\n",
       "year_released                 -0.00\n",
       "dtype: float64"
      ]
     },
     "execution_count": 26,
     "metadata": {},
     "output_type": "execute_result"
    }
   ],
   "source": [
    "# % change in means of columns before and after dropping missing-value rows\n",
    "change_in_means = ((data_dropped.mean() - df.mean()) / df.mean() * 100).round(2)\n",
    "change_in_means"
   ]
  },
  {
   "cell_type": "markdown",
   "metadata": {},
   "source": [
    "### Bar Chart of the Change in Means"
   ]
  },
  {
   "cell_type": "code",
   "execution_count": 27,
   "metadata": {},
   "outputs": [
    {
     "data": {
      "text/plain": [
       "Text(0, 0.5, '% change')"
      ]
     },
     "execution_count": 27,
     "metadata": {},
     "output_type": "execute_result"
    },
    {
     "data": {
      "image/png": "[encoded data removed]",
      "text/plain": [
       "<Figure size 648x288 with 1 Axes>"
      ]
     },
     "metadata": {},
     "output_type": "display_data"
    }
   ],
   "source": [
    "plt.figure(figsize=(9, 4))\n",
    "change_in_means.plot.bar(title='% change in average column values')\n",
    "plt.ylabel('% change')\n"
   ]
  },
  {
   "cell_type": "markdown",
   "metadata": {},
   "source": [
    "Figure 1: Percent change in average column values\n",
    "<p>Figure 1 shows the percent change in mean of columns before and after dropping missing-value rows.</p>"
   ]
  },
  {
   "cell_type": "markdown",
   "metadata": {},
   "source": [
    "## 2.4. Finding Outliers <a class=\"anchor\" id=\"24\"></a>"
   ]
  },
  {
   "cell_type": "markdown",
   "metadata": {},
   "source": [
    "### 2.4.1. IQR Score Method <a class=\"anchor\" id=\"241\"></a>"
   ]
  },
  {
   "cell_type": "code",
   "execution_count": 28,
   "metadata": {},
   "outputs": [
    {
     "name": "stdout",
     "output_type": "stream",
     "text": [
      "budget                        4.750000e+07\n",
      "gross                         6.791359e+07\n",
      "runtime                       2.000000e+01\n",
      "score                         1.200000e+00\n",
      "votes                         1.378860e+05\n",
      "year                          7.000000e+00\n",
      "isprofit                      1.000000e+00\n",
      "profitability_ratio           1.416286e+00\n",
      "profitability_ratio_bucket    1.400000e+02\n",
      "id                            7.940300e+04\n",
      "popularity                    5.906007e+00\n",
      "year_released                 7.000000e+00\n",
      "dtype: float64\n"
     ]
    }
   ],
   "source": [
    "Q1 = data_dropped.quantile(0.25)\n",
    "Q3 = data_dropped.quantile(0.75)\n",
    "IQR = Q3 - Q1\n",
    "print(IQR)"
   ]
  },
  {
   "cell_type": "code",
   "execution_count": 29,
   "metadata": {},
   "outputs": [
    {
     "name": "stdout",
     "output_type": "stream",
     "text": [
      "      adult  budget  company  country  director  genre  genres_edited  gross  \\\n",
      "0     False    True    False    False     False  False          False   True   \n",
      "1     False   False    False    False     False  False          False  False   \n",
      "2     False   False    False    False     False  False          False   True   \n",
      "3     False   False    False    False     False  False          False  False   \n",
      "4     False   False    False    False     False  False          False  False   \n",
      "...     ...     ...      ...      ...       ...    ...            ...    ...   \n",
      "1562  False   False    False    False     False  False          False  False   \n",
      "1563  False   False    False    False     False  False          False  False   \n",
      "1564  False   False    False    False     False  False          False  False   \n",
      "1565  False   False    False    False     False  False          False  False   \n",
      "1566  False   False    False    False     False  False          False  False   \n",
      "\n",
      "         id  imdb_id  ...  runtime  score  spoken_languages_edited   star  \\\n",
      "0     False    False  ...    False  False                    False  False   \n",
      "1     False    False  ...    False  False                    False  False   \n",
      "2     False    False  ...     True   True                    False  False   \n",
      "3     False    False  ...    False  False                    False  False   \n",
      "4     False    False  ...    False  False                    False  False   \n",
      "...     ...      ...  ...      ...    ...                      ...    ...   \n",
      "1562   True    False  ...    False  False                    False  False   \n",
      "1563   True    False  ...    False  False                    False  False   \n",
      "1564   True    False  ...    False  False                    False  False   \n",
      "1565   True    False  ...    False  False                    False  False   \n",
      "1566   True    False  ...    False  False                    False  False   \n",
      "\n",
      "      tagline  title  votes  writer   year  year_released  \n",
      "0       False  False   True   False  False          False  \n",
      "1       False  False   True   False  False          False  \n",
      "2       False  False   True   False  False          False  \n",
      "3       False  False  False   False  False          False  \n",
      "4       False  False  False   False  False          False  \n",
      "...       ...    ...    ...     ...    ...            ...  \n",
      "1562    False  False  False   False  False          False  \n",
      "1563    False  False  False   False  False          False  \n",
      "1564    False  False  False   False  False          False  \n",
      "1565    False  False  False   False  False          False  \n",
      "1566    False  False  False   False  False          False  \n",
      "\n",
      "[1567 rows x 31 columns]\n"
     ]
    },
    {
     "name": "stderr",
     "output_type": "stream",
     "text": [
      "c:\\users\\jaymish\\desktop\\pcs\\web2txt\\webapp\\venv\\lib\\site-packages\\ipykernel_launcher.py:1: FutureWarning: Automatic reindexing on DataFrame vs Series comparisons is deprecated and will raise ValueError in a future version.  Do `left, right = left.align(right, axis=1, copy=False)` before e.g. `left == right`\n",
      "  \"\"\"Entry point for launching an IPython kernel.\n",
      "c:\\users\\jaymish\\desktop\\pcs\\web2txt\\webapp\\venv\\lib\\site-packages\\ipykernel_launcher.py:1: FutureWarning: Automatic reindexing on DataFrame vs Series comparisons is deprecated and will raise ValueError in a future version.  Do `left, right = left.align(right, axis=1, copy=False)` before e.g. `left == right`\n",
      "  \"\"\"Entry point for launching an IPython kernel.\n"
     ]
    }
   ],
   "source": [
    "print((data_dropped < (Q1 - (1.5 * IQR))) | (data_dropped > (Q3 + (1.5 * IQR))))"
   ]
  },
  {
   "cell_type": "code",
   "execution_count": 30,
   "metadata": {},
   "outputs": [
    {
     "data": {
      "text/plain": [
       "(1567, 31)"
      ]
     },
     "execution_count": 30,
     "metadata": {},
     "output_type": "execute_result"
    }
   ],
   "source": [
    "data_dropped.shape"
   ]
  },
  {
   "cell_type": "code",
   "execution_count": 31,
   "metadata": {},
   "outputs": [
    {
     "name": "stderr",
     "output_type": "stream",
     "text": [
      "c:\\users\\jaymish\\desktop\\pcs\\web2txt\\webapp\\venv\\lib\\site-packages\\ipykernel_launcher.py:1: FutureWarning: Automatic reindexing on DataFrame vs Series comparisons is deprecated and will raise ValueError in a future version.  Do `left, right = left.align(right, axis=1, copy=False)` before e.g. `left == right`\n",
      "  \"\"\"Entry point for launching an IPython kernel.\n",
      "c:\\users\\jaymish\\desktop\\pcs\\web2txt\\webapp\\venv\\lib\\site-packages\\ipykernel_launcher.py:1: FutureWarning: Automatic reindexing on DataFrame vs Series comparisons is deprecated and will raise ValueError in a future version.  Do `left, right = left.align(right, axis=1, copy=False)` before e.g. `left == right`\n",
      "  \"\"\"Entry point for launching an IPython kernel.\n"
     ]
    }
   ],
   "source": [
    "data_dropped_outlier_IQR = data_dropped[~((data_dropped < (Q1 - 1.5 * IQR)) | (data_dropped > (Q3 + 1.5 * IQR))).any(axis=1)]"
   ]
  },
  {
   "cell_type": "code",
   "execution_count": 32,
   "metadata": {},
   "outputs": [
    {
     "data": {
      "text/plain": [
       "(983, 31)"
      ]
     },
     "execution_count": 32,
     "metadata": {},
     "output_type": "execute_result"
    }
   ],
   "source": [
    "data_dropped_outlier_IQR.shape"
   ]
  },
  {
   "cell_type": "code",
   "execution_count": 33,
   "metadata": {},
   "outputs": [
    {
     "data": {
      "text/html": [
       "<div>\n",
       "<style scoped>\n",
       "    .dataframe tbody tr th:only-of-type {\n",
       "        vertical-align: middle;\n",
       "    }\n",
       "\n",
       "    .dataframe tbody tr th {\n",
       "        vertical-align: top;\n",
       "    }\n",
       "\n",
       "    .dataframe thead th {\n",
       "        text-align: right;\n",
       "    }\n",
       "</style>\n",
       "<table border=\"1\" class=\"dataframe\">\n",
       "  <thead>\n",
       "    <tr style=\"text-align: right;\">\n",
       "      <th></th>\n",
       "      <th>budget</th>\n",
       "      <th>company</th>\n",
       "      <th>country</th>\n",
       "      <th>director</th>\n",
       "      <th>genre</th>\n",
       "      <th>gross</th>\n",
       "      <th>name</th>\n",
       "      <th>rating</th>\n",
       "      <th>released</th>\n",
       "      <th>runtime</th>\n",
       "      <th>...</th>\n",
       "      <th>original_title</th>\n",
       "      <th>overview</th>\n",
       "      <th>popularity</th>\n",
       "      <th>tagline</th>\n",
       "      <th>title</th>\n",
       "      <th>genres_edited</th>\n",
       "      <th>spoken_languages_edited</th>\n",
       "      <th>production_countries_edited</th>\n",
       "      <th>keywords_edited</th>\n",
       "      <th>year_released</th>\n",
       "    </tr>\n",
       "  </thead>\n",
       "  <tbody>\n",
       "    <tr>\n",
       "      <th>0</th>\n",
       "      <td>40000000</td>\n",
       "      <td>Universal Pictures</td>\n",
       "      <td>Other</td>\n",
       "      <td>Other</td>\n",
       "      <td>Comedy</td>\n",
       "      <td>59696144</td>\n",
       "      <td>Love Actually</td>\n",
       "      <td>R</td>\n",
       "      <td>14.11.2003 00:00</td>\n",
       "      <td>135</td>\n",
       "      <td>...</td>\n",
       "      <td>Love Actually</td>\n",
       "      <td>Follows seemingly unrelated people as their li...</td>\n",
       "      <td>10.586815</td>\n",
       "      <td>The ultimate romantic comedy.</td>\n",
       "      <td>Love Actually</td>\n",
       "      <td>Comedy, Romance, Drama</td>\n",
       "      <td>en, fr, pt</td>\n",
       "      <td>GB, US</td>\n",
       "      <td>london england, male nudity, female nudity, lo...</td>\n",
       "      <td>2003</td>\n",
       "    </tr>\n",
       "    <tr>\n",
       "      <th>1</th>\n",
       "      <td>25000000</td>\n",
       "      <td>Warner Bros.</td>\n",
       "      <td>USA</td>\n",
       "      <td>Clint Eastwood</td>\n",
       "      <td>Crime</td>\n",
       "      <td>90135191</td>\n",
       "      <td>Mystic River</td>\n",
       "      <td>R</td>\n",
       "      <td>15.10.2003 00:00</td>\n",
       "      <td>138</td>\n",
       "      <td>...</td>\n",
       "      <td>Mystic River</td>\n",
       "      <td>A story about friendship and loyalty, guilt an...</td>\n",
       "      <td>12.602438</td>\n",
       "      <td>We bury our sins, we wash them clean.</td>\n",
       "      <td>Mystic River</td>\n",
       "      <td>Thriller, Crime, Drama, Mystery</td>\n",
       "      <td>en</td>\n",
       "      <td>US</td>\n",
       "      <td>child abuse, sexual abuse, loss of child, repa...</td>\n",
       "      <td>2003</td>\n",
       "    </tr>\n",
       "    <tr>\n",
       "      <th>2</th>\n",
       "      <td>1500000</td>\n",
       "      <td>Fox Searchlight Pictures</td>\n",
       "      <td>USA</td>\n",
       "      <td>Other</td>\n",
       "      <td>Drama</td>\n",
       "      <td>4599680</td>\n",
       "      <td>Thirteen</td>\n",
       "      <td>R</td>\n",
       "      <td>19.09.2003 00:00</td>\n",
       "      <td>100</td>\n",
       "      <td>...</td>\n",
       "      <td>Thirteen</td>\n",
       "      <td>Tracy is a normal 13-year-old trying to make i...</td>\n",
       "      <td>14.379879</td>\n",
       "      <td>It's happening so fast.</td>\n",
       "      <td>Thirteen</td>\n",
       "      <td>Crime, Drama</td>\n",
       "      <td>en, pt, es</td>\n",
       "      <td>US</td>\n",
       "      <td>cheating, dysfunctional family, teen angst, un...</td>\n",
       "      <td>2003</td>\n",
       "    </tr>\n",
       "    <tr>\n",
       "      <th>3</th>\n",
       "      <td>12600000</td>\n",
       "      <td>Summit Entertainment</td>\n",
       "      <td>USA</td>\n",
       "      <td>Other</td>\n",
       "      <td>Horror</td>\n",
       "      <td>15417771</td>\n",
       "      <td>Wrong Turn</td>\n",
       "      <td>R</td>\n",
       "      <td>30.05.2003 00:00</td>\n",
       "      <td>84</td>\n",
       "      <td>...</td>\n",
       "      <td>Wrong Turn</td>\n",
       "      <td>Chris crashes into a carload of other young pe...</td>\n",
       "      <td>14.079718</td>\n",
       "      <td>It's the last one you'll ever take.</td>\n",
       "      <td>Wrong Turn</td>\n",
       "      <td>Horror, Thriller</td>\n",
       "      <td>en</td>\n",
       "      <td>DE, US</td>\n",
       "      <td>life and death, death of a friend, parts of de...</td>\n",
       "      <td>2003</td>\n",
       "    </tr>\n",
       "    <tr>\n",
       "      <th>4</th>\n",
       "      <td>20000000</td>\n",
       "      <td>Walt Disney Pictures</td>\n",
       "      <td>USA</td>\n",
       "      <td>Other</td>\n",
       "      <td>Adventure</td>\n",
       "      <td>67406573</td>\n",
       "      <td>Holes</td>\n",
       "      <td>PG</td>\n",
       "      <td>18.04.2003 00:00</td>\n",
       "      <td>117</td>\n",
       "      <td>...</td>\n",
       "      <td>Holes</td>\n",
       "      <td>Stanley's family is cursed with bad luck. Unfa...</td>\n",
       "      <td>17.193267</td>\n",
       "      <td>Some secrets are too big to keep hidden.</td>\n",
       "      <td>Holes</td>\n",
       "      <td>Adventure, Family, Drama, Comedy</td>\n",
       "      <td>en</td>\n",
       "      <td>US</td>\n",
       "      <td>curse, suitor, false accusations, reference to...</td>\n",
       "      <td>2003</td>\n",
       "    </tr>\n",
       "    <tr>\n",
       "      <th>...</th>\n",
       "      <td>...</td>\n",
       "      <td>...</td>\n",
       "      <td>...</td>\n",
       "      <td>...</td>\n",
       "      <td>...</td>\n",
       "      <td>...</td>\n",
       "      <td>...</td>\n",
       "      <td>...</td>\n",
       "      <td>...</td>\n",
       "      <td>...</td>\n",
       "      <td>...</td>\n",
       "      <td>...</td>\n",
       "      <td>...</td>\n",
       "      <td>...</td>\n",
       "      <td>...</td>\n",
       "      <td>...</td>\n",
       "      <td>...</td>\n",
       "      <td>...</td>\n",
       "      <td>...</td>\n",
       "      <td>...</td>\n",
       "      <td>...</td>\n",
       "    </tr>\n",
       "    <tr>\n",
       "      <th>978</th>\n",
       "      <td>28000000</td>\n",
       "      <td>Other</td>\n",
       "      <td>USA</td>\n",
       "      <td>Other</td>\n",
       "      <td>Comedy</td>\n",
       "      <td>6998324</td>\n",
       "      <td>Our Brand Is Crisis</td>\n",
       "      <td>R</td>\n",
       "      <td>30.10.2015 00:00</td>\n",
       "      <td>107</td>\n",
       "      <td>...</td>\n",
       "      <td>Our Brand Is Crisis</td>\n",
       "      <td>A feature film based on the documentary \"Our B...</td>\n",
       "      <td>12.158176</td>\n",
       "      <td>May the best campaign win.</td>\n",
       "      <td>Our Brand Is Crisis</td>\n",
       "      <td>Comedy, Drama</td>\n",
       "      <td>en</td>\n",
       "      <td>US</td>\n",
       "      <td>bolivia, woman, political campaign, south amer...</td>\n",
       "      <td>2015</td>\n",
       "    </tr>\n",
       "    <tr>\n",
       "      <th>979</th>\n",
       "      <td>10000000</td>\n",
       "      <td>Other</td>\n",
       "      <td>USA</td>\n",
       "      <td>Other</td>\n",
       "      <td>Horror</td>\n",
       "      <td>18300124</td>\n",
       "      <td>Paranormal Activity: The Ghost Dimension</td>\n",
       "      <td>R</td>\n",
       "      <td>23.10.2015 00:00</td>\n",
       "      <td>88</td>\n",
       "      <td>...</td>\n",
       "      <td>Paranormal Activity: The Ghost Dimension</td>\n",
       "      <td>Using a special camera that can see spirits, a...</td>\n",
       "      <td>9.185701</td>\n",
       "      <td>You can't save them. All you can do is watch.</td>\n",
       "      <td>Paranormal Activity: The Ghost Dimension</td>\n",
       "      <td>Horror, Thriller</td>\n",
       "      <td>en</td>\n",
       "      <td>US</td>\n",
       "      <td>terror, supernatural, sequel, demon, found foo...</td>\n",
       "      <td>2015</td>\n",
       "    </tr>\n",
       "    <tr>\n",
       "      <th>980</th>\n",
       "      <td>8000000</td>\n",
       "      <td>Other</td>\n",
       "      <td>USA</td>\n",
       "      <td>Other</td>\n",
       "      <td>Horror</td>\n",
       "      <td>1712111</td>\n",
       "      <td>The Vatican Tapes</td>\n",
       "      <td>PG-13</td>\n",
       "      <td>7.08.2015 00:00</td>\n",
       "      <td>91</td>\n",
       "      <td>...</td>\n",
       "      <td>The Vatican Tapes</td>\n",
       "      <td>In a highly secured vault deep within the wall...</td>\n",
       "      <td>5.149301</td>\n",
       "      <td>For 2,000 years the Vatican has recorded evide...</td>\n",
       "      <td>The Vatican Tapes</td>\n",
       "      <td>Thriller, Horror</td>\n",
       "      <td>en, de</td>\n",
       "      <td>US</td>\n",
       "      <td>exorcism, anti-christ, exorcist</td>\n",
       "      <td>2015</td>\n",
       "    </tr>\n",
       "    <tr>\n",
       "      <th>981</th>\n",
       "      <td>40000000</td>\n",
       "      <td>Other</td>\n",
       "      <td>Other</td>\n",
       "      <td>Other</td>\n",
       "      <td>Action</td>\n",
       "      <td>26830068</td>\n",
       "      <td>Resident Evil: The Final Chapter</td>\n",
       "      <td>R</td>\n",
       "      <td>27.01.2017 00:00</td>\n",
       "      <td>107</td>\n",
       "      <td>...</td>\n",
       "      <td>Resident Evil: The Final Chapter</td>\n",
       "      <td>Picking up immediately after the events in Res...</td>\n",
       "      <td>0.755710</td>\n",
       "      <td>Back to the Hive</td>\n",
       "      <td>Resident Evil: The Final Chapter</td>\n",
       "      <td>Action, Horror, Science Fiction</td>\n",
       "      <td>en</td>\n",
       "      <td>FR, AU, CA, DE</td>\n",
       "      <td>helicopter, monster, underground, mutant, post...</td>\n",
       "      <td>2017</td>\n",
       "    </tr>\n",
       "    <tr>\n",
       "      <th>982</th>\n",
       "      <td>73000000</td>\n",
       "      <td>Columbia Pictures</td>\n",
       "      <td>Other</td>\n",
       "      <td>Other</td>\n",
       "      <td>Animation</td>\n",
       "      <td>107509366</td>\n",
       "      <td>The Angry Birds Movie</td>\n",
       "      <td>PG</td>\n",
       "      <td>20.05.2016 00:00</td>\n",
       "      <td>97</td>\n",
       "      <td>...</td>\n",
       "      <td>The Angry Birds Movie</td>\n",
       "      <td>An island populated entirely by happy, flightl...</td>\n",
       "      <td>11.171927</td>\n",
       "      <td>Why so angry?</td>\n",
       "      <td>The Angry Birds Movie</td>\n",
       "      <td>Family, Animation</td>\n",
       "      <td>en</td>\n",
       "      <td>FI, US</td>\n",
       "      <td>island, bird, pig, talking animal, based on vi...</td>\n",
       "      <td>2016</td>\n",
       "    </tr>\n",
       "  </tbody>\n",
       "</table>\n",
       "<p>983 rows × 31 columns</p>\n",
       "</div>"
      ],
      "text/plain": [
       "       budget                   company country        director      genre  \\\n",
       "0    40000000        Universal Pictures   Other           Other     Comedy   \n",
       "1    25000000              Warner Bros.     USA  Clint Eastwood      Crime   \n",
       "2     1500000  Fox Searchlight Pictures     USA           Other      Drama   \n",
       "3    12600000      Summit Entertainment     USA           Other     Horror   \n",
       "4    20000000      Walt Disney Pictures     USA           Other  Adventure   \n",
       "..        ...                       ...     ...             ...        ...   \n",
       "978  28000000                     Other     USA           Other     Comedy   \n",
       "979  10000000                     Other     USA           Other     Horror   \n",
       "980   8000000                     Other     USA           Other     Horror   \n",
       "981  40000000                     Other   Other           Other     Action   \n",
       "982  73000000         Columbia Pictures   Other           Other  Animation   \n",
       "\n",
       "         gross                                      name rating  \\\n",
       "0     59696144                             Love Actually      R   \n",
       "1     90135191                              Mystic River      R   \n",
       "2      4599680                                  Thirteen      R   \n",
       "3     15417771                                Wrong Turn      R   \n",
       "4     67406573                                     Holes     PG   \n",
       "..         ...                                       ...    ...   \n",
       "978    6998324                       Our Brand Is Crisis      R   \n",
       "979   18300124  Paranormal Activity: The Ghost Dimension      R   \n",
       "980    1712111                         The Vatican Tapes  PG-13   \n",
       "981   26830068          Resident Evil: The Final Chapter      R   \n",
       "982  107509366                     The Angry Birds Movie     PG   \n",
       "\n",
       "             released  runtime  ...                            original_title  \\\n",
       "0    14.11.2003 00:00      135  ...                             Love Actually   \n",
       "1    15.10.2003 00:00      138  ...                              Mystic River   \n",
       "2    19.09.2003 00:00      100  ...                                  Thirteen   \n",
       "3    30.05.2003 00:00       84  ...                                Wrong Turn   \n",
       "4    18.04.2003 00:00      117  ...                                     Holes   \n",
       "..                ...      ...  ...                                       ...   \n",
       "978  30.10.2015 00:00      107  ...                       Our Brand Is Crisis   \n",
       "979  23.10.2015 00:00       88  ...  Paranormal Activity: The Ghost Dimension   \n",
       "980   7.08.2015 00:00       91  ...                         The Vatican Tapes   \n",
       "981  27.01.2017 00:00      107  ...          Resident Evil: The Final Chapter   \n",
       "982  20.05.2016 00:00       97  ...                     The Angry Birds Movie   \n",
       "\n",
       "                                              overview  popularity  \\\n",
       "0    Follows seemingly unrelated people as their li...   10.586815   \n",
       "1    A story about friendship and loyalty, guilt an...   12.602438   \n",
       "2    Tracy is a normal 13-year-old trying to make i...   14.379879   \n",
       "3    Chris crashes into a carload of other young pe...   14.079718   \n",
       "4    Stanley's family is cursed with bad luck. Unfa...   17.193267   \n",
       "..                                                 ...         ...   \n",
       "978  A feature film based on the documentary \"Our B...   12.158176   \n",
       "979  Using a special camera that can see spirits, a...    9.185701   \n",
       "980  In a highly secured vault deep within the wall...    5.149301   \n",
       "981  Picking up immediately after the events in Res...    0.755710   \n",
       "982  An island populated entirely by happy, flightl...   11.171927   \n",
       "\n",
       "                                               tagline  \\\n",
       "0                        The ultimate romantic comedy.   \n",
       "1                We bury our sins, we wash them clean.   \n",
       "2                              It's happening so fast.   \n",
       "3                  It's the last one you'll ever take.   \n",
       "4             Some secrets are too big to keep hidden.   \n",
       "..                                                 ...   \n",
       "978                         May the best campaign win.   \n",
       "979      You can't save them. All you can do is watch.   \n",
       "980  For 2,000 years the Vatican has recorded evide...   \n",
       "981                                   Back to the Hive   \n",
       "982                                      Why so angry?   \n",
       "\n",
       "                                        title  \\\n",
       "0                               Love Actually   \n",
       "1                                Mystic River   \n",
       "2                                    Thirteen   \n",
       "3                                  Wrong Turn   \n",
       "4                                       Holes   \n",
       "..                                        ...   \n",
       "978                       Our Brand Is Crisis   \n",
       "979  Paranormal Activity: The Ghost Dimension   \n",
       "980                         The Vatican Tapes   \n",
       "981          Resident Evil: The Final Chapter   \n",
       "982                     The Angry Birds Movie   \n",
       "\n",
       "                        genres_edited  spoken_languages_edited  \\\n",
       "0              Comedy, Romance, Drama               en, fr, pt   \n",
       "1     Thriller, Crime, Drama, Mystery                       en   \n",
       "2                        Crime, Drama               en, pt, es   \n",
       "3                    Horror, Thriller                       en   \n",
       "4    Adventure, Family, Drama, Comedy                       en   \n",
       "..                                ...                      ...   \n",
       "978                     Comedy, Drama                       en   \n",
       "979                  Horror, Thriller                       en   \n",
       "980                  Thriller, Horror                   en, de   \n",
       "981   Action, Horror, Science Fiction                       en   \n",
       "982                 Family, Animation                       en   \n",
       "\n",
       "     production_countries_edited  \\\n",
       "0                         GB, US   \n",
       "1                             US   \n",
       "2                             US   \n",
       "3                         DE, US   \n",
       "4                             US   \n",
       "..                           ...   \n",
       "978                           US   \n",
       "979                           US   \n",
       "980                           US   \n",
       "981               FR, AU, CA, DE   \n",
       "982                       FI, US   \n",
       "\n",
       "                                       keywords_edited  year_released  \n",
       "0    london england, male nudity, female nudity, lo...           2003  \n",
       "1    child abuse, sexual abuse, loss of child, repa...           2003  \n",
       "2    cheating, dysfunctional family, teen angst, un...           2003  \n",
       "3    life and death, death of a friend, parts of de...           2003  \n",
       "4    curse, suitor, false accusations, reference to...           2003  \n",
       "..                                                 ...            ...  \n",
       "978  bolivia, woman, political campaign, south amer...           2015  \n",
       "979  terror, supernatural, sequel, demon, found foo...           2015  \n",
       "980                    exorcism, anti-christ, exorcist           2015  \n",
       "981  helicopter, monster, underground, mutant, post...           2017  \n",
       "982  island, bird, pig, talking animal, based on vi...           2016  \n",
       "\n",
       "[983 rows x 31 columns]"
      ]
     },
     "execution_count": 33,
     "metadata": {},
     "output_type": "execute_result"
    }
   ],
   "source": [
    "data_dropped_outlier_IQR = data_dropped_outlier_IQR.reset_index()\n",
    "del data_dropped_outlier_IQR['index']\n",
    "data_dropped_outlier_IQR"
   ]
  },
  {
   "cell_type": "code",
   "execution_count": 34,
   "metadata": {},
   "outputs": [
    {
     "data": {
      "text/html": [
       "<div>\n",
       "<style scoped>\n",
       "    .dataframe tbody tr th:only-of-type {\n",
       "        vertical-align: middle;\n",
       "    }\n",
       "\n",
       "    .dataframe tbody tr th {\n",
       "        vertical-align: top;\n",
       "    }\n",
       "\n",
       "    .dataframe thead th {\n",
       "        text-align: right;\n",
       "    }\n",
       "</style>\n",
       "<table border=\"1\" class=\"dataframe\">\n",
       "  <thead>\n",
       "    <tr style=\"text-align: right;\">\n",
       "      <th></th>\n",
       "      <th>budget</th>\n",
       "      <th>gross</th>\n",
       "      <th>runtime</th>\n",
       "      <th>score</th>\n",
       "      <th>votes</th>\n",
       "      <th>year</th>\n",
       "      <th>isprofit</th>\n",
       "      <th>profitability_ratio</th>\n",
       "      <th>profitability_ratio_bucket</th>\n",
       "      <th>id</th>\n",
       "      <th>popularity</th>\n",
       "      <th>year_released</th>\n",
       "    </tr>\n",
       "  </thead>\n",
       "  <tbody>\n",
       "    <tr>\n",
       "      <th>count</th>\n",
       "      <td>9.830000e+02</td>\n",
       "      <td>9.830000e+02</td>\n",
       "      <td>983.000000</td>\n",
       "      <td>983.000000</td>\n",
       "      <td>983.000000</td>\n",
       "      <td>983.000000</td>\n",
       "      <td>983.000000</td>\n",
       "      <td>983.000000</td>\n",
       "      <td>983.000000</td>\n",
       "      <td>983.000000</td>\n",
       "      <td>983.000000</td>\n",
       "      <td>983.000000</td>\n",
       "    </tr>\n",
       "    <tr>\n",
       "      <th>mean</th>\n",
       "      <td>3.668745e+07</td>\n",
       "      <td>3.752697e+07</td>\n",
       "      <td>106.020346</td>\n",
       "      <td>6.351068</td>\n",
       "      <td>90607.953204</td>\n",
       "      <td>2008.147508</td>\n",
       "      <td>0.444557</td>\n",
       "      <td>0.053078</td>\n",
       "      <td>5.082401</td>\n",
       "      <td>36069.497457</td>\n",
       "      <td>9.304365</td>\n",
       "      <td>2008.326551</td>\n",
       "    </tr>\n",
       "    <tr>\n",
       "      <th>std</th>\n",
       "      <td>2.787179e+07</td>\n",
       "      <td>3.627683e+07</td>\n",
       "      <td>13.733557</td>\n",
       "      <td>0.782781</td>\n",
       "      <td>78462.677340</td>\n",
       "      <td>3.290672</td>\n",
       "      <td>0.497170</td>\n",
       "      <td>0.850981</td>\n",
       "      <td>85.239404</td>\n",
       "      <td>44709.586207</td>\n",
       "      <td>3.395678</td>\n",
       "      <td>3.328299</td>\n",
       "    </tr>\n",
       "    <tr>\n",
       "      <th>min</th>\n",
       "      <td>5.000000e+04</td>\n",
       "      <td>1.098000e+03</td>\n",
       "      <td>72.000000</td>\n",
       "      <td>4.200000</td>\n",
       "      <td>2365.000000</td>\n",
       "      <td>2003.000000</td>\n",
       "      <td>0.000000</td>\n",
       "      <td>-0.999923</td>\n",
       "      <td>-100.000000</td>\n",
       "      <td>25.000000</td>\n",
       "      <td>0.393865</td>\n",
       "      <td>2003.000000</td>\n",
       "    </tr>\n",
       "    <tr>\n",
       "      <th>25%</th>\n",
       "      <td>1.500000e+07</td>\n",
       "      <td>8.523694e+06</td>\n",
       "      <td>97.000000</td>\n",
       "      <td>5.900000</td>\n",
       "      <td>32535.000000</td>\n",
       "      <td>2005.000000</td>\n",
       "      <td>0.000000</td>\n",
       "      <td>-0.571890</td>\n",
       "      <td>-60.000000</td>\n",
       "      <td>9386.000000</td>\n",
       "      <td>6.816956</td>\n",
       "      <td>2005.500000</td>\n",
       "    </tr>\n",
       "    <tr>\n",
       "      <th>50%</th>\n",
       "      <td>3.000000e+07</td>\n",
       "      <td>2.659365e+07</td>\n",
       "      <td>104.000000</td>\n",
       "      <td>6.400000</td>\n",
       "      <td>65254.000000</td>\n",
       "      <td>2008.000000</td>\n",
       "      <td>0.000000</td>\n",
       "      <td>-0.130442</td>\n",
       "      <td>-10.000000</td>\n",
       "      <td>13811.000000</td>\n",
       "      <td>8.940007</td>\n",
       "      <td>2008.000000</td>\n",
       "    </tr>\n",
       "    <tr>\n",
       "      <th>75%</th>\n",
       "      <td>5.250000e+07</td>\n",
       "      <td>5.602502e+07</td>\n",
       "      <td>114.000000</td>\n",
       "      <td>6.900000</td>\n",
       "      <td>121938.500000</td>\n",
       "      <td>2011.000000</td>\n",
       "      <td>1.000000</td>\n",
       "      <td>0.470936</td>\n",
       "      <td>50.000000</td>\n",
       "      <td>48705.000000</td>\n",
       "      <td>11.466636</td>\n",
       "      <td>2011.000000</td>\n",
       "    </tr>\n",
       "    <tr>\n",
       "      <th>max</th>\n",
       "      <td>1.300000e+08</td>\n",
       "      <td>1.794956e+08</td>\n",
       "      <td>147.000000</td>\n",
       "      <td>8.200000</td>\n",
       "      <td>379648.000000</td>\n",
       "      <td>2016.000000</td>\n",
       "      <td>1.000000</td>\n",
       "      <td>3.021717</td>\n",
       "      <td>300.000000</td>\n",
       "      <td>205775.000000</td>\n",
       "      <td>21.708267</td>\n",
       "      <td>2017.000000</td>\n",
       "    </tr>\n",
       "  </tbody>\n",
       "</table>\n",
       "</div>"
      ],
      "text/plain": [
       "             budget         gross     runtime       score          votes  \\\n",
       "count  9.830000e+02  9.830000e+02  983.000000  983.000000     983.000000   \n",
       "mean   3.668745e+07  3.752697e+07  106.020346    6.351068   90607.953204   \n",
       "std    2.787179e+07  3.627683e+07   13.733557    0.782781   78462.677340   \n",
       "min    5.000000e+04  1.098000e+03   72.000000    4.200000    2365.000000   \n",
       "25%    1.500000e+07  8.523694e+06   97.000000    5.900000   32535.000000   \n",
       "50%    3.000000e+07  2.659365e+07  104.000000    6.400000   65254.000000   \n",
       "75%    5.250000e+07  5.602502e+07  114.000000    6.900000  121938.500000   \n",
       "max    1.300000e+08  1.794956e+08  147.000000    8.200000  379648.000000   \n",
       "\n",
       "              year    isprofit  profitability_ratio  \\\n",
       "count   983.000000  983.000000           983.000000   \n",
       "mean   2008.147508    0.444557             0.053078   \n",
       "std       3.290672    0.497170             0.850981   \n",
       "min    2003.000000    0.000000            -0.999923   \n",
       "25%    2005.000000    0.000000            -0.571890   \n",
       "50%    2008.000000    0.000000            -0.130442   \n",
       "75%    2011.000000    1.000000             0.470936   \n",
       "max    2016.000000    1.000000             3.021717   \n",
       "\n",
       "       profitability_ratio_bucket             id  popularity  year_released  \n",
       "count                  983.000000     983.000000  983.000000     983.000000  \n",
       "mean                     5.082401   36069.497457    9.304365    2008.326551  \n",
       "std                     85.239404   44709.586207    3.395678       3.328299  \n",
       "min                   -100.000000      25.000000    0.393865    2003.000000  \n",
       "25%                    -60.000000    9386.000000    6.816956    2005.500000  \n",
       "50%                    -10.000000   13811.000000    8.940007    2008.000000  \n",
       "75%                     50.000000   48705.000000   11.466636    2011.000000  \n",
       "max                    300.000000  205775.000000   21.708267    2017.000000  "
      ]
     },
     "execution_count": 34,
     "metadata": {},
     "output_type": "execute_result"
    }
   ],
   "source": [
    "data_dropped_outlier_IQR.describe()"
   ]
  },
  {
   "cell_type": "markdown",
   "metadata": {},
   "source": [
    "## 2.5. Box Plot <a class=\"anchor\" id=\"25\"></a>"
   ]
  },
  {
   "cell_type": "markdown",
   "metadata": {},
   "source": [
    "### Boxplot of Initial Data"
   ]
  },
  {
   "cell_type": "code",
   "execution_count": 35,
   "metadata": {},
   "outputs": [
    {
     "data": {
      "text/plain": [
       "<AxesSubplot:>"
      ]
     },
     "execution_count": 35,
     "metadata": {},
     "output_type": "execute_result"
    },
    {
     "data": {
      "image/png": "[encoded data removed]",
      "text/plain": [
       "<Figure size 2304x1008 with 1 Axes>"
      ]
     },
     "metadata": {},
     "output_type": "display_data"
    }
   ],
   "source": [
    "df.plot(x=df.index.name, kind='box', figsize=(32, 14))"
   ]
  },
  {
   "cell_type": "markdown",
   "metadata": {},
   "source": [
    "Figure 2: Data Distribution before Cleaning\n",
    "<p>Figure 2 shows the distribution of the data before dropping rows. The graph represents five number summary: “minimum, first quartile, median, third quartile, and ''maximum”. The ends of the box are the quartiles, Q1 and Q3, while the box length is interquartile range (IQR). Two lines (called whiskers) outside the box extend to the smallest (Minimum) and largest (Maximum) observations. The circles are the outliers.</p>"
   ]
  },
  {
   "cell_type": "markdown",
   "metadata": {},
   "source": [
    "### Boxplot of Dropped Data"
   ]
  },
  {
   "cell_type": "code",
   "execution_count": 36,
   "metadata": {},
   "outputs": [
    {
     "data": {
      "text/plain": [
       "<AxesSubplot:>"
      ]
     },
     "execution_count": 36,
     "metadata": {},
     "output_type": "execute_result"
    },
    {
     "data": {
      "image/png": "[encoded data removed]",
      "text/plain": [
       "<Figure size 2304x1008 with 1 Axes>"
      ]
     },
     "metadata": {},
     "output_type": "display_data"
    }
   ],
   "source": [
    "data_dropped.plot(x=data_dropped.index.name, kind='box', figsize=(32, 14))"
   ]
  },
  {
   "cell_type": "markdown",
   "metadata": {},
   "source": [
    "Figure 3: Data Distribution of Dropped Data\n",
    "<p>Figure 3 shows the distibution of data after dropping rows with the value NaN. The graph represents five number summary: “minimum, first quartile, median, third quartile, and ''maximum”. The ends of the box are the quartiles, Q1 and Q3, while the box length is interquartile range (IQR). Two lines (called whiskers) outside the box extend to the smallest (Minimum) and largest (Maximum) observations. The circles are the outliers.</p>"
   ]
  },
  {
   "cell_type": "markdown",
   "metadata": {},
   "source": [
    "### Boxplot of Dropped Outlier Data"
   ]
  },
  {
   "cell_type": "code",
   "execution_count": 37,
   "metadata": {},
   "outputs": [
    {
     "data": {
      "text/plain": [
       "<AxesSubplot:>"
      ]
     },
     "execution_count": 37,
     "metadata": {},
     "output_type": "execute_result"
    },
    {
     "data": {
      "image/png": "[encoded data removed]",
      "text/plain": [
       "<Figure size 3312x1008 with 1 Axes>"
      ]
     },
     "metadata": {},
     "output_type": "display_data"
    }
   ],
   "source": [
    "data_dropped_outlier_IQR.plot(x=data_dropped_outlier_IQR.index.name, kind='box', figsize=(46, 14))"
   ]
  },
  {
   "cell_type": "markdown",
   "metadata": {},
   "source": [
    "Figure 4: Data Distribution of Outlier Data\n",
    "<p>Figure 4 shows the distributoion of data after dropping outliers. The graph represents five number summary: “minimum, first quartile, median, third quartile, and ''maximum”. The ends of the box are the quartiles, Q1 and Q3, while the box length is interquartile range (IQR). Two lines (called whiskers) outside the box extend to the smallest (Minimum) and largest (Maximum) observations. The circles are the outliers.</p>"
   ]
  },
  {
   "cell_type": "markdown",
   "metadata": {},
   "source": [
    "# 3. Data Transformation <a class=\"anchor\" id=\"3\"></a>"
   ]
  },
  {
   "cell_type": "markdown",
   "metadata": {},
   "source": [
    "Our data has the following columns that we can perform transformation on:\n",
    "* budget\n",
    "* runtime\n",
    "* score\n",
    "* votes\n",
    "* popularity\n",
    "\n",
    "<p>\n",
    "> We want to discretize and normalize the data so it will be ready for the modeling stage.\n",
    "<br><br>\n",
    "> After writing some general functions, we will perform the transformations one by one.\n",
    "</p>"
   ]
  },
  {
   "cell_type": "markdown",
   "metadata": {},
   "source": [
    "## 3.1. Binning <a class=\"anchor\" id=\"31\"></a>"
   ]
  },
  {
   "cell_type": "markdown",
   "metadata": {},
   "source": [
    "Below, we iterate over all continuous features and use binning to discretize the data. At the end, we summarize the results by indicating the 4 intervals that our data was partitioned into."
   ]
  },
  {
   "cell_type": "code",
   "execution_count": 38,
   "metadata": {},
   "outputs": [
    {
     "data": {
      "text/plain": [
       "count    9.830000e+02\n",
       "mean     3.668745e+07\n",
       "std      2.787179e+07\n",
       "min      5.000000e+04\n",
       "25%      1.500000e+07\n",
       "50%      3.000000e+07\n",
       "75%      5.250000e+07\n",
       "max      1.300000e+08\n",
       "Name: budget, dtype: float64"
      ]
     },
     "metadata": {},
     "output_type": "display_data"
    },
    {
     "data": {
      "text/plain": [
       "0       (30000000.0, 52500000.0]\n",
       "1       (15000000.0, 30000000.0]\n",
       "2        (49999.999, 15000000.0]\n",
       "3        (49999.999, 15000000.0]\n",
       "4       (15000000.0, 30000000.0]\n",
       "                 ...            \n",
       "978     (15000000.0, 30000000.0]\n",
       "979      (49999.999, 15000000.0]\n",
       "980      (49999.999, 15000000.0]\n",
       "981     (30000000.0, 52500000.0]\n",
       "982    (52500000.0, 130000000.0]\n",
       "Name: budget, Length: 983, dtype: category\n",
       "Categories (4, interval[float64]): [(49999.999, 15000000.0] < (15000000.0, 30000000.0] < (30000000.0, 52500000.0] < (52500000.0, 130000000.0]]"
      ]
     },
     "metadata": {},
     "output_type": "display_data"
    },
    {
     "data": {
      "text/plain": [
       "(15000000.0, 30000000.0]     272\n",
       "(49999.999, 15000000.0]      256\n",
       "(52500000.0, 130000000.0]    246\n",
       "(30000000.0, 52500000.0]     209\n",
       "Name: budget, dtype: int64"
      ]
     },
     "metadata": {},
     "output_type": "display_data"
    },
    {
     "data": {
      "text/plain": [
       "count    983.000000\n",
       "mean     106.020346\n",
       "std       13.733557\n",
       "min       72.000000\n",
       "25%       97.000000\n",
       "50%      104.000000\n",
       "75%      114.000000\n",
       "max      147.000000\n",
       "Name: runtime, dtype: float64"
      ]
     },
     "metadata": {},
     "output_type": "display_data"
    },
    {
     "data": {
      "text/plain": [
       "0      (114.0, 147.0]\n",
       "1      (114.0, 147.0]\n",
       "2       (97.0, 104.0]\n",
       "3      (71.999, 97.0]\n",
       "4      (114.0, 147.0]\n",
       "            ...      \n",
       "978    (104.0, 114.0]\n",
       "979    (71.999, 97.0]\n",
       "980    (71.999, 97.0]\n",
       "981    (104.0, 114.0]\n",
       "982    (71.999, 97.0]\n",
       "Name: runtime, Length: 983, dtype: category\n",
       "Categories (4, interval[float64]): [(71.999, 97.0] < (97.0, 104.0] < (104.0, 114.0] < (114.0, 147.0]]"
      ]
     },
     "metadata": {},
     "output_type": "display_data"
    },
    {
     "data": {
      "text/plain": [
       "(71.999, 97.0]    264\n",
       "(97.0, 104.0]     252\n",
       "(114.0, 147.0]    245\n",
       "(104.0, 114.0]    222\n",
       "Name: runtime, dtype: int64"
      ]
     },
     "metadata": {},
     "output_type": "display_data"
    },
    {
     "data": {
      "text/plain": [
       "count    983.000000\n",
       "mean       6.351068\n",
       "std        0.782781\n",
       "min        4.200000\n",
       "25%        5.900000\n",
       "50%        6.400000\n",
       "75%        6.900000\n",
       "max        8.200000\n",
       "Name: score, dtype: float64"
      ]
     },
     "metadata": {},
     "output_type": "display_data"
    },
    {
     "data": {
      "text/plain": [
       "0        (6.9, 8.2]\n",
       "1        (6.9, 8.2]\n",
       "2        (6.4, 6.9]\n",
       "3        (5.9, 6.4]\n",
       "4        (6.9, 8.2]\n",
       "           ...     \n",
       "978      (5.9, 6.4]\n",
       "979    (4.199, 5.9]\n",
       "980    (4.199, 5.9]\n",
       "981    (4.199, 5.9]\n",
       "982      (5.9, 6.4]\n",
       "Name: score, Length: 983, dtype: category\n",
       "Categories (4, interval[float64]): [(4.199, 5.9] < (5.9, 6.4] < (6.4, 6.9] < (6.9, 8.2]]"
      ]
     },
     "metadata": {},
     "output_type": "display_data"
    },
    {
     "data": {
      "text/plain": [
       "(4.199, 5.9]    288\n",
       "(6.4, 6.9]      239\n",
       "(6.9, 8.2]      233\n",
       "(5.9, 6.4]      223\n",
       "Name: score, dtype: int64"
      ]
     },
     "metadata": {},
     "output_type": "display_data"
    },
    {
     "data": {
      "text/plain": [
       "count       983.000000\n",
       "mean      90607.953204\n",
       "std       78462.677340\n",
       "min        2365.000000\n",
       "25%       32535.000000\n",
       "50%       65254.000000\n",
       "75%      121938.500000\n",
       "max      379648.000000\n",
       "Name: votes, dtype: float64"
      ]
     },
     "metadata": {},
     "output_type": "display_data"
    },
    {
     "data": {
      "text/plain": [
       "0      (121938.5, 379648.0]\n",
       "1      (121938.5, 379648.0]\n",
       "2       (65254.0, 121938.5]\n",
       "3       (65254.0, 121938.5]\n",
       "4        (32535.0, 65254.0]\n",
       "               ...         \n",
       "978     (2364.999, 32535.0]\n",
       "979     (2364.999, 32535.0]\n",
       "980     (2364.999, 32535.0]\n",
       "981      (32535.0, 65254.0]\n",
       "982      (32535.0, 65254.0]\n",
       "Name: votes, Length: 983, dtype: category\n",
       "Categories (4, interval[float64]): [(2364.999, 32535.0] < (32535.0, 65254.0] < (65254.0, 121938.5] < (121938.5, 379648.0]]"
      ]
     },
     "metadata": {},
     "output_type": "display_data"
    },
    {
     "data": {
      "text/plain": [
       "(2364.999, 32535.0]     246\n",
       "(32535.0, 65254.0]      246\n",
       "(121938.5, 379648.0]    246\n",
       "(65254.0, 121938.5]     245\n",
       "Name: votes, dtype: int64"
      ]
     },
     "metadata": {},
     "output_type": "display_data"
    },
    {
     "data": {
      "text/plain": [
       "count    983.000000\n",
       "mean       9.304365\n",
       "std        3.395678\n",
       "min        0.393865\n",
       "25%        6.816956\n",
       "50%        8.940007\n",
       "75%       11.466636\n",
       "max       21.708267\n",
       "Name: popularity, dtype: float64"
      ]
     },
     "metadata": {},
     "output_type": "display_data"
    },
    {
     "data": {
      "text/plain": [
       "0        (8.94, 11.467]\n",
       "1      (11.467, 21.708]\n",
       "2      (11.467, 21.708]\n",
       "3      (11.467, 21.708]\n",
       "4      (11.467, 21.708]\n",
       "             ...       \n",
       "978    (11.467, 21.708]\n",
       "979      (8.94, 11.467]\n",
       "980      (0.393, 6.817]\n",
       "981      (0.393, 6.817]\n",
       "982      (8.94, 11.467]\n",
       "Name: popularity, Length: 983, dtype: category\n",
       "Categories (4, interval[float64]): [(0.393, 6.817] < (6.817, 8.94] < (8.94, 11.467] < (11.467, 21.708]]"
      ]
     },
     "metadata": {},
     "output_type": "display_data"
    },
    {
     "data": {
      "text/plain": [
       "(0.393, 6.817]      246\n",
       "(6.817, 8.94]       246\n",
       "(11.467, 21.708]    246\n",
       "(8.94, 11.467]      245\n",
       "Name: popularity, dtype: int64"
      ]
     },
     "metadata": {},
     "output_type": "display_data"
    }
   ],
   "source": [
    "for i in continuous_features:\n",
    "    display(data_dropped_outlier_IQR[i].describe())\n",
    "\n",
    "    display(pd.qcut(data_dropped_outlier_IQR[i], q=4))\n",
    "\n",
    "    display(pd.qcut(data_dropped_outlier_IQR[i], q=4).value_counts())"
   ]
  },
  {
   "cell_type": "markdown",
   "metadata": {},
   "source": [
    "## 3.2. Normalization <a class=\"anchor\" id=\"32\"></a>"
   ]
  },
  {
   "cell_type": "markdown",
   "metadata": {},
   "source": [
    "### 3.2.1. Z-score Method <a class=\"anchor\" id=\"321\"></a>"
   ]
  },
  {
   "cell_type": "code",
   "execution_count": 39,
   "metadata": {},
   "outputs": [
    {
     "data": {
      "text/html": [
       "<div>\n",
       "<style scoped>\n",
       "    .dataframe tbody tr th:only-of-type {\n",
       "        vertical-align: middle;\n",
       "    }\n",
       "\n",
       "    .dataframe tbody tr th {\n",
       "        vertical-align: top;\n",
       "    }\n",
       "\n",
       "    .dataframe thead th {\n",
       "        text-align: right;\n",
       "    }\n",
       "</style>\n",
       "<table border=\"1\" class=\"dataframe\">\n",
       "  <thead>\n",
       "    <tr style=\"text-align: right;\">\n",
       "      <th></th>\n",
       "      <th>budget</th>\n",
       "      <th>runtime</th>\n",
       "      <th>score</th>\n",
       "      <th>votes</th>\n",
       "      <th>popularity</th>\n",
       "    </tr>\n",
       "  </thead>\n",
       "  <tbody>\n",
       "    <tr>\n",
       "      <th>count</th>\n",
       "      <td>9.830000e+02</td>\n",
       "      <td>983.000000</td>\n",
       "      <td>983.000000</td>\n",
       "      <td>983.000000</td>\n",
       "      <td>983.000000</td>\n",
       "    </tr>\n",
       "    <tr>\n",
       "      <th>mean</th>\n",
       "      <td>3.668745e+07</td>\n",
       "      <td>106.020346</td>\n",
       "      <td>6.351068</td>\n",
       "      <td>90607.953204</td>\n",
       "      <td>9.304365</td>\n",
       "    </tr>\n",
       "    <tr>\n",
       "      <th>std</th>\n",
       "      <td>2.787179e+07</td>\n",
       "      <td>13.733557</td>\n",
       "      <td>0.782781</td>\n",
       "      <td>78462.677340</td>\n",
       "      <td>3.395678</td>\n",
       "    </tr>\n",
       "    <tr>\n",
       "      <th>min</th>\n",
       "      <td>5.000000e+04</td>\n",
       "      <td>72.000000</td>\n",
       "      <td>4.200000</td>\n",
       "      <td>2365.000000</td>\n",
       "      <td>0.393865</td>\n",
       "    </tr>\n",
       "    <tr>\n",
       "      <th>25%</th>\n",
       "      <td>1.500000e+07</td>\n",
       "      <td>97.000000</td>\n",
       "      <td>5.900000</td>\n",
       "      <td>32535.000000</td>\n",
       "      <td>6.816956</td>\n",
       "    </tr>\n",
       "    <tr>\n",
       "      <th>50%</th>\n",
       "      <td>3.000000e+07</td>\n",
       "      <td>104.000000</td>\n",
       "      <td>6.400000</td>\n",
       "      <td>65254.000000</td>\n",
       "      <td>8.940007</td>\n",
       "    </tr>\n",
       "    <tr>\n",
       "      <th>75%</th>\n",
       "      <td>5.250000e+07</td>\n",
       "      <td>114.000000</td>\n",
       "      <td>6.900000</td>\n",
       "      <td>121938.500000</td>\n",
       "      <td>11.466636</td>\n",
       "    </tr>\n",
       "    <tr>\n",
       "      <th>max</th>\n",
       "      <td>1.300000e+08</td>\n",
       "      <td>147.000000</td>\n",
       "      <td>8.200000</td>\n",
       "      <td>379648.000000</td>\n",
       "      <td>21.708267</td>\n",
       "    </tr>\n",
       "  </tbody>\n",
       "</table>\n",
       "</div>"
      ],
      "text/plain": [
       "             budget     runtime       score          votes  popularity\n",
       "count  9.830000e+02  983.000000  983.000000     983.000000  983.000000\n",
       "mean   3.668745e+07  106.020346    6.351068   90607.953204    9.304365\n",
       "std    2.787179e+07   13.733557    0.782781   78462.677340    3.395678\n",
       "min    5.000000e+04   72.000000    4.200000    2365.000000    0.393865\n",
       "25%    1.500000e+07   97.000000    5.900000   32535.000000    6.816956\n",
       "50%    3.000000e+07  104.000000    6.400000   65254.000000    8.940007\n",
       "75%    5.250000e+07  114.000000    6.900000  121938.500000   11.466636\n",
       "max    1.300000e+08  147.000000    8.200000  379648.000000   21.708267"
      ]
     },
     "execution_count": 39,
     "metadata": {},
     "output_type": "execute_result"
    }
   ],
   "source": [
    "data_dropped_outlier_IQR[continuous_features].describe()"
   ]
  },
  {
   "cell_type": "code",
   "execution_count": 40,
   "metadata": {},
   "outputs": [],
   "source": [
    "scaler = StandardScaler()"
   ]
  },
  {
   "cell_type": "code",
   "execution_count": 41,
   "metadata": {},
   "outputs": [],
   "source": [
    "data_dropped_z_score_scaled = pd.DataFrame(scaler.fit_transform(data_dropped_outlier_IQR[continuous_features]), columns=continuous_features)"
   ]
  },
  {
   "cell_type": "code",
   "execution_count": 42,
   "metadata": {},
   "outputs": [
    {
     "data": {
      "text/html": [
       "<div>\n",
       "<style scoped>\n",
       "    .dataframe tbody tr th:only-of-type {\n",
       "        vertical-align: middle;\n",
       "    }\n",
       "\n",
       "    .dataframe tbody tr th {\n",
       "        vertical-align: top;\n",
       "    }\n",
       "\n",
       "    .dataframe thead th {\n",
       "        text-align: right;\n",
       "    }\n",
       "</style>\n",
       "<table border=\"1\" class=\"dataframe\">\n",
       "  <thead>\n",
       "    <tr style=\"text-align: right;\">\n",
       "      <th></th>\n",
       "      <th>budget</th>\n",
       "      <th>runtime</th>\n",
       "      <th>score</th>\n",
       "      <th>votes</th>\n",
       "      <th>popularity</th>\n",
       "    </tr>\n",
       "  </thead>\n",
       "  <tbody>\n",
       "    <tr>\n",
       "      <th>count</th>\n",
       "      <td>9.830000e+02</td>\n",
       "      <td>9.830000e+02</td>\n",
       "      <td>9.830000e+02</td>\n",
       "      <td>9.830000e+02</td>\n",
       "      <td>9.830000e+02</td>\n",
       "    </tr>\n",
       "    <tr>\n",
       "      <th>mean</th>\n",
       "      <td>1.445662e-17</td>\n",
       "      <td>2.168493e-17</td>\n",
       "      <td>-8.854678e-16</td>\n",
       "      <td>-8.673970e-17</td>\n",
       "      <td>5.059816e-17</td>\n",
       "    </tr>\n",
       "    <tr>\n",
       "      <th>std</th>\n",
       "      <td>1.000509e+00</td>\n",
       "      <td>1.000509e+00</td>\n",
       "      <td>1.000509e+00</td>\n",
       "      <td>1.000509e+00</td>\n",
       "      <td>1.000509e+00</td>\n",
       "    </tr>\n",
       "    <tr>\n",
       "      <th>min</th>\n",
       "      <td>-1.315169e+00</td>\n",
       "      <td>-2.478430e+00</td>\n",
       "      <td>-2.749382e+00</td>\n",
       "      <td>-1.125221e+00</td>\n",
       "      <td>-2.625407e+00</td>\n",
       "    </tr>\n",
       "    <tr>\n",
       "      <th>25%</th>\n",
       "      <td>-7.785109e-01</td>\n",
       "      <td>-6.571450e-01</td>\n",
       "      <td>-5.765315e-01</td>\n",
       "      <td>-7.405115e-01</td>\n",
       "      <td>-7.328948e-01</td>\n",
       "    </tr>\n",
       "    <tr>\n",
       "      <th>50%</th>\n",
       "      <td>-2.400582e-01</td>\n",
       "      <td>-1.471851e-01</td>\n",
       "      <td>6.254209e-02</td>\n",
       "      <td>-3.232984e-01</td>\n",
       "      <td>-1.073551e-01</td>\n",
       "    </tr>\n",
       "    <tr>\n",
       "      <th>75%</th>\n",
       "      <td>5.676207e-01</td>\n",
       "      <td>5.813291e-01</td>\n",
       "      <td>7.016156e-01</td>\n",
       "      <td>3.995084e-01</td>\n",
       "      <td>6.370955e-01</td>\n",
       "    </tr>\n",
       "    <tr>\n",
       "      <th>max</th>\n",
       "      <td>3.349626e+00</td>\n",
       "      <td>2.985426e+00</td>\n",
       "      <td>2.363207e+00</td>\n",
       "      <td>3.685665e+00</td>\n",
       "      <td>3.654709e+00</td>\n",
       "    </tr>\n",
       "  </tbody>\n",
       "</table>\n",
       "</div>"
      ],
      "text/plain": [
       "             budget       runtime         score         votes    popularity\n",
       "count  9.830000e+02  9.830000e+02  9.830000e+02  9.830000e+02  9.830000e+02\n",
       "mean   1.445662e-17  2.168493e-17 -8.854678e-16 -8.673970e-17  5.059816e-17\n",
       "std    1.000509e+00  1.000509e+00  1.000509e+00  1.000509e+00  1.000509e+00\n",
       "min   -1.315169e+00 -2.478430e+00 -2.749382e+00 -1.125221e+00 -2.625407e+00\n",
       "25%   -7.785109e-01 -6.571450e-01 -5.765315e-01 -7.405115e-01 -7.328948e-01\n",
       "50%   -2.400582e-01 -1.471851e-01  6.254209e-02 -3.232984e-01 -1.073551e-01\n",
       "75%    5.676207e-01  5.813291e-01  7.016156e-01  3.995084e-01  6.370955e-01\n",
       "max    3.349626e+00  2.985426e+00  2.363207e+00  3.685665e+00  3.654709e+00"
      ]
     },
     "execution_count": 42,
     "metadata": {},
     "output_type": "execute_result"
    }
   ],
   "source": [
    "data_dropped_z_score_scaled.describe()"
   ]
  },
  {
   "cell_type": "code",
   "execution_count": 43,
   "metadata": {},
   "outputs": [
    {
     "data": {
      "text/plain": [
       "array([[<AxesSubplot:title={'center':'budget'}>,\n",
       "        <AxesSubplot:title={'center':'gross'}>,\n",
       "        <AxesSubplot:title={'center':'runtime'}>],\n",
       "       [<AxesSubplot:title={'center':'score'}>,\n",
       "        <AxesSubplot:title={'center':'votes'}>,\n",
       "        <AxesSubplot:title={'center':'year'}>],\n",
       "       [<AxesSubplot:title={'center':'isprofit'}>,\n",
       "        <AxesSubplot:title={'center':'profitability_ratio'}>,\n",
       "        <AxesSubplot:title={'center':'profitability_ratio_bucket'}>],\n",
       "       [<AxesSubplot:title={'center':'id'}>,\n",
       "        <AxesSubplot:title={'center':'popularity'}>,\n",
       "        <AxesSubplot:title={'center':'year_released'}>]], dtype=object)"
      ]
     },
     "execution_count": 43,
     "metadata": {},
     "output_type": "execute_result"
    },
    {
     "data": {
      "image/png": "[encoded data removed]",
      "text/plain": [
       "<Figure size 1152x1152 with 12 Axes>"
      ]
     },
     "metadata": {},
     "output_type": "display_data"
    }
   ],
   "source": [
    "data_dropped_outlier_IQR.hist(figsize=(16, 16))"
   ]
  },
  {
   "cell_type": "markdown",
   "metadata": {},
   "source": [
    "Figure 6: Histogram of Data Before Normalization\n",
    "<p>Figure 6 shows the bar charts helping us visualize the data befor the five features above have been normalized.</p>"
   ]
  },
  {
   "cell_type": "code",
   "execution_count": 44,
   "metadata": {},
   "outputs": [
    {
     "data": {
      "text/plain": [
       "array([[<AxesSubplot:title={'center':'budget'}>,\n",
       "        <AxesSubplot:title={'center':'runtime'}>],\n",
       "       [<AxesSubplot:title={'center':'score'}>,\n",
       "        <AxesSubplot:title={'center':'votes'}>],\n",
       "       [<AxesSubplot:title={'center':'popularity'}>, <AxesSubplot:>]],\n",
       "      dtype=object)"
      ]
     },
     "execution_count": 44,
     "metadata": {},
     "output_type": "execute_result"
    },
    {
     "data": {
      "image/png": "[encoded data removed]",
      "text/plain": [
       "<Figure size 720x720 with 6 Axes>"
      ]
     },
     "metadata": {},
     "output_type": "display_data"
    }
   ],
   "source": [
    "data_dropped_z_score_scaled.hist(figsize=(10, 10))"
   ]
  },
  {
   "cell_type": "markdown",
   "metadata": {},
   "source": [
    "Figure 7: Histogram of Data After Normalization\n",
    "<p>Figure 7 shows bar charts helping us visualize the data after the five features above have been normalized.</p>"
   ]
  },
  {
   "cell_type": "markdown",
   "metadata": {},
   "source": [
    "Add normalized columns to main dataset as new columns labeled with the feature name they relate to followed by \"_norm\"."
   ]
  },
  {
   "cell_type": "code",
   "execution_count": 45,
   "metadata": {},
   "outputs": [],
   "source": [
    "norm_column_names = ['budget_norm', 'runtime_norm', 'score_norm', 'votes_norm', 'popularity_norm']\n",
    "    \n",
    "for i, j in zip(norm_column_names, continuous_features):\n",
    "    data_dropped_outlier_IQR[i] = pd.Series(data_dropped_z_score_scaled[j])\n"
   ]
  },
  {
   "cell_type": "code",
   "execution_count": 46,
   "metadata": {},
   "outputs": [],
   "source": [
    "data_dropped_outlier_IQR.to_csv('data/training_data.csv')"
   ]
  },
  {
   "cell_type": "markdown",
   "metadata": {},
   "source": [
    "# 4. Results <a class=\"anchor\" id=\"4\"></a>"
   ]
  },
  {
   "cell_type": "markdown",
   "metadata": {},
   "source": [
    "## 4.1. Data Cleaning <a class=\"anchor\" id=\"41\"></a>"
   ]
  },
  {
   "cell_type": "markdown",
   "metadata": {},
   "source": [
    "As we analyze all the features in <a href=\"#21\">Section 2.1.</a> we can see that the only features that need cleaning are overview, tagline, spoken_languages_edited, production_countries_edited and keywords_edited. The rest of the features are clean meaning not missing any values that require either dropping or replacement of those values."
   ]
  },
  {
   "cell_type": "markdown",
   "metadata": {},
   "source": [
    "## 4.2. Data Transformation <a class=\"anchor\" id=\"42\"></a>"
   ]
  },
  {
   "cell_type": "markdown",
   "metadata": {},
   "source": [
    "After analyzing and cleaning the five categorical features found in <a href=\"#21\">Section 2.1.</a> we are able to focus on transforming our data.  \n",
    "\n",
    "<p>Our data includes categorical and continuous types but for transformation we want to focus on five that need to be discretized and normalized in order to be ready for modeling. These five features include budget, runtime, score, votes and popularity. The reason for discretizing the data is so we can partition the data into equal distributions that will be easier to manage and manipulate. After that we can use normalization to give all the attributes an equal weight which is useful to us in the following section where we model our data.</p>"
   ]
  }
 ],
 "metadata": {
  "kernelspec": {
   "display_name": "'Python3'",
   "language": "python",
   "name": "python3"
  },
  "language_info": {
   "codemirror_mode": {
    "name": "ipython",
    "version": 3
   },
   "file_extension": ".py",
   "mimetype": "text/x-python",
   "name": "python",
   "nbconvert_exporter": "python",
   "pygments_lexer": "ipython3",
   "version": "3.7.3"
  }
 },
 "nbformat": 4,
 "nbformat_minor": 2
}
