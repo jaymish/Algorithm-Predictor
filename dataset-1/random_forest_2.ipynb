{
 "cells": [
  {
   "cell_type": "markdown",
   "metadata": {},
   "source": [
    "### Table of Contents:\n",
    "* [1. Preparing the Data](#1)\n",
    "* &emsp;[1.1. Importing Libraries](#11)\n",
    "* [2. Data Cleaning](#2)\n",
    "* &emsp;[2.1. Identifying Missing Values](#21)\n",
    "* &emsp;[2.2. Dealing with Missing Values](#22)\n",
    "* &emsp;[2.3. Removing Rows](#23)\n",
    "* &emsp;[2.4. Finding Outliers](#24)\n",
    "* &emsp;&emsp;[2.4.1. IQR Score Method](#241)\n",
    "* &emsp;[2.5. Box Plot](#25)\n",
    "* [3. Data Transformation](#3)\n",
    "* &emsp;[3.1. Binning](#31)\n",
    "* &emsp;[3.2. Normalization](#32)\n",
    "* &emsp;&emsp;[3.2.1. Z-score Method](#33)\n",
    "* [4. Results](#4)\n",
    "* &emsp;[4.1. Data Cleaning](#41)\n",
    "* &emsp;[4.2. Data Transformation](#42)"
   ]
  },
  {
   "cell_type": "markdown",
   "metadata": {},
   "source": [
    "# 1. Preparing the Data <a class=\"anchor\" id=\"1\"></a>"
   ]
  },
  {
   "cell_type": "markdown",
   "metadata": {},
   "source": [
    "## 1.1. Importing Libraries <a class=\"anchor\" id=\"11\"></a>"
   ]
  },
  {
   "cell_type": "code",
   "execution_count": 1,
   "metadata": {},
   "outputs": [],
   "source": [
    "import pandas as pd \n",
    "import numpy as np  \n",
    "import matplotlib.pyplot as plt \n",
    "import seaborn as sns\n",
    "from sklearn.preprocessing import StandardScaler\n",
    "\n",
    "%matplotlib inline  \n",
    "plt.style.use('fivethirtyeight')"
   ]
  },
  {
   "cell_type": "markdown",
   "metadata": {},
   "source": [
    "# 2. Data Cleaning <a class=\"anchor\" id=\"2\"></a>"
   ]
  },
  {
   "cell_type": "markdown",
   "metadata": {},
   "source": [
    "## 2.1. Identifying Missing Values <a class=\"anchor\" id=\"21\"></a>"
   ]
  },
  {
   "cell_type": "code",
   "execution_count": 2,
   "metadata": {},
   "outputs": [],
   "source": [
    "df = pd.read_csv('data/raw_training_data.csv')"
   ]
  },
  {
   "cell_type": "code",
   "execution_count": 3,
   "metadata": {},
   "outputs": [],
   "source": [
    "categorical_features = ['company','country','director','genre','rating','released','star','year',\n",
    "                        'writer','adult','original_title','overview','tagline','title','genres_edited',\n",
    "                        'spoken_languages_edited','production_countries_edited',]\n",
    "continuous_features = ['budget','runtime','score','votes','popularity']\n",
    "target_features = ['isprofit','profitability_ratio']"
   ]
  },
  {
   "cell_type": "code",
   "execution_count": 4,
   "metadata": {},
   "outputs": [
    {
     "data": {
      "text/plain": [
       "(3524, 31)"
      ]
     },
     "execution_count": 4,
     "metadata": {},
     "output_type": "execute_result"
    }
   ],
   "source": [
    "df.shape # (# rows, # cols)"
   ]
  },
  {
   "cell_type": "code",
   "execution_count": 5,
   "metadata": {},
   "outputs": [
    {
     "data": {
      "text/html": [
       "<div>\n",
       "<style scoped>\n",
       "    .dataframe tbody tr th:only-of-type {\n",
       "        vertical-align: middle;\n",
       "    }\n",
       "\n",
       "    .dataframe tbody tr th {\n",
       "        vertical-align: top;\n",
       "    }\n",
       "\n",
       "    .dataframe thead th {\n",
       "        text-align: right;\n",
       "    }\n",
       "</style>\n",
       "<table border=\"1\" class=\"dataframe\">\n",
       "  <thead>\n",
       "    <tr style=\"text-align: right;\">\n",
       "      <th></th>\n",
       "      <th>Unnamed: 0</th>\n",
       "      <th>budget</th>\n",
       "      <th>company</th>\n",
       "      <th>country</th>\n",
       "      <th>director</th>\n",
       "      <th>genre</th>\n",
       "      <th>gross</th>\n",
       "      <th>name</th>\n",
       "      <th>rating</th>\n",
       "      <th>released</th>\n",
       "      <th>...</th>\n",
       "      <th>imdb_id</th>\n",
       "      <th>original_title</th>\n",
       "      <th>overview</th>\n",
       "      <th>popularity</th>\n",
       "      <th>tagline</th>\n",
       "      <th>title</th>\n",
       "      <th>genres_edited</th>\n",
       "      <th>spoken_languages_edited</th>\n",
       "      <th>production_countries_edited</th>\n",
       "      <th>year_released</th>\n",
       "    </tr>\n",
       "  </thead>\n",
       "  <tbody>\n",
       "    <tr>\n",
       "      <th>0</th>\n",
       "      <td>0</td>\n",
       "      <td>8000000</td>\n",
       "      <td>Columbia Pictures Corporation</td>\n",
       "      <td>USA</td>\n",
       "      <td>Rob Reiner</td>\n",
       "      <td>Adventure</td>\n",
       "      <td>52287414</td>\n",
       "      <td>Stand by Me</td>\n",
       "      <td>R</td>\n",
       "      <td>22.08.1986 00:00</td>\n",
       "      <td>...</td>\n",
       "      <td>tt0092005</td>\n",
       "      <td>Stand by Me</td>\n",
       "      <td>After the death of a friend, a writer recounts...</td>\n",
       "      <td>15.206957</td>\n",
       "      <td>For some, it's the last real taste of innocenc...</td>\n",
       "      <td>Stand by Me</td>\n",
       "      <td>Crime, Drama</td>\n",
       "      <td>en</td>\n",
       "      <td>US</td>\n",
       "      <td>1986</td>\n",
       "    </tr>\n",
       "    <tr>\n",
       "      <th>1</th>\n",
       "      <td>1</td>\n",
       "      <td>6000000</td>\n",
       "      <td>Paramount Pictures</td>\n",
       "      <td>USA</td>\n",
       "      <td>Other</td>\n",
       "      <td>Comedy</td>\n",
       "      <td>70136369</td>\n",
       "      <td>Ferris Bueller's Day Off</td>\n",
       "      <td>PG-13</td>\n",
       "      <td>11.06.1986 00:00</td>\n",
       "      <td>...</td>\n",
       "      <td>tt0091042</td>\n",
       "      <td>Ferris Bueller's Day Off</td>\n",
       "      <td>Charismatic teen Ferris Bueller plays hooky in...</td>\n",
       "      <td>12.724645</td>\n",
       "      <td>One man's struggle to take it easy.</td>\n",
       "      <td>Ferris Bueller's Day Off</td>\n",
       "      <td>Comedy</td>\n",
       "      <td>en</td>\n",
       "      <td>US</td>\n",
       "      <td>1986</td>\n",
       "    </tr>\n",
       "    <tr>\n",
       "      <th>2</th>\n",
       "      <td>2</td>\n",
       "      <td>15000000</td>\n",
       "      <td>Paramount Pictures</td>\n",
       "      <td>USA</td>\n",
       "      <td>Other</td>\n",
       "      <td>Action</td>\n",
       "      <td>179800601</td>\n",
       "      <td>Top Gun</td>\n",
       "      <td>PG</td>\n",
       "      <td>16.05.1986 00:00</td>\n",
       "      <td>...</td>\n",
       "      <td>tt0092099</td>\n",
       "      <td>Top Gun</td>\n",
       "      <td>For Lieutenant Pete 'Maverick' Mitchell and hi...</td>\n",
       "      <td>20.301019</td>\n",
       "      <td>Up there with the best of the best.</td>\n",
       "      <td>Top Gun</td>\n",
       "      <td>Action, Romance, War</td>\n",
       "      <td>en</td>\n",
       "      <td>US</td>\n",
       "      <td>1986</td>\n",
       "    </tr>\n",
       "    <tr>\n",
       "      <th>3</th>\n",
       "      <td>3</td>\n",
       "      <td>18500000</td>\n",
       "      <td>Twentieth Century Fox Film Corporation</td>\n",
       "      <td>USA</td>\n",
       "      <td>Other</td>\n",
       "      <td>Action</td>\n",
       "      <td>85160248</td>\n",
       "      <td>Aliens</td>\n",
       "      <td>R</td>\n",
       "      <td>18.07.1986 00:00</td>\n",
       "      <td>...</td>\n",
       "      <td>tt0090605</td>\n",
       "      <td>Aliens</td>\n",
       "      <td>When Ripley's lifepod is found by a salvage cr...</td>\n",
       "      <td>21.761179</td>\n",
       "      <td>This Time It's War</td>\n",
       "      <td>Aliens</td>\n",
       "      <td>Horror, Action, Thriller, Science Fiction</td>\n",
       "      <td>en</td>\n",
       "      <td>GB, US</td>\n",
       "      <td>1986</td>\n",
       "    </tr>\n",
       "    <tr>\n",
       "      <th>4</th>\n",
       "      <td>4</td>\n",
       "      <td>9000000</td>\n",
       "      <td>Walt Disney Pictures</td>\n",
       "      <td>USA</td>\n",
       "      <td>Other</td>\n",
       "      <td>Adventure</td>\n",
       "      <td>18564613</td>\n",
       "      <td>Flight of the Navigator</td>\n",
       "      <td>PG</td>\n",
       "      <td>1.08.1986 00:00</td>\n",
       "      <td>...</td>\n",
       "      <td>tt0091059</td>\n",
       "      <td>Flight of the Navigator</td>\n",
       "      <td>This 1986 Disney adventure tells the story of ...</td>\n",
       "      <td>5.526865</td>\n",
       "      <td>Come along on the greatest adventure of the su...</td>\n",
       "      <td>Flight of the Navigator</td>\n",
       "      <td>Family, Science Fiction, Adventure</td>\n",
       "      <td>en</td>\n",
       "      <td>US</td>\n",
       "      <td>1986</td>\n",
       "    </tr>\n",
       "  </tbody>\n",
       "</table>\n",
       "<p>5 rows × 31 columns</p>\n",
       "</div>"
      ],
      "text/plain": [
       "   Unnamed: 0    budget                                 company country  \\\n",
       "0           0   8000000           Columbia Pictures Corporation     USA   \n",
       "1           1   6000000                      Paramount Pictures     USA   \n",
       "2           2  15000000                      Paramount Pictures     USA   \n",
       "3           3  18500000  Twentieth Century Fox Film Corporation     USA   \n",
       "4           4   9000000                    Walt Disney Pictures     USA   \n",
       "\n",
       "     director      genre      gross                      name rating  \\\n",
       "0  Rob Reiner  Adventure   52287414               Stand by Me      R   \n",
       "1       Other     Comedy   70136369  Ferris Bueller's Day Off  PG-13   \n",
       "2       Other     Action  179800601                   Top Gun     PG   \n",
       "3       Other     Action   85160248                    Aliens      R   \n",
       "4       Other  Adventure   18564613   Flight of the Navigator     PG   \n",
       "\n",
       "           released  ...    imdb_id            original_title  \\\n",
       "0  22.08.1986 00:00  ...  tt0092005               Stand by Me   \n",
       "1  11.06.1986 00:00  ...  tt0091042  Ferris Bueller's Day Off   \n",
       "2  16.05.1986 00:00  ...  tt0092099                   Top Gun   \n",
       "3  18.07.1986 00:00  ...  tt0090605                    Aliens   \n",
       "4   1.08.1986 00:00  ...  tt0091059   Flight of the Navigator   \n",
       "\n",
       "                                            overview  popularity  \\\n",
       "0  After the death of a friend, a writer recounts...   15.206957   \n",
       "1  Charismatic teen Ferris Bueller plays hooky in...   12.724645   \n",
       "2  For Lieutenant Pete 'Maverick' Mitchell and hi...   20.301019   \n",
       "3  When Ripley's lifepod is found by a salvage cr...   21.761179   \n",
       "4  This 1986 Disney adventure tells the story of ...    5.526865   \n",
       "\n",
       "                                             tagline  \\\n",
       "0  For some, it's the last real taste of innocenc...   \n",
       "1                One man's struggle to take it easy.   \n",
       "2                Up there with the best of the best.   \n",
       "3                                 This Time It's War   \n",
       "4  Come along on the greatest adventure of the su...   \n",
       "\n",
       "                      title                              genres_edited  \\\n",
       "0               Stand by Me                               Crime, Drama   \n",
       "1  Ferris Bueller's Day Off                                     Comedy   \n",
       "2                   Top Gun                       Action, Romance, War   \n",
       "3                    Aliens  Horror, Action, Thriller, Science Fiction   \n",
       "4   Flight of the Navigator         Family, Science Fiction, Adventure   \n",
       "\n",
       "   spoken_languages_edited  production_countries_edited year_released  \n",
       "0                       en                           US          1986  \n",
       "1                       en                           US          1986  \n",
       "2                       en                           US          1986  \n",
       "3                       en                       GB, US          1986  \n",
       "4                       en                           US          1986  \n",
       "\n",
       "[5 rows x 31 columns]"
      ]
     },
     "execution_count": 5,
     "metadata": {},
     "output_type": "execute_result"
    }
   ],
   "source": [
    "df.head() # take a peak at the dataset"
   ]
  },
  {
   "cell_type": "code",
   "execution_count": 6,
   "metadata": {},
   "outputs": [],
   "source": [
    "del df['Unnamed: 0']"
   ]
  },
  {
   "cell_type": "code",
   "execution_count": 7,
   "metadata": {},
   "outputs": [
    {
     "name": "stdout",
     "output_type": "stream",
     "text": [
      "<class 'pandas.core.frame.DataFrame'>\n",
      "RangeIndex: 3524 entries, 0 to 3523\n",
      "Data columns (total 30 columns):\n",
      " #   Column                       Non-Null Count  Dtype  \n",
      "---  ------                       --------------  -----  \n",
      " 0   budget                       3524 non-null   int64  \n",
      " 1   company                      3524 non-null   object \n",
      " 2   country                      3524 non-null   object \n",
      " 3   director                     3524 non-null   object \n",
      " 4   genre                        3524 non-null   object \n",
      " 5   gross                        3524 non-null   int64  \n",
      " 6   name                         3524 non-null   object \n",
      " 7   rating                       3524 non-null   object \n",
      " 8   released                     3524 non-null   object \n",
      " 9   runtime                      3524 non-null   int64  \n",
      " 10  score                        3524 non-null   float64\n",
      " 11  star                         3524 non-null   object \n",
      " 12  votes                        3524 non-null   int64  \n",
      " 13  writer                       3524 non-null   object \n",
      " 14  year                         3524 non-null   int64  \n",
      " 15  isprofit                     3524 non-null   int64  \n",
      " 16  profitability_ratio          3524 non-null   float64\n",
      " 17  profitability_ratio_bucket   3524 non-null   int64  \n",
      " 18  adult                        3524 non-null   object \n",
      " 19  id                           3524 non-null   int64  \n",
      " 20  imdb_id                      3524 non-null   object \n",
      " 21  original_title               3524 non-null   object \n",
      " 22  overview                     3523 non-null   object \n",
      " 23  popularity                   3524 non-null   float64\n",
      " 24  tagline                      3153 non-null   object \n",
      " 25  title                        3524 non-null   object \n",
      " 26  genres_edited                3524 non-null   object \n",
      " 27  spoken_languages_edited      3517 non-null   object \n",
      " 28  production_countries_edited  3493 non-null   object \n",
      " 29  year_released                3524 non-null   int64  \n",
      "dtypes: float64(3), int64(9), object(18)\n",
      "memory usage: 578.2+ KB\n"
     ]
    }
   ],
   "source": [
    "df.info()"
   ]
  },
  {
   "cell_type": "code",
   "execution_count": 8,
   "metadata": {},
   "outputs": [
    {
     "data": {
      "text/plain": [
       "budget                           0\n",
       "company                          0\n",
       "country                          0\n",
       "director                         0\n",
       "genre                            0\n",
       "gross                            0\n",
       "name                             0\n",
       "rating                           0\n",
       "released                         0\n",
       "runtime                          0\n",
       "score                            0\n",
       "star                             0\n",
       "votes                            0\n",
       "writer                           0\n",
       "year                             0\n",
       "isprofit                         0\n",
       "profitability_ratio              0\n",
       "profitability_ratio_bucket       0\n",
       "adult                            0\n",
       "id                               0\n",
       "imdb_id                          0\n",
       "original_title                   0\n",
       "overview                         1\n",
       "popularity                       0\n",
       "tagline                        371\n",
       "title                            0\n",
       "genres_edited                    0\n",
       "spoken_languages_edited          7\n",
       "production_countries_edited     31\n",
       "year_released                    0\n",
       "dtype: int64"
      ]
     },
     "execution_count": 8,
     "metadata": {},
     "output_type": "execute_result"
    }
   ],
   "source": [
    "df.isnull().sum()"
   ]
  },
  {
   "cell_type": "code",
   "execution_count": 9,
   "metadata": {},
   "outputs": [
    {
     "data": {
      "text/html": [
       "<div>\n",
       "<style scoped>\n",
       "    .dataframe tbody tr th:only-of-type {\n",
       "        vertical-align: middle;\n",
       "    }\n",
       "\n",
       "    .dataframe tbody tr th {\n",
       "        vertical-align: top;\n",
       "    }\n",
       "\n",
       "    .dataframe thead th {\n",
       "        text-align: right;\n",
       "    }\n",
       "</style>\n",
       "<table border=\"1\" class=\"dataframe\">\n",
       "  <thead>\n",
       "    <tr style=\"text-align: right;\">\n",
       "      <th></th>\n",
       "      <th>budget</th>\n",
       "      <th>gross</th>\n",
       "      <th>runtime</th>\n",
       "      <th>score</th>\n",
       "      <th>votes</th>\n",
       "      <th>year</th>\n",
       "      <th>isprofit</th>\n",
       "      <th>profitability_ratio</th>\n",
       "      <th>profitability_ratio_bucket</th>\n",
       "      <th>id</th>\n",
       "      <th>popularity</th>\n",
       "      <th>year_released</th>\n",
       "    </tr>\n",
       "  </thead>\n",
       "  <tbody>\n",
       "    <tr>\n",
       "      <th>count</th>\n",
       "      <td>3.524000e+03</td>\n",
       "      <td>3.524000e+03</td>\n",
       "      <td>3524.000000</td>\n",
       "      <td>3524.000000</td>\n",
       "      <td>3.524000e+03</td>\n",
       "      <td>3524.000000</td>\n",
       "      <td>3524.000000</td>\n",
       "      <td>3524.000000</td>\n",
       "      <td>3524.000000</td>\n",
       "      <td>3524.000000</td>\n",
       "      <td>3524.000000</td>\n",
       "      <td>3524.000000</td>\n",
       "    </tr>\n",
       "    <tr>\n",
       "      <th>mean</th>\n",
       "      <td>3.646837e+07</td>\n",
       "      <td>4.772520e+07</td>\n",
       "      <td>107.189274</td>\n",
       "      <td>6.339018</td>\n",
       "      <td>9.928306e+04</td>\n",
       "      <td>1997.125709</td>\n",
       "      <td>0.510499</td>\n",
       "      <td>3.996876</td>\n",
       "      <td>399.602157</td>\n",
       "      <td>45443.112656</td>\n",
       "      <td>9.785946</td>\n",
       "      <td>2002.385641</td>\n",
       "    </tr>\n",
       "    <tr>\n",
       "      <th>std</th>\n",
       "      <td>4.063369e+07</td>\n",
       "      <td>6.707121e+07</td>\n",
       "      <td>18.472177</td>\n",
       "      <td>1.056288</td>\n",
       "      <td>1.568040e+05</td>\n",
       "      <td>101.418026</td>\n",
       "      <td>0.499961</td>\n",
       "      <td>127.868810</td>\n",
       "      <td>12786.904323</td>\n",
       "      <td>77014.289184</td>\n",
       "      <td>13.318482</td>\n",
       "      <td>8.422442</td>\n",
       "    </tr>\n",
       "    <tr>\n",
       "      <th>min</th>\n",
       "      <td>0.000000e+00</td>\n",
       "      <td>0.000000e+00</td>\n",
       "      <td>0.000000</td>\n",
       "      <td>0.000000</td>\n",
       "      <td>0.000000e+00</td>\n",
       "      <td>0.000000</td>\n",
       "      <td>0.000000</td>\n",
       "      <td>-0.999979</td>\n",
       "      <td>-100.000000</td>\n",
       "      <td>0.000000</td>\n",
       "      <td>0.000000</td>\n",
       "      <td>1986.000000</td>\n",
       "    </tr>\n",
       "    <tr>\n",
       "      <th>25%</th>\n",
       "      <td>1.000000e+07</td>\n",
       "      <td>6.955428e+06</td>\n",
       "      <td>95.000000</td>\n",
       "      <td>5.800000</td>\n",
       "      <td>1.554475e+04</td>\n",
       "      <td>1996.000000</td>\n",
       "      <td>0.000000</td>\n",
       "      <td>-0.552571</td>\n",
       "      <td>-60.000000</td>\n",
       "      <td>8864.750000</td>\n",
       "      <td>5.746421</td>\n",
       "      <td>1996.000000</td>\n",
       "    </tr>\n",
       "    <tr>\n",
       "      <th>50%</th>\n",
       "      <td>2.300000e+07</td>\n",
       "      <td>2.511110e+07</td>\n",
       "      <td>104.000000</td>\n",
       "      <td>6.400000</td>\n",
       "      <td>4.403550e+04</td>\n",
       "      <td>2002.000000</td>\n",
       "      <td>1.000000</td>\n",
       "      <td>0.020240</td>\n",
       "      <td>0.000000</td>\n",
       "      <td>12513.500000</td>\n",
       "      <td>8.411079</td>\n",
       "      <td>2003.000000</td>\n",
       "    </tr>\n",
       "    <tr>\n",
       "      <th>75%</th>\n",
       "      <td>4.800000e+07</td>\n",
       "      <td>6.036672e+07</td>\n",
       "      <td>117.000000</td>\n",
       "      <td>7.000000</td>\n",
       "      <td>1.148628e+05</td>\n",
       "      <td>2009.000000</td>\n",
       "      <td>1.000000</td>\n",
       "      <td>1.029155</td>\n",
       "      <td>100.000000</td>\n",
       "      <td>41220.250000</td>\n",
       "      <td>11.654501</td>\n",
       "      <td>2010.000000</td>\n",
       "    </tr>\n",
       "    <tr>\n",
       "      <th>max</th>\n",
       "      <td>3.000000e+08</td>\n",
       "      <td>9.366622e+08</td>\n",
       "      <td>271.000000</td>\n",
       "      <td>9.300000</td>\n",
       "      <td>1.861666e+06</td>\n",
       "      <td>2016.000000</td>\n",
       "      <td>1.000000</td>\n",
       "      <td>7193.587333</td>\n",
       "      <td>719360.000000</td>\n",
       "      <td>404378.000000</td>\n",
       "      <td>547.488298</td>\n",
       "      <td>2017.000000</td>\n",
       "    </tr>\n",
       "  </tbody>\n",
       "</table>\n",
       "</div>"
      ],
      "text/plain": [
       "             budget         gross      runtime        score         votes  \\\n",
       "count  3.524000e+03  3.524000e+03  3524.000000  3524.000000  3.524000e+03   \n",
       "mean   3.646837e+07  4.772520e+07   107.189274     6.339018  9.928306e+04   \n",
       "std    4.063369e+07  6.707121e+07    18.472177     1.056288  1.568040e+05   \n",
       "min    0.000000e+00  0.000000e+00     0.000000     0.000000  0.000000e+00   \n",
       "25%    1.000000e+07  6.955428e+06    95.000000     5.800000  1.554475e+04   \n",
       "50%    2.300000e+07  2.511110e+07   104.000000     6.400000  4.403550e+04   \n",
       "75%    4.800000e+07  6.036672e+07   117.000000     7.000000  1.148628e+05   \n",
       "max    3.000000e+08  9.366622e+08   271.000000     9.300000  1.861666e+06   \n",
       "\n",
       "              year     isprofit  profitability_ratio  \\\n",
       "count  3524.000000  3524.000000          3524.000000   \n",
       "mean   1997.125709     0.510499             3.996876   \n",
       "std     101.418026     0.499961           127.868810   \n",
       "min       0.000000     0.000000            -0.999979   \n",
       "25%    1996.000000     0.000000            -0.552571   \n",
       "50%    2002.000000     1.000000             0.020240   \n",
       "75%    2009.000000     1.000000             1.029155   \n",
       "max    2016.000000     1.000000          7193.587333   \n",
       "\n",
       "       profitability_ratio_bucket             id   popularity  year_released  \n",
       "count                 3524.000000    3524.000000  3524.000000    3524.000000  \n",
       "mean                   399.602157   45443.112656     9.785946    2002.385641  \n",
       "std                  12786.904323   77014.289184    13.318482       8.422442  \n",
       "min                   -100.000000       0.000000     0.000000    1986.000000  \n",
       "25%                    -60.000000    8864.750000     5.746421    1996.000000  \n",
       "50%                      0.000000   12513.500000     8.411079    2003.000000  \n",
       "75%                    100.000000   41220.250000    11.654501    2010.000000  \n",
       "max                 719360.000000  404378.000000   547.488298    2017.000000  "
      ]
     },
     "execution_count": 9,
     "metadata": {},
     "output_type": "execute_result"
    }
   ],
   "source": [
    "df.describe()   # before replacing zero with None"
   ]
  },
  {
   "cell_type": "markdown",
   "metadata": {},
   "source": [
    "## 2.2. Dealing with Missing Values <a class=\"anchor\" id=\"22\"></a>"
   ]
  },
  {
   "cell_type": "markdown",
   "metadata": {},
   "source": [
    "By observing the data, we see that only the following columns need initial transformation to replace zeros with the value None:\n",
    "* overview\n",
    "* tagline\n",
    "* spoken_languages_edited\n",
    "* production_countries_edited\n",
    "* keywords_edited\n",
    "\n",
    "And the remaining features do not have to change since they do not contain zero values."
   ]
  },
  {
   "cell_type": "code",
   "execution_count": 10,
   "metadata": {},
   "outputs": [],
   "source": [
    "df['overview'] = df['overview'].map(lambda x:x if x != 0 else None)\n",
    "df['tagline'] = df['tagline'].map(lambda x:x if x != 0 else None)\n",
    "df['spoken_languages_edited'] = df['spoken_languages_edited'].map(lambda x:x if x != 0 else None)\n",
    "df['production_countries_edited'] = df['production_countries_edited'].map(lambda x:x if x != 0 else None)\n",
    "#df['keywords_edited'] = df['keywords_edited'].map(lambda x:x if x != 0 else None)"
   ]
  },
  {
   "cell_type": "code",
   "execution_count": 11,
   "metadata": {},
   "outputs": [
    {
     "data": {
      "text/html": [
       "<div>\n",
       "<style scoped>\n",
       "    .dataframe tbody tr th:only-of-type {\n",
       "        vertical-align: middle;\n",
       "    }\n",
       "\n",
       "    .dataframe tbody tr th {\n",
       "        vertical-align: top;\n",
       "    }\n",
       "\n",
       "    .dataframe thead th {\n",
       "        text-align: right;\n",
       "    }\n",
       "</style>\n",
       "<table border=\"1\" class=\"dataframe\">\n",
       "  <thead>\n",
       "    <tr style=\"text-align: right;\">\n",
       "      <th></th>\n",
       "      <th>budget</th>\n",
       "      <th>company</th>\n",
       "      <th>country</th>\n",
       "      <th>director</th>\n",
       "      <th>genre</th>\n",
       "      <th>gross</th>\n",
       "      <th>name</th>\n",
       "      <th>rating</th>\n",
       "      <th>released</th>\n",
       "      <th>runtime</th>\n",
       "      <th>...</th>\n",
       "      <th>imdb_id</th>\n",
       "      <th>original_title</th>\n",
       "      <th>overview</th>\n",
       "      <th>popularity</th>\n",
       "      <th>tagline</th>\n",
       "      <th>title</th>\n",
       "      <th>genres_edited</th>\n",
       "      <th>spoken_languages_edited</th>\n",
       "      <th>production_countries_edited</th>\n",
       "      <th>year_released</th>\n",
       "    </tr>\n",
       "  </thead>\n",
       "  <tbody>\n",
       "    <tr>\n",
       "      <th>0</th>\n",
       "      <td>8000000</td>\n",
       "      <td>Columbia Pictures Corporation</td>\n",
       "      <td>USA</td>\n",
       "      <td>Rob Reiner</td>\n",
       "      <td>Adventure</td>\n",
       "      <td>52287414</td>\n",
       "      <td>Stand by Me</td>\n",
       "      <td>R</td>\n",
       "      <td>22.08.1986 00:00</td>\n",
       "      <td>89</td>\n",
       "      <td>...</td>\n",
       "      <td>tt0092005</td>\n",
       "      <td>Stand by Me</td>\n",
       "      <td>After the death of a friend, a writer recounts...</td>\n",
       "      <td>15.206957</td>\n",
       "      <td>For some, it's the last real taste of innocenc...</td>\n",
       "      <td>Stand by Me</td>\n",
       "      <td>Crime, Drama</td>\n",
       "      <td>en</td>\n",
       "      <td>US</td>\n",
       "      <td>1986</td>\n",
       "    </tr>\n",
       "    <tr>\n",
       "      <th>1</th>\n",
       "      <td>6000000</td>\n",
       "      <td>Paramount Pictures</td>\n",
       "      <td>USA</td>\n",
       "      <td>Other</td>\n",
       "      <td>Comedy</td>\n",
       "      <td>70136369</td>\n",
       "      <td>Ferris Bueller's Day Off</td>\n",
       "      <td>PG-13</td>\n",
       "      <td>11.06.1986 00:00</td>\n",
       "      <td>103</td>\n",
       "      <td>...</td>\n",
       "      <td>tt0091042</td>\n",
       "      <td>Ferris Bueller's Day Off</td>\n",
       "      <td>Charismatic teen Ferris Bueller plays hooky in...</td>\n",
       "      <td>12.724645</td>\n",
       "      <td>One man's struggle to take it easy.</td>\n",
       "      <td>Ferris Bueller's Day Off</td>\n",
       "      <td>Comedy</td>\n",
       "      <td>en</td>\n",
       "      <td>US</td>\n",
       "      <td>1986</td>\n",
       "    </tr>\n",
       "    <tr>\n",
       "      <th>2</th>\n",
       "      <td>15000000</td>\n",
       "      <td>Paramount Pictures</td>\n",
       "      <td>USA</td>\n",
       "      <td>Other</td>\n",
       "      <td>Action</td>\n",
       "      <td>179800601</td>\n",
       "      <td>Top Gun</td>\n",
       "      <td>PG</td>\n",
       "      <td>16.05.1986 00:00</td>\n",
       "      <td>110</td>\n",
       "      <td>...</td>\n",
       "      <td>tt0092099</td>\n",
       "      <td>Top Gun</td>\n",
       "      <td>For Lieutenant Pete 'Maverick' Mitchell and hi...</td>\n",
       "      <td>20.301019</td>\n",
       "      <td>Up there with the best of the best.</td>\n",
       "      <td>Top Gun</td>\n",
       "      <td>Action, Romance, War</td>\n",
       "      <td>en</td>\n",
       "      <td>US</td>\n",
       "      <td>1986</td>\n",
       "    </tr>\n",
       "    <tr>\n",
       "      <th>3</th>\n",
       "      <td>18500000</td>\n",
       "      <td>Twentieth Century Fox Film Corporation</td>\n",
       "      <td>USA</td>\n",
       "      <td>Other</td>\n",
       "      <td>Action</td>\n",
       "      <td>85160248</td>\n",
       "      <td>Aliens</td>\n",
       "      <td>R</td>\n",
       "      <td>18.07.1986 00:00</td>\n",
       "      <td>137</td>\n",
       "      <td>...</td>\n",
       "      <td>tt0090605</td>\n",
       "      <td>Aliens</td>\n",
       "      <td>When Ripley's lifepod is found by a salvage cr...</td>\n",
       "      <td>21.761179</td>\n",
       "      <td>This Time It's War</td>\n",
       "      <td>Aliens</td>\n",
       "      <td>Horror, Action, Thriller, Science Fiction</td>\n",
       "      <td>en</td>\n",
       "      <td>GB, US</td>\n",
       "      <td>1986</td>\n",
       "    </tr>\n",
       "    <tr>\n",
       "      <th>4</th>\n",
       "      <td>9000000</td>\n",
       "      <td>Walt Disney Pictures</td>\n",
       "      <td>USA</td>\n",
       "      <td>Other</td>\n",
       "      <td>Adventure</td>\n",
       "      <td>18564613</td>\n",
       "      <td>Flight of the Navigator</td>\n",
       "      <td>PG</td>\n",
       "      <td>1.08.1986 00:00</td>\n",
       "      <td>90</td>\n",
       "      <td>...</td>\n",
       "      <td>tt0091059</td>\n",
       "      <td>Flight of the Navigator</td>\n",
       "      <td>This 1986 Disney adventure tells the story of ...</td>\n",
       "      <td>5.526865</td>\n",
       "      <td>Come along on the greatest adventure of the su...</td>\n",
       "      <td>Flight of the Navigator</td>\n",
       "      <td>Family, Science Fiction, Adventure</td>\n",
       "      <td>en</td>\n",
       "      <td>US</td>\n",
       "      <td>1986</td>\n",
       "    </tr>\n",
       "  </tbody>\n",
       "</table>\n",
       "<p>5 rows × 30 columns</p>\n",
       "</div>"
      ],
      "text/plain": [
       "     budget                                 company country    director  \\\n",
       "0   8000000           Columbia Pictures Corporation     USA  Rob Reiner   \n",
       "1   6000000                      Paramount Pictures     USA       Other   \n",
       "2  15000000                      Paramount Pictures     USA       Other   \n",
       "3  18500000  Twentieth Century Fox Film Corporation     USA       Other   \n",
       "4   9000000                    Walt Disney Pictures     USA       Other   \n",
       "\n",
       "       genre      gross                      name rating          released  \\\n",
       "0  Adventure   52287414               Stand by Me      R  22.08.1986 00:00   \n",
       "1     Comedy   70136369  Ferris Bueller's Day Off  PG-13  11.06.1986 00:00   \n",
       "2     Action  179800601                   Top Gun     PG  16.05.1986 00:00   \n",
       "3     Action   85160248                    Aliens      R  18.07.1986 00:00   \n",
       "4  Adventure   18564613   Flight of the Navigator     PG   1.08.1986 00:00   \n",
       "\n",
       "   runtime  ...    imdb_id            original_title  \\\n",
       "0       89  ...  tt0092005               Stand by Me   \n",
       "1      103  ...  tt0091042  Ferris Bueller's Day Off   \n",
       "2      110  ...  tt0092099                   Top Gun   \n",
       "3      137  ...  tt0090605                    Aliens   \n",
       "4       90  ...  tt0091059   Flight of the Navigator   \n",
       "\n",
       "                                            overview popularity  \\\n",
       "0  After the death of a friend, a writer recounts...  15.206957   \n",
       "1  Charismatic teen Ferris Bueller plays hooky in...  12.724645   \n",
       "2  For Lieutenant Pete 'Maverick' Mitchell and hi...  20.301019   \n",
       "3  When Ripley's lifepod is found by a salvage cr...  21.761179   \n",
       "4  This 1986 Disney adventure tells the story of ...   5.526865   \n",
       "\n",
       "                                             tagline  \\\n",
       "0  For some, it's the last real taste of innocenc...   \n",
       "1                One man's struggle to take it easy.   \n",
       "2                Up there with the best of the best.   \n",
       "3                                 This Time It's War   \n",
       "4  Come along on the greatest adventure of the su...   \n",
       "\n",
       "                      title                              genres_edited  \\\n",
       "0               Stand by Me                               Crime, Drama   \n",
       "1  Ferris Bueller's Day Off                                     Comedy   \n",
       "2                   Top Gun                       Action, Romance, War   \n",
       "3                    Aliens  Horror, Action, Thriller, Science Fiction   \n",
       "4   Flight of the Navigator         Family, Science Fiction, Adventure   \n",
       "\n",
       "   spoken_languages_edited production_countries_edited  year_released  \n",
       "0                       en                          US           1986  \n",
       "1                       en                          US           1986  \n",
       "2                       en                          US           1986  \n",
       "3                       en                      GB, US           1986  \n",
       "4                       en                          US           1986  \n",
       "\n",
       "[5 rows x 30 columns]"
      ]
     },
     "execution_count": 11,
     "metadata": {},
     "output_type": "execute_result"
    }
   ],
   "source": [
    "df.head()   # take a peak at the dataset"
   ]
  },
  {
   "cell_type": "code",
   "execution_count": 12,
   "metadata": {},
   "outputs": [
    {
     "name": "stdout",
     "output_type": "stream",
     "text": [
      "<class 'pandas.core.frame.DataFrame'>\n",
      "RangeIndex: 3524 entries, 0 to 3523\n",
      "Data columns (total 30 columns):\n",
      " #   Column                       Non-Null Count  Dtype  \n",
      "---  ------                       --------------  -----  \n",
      " 0   budget                       3524 non-null   int64  \n",
      " 1   company                      3524 non-null   object \n",
      " 2   country                      3524 non-null   object \n",
      " 3   director                     3524 non-null   object \n",
      " 4   genre                        3524 non-null   object \n",
      " 5   gross                        3524 non-null   int64  \n",
      " 6   name                         3524 non-null   object \n",
      " 7   rating                       3524 non-null   object \n",
      " 8   released                     3524 non-null   object \n",
      " 9   runtime                      3524 non-null   int64  \n",
      " 10  score                        3524 non-null   float64\n",
      " 11  star                         3524 non-null   object \n",
      " 12  votes                        3524 non-null   int64  \n",
      " 13  writer                       3524 non-null   object \n",
      " 14  year                         3524 non-null   int64  \n",
      " 15  isprofit                     3524 non-null   int64  \n",
      " 16  profitability_ratio          3524 non-null   float64\n",
      " 17  profitability_ratio_bucket   3524 non-null   int64  \n",
      " 18  adult                        3524 non-null   object \n",
      " 19  id                           3524 non-null   int64  \n",
      " 20  imdb_id                      3524 non-null   object \n",
      " 21  original_title               3524 non-null   object \n",
      " 22  overview                     3523 non-null   object \n",
      " 23  popularity                   3524 non-null   float64\n",
      " 24  tagline                      3153 non-null   object \n",
      " 25  title                        3524 non-null   object \n",
      " 26  genres_edited                3524 non-null   object \n",
      " 27  spoken_languages_edited      3517 non-null   object \n",
      " 28  production_countries_edited  3493 non-null   object \n",
      " 29  year_released                3524 non-null   int64  \n",
      "dtypes: float64(3), int64(9), object(18)\n",
      "memory usage: 578.2+ KB\n"
     ]
    }
   ],
   "source": [
    "df.info()"
   ]
  },
  {
   "cell_type": "code",
   "execution_count": 13,
   "metadata": {},
   "outputs": [
    {
     "data": {
      "text/plain": [
       "budget                           0\n",
       "company                          0\n",
       "country                          0\n",
       "director                         0\n",
       "genre                            0\n",
       "gross                            0\n",
       "name                             0\n",
       "rating                           0\n",
       "released                         0\n",
       "runtime                          0\n",
       "score                            0\n",
       "star                             0\n",
       "votes                            0\n",
       "writer                           0\n",
       "year                             0\n",
       "isprofit                         0\n",
       "profitability_ratio              0\n",
       "profitability_ratio_bucket       0\n",
       "adult                            0\n",
       "id                               0\n",
       "imdb_id                          0\n",
       "original_title                   0\n",
       "overview                         1\n",
       "popularity                       0\n",
       "tagline                        371\n",
       "title                            0\n",
       "genres_edited                    0\n",
       "spoken_languages_edited          7\n",
       "production_countries_edited     31\n",
       "year_released                    0\n",
       "dtype: int64"
      ]
     },
     "execution_count": 13,
     "metadata": {},
     "output_type": "execute_result"
    }
   ],
   "source": [
    "df.isnull().sum()"
   ]
  },
  {
   "cell_type": "code",
   "execution_count": 14,
   "metadata": {},
   "outputs": [
    {
     "data": {
      "text/html": [
       "<div>\n",
       "<style scoped>\n",
       "    .dataframe tbody tr th:only-of-type {\n",
       "        vertical-align: middle;\n",
       "    }\n",
       "\n",
       "    .dataframe tbody tr th {\n",
       "        vertical-align: top;\n",
       "    }\n",
       "\n",
       "    .dataframe thead th {\n",
       "        text-align: right;\n",
       "    }\n",
       "</style>\n",
       "<table border=\"1\" class=\"dataframe\">\n",
       "  <thead>\n",
       "    <tr style=\"text-align: right;\">\n",
       "      <th></th>\n",
       "      <th>budget</th>\n",
       "      <th>gross</th>\n",
       "      <th>runtime</th>\n",
       "      <th>score</th>\n",
       "      <th>votes</th>\n",
       "      <th>year</th>\n",
       "      <th>isprofit</th>\n",
       "      <th>profitability_ratio</th>\n",
       "      <th>profitability_ratio_bucket</th>\n",
       "      <th>id</th>\n",
       "      <th>popularity</th>\n",
       "      <th>year_released</th>\n",
       "    </tr>\n",
       "  </thead>\n",
       "  <tbody>\n",
       "    <tr>\n",
       "      <th>count</th>\n",
       "      <td>3.524000e+03</td>\n",
       "      <td>3.524000e+03</td>\n",
       "      <td>3524.000000</td>\n",
       "      <td>3524.000000</td>\n",
       "      <td>3.524000e+03</td>\n",
       "      <td>3524.000000</td>\n",
       "      <td>3524.000000</td>\n",
       "      <td>3524.000000</td>\n",
       "      <td>3524.000000</td>\n",
       "      <td>3524.000000</td>\n",
       "      <td>3524.000000</td>\n",
       "      <td>3524.000000</td>\n",
       "    </tr>\n",
       "    <tr>\n",
       "      <th>mean</th>\n",
       "      <td>3.646837e+07</td>\n",
       "      <td>4.772520e+07</td>\n",
       "      <td>107.189274</td>\n",
       "      <td>6.339018</td>\n",
       "      <td>9.928306e+04</td>\n",
       "      <td>1997.125709</td>\n",
       "      <td>0.510499</td>\n",
       "      <td>3.996876</td>\n",
       "      <td>399.602157</td>\n",
       "      <td>45443.112656</td>\n",
       "      <td>9.785946</td>\n",
       "      <td>2002.385641</td>\n",
       "    </tr>\n",
       "    <tr>\n",
       "      <th>std</th>\n",
       "      <td>4.063369e+07</td>\n",
       "      <td>6.707121e+07</td>\n",
       "      <td>18.472177</td>\n",
       "      <td>1.056288</td>\n",
       "      <td>1.568040e+05</td>\n",
       "      <td>101.418026</td>\n",
       "      <td>0.499961</td>\n",
       "      <td>127.868810</td>\n",
       "      <td>12786.904323</td>\n",
       "      <td>77014.289184</td>\n",
       "      <td>13.318482</td>\n",
       "      <td>8.422442</td>\n",
       "    </tr>\n",
       "    <tr>\n",
       "      <th>min</th>\n",
       "      <td>0.000000e+00</td>\n",
       "      <td>0.000000e+00</td>\n",
       "      <td>0.000000</td>\n",
       "      <td>0.000000</td>\n",
       "      <td>0.000000e+00</td>\n",
       "      <td>0.000000</td>\n",
       "      <td>0.000000</td>\n",
       "      <td>-0.999979</td>\n",
       "      <td>-100.000000</td>\n",
       "      <td>0.000000</td>\n",
       "      <td>0.000000</td>\n",
       "      <td>1986.000000</td>\n",
       "    </tr>\n",
       "    <tr>\n",
       "      <th>25%</th>\n",
       "      <td>1.000000e+07</td>\n",
       "      <td>6.955428e+06</td>\n",
       "      <td>95.000000</td>\n",
       "      <td>5.800000</td>\n",
       "      <td>1.554475e+04</td>\n",
       "      <td>1996.000000</td>\n",
       "      <td>0.000000</td>\n",
       "      <td>-0.552571</td>\n",
       "      <td>-60.000000</td>\n",
       "      <td>8864.750000</td>\n",
       "      <td>5.746421</td>\n",
       "      <td>1996.000000</td>\n",
       "    </tr>\n",
       "    <tr>\n",
       "      <th>50%</th>\n",
       "      <td>2.300000e+07</td>\n",
       "      <td>2.511110e+07</td>\n",
       "      <td>104.000000</td>\n",
       "      <td>6.400000</td>\n",
       "      <td>4.403550e+04</td>\n",
       "      <td>2002.000000</td>\n",
       "      <td>1.000000</td>\n",
       "      <td>0.020240</td>\n",
       "      <td>0.000000</td>\n",
       "      <td>12513.500000</td>\n",
       "      <td>8.411079</td>\n",
       "      <td>2003.000000</td>\n",
       "    </tr>\n",
       "    <tr>\n",
       "      <th>75%</th>\n",
       "      <td>4.800000e+07</td>\n",
       "      <td>6.036672e+07</td>\n",
       "      <td>117.000000</td>\n",
       "      <td>7.000000</td>\n",
       "      <td>1.148628e+05</td>\n",
       "      <td>2009.000000</td>\n",
       "      <td>1.000000</td>\n",
       "      <td>1.029155</td>\n",
       "      <td>100.000000</td>\n",
       "      <td>41220.250000</td>\n",
       "      <td>11.654501</td>\n",
       "      <td>2010.000000</td>\n",
       "    </tr>\n",
       "    <tr>\n",
       "      <th>max</th>\n",
       "      <td>3.000000e+08</td>\n",
       "      <td>9.366622e+08</td>\n",
       "      <td>271.000000</td>\n",
       "      <td>9.300000</td>\n",
       "      <td>1.861666e+06</td>\n",
       "      <td>2016.000000</td>\n",
       "      <td>1.000000</td>\n",
       "      <td>7193.587333</td>\n",
       "      <td>719360.000000</td>\n",
       "      <td>404378.000000</td>\n",
       "      <td>547.488298</td>\n",
       "      <td>2017.000000</td>\n",
       "    </tr>\n",
       "  </tbody>\n",
       "</table>\n",
       "</div>"
      ],
      "text/plain": [
       "             budget         gross      runtime        score         votes  \\\n",
       "count  3.524000e+03  3.524000e+03  3524.000000  3524.000000  3.524000e+03   \n",
       "mean   3.646837e+07  4.772520e+07   107.189274     6.339018  9.928306e+04   \n",
       "std    4.063369e+07  6.707121e+07    18.472177     1.056288  1.568040e+05   \n",
       "min    0.000000e+00  0.000000e+00     0.000000     0.000000  0.000000e+00   \n",
       "25%    1.000000e+07  6.955428e+06    95.000000     5.800000  1.554475e+04   \n",
       "50%    2.300000e+07  2.511110e+07   104.000000     6.400000  4.403550e+04   \n",
       "75%    4.800000e+07  6.036672e+07   117.000000     7.000000  1.148628e+05   \n",
       "max    3.000000e+08  9.366622e+08   271.000000     9.300000  1.861666e+06   \n",
       "\n",
       "              year     isprofit  profitability_ratio  \\\n",
       "count  3524.000000  3524.000000          3524.000000   \n",
       "mean   1997.125709     0.510499             3.996876   \n",
       "std     101.418026     0.499961           127.868810   \n",
       "min       0.000000     0.000000            -0.999979   \n",
       "25%    1996.000000     0.000000            -0.552571   \n",
       "50%    2002.000000     1.000000             0.020240   \n",
       "75%    2009.000000     1.000000             1.029155   \n",
       "max    2016.000000     1.000000          7193.587333   \n",
       "\n",
       "       profitability_ratio_bucket             id   popularity  year_released  \n",
       "count                 3524.000000    3524.000000  3524.000000    3524.000000  \n",
       "mean                   399.602157   45443.112656     9.785946    2002.385641  \n",
       "std                  12786.904323   77014.289184    13.318482       8.422442  \n",
       "min                   -100.000000       0.000000     0.000000    1986.000000  \n",
       "25%                    -60.000000    8864.750000     5.746421    1996.000000  \n",
       "50%                      0.000000   12513.500000     8.411079    2003.000000  \n",
       "75%                    100.000000   41220.250000    11.654501    2010.000000  \n",
       "max                 719360.000000  404378.000000   547.488298    2017.000000  "
      ]
     },
     "execution_count": 14,
     "metadata": {},
     "output_type": "execute_result"
    }
   ],
   "source": [
    "df.describe()   # after replacing zero with None"
   ]
  },
  {
   "cell_type": "markdown",
   "metadata": {},
   "source": [
    "## 2.3. Removing Rows <a class=\"anchor\" id=\"23\"></a>"
   ]
  },
  {
   "cell_type": "code",
   "execution_count": 15,
   "metadata": {},
   "outputs": [],
   "source": [
    "data_dropped = df.dropna()"
   ]
  },
  {
   "cell_type": "code",
   "execution_count": 16,
   "metadata": {},
   "outputs": [],
   "source": [
    "data_dropped = data_dropped.reset_index() \n",
    "del data_dropped['index']"
   ]
  },
  {
   "cell_type": "code",
   "execution_count": 17,
   "metadata": {},
   "outputs": [
    {
     "data": {
      "text/plain": [
       "(3133, 30)"
      ]
     },
     "execution_count": 17,
     "metadata": {},
     "output_type": "execute_result"
    }
   ],
   "source": [
    "data_dropped.shape"
   ]
  },
  {
   "cell_type": "code",
   "execution_count": 18,
   "metadata": {},
   "outputs": [
    {
     "data": {
      "text/plain": [
       "(3524, 30)"
      ]
     },
     "execution_count": 18,
     "metadata": {},
     "output_type": "execute_result"
    }
   ],
   "source": [
    "df.shape"
   ]
  },
  {
   "cell_type": "code",
   "execution_count": 19,
   "metadata": {},
   "outputs": [],
   "source": [
    "num_rows_lost = round(100*(df.shape[0] - data_dropped.shape[0])/float(df.shape[0]))"
   ]
  },
  {
   "cell_type": "code",
   "execution_count": 20,
   "metadata": {},
   "outputs": [
    {
     "name": "stdout",
     "output_type": "stream",
     "text": [
      "retained {}% of rows\n",
      "retained {}% of rows\n"
     ]
    }
   ],
   "source": [
    "template = 'retained {}% of rows'\n",
    "print(template)\n",
    "template.format(num_rows_lost)\n",
    "print(template)"
   ]
  },
  {
   "cell_type": "code",
   "execution_count": 21,
   "metadata": {},
   "outputs": [
    {
     "data": {
      "text/plain": [
       "isprofit\n",
       "0    1483\n",
       "1    1650\n",
       "dtype: int64"
      ]
     },
     "execution_count": 21,
     "metadata": {},
     "output_type": "execute_result"
    }
   ],
   "source": [
    "# class distribution\n",
    "class_counts = data_dropped.groupby('isprofit').size()\n",
    "class_counts"
   ]
  },
  {
   "cell_type": "code",
   "execution_count": 22,
   "metadata": {},
   "outputs": [
    {
     "data": {
      "text/plain": [
       "0.42082860385925086"
      ]
     },
     "execution_count": 22,
     "metadata": {},
     "output_type": "execute_result"
    }
   ],
   "source": [
    "class_counts[0]/df['isprofit'].size"
   ]
  },
  {
   "cell_type": "code",
   "execution_count": 23,
   "metadata": {},
   "outputs": [
    {
     "data": {
      "text/plain": [
       "1    0.510499\n",
       "0    0.489501\n",
       "Name: isprofit, dtype: float64"
      ]
     },
     "execution_count": 23,
     "metadata": {},
     "output_type": "execute_result"
    }
   ],
   "source": [
    "df['isprofit'].value_counts(normalize=True)   #  split of trues and falses before rows dropped"
   ]
  },
  {
   "cell_type": "code",
   "execution_count": 24,
   "metadata": {},
   "outputs": [
    {
     "data": {
      "text/plain": [
       "1    0.526652\n",
       "0    0.473348\n",
       "Name: isprofit, dtype: float64"
      ]
     },
     "execution_count": 24,
     "metadata": {},
     "output_type": "execute_result"
    }
   ],
   "source": [
    "data_dropped['isprofit'].value_counts(normalize=True)   #  split of trues and falses after rows dropped"
   ]
  },
  {
   "cell_type": "code",
   "execution_count": 25,
   "metadata": {},
   "outputs": [
    {
     "data": {
      "text/html": [
       "<div>\n",
       "<style scoped>\n",
       "    .dataframe tbody tr th:only-of-type {\n",
       "        vertical-align: middle;\n",
       "    }\n",
       "\n",
       "    .dataframe tbody tr th {\n",
       "        vertical-align: top;\n",
       "    }\n",
       "\n",
       "    .dataframe thead th {\n",
       "        text-align: right;\n",
       "    }\n",
       "</style>\n",
       "<table border=\"1\" class=\"dataframe\">\n",
       "  <thead>\n",
       "    <tr style=\"text-align: right;\">\n",
       "      <th></th>\n",
       "      <th>budget</th>\n",
       "      <th>gross</th>\n",
       "      <th>runtime</th>\n",
       "      <th>score</th>\n",
       "      <th>votes</th>\n",
       "      <th>year</th>\n",
       "      <th>isprofit</th>\n",
       "      <th>profitability_ratio</th>\n",
       "      <th>profitability_ratio_bucket</th>\n",
       "      <th>id</th>\n",
       "      <th>popularity</th>\n",
       "      <th>year_released</th>\n",
       "    </tr>\n",
       "  </thead>\n",
       "  <tbody>\n",
       "    <tr>\n",
       "      <th>count</th>\n",
       "      <td>3.133000e+03</td>\n",
       "      <td>3.133000e+03</td>\n",
       "      <td>3133.00000</td>\n",
       "      <td>3133.000000</td>\n",
       "      <td>3.133000e+03</td>\n",
       "      <td>3133.000000</td>\n",
       "      <td>3133.000000</td>\n",
       "      <td>3133.000000</td>\n",
       "      <td>3133.000000</td>\n",
       "      <td>3133.000000</td>\n",
       "      <td>3133.000000</td>\n",
       "      <td>3133.000000</td>\n",
       "    </tr>\n",
       "    <tr>\n",
       "      <th>mean</th>\n",
       "      <td>3.859672e+07</td>\n",
       "      <td>5.140122e+07</td>\n",
       "      <td>107.33578</td>\n",
       "      <td>6.344558</td>\n",
       "      <td>1.073377e+05</td>\n",
       "      <td>1996.708586</td>\n",
       "      <td>0.526652</td>\n",
       "      <td>4.409565</td>\n",
       "      <td>440.908395</td>\n",
       "      <td>44450.067028</td>\n",
       "      <td>10.211105</td>\n",
       "      <td>2002.585701</td>\n",
       "    </tr>\n",
       "    <tr>\n",
       "      <th>std</th>\n",
       "      <td>4.169337e+07</td>\n",
       "      <td>6.931245e+07</td>\n",
       "      <td>18.48420</td>\n",
       "      <td>1.061415</td>\n",
       "      <td>1.623810e+05</td>\n",
       "      <td>107.513537</td>\n",
       "      <td>0.499369</td>\n",
       "      <td>135.601097</td>\n",
       "      <td>13560.133186</td>\n",
       "      <td>76044.719544</td>\n",
       "      <td>13.924768</td>\n",
       "      <td>8.386007</td>\n",
       "    </tr>\n",
       "    <tr>\n",
       "      <th>min</th>\n",
       "      <td>0.000000e+00</td>\n",
       "      <td>0.000000e+00</td>\n",
       "      <td>0.00000</td>\n",
       "      <td>0.000000</td>\n",
       "      <td>0.000000e+00</td>\n",
       "      <td>0.000000</td>\n",
       "      <td>0.000000</td>\n",
       "      <td>-0.999979</td>\n",
       "      <td>-100.000000</td>\n",
       "      <td>0.000000</td>\n",
       "      <td>0.000000</td>\n",
       "      <td>1986.000000</td>\n",
       "    </tr>\n",
       "    <tr>\n",
       "      <th>25%</th>\n",
       "      <td>1.100000e+07</td>\n",
       "      <td>9.015303e+06</td>\n",
       "      <td>96.00000</td>\n",
       "      <td>5.800000</td>\n",
       "      <td>1.861800e+04</td>\n",
       "      <td>1996.000000</td>\n",
       "      <td>0.000000</td>\n",
       "      <td>-0.505616</td>\n",
       "      <td>-50.000000</td>\n",
       "      <td>8487.000000</td>\n",
       "      <td>6.143324</td>\n",
       "      <td>1996.000000</td>\n",
       "    </tr>\n",
       "    <tr>\n",
       "      <th>50%</th>\n",
       "      <td>2.500000e+07</td>\n",
       "      <td>2.860752e+07</td>\n",
       "      <td>104.00000</td>\n",
       "      <td>6.400000</td>\n",
       "      <td>5.132200e+04</td>\n",
       "      <td>2003.000000</td>\n",
       "      <td>1.000000</td>\n",
       "      <td>0.064691</td>\n",
       "      <td>10.000000</td>\n",
       "      <td>11928.000000</td>\n",
       "      <td>8.781298</td>\n",
       "      <td>2003.000000</td>\n",
       "    </tr>\n",
       "    <tr>\n",
       "      <th>75%</th>\n",
       "      <td>5.000000e+07</td>\n",
       "      <td>6.566020e+07</td>\n",
       "      <td>117.00000</td>\n",
       "      <td>7.000000</td>\n",
       "      <td>1.256480e+05</td>\n",
       "      <td>2010.000000</td>\n",
       "      <td>1.000000</td>\n",
       "      <td>1.067919</td>\n",
       "      <td>110.000000</td>\n",
       "      <td>40001.000000</td>\n",
       "      <td>11.936460</td>\n",
       "      <td>2010.000000</td>\n",
       "    </tr>\n",
       "    <tr>\n",
       "      <th>max</th>\n",
       "      <td>3.000000e+08</td>\n",
       "      <td>9.366622e+08</td>\n",
       "      <td>219.00000</td>\n",
       "      <td>9.300000</td>\n",
       "      <td>1.861666e+06</td>\n",
       "      <td>2016.000000</td>\n",
       "      <td>1.000000</td>\n",
       "      <td>7193.587333</td>\n",
       "      <td>719360.000000</td>\n",
       "      <td>404378.000000</td>\n",
       "      <td>547.488298</td>\n",
       "      <td>2017.000000</td>\n",
       "    </tr>\n",
       "  </tbody>\n",
       "</table>\n",
       "</div>"
      ],
      "text/plain": [
       "             budget         gross     runtime        score         votes  \\\n",
       "count  3.133000e+03  3.133000e+03  3133.00000  3133.000000  3.133000e+03   \n",
       "mean   3.859672e+07  5.140122e+07   107.33578     6.344558  1.073377e+05   \n",
       "std    4.169337e+07  6.931245e+07    18.48420     1.061415  1.623810e+05   \n",
       "min    0.000000e+00  0.000000e+00     0.00000     0.000000  0.000000e+00   \n",
       "25%    1.100000e+07  9.015303e+06    96.00000     5.800000  1.861800e+04   \n",
       "50%    2.500000e+07  2.860752e+07   104.00000     6.400000  5.132200e+04   \n",
       "75%    5.000000e+07  6.566020e+07   117.00000     7.000000  1.256480e+05   \n",
       "max    3.000000e+08  9.366622e+08   219.00000     9.300000  1.861666e+06   \n",
       "\n",
       "              year     isprofit  profitability_ratio  \\\n",
       "count  3133.000000  3133.000000          3133.000000   \n",
       "mean   1996.708586     0.526652             4.409565   \n",
       "std     107.513537     0.499369           135.601097   \n",
       "min       0.000000     0.000000            -0.999979   \n",
       "25%    1996.000000     0.000000            -0.505616   \n",
       "50%    2003.000000     1.000000             0.064691   \n",
       "75%    2010.000000     1.000000             1.067919   \n",
       "max    2016.000000     1.000000          7193.587333   \n",
       "\n",
       "       profitability_ratio_bucket             id   popularity  year_released  \n",
       "count                 3133.000000    3133.000000  3133.000000    3133.000000  \n",
       "mean                   440.908395   44450.067028    10.211105    2002.585701  \n",
       "std                  13560.133186   76044.719544    13.924768       8.386007  \n",
       "min                   -100.000000       0.000000     0.000000    1986.000000  \n",
       "25%                    -50.000000    8487.000000     6.143324    1996.000000  \n",
       "50%                     10.000000   11928.000000     8.781298    2003.000000  \n",
       "75%                    110.000000   40001.000000    11.936460    2010.000000  \n",
       "max                 719360.000000  404378.000000   547.488298    2017.000000  "
      ]
     },
     "execution_count": 25,
     "metadata": {},
     "output_type": "execute_result"
    }
   ],
   "source": [
    "data_dropped.describe()   # after removing rows which include NaN"
   ]
  },
  {
   "cell_type": "code",
   "execution_count": 26,
   "metadata": {},
   "outputs": [
    {
     "data": {
      "text/plain": [
       "budget                         5.84\n",
       "gross                          7.70\n",
       "runtime                        0.14\n",
       "score                          0.09\n",
       "votes                          8.11\n",
       "year                          -0.02\n",
       "isprofit                       3.16\n",
       "profitability_ratio           10.33\n",
       "profitability_ratio_bucket    10.34\n",
       "id                            -2.19\n",
       "popularity                     4.34\n",
       "year_released                  0.01\n",
       "dtype: float64"
      ]
     },
     "execution_count": 26,
     "metadata": {},
     "output_type": "execute_result"
    }
   ],
   "source": [
    "# % change in means of columns before and after dropping missing-value rows\n",
    "change_in_means = ((data_dropped.mean() - df.mean()) / df.mean() * 100).round(2)\n",
    "change_in_means"
   ]
  },
  {
   "cell_type": "markdown",
   "metadata": {},
   "source": [
    "### Bar Chart of the Change in Means"
   ]
  },
  {
   "cell_type": "code",
   "execution_count": 27,
   "metadata": {},
   "outputs": [
    {
     "data": {
      "text/plain": [
       "Text(0, 0.5, '% change')"
      ]
     },
     "execution_count": 27,
     "metadata": {},
     "output_type": "execute_result"
    },
    {
     "data": {
      "image/png": "[encoded data removed]",
      "text/plain": [
       "<Figure size 648x288 with 1 Axes>"
      ]
     },
     "metadata": {},
     "output_type": "display_data"
    }
   ],
   "source": [
    "plt.figure(figsize=(9, 4))\n",
    "change_in_means.plot.bar(title='% change in average column values')\n",
    "plt.ylabel('% change')\n"
   ]
  },
  {
   "cell_type": "markdown",
   "metadata": {},
   "source": [
    "Figure 1: Percent change in average column values\n",
    "<p>Figure 1 shows the percent change in mean of columns before and after dropping missing-value rows.</p>"
   ]
  },
  {
   "cell_type": "markdown",
   "metadata": {},
   "source": [
    "## 2.4. Finding Outliers <a class=\"anchor\" id=\"24\"></a>"
   ]
  },
  {
   "cell_type": "markdown",
   "metadata": {},
   "source": [
    "### 2.4.1. IQR Score Method <a class=\"anchor\" id=\"241\"></a>"
   ]
  },
  {
   "cell_type": "code",
   "execution_count": 28,
   "metadata": {},
   "outputs": [
    {
     "name": "stdout",
     "output_type": "stream",
     "text": [
      "budget                        3.900000e+07\n",
      "gross                         5.664489e+07\n",
      "runtime                       2.100000e+01\n",
      "score                         1.200000e+00\n",
      "votes                         1.070300e+05\n",
      "year                          1.400000e+01\n",
      "isprofit                      1.000000e+00\n",
      "profitability_ratio           1.573535e+00\n",
      "profitability_ratio_bucket    1.600000e+02\n",
      "id                            3.151400e+04\n",
      "popularity                    5.793136e+00\n",
      "year_released                 1.400000e+01\n",
      "dtype: float64\n"
     ]
    }
   ],
   "source": [
    "Q1 = data_dropped.quantile(0.25)\n",
    "Q3 = data_dropped.quantile(0.75)\n",
    "IQR = Q3 - Q1\n",
    "print(IQR)"
   ]
  },
  {
   "cell_type": "code",
   "execution_count": 29,
   "metadata": {},
   "outputs": [
    {
     "name": "stdout",
     "output_type": "stream",
     "text": [
      "      adult  budget  company  country  director  genre  genres_edited  gross  \\\n",
      "0     False   False    False    False     False  False          False  False   \n",
      "1     False   False    False    False     False  False          False  False   \n",
      "2     False   False    False    False     False  False          False   True   \n",
      "3     False   False    False    False     False  False          False  False   \n",
      "4     False   False    False    False     False  False          False  False   \n",
      "...     ...     ...      ...      ...       ...    ...            ...    ...   \n",
      "3128  False   False    False    False     False  False          False  False   \n",
      "3129  False   False    False    False     False  False          False  False   \n",
      "3130  False   False    False    False     False  False          False  False   \n",
      "3131  False   False    False    False     False  False          False  False   \n",
      "3132  False   False    False    False     False  False          False  False   \n",
      "\n",
      "         id  imdb_id  ...  runtime  score  spoken_languages_edited   star  \\\n",
      "0     False    False  ...    False  False                    False  False   \n",
      "1     False    False  ...    False  False                    False  False   \n",
      "2     False    False  ...    False  False                    False  False   \n",
      "3     False    False  ...    False  False                    False  False   \n",
      "4     False    False  ...    False  False                    False  False   \n",
      "...     ...      ...  ...      ...    ...                      ...    ...   \n",
      "3128   True    False  ...    False  False                    False  False   \n",
      "3129   True    False  ...    False  False                    False  False   \n",
      "3130   True    False  ...    False  False                    False  False   \n",
      "3131   True    False  ...    False  False                    False  False   \n",
      "3132   True    False  ...    False  False                    False  False   \n",
      "\n",
      "      tagline  title  votes  writer   year  year_released  \n",
      "0       False  False   True   False  False          False  \n",
      "1       False  False  False   False  False          False  \n",
      "2       False  False  False   False  False          False  \n",
      "3       False  False   True   False  False          False  \n",
      "4       False  False  False   False  False          False  \n",
      "...       ...    ...    ...     ...    ...            ...  \n",
      "3128    False  False  False   False  False          False  \n",
      "3129    False  False  False   False  False          False  \n",
      "3130    False  False  False   False  False          False  \n",
      "3131    False  False  False   False  False          False  \n",
      "3132    False  False  False   False  False          False  \n",
      "\n",
      "[3133 rows x 30 columns]\n"
     ]
    },
    {
     "name": "stderr",
     "output_type": "stream",
     "text": [
      "c:\\users\\jaymish\\desktop\\pcs\\web2txt\\webapp\\venv\\lib\\site-packages\\ipykernel_launcher.py:1: FutureWarning: Automatic reindexing on DataFrame vs Series comparisons is deprecated and will raise ValueError in a future version.  Do `left, right = left.align(right, axis=1, copy=False)` before e.g. `left == right`\n",
      "  \"\"\"Entry point for launching an IPython kernel.\n",
      "c:\\users\\jaymish\\desktop\\pcs\\web2txt\\webapp\\venv\\lib\\site-packages\\ipykernel_launcher.py:1: FutureWarning: Automatic reindexing on DataFrame vs Series comparisons is deprecated and will raise ValueError in a future version.  Do `left, right = left.align(right, axis=1, copy=False)` before e.g. `left == right`\n",
      "  \"\"\"Entry point for launching an IPython kernel.\n"
     ]
    }
   ],
   "source": [
    "print((data_dropped < (Q1 - (1.5 * IQR))) | (data_dropped > (Q3 + (1.5 * IQR))))"
   ]
  },
  {
   "cell_type": "code",
   "execution_count": 30,
   "metadata": {},
   "outputs": [
    {
     "data": {
      "text/plain": [
       "(3133, 30)"
      ]
     },
     "execution_count": 30,
     "metadata": {},
     "output_type": "execute_result"
    }
   ],
   "source": [
    "data_dropped.shape"
   ]
  },
  {
   "cell_type": "code",
   "execution_count": 31,
   "metadata": {},
   "outputs": [
    {
     "name": "stderr",
     "output_type": "stream",
     "text": [
      "c:\\users\\jaymish\\desktop\\pcs\\web2txt\\webapp\\venv\\lib\\site-packages\\ipykernel_launcher.py:1: FutureWarning: Automatic reindexing on DataFrame vs Series comparisons is deprecated and will raise ValueError in a future version.  Do `left, right = left.align(right, axis=1, copy=False)` before e.g. `left == right`\n",
      "  \"\"\"Entry point for launching an IPython kernel.\n",
      "c:\\users\\jaymish\\desktop\\pcs\\web2txt\\webapp\\venv\\lib\\site-packages\\ipykernel_launcher.py:1: FutureWarning: Automatic reindexing on DataFrame vs Series comparisons is deprecated and will raise ValueError in a future version.  Do `left, right = left.align(right, axis=1, copy=False)` before e.g. `left == right`\n",
      "  \"\"\"Entry point for launching an IPython kernel.\n"
     ]
    }
   ],
   "source": [
    "data_dropped_outlier_IQR = data_dropped[~((data_dropped < (Q1 - 1.5 * IQR)) | (data_dropped > (Q3 + 1.5 * IQR))).any(axis=1)]"
   ]
  },
  {
   "cell_type": "code",
   "execution_count": 32,
   "metadata": {},
   "outputs": [
    {
     "data": {
      "text/plain": [
       "(2063, 30)"
      ]
     },
     "execution_count": 32,
     "metadata": {},
     "output_type": "execute_result"
    }
   ],
   "source": [
    "data_dropped_outlier_IQR.shape"
   ]
  },
  {
   "cell_type": "code",
   "execution_count": 33,
   "metadata": {},
   "outputs": [
    {
     "data": {
      "text/html": [
       "<div>\n",
       "<style scoped>\n",
       "    .dataframe tbody tr th:only-of-type {\n",
       "        vertical-align: middle;\n",
       "    }\n",
       "\n",
       "    .dataframe tbody tr th {\n",
       "        vertical-align: top;\n",
       "    }\n",
       "\n",
       "    .dataframe thead th {\n",
       "        text-align: right;\n",
       "    }\n",
       "</style>\n",
       "<table border=\"1\" class=\"dataframe\">\n",
       "  <thead>\n",
       "    <tr style=\"text-align: right;\">\n",
       "      <th></th>\n",
       "      <th>budget</th>\n",
       "      <th>company</th>\n",
       "      <th>country</th>\n",
       "      <th>director</th>\n",
       "      <th>genre</th>\n",
       "      <th>gross</th>\n",
       "      <th>name</th>\n",
       "      <th>rating</th>\n",
       "      <th>released</th>\n",
       "      <th>runtime</th>\n",
       "      <th>...</th>\n",
       "      <th>imdb_id</th>\n",
       "      <th>original_title</th>\n",
       "      <th>overview</th>\n",
       "      <th>popularity</th>\n",
       "      <th>tagline</th>\n",
       "      <th>title</th>\n",
       "      <th>genres_edited</th>\n",
       "      <th>spoken_languages_edited</th>\n",
       "      <th>production_countries_edited</th>\n",
       "      <th>year_released</th>\n",
       "    </tr>\n",
       "  </thead>\n",
       "  <tbody>\n",
       "    <tr>\n",
       "      <th>0</th>\n",
       "      <td>9000000</td>\n",
       "      <td>Walt Disney Pictures</td>\n",
       "      <td>USA</td>\n",
       "      <td>Other</td>\n",
       "      <td>Adventure</td>\n",
       "      <td>18564613</td>\n",
       "      <td>Flight of the Navigator</td>\n",
       "      <td>PG</td>\n",
       "      <td>1.08.1986 00:00</td>\n",
       "      <td>90</td>\n",
       "      <td>...</td>\n",
       "      <td>tt0091059</td>\n",
       "      <td>Flight of the Navigator</td>\n",
       "      <td>This 1986 Disney adventure tells the story of ...</td>\n",
       "      <td>5.526865</td>\n",
       "      <td>Come along on the greatest adventure of the su...</td>\n",
       "      <td>Flight of the Navigator</td>\n",
       "      <td>Family, Science Fiction, Adventure</td>\n",
       "      <td>en</td>\n",
       "      <td>US</td>\n",
       "      <td>1986</td>\n",
       "    </tr>\n",
       "    <tr>\n",
       "      <th>1</th>\n",
       "      <td>6000000</td>\n",
       "      <td>Other</td>\n",
       "      <td>USA</td>\n",
       "      <td>Other</td>\n",
       "      <td>Drama</td>\n",
       "      <td>8551228</td>\n",
       "      <td>Blue Velvet</td>\n",
       "      <td>R</td>\n",
       "      <td>23.10.1986 00:00</td>\n",
       "      <td>120</td>\n",
       "      <td>...</td>\n",
       "      <td>tt0090756</td>\n",
       "      <td>Blue Velvet</td>\n",
       "      <td>The discovery of a severed human ear found in ...</td>\n",
       "      <td>7.882247</td>\n",
       "      <td>It's a strange world.</td>\n",
       "      <td>Blue Velvet</td>\n",
       "      <td>Crime, Drama, Mystery, Thriller</td>\n",
       "      <td>en</td>\n",
       "      <td>US</td>\n",
       "      <td>1986</td>\n",
       "    </tr>\n",
       "    <tr>\n",
       "      <th>2</th>\n",
       "      <td>16000000</td>\n",
       "      <td>Other</td>\n",
       "      <td>Other</td>\n",
       "      <td>Other</td>\n",
       "      <td>Action</td>\n",
       "      <td>5900000</td>\n",
       "      <td>Highlander</td>\n",
       "      <td>R</td>\n",
       "      <td>7.03.1986 00:00</td>\n",
       "      <td>116</td>\n",
       "      <td>...</td>\n",
       "      <td>tt0091203</td>\n",
       "      <td>Highlander</td>\n",
       "      <td>He fought his first battle on the Scottish Hig...</td>\n",
       "      <td>16.870392</td>\n",
       "      <td>There can be only one.</td>\n",
       "      <td>Highlander</td>\n",
       "      <td>Adventure, Action, Fantasy</td>\n",
       "      <td>en</td>\n",
       "      <td>GB, US</td>\n",
       "      <td>1986</td>\n",
       "    </tr>\n",
       "    <tr>\n",
       "      <th>3</th>\n",
       "      <td>6000000</td>\n",
       "      <td>Twentieth Century Fox Film Corporation</td>\n",
       "      <td>USA</td>\n",
       "      <td>Other</td>\n",
       "      <td>Comedy</td>\n",
       "      <td>8200000</td>\n",
       "      <td>Lucas</td>\n",
       "      <td>PG-13</td>\n",
       "      <td>28.03.1986 00:00</td>\n",
       "      <td>100</td>\n",
       "      <td>...</td>\n",
       "      <td>tt0091445</td>\n",
       "      <td>Lucas</td>\n",
       "      <td>A socially inept fourteen year old experiences...</td>\n",
       "      <td>4.575350</td>\n",
       "      <td>It's about falling in love.  For the first time.</td>\n",
       "      <td>Lucas</td>\n",
       "      <td>Comedy, Drama, Romance</td>\n",
       "      <td>en</td>\n",
       "      <td>US</td>\n",
       "      <td>1986</td>\n",
       "    </tr>\n",
       "    <tr>\n",
       "      <th>4</th>\n",
       "      <td>25000000</td>\n",
       "      <td>Twentieth Century Fox Film Corporation</td>\n",
       "      <td>USA</td>\n",
       "      <td>Other</td>\n",
       "      <td>Action</td>\n",
       "      <td>11100000</td>\n",
       "      <td>Big Trouble in Little China</td>\n",
       "      <td>PG-13</td>\n",
       "      <td>2.07.1986 00:00</td>\n",
       "      <td>99</td>\n",
       "      <td>...</td>\n",
       "      <td>tt0090728</td>\n",
       "      <td>Big Trouble in Little China</td>\n",
       "      <td>When trucker, Jack Burton agreed to take his f...</td>\n",
       "      <td>11.109932</td>\n",
       "      <td>Adventure doesn't come any bigger!</td>\n",
       "      <td>Big Trouble in Little China</td>\n",
       "      <td>Action, Adventure, Comedy, Fantasy</td>\n",
       "      <td>cn, en</td>\n",
       "      <td>US</td>\n",
       "      <td>1986</td>\n",
       "    </tr>\n",
       "    <tr>\n",
       "      <th>...</th>\n",
       "      <td>...</td>\n",
       "      <td>...</td>\n",
       "      <td>...</td>\n",
       "      <td>...</td>\n",
       "      <td>...</td>\n",
       "      <td>...</td>\n",
       "      <td>...</td>\n",
       "      <td>...</td>\n",
       "      <td>...</td>\n",
       "      <td>...</td>\n",
       "      <td>...</td>\n",
       "      <td>...</td>\n",
       "      <td>...</td>\n",
       "      <td>...</td>\n",
       "      <td>...</td>\n",
       "      <td>...</td>\n",
       "      <td>...</td>\n",
       "      <td>...</td>\n",
       "      <td>...</td>\n",
       "      <td>...</td>\n",
       "      <td>...</td>\n",
       "    </tr>\n",
       "    <tr>\n",
       "      <th>2058</th>\n",
       "      <td>65000000</td>\n",
       "      <td>Other</td>\n",
       "      <td>USA</td>\n",
       "      <td>Other</td>\n",
       "      <td>Crime</td>\n",
       "      <td>13757804</td>\n",
       "      <td>Sin City: A Dame to Kill For</td>\n",
       "      <td>R</td>\n",
       "      <td>22.08.2014 00:00</td>\n",
       "      <td>102</td>\n",
       "      <td>...</td>\n",
       "      <td>tt0458481</td>\n",
       "      <td>Sin City: A Dame to Kill For</td>\n",
       "      <td>Some of Sin City's most hard-boiled citizens c...</td>\n",
       "      <td>20.623642</td>\n",
       "      <td>There is no justice without sin.</td>\n",
       "      <td>Sin City: A Dame to Kill For</td>\n",
       "      <td>Crime, Thriller</td>\n",
       "      <td>en</td>\n",
       "      <td>US</td>\n",
       "      <td>2014</td>\n",
       "    </tr>\n",
       "    <tr>\n",
       "      <th>2059</th>\n",
       "      <td>70000000</td>\n",
       "      <td>Universal Pictures</td>\n",
       "      <td>USA</td>\n",
       "      <td>Other</td>\n",
       "      <td>Action</td>\n",
       "      <td>56280355</td>\n",
       "      <td>Dracula Untold</td>\n",
       "      <td>PG-13</td>\n",
       "      <td>10.10.2014 00:00</td>\n",
       "      <td>92</td>\n",
       "      <td>...</td>\n",
       "      <td>tt0829150</td>\n",
       "      <td>Dracula Untold</td>\n",
       "      <td>Vlad Tepes is a great hero, but when he learns...</td>\n",
       "      <td>16.316318</td>\n",
       "      <td>Every bloodline has a beginning</td>\n",
       "      <td>Dracula Untold</td>\n",
       "      <td>Horror, Action, Drama, Fantasy, War</td>\n",
       "      <td>en</td>\n",
       "      <td>US</td>\n",
       "      <td>2014</td>\n",
       "    </tr>\n",
       "    <tr>\n",
       "      <th>2060</th>\n",
       "      <td>95000000</td>\n",
       "      <td>Other</td>\n",
       "      <td>USA</td>\n",
       "      <td>Other</td>\n",
       "      <td>Action</td>\n",
       "      <td>17223265</td>\n",
       "      <td>Seventh Son</td>\n",
       "      <td>PG-13</td>\n",
       "      <td>6.02.2015 00:00</td>\n",
       "      <td>102</td>\n",
       "      <td>...</td>\n",
       "      <td>tt1121096</td>\n",
       "      <td>Seventh Son</td>\n",
       "      <td>John Gregory, who is a seventh son of a sevent...</td>\n",
       "      <td>15.297821</td>\n",
       "      <td>When darkness falls, the son will rise. When t...</td>\n",
       "      <td>Seventh Son</td>\n",
       "      <td>Adventure, Fantasy</td>\n",
       "      <td>en</td>\n",
       "      <td>CN, CA, US, GB</td>\n",
       "      <td>2015</td>\n",
       "    </tr>\n",
       "    <tr>\n",
       "      <th>2061</th>\n",
       "      <td>10000000</td>\n",
       "      <td>Other</td>\n",
       "      <td>USA</td>\n",
       "      <td>Tim Burton</td>\n",
       "      <td>Biography</td>\n",
       "      <td>14479776</td>\n",
       "      <td>Big Eyes</td>\n",
       "      <td>PG-13</td>\n",
       "      <td>25.12.2014 00:00</td>\n",
       "      <td>106</td>\n",
       "      <td>...</td>\n",
       "      <td>tt1126590</td>\n",
       "      <td>Big Eyes</td>\n",
       "      <td>The story of the awakening of the painter, Mar...</td>\n",
       "      <td>7.412826</td>\n",
       "      <td>She created it. He sold it. And they bought it.</td>\n",
       "      <td>Big Eyes</td>\n",
       "      <td>Drama</td>\n",
       "      <td>it, en, fr</td>\n",
       "      <td>CA, US</td>\n",
       "      <td>2014</td>\n",
       "    </tr>\n",
       "    <tr>\n",
       "      <th>2062</th>\n",
       "      <td>28000000</td>\n",
       "      <td>Other</td>\n",
       "      <td>USA</td>\n",
       "      <td>Other</td>\n",
       "      <td>Comedy</td>\n",
       "      <td>6998324</td>\n",
       "      <td>Our Brand Is Crisis</td>\n",
       "      <td>R</td>\n",
       "      <td>30.10.2015 00:00</td>\n",
       "      <td>107</td>\n",
       "      <td>...</td>\n",
       "      <td>tt1018765</td>\n",
       "      <td>Our Brand Is Crisis</td>\n",
       "      <td>A feature film based on the documentary \"Our B...</td>\n",
       "      <td>12.158176</td>\n",
       "      <td>May the best campaign win.</td>\n",
       "      <td>Our Brand Is Crisis</td>\n",
       "      <td>Comedy, Drama</td>\n",
       "      <td>en</td>\n",
       "      <td>US</td>\n",
       "      <td>2015</td>\n",
       "    </tr>\n",
       "  </tbody>\n",
       "</table>\n",
       "<p>2063 rows × 30 columns</p>\n",
       "</div>"
      ],
      "text/plain": [
       "        budget                                 company country    director  \\\n",
       "0      9000000                    Walt Disney Pictures     USA       Other   \n",
       "1      6000000                                   Other     USA       Other   \n",
       "2     16000000                                   Other   Other       Other   \n",
       "3      6000000  Twentieth Century Fox Film Corporation     USA       Other   \n",
       "4     25000000  Twentieth Century Fox Film Corporation     USA       Other   \n",
       "...        ...                                     ...     ...         ...   \n",
       "2058  65000000                                   Other     USA       Other   \n",
       "2059  70000000                      Universal Pictures     USA       Other   \n",
       "2060  95000000                                   Other     USA       Other   \n",
       "2061  10000000                                   Other     USA  Tim Burton   \n",
       "2062  28000000                                   Other     USA       Other   \n",
       "\n",
       "          genre     gross                          name rating  \\\n",
       "0     Adventure  18564613       Flight of the Navigator     PG   \n",
       "1         Drama   8551228                   Blue Velvet      R   \n",
       "2        Action   5900000                    Highlander      R   \n",
       "3        Comedy   8200000                         Lucas  PG-13   \n",
       "4        Action  11100000   Big Trouble in Little China  PG-13   \n",
       "...         ...       ...                           ...    ...   \n",
       "2058      Crime  13757804  Sin City: A Dame to Kill For      R   \n",
       "2059     Action  56280355                Dracula Untold  PG-13   \n",
       "2060     Action  17223265                   Seventh Son  PG-13   \n",
       "2061  Biography  14479776                      Big Eyes  PG-13   \n",
       "2062     Comedy   6998324           Our Brand Is Crisis      R   \n",
       "\n",
       "              released  runtime  ...    imdb_id                original_title  \\\n",
       "0      1.08.1986 00:00       90  ...  tt0091059       Flight of the Navigator   \n",
       "1     23.10.1986 00:00      120  ...  tt0090756                   Blue Velvet   \n",
       "2      7.03.1986 00:00      116  ...  tt0091203                    Highlander   \n",
       "3     28.03.1986 00:00      100  ...  tt0091445                         Lucas   \n",
       "4      2.07.1986 00:00       99  ...  tt0090728   Big Trouble in Little China   \n",
       "...                ...      ...  ...        ...                           ...   \n",
       "2058  22.08.2014 00:00      102  ...  tt0458481  Sin City: A Dame to Kill For   \n",
       "2059  10.10.2014 00:00       92  ...  tt0829150                Dracula Untold   \n",
       "2060   6.02.2015 00:00      102  ...  tt1121096                   Seventh Son   \n",
       "2061  25.12.2014 00:00      106  ...  tt1126590                      Big Eyes   \n",
       "2062  30.10.2015 00:00      107  ...  tt1018765           Our Brand Is Crisis   \n",
       "\n",
       "                                               overview popularity  \\\n",
       "0     This 1986 Disney adventure tells the story of ...   5.526865   \n",
       "1     The discovery of a severed human ear found in ...   7.882247   \n",
       "2     He fought his first battle on the Scottish Hig...  16.870392   \n",
       "3     A socially inept fourteen year old experiences...   4.575350   \n",
       "4     When trucker, Jack Burton agreed to take his f...  11.109932   \n",
       "...                                                 ...        ...   \n",
       "2058  Some of Sin City's most hard-boiled citizens c...  20.623642   \n",
       "2059  Vlad Tepes is a great hero, but when he learns...  16.316318   \n",
       "2060  John Gregory, who is a seventh son of a sevent...  15.297821   \n",
       "2061  The story of the awakening of the painter, Mar...   7.412826   \n",
       "2062  A feature film based on the documentary \"Our B...  12.158176   \n",
       "\n",
       "                                                tagline  \\\n",
       "0     Come along on the greatest adventure of the su...   \n",
       "1                                 It's a strange world.   \n",
       "2                                There can be only one.   \n",
       "3      It's about falling in love.  For the first time.   \n",
       "4                    Adventure doesn't come any bigger!   \n",
       "...                                                 ...   \n",
       "2058                   There is no justice without sin.   \n",
       "2059                    Every bloodline has a beginning   \n",
       "2060  When darkness falls, the son will rise. When t...   \n",
       "2061    She created it. He sold it. And they bought it.   \n",
       "2062                         May the best campaign win.   \n",
       "\n",
       "                             title                        genres_edited  \\\n",
       "0          Flight of the Navigator   Family, Science Fiction, Adventure   \n",
       "1                      Blue Velvet      Crime, Drama, Mystery, Thriller   \n",
       "2                       Highlander           Adventure, Action, Fantasy   \n",
       "3                            Lucas               Comedy, Drama, Romance   \n",
       "4      Big Trouble in Little China   Action, Adventure, Comedy, Fantasy   \n",
       "...                            ...                                  ...   \n",
       "2058  Sin City: A Dame to Kill For                      Crime, Thriller   \n",
       "2059                Dracula Untold  Horror, Action, Drama, Fantasy, War   \n",
       "2060                   Seventh Son                   Adventure, Fantasy   \n",
       "2061                      Big Eyes                                Drama   \n",
       "2062           Our Brand Is Crisis                        Comedy, Drama   \n",
       "\n",
       "      spoken_languages_edited production_countries_edited  year_released  \n",
       "0                          en                          US           1986  \n",
       "1                          en                          US           1986  \n",
       "2                          en                      GB, US           1986  \n",
       "3                          en                          US           1986  \n",
       "4                      cn, en                          US           1986  \n",
       "...                       ...                         ...            ...  \n",
       "2058                       en                          US           2014  \n",
       "2059                       en                          US           2014  \n",
       "2060                       en              CN, CA, US, GB           2015  \n",
       "2061               it, en, fr                      CA, US           2014  \n",
       "2062                       en                          US           2015  \n",
       "\n",
       "[2063 rows x 30 columns]"
      ]
     },
     "execution_count": 33,
     "metadata": {},
     "output_type": "execute_result"
    }
   ],
   "source": [
    "data_dropped_outlier_IQR = data_dropped_outlier_IQR.reset_index()\n",
    "del data_dropped_outlier_IQR['index']\n",
    "data_dropped_outlier_IQR"
   ]
  },
  {
   "cell_type": "code",
   "execution_count": 34,
   "metadata": {},
   "outputs": [
    {
     "data": {
      "text/html": [
       "<div>\n",
       "<style scoped>\n",
       "    .dataframe tbody tr th:only-of-type {\n",
       "        vertical-align: middle;\n",
       "    }\n",
       "\n",
       "    .dataframe tbody tr th {\n",
       "        vertical-align: top;\n",
       "    }\n",
       "\n",
       "    .dataframe thead th {\n",
       "        text-align: right;\n",
       "    }\n",
       "</style>\n",
       "<table border=\"1\" class=\"dataframe\">\n",
       "  <thead>\n",
       "    <tr style=\"text-align: right;\">\n",
       "      <th></th>\n",
       "      <th>budget</th>\n",
       "      <th>gross</th>\n",
       "      <th>runtime</th>\n",
       "      <th>score</th>\n",
       "      <th>votes</th>\n",
       "      <th>year</th>\n",
       "      <th>isprofit</th>\n",
       "      <th>profitability_ratio</th>\n",
       "      <th>profitability_ratio_bucket</th>\n",
       "      <th>id</th>\n",
       "      <th>popularity</th>\n",
       "      <th>year_released</th>\n",
       "    </tr>\n",
       "  </thead>\n",
       "  <tbody>\n",
       "    <tr>\n",
       "      <th>count</th>\n",
       "      <td>2.063000e+03</td>\n",
       "      <td>2.063000e+03</td>\n",
       "      <td>2063.000000</td>\n",
       "      <td>2063.000000</td>\n",
       "      <td>2063.000000</td>\n",
       "      <td>2063.000000</td>\n",
       "      <td>2063.000000</td>\n",
       "      <td>2063.000000</td>\n",
       "      <td>2063.000000</td>\n",
       "      <td>2063.000000</td>\n",
       "      <td>2063.000000</td>\n",
       "      <td>2063.000000</td>\n",
       "    </tr>\n",
       "    <tr>\n",
       "      <th>mean</th>\n",
       "      <td>2.986705e+07</td>\n",
       "      <td>3.133406e+07</td>\n",
       "      <td>105.162870</td>\n",
       "      <td>6.260543</td>\n",
       "      <td>58683.512361</td>\n",
       "      <td>2000.272419</td>\n",
       "      <td>0.453223</td>\n",
       "      <td>0.151164</td>\n",
       "      <td>15.094038</td>\n",
       "      <td>17915.999515</td>\n",
       "      <td>8.054578</td>\n",
       "      <td>2000.418323</td>\n",
       "    </tr>\n",
       "    <tr>\n",
       "      <th>std</th>\n",
       "      <td>2.330944e+07</td>\n",
       "      <td>3.120629e+07</td>\n",
       "      <td>14.032996</td>\n",
       "      <td>0.835665</td>\n",
       "      <td>60618.979385</td>\n",
       "      <td>7.240061</td>\n",
       "      <td>0.497928</td>\n",
       "      <td>0.986128</td>\n",
       "      <td>98.687403</td>\n",
       "      <td>17882.854653</td>\n",
       "      <td>3.577401</td>\n",
       "      <td>7.291026</td>\n",
       "    </tr>\n",
       "    <tr>\n",
       "      <th>min</th>\n",
       "      <td>5.000000e+04</td>\n",
       "      <td>3.090000e+02</td>\n",
       "      <td>69.000000</td>\n",
       "      <td>4.000000</td>\n",
       "      <td>704.000000</td>\n",
       "      <td>1986.000000</td>\n",
       "      <td>0.000000</td>\n",
       "      <td>-0.999979</td>\n",
       "      <td>-100.000000</td>\n",
       "      <td>5.000000</td>\n",
       "      <td>0.000578</td>\n",
       "      <td>1986.000000</td>\n",
       "    </tr>\n",
       "    <tr>\n",
       "      <th>25%</th>\n",
       "      <td>1.200000e+07</td>\n",
       "      <td>6.854366e+06</td>\n",
       "      <td>95.000000</td>\n",
       "      <td>5.700000</td>\n",
       "      <td>14598.500000</td>\n",
       "      <td>1995.000000</td>\n",
       "      <td>0.000000</td>\n",
       "      <td>-0.579098</td>\n",
       "      <td>-60.000000</td>\n",
       "      <td>8843.500000</td>\n",
       "      <td>5.577540</td>\n",
       "      <td>1995.000000</td>\n",
       "    </tr>\n",
       "    <tr>\n",
       "      <th>50%</th>\n",
       "      <td>2.500000e+07</td>\n",
       "      <td>2.137006e+07</td>\n",
       "      <td>103.000000</td>\n",
       "      <td>6.300000</td>\n",
       "      <td>36540.000000</td>\n",
       "      <td>2001.000000</td>\n",
       "      <td>0.000000</td>\n",
       "      <td>-0.111185</td>\n",
       "      <td>-10.000000</td>\n",
       "      <td>11185.000000</td>\n",
       "      <td>7.821870</td>\n",
       "      <td>2001.000000</td>\n",
       "    </tr>\n",
       "    <tr>\n",
       "      <th>75%</th>\n",
       "      <td>4.000000e+07</td>\n",
       "      <td>4.672822e+07</td>\n",
       "      <td>114.000000</td>\n",
       "      <td>6.900000</td>\n",
       "      <td>81925.500000</td>\n",
       "      <td>2006.000000</td>\n",
       "      <td>1.000000</td>\n",
       "      <td>0.631778</td>\n",
       "      <td>60.000000</td>\n",
       "      <td>21367.500000</td>\n",
       "      <td>10.447174</td>\n",
       "      <td>2007.000000</td>\n",
       "    </tr>\n",
       "    <tr>\n",
       "      <th>max</th>\n",
       "      <td>1.050000e+08</td>\n",
       "      <td>1.484780e+08</td>\n",
       "      <td>147.000000</td>\n",
       "      <td>8.200000</td>\n",
       "      <td>285675.000000</td>\n",
       "      <td>2015.000000</td>\n",
       "      <td>1.000000</td>\n",
       "      <td>3.399053</td>\n",
       "      <td>340.000000</td>\n",
       "      <td>87093.000000</td>\n",
       "      <td>20.623642</td>\n",
       "      <td>2015.000000</td>\n",
       "    </tr>\n",
       "  </tbody>\n",
       "</table>\n",
       "</div>"
      ],
      "text/plain": [
       "             budget         gross      runtime        score          votes  \\\n",
       "count  2.063000e+03  2.063000e+03  2063.000000  2063.000000    2063.000000   \n",
       "mean   2.986705e+07  3.133406e+07   105.162870     6.260543   58683.512361   \n",
       "std    2.330944e+07  3.120629e+07    14.032996     0.835665   60618.979385   \n",
       "min    5.000000e+04  3.090000e+02    69.000000     4.000000     704.000000   \n",
       "25%    1.200000e+07  6.854366e+06    95.000000     5.700000   14598.500000   \n",
       "50%    2.500000e+07  2.137006e+07   103.000000     6.300000   36540.000000   \n",
       "75%    4.000000e+07  4.672822e+07   114.000000     6.900000   81925.500000   \n",
       "max    1.050000e+08  1.484780e+08   147.000000     8.200000  285675.000000   \n",
       "\n",
       "              year     isprofit  profitability_ratio  \\\n",
       "count  2063.000000  2063.000000          2063.000000   \n",
       "mean   2000.272419     0.453223             0.151164   \n",
       "std       7.240061     0.497928             0.986128   \n",
       "min    1986.000000     0.000000            -0.999979   \n",
       "25%    1995.000000     0.000000            -0.579098   \n",
       "50%    2001.000000     0.000000            -0.111185   \n",
       "75%    2006.000000     1.000000             0.631778   \n",
       "max    2015.000000     1.000000             3.399053   \n",
       "\n",
       "       profitability_ratio_bucket            id   popularity  year_released  \n",
       "count                 2063.000000   2063.000000  2063.000000    2063.000000  \n",
       "mean                    15.094038  17915.999515     8.054578    2000.418323  \n",
       "std                     98.687403  17882.854653     3.577401       7.291026  \n",
       "min                   -100.000000      5.000000     0.000578    1986.000000  \n",
       "25%                    -60.000000   8843.500000     5.577540    1995.000000  \n",
       "50%                    -10.000000  11185.000000     7.821870    2001.000000  \n",
       "75%                     60.000000  21367.500000    10.447174    2007.000000  \n",
       "max                    340.000000  87093.000000    20.623642    2015.000000  "
      ]
     },
     "execution_count": 34,
     "metadata": {},
     "output_type": "execute_result"
    }
   ],
   "source": [
    "data_dropped_outlier_IQR.describe()"
   ]
  },
  {
   "cell_type": "markdown",
   "metadata": {},
   "source": [
    "## 2.5. Box Plot <a class=\"anchor\" id=\"25\"></a>"
   ]
  },
  {
   "cell_type": "markdown",
   "metadata": {},
   "source": [
    "### Boxplot of Initial Data"
   ]
  },
  {
   "cell_type": "code",
   "execution_count": 35,
   "metadata": {},
   "outputs": [
    {
     "data": {
      "text/plain": [
       "<AxesSubplot:>"
      ]
     },
     "execution_count": 35,
     "metadata": {},
     "output_type": "execute_result"
    },
    {
     "data": {
      "image/png": "[encoded data removed]",
      "text/plain": [
       "<Figure size 2304x1008 with 1 Axes>"
      ]
     },
     "metadata": {},
     "output_type": "display_data"
    }
   ],
   "source": [
    "df.plot(x=df.index.name, kind='box', figsize=(32, 14))"
   ]
  },
  {
   "cell_type": "markdown",
   "metadata": {},
   "source": [
    "Figure 2: Data Distribution before Cleaning\n",
    "<p>Figure 2 shows the distribution of the data before dropping rows. The graph represents five number summary: “minimum, first quartile, median, third quartile, and ''maximum”. The ends of the box are the quartiles, Q1 and Q3, while the box length is interquartile range (IQR). Two lines (called whiskers) outside the box extend to the smallest (Minimum) and largest (Maximum) observations. The circles are the outliers.</p>"
   ]
  },
  {
   "cell_type": "markdown",
   "metadata": {},
   "source": [
    "### Boxplot of Dropped Data"
   ]
  },
  {
   "cell_type": "code",
   "execution_count": 36,
   "metadata": {},
   "outputs": [
    {
     "data": {
      "text/plain": [
       "<AxesSubplot:>"
      ]
     },
     "execution_count": 36,
     "metadata": {},
     "output_type": "execute_result"
    },
    {
     "data": {
      "image/png": "[encoded data removed]",
      "text/plain": [
       "<Figure size 2304x1008 with 1 Axes>"
      ]
     },
     "metadata": {},
     "output_type": "display_data"
    }
   ],
   "source": [
    "data_dropped.plot(x=data_dropped.index.name, kind='box', figsize=(32, 14))"
   ]
  },
  {
   "cell_type": "markdown",
   "metadata": {},
   "source": [
    "Figure 3: Data Distribution of Dropped Data\n",
    "<p>Figure 3 shows the distibution of data after dropping rows with the value NaN. The graph represents five number summary: “minimum, first quartile, median, third quartile, and ''maximum”. The ends of the box are the quartiles, Q1 and Q3, while the box length is interquartile range (IQR). Two lines (called whiskers) outside the box extend to the smallest (Minimum) and largest (Maximum) observations. The circles are the outliers.</p>"
   ]
  },
  {
   "cell_type": "markdown",
   "metadata": {},
   "source": [
    "### Boxplot of Dropped Outlier Data"
   ]
  },
  {
   "cell_type": "code",
   "execution_count": 37,
   "metadata": {},
   "outputs": [
    {
     "data": {
      "text/plain": [
       "<AxesSubplot:>"
      ]
     },
     "execution_count": 37,
     "metadata": {},
     "output_type": "execute_result"
    },
    {
     "data": {
      "image/png": "[encoded data removed]",
      "text/plain": [
       "<Figure size 3312x1008 with 1 Axes>"
      ]
     },
     "metadata": {},
     "output_type": "display_data"
    }
   ],
   "source": [
    "data_dropped_outlier_IQR.plot(x=data_dropped_outlier_IQR.index.name, kind='box', figsize=(46, 14))"
   ]
  },
  {
   "cell_type": "markdown",
   "metadata": {},
   "source": [
    "Figure 4: Data Distribution of Outlier Data\n",
    "<p>Figure 4 shows the distributoion of data after dropping outliers. The graph represents five number summary: “minimum, first quartile, median, third quartile, and ''maximum”. The ends of the box are the quartiles, Q1 and Q3, while the box length is interquartile range (IQR). Two lines (called whiskers) outside the box extend to the smallest (Minimum) and largest (Maximum) observations. The circles are the outliers.</p>"
   ]
  },
  {
   "cell_type": "markdown",
   "metadata": {},
   "source": [
    "# 3. Data Transformation <a class=\"anchor\" id=\"3\"></a>"
   ]
  },
  {
   "cell_type": "markdown",
   "metadata": {},
   "source": [
    "Our data has the following columns that we can perform transformation on:\n",
    "* budget\n",
    "* runtime\n",
    "* score\n",
    "* votes\n",
    "* popularity\n",
    "\n",
    "<p>\n",
    "> We want to discretize and normalize the data so it will be ready for the modeling stage.\n",
    "<br><br>\n",
    "> After writing some general functions, we will perform the transformations one by one.\n",
    "</p>"
   ]
  },
  {
   "cell_type": "markdown",
   "metadata": {},
   "source": [
    "## 3.1. Binning <a class=\"anchor\" id=\"31\"></a>"
   ]
  },
  {
   "cell_type": "markdown",
   "metadata": {},
   "source": [
    "Below, we iterate over all continuous features and use binning to discretize the data. At the end, we summarize the results by indicating the 4 intervals that our data was partitioned into."
   ]
  },
  {
   "cell_type": "code",
   "execution_count": 38,
   "metadata": {},
   "outputs": [
    {
     "data": {
      "text/plain": [
       "count    2.063000e+03\n",
       "mean     2.986705e+07\n",
       "std      2.330944e+07\n",
       "min      5.000000e+04\n",
       "25%      1.200000e+07\n",
       "50%      2.500000e+07\n",
       "75%      4.000000e+07\n",
       "max      1.050000e+08\n",
       "Name: budget, dtype: float64"
      ]
     },
     "metadata": {},
     "output_type": "display_data"
    },
    {
     "data": {
      "text/plain": [
       "0         (49999.999, 12000000.0]\n",
       "1         (49999.999, 12000000.0]\n",
       "2        (12000000.0, 25000000.0]\n",
       "3         (49999.999, 12000000.0]\n",
       "4        (12000000.0, 25000000.0]\n",
       "                  ...            \n",
       "2058    (40000000.0, 105000000.0]\n",
       "2059    (40000000.0, 105000000.0]\n",
       "2060    (40000000.0, 105000000.0]\n",
       "2061      (49999.999, 12000000.0]\n",
       "2062     (25000000.0, 40000000.0]\n",
       "Name: budget, Length: 2063, dtype: category\n",
       "Categories (4, interval[float64]): [(49999.999, 12000000.0] < (12000000.0, 25000000.0] < (25000000.0, 40000000.0] < (40000000.0, 105000000.0]]"
      ]
     },
     "metadata": {},
     "output_type": "display_data"
    },
    {
     "data": {
      "text/plain": [
       "(12000000.0, 25000000.0]     593\n",
       "(49999.999, 12000000.0]      537\n",
       "(40000000.0, 105000000.0]    513\n",
       "(25000000.0, 40000000.0]     420\n",
       "Name: budget, dtype: int64"
      ]
     },
     "metadata": {},
     "output_type": "display_data"
    },
    {
     "data": {
      "text/plain": [
       "count    2063.000000\n",
       "mean      105.162870\n",
       "std        14.032996\n",
       "min        69.000000\n",
       "25%        95.000000\n",
       "50%       103.000000\n",
       "75%       114.000000\n",
       "max       147.000000\n",
       "Name: runtime, dtype: float64"
      ]
     },
     "metadata": {},
     "output_type": "display_data"
    },
    {
     "data": {
      "text/plain": [
       "0       (68.999, 95.0]\n",
       "1       (114.0, 147.0]\n",
       "2       (114.0, 147.0]\n",
       "3        (95.0, 103.0]\n",
       "4        (95.0, 103.0]\n",
       "             ...      \n",
       "2058     (95.0, 103.0]\n",
       "2059    (68.999, 95.0]\n",
       "2060     (95.0, 103.0]\n",
       "2061    (103.0, 114.0]\n",
       "2062    (103.0, 114.0]\n",
       "Name: runtime, Length: 2063, dtype: category\n",
       "Categories (4, interval[float64]): [(68.999, 95.0] < (95.0, 103.0] < (103.0, 114.0] < (114.0, 147.0]]"
      ]
     },
     "metadata": {},
     "output_type": "display_data"
    },
    {
     "data": {
      "text/plain": [
       "(95.0, 103.0]     546\n",
       "(68.999, 95.0]    518\n",
       "(114.0, 147.0]    500\n",
       "(103.0, 114.0]    499\n",
       "Name: runtime, dtype: int64"
      ]
     },
     "metadata": {},
     "output_type": "display_data"
    },
    {
     "data": {
      "text/plain": [
       "count    2063.000000\n",
       "mean        6.260543\n",
       "std         0.835665\n",
       "min         4.000000\n",
       "25%         5.700000\n",
       "50%         6.300000\n",
       "75%         6.900000\n",
       "max         8.200000\n",
       "Name: score, dtype: float64"
      ]
     },
     "metadata": {},
     "output_type": "display_data"
    },
    {
     "data": {
      "text/plain": [
       "0         (6.3, 6.9]\n",
       "1         (6.9, 8.2]\n",
       "2         (6.9, 8.2]\n",
       "3         (6.3, 6.9]\n",
       "4         (6.9, 8.2]\n",
       "            ...     \n",
       "2058      (6.3, 6.9]\n",
       "2059      (5.7, 6.3]\n",
       "2060    (3.999, 5.7]\n",
       "2061      (6.9, 8.2]\n",
       "2062      (5.7, 6.3]\n",
       "Name: score, Length: 2063, dtype: category\n",
       "Categories (4, interval[float64]): [(3.999, 5.7] < (5.7, 6.3] < (6.3, 6.9] < (6.9, 8.2]]"
      ]
     },
     "metadata": {},
     "output_type": "display_data"
    },
    {
     "data": {
      "text/plain": [
       "(3.999, 5.7]    561\n",
       "(6.3, 6.9]      543\n",
       "(5.7, 6.3]      506\n",
       "(6.9, 8.2]      453\n",
       "Name: score, dtype: int64"
      ]
     },
     "metadata": {},
     "output_type": "display_data"
    },
    {
     "data": {
      "text/plain": [
       "count      2063.000000\n",
       "mean      58683.512361\n",
       "std       60618.979385\n",
       "min         704.000000\n",
       "25%       14598.500000\n",
       "50%       36540.000000\n",
       "75%       81925.500000\n",
       "max      285675.000000\n",
       "Name: votes, dtype: float64"
      ]
     },
     "metadata": {},
     "output_type": "display_data"
    },
    {
     "data": {
      "text/plain": [
       "0        (36540.0, 81925.5]\n",
       "1       (81925.5, 285675.0]\n",
       "2       (81925.5, 285675.0]\n",
       "3        (703.999, 14598.5]\n",
       "4       (81925.5, 285675.0]\n",
       "               ...         \n",
       "2058    (81925.5, 285675.0]\n",
       "2059    (81925.5, 285675.0]\n",
       "2060     (36540.0, 81925.5]\n",
       "2061     (36540.0, 81925.5]\n",
       "2062     (14598.5, 36540.0]\n",
       "Name: votes, Length: 2063, dtype: category\n",
       "Categories (4, interval[float64]): [(703.999, 14598.5] < (14598.5, 36540.0] < (36540.0, 81925.5] < (81925.5, 285675.0]]"
      ]
     },
     "metadata": {},
     "output_type": "display_data"
    },
    {
     "data": {
      "text/plain": [
       "(703.999, 14598.5]     516\n",
       "(14598.5, 36540.0]     516\n",
       "(81925.5, 285675.0]    516\n",
       "(36540.0, 81925.5]     515\n",
       "Name: votes, dtype: int64"
      ]
     },
     "metadata": {},
     "output_type": "display_data"
    },
    {
     "data": {
      "text/plain": [
       "count    2063.000000\n",
       "mean        8.054578\n",
       "std         3.577401\n",
       "min         0.000578\n",
       "25%         5.577540\n",
       "50%         7.821870\n",
       "75%        10.447174\n",
       "max        20.623642\n",
       "Name: popularity, dtype: float64"
      ]
     },
     "metadata": {},
     "output_type": "display_data"
    },
    {
     "data": {
      "text/plain": [
       "0       (-0.00042200000000000007, 5.578]\n",
       "1                        (7.822, 10.447]\n",
       "2                       (10.447, 20.624]\n",
       "3       (-0.00042200000000000007, 5.578]\n",
       "4                       (10.447, 20.624]\n",
       "                      ...               \n",
       "2058                    (10.447, 20.624]\n",
       "2059                    (10.447, 20.624]\n",
       "2060                    (10.447, 20.624]\n",
       "2061                      (5.578, 7.822]\n",
       "2062                    (10.447, 20.624]\n",
       "Name: popularity, Length: 2063, dtype: category\n",
       "Categories (4, interval[float64]): [(-0.00042200000000000007, 5.578] < (5.578, 7.822] < (7.822, 10.447] < (10.447, 20.624]]"
      ]
     },
     "metadata": {},
     "output_type": "display_data"
    },
    {
     "data": {
      "text/plain": [
       "(-0.00042200000000000007, 5.578]    516\n",
       "(5.578, 7.822]                      516\n",
       "(10.447, 20.624]                    516\n",
       "(7.822, 10.447]                     515\n",
       "Name: popularity, dtype: int64"
      ]
     },
     "metadata": {},
     "output_type": "display_data"
    }
   ],
   "source": [
    "for i in continuous_features:\n",
    "    display(data_dropped_outlier_IQR[i].describe())\n",
    "\n",
    "    display(pd.qcut(data_dropped_outlier_IQR[i], q=4))\n",
    "\n",
    "    display(pd.qcut(data_dropped_outlier_IQR[i], q=4).value_counts())"
   ]
  },
  {
   "cell_type": "markdown",
   "metadata": {},
   "source": [
    "## 3.2. Normalization <a class=\"anchor\" id=\"32\"></a>"
   ]
  },
  {
   "cell_type": "markdown",
   "metadata": {},
   "source": [
    "### 3.2.1. Z-score Method <a class=\"anchor\" id=\"321\"></a>"
   ]
  },
  {
   "cell_type": "code",
   "execution_count": 39,
   "metadata": {},
   "outputs": [
    {
     "data": {
      "text/html": [
       "<div>\n",
       "<style scoped>\n",
       "    .dataframe tbody tr th:only-of-type {\n",
       "        vertical-align: middle;\n",
       "    }\n",
       "\n",
       "    .dataframe tbody tr th {\n",
       "        vertical-align: top;\n",
       "    }\n",
       "\n",
       "    .dataframe thead th {\n",
       "        text-align: right;\n",
       "    }\n",
       "</style>\n",
       "<table border=\"1\" class=\"dataframe\">\n",
       "  <thead>\n",
       "    <tr style=\"text-align: right;\">\n",
       "      <th></th>\n",
       "      <th>budget</th>\n",
       "      <th>runtime</th>\n",
       "      <th>score</th>\n",
       "      <th>votes</th>\n",
       "      <th>popularity</th>\n",
       "    </tr>\n",
       "  </thead>\n",
       "  <tbody>\n",
       "    <tr>\n",
       "      <th>count</th>\n",
       "      <td>2.063000e+03</td>\n",
       "      <td>2063.000000</td>\n",
       "      <td>2063.000000</td>\n",
       "      <td>2063.000000</td>\n",
       "      <td>2063.000000</td>\n",
       "    </tr>\n",
       "    <tr>\n",
       "      <th>mean</th>\n",
       "      <td>2.986705e+07</td>\n",
       "      <td>105.162870</td>\n",
       "      <td>6.260543</td>\n",
       "      <td>58683.512361</td>\n",
       "      <td>8.054578</td>\n",
       "    </tr>\n",
       "    <tr>\n",
       "      <th>std</th>\n",
       "      <td>2.330944e+07</td>\n",
       "      <td>14.032996</td>\n",
       "      <td>0.835665</td>\n",
       "      <td>60618.979385</td>\n",
       "      <td>3.577401</td>\n",
       "    </tr>\n",
       "    <tr>\n",
       "      <th>min</th>\n",
       "      <td>5.000000e+04</td>\n",
       "      <td>69.000000</td>\n",
       "      <td>4.000000</td>\n",
       "      <td>704.000000</td>\n",
       "      <td>0.000578</td>\n",
       "    </tr>\n",
       "    <tr>\n",
       "      <th>25%</th>\n",
       "      <td>1.200000e+07</td>\n",
       "      <td>95.000000</td>\n",
       "      <td>5.700000</td>\n",
       "      <td>14598.500000</td>\n",
       "      <td>5.577540</td>\n",
       "    </tr>\n",
       "    <tr>\n",
       "      <th>50%</th>\n",
       "      <td>2.500000e+07</td>\n",
       "      <td>103.000000</td>\n",
       "      <td>6.300000</td>\n",
       "      <td>36540.000000</td>\n",
       "      <td>7.821870</td>\n",
       "    </tr>\n",
       "    <tr>\n",
       "      <th>75%</th>\n",
       "      <td>4.000000e+07</td>\n",
       "      <td>114.000000</td>\n",
       "      <td>6.900000</td>\n",
       "      <td>81925.500000</td>\n",
       "      <td>10.447174</td>\n",
       "    </tr>\n",
       "    <tr>\n",
       "      <th>max</th>\n",
       "      <td>1.050000e+08</td>\n",
       "      <td>147.000000</td>\n",
       "      <td>8.200000</td>\n",
       "      <td>285675.000000</td>\n",
       "      <td>20.623642</td>\n",
       "    </tr>\n",
       "  </tbody>\n",
       "</table>\n",
       "</div>"
      ],
      "text/plain": [
       "             budget      runtime        score          votes   popularity\n",
       "count  2.063000e+03  2063.000000  2063.000000    2063.000000  2063.000000\n",
       "mean   2.986705e+07   105.162870     6.260543   58683.512361     8.054578\n",
       "std    2.330944e+07    14.032996     0.835665   60618.979385     3.577401\n",
       "min    5.000000e+04    69.000000     4.000000     704.000000     0.000578\n",
       "25%    1.200000e+07    95.000000     5.700000   14598.500000     5.577540\n",
       "50%    2.500000e+07   103.000000     6.300000   36540.000000     7.821870\n",
       "75%    4.000000e+07   114.000000     6.900000   81925.500000    10.447174\n",
       "max    1.050000e+08   147.000000     8.200000  285675.000000    20.623642"
      ]
     },
     "execution_count": 39,
     "metadata": {},
     "output_type": "execute_result"
    }
   ],
   "source": [
    "data_dropped_outlier_IQR[continuous_features].describe()"
   ]
  },
  {
   "cell_type": "code",
   "execution_count": 40,
   "metadata": {},
   "outputs": [],
   "source": [
    "scaler = StandardScaler()"
   ]
  },
  {
   "cell_type": "code",
   "execution_count": 41,
   "metadata": {},
   "outputs": [],
   "source": [
    "data_dropped_z_score_scaled = pd.DataFrame(scaler.fit_transform(data_dropped_outlier_IQR[continuous_features]), columns=continuous_features)"
   ]
  },
  {
   "cell_type": "code",
   "execution_count": 42,
   "metadata": {},
   "outputs": [
    {
     "data": {
      "text/html": [
       "<div>\n",
       "<style scoped>\n",
       "    .dataframe tbody tr th:only-of-type {\n",
       "        vertical-align: middle;\n",
       "    }\n",
       "\n",
       "    .dataframe tbody tr th {\n",
       "        vertical-align: top;\n",
       "    }\n",
       "\n",
       "    .dataframe thead th {\n",
       "        text-align: right;\n",
       "    }\n",
       "</style>\n",
       "<table border=\"1\" class=\"dataframe\">\n",
       "  <thead>\n",
       "    <tr style=\"text-align: right;\">\n",
       "      <th></th>\n",
       "      <th>budget</th>\n",
       "      <th>runtime</th>\n",
       "      <th>score</th>\n",
       "      <th>votes</th>\n",
       "      <th>popularity</th>\n",
       "    </tr>\n",
       "  </thead>\n",
       "  <tbody>\n",
       "    <tr>\n",
       "      <th>count</th>\n",
       "      <td>2.063000e+03</td>\n",
       "      <td>2.063000e+03</td>\n",
       "      <td>2.063000e+03</td>\n",
       "      <td>2.063000e+03</td>\n",
       "      <td>2.063000e+03</td>\n",
       "    </tr>\n",
       "    <tr>\n",
       "      <th>mean</th>\n",
       "      <td>-1.377688e-17</td>\n",
       "      <td>8.266130e-17</td>\n",
       "      <td>-3.874748e-18</td>\n",
       "      <td>-5.510753e-17</td>\n",
       "      <td>1.239919e-16</td>\n",
       "    </tr>\n",
       "    <tr>\n",
       "      <th>std</th>\n",
       "      <td>1.000242e+00</td>\n",
       "      <td>1.000242e+00</td>\n",
       "      <td>1.000242e+00</td>\n",
       "      <td>1.000242e+00</td>\n",
       "      <td>1.000242e+00</td>\n",
       "    </tr>\n",
       "    <tr>\n",
       "      <th>min</th>\n",
       "      <td>-1.279494e+00</td>\n",
       "      <td>-2.577613e+00</td>\n",
       "      <td>-2.705739e+00</td>\n",
       "      <td>-9.566900e-01</td>\n",
       "      <td>-2.251901e+00</td>\n",
       "    </tr>\n",
       "    <tr>\n",
       "      <th>25%</th>\n",
       "      <td>-7.667016e-01</td>\n",
       "      <td>-7.243880e-01</td>\n",
       "      <td>-6.709374e-01</td>\n",
       "      <td>-7.274240e-01</td>\n",
       "      <td>-6.925807e-01</td>\n",
       "    </tr>\n",
       "    <tr>\n",
       "      <th>50%</th>\n",
       "      <td>-2.088524e-01</td>\n",
       "      <td>-1.541648e-01</td>\n",
       "      <td>4.722787e-02</td>\n",
       "      <td>-3.653787e-01</td>\n",
       "      <td>-6.506531e-02</td>\n",
       "    </tr>\n",
       "    <tr>\n",
       "      <th>75%</th>\n",
       "      <td>4.348196e-01</td>\n",
       "      <td>6.298921e-01</td>\n",
       "      <td>7.653932e-01</td>\n",
       "      <td>3.835040e-01</td>\n",
       "      <td>6.689706e-01</td>\n",
       "    </tr>\n",
       "    <tr>\n",
       "      <th>max</th>\n",
       "      <td>3.224065e+00</td>\n",
       "      <td>2.982063e+00</td>\n",
       "      <td>2.321418e+00</td>\n",
       "      <td>3.745469e+00</td>\n",
       "      <td>3.514314e+00</td>\n",
       "    </tr>\n",
       "  </tbody>\n",
       "</table>\n",
       "</div>"
      ],
      "text/plain": [
       "             budget       runtime         score         votes    popularity\n",
       "count  2.063000e+03  2.063000e+03  2.063000e+03  2.063000e+03  2.063000e+03\n",
       "mean  -1.377688e-17  8.266130e-17 -3.874748e-18 -5.510753e-17  1.239919e-16\n",
       "std    1.000242e+00  1.000242e+00  1.000242e+00  1.000242e+00  1.000242e+00\n",
       "min   -1.279494e+00 -2.577613e+00 -2.705739e+00 -9.566900e-01 -2.251901e+00\n",
       "25%   -7.667016e-01 -7.243880e-01 -6.709374e-01 -7.274240e-01 -6.925807e-01\n",
       "50%   -2.088524e-01 -1.541648e-01  4.722787e-02 -3.653787e-01 -6.506531e-02\n",
       "75%    4.348196e-01  6.298921e-01  7.653932e-01  3.835040e-01  6.689706e-01\n",
       "max    3.224065e+00  2.982063e+00  2.321418e+00  3.745469e+00  3.514314e+00"
      ]
     },
     "execution_count": 42,
     "metadata": {},
     "output_type": "execute_result"
    }
   ],
   "source": [
    "data_dropped_z_score_scaled.describe()"
   ]
  },
  {
   "cell_type": "code",
   "execution_count": 43,
   "metadata": {},
   "outputs": [
    {
     "data": {
      "text/plain": [
       "array([[<AxesSubplot:title={'center':'budget'}>,\n",
       "        <AxesSubplot:title={'center':'gross'}>,\n",
       "        <AxesSubplot:title={'center':'runtime'}>],\n",
       "       [<AxesSubplot:title={'center':'score'}>,\n",
       "        <AxesSubplot:title={'center':'votes'}>,\n",
       "        <AxesSubplot:title={'center':'year'}>],\n",
       "       [<AxesSubplot:title={'center':'isprofit'}>,\n",
       "        <AxesSubplot:title={'center':'profitability_ratio'}>,\n",
       "        <AxesSubplot:title={'center':'profitability_ratio_bucket'}>],\n",
       "       [<AxesSubplot:title={'center':'id'}>,\n",
       "        <AxesSubplot:title={'center':'popularity'}>,\n",
       "        <AxesSubplot:title={'center':'year_released'}>]], dtype=object)"
      ]
     },
     "execution_count": 43,
     "metadata": {},
     "output_type": "execute_result"
    },
    {
     "data": {
      "image/png": "[encoded data removed]",
      "text/plain": [
       "<Figure size 1152x1152 with 12 Axes>"
      ]
     },
     "metadata": {},
     "output_type": "display_data"
    }
   ],
   "source": [
    "data_dropped_outlier_IQR.hist(figsize=(16, 16))"
   ]
  },
  {
   "cell_type": "markdown",
   "metadata": {},
   "source": [
    "Figure 6: Histogram of Data Before Normalization\n",
    "<p>Figure 6 shows the bar charts helping us visualize the data befor the five features above have been normalized.</p>"
   ]
  },
  {
   "cell_type": "code",
   "execution_count": 44,
   "metadata": {},
   "outputs": [
    {
     "data": {
      "text/plain": [
       "array([[<AxesSubplot:title={'center':'budget'}>,\n",
       "        <AxesSubplot:title={'center':'runtime'}>],\n",
       "       [<AxesSubplot:title={'center':'score'}>,\n",
       "        <AxesSubplot:title={'center':'votes'}>],\n",
       "       [<AxesSubplot:title={'center':'popularity'}>, <AxesSubplot:>]],\n",
       "      dtype=object)"
      ]
     },
     "execution_count": 44,
     "metadata": {},
     "output_type": "execute_result"
    },
    {
     "data": {
      "image/png": "[encoded data removed]",
      "text/plain": [
       "<Figure size 720x720 with 6 Axes>"
      ]
     },
     "metadata": {},
     "output_type": "display_data"
    }
   ],
   "source": [
    "data_dropped_z_score_scaled.hist(figsize=(10, 10))"
   ]
  },
  {
   "cell_type": "markdown",
   "metadata": {},
   "source": [
    "Figure 7: Histogram of Data After Normalization\n",
    "<p>Figure 7 shows bar charts helping us visualize the data after the five features above have been normalized.</p>"
   ]
  },
  {
   "cell_type": "markdown",
   "metadata": {},
   "source": [
    "Add normalized columns to main dataset as new columns labeled with the feature name they relate to followed by \"_norm\"."
   ]
  },
  {
   "cell_type": "code",
   "execution_count": 45,
   "metadata": {},
   "outputs": [],
   "source": [
    "norm_column_names = ['budget_norm', 'runtime_norm', 'score_norm', 'votes_norm', 'popularity_norm']\n",
    "    \n",
    "for i, j in zip(norm_column_names, continuous_features):\n",
    "    data_dropped_outlier_IQR[i] = pd.Series(data_dropped_z_score_scaled[j])\n"
   ]
  },
  {
   "cell_type": "code",
   "execution_count": 46,
   "metadata": {},
   "outputs": [],
   "source": [
    "data_dropped_outlier_IQR.to_csv('data/training_data.csv')"
   ]
  },
  {
   "cell_type": "markdown",
   "metadata": {},
   "source": [
    "# 4. Results <a class=\"anchor\" id=\"4\"></a>"
   ]
  },
  {
   "cell_type": "markdown",
   "metadata": {},
   "source": [
    "## 4.1. Data Cleaning <a class=\"anchor\" id=\"41\"></a>"
   ]
  },
  {
   "cell_type": "markdown",
   "metadata": {},
   "source": [
    "As we analyze all the features in <a href=\"#21\">Section 2.1.</a> we can see that the only features that need cleaning are overview, tagline, spoken_languages_edited, production_countries_edited and keywords_edited. The rest of the features are clean meaning not missing any values that require either dropping or replacement of those values."
   ]
  },
  {
   "cell_type": "markdown",
   "metadata": {},
   "source": [
    "## 4.2. Data Transformation <a class=\"anchor\" id=\"42\"></a>"
   ]
  },
  {
   "cell_type": "markdown",
   "metadata": {},
   "source": [
    "After analyzing and cleaning the five categorical features found in <a href=\"#21\">Section 2.1.</a> we are able to focus on transforming our data.  \n",
    "\n",
    "<p>Our data includes categorical and continuous types but for transformation we want to focus on five that need to be discretized and normalized in order to be ready for modeling. These five features include budget, runtime, score, votes and popularity. The reason for discretizing the data is so we can partition the data into equal distributions that will be easier to manage and manipulate. After that we can use normalization to give all the attributes an equal weight which is useful to us in the following section where we model our data.</p>"
   ]
  }
 ],
 "metadata": {
  "kernelspec": {
   "display_name": "'Python3'",
   "language": "python",
   "name": "python3"
  },
  "language_info": {
   "codemirror_mode": {
    "name": "ipython",
    "version": 3
   },
   "file_extension": ".py",
   "mimetype": "text/x-python",
   "name": "python",
   "nbconvert_exporter": "python",
   "pygments_lexer": "ipython3",
   "version": "3.7.3"
  }
 },
 "nbformat": 4,
 "nbformat_minor": 2
}
