{
 "cells": [
  {
   "cell_type": "markdown",
   "metadata": {},
   "source": [
    "### Table of Contents:\n",
    "* [1. Preparing the Data](#1)\n",
    "* &emsp;[1.1. Importing Libraries](#11)\n",
    "* [2. Data Cleaning](#2)\n",
    "* &emsp;[2.1. Identifying Missing Values](#21)\n",
    "* &emsp;[2.2. Dealing with Missing Values](#22)\n",
    "* &emsp;[2.3. Removing Rows](#23)\n",
    "* &emsp;[2.4. Finding Outliers](#24)\n",
    "* &emsp;&emsp;[2.4.1. IQR Score Method](#241)\n",
    "* &emsp;[2.5. Box Plot](#25)\n",
    "* [3. Data Transformation](#3)\n",
    "* &emsp;[3.1. Binning](#31)\n",
    "* &emsp;[3.2. Normalization](#32)\n",
    "* &emsp;&emsp;[3.2.1. Z-score Method](#33)\n",
    "* [4. Results](#4)\n",
    "* &emsp;[4.1. Data Cleaning](#41)\n",
    "* &emsp;[4.2. Data Transformation](#42)"
   ]
  },
  {
   "cell_type": "markdown",
   "metadata": {},
   "source": [
    "# 1. Preparing the Data <a class=\"anchor\" id=\"1\"></a>"
   ]
  },
  {
   "cell_type": "markdown",
   "metadata": {},
   "source": [
    "## 1.1. Importing Libraries <a class=\"anchor\" id=\"11\"></a>"
   ]
  },
  {
   "cell_type": "code",
   "execution_count": 1,
   "metadata": {},
   "outputs": [],
   "source": [
    "import pandas as pd \n",
    "import numpy as np  \n",
    "import matplotlib.pyplot as plt \n",
    "import seaborn as sns\n",
    "from sklearn.preprocessing import StandardScaler\n",
    "\n",
    "%matplotlib inline  \n",
    "plt.style.use('fivethirtyeight')"
   ]
  },
  {
   "cell_type": "markdown",
   "metadata": {},
   "source": [
    "# 2. Data Cleaning <a class=\"anchor\" id=\"2\"></a>"
   ]
  },
  {
   "cell_type": "markdown",
   "metadata": {},
   "source": [
    "## 2.1. Identifying Missing Values <a class=\"anchor\" id=\"21\"></a>"
   ]
  },
  {
   "cell_type": "code",
   "execution_count": 2,
   "metadata": {},
   "outputs": [],
   "source": [
    "df = pd.read_csv('data/raw_training_data.csv')"
   ]
  },
  {
   "cell_type": "code",
   "execution_count": 3,
   "metadata": {},
   "outputs": [],
   "source": [
    "categorical_features = ['company','country','director','genre','rating','released','star','year',\n",
    "                        'writer','adult','original_title','overview','tagline','title','genres_edited',\n",
    "                        'spoken_languages_edited','production_countries_edited','keywords_edited']\n",
    "continuous_features = ['budget','runtime','score','votes','popularity']\n",
    "target_features = ['isprofit','profitability_ratio']"
   ]
  },
  {
   "cell_type": "code",
   "execution_count": 4,
   "metadata": {},
   "outputs": [
    {
     "data": {
      "text/plain": [
       "(881, 32)"
      ]
     },
     "execution_count": 4,
     "metadata": {},
     "output_type": "execute_result"
    }
   ],
   "source": [
    "df.shape # (# rows, # cols)"
   ]
  },
  {
   "cell_type": "code",
   "execution_count": 5,
   "metadata": {},
   "outputs": [
    {
     "data": {
      "text/html": [
       "<div>\n",
       "<style scoped>\n",
       "    .dataframe tbody tr th:only-of-type {\n",
       "        vertical-align: middle;\n",
       "    }\n",
       "\n",
       "    .dataframe tbody tr th {\n",
       "        vertical-align: top;\n",
       "    }\n",
       "\n",
       "    .dataframe thead th {\n",
       "        text-align: right;\n",
       "    }\n",
       "</style>\n",
       "<table border=\"1\" class=\"dataframe\">\n",
       "  <thead>\n",
       "    <tr style=\"text-align: right;\">\n",
       "      <th></th>\n",
       "      <th>Unnamed: 0</th>\n",
       "      <th>budget</th>\n",
       "      <th>company</th>\n",
       "      <th>country</th>\n",
       "      <th>director</th>\n",
       "      <th>genre</th>\n",
       "      <th>gross</th>\n",
       "      <th>name</th>\n",
       "      <th>rating</th>\n",
       "      <th>released</th>\n",
       "      <th>...</th>\n",
       "      <th>original_title</th>\n",
       "      <th>overview</th>\n",
       "      <th>popularity</th>\n",
       "      <th>tagline</th>\n",
       "      <th>title</th>\n",
       "      <th>genres_edited</th>\n",
       "      <th>spoken_languages_edited</th>\n",
       "      <th>production_countries_edited</th>\n",
       "      <th>keywords_edited</th>\n",
       "      <th>year_released</th>\n",
       "    </tr>\n",
       "  </thead>\n",
       "  <tbody>\n",
       "    <tr>\n",
       "      <th>0</th>\n",
       "      <td>2643</td>\n",
       "      <td>150000000</td>\n",
       "      <td>Other</td>\n",
       "      <td>USA</td>\n",
       "      <td>Other</td>\n",
       "      <td>Animation</td>\n",
       "      <td>119436770</td>\n",
       "      <td>G-Force</td>\n",
       "      <td>PG</td>\n",
       "      <td>24.07.2009 00:00</td>\n",
       "      <td>...</td>\n",
       "      <td>G-Force</td>\n",
       "      <td>A team of trained secret agent animals, guinea...</td>\n",
       "      <td>9.163791</td>\n",
       "      <td>The world needs bigger heroes</td>\n",
       "      <td>G-Force</td>\n",
       "      <td>Fantasy, Action, Adventure, Family, Comedy</td>\n",
       "      <td>en</td>\n",
       "      <td>US</td>\n",
       "      <td>dyr, duringcreditsstinger</td>\n",
       "      <td>2009</td>\n",
       "    </tr>\n",
       "    <tr>\n",
       "      <th>1</th>\n",
       "      <td>2644</td>\n",
       "      <td>18000000</td>\n",
       "      <td>Universal Pictures</td>\n",
       "      <td>USA</td>\n",
       "      <td>Other</td>\n",
       "      <td>Drama</td>\n",
       "      <td>22927390</td>\n",
       "      <td>Love Happens</td>\n",
       "      <td>PG-13</td>\n",
       "      <td>18.09.2009 00:00</td>\n",
       "      <td>...</td>\n",
       "      <td>Love Happens</td>\n",
       "      <td>Dr. Burke Ryan is a successful self-help autho...</td>\n",
       "      <td>10.279603</td>\n",
       "      <td>Sometimes when you least expect it...</td>\n",
       "      <td>Love Happens</td>\n",
       "      <td>Drama, Romance</td>\n",
       "      <td>en</td>\n",
       "      <td>CA, GB, US</td>\n",
       "      <td>hotel, florist, forest, grief, seminar, motiva...</td>\n",
       "      <td>2009</td>\n",
       "    </tr>\n",
       "    <tr>\n",
       "      <th>2</th>\n",
       "      <td>2645</td>\n",
       "      <td>40000000</td>\n",
       "      <td>Warner Bros.</td>\n",
       "      <td>USA</td>\n",
       "      <td>Other</td>\n",
       "      <td>Comedy</td>\n",
       "      <td>20916309</td>\n",
       "      <td>Shorts</td>\n",
       "      <td>PG</td>\n",
       "      <td>21.08.2009 00:00</td>\n",
       "      <td>...</td>\n",
       "      <td>Shorts</td>\n",
       "      <td>A young boy's discovery of a colorful, wish-gr...</td>\n",
       "      <td>4.021983</td>\n",
       "      <td>Not So TALL Tales From The Director Of 'Spy Kids'</td>\n",
       "      <td>Shorts</td>\n",
       "      <td>Comedy, Family</td>\n",
       "      <td>en</td>\n",
       "      <td>AE, US</td>\n",
       "      <td>NaN</td>\n",
       "      <td>2009</td>\n",
       "    </tr>\n",
       "    <tr>\n",
       "      <th>3</th>\n",
       "      <td>2646</td>\n",
       "      <td>19000000</td>\n",
       "      <td>Other</td>\n",
       "      <td>USA</td>\n",
       "      <td>Other</td>\n",
       "      <td>Crime</td>\n",
       "      <td>454149</td>\n",
       "      <td>Crossing Over</td>\n",
       "      <td>R</td>\n",
       "      <td>24.07.2009 00:00</td>\n",
       "      <td>...</td>\n",
       "      <td>Crossing Over</td>\n",
       "      <td>Immigrants from around the world enter Los Ang...</td>\n",
       "      <td>6.036408</td>\n",
       "      <td>Every day thousands of people illegally cross ...</td>\n",
       "      <td>Crossing Over</td>\n",
       "      <td>Crime, Drama</td>\n",
       "      <td>en</td>\n",
       "      <td>US</td>\n",
       "      <td>immigrant, los angeles</td>\n",
       "      <td>2009</td>\n",
       "    </tr>\n",
       "    <tr>\n",
       "      <th>4</th>\n",
       "      <td>2647</td>\n",
       "      <td>5000000</td>\n",
       "      <td>Other</td>\n",
       "      <td>USA</td>\n",
       "      <td>Other</td>\n",
       "      <td>Drama</td>\n",
       "      <td>1474508</td>\n",
       "      <td>The Joneses</td>\n",
       "      <td>R</td>\n",
       "      <td>23.04.2010 00:00</td>\n",
       "      <td>...</td>\n",
       "      <td>The Joneses</td>\n",
       "      <td>A seemingly perfect family moves into a suburb...</td>\n",
       "      <td>6.632194</td>\n",
       "      <td>They're not just living the American dream, th...</td>\n",
       "      <td>The Joneses</td>\n",
       "      <td>Comedy, Drama</td>\n",
       "      <td>cs, en, fr</td>\n",
       "      <td>US</td>\n",
       "      <td>independent film, duringcreditsstinger</td>\n",
       "      <td>2010</td>\n",
       "    </tr>\n",
       "  </tbody>\n",
       "</table>\n",
       "<p>5 rows × 32 columns</p>\n",
       "</div>"
      ],
      "text/plain": [
       "   Unnamed: 0     budget             company country director      genre  \\\n",
       "0        2643  150000000               Other     USA    Other  Animation   \n",
       "1        2644   18000000  Universal Pictures     USA    Other      Drama   \n",
       "2        2645   40000000        Warner Bros.     USA    Other     Comedy   \n",
       "3        2646   19000000               Other     USA    Other      Crime   \n",
       "4        2647    5000000               Other     USA    Other      Drama   \n",
       "\n",
       "       gross           name rating          released  ...  original_title  \\\n",
       "0  119436770        G-Force     PG  24.07.2009 00:00  ...         G-Force   \n",
       "1   22927390   Love Happens  PG-13  18.09.2009 00:00  ...    Love Happens   \n",
       "2   20916309         Shorts     PG  21.08.2009 00:00  ...          Shorts   \n",
       "3     454149  Crossing Over      R  24.07.2009 00:00  ...   Crossing Over   \n",
       "4    1474508    The Joneses      R  23.04.2010 00:00  ...     The Joneses   \n",
       "\n",
       "                                            overview popularity  \\\n",
       "0  A team of trained secret agent animals, guinea...   9.163791   \n",
       "1  Dr. Burke Ryan is a successful self-help autho...  10.279603   \n",
       "2  A young boy's discovery of a colorful, wish-gr...   4.021983   \n",
       "3  Immigrants from around the world enter Los Ang...   6.036408   \n",
       "4  A seemingly perfect family moves into a suburb...   6.632194   \n",
       "\n",
       "                                             tagline          title  \\\n",
       "0                      The world needs bigger heroes        G-Force   \n",
       "1              Sometimes when you least expect it...   Love Happens   \n",
       "2  Not So TALL Tales From The Director Of 'Spy Kids'         Shorts   \n",
       "3  Every day thousands of people illegally cross ...  Crossing Over   \n",
       "4  They're not just living the American dream, th...    The Joneses   \n",
       "\n",
       "                                genres_edited  spoken_languages_edited  \\\n",
       "0  Fantasy, Action, Adventure, Family, Comedy                       en   \n",
       "1                              Drama, Romance                       en   \n",
       "2                              Comedy, Family                       en   \n",
       "3                                Crime, Drama                       en   \n",
       "4                               Comedy, Drama               cs, en, fr   \n",
       "\n",
       "   production_countries_edited  \\\n",
       "0                           US   \n",
       "1                   CA, GB, US   \n",
       "2                       AE, US   \n",
       "3                           US   \n",
       "4                           US   \n",
       "\n",
       "                                     keywords_edited year_released  \n",
       "0                          dyr, duringcreditsstinger          2009  \n",
       "1  hotel, florist, forest, grief, seminar, motiva...          2009  \n",
       "2                                                NaN          2009  \n",
       "3                             immigrant, los angeles          2009  \n",
       "4             independent film, duringcreditsstinger          2010  \n",
       "\n",
       "[5 rows x 32 columns]"
      ]
     },
     "execution_count": 5,
     "metadata": {},
     "output_type": "execute_result"
    }
   ],
   "source": [
    "df.head() # take a peak at the dataset"
   ]
  },
  {
   "cell_type": "code",
   "execution_count": 6,
   "metadata": {},
   "outputs": [],
   "source": [
    "del df['Unnamed: 0']"
   ]
  },
  {
   "cell_type": "code",
   "execution_count": 7,
   "metadata": {},
   "outputs": [
    {
     "name": "stdout",
     "output_type": "stream",
     "text": [
      "<class 'pandas.core.frame.DataFrame'>\n",
      "RangeIndex: 881 entries, 0 to 880\n",
      "Data columns (total 31 columns):\n",
      " #   Column                       Non-Null Count  Dtype  \n",
      "---  ------                       --------------  -----  \n",
      " 0   budget                       881 non-null    int64  \n",
      " 1   company                      881 non-null    object \n",
      " 2   country                      881 non-null    object \n",
      " 3   director                     881 non-null    object \n",
      " 4   genre                        881 non-null    object \n",
      " 5   gross                        881 non-null    int64  \n",
      " 6   name                         881 non-null    object \n",
      " 7   rating                       881 non-null    object \n",
      " 8   released                     881 non-null    object \n",
      " 9   runtime                      881 non-null    int64  \n",
      " 10  score                        881 non-null    float64\n",
      " 11  star                         881 non-null    object \n",
      " 12  votes                        881 non-null    int64  \n",
      " 13  writer                       881 non-null    object \n",
      " 14  year                         881 non-null    int64  \n",
      " 15  isprofit                     881 non-null    int64  \n",
      " 16  profitability_ratio          881 non-null    float64\n",
      " 17  profitability_ratio_bucket   881 non-null    int64  \n",
      " 18  adult                        881 non-null    object \n",
      " 19  id                           881 non-null    int64  \n",
      " 20  imdb_id                      881 non-null    object \n",
      " 21  original_title               881 non-null    object \n",
      " 22  overview                     881 non-null    object \n",
      " 23  popularity                   881 non-null    float64\n",
      " 24  tagline                      813 non-null    object \n",
      " 25  title                        881 non-null    object \n",
      " 26  genres_edited                881 non-null    object \n",
      " 27  spoken_languages_edited      880 non-null    object \n",
      " 28  production_countries_edited  878 non-null    object \n",
      " 29  keywords_edited              848 non-null    object \n",
      " 30  year_released                881 non-null    int64  \n",
      "dtypes: float64(3), int64(9), object(19)\n",
      "memory usage: 148.0+ KB\n"
     ]
    }
   ],
   "source": [
    "df.info()"
   ]
  },
  {
   "cell_type": "code",
   "execution_count": 8,
   "metadata": {},
   "outputs": [
    {
     "data": {
      "text/plain": [
       "budget                          0\n",
       "company                         0\n",
       "country                         0\n",
       "director                        0\n",
       "genre                           0\n",
       "gross                           0\n",
       "name                            0\n",
       "rating                          0\n",
       "released                        0\n",
       "runtime                         0\n",
       "score                           0\n",
       "star                            0\n",
       "votes                           0\n",
       "writer                          0\n",
       "year                            0\n",
       "isprofit                        0\n",
       "profitability_ratio             0\n",
       "profitability_ratio_bucket      0\n",
       "adult                           0\n",
       "id                              0\n",
       "imdb_id                         0\n",
       "original_title                  0\n",
       "overview                        0\n",
       "popularity                      0\n",
       "tagline                        68\n",
       "title                           0\n",
       "genres_edited                   0\n",
       "spoken_languages_edited         1\n",
       "production_countries_edited     3\n",
       "keywords_edited                33\n",
       "year_released                   0\n",
       "dtype: int64"
      ]
     },
     "execution_count": 8,
     "metadata": {},
     "output_type": "execute_result"
    }
   ],
   "source": [
    "df.isnull().sum()"
   ]
  },
  {
   "cell_type": "code",
   "execution_count": 9,
   "metadata": {},
   "outputs": [
    {
     "data": {
      "text/html": [
       "<div>\n",
       "<style scoped>\n",
       "    .dataframe tbody tr th:only-of-type {\n",
       "        vertical-align: middle;\n",
       "    }\n",
       "\n",
       "    .dataframe tbody tr th {\n",
       "        vertical-align: top;\n",
       "    }\n",
       "\n",
       "    .dataframe thead th {\n",
       "        text-align: right;\n",
       "    }\n",
       "</style>\n",
       "<table border=\"1\" class=\"dataframe\">\n",
       "  <thead>\n",
       "    <tr style=\"text-align: right;\">\n",
       "      <th></th>\n",
       "      <th>budget</th>\n",
       "      <th>gross</th>\n",
       "      <th>runtime</th>\n",
       "      <th>score</th>\n",
       "      <th>votes</th>\n",
       "      <th>year</th>\n",
       "      <th>isprofit</th>\n",
       "      <th>profitability_ratio</th>\n",
       "      <th>profitability_ratio_bucket</th>\n",
       "      <th>id</th>\n",
       "      <th>popularity</th>\n",
       "      <th>year_released</th>\n",
       "    </tr>\n",
       "  </thead>\n",
       "  <tbody>\n",
       "    <tr>\n",
       "      <th>count</th>\n",
       "      <td>8.810000e+02</td>\n",
       "      <td>8.810000e+02</td>\n",
       "      <td>881.000000</td>\n",
       "      <td>881.000000</td>\n",
       "      <td>8.810000e+02</td>\n",
       "      <td>881.000000</td>\n",
       "      <td>881.000000</td>\n",
       "      <td>881.000000</td>\n",
       "      <td>881.000000</td>\n",
       "      <td>881.000000</td>\n",
       "      <td>881.000000</td>\n",
       "      <td>881.000000</td>\n",
       "    </tr>\n",
       "    <tr>\n",
       "      <th>mean</th>\n",
       "      <td>4.724455e+07</td>\n",
       "      <td>6.172019e+07</td>\n",
       "      <td>108.380250</td>\n",
       "      <td>6.479115</td>\n",
       "      <td>1.336446e+05</td>\n",
       "      <td>2008.225880</td>\n",
       "      <td>0.524404</td>\n",
       "      <td>1.068226</td>\n",
       "      <td>106.702611</td>\n",
       "      <td>139525.766175</td>\n",
       "      <td>13.635808</td>\n",
       "      <td>2012.936436</td>\n",
       "    </tr>\n",
       "    <tr>\n",
       "      <th>std</th>\n",
       "      <td>5.399046e+07</td>\n",
       "      <td>8.559695e+07</td>\n",
       "      <td>17.136074</td>\n",
       "      <td>0.946618</td>\n",
       "      <td>1.637022e+05</td>\n",
       "      <td>95.869407</td>\n",
       "      <td>0.499688</td>\n",
       "      <td>4.303748</td>\n",
       "      <td>430.420772</td>\n",
       "      <td>104771.340624</td>\n",
       "      <td>23.705926</td>\n",
       "      <td>2.207539</td>\n",
       "    </tr>\n",
       "    <tr>\n",
       "      <th>min</th>\n",
       "      <td>0.000000e+00</td>\n",
       "      <td>0.000000e+00</td>\n",
       "      <td>0.000000</td>\n",
       "      <td>0.000000</td>\n",
       "      <td>0.000000e+00</td>\n",
       "      <td>0.000000</td>\n",
       "      <td>0.000000</td>\n",
       "      <td>-0.999855</td>\n",
       "      <td>-100.000000</td>\n",
       "      <td>0.000000</td>\n",
       "      <td>0.000000</td>\n",
       "      <td>1997.000000</td>\n",
       "    </tr>\n",
       "    <tr>\n",
       "      <th>25%</th>\n",
       "      <td>1.000000e+07</td>\n",
       "      <td>8.008161e+06</td>\n",
       "      <td>98.000000</td>\n",
       "      <td>6.000000</td>\n",
       "      <td>3.372300e+04</td>\n",
       "      <td>2011.000000</td>\n",
       "      <td>0.000000</td>\n",
       "      <td>-0.554188</td>\n",
       "      <td>-60.000000</td>\n",
       "      <td>50348.000000</td>\n",
       "      <td>7.388933</td>\n",
       "      <td>2011.000000</td>\n",
       "    </tr>\n",
       "    <tr>\n",
       "      <th>50%</th>\n",
       "      <td>2.600000e+07</td>\n",
       "      <td>3.238122e+07</td>\n",
       "      <td>105.000000</td>\n",
       "      <td>6.500000</td>\n",
       "      <td>7.513800e+04</td>\n",
       "      <td>2013.000000</td>\n",
       "      <td>1.000000</td>\n",
       "      <td>0.062869</td>\n",
       "      <td>10.000000</td>\n",
       "      <td>92182.000000</td>\n",
       "      <td>10.289628</td>\n",
       "      <td>2013.000000</td>\n",
       "    </tr>\n",
       "    <tr>\n",
       "      <th>75%</th>\n",
       "      <td>6.000000e+07</td>\n",
       "      <td>8.036084e+07</td>\n",
       "      <td>117.000000</td>\n",
       "      <td>7.100000</td>\n",
       "      <td>1.691890e+05</td>\n",
       "      <td>2015.000000</td>\n",
       "      <td>1.000000</td>\n",
       "      <td>1.025015</td>\n",
       "      <td>100.000000</td>\n",
       "      <td>232679.000000</td>\n",
       "      <td>14.046164</td>\n",
       "      <td>2015.000000</td>\n",
       "    </tr>\n",
       "    <tr>\n",
       "      <th>max</th>\n",
       "      <td>2.500000e+08</td>\n",
       "      <td>9.366622e+08</td>\n",
       "      <td>180.000000</td>\n",
       "      <td>8.800000</td>\n",
       "      <td>1.629342e+06</td>\n",
       "      <td>2016.000000</td>\n",
       "      <td>1.000000</td>\n",
       "      <td>70.015925</td>\n",
       "      <td>7000.000000</td>\n",
       "      <td>404378.000000</td>\n",
       "      <td>547.488298</td>\n",
       "      <td>2017.000000</td>\n",
       "    </tr>\n",
       "  </tbody>\n",
       "</table>\n",
       "</div>"
      ],
      "text/plain": [
       "             budget         gross     runtime       score         votes  \\\n",
       "count  8.810000e+02  8.810000e+02  881.000000  881.000000  8.810000e+02   \n",
       "mean   4.724455e+07  6.172019e+07  108.380250    6.479115  1.336446e+05   \n",
       "std    5.399046e+07  8.559695e+07   17.136074    0.946618  1.637022e+05   \n",
       "min    0.000000e+00  0.000000e+00    0.000000    0.000000  0.000000e+00   \n",
       "25%    1.000000e+07  8.008161e+06   98.000000    6.000000  3.372300e+04   \n",
       "50%    2.600000e+07  3.238122e+07  105.000000    6.500000  7.513800e+04   \n",
       "75%    6.000000e+07  8.036084e+07  117.000000    7.100000  1.691890e+05   \n",
       "max    2.500000e+08  9.366622e+08  180.000000    8.800000  1.629342e+06   \n",
       "\n",
       "              year    isprofit  profitability_ratio  \\\n",
       "count   881.000000  881.000000           881.000000   \n",
       "mean   2008.225880    0.524404             1.068226   \n",
       "std      95.869407    0.499688             4.303748   \n",
       "min       0.000000    0.000000            -0.999855   \n",
       "25%    2011.000000    0.000000            -0.554188   \n",
       "50%    2013.000000    1.000000             0.062869   \n",
       "75%    2015.000000    1.000000             1.025015   \n",
       "max    2016.000000    1.000000            70.015925   \n",
       "\n",
       "       profitability_ratio_bucket             id  popularity  year_released  \n",
       "count                  881.000000     881.000000  881.000000     881.000000  \n",
       "mean                   106.702611  139525.766175   13.635808    2012.936436  \n",
       "std                    430.420772  104771.340624   23.705926       2.207539  \n",
       "min                   -100.000000       0.000000    0.000000    1997.000000  \n",
       "25%                    -60.000000   50348.000000    7.388933    2011.000000  \n",
       "50%                     10.000000   92182.000000   10.289628    2013.000000  \n",
       "75%                    100.000000  232679.000000   14.046164    2015.000000  \n",
       "max                   7000.000000  404378.000000  547.488298    2017.000000  "
      ]
     },
     "execution_count": 9,
     "metadata": {},
     "output_type": "execute_result"
    }
   ],
   "source": [
    "df.describe()   # before replacing zero with None"
   ]
  },
  {
   "cell_type": "markdown",
   "metadata": {},
   "source": [
    "## 2.2. Dealing with Missing Values <a class=\"anchor\" id=\"22\"></a>"
   ]
  },
  {
   "cell_type": "markdown",
   "metadata": {},
   "source": [
    "By observing the data, we see that only the following columns need initial transformation to replace zeros with the value None:\n",
    "* overview\n",
    "* tagline\n",
    "* spoken_languages_edited\n",
    "* production_countries_edited\n",
    "* keywords_edited\n",
    "\n",
    "And the remaining features do not have to change since they do not contain zero values."
   ]
  },
  {
   "cell_type": "code",
   "execution_count": 10,
   "metadata": {},
   "outputs": [],
   "source": [
    "df['overview'] = df['overview'].map(lambda x:x if x != 0 else None)\n",
    "df['tagline'] = df['tagline'].map(lambda x:x if x != 0 else None)\n",
    "df['spoken_languages_edited'] = df['spoken_languages_edited'].map(lambda x:x if x != 0 else None)\n",
    "df['production_countries_edited'] = df['production_countries_edited'].map(lambda x:x if x != 0 else None)\n",
    "df['keywords_edited'] = df['keywords_edited'].map(lambda x:x if x != 0 else None)"
   ]
  },
  {
   "cell_type": "code",
   "execution_count": 11,
   "metadata": {},
   "outputs": [
    {
     "data": {
      "text/html": [
       "<div>\n",
       "<style scoped>\n",
       "    .dataframe tbody tr th:only-of-type {\n",
       "        vertical-align: middle;\n",
       "    }\n",
       "\n",
       "    .dataframe tbody tr th {\n",
       "        vertical-align: top;\n",
       "    }\n",
       "\n",
       "    .dataframe thead th {\n",
       "        text-align: right;\n",
       "    }\n",
       "</style>\n",
       "<table border=\"1\" class=\"dataframe\">\n",
       "  <thead>\n",
       "    <tr style=\"text-align: right;\">\n",
       "      <th></th>\n",
       "      <th>budget</th>\n",
       "      <th>company</th>\n",
       "      <th>country</th>\n",
       "      <th>director</th>\n",
       "      <th>genre</th>\n",
       "      <th>gross</th>\n",
       "      <th>name</th>\n",
       "      <th>rating</th>\n",
       "      <th>released</th>\n",
       "      <th>runtime</th>\n",
       "      <th>...</th>\n",
       "      <th>original_title</th>\n",
       "      <th>overview</th>\n",
       "      <th>popularity</th>\n",
       "      <th>tagline</th>\n",
       "      <th>title</th>\n",
       "      <th>genres_edited</th>\n",
       "      <th>spoken_languages_edited</th>\n",
       "      <th>production_countries_edited</th>\n",
       "      <th>keywords_edited</th>\n",
       "      <th>year_released</th>\n",
       "    </tr>\n",
       "  </thead>\n",
       "  <tbody>\n",
       "    <tr>\n",
       "      <th>0</th>\n",
       "      <td>150000000</td>\n",
       "      <td>Other</td>\n",
       "      <td>USA</td>\n",
       "      <td>Other</td>\n",
       "      <td>Animation</td>\n",
       "      <td>119436770</td>\n",
       "      <td>G-Force</td>\n",
       "      <td>PG</td>\n",
       "      <td>24.07.2009 00:00</td>\n",
       "      <td>88</td>\n",
       "      <td>...</td>\n",
       "      <td>G-Force</td>\n",
       "      <td>A team of trained secret agent animals, guinea...</td>\n",
       "      <td>9.163791</td>\n",
       "      <td>The world needs bigger heroes</td>\n",
       "      <td>G-Force</td>\n",
       "      <td>Fantasy, Action, Adventure, Family, Comedy</td>\n",
       "      <td>en</td>\n",
       "      <td>US</td>\n",
       "      <td>dyr, duringcreditsstinger</td>\n",
       "      <td>2009</td>\n",
       "    </tr>\n",
       "    <tr>\n",
       "      <th>1</th>\n",
       "      <td>18000000</td>\n",
       "      <td>Universal Pictures</td>\n",
       "      <td>USA</td>\n",
       "      <td>Other</td>\n",
       "      <td>Drama</td>\n",
       "      <td>22927390</td>\n",
       "      <td>Love Happens</td>\n",
       "      <td>PG-13</td>\n",
       "      <td>18.09.2009 00:00</td>\n",
       "      <td>100</td>\n",
       "      <td>...</td>\n",
       "      <td>Love Happens</td>\n",
       "      <td>Dr. Burke Ryan is a successful self-help autho...</td>\n",
       "      <td>10.279603</td>\n",
       "      <td>Sometimes when you least expect it...</td>\n",
       "      <td>Love Happens</td>\n",
       "      <td>Drama, Romance</td>\n",
       "      <td>en</td>\n",
       "      <td>CA, GB, US</td>\n",
       "      <td>hotel, florist, forest, grief, seminar, motiva...</td>\n",
       "      <td>2009</td>\n",
       "    </tr>\n",
       "    <tr>\n",
       "      <th>2</th>\n",
       "      <td>40000000</td>\n",
       "      <td>Warner Bros.</td>\n",
       "      <td>USA</td>\n",
       "      <td>Other</td>\n",
       "      <td>Comedy</td>\n",
       "      <td>20916309</td>\n",
       "      <td>Shorts</td>\n",
       "      <td>PG</td>\n",
       "      <td>21.08.2009 00:00</td>\n",
       "      <td>89</td>\n",
       "      <td>...</td>\n",
       "      <td>Shorts</td>\n",
       "      <td>A young boy's discovery of a colorful, wish-gr...</td>\n",
       "      <td>4.021983</td>\n",
       "      <td>Not So TALL Tales From The Director Of 'Spy Kids'</td>\n",
       "      <td>Shorts</td>\n",
       "      <td>Comedy, Family</td>\n",
       "      <td>en</td>\n",
       "      <td>AE, US</td>\n",
       "      <td>NaN</td>\n",
       "      <td>2009</td>\n",
       "    </tr>\n",
       "    <tr>\n",
       "      <th>3</th>\n",
       "      <td>19000000</td>\n",
       "      <td>Other</td>\n",
       "      <td>USA</td>\n",
       "      <td>Other</td>\n",
       "      <td>Crime</td>\n",
       "      <td>454149</td>\n",
       "      <td>Crossing Over</td>\n",
       "      <td>R</td>\n",
       "      <td>24.07.2009 00:00</td>\n",
       "      <td>113</td>\n",
       "      <td>...</td>\n",
       "      <td>Crossing Over</td>\n",
       "      <td>Immigrants from around the world enter Los Ang...</td>\n",
       "      <td>6.036408</td>\n",
       "      <td>Every day thousands of people illegally cross ...</td>\n",
       "      <td>Crossing Over</td>\n",
       "      <td>Crime, Drama</td>\n",
       "      <td>en</td>\n",
       "      <td>US</td>\n",
       "      <td>immigrant, los angeles</td>\n",
       "      <td>2009</td>\n",
       "    </tr>\n",
       "    <tr>\n",
       "      <th>4</th>\n",
       "      <td>5000000</td>\n",
       "      <td>Other</td>\n",
       "      <td>USA</td>\n",
       "      <td>Other</td>\n",
       "      <td>Drama</td>\n",
       "      <td>1474508</td>\n",
       "      <td>The Joneses</td>\n",
       "      <td>R</td>\n",
       "      <td>23.04.2010 00:00</td>\n",
       "      <td>96</td>\n",
       "      <td>...</td>\n",
       "      <td>The Joneses</td>\n",
       "      <td>A seemingly perfect family moves into a suburb...</td>\n",
       "      <td>6.632194</td>\n",
       "      <td>They're not just living the American dream, th...</td>\n",
       "      <td>The Joneses</td>\n",
       "      <td>Comedy, Drama</td>\n",
       "      <td>cs, en, fr</td>\n",
       "      <td>US</td>\n",
       "      <td>independent film, duringcreditsstinger</td>\n",
       "      <td>2010</td>\n",
       "    </tr>\n",
       "  </tbody>\n",
       "</table>\n",
       "<p>5 rows × 31 columns</p>\n",
       "</div>"
      ],
      "text/plain": [
       "      budget             company country director      genre      gross  \\\n",
       "0  150000000               Other     USA    Other  Animation  119436770   \n",
       "1   18000000  Universal Pictures     USA    Other      Drama   22927390   \n",
       "2   40000000        Warner Bros.     USA    Other     Comedy   20916309   \n",
       "3   19000000               Other     USA    Other      Crime     454149   \n",
       "4    5000000               Other     USA    Other      Drama    1474508   \n",
       "\n",
       "            name rating          released  runtime  ...  original_title  \\\n",
       "0        G-Force     PG  24.07.2009 00:00       88  ...         G-Force   \n",
       "1   Love Happens  PG-13  18.09.2009 00:00      100  ...    Love Happens   \n",
       "2         Shorts     PG  21.08.2009 00:00       89  ...          Shorts   \n",
       "3  Crossing Over      R  24.07.2009 00:00      113  ...   Crossing Over   \n",
       "4    The Joneses      R  23.04.2010 00:00       96  ...     The Joneses   \n",
       "\n",
       "                                            overview  popularity  \\\n",
       "0  A team of trained secret agent animals, guinea...    9.163791   \n",
       "1  Dr. Burke Ryan is a successful self-help autho...   10.279603   \n",
       "2  A young boy's discovery of a colorful, wish-gr...    4.021983   \n",
       "3  Immigrants from around the world enter Los Ang...    6.036408   \n",
       "4  A seemingly perfect family moves into a suburb...    6.632194   \n",
       "\n",
       "                                             tagline          title  \\\n",
       "0                      The world needs bigger heroes        G-Force   \n",
       "1              Sometimes when you least expect it...   Love Happens   \n",
       "2  Not So TALL Tales From The Director Of 'Spy Kids'         Shorts   \n",
       "3  Every day thousands of people illegally cross ...  Crossing Over   \n",
       "4  They're not just living the American dream, th...    The Joneses   \n",
       "\n",
       "                                genres_edited  spoken_languages_edited  \\\n",
       "0  Fantasy, Action, Adventure, Family, Comedy                       en   \n",
       "1                              Drama, Romance                       en   \n",
       "2                              Comedy, Family                       en   \n",
       "3                                Crime, Drama                       en   \n",
       "4                               Comedy, Drama               cs, en, fr   \n",
       "\n",
       "   production_countries_edited  \\\n",
       "0                           US   \n",
       "1                   CA, GB, US   \n",
       "2                       AE, US   \n",
       "3                           US   \n",
       "4                           US   \n",
       "\n",
       "                                     keywords_edited  year_released  \n",
       "0                          dyr, duringcreditsstinger           2009  \n",
       "1  hotel, florist, forest, grief, seminar, motiva...           2009  \n",
       "2                                                NaN           2009  \n",
       "3                             immigrant, los angeles           2009  \n",
       "4             independent film, duringcreditsstinger           2010  \n",
       "\n",
       "[5 rows x 31 columns]"
      ]
     },
     "execution_count": 11,
     "metadata": {},
     "output_type": "execute_result"
    }
   ],
   "source": [
    "df.head()   # take a peak at the dataset"
   ]
  },
  {
   "cell_type": "code",
   "execution_count": 12,
   "metadata": {},
   "outputs": [
    {
     "name": "stdout",
     "output_type": "stream",
     "text": [
      "<class 'pandas.core.frame.DataFrame'>\n",
      "RangeIndex: 881 entries, 0 to 880\n",
      "Data columns (total 31 columns):\n",
      " #   Column                       Non-Null Count  Dtype  \n",
      "---  ------                       --------------  -----  \n",
      " 0   budget                       881 non-null    int64  \n",
      " 1   company                      881 non-null    object \n",
      " 2   country                      881 non-null    object \n",
      " 3   director                     881 non-null    object \n",
      " 4   genre                        881 non-null    object \n",
      " 5   gross                        881 non-null    int64  \n",
      " 6   name                         881 non-null    object \n",
      " 7   rating                       881 non-null    object \n",
      " 8   released                     881 non-null    object \n",
      " 9   runtime                      881 non-null    int64  \n",
      " 10  score                        881 non-null    float64\n",
      " 11  star                         881 non-null    object \n",
      " 12  votes                        881 non-null    int64  \n",
      " 13  writer                       881 non-null    object \n",
      " 14  year                         881 non-null    int64  \n",
      " 15  isprofit                     881 non-null    int64  \n",
      " 16  profitability_ratio          881 non-null    float64\n",
      " 17  profitability_ratio_bucket   881 non-null    int64  \n",
      " 18  adult                        881 non-null    object \n",
      " 19  id                           881 non-null    int64  \n",
      " 20  imdb_id                      881 non-null    object \n",
      " 21  original_title               881 non-null    object \n",
      " 22  overview                     881 non-null    object \n",
      " 23  popularity                   881 non-null    float64\n",
      " 24  tagline                      813 non-null    object \n",
      " 25  title                        881 non-null    object \n",
      " 26  genres_edited                881 non-null    object \n",
      " 27  spoken_languages_edited      880 non-null    object \n",
      " 28  production_countries_edited  878 non-null    object \n",
      " 29  keywords_edited              848 non-null    object \n",
      " 30  year_released                881 non-null    int64  \n",
      "dtypes: float64(3), int64(9), object(19)\n",
      "memory usage: 148.0+ KB\n"
     ]
    }
   ],
   "source": [
    "df.info()"
   ]
  },
  {
   "cell_type": "code",
   "execution_count": 13,
   "metadata": {},
   "outputs": [
    {
     "data": {
      "text/plain": [
       "budget                          0\n",
       "company                         0\n",
       "country                         0\n",
       "director                        0\n",
       "genre                           0\n",
       "gross                           0\n",
       "name                            0\n",
       "rating                          0\n",
       "released                        0\n",
       "runtime                         0\n",
       "score                           0\n",
       "star                            0\n",
       "votes                           0\n",
       "writer                          0\n",
       "year                            0\n",
       "isprofit                        0\n",
       "profitability_ratio             0\n",
       "profitability_ratio_bucket      0\n",
       "adult                           0\n",
       "id                              0\n",
       "imdb_id                         0\n",
       "original_title                  0\n",
       "overview                        0\n",
       "popularity                      0\n",
       "tagline                        68\n",
       "title                           0\n",
       "genres_edited                   0\n",
       "spoken_languages_edited         1\n",
       "production_countries_edited     3\n",
       "keywords_edited                33\n",
       "year_released                   0\n",
       "dtype: int64"
      ]
     },
     "execution_count": 13,
     "metadata": {},
     "output_type": "execute_result"
    }
   ],
   "source": [
    "df.isnull().sum()"
   ]
  },
  {
   "cell_type": "code",
   "execution_count": 14,
   "metadata": {},
   "outputs": [
    {
     "data": {
      "text/html": [
       "<div>\n",
       "<style scoped>\n",
       "    .dataframe tbody tr th:only-of-type {\n",
       "        vertical-align: middle;\n",
       "    }\n",
       "\n",
       "    .dataframe tbody tr th {\n",
       "        vertical-align: top;\n",
       "    }\n",
       "\n",
       "    .dataframe thead th {\n",
       "        text-align: right;\n",
       "    }\n",
       "</style>\n",
       "<table border=\"1\" class=\"dataframe\">\n",
       "  <thead>\n",
       "    <tr style=\"text-align: right;\">\n",
       "      <th></th>\n",
       "      <th>budget</th>\n",
       "      <th>gross</th>\n",
       "      <th>runtime</th>\n",
       "      <th>score</th>\n",
       "      <th>votes</th>\n",
       "      <th>year</th>\n",
       "      <th>isprofit</th>\n",
       "      <th>profitability_ratio</th>\n",
       "      <th>profitability_ratio_bucket</th>\n",
       "      <th>id</th>\n",
       "      <th>popularity</th>\n",
       "      <th>year_released</th>\n",
       "    </tr>\n",
       "  </thead>\n",
       "  <tbody>\n",
       "    <tr>\n",
       "      <th>count</th>\n",
       "      <td>8.810000e+02</td>\n",
       "      <td>8.810000e+02</td>\n",
       "      <td>881.000000</td>\n",
       "      <td>881.000000</td>\n",
       "      <td>8.810000e+02</td>\n",
       "      <td>881.000000</td>\n",
       "      <td>881.000000</td>\n",
       "      <td>881.000000</td>\n",
       "      <td>881.000000</td>\n",
       "      <td>881.000000</td>\n",
       "      <td>881.000000</td>\n",
       "      <td>881.000000</td>\n",
       "    </tr>\n",
       "    <tr>\n",
       "      <th>mean</th>\n",
       "      <td>4.724455e+07</td>\n",
       "      <td>6.172019e+07</td>\n",
       "      <td>108.380250</td>\n",
       "      <td>6.479115</td>\n",
       "      <td>1.336446e+05</td>\n",
       "      <td>2008.225880</td>\n",
       "      <td>0.524404</td>\n",
       "      <td>1.068226</td>\n",
       "      <td>106.702611</td>\n",
       "      <td>139525.766175</td>\n",
       "      <td>13.635808</td>\n",
       "      <td>2012.936436</td>\n",
       "    </tr>\n",
       "    <tr>\n",
       "      <th>std</th>\n",
       "      <td>5.399046e+07</td>\n",
       "      <td>8.559695e+07</td>\n",
       "      <td>17.136074</td>\n",
       "      <td>0.946618</td>\n",
       "      <td>1.637022e+05</td>\n",
       "      <td>95.869407</td>\n",
       "      <td>0.499688</td>\n",
       "      <td>4.303748</td>\n",
       "      <td>430.420772</td>\n",
       "      <td>104771.340624</td>\n",
       "      <td>23.705926</td>\n",
       "      <td>2.207539</td>\n",
       "    </tr>\n",
       "    <tr>\n",
       "      <th>min</th>\n",
       "      <td>0.000000e+00</td>\n",
       "      <td>0.000000e+00</td>\n",
       "      <td>0.000000</td>\n",
       "      <td>0.000000</td>\n",
       "      <td>0.000000e+00</td>\n",
       "      <td>0.000000</td>\n",
       "      <td>0.000000</td>\n",
       "      <td>-0.999855</td>\n",
       "      <td>-100.000000</td>\n",
       "      <td>0.000000</td>\n",
       "      <td>0.000000</td>\n",
       "      <td>1997.000000</td>\n",
       "    </tr>\n",
       "    <tr>\n",
       "      <th>25%</th>\n",
       "      <td>1.000000e+07</td>\n",
       "      <td>8.008161e+06</td>\n",
       "      <td>98.000000</td>\n",
       "      <td>6.000000</td>\n",
       "      <td>3.372300e+04</td>\n",
       "      <td>2011.000000</td>\n",
       "      <td>0.000000</td>\n",
       "      <td>-0.554188</td>\n",
       "      <td>-60.000000</td>\n",
       "      <td>50348.000000</td>\n",
       "      <td>7.388933</td>\n",
       "      <td>2011.000000</td>\n",
       "    </tr>\n",
       "    <tr>\n",
       "      <th>50%</th>\n",
       "      <td>2.600000e+07</td>\n",
       "      <td>3.238122e+07</td>\n",
       "      <td>105.000000</td>\n",
       "      <td>6.500000</td>\n",
       "      <td>7.513800e+04</td>\n",
       "      <td>2013.000000</td>\n",
       "      <td>1.000000</td>\n",
       "      <td>0.062869</td>\n",
       "      <td>10.000000</td>\n",
       "      <td>92182.000000</td>\n",
       "      <td>10.289628</td>\n",
       "      <td>2013.000000</td>\n",
       "    </tr>\n",
       "    <tr>\n",
       "      <th>75%</th>\n",
       "      <td>6.000000e+07</td>\n",
       "      <td>8.036084e+07</td>\n",
       "      <td>117.000000</td>\n",
       "      <td>7.100000</td>\n",
       "      <td>1.691890e+05</td>\n",
       "      <td>2015.000000</td>\n",
       "      <td>1.000000</td>\n",
       "      <td>1.025015</td>\n",
       "      <td>100.000000</td>\n",
       "      <td>232679.000000</td>\n",
       "      <td>14.046164</td>\n",
       "      <td>2015.000000</td>\n",
       "    </tr>\n",
       "    <tr>\n",
       "      <th>max</th>\n",
       "      <td>2.500000e+08</td>\n",
       "      <td>9.366622e+08</td>\n",
       "      <td>180.000000</td>\n",
       "      <td>8.800000</td>\n",
       "      <td>1.629342e+06</td>\n",
       "      <td>2016.000000</td>\n",
       "      <td>1.000000</td>\n",
       "      <td>70.015925</td>\n",
       "      <td>7000.000000</td>\n",
       "      <td>404378.000000</td>\n",
       "      <td>547.488298</td>\n",
       "      <td>2017.000000</td>\n",
       "    </tr>\n",
       "  </tbody>\n",
       "</table>\n",
       "</div>"
      ],
      "text/plain": [
       "             budget         gross     runtime       score         votes  \\\n",
       "count  8.810000e+02  8.810000e+02  881.000000  881.000000  8.810000e+02   \n",
       "mean   4.724455e+07  6.172019e+07  108.380250    6.479115  1.336446e+05   \n",
       "std    5.399046e+07  8.559695e+07   17.136074    0.946618  1.637022e+05   \n",
       "min    0.000000e+00  0.000000e+00    0.000000    0.000000  0.000000e+00   \n",
       "25%    1.000000e+07  8.008161e+06   98.000000    6.000000  3.372300e+04   \n",
       "50%    2.600000e+07  3.238122e+07  105.000000    6.500000  7.513800e+04   \n",
       "75%    6.000000e+07  8.036084e+07  117.000000    7.100000  1.691890e+05   \n",
       "max    2.500000e+08  9.366622e+08  180.000000    8.800000  1.629342e+06   \n",
       "\n",
       "              year    isprofit  profitability_ratio  \\\n",
       "count   881.000000  881.000000           881.000000   \n",
       "mean   2008.225880    0.524404             1.068226   \n",
       "std      95.869407    0.499688             4.303748   \n",
       "min       0.000000    0.000000            -0.999855   \n",
       "25%    2011.000000    0.000000            -0.554188   \n",
       "50%    2013.000000    1.000000             0.062869   \n",
       "75%    2015.000000    1.000000             1.025015   \n",
       "max    2016.000000    1.000000            70.015925   \n",
       "\n",
       "       profitability_ratio_bucket             id  popularity  year_released  \n",
       "count                  881.000000     881.000000  881.000000     881.000000  \n",
       "mean                   106.702611  139525.766175   13.635808    2012.936436  \n",
       "std                    430.420772  104771.340624   23.705926       2.207539  \n",
       "min                   -100.000000       0.000000    0.000000    1997.000000  \n",
       "25%                    -60.000000   50348.000000    7.388933    2011.000000  \n",
       "50%                     10.000000   92182.000000   10.289628    2013.000000  \n",
       "75%                    100.000000  232679.000000   14.046164    2015.000000  \n",
       "max                   7000.000000  404378.000000  547.488298    2017.000000  "
      ]
     },
     "execution_count": 14,
     "metadata": {},
     "output_type": "execute_result"
    }
   ],
   "source": [
    "df.describe()   # after replacing zero with None"
   ]
  },
  {
   "cell_type": "markdown",
   "metadata": {},
   "source": [
    "## 2.3. Removing Rows <a class=\"anchor\" id=\"23\"></a>"
   ]
  },
  {
   "cell_type": "code",
   "execution_count": 15,
   "metadata": {},
   "outputs": [],
   "source": [
    "data_dropped = df.dropna()"
   ]
  },
  {
   "cell_type": "code",
   "execution_count": 16,
   "metadata": {},
   "outputs": [],
   "source": [
    "data_dropped = data_dropped.reset_index() \n",
    "del data_dropped['index']"
   ]
  },
  {
   "cell_type": "code",
   "execution_count": 17,
   "metadata": {},
   "outputs": [
    {
     "data": {
      "text/plain": [
       "(788, 31)"
      ]
     },
     "execution_count": 17,
     "metadata": {},
     "output_type": "execute_result"
    }
   ],
   "source": [
    "data_dropped.shape"
   ]
  },
  {
   "cell_type": "code",
   "execution_count": 18,
   "metadata": {},
   "outputs": [
    {
     "data": {
      "text/plain": [
       "(881, 31)"
      ]
     },
     "execution_count": 18,
     "metadata": {},
     "output_type": "execute_result"
    }
   ],
   "source": [
    "df.shape"
   ]
  },
  {
   "cell_type": "code",
   "execution_count": 19,
   "metadata": {},
   "outputs": [],
   "source": [
    "num_rows_lost = round(100*(df.shape[0] - data_dropped.shape[0])/float(df.shape[0]))"
   ]
  },
  {
   "cell_type": "code",
   "execution_count": 20,
   "metadata": {},
   "outputs": [
    {
     "data": {
      "text/plain": [
       "'retained 11% of rows'"
      ]
     },
     "execution_count": 20,
     "metadata": {},
     "output_type": "execute_result"
    }
   ],
   "source": [
    "template = 'retained {}% of rows'\n",
    "template.format(num_rows_lost)"
   ]
  },
  {
   "cell_type": "code",
   "execution_count": 21,
   "metadata": {},
   "outputs": [
    {
     "data": {
      "text/plain": [
       "isprofit\n",
       "0    367\n",
       "1    421\n",
       "dtype: int64"
      ]
     },
     "execution_count": 21,
     "metadata": {},
     "output_type": "execute_result"
    }
   ],
   "source": [
    "# class distribution\n",
    "class_counts = data_dropped.groupby('isprofit').size()\n",
    "class_counts"
   ]
  },
  {
   "cell_type": "code",
   "execution_count": 22,
   "metadata": {},
   "outputs": [
    {
     "data": {
      "text/plain": [
       "0.41657207718501704"
      ]
     },
     "execution_count": 22,
     "metadata": {},
     "output_type": "execute_result"
    }
   ],
   "source": [
    "class_counts[0]/df['isprofit'].size"
   ]
  },
  {
   "cell_type": "code",
   "execution_count": 23,
   "metadata": {},
   "outputs": [
    {
     "data": {
      "text/plain": [
       "1    0.524404\n",
       "0    0.475596\n",
       "Name: isprofit, dtype: float64"
      ]
     },
     "execution_count": 23,
     "metadata": {},
     "output_type": "execute_result"
    }
   ],
   "source": [
    "df['isprofit'].value_counts(normalize=True)   #  split of trues and falses before rows dropped"
   ]
  },
  {
   "cell_type": "code",
   "execution_count": 24,
   "metadata": {},
   "outputs": [
    {
     "data": {
      "text/plain": [
       "1    0.534264\n",
       "0    0.465736\n",
       "Name: isprofit, dtype: float64"
      ]
     },
     "execution_count": 24,
     "metadata": {},
     "output_type": "execute_result"
    }
   ],
   "source": [
    "data_dropped['isprofit'].value_counts(normalize=True)   #  split of trues and falses after rows dropped"
   ]
  },
  {
   "cell_type": "code",
   "execution_count": 25,
   "metadata": {},
   "outputs": [
    {
     "data": {
      "text/html": [
       "<div>\n",
       "<style scoped>\n",
       "    .dataframe tbody tr th:only-of-type {\n",
       "        vertical-align: middle;\n",
       "    }\n",
       "\n",
       "    .dataframe tbody tr th {\n",
       "        vertical-align: top;\n",
       "    }\n",
       "\n",
       "    .dataframe thead th {\n",
       "        text-align: right;\n",
       "    }\n",
       "</style>\n",
       "<table border=\"1\" class=\"dataframe\">\n",
       "  <thead>\n",
       "    <tr style=\"text-align: right;\">\n",
       "      <th></th>\n",
       "      <th>budget</th>\n",
       "      <th>gross</th>\n",
       "      <th>runtime</th>\n",
       "      <th>score</th>\n",
       "      <th>votes</th>\n",
       "      <th>year</th>\n",
       "      <th>isprofit</th>\n",
       "      <th>profitability_ratio</th>\n",
       "      <th>profitability_ratio_bucket</th>\n",
       "      <th>id</th>\n",
       "      <th>popularity</th>\n",
       "      <th>year_released</th>\n",
       "    </tr>\n",
       "  </thead>\n",
       "  <tbody>\n",
       "    <tr>\n",
       "      <th>count</th>\n",
       "      <td>7.880000e+02</td>\n",
       "      <td>7.880000e+02</td>\n",
       "      <td>788.000000</td>\n",
       "      <td>788.000000</td>\n",
       "      <td>7.880000e+02</td>\n",
       "      <td>788.000000</td>\n",
       "      <td>788.000000</td>\n",
       "      <td>788.000000</td>\n",
       "      <td>788.000000</td>\n",
       "      <td>788.000000</td>\n",
       "      <td>788.000000</td>\n",
       "      <td>788.000000</td>\n",
       "    </tr>\n",
       "    <tr>\n",
       "      <th>mean</th>\n",
       "      <td>5.013817e+07</td>\n",
       "      <td>6.571725e+07</td>\n",
       "      <td>108.695431</td>\n",
       "      <td>6.491878</td>\n",
       "      <td>1.430980e+05</td>\n",
       "      <td>2007.652284</td>\n",
       "      <td>0.534264</td>\n",
       "      <td>1.117309</td>\n",
       "      <td>111.598985</td>\n",
       "      <td>136392.461929</td>\n",
       "      <td>14.198365</td>\n",
       "      <td>2012.880711</td>\n",
       "    </tr>\n",
       "    <tr>\n",
       "      <th>std</th>\n",
       "      <td>5.546815e+07</td>\n",
       "      <td>8.866001e+07</td>\n",
       "      <td>17.264108</td>\n",
       "      <td>0.958734</td>\n",
       "      <td>1.694700e+05</td>\n",
       "      <td>101.357738</td>\n",
       "      <td>0.499141</td>\n",
       "      <td>4.468288</td>\n",
       "      <td>446.875323</td>\n",
       "      <td>103540.737365</td>\n",
       "      <td>24.836518</td>\n",
       "      <td>2.208562</td>\n",
       "    </tr>\n",
       "    <tr>\n",
       "      <th>min</th>\n",
       "      <td>0.000000e+00</td>\n",
       "      <td>0.000000e+00</td>\n",
       "      <td>0.000000</td>\n",
       "      <td>0.000000</td>\n",
       "      <td>0.000000e+00</td>\n",
       "      <td>0.000000</td>\n",
       "      <td>0.000000</td>\n",
       "      <td>-0.999822</td>\n",
       "      <td>-100.000000</td>\n",
       "      <td>0.000000</td>\n",
       "      <td>0.000000</td>\n",
       "      <td>1997.000000</td>\n",
       "    </tr>\n",
       "    <tr>\n",
       "      <th>25%</th>\n",
       "      <td>1.200000e+07</td>\n",
       "      <td>1.064026e+07</td>\n",
       "      <td>98.000000</td>\n",
       "      <td>6.000000</td>\n",
       "      <td>3.675250e+04</td>\n",
       "      <td>2011.000000</td>\n",
       "      <td>0.000000</td>\n",
       "      <td>-0.507735</td>\n",
       "      <td>-50.000000</td>\n",
       "      <td>49520.750000</td>\n",
       "      <td>7.662285</td>\n",
       "      <td>2011.000000</td>\n",
       "    </tr>\n",
       "    <tr>\n",
       "      <th>50%</th>\n",
       "      <td>3.000000e+07</td>\n",
       "      <td>3.609237e+07</td>\n",
       "      <td>106.000000</td>\n",
       "      <td>6.600000</td>\n",
       "      <td>8.112850e+04</td>\n",
       "      <td>2013.000000</td>\n",
       "      <td>1.000000</td>\n",
       "      <td>0.076401</td>\n",
       "      <td>10.000000</td>\n",
       "      <td>87826.500000</td>\n",
       "      <td>10.682358</td>\n",
       "      <td>2013.000000</td>\n",
       "    </tr>\n",
       "    <tr>\n",
       "      <th>75%</th>\n",
       "      <td>6.500000e+07</td>\n",
       "      <td>8.445162e+07</td>\n",
       "      <td>117.000000</td>\n",
       "      <td>7.100000</td>\n",
       "      <td>1.863975e+05</td>\n",
       "      <td>2015.000000</td>\n",
       "      <td>1.000000</td>\n",
       "      <td>0.971079</td>\n",
       "      <td>100.000000</td>\n",
       "      <td>228196.250000</td>\n",
       "      <td>14.423023</td>\n",
       "      <td>2015.000000</td>\n",
       "    </tr>\n",
       "    <tr>\n",
       "      <th>max</th>\n",
       "      <td>2.500000e+08</td>\n",
       "      <td>9.366622e+08</td>\n",
       "      <td>180.000000</td>\n",
       "      <td>8.800000</td>\n",
       "      <td>1.629342e+06</td>\n",
       "      <td>2016.000000</td>\n",
       "      <td>1.000000</td>\n",
       "      <td>70.015925</td>\n",
       "      <td>7000.000000</td>\n",
       "      <td>404378.000000</td>\n",
       "      <td>547.488298</td>\n",
       "      <td>2017.000000</td>\n",
       "    </tr>\n",
       "  </tbody>\n",
       "</table>\n",
       "</div>"
      ],
      "text/plain": [
       "             budget         gross     runtime       score         votes  \\\n",
       "count  7.880000e+02  7.880000e+02  788.000000  788.000000  7.880000e+02   \n",
       "mean   5.013817e+07  6.571725e+07  108.695431    6.491878  1.430980e+05   \n",
       "std    5.546815e+07  8.866001e+07   17.264108    0.958734  1.694700e+05   \n",
       "min    0.000000e+00  0.000000e+00    0.000000    0.000000  0.000000e+00   \n",
       "25%    1.200000e+07  1.064026e+07   98.000000    6.000000  3.675250e+04   \n",
       "50%    3.000000e+07  3.609237e+07  106.000000    6.600000  8.112850e+04   \n",
       "75%    6.500000e+07  8.445162e+07  117.000000    7.100000  1.863975e+05   \n",
       "max    2.500000e+08  9.366622e+08  180.000000    8.800000  1.629342e+06   \n",
       "\n",
       "              year    isprofit  profitability_ratio  \\\n",
       "count   788.000000  788.000000           788.000000   \n",
       "mean   2007.652284    0.534264             1.117309   \n",
       "std     101.357738    0.499141             4.468288   \n",
       "min       0.000000    0.000000            -0.999822   \n",
       "25%    2011.000000    0.000000            -0.507735   \n",
       "50%    2013.000000    1.000000             0.076401   \n",
       "75%    2015.000000    1.000000             0.971079   \n",
       "max    2016.000000    1.000000            70.015925   \n",
       "\n",
       "       profitability_ratio_bucket             id  popularity  year_released  \n",
       "count                  788.000000     788.000000  788.000000     788.000000  \n",
       "mean                   111.598985  136392.461929   14.198365    2012.880711  \n",
       "std                    446.875323  103540.737365   24.836518       2.208562  \n",
       "min                   -100.000000       0.000000    0.000000    1997.000000  \n",
       "25%                    -50.000000   49520.750000    7.662285    2011.000000  \n",
       "50%                     10.000000   87826.500000   10.682358    2013.000000  \n",
       "75%                    100.000000  228196.250000   14.423023    2015.000000  \n",
       "max                   7000.000000  404378.000000  547.488298    2017.000000  "
      ]
     },
     "execution_count": 25,
     "metadata": {},
     "output_type": "execute_result"
    }
   ],
   "source": [
    "data_dropped.describe()   # after removing rows which include NaN"
   ]
  },
  {
   "cell_type": "code",
   "execution_count": 26,
   "metadata": {},
   "outputs": [
    {
     "data": {
      "text/plain": [
       "budget                        6.12\n",
       "gross                         6.48\n",
       "runtime                       0.29\n",
       "score                         0.20\n",
       "votes                         7.07\n",
       "year                         -0.03\n",
       "isprofit                      1.88\n",
       "profitability_ratio           4.59\n",
       "profitability_ratio_bucket    4.59\n",
       "id                           -2.25\n",
       "popularity                    4.13\n",
       "year_released                -0.00\n",
       "dtype: float64"
      ]
     },
     "execution_count": 26,
     "metadata": {},
     "output_type": "execute_result"
    }
   ],
   "source": [
    "# % change in means of columns before and after dropping missing-value rows\n",
    "change_in_means = ((data_dropped.mean() - df.mean()) / df.mean() * 100).round(2)\n",
    "change_in_means"
   ]
  },
  {
   "cell_type": "markdown",
   "metadata": {},
   "source": [
    "### Bar Chart of the Change in Means"
   ]
  },
  {
   "cell_type": "code",
   "execution_count": 27,
   "metadata": {},
   "outputs": [
    {
     "data": {
      "text/plain": [
       "Text(0, 0.5, '% change')"
      ]
     },
     "execution_count": 27,
     "metadata": {},
     "output_type": "execute_result"
    },
    {
     "data": {
      "image/png": "[encoded data removed]",
      "text/plain": [
       "<Figure size 648x288 with 1 Axes>"
      ]
     },
     "metadata": {},
     "output_type": "display_data"
    }
   ],
   "source": [
    "plt.figure(figsize=(9, 4))\n",
    "change_in_means.plot.bar(title='% change in average column values')\n",
    "plt.ylabel('% change')\n"
   ]
  },
  {
   "cell_type": "markdown",
   "metadata": {},
   "source": [
    "Figure 1: Percent change in average column values\n",
    "<p>Figure 1 shows the percent change in mean of columns before and after dropping missing-value rows.</p>"
   ]
  },
  {
   "cell_type": "markdown",
   "metadata": {},
   "source": [
    "## 2.4. Finding Outliers <a class=\"anchor\" id=\"24\"></a>"
   ]
  },
  {
   "cell_type": "markdown",
   "metadata": {},
   "source": [
    "### 2.4.1. IQR Score Method <a class=\"anchor\" id=\"241\"></a>"
   ]
  },
  {
   "cell_type": "code",
   "execution_count": 28,
   "metadata": {},
   "outputs": [
    {
     "name": "stdout",
     "output_type": "stream",
     "text": [
      "budget                        5.300000e+07\n",
      "gross                         7.381136e+07\n",
      "runtime                       1.900000e+01\n",
      "score                         1.100000e+00\n",
      "votes                         1.496450e+05\n",
      "year                          4.000000e+00\n",
      "isprofit                      1.000000e+00\n",
      "profitability_ratio           1.478814e+00\n",
      "profitability_ratio_bucket    1.500000e+02\n",
      "id                            1.786755e+05\n",
      "popularity                    6.760738e+00\n",
      "year_released                 4.000000e+00\n",
      "dtype: float64\n"
     ]
    }
   ],
   "source": [
    "Q1 = data_dropped.quantile(0.25)\n",
    "Q3 = data_dropped.quantile(0.75)\n",
    "IQR = Q3 - Q1\n",
    "print(IQR)"
   ]
  },
  {
   "cell_type": "code",
   "execution_count": 29,
   "metadata": {},
   "outputs": [
    {
     "name": "stdout",
     "output_type": "stream",
     "text": [
      "     adult  budget  company  country  director  genre  genres_edited  gross  \\\n",
      "0    False    True    False    False     False  False          False  False   \n",
      "1    False   False    False    False     False  False          False  False   \n",
      "2    False   False    False    False     False  False          False  False   \n",
      "3    False   False    False    False     False  False          False  False   \n",
      "4    False   False    False    False     False  False          False  False   \n",
      "..     ...     ...      ...      ...       ...    ...            ...    ...   \n",
      "783  False   False    False    False     False  False          False  False   \n",
      "784  False   False    False    False     False  False          False  False   \n",
      "785  False   False    False    False     False  False          False  False   \n",
      "786  False   False    False    False     False  False          False  False   \n",
      "787  False   False    False    False     False  False          False  False   \n",
      "\n",
      "        id  imdb_id  ...  runtime  score  spoken_languages_edited   star  \\\n",
      "0    False    False  ...    False  False                    False  False   \n",
      "1    False    False  ...    False  False                    False  False   \n",
      "2    False    False  ...    False  False                    False  False   \n",
      "3    False    False  ...    False  False                    False  False   \n",
      "4    False    False  ...    False  False                    False  False   \n",
      "..     ...      ...  ...      ...    ...                      ...    ...   \n",
      "783  False    False  ...    False  False                    False  False   \n",
      "784  False    False  ...    False  False                    False  False   \n",
      "785  False    False  ...    False  False                    False  False   \n",
      "786  False    False  ...    False  False                    False  False   \n",
      "787  False    False  ...    False  False                    False  False   \n",
      "\n",
      "     tagline  title  votes  writer   year  year_released  \n",
      "0      False  False  False   False  False          False  \n",
      "1      False  False  False   False  False          False  \n",
      "2      False  False  False   False  False          False  \n",
      "3      False  False  False   False  False          False  \n",
      "4      False  False  False   False  False          False  \n",
      "..       ...    ...    ...     ...    ...            ...  \n",
      "783    False  False  False   False  False          False  \n",
      "784    False  False  False   False  False          False  \n",
      "785    False  False  False   False  False          False  \n",
      "786    False  False  False   False  False          False  \n",
      "787    False  False  False   False  False          False  \n",
      "\n",
      "[788 rows x 31 columns]\n"
     ]
    },
    {
     "name": "stderr",
     "output_type": "stream",
     "text": [
      "c:\\users\\jaymish\\desktop\\pcs\\web2txt\\webapp\\venv\\lib\\site-packages\\ipykernel_launcher.py:1: FutureWarning: Automatic reindexing on DataFrame vs Series comparisons is deprecated and will raise ValueError in a future version.  Do `left, right = left.align(right, axis=1, copy=False)` before e.g. `left == right`\n",
      "  \"\"\"Entry point for launching an IPython kernel.\n",
      "c:\\users\\jaymish\\desktop\\pcs\\web2txt\\webapp\\venv\\lib\\site-packages\\ipykernel_launcher.py:1: FutureWarning: Automatic reindexing on DataFrame vs Series comparisons is deprecated and will raise ValueError in a future version.  Do `left, right = left.align(right, axis=1, copy=False)` before e.g. `left == right`\n",
      "  \"\"\"Entry point for launching an IPython kernel.\n"
     ]
    }
   ],
   "source": [
    "print((data_dropped < (Q1 - (1.5 * IQR))) | (data_dropped > (Q3 + (1.5 * IQR))))"
   ]
  },
  {
   "cell_type": "code",
   "execution_count": 30,
   "metadata": {},
   "outputs": [
    {
     "data": {
      "text/plain": [
       "(788, 31)"
      ]
     },
     "execution_count": 30,
     "metadata": {},
     "output_type": "execute_result"
    }
   ],
   "source": [
    "data_dropped.shape"
   ]
  },
  {
   "cell_type": "code",
   "execution_count": 31,
   "metadata": {},
   "outputs": [
    {
     "name": "stderr",
     "output_type": "stream",
     "text": [
      "c:\\users\\jaymish\\desktop\\pcs\\web2txt\\webapp\\venv\\lib\\site-packages\\ipykernel_launcher.py:1: FutureWarning: Automatic reindexing on DataFrame vs Series comparisons is deprecated and will raise ValueError in a future version.  Do `left, right = left.align(right, axis=1, copy=False)` before e.g. `left == right`\n",
      "  \"\"\"Entry point for launching an IPython kernel.\n",
      "c:\\users\\jaymish\\desktop\\pcs\\web2txt\\webapp\\venv\\lib\\site-packages\\ipykernel_launcher.py:1: FutureWarning: Automatic reindexing on DataFrame vs Series comparisons is deprecated and will raise ValueError in a future version.  Do `left, right = left.align(right, axis=1, copy=False)` before e.g. `left == right`\n",
      "  \"\"\"Entry point for launching an IPython kernel.\n"
     ]
    }
   ],
   "source": [
    "data_dropped_outlier_IQR = data_dropped[~((data_dropped < (Q1 - 1.5 * IQR)) | (data_dropped > (Q3 + 1.5 * IQR))).any(axis=1)]"
   ]
  },
  {
   "cell_type": "code",
   "execution_count": 32,
   "metadata": {},
   "outputs": [
    {
     "data": {
      "text/plain": [
       "(561, 31)"
      ]
     },
     "execution_count": 32,
     "metadata": {},
     "output_type": "execute_result"
    }
   ],
   "source": [
    "data_dropped_outlier_IQR.shape"
   ]
  },
  {
   "cell_type": "code",
   "execution_count": 33,
   "metadata": {},
   "outputs": [
    {
     "data": {
      "text/html": [
       "<div>\n",
       "<style scoped>\n",
       "    .dataframe tbody tr th:only-of-type {\n",
       "        vertical-align: middle;\n",
       "    }\n",
       "\n",
       "    .dataframe tbody tr th {\n",
       "        vertical-align: top;\n",
       "    }\n",
       "\n",
       "    .dataframe thead th {\n",
       "        text-align: right;\n",
       "    }\n",
       "</style>\n",
       "<table border=\"1\" class=\"dataframe\">\n",
       "  <thead>\n",
       "    <tr style=\"text-align: right;\">\n",
       "      <th></th>\n",
       "      <th>budget</th>\n",
       "      <th>company</th>\n",
       "      <th>country</th>\n",
       "      <th>director</th>\n",
       "      <th>genre</th>\n",
       "      <th>gross</th>\n",
       "      <th>name</th>\n",
       "      <th>rating</th>\n",
       "      <th>released</th>\n",
       "      <th>runtime</th>\n",
       "      <th>...</th>\n",
       "      <th>original_title</th>\n",
       "      <th>overview</th>\n",
       "      <th>popularity</th>\n",
       "      <th>tagline</th>\n",
       "      <th>title</th>\n",
       "      <th>genres_edited</th>\n",
       "      <th>spoken_languages_edited</th>\n",
       "      <th>production_countries_edited</th>\n",
       "      <th>keywords_edited</th>\n",
       "      <th>year_released</th>\n",
       "    </tr>\n",
       "  </thead>\n",
       "  <tbody>\n",
       "    <tr>\n",
       "      <th>0</th>\n",
       "      <td>18000000</td>\n",
       "      <td>Universal Pictures</td>\n",
       "      <td>USA</td>\n",
       "      <td>Other</td>\n",
       "      <td>Drama</td>\n",
       "      <td>22927390</td>\n",
       "      <td>Love Happens</td>\n",
       "      <td>PG-13</td>\n",
       "      <td>18.09.2009 00:00</td>\n",
       "      <td>100</td>\n",
       "      <td>...</td>\n",
       "      <td>Love Happens</td>\n",
       "      <td>Dr. Burke Ryan is a successful self-help autho...</td>\n",
       "      <td>10.279603</td>\n",
       "      <td>Sometimes when you least expect it...</td>\n",
       "      <td>Love Happens</td>\n",
       "      <td>Drama, Romance</td>\n",
       "      <td>en</td>\n",
       "      <td>CA, GB, US</td>\n",
       "      <td>hotel, florist, forest, grief, seminar, motiva...</td>\n",
       "      <td>2009</td>\n",
       "    </tr>\n",
       "    <tr>\n",
       "      <th>1</th>\n",
       "      <td>19000000</td>\n",
       "      <td>Other</td>\n",
       "      <td>USA</td>\n",
       "      <td>Other</td>\n",
       "      <td>Crime</td>\n",
       "      <td>454149</td>\n",
       "      <td>Crossing Over</td>\n",
       "      <td>R</td>\n",
       "      <td>24.07.2009 00:00</td>\n",
       "      <td>113</td>\n",
       "      <td>...</td>\n",
       "      <td>Crossing Over</td>\n",
       "      <td>Immigrants from around the world enter Los Ang...</td>\n",
       "      <td>6.036408</td>\n",
       "      <td>Every day thousands of people illegally cross ...</td>\n",
       "      <td>Crossing Over</td>\n",
       "      <td>Crime, Drama</td>\n",
       "      <td>en</td>\n",
       "      <td>US</td>\n",
       "      <td>immigrant, los angeles</td>\n",
       "      <td>2009</td>\n",
       "    </tr>\n",
       "    <tr>\n",
       "      <th>2</th>\n",
       "      <td>5000000</td>\n",
       "      <td>Other</td>\n",
       "      <td>USA</td>\n",
       "      <td>Other</td>\n",
       "      <td>Drama</td>\n",
       "      <td>1474508</td>\n",
       "      <td>The Joneses</td>\n",
       "      <td>R</td>\n",
       "      <td>23.04.2010 00:00</td>\n",
       "      <td>96</td>\n",
       "      <td>...</td>\n",
       "      <td>The Joneses</td>\n",
       "      <td>A seemingly perfect family moves into a suburb...</td>\n",
       "      <td>6.632194</td>\n",
       "      <td>They're not just living the American dream, th...</td>\n",
       "      <td>The Joneses</td>\n",
       "      <td>Comedy, Drama</td>\n",
       "      <td>cs, en, fr</td>\n",
       "      <td>US</td>\n",
       "      <td>independent film, duringcreditsstinger</td>\n",
       "      <td>2010</td>\n",
       "    </tr>\n",
       "    <tr>\n",
       "      <th>3</th>\n",
       "      <td>70000000</td>\n",
       "      <td>Metro-Goldwyn-Mayer (MGM)</td>\n",
       "      <td>USA</td>\n",
       "      <td>Other</td>\n",
       "      <td>Adventure</td>\n",
       "      <td>35922978</td>\n",
       "      <td>The Pink Panther 2</td>\n",
       "      <td>PG</td>\n",
       "      <td>6.02.2009 00:00</td>\n",
       "      <td>92</td>\n",
       "      <td>...</td>\n",
       "      <td>The Pink Panther 2</td>\n",
       "      <td>When legendary treasures from around the world...</td>\n",
       "      <td>18.546750</td>\n",
       "      <td>Inspect the unexpected.</td>\n",
       "      <td>The Pink Panther 2</td>\n",
       "      <td>Comedy, Mystery</td>\n",
       "      <td>en</td>\n",
       "      <td>US</td>\n",
       "      <td>diamond, clouseau, pink panther</td>\n",
       "      <td>2009</td>\n",
       "    </tr>\n",
       "    <tr>\n",
       "      <th>4</th>\n",
       "      <td>65000000</td>\n",
       "      <td>Other</td>\n",
       "      <td>Other</td>\n",
       "      <td>Other</td>\n",
       "      <td>Animation</td>\n",
       "      <td>19548064</td>\n",
       "      <td>Astro Boy</td>\n",
       "      <td>PG</td>\n",
       "      <td>23.10.2009 00:00</td>\n",
       "      <td>94</td>\n",
       "      <td>...</td>\n",
       "      <td>Astro Boy</td>\n",
       "      <td>Set in futuristic Metro City, Astro Boy is abo...</td>\n",
       "      <td>13.293466</td>\n",
       "      <td>Have a blast.</td>\n",
       "      <td>Astro Boy</td>\n",
       "      <td>Animation, Action, Family, Science Fiction</td>\n",
       "      <td>en</td>\n",
       "      <td>HK, JP, US</td>\n",
       "      <td>superhero</td>\n",
       "      <td>2009</td>\n",
       "    </tr>\n",
       "    <tr>\n",
       "      <th>...</th>\n",
       "      <td>...</td>\n",
       "      <td>...</td>\n",
       "      <td>...</td>\n",
       "      <td>...</td>\n",
       "      <td>...</td>\n",
       "      <td>...</td>\n",
       "      <td>...</td>\n",
       "      <td>...</td>\n",
       "      <td>...</td>\n",
       "      <td>...</td>\n",
       "      <td>...</td>\n",
       "      <td>...</td>\n",
       "      <td>...</td>\n",
       "      <td>...</td>\n",
       "      <td>...</td>\n",
       "      <td>...</td>\n",
       "      <td>...</td>\n",
       "      <td>...</td>\n",
       "      <td>...</td>\n",
       "      <td>...</td>\n",
       "      <td>...</td>\n",
       "    </tr>\n",
       "    <tr>\n",
       "      <th>556</th>\n",
       "      <td>17000000</td>\n",
       "      <td>Other</td>\n",
       "      <td>USA</td>\n",
       "      <td>Other</td>\n",
       "      <td>Comedy</td>\n",
       "      <td>41715860</td>\n",
       "      <td>Almost Christmas</td>\n",
       "      <td>PG-13</td>\n",
       "      <td>11.11.2016 00:00</td>\n",
       "      <td>111</td>\n",
       "      <td>...</td>\n",
       "      <td>Almost Christmas</td>\n",
       "      <td>A dysfunctional family gathers together for th...</td>\n",
       "      <td>7.288877</td>\n",
       "      <td>Five days together? Oh joy.</td>\n",
       "      <td>Almost Christmas</td>\n",
       "      <td>Comedy, Drama</td>\n",
       "      <td>en</td>\n",
       "      <td>US</td>\n",
       "      <td>thanksgiving, family, death, christmas</td>\n",
       "      <td>2016</td>\n",
       "    </tr>\n",
       "    <tr>\n",
       "      <th>557</th>\n",
       "      <td>5000000</td>\n",
       "      <td>Other</td>\n",
       "      <td>USA</td>\n",
       "      <td>Other</td>\n",
       "      <td>Horror</td>\n",
       "      <td>4790573</td>\n",
       "      <td>Incarnate</td>\n",
       "      <td>PG-13</td>\n",
       "      <td>2.12.2016 00:00</td>\n",
       "      <td>91</td>\n",
       "      <td>...</td>\n",
       "      <td>Incarnate</td>\n",
       "      <td>An exorcist comes up against an evil from his ...</td>\n",
       "      <td>15.909181</td>\n",
       "      <td>Faith Has Failed Us</td>\n",
       "      <td>Incarnate</td>\n",
       "      <td>Horror, Thriller</td>\n",
       "      <td>en</td>\n",
       "      <td>US</td>\n",
       "      <td>new york, vatican, dutch, wheelchair, exorcism...</td>\n",
       "      <td>2016</td>\n",
       "    </tr>\n",
       "    <tr>\n",
       "      <th>558</th>\n",
       "      <td>4000000</td>\n",
       "      <td>Other</td>\n",
       "      <td>USA</td>\n",
       "      <td>Other</td>\n",
       "      <td>Horror</td>\n",
       "      <td>10732841</td>\n",
       "      <td>The Darkness</td>\n",
       "      <td>PG-13</td>\n",
       "      <td>13.05.2016 00:00</td>\n",
       "      <td>92</td>\n",
       "      <td>...</td>\n",
       "      <td>The Darkness</td>\n",
       "      <td>A family returns from a Grand Canyon vacation ...</td>\n",
       "      <td>12.187189</td>\n",
       "      <td>Evil comes home</td>\n",
       "      <td>The Darkness</td>\n",
       "      <td>Horror, Thriller</td>\n",
       "      <td>en</td>\n",
       "      <td>US</td>\n",
       "      <td>self sacrifice, snake, autism, bulimia, haunte...</td>\n",
       "      <td>2016</td>\n",
       "    </tr>\n",
       "    <tr>\n",
       "      <th>559</th>\n",
       "      <td>8500000</td>\n",
       "      <td>Other</td>\n",
       "      <td>USA</td>\n",
       "      <td>Other</td>\n",
       "      <td>Animation</td>\n",
       "      <td>19985196</td>\n",
       "      <td>Middle School: The Worst Years of My Life</td>\n",
       "      <td>PG</td>\n",
       "      <td>7.10.2016 00:00</td>\n",
       "      <td>92</td>\n",
       "      <td>...</td>\n",
       "      <td>Middle School: The Worst Years of My Life</td>\n",
       "      <td>A quiet teenage artist Rafe Katchadorian has a...</td>\n",
       "      <td>10.222143</td>\n",
       "      <td>Rules aren't for everyone</td>\n",
       "      <td>Middle School: The Worst Years of My Life</td>\n",
       "      <td>Family, Comedy</td>\n",
       "      <td>pt, en, hu</td>\n",
       "      <td>US</td>\n",
       "      <td>middle school, based on children's book</td>\n",
       "      <td>2016</td>\n",
       "    </tr>\n",
       "    <tr>\n",
       "      <th>560</th>\n",
       "      <td>3500000</td>\n",
       "      <td>Other</td>\n",
       "      <td>USA</td>\n",
       "      <td>Other</td>\n",
       "      <td>Animation</td>\n",
       "      <td>3775000</td>\n",
       "      <td>Batman: The Killing Joke</td>\n",
       "      <td>R</td>\n",
       "      <td>25.07.2016 00:00</td>\n",
       "      <td>76</td>\n",
       "      <td>...</td>\n",
       "      <td>Batman: The Killing Joke</td>\n",
       "      <td>As Batman hunts for the escaped Joker, the Clo...</td>\n",
       "      <td>6.488277</td>\n",
       "      <td>The madness begins.</td>\n",
       "      <td>Batman: The Killing Joke</td>\n",
       "      <td>Action, Animation, Crime, Drama</td>\n",
       "      <td>en</td>\n",
       "      <td>US</td>\n",
       "      <td>dc comics, carnival, psychopath, joker, superh...</td>\n",
       "      <td>2016</td>\n",
       "    </tr>\n",
       "  </tbody>\n",
       "</table>\n",
       "<p>561 rows × 31 columns</p>\n",
       "</div>"
      ],
      "text/plain": [
       "       budget                    company country director      genre  \\\n",
       "0    18000000         Universal Pictures     USA    Other      Drama   \n",
       "1    19000000                      Other     USA    Other      Crime   \n",
       "2     5000000                      Other     USA    Other      Drama   \n",
       "3    70000000  Metro-Goldwyn-Mayer (MGM)     USA    Other  Adventure   \n",
       "4    65000000                      Other   Other    Other  Animation   \n",
       "..        ...                        ...     ...      ...        ...   \n",
       "556  17000000                      Other     USA    Other     Comedy   \n",
       "557   5000000                      Other     USA    Other     Horror   \n",
       "558   4000000                      Other     USA    Other     Horror   \n",
       "559   8500000                      Other     USA    Other  Animation   \n",
       "560   3500000                      Other     USA    Other  Animation   \n",
       "\n",
       "        gross                                       name rating  \\\n",
       "0    22927390                               Love Happens  PG-13   \n",
       "1      454149                              Crossing Over      R   \n",
       "2     1474508                                The Joneses      R   \n",
       "3    35922978                         The Pink Panther 2     PG   \n",
       "4    19548064                                  Astro Boy     PG   \n",
       "..        ...                                        ...    ...   \n",
       "556  41715860                           Almost Christmas  PG-13   \n",
       "557   4790573                                  Incarnate  PG-13   \n",
       "558  10732841                               The Darkness  PG-13   \n",
       "559  19985196  Middle School: The Worst Years of My Life     PG   \n",
       "560   3775000                   Batman: The Killing Joke      R   \n",
       "\n",
       "             released  runtime  ...  \\\n",
       "0    18.09.2009 00:00      100  ...   \n",
       "1    24.07.2009 00:00      113  ...   \n",
       "2    23.04.2010 00:00       96  ...   \n",
       "3     6.02.2009 00:00       92  ...   \n",
       "4    23.10.2009 00:00       94  ...   \n",
       "..                ...      ...  ...   \n",
       "556  11.11.2016 00:00      111  ...   \n",
       "557   2.12.2016 00:00       91  ...   \n",
       "558  13.05.2016 00:00       92  ...   \n",
       "559   7.10.2016 00:00       92  ...   \n",
       "560  25.07.2016 00:00       76  ...   \n",
       "\n",
       "                                original_title  \\\n",
       "0                                 Love Happens   \n",
       "1                                Crossing Over   \n",
       "2                                  The Joneses   \n",
       "3                           The Pink Panther 2   \n",
       "4                                    Astro Boy   \n",
       "..                                         ...   \n",
       "556                           Almost Christmas   \n",
       "557                                  Incarnate   \n",
       "558                               The Darkness   \n",
       "559  Middle School: The Worst Years of My Life   \n",
       "560                   Batman: The Killing Joke   \n",
       "\n",
       "                                              overview  popularity  \\\n",
       "0    Dr. Burke Ryan is a successful self-help autho...   10.279603   \n",
       "1    Immigrants from around the world enter Los Ang...    6.036408   \n",
       "2    A seemingly perfect family moves into a suburb...    6.632194   \n",
       "3    When legendary treasures from around the world...   18.546750   \n",
       "4    Set in futuristic Metro City, Astro Boy is abo...   13.293466   \n",
       "..                                                 ...         ...   \n",
       "556  A dysfunctional family gathers together for th...    7.288877   \n",
       "557  An exorcist comes up against an evil from his ...   15.909181   \n",
       "558  A family returns from a Grand Canyon vacation ...   12.187189   \n",
       "559  A quiet teenage artist Rafe Katchadorian has a...   10.222143   \n",
       "560  As Batman hunts for the escaped Joker, the Clo...    6.488277   \n",
       "\n",
       "                                               tagline  \\\n",
       "0                Sometimes when you least expect it...   \n",
       "1    Every day thousands of people illegally cross ...   \n",
       "2    They're not just living the American dream, th...   \n",
       "3                              Inspect the unexpected.   \n",
       "4                                        Have a blast.   \n",
       "..                                                 ...   \n",
       "556                        Five days together? Oh joy.   \n",
       "557                                Faith Has Failed Us   \n",
       "558                                    Evil comes home   \n",
       "559                          Rules aren't for everyone   \n",
       "560                                The madness begins.   \n",
       "\n",
       "                                         title  \\\n",
       "0                                 Love Happens   \n",
       "1                                Crossing Over   \n",
       "2                                  The Joneses   \n",
       "3                           The Pink Panther 2   \n",
       "4                                    Astro Boy   \n",
       "..                                         ...   \n",
       "556                           Almost Christmas   \n",
       "557                                  Incarnate   \n",
       "558                               The Darkness   \n",
       "559  Middle School: The Worst Years of My Life   \n",
       "560                   Batman: The Killing Joke   \n",
       "\n",
       "                                  genres_edited  spoken_languages_edited  \\\n",
       "0                                Drama, Romance                       en   \n",
       "1                                  Crime, Drama                       en   \n",
       "2                                 Comedy, Drama               cs, en, fr   \n",
       "3                               Comedy, Mystery                       en   \n",
       "4    Animation, Action, Family, Science Fiction                       en   \n",
       "..                                          ...                      ...   \n",
       "556                               Comedy, Drama                       en   \n",
       "557                            Horror, Thriller                       en   \n",
       "558                            Horror, Thriller                       en   \n",
       "559                              Family, Comedy               pt, en, hu   \n",
       "560             Action, Animation, Crime, Drama                       en   \n",
       "\n",
       "     production_countries_edited  \\\n",
       "0                     CA, GB, US   \n",
       "1                             US   \n",
       "2                             US   \n",
       "3                             US   \n",
       "4                     HK, JP, US   \n",
       "..                           ...   \n",
       "556                           US   \n",
       "557                           US   \n",
       "558                           US   \n",
       "559                           US   \n",
       "560                           US   \n",
       "\n",
       "                                       keywords_edited  year_released  \n",
       "0    hotel, florist, forest, grief, seminar, motiva...           2009  \n",
       "1                               immigrant, los angeles           2009  \n",
       "2               independent film, duringcreditsstinger           2010  \n",
       "3                      diamond, clouseau, pink panther           2009  \n",
       "4                                            superhero           2009  \n",
       "..                                                 ...            ...  \n",
       "556             thanksgiving, family, death, christmas           2016  \n",
       "557  new york, vatican, dutch, wheelchair, exorcism...           2016  \n",
       "558  self sacrifice, snake, autism, bulimia, haunte...           2016  \n",
       "559            middle school, based on children's book           2016  \n",
       "560  dc comics, carnival, psychopath, joker, superh...           2016  \n",
       "\n",
       "[561 rows x 31 columns]"
      ]
     },
     "execution_count": 33,
     "metadata": {},
     "output_type": "execute_result"
    }
   ],
   "source": [
    "data_dropped_outlier_IQR = data_dropped_outlier_IQR.reset_index()\n",
    "del data_dropped_outlier_IQR['index']\n",
    "data_dropped_outlier_IQR"
   ]
  },
  {
   "cell_type": "code",
   "execution_count": 34,
   "metadata": {},
   "outputs": [
    {
     "data": {
      "text/html": [
       "<div>\n",
       "<style scoped>\n",
       "    .dataframe tbody tr th:only-of-type {\n",
       "        vertical-align: middle;\n",
       "    }\n",
       "\n",
       "    .dataframe tbody tr th {\n",
       "        vertical-align: top;\n",
       "    }\n",
       "\n",
       "    .dataframe thead th {\n",
       "        text-align: right;\n",
       "    }\n",
       "</style>\n",
       "<table border=\"1\" class=\"dataframe\">\n",
       "  <thead>\n",
       "    <tr style=\"text-align: right;\">\n",
       "      <th></th>\n",
       "      <th>budget</th>\n",
       "      <th>gross</th>\n",
       "      <th>runtime</th>\n",
       "      <th>score</th>\n",
       "      <th>votes</th>\n",
       "      <th>year</th>\n",
       "      <th>isprofit</th>\n",
       "      <th>profitability_ratio</th>\n",
       "      <th>profitability_ratio_bucket</th>\n",
       "      <th>id</th>\n",
       "      <th>popularity</th>\n",
       "      <th>year_released</th>\n",
       "    </tr>\n",
       "  </thead>\n",
       "  <tbody>\n",
       "    <tr>\n",
       "      <th>count</th>\n",
       "      <td>5.610000e+02</td>\n",
       "      <td>5.610000e+02</td>\n",
       "      <td>561.000000</td>\n",
       "      <td>561.000000</td>\n",
       "      <td>561.000000</td>\n",
       "      <td>561.000000</td>\n",
       "      <td>561.000000</td>\n",
       "      <td>561.000000</td>\n",
       "      <td>561.000000</td>\n",
       "      <td>561.000000</td>\n",
       "      <td>561.000000</td>\n",
       "      <td>561.000000</td>\n",
       "    </tr>\n",
       "    <tr>\n",
       "      <th>mean</th>\n",
       "      <td>3.553318e+07</td>\n",
       "      <td>3.639691e+07</td>\n",
       "      <td>106.310160</td>\n",
       "      <td>6.434046</td>\n",
       "      <td>89941.477718</td>\n",
       "      <td>2012.677362</td>\n",
       "      <td>0.440285</td>\n",
       "      <td>0.072438</td>\n",
       "      <td>7.122995</td>\n",
       "      <td>140261.643494</td>\n",
       "      <td>10.275457</td>\n",
       "      <td>2012.860963</td>\n",
       "    </tr>\n",
       "    <tr>\n",
       "      <th>std</th>\n",
       "      <td>3.177292e+07</td>\n",
       "      <td>3.887071e+07</td>\n",
       "      <td>12.659555</td>\n",
       "      <td>0.740246</td>\n",
       "      <td>82383.499500</td>\n",
       "      <td>2.104673</td>\n",
       "      <td>0.496864</td>\n",
       "      <td>0.938483</td>\n",
       "      <td>94.024128</td>\n",
       "      <td>105634.367037</td>\n",
       "      <td>3.929700</td>\n",
       "      <td>2.102361</td>\n",
       "    </tr>\n",
       "    <tr>\n",
       "      <th>min</th>\n",
       "      <td>5.000000e+04</td>\n",
       "      <td>1.098000e+03</td>\n",
       "      <td>76.000000</td>\n",
       "      <td>4.400000</td>\n",
       "      <td>2558.000000</td>\n",
       "      <td>2009.000000</td>\n",
       "      <td>0.000000</td>\n",
       "      <td>-0.999822</td>\n",
       "      <td>-100.000000</td>\n",
       "      <td>189.000000</td>\n",
       "      <td>0.393865</td>\n",
       "      <td>2009.000000</td>\n",
       "    </tr>\n",
       "    <tr>\n",
       "      <th>25%</th>\n",
       "      <td>1.200000e+07</td>\n",
       "      <td>6.002756e+06</td>\n",
       "      <td>98.000000</td>\n",
       "      <td>6.000000</td>\n",
       "      <td>32345.000000</td>\n",
       "      <td>2011.000000</td>\n",
       "      <td>0.000000</td>\n",
       "      <td>-0.664760</td>\n",
       "      <td>-70.000000</td>\n",
       "      <td>49017.000000</td>\n",
       "      <td>7.363527</td>\n",
       "      <td>2011.000000</td>\n",
       "    </tr>\n",
       "    <tr>\n",
       "      <th>50%</th>\n",
       "      <td>2.500000e+07</td>\n",
       "      <td>2.513223e+07</td>\n",
       "      <td>104.000000</td>\n",
       "      <td>6.500000</td>\n",
       "      <td>64524.000000</td>\n",
       "      <td>2013.000000</td>\n",
       "      <td>0.000000</td>\n",
       "      <td>-0.149826</td>\n",
       "      <td>-10.000000</td>\n",
       "      <td>89691.000000</td>\n",
       "      <td>9.785895</td>\n",
       "      <td>2013.000000</td>\n",
       "    </tr>\n",
       "    <tr>\n",
       "      <th>75%</th>\n",
       "      <td>5.000000e+07</td>\n",
       "      <td>5.269854e+07</td>\n",
       "      <td>114.000000</td>\n",
       "      <td>7.000000</td>\n",
       "      <td>117034.000000</td>\n",
       "      <td>2015.000000</td>\n",
       "      <td>1.000000</td>\n",
       "      <td>0.509540</td>\n",
       "      <td>50.000000</td>\n",
       "      <td>239678.000000</td>\n",
       "      <td>12.565896</td>\n",
       "      <td>2015.000000</td>\n",
       "    </tr>\n",
       "    <tr>\n",
       "      <th>max</th>\n",
       "      <td>1.400000e+08</td>\n",
       "      <td>1.917193e+08</td>\n",
       "      <td>142.000000</td>\n",
       "      <td>8.200000</td>\n",
       "      <td>404796.000000</td>\n",
       "      <td>2016.000000</td>\n",
       "      <td>1.000000</td>\n",
       "      <td>3.148541</td>\n",
       "      <td>310.000000</td>\n",
       "      <td>404378.000000</td>\n",
       "      <td>24.483893</td>\n",
       "      <td>2017.000000</td>\n",
       "    </tr>\n",
       "  </tbody>\n",
       "</table>\n",
       "</div>"
      ],
      "text/plain": [
       "             budget         gross     runtime       score          votes  \\\n",
       "count  5.610000e+02  5.610000e+02  561.000000  561.000000     561.000000   \n",
       "mean   3.553318e+07  3.639691e+07  106.310160    6.434046   89941.477718   \n",
       "std    3.177292e+07  3.887071e+07   12.659555    0.740246   82383.499500   \n",
       "min    5.000000e+04  1.098000e+03   76.000000    4.400000    2558.000000   \n",
       "25%    1.200000e+07  6.002756e+06   98.000000    6.000000   32345.000000   \n",
       "50%    2.500000e+07  2.513223e+07  104.000000    6.500000   64524.000000   \n",
       "75%    5.000000e+07  5.269854e+07  114.000000    7.000000  117034.000000   \n",
       "max    1.400000e+08  1.917193e+08  142.000000    8.200000  404796.000000   \n",
       "\n",
       "              year    isprofit  profitability_ratio  \\\n",
       "count   561.000000  561.000000           561.000000   \n",
       "mean   2012.677362    0.440285             0.072438   \n",
       "std       2.104673    0.496864             0.938483   \n",
       "min    2009.000000    0.000000            -0.999822   \n",
       "25%    2011.000000    0.000000            -0.664760   \n",
       "50%    2013.000000    0.000000            -0.149826   \n",
       "75%    2015.000000    1.000000             0.509540   \n",
       "max    2016.000000    1.000000             3.148541   \n",
       "\n",
       "       profitability_ratio_bucket             id  popularity  year_released  \n",
       "count                  561.000000     561.000000  561.000000     561.000000  \n",
       "mean                     7.122995  140261.643494   10.275457    2012.860963  \n",
       "std                     94.024128  105634.367037    3.929700       2.102361  \n",
       "min                   -100.000000     189.000000    0.393865    2009.000000  \n",
       "25%                    -70.000000   49017.000000    7.363527    2011.000000  \n",
       "50%                    -10.000000   89691.000000    9.785895    2013.000000  \n",
       "75%                     50.000000  239678.000000   12.565896    2015.000000  \n",
       "max                    310.000000  404378.000000   24.483893    2017.000000  "
      ]
     },
     "execution_count": 34,
     "metadata": {},
     "output_type": "execute_result"
    }
   ],
   "source": [
    "data_dropped_outlier_IQR.describe()"
   ]
  },
  {
   "cell_type": "markdown",
   "metadata": {},
   "source": [
    "## 2.5. Box Plot <a class=\"anchor\" id=\"25\"></a>"
   ]
  },
  {
   "cell_type": "markdown",
   "metadata": {},
   "source": [
    "### Boxplot of Initial Data"
   ]
  },
  {
   "cell_type": "code",
   "execution_count": 35,
   "metadata": {},
   "outputs": [
    {
     "data": {
      "text/plain": [
       "<AxesSubplot:>"
      ]
     },
     "execution_count": 35,
     "metadata": {},
     "output_type": "execute_result"
    },
    {
     "data": {
      "image/png": "[encoded data removed]",
      "text/plain": [
       "<Figure size 2304x1008 with 1 Axes>"
      ]
     },
     "metadata": {},
     "output_type": "display_data"
    }
   ],
   "source": [
    "df.plot(x=df.index.name, kind='box', figsize=(32, 14))"
   ]
  },
  {
   "cell_type": "markdown",
   "metadata": {},
   "source": [
    "Figure 2: Data Distribution before Cleaning\n",
    "<p>Figure 2 shows the distribution of the data before dropping rows. The graph represents five number summary: “minimum, first quartile, median, third quartile, and ''maximum”. The ends of the box are the quartiles, Q1 and Q3, while the box length is interquartile range (IQR). Two lines (called whiskers) outside the box extend to the smallest (Minimum) and largest (Maximum) observations. The circles are the outliers.</p>"
   ]
  },
  {
   "cell_type": "markdown",
   "metadata": {},
   "source": [
    "### Boxplot of Dropped Data"
   ]
  },
  {
   "cell_type": "code",
   "execution_count": 36,
   "metadata": {},
   "outputs": [
    {
     "data": {
      "text/plain": [
       "<AxesSubplot:>"
      ]
     },
     "execution_count": 36,
     "metadata": {},
     "output_type": "execute_result"
    },
    {
     "data": {
      "image/png": "[encoded data removed]",
      "text/plain": [
       "<Figure size 2304x1008 with 1 Axes>"
      ]
     },
     "metadata": {},
     "output_type": "display_data"
    }
   ],
   "source": [
    "data_dropped.plot(x=data_dropped.index.name, kind='box', figsize=(32, 14))"
   ]
  },
  {
   "cell_type": "markdown",
   "metadata": {},
   "source": [
    "Figure 3: Data Distribution of Dropped Data\n",
    "<p>Figure 3 shows the distibution of data after dropping rows with the value NaN. The graph represents five number summary: “minimum, first quartile, median, third quartile, and ''maximum”. The ends of the box are the quartiles, Q1 and Q3, while the box length is interquartile range (IQR). Two lines (called whiskers) outside the box extend to the smallest (Minimum) and largest (Maximum) observations. The circles are the outliers.</p>"
   ]
  },
  {
   "cell_type": "markdown",
   "metadata": {},
   "source": [
    "### Boxplot of Dropped Outlier Data"
   ]
  },
  {
   "cell_type": "code",
   "execution_count": 37,
   "metadata": {},
   "outputs": [
    {
     "data": {
      "text/plain": [
       "<AxesSubplot:>"
      ]
     },
     "execution_count": 37,
     "metadata": {},
     "output_type": "execute_result"
    },
    {
     "data": {
      "image/png": "[encoded data removed]",
      "text/plain": [
       "<Figure size 3312x1008 with 1 Axes>"
      ]
     },
     "metadata": {},
     "output_type": "display_data"
    }
   ],
   "source": [
    "data_dropped_outlier_IQR.plot(x=data_dropped_outlier_IQR.index.name, kind='box', figsize=(46, 14))"
   ]
  },
  {
   "cell_type": "markdown",
   "metadata": {},
   "source": [
    "Figure 4: Data Distribution of Outlier Data\n",
    "<p>Figure 4 shows the distributoion of data after dropping outliers. The graph represents five number summary: “minimum, first quartile, median, third quartile, and ''maximum”. The ends of the box are the quartiles, Q1 and Q3, while the box length is interquartile range (IQR). Two lines (called whiskers) outside the box extend to the smallest (Minimum) and largest (Maximum) observations. The circles are the outliers.</p>"
   ]
  },
  {
   "cell_type": "markdown",
   "metadata": {},
   "source": [
    "# 3. Data Transformation <a class=\"anchor\" id=\"3\"></a>"
   ]
  },
  {
   "cell_type": "markdown",
   "metadata": {},
   "source": [
    "Our data has the following columns that we can perform transformation on:\n",
    "* budget\n",
    "* runtime\n",
    "* score\n",
    "* votes\n",
    "* popularity\n",
    "\n",
    "<p>\n",
    "> We want to discretize and normalize the data so it will be ready for the modeling stage.\n",
    "<br><br>\n",
    "> After writing some general functions, we will perform the transformations one by one.\n",
    "</p>"
   ]
  },
  {
   "cell_type": "markdown",
   "metadata": {},
   "source": [
    "## 3.1. Binning <a class=\"anchor\" id=\"31\"></a>"
   ]
  },
  {
   "cell_type": "markdown",
   "metadata": {},
   "source": [
    "Below, we iterate over all continuous features and use binning to discretize the data. At the end, we summarize the results by indicating the 4 intervals that our data was partitioned into."
   ]
  },
  {
   "cell_type": "code",
   "execution_count": 38,
   "metadata": {},
   "outputs": [
    {
     "data": {
      "text/plain": [
       "count    5.610000e+02\n",
       "mean     3.553318e+07\n",
       "std      3.177292e+07\n",
       "min      5.000000e+04\n",
       "25%      1.200000e+07\n",
       "50%      2.500000e+07\n",
       "75%      5.000000e+07\n",
       "max      1.400000e+08\n",
       "Name: budget, dtype: float64"
      ]
     },
     "metadata": {},
     "output_type": "display_data"
    },
    {
     "data": {
      "text/plain": [
       "0       (12000000.0, 25000000.0]\n",
       "1       (12000000.0, 25000000.0]\n",
       "2        (49999.999, 12000000.0]\n",
       "3      (50000000.0, 140000000.0]\n",
       "4      (50000000.0, 140000000.0]\n",
       "                 ...            \n",
       "556     (12000000.0, 25000000.0]\n",
       "557      (49999.999, 12000000.0]\n",
       "558      (49999.999, 12000000.0]\n",
       "559      (49999.999, 12000000.0]\n",
       "560      (49999.999, 12000000.0]\n",
       "Name: budget, Length: 561, dtype: category\n",
       "Categories (4, interval[float64]): [(49999.999, 12000000.0] < (12000000.0, 25000000.0] < (25000000.0, 50000000.0] < (50000000.0, 140000000.0]]"
      ]
     },
     "metadata": {},
     "output_type": "display_data"
    },
    {
     "data": {
      "text/plain": [
       "(49999.999, 12000000.0]      154\n",
       "(25000000.0, 50000000.0]     152\n",
       "(50000000.0, 140000000.0]    128\n",
       "(12000000.0, 25000000.0]     127\n",
       "Name: budget, dtype: int64"
      ]
     },
     "metadata": {},
     "output_type": "display_data"
    },
    {
     "data": {
      "text/plain": [
       "count    561.000000\n",
       "mean     106.310160\n",
       "std       12.659555\n",
       "min       76.000000\n",
       "25%       98.000000\n",
       "50%      104.000000\n",
       "75%      114.000000\n",
       "max      142.000000\n",
       "Name: runtime, dtype: float64"
      ]
     },
     "metadata": {},
     "output_type": "display_data"
    },
    {
     "data": {
      "text/plain": [
       "0       (98.0, 104.0]\n",
       "1      (104.0, 114.0]\n",
       "2      (75.999, 98.0]\n",
       "3      (75.999, 98.0]\n",
       "4      (75.999, 98.0]\n",
       "            ...      \n",
       "556    (104.0, 114.0]\n",
       "557    (75.999, 98.0]\n",
       "558    (75.999, 98.0]\n",
       "559    (75.999, 98.0]\n",
       "560    (75.999, 98.0]\n",
       "Name: runtime, Length: 561, dtype: category\n",
       "Categories (4, interval[float64]): [(75.999, 98.0] < (98.0, 104.0] < (104.0, 114.0] < (114.0, 142.0]]"
      ]
     },
     "metadata": {},
     "output_type": "display_data"
    },
    {
     "data": {
      "text/plain": [
       "(75.999, 98.0]    152\n",
       "(104.0, 114.0]    145\n",
       "(114.0, 142.0]    135\n",
       "(98.0, 104.0]     129\n",
       "Name: runtime, dtype: int64"
      ]
     },
     "metadata": {},
     "output_type": "display_data"
    },
    {
     "data": {
      "text/plain": [
       "count    561.000000\n",
       "mean       6.434046\n",
       "std        0.740246\n",
       "min        4.400000\n",
       "25%        6.000000\n",
       "50%        6.500000\n",
       "75%        7.000000\n",
       "max        8.200000\n",
       "Name: score, dtype: float64"
      ]
     },
     "metadata": {},
     "output_type": "display_data"
    },
    {
     "data": {
      "text/plain": [
       "0      (4.399, 6.0]\n",
       "1        (6.5, 7.0]\n",
       "2        (6.0, 6.5]\n",
       "3      (4.399, 6.0]\n",
       "4        (6.0, 6.5]\n",
       "           ...     \n",
       "556    (4.399, 6.0]\n",
       "557    (4.399, 6.0]\n",
       "558    (4.399, 6.0]\n",
       "559      (6.0, 6.5]\n",
       "560      (6.0, 6.5]\n",
       "Name: score, Length: 561, dtype: category\n",
       "Categories (4, interval[float64]): [(4.399, 6.0] < (6.0, 6.5] < (6.5, 7.0] < (7.0, 8.2]]"
      ]
     },
     "metadata": {},
     "output_type": "display_data"
    },
    {
     "data": {
      "text/plain": [
       "(4.399, 6.0]    154\n",
       "(6.0, 6.5]      150\n",
       "(6.5, 7.0]      132\n",
       "(7.0, 8.2]      125\n",
       "Name: score, dtype: int64"
      ]
     },
     "metadata": {},
     "output_type": "display_data"
    },
    {
     "data": {
      "text/plain": [
       "count       561.000000\n",
       "mean      89941.477718\n",
       "std       82383.499500\n",
       "min        2558.000000\n",
       "25%       32345.000000\n",
       "50%       64524.000000\n",
       "75%      117034.000000\n",
       "max      404796.000000\n",
       "Name: votes, dtype: float64"
      ]
     },
     "metadata": {},
     "output_type": "display_data"
    },
    {
     "data": {
      "text/plain": [
       "0      (2557.999, 32345.0]\n",
       "1      (2557.999, 32345.0]\n",
       "2       (32345.0, 64524.0]\n",
       "3       (32345.0, 64524.0]\n",
       "4      (2557.999, 32345.0]\n",
       "              ...         \n",
       "556    (2557.999, 32345.0]\n",
       "557    (2557.999, 32345.0]\n",
       "558    (2557.999, 32345.0]\n",
       "559    (2557.999, 32345.0]\n",
       "560     (32345.0, 64524.0]\n",
       "Name: votes, Length: 561, dtype: category\n",
       "Categories (4, interval[float64]): [(2557.999, 32345.0] < (32345.0, 64524.0] < (64524.0, 117034.0] < (117034.0, 404796.0]]"
      ]
     },
     "metadata": {},
     "output_type": "display_data"
    },
    {
     "data": {
      "text/plain": [
       "(2557.999, 32345.0]     141\n",
       "(32345.0, 64524.0]      140\n",
       "(64524.0, 117034.0]     140\n",
       "(117034.0, 404796.0]    140\n",
       "Name: votes, dtype: int64"
      ]
     },
     "metadata": {},
     "output_type": "display_data"
    },
    {
     "data": {
      "text/plain": [
       "count    561.000000\n",
       "mean      10.275457\n",
       "std        3.929700\n",
       "min        0.393865\n",
       "25%        7.363527\n",
       "50%        9.785895\n",
       "75%       12.565896\n",
       "max       24.483893\n",
       "Name: popularity, dtype: float64"
      ]
     },
     "metadata": {},
     "output_type": "display_data"
    },
    {
     "data": {
      "text/plain": [
       "0       (9.786, 12.566]\n",
       "1        (0.393, 7.364]\n",
       "2        (0.393, 7.364]\n",
       "3      (12.566, 24.484]\n",
       "4      (12.566, 24.484]\n",
       "             ...       \n",
       "556      (0.393, 7.364]\n",
       "557    (12.566, 24.484]\n",
       "558     (9.786, 12.566]\n",
       "559     (9.786, 12.566]\n",
       "560      (0.393, 7.364]\n",
       "Name: popularity, Length: 561, dtype: category\n",
       "Categories (4, interval[float64]): [(0.393, 7.364] < (7.364, 9.786] < (9.786, 12.566] < (12.566, 24.484]]"
      ]
     },
     "metadata": {},
     "output_type": "display_data"
    },
    {
     "data": {
      "text/plain": [
       "(0.393, 7.364]      141\n",
       "(7.364, 9.786]      140\n",
       "(9.786, 12.566]     140\n",
       "(12.566, 24.484]    140\n",
       "Name: popularity, dtype: int64"
      ]
     },
     "metadata": {},
     "output_type": "display_data"
    }
   ],
   "source": [
    "for i in continuous_features:\n",
    "    display(data_dropped_outlier_IQR[i].describe())\n",
    "\n",
    "    display(pd.qcut(data_dropped_outlier_IQR[i], q=4))\n",
    "\n",
    "    display(pd.qcut(data_dropped_outlier_IQR[i], q=4).value_counts())"
   ]
  },
  {
   "cell_type": "markdown",
   "metadata": {},
   "source": [
    "## 3.2. Normalization <a class=\"anchor\" id=\"32\"></a>"
   ]
  },
  {
   "cell_type": "markdown",
   "metadata": {},
   "source": [
    "### 3.2.1. Z-score Method <a class=\"anchor\" id=\"321\"></a>"
   ]
  },
  {
   "cell_type": "code",
   "execution_count": 39,
   "metadata": {},
   "outputs": [
    {
     "data": {
      "text/html": [
       "<div>\n",
       "<style scoped>\n",
       "    .dataframe tbody tr th:only-of-type {\n",
       "        vertical-align: middle;\n",
       "    }\n",
       "\n",
       "    .dataframe tbody tr th {\n",
       "        vertical-align: top;\n",
       "    }\n",
       "\n",
       "    .dataframe thead th {\n",
       "        text-align: right;\n",
       "    }\n",
       "</style>\n",
       "<table border=\"1\" class=\"dataframe\">\n",
       "  <thead>\n",
       "    <tr style=\"text-align: right;\">\n",
       "      <th></th>\n",
       "      <th>budget</th>\n",
       "      <th>runtime</th>\n",
       "      <th>score</th>\n",
       "      <th>votes</th>\n",
       "      <th>popularity</th>\n",
       "    </tr>\n",
       "  </thead>\n",
       "  <tbody>\n",
       "    <tr>\n",
       "      <th>count</th>\n",
       "      <td>5.610000e+02</td>\n",
       "      <td>561.000000</td>\n",
       "      <td>561.000000</td>\n",
       "      <td>561.000000</td>\n",
       "      <td>561.000000</td>\n",
       "    </tr>\n",
       "    <tr>\n",
       "      <th>mean</th>\n",
       "      <td>3.553318e+07</td>\n",
       "      <td>106.310160</td>\n",
       "      <td>6.434046</td>\n",
       "      <td>89941.477718</td>\n",
       "      <td>10.275457</td>\n",
       "    </tr>\n",
       "    <tr>\n",
       "      <th>std</th>\n",
       "      <td>3.177292e+07</td>\n",
       "      <td>12.659555</td>\n",
       "      <td>0.740246</td>\n",
       "      <td>82383.499500</td>\n",
       "      <td>3.929700</td>\n",
       "    </tr>\n",
       "    <tr>\n",
       "      <th>min</th>\n",
       "      <td>5.000000e+04</td>\n",
       "      <td>76.000000</td>\n",
       "      <td>4.400000</td>\n",
       "      <td>2558.000000</td>\n",
       "      <td>0.393865</td>\n",
       "    </tr>\n",
       "    <tr>\n",
       "      <th>25%</th>\n",
       "      <td>1.200000e+07</td>\n",
       "      <td>98.000000</td>\n",
       "      <td>6.000000</td>\n",
       "      <td>32345.000000</td>\n",
       "      <td>7.363527</td>\n",
       "    </tr>\n",
       "    <tr>\n",
       "      <th>50%</th>\n",
       "      <td>2.500000e+07</td>\n",
       "      <td>104.000000</td>\n",
       "      <td>6.500000</td>\n",
       "      <td>64524.000000</td>\n",
       "      <td>9.785895</td>\n",
       "    </tr>\n",
       "    <tr>\n",
       "      <th>75%</th>\n",
       "      <td>5.000000e+07</td>\n",
       "      <td>114.000000</td>\n",
       "      <td>7.000000</td>\n",
       "      <td>117034.000000</td>\n",
       "      <td>12.565896</td>\n",
       "    </tr>\n",
       "    <tr>\n",
       "      <th>max</th>\n",
       "      <td>1.400000e+08</td>\n",
       "      <td>142.000000</td>\n",
       "      <td>8.200000</td>\n",
       "      <td>404796.000000</td>\n",
       "      <td>24.483893</td>\n",
       "    </tr>\n",
       "  </tbody>\n",
       "</table>\n",
       "</div>"
      ],
      "text/plain": [
       "             budget     runtime       score          votes  popularity\n",
       "count  5.610000e+02  561.000000  561.000000     561.000000  561.000000\n",
       "mean   3.553318e+07  106.310160    6.434046   89941.477718   10.275457\n",
       "std    3.177292e+07   12.659555    0.740246   82383.499500    3.929700\n",
       "min    5.000000e+04   76.000000    4.400000    2558.000000    0.393865\n",
       "25%    1.200000e+07   98.000000    6.000000   32345.000000    7.363527\n",
       "50%    2.500000e+07  104.000000    6.500000   64524.000000    9.785895\n",
       "75%    5.000000e+07  114.000000    7.000000  117034.000000   12.565896\n",
       "max    1.400000e+08  142.000000    8.200000  404796.000000   24.483893"
      ]
     },
     "execution_count": 39,
     "metadata": {},
     "output_type": "execute_result"
    }
   ],
   "source": [
    "data_dropped_outlier_IQR[continuous_features].describe()"
   ]
  },
  {
   "cell_type": "code",
   "execution_count": 40,
   "metadata": {},
   "outputs": [],
   "source": [
    "scaler = StandardScaler()"
   ]
  },
  {
   "cell_type": "code",
   "execution_count": 41,
   "metadata": {},
   "outputs": [],
   "source": [
    "data_dropped_z_score_scaled = pd.DataFrame(scaler.fit_transform(data_dropped_outlier_IQR[continuous_features]), columns=continuous_features)"
   ]
  },
  {
   "cell_type": "code",
   "execution_count": 42,
   "metadata": {},
   "outputs": [
    {
     "data": {
      "text/html": [
       "<div>\n",
       "<style scoped>\n",
       "    .dataframe tbody tr th:only-of-type {\n",
       "        vertical-align: middle;\n",
       "    }\n",
       "\n",
       "    .dataframe tbody tr th {\n",
       "        vertical-align: top;\n",
       "    }\n",
       "\n",
       "    .dataframe thead th {\n",
       "        text-align: right;\n",
       "    }\n",
       "</style>\n",
       "<table border=\"1\" class=\"dataframe\">\n",
       "  <thead>\n",
       "    <tr style=\"text-align: right;\">\n",
       "      <th></th>\n",
       "      <th>budget</th>\n",
       "      <th>runtime</th>\n",
       "      <th>score</th>\n",
       "      <th>votes</th>\n",
       "      <th>popularity</th>\n",
       "    </tr>\n",
       "  </thead>\n",
       "  <tbody>\n",
       "    <tr>\n",
       "      <th>count</th>\n",
       "      <td>5.610000e+02</td>\n",
       "      <td>5.610000e+02</td>\n",
       "      <td>5.610000e+02</td>\n",
       "      <td>5.610000e+02</td>\n",
       "      <td>5.610000e+02</td>\n",
       "    </tr>\n",
       "    <tr>\n",
       "      <th>mean</th>\n",
       "      <td>-6.966105e-17</td>\n",
       "      <td>-1.709862e-16</td>\n",
       "      <td>5.351235e-16</td>\n",
       "      <td>2.533129e-17</td>\n",
       "      <td>-1.266565e-16</td>\n",
       "    </tr>\n",
       "    <tr>\n",
       "      <th>std</th>\n",
       "      <td>1.000892e+00</td>\n",
       "      <td>1.000892e+00</td>\n",
       "      <td>1.000892e+00</td>\n",
       "      <td>1.000892e+00</td>\n",
       "      <td>1.000892e+00</td>\n",
       "    </tr>\n",
       "    <tr>\n",
       "      <th>min</th>\n",
       "      <td>-1.117771e+00</td>\n",
       "      <td>-2.396388e+00</td>\n",
       "      <td>-2.750251e+00</td>\n",
       "      <td>-1.061638e+00</td>\n",
       "      <td>-2.516836e+00</td>\n",
       "    </tr>\n",
       "    <tr>\n",
       "      <th>25%</th>\n",
       "      <td>-7.413290e-01</td>\n",
       "      <td>-6.570197e-01</td>\n",
       "      <td>-5.868777e-01</td>\n",
       "      <td>-6.997503e-01</td>\n",
       "      <td>-7.416670e-01</td>\n",
       "    </tr>\n",
       "    <tr>\n",
       "      <th>50%</th>\n",
       "      <td>-3.318104e-01</td>\n",
       "      <td>-1.826464e-01</td>\n",
       "      <td>8.917649e-02</td>\n",
       "      <td>-3.088017e-01</td>\n",
       "      <td>-1.246912e-01</td>\n",
       "    </tr>\n",
       "    <tr>\n",
       "      <th>75%</th>\n",
       "      <td>4.557255e-01</td>\n",
       "      <td>6.079757e-01</td>\n",
       "      <td>7.652307e-01</td>\n",
       "      <td>3.291521e-01</td>\n",
       "      <td>5.833735e-01</td>\n",
       "    </tr>\n",
       "    <tr>\n",
       "      <th>max</th>\n",
       "      <td>3.290855e+00</td>\n",
       "      <td>2.821718e+00</td>\n",
       "      <td>2.387761e+00</td>\n",
       "      <td>3.825226e+00</td>\n",
       "      <td>3.618881e+00</td>\n",
       "    </tr>\n",
       "  </tbody>\n",
       "</table>\n",
       "</div>"
      ],
      "text/plain": [
       "             budget       runtime         score         votes    popularity\n",
       "count  5.610000e+02  5.610000e+02  5.610000e+02  5.610000e+02  5.610000e+02\n",
       "mean  -6.966105e-17 -1.709862e-16  5.351235e-16  2.533129e-17 -1.266565e-16\n",
       "std    1.000892e+00  1.000892e+00  1.000892e+00  1.000892e+00  1.000892e+00\n",
       "min   -1.117771e+00 -2.396388e+00 -2.750251e+00 -1.061638e+00 -2.516836e+00\n",
       "25%   -7.413290e-01 -6.570197e-01 -5.868777e-01 -6.997503e-01 -7.416670e-01\n",
       "50%   -3.318104e-01 -1.826464e-01  8.917649e-02 -3.088017e-01 -1.246912e-01\n",
       "75%    4.557255e-01  6.079757e-01  7.652307e-01  3.291521e-01  5.833735e-01\n",
       "max    3.290855e+00  2.821718e+00  2.387761e+00  3.825226e+00  3.618881e+00"
      ]
     },
     "execution_count": 42,
     "metadata": {},
     "output_type": "execute_result"
    }
   ],
   "source": [
    "data_dropped_z_score_scaled.describe()"
   ]
  },
  {
   "cell_type": "code",
   "execution_count": 43,
   "metadata": {},
   "outputs": [
    {
     "data": {
      "text/plain": [
       "array([[<AxesSubplot:title={'center':'budget'}>,\n",
       "        <AxesSubplot:title={'center':'gross'}>,\n",
       "        <AxesSubplot:title={'center':'runtime'}>],\n",
       "       [<AxesSubplot:title={'center':'score'}>,\n",
       "        <AxesSubplot:title={'center':'votes'}>,\n",
       "        <AxesSubplot:title={'center':'year'}>],\n",
       "       [<AxesSubplot:title={'center':'isprofit'}>,\n",
       "        <AxesSubplot:title={'center':'profitability_ratio'}>,\n",
       "        <AxesSubplot:title={'center':'profitability_ratio_bucket'}>],\n",
       "       [<AxesSubplot:title={'center':'id'}>,\n",
       "        <AxesSubplot:title={'center':'popularity'}>,\n",
       "        <AxesSubplot:title={'center':'year_released'}>]], dtype=object)"
      ]
     },
     "execution_count": 43,
     "metadata": {},
     "output_type": "execute_result"
    },
    {
     "data": {
      "image/png": "[encoded data removed]",
      "text/plain": [
       "<Figure size 1152x1152 with 12 Axes>"
      ]
     },
     "metadata": {},
     "output_type": "display_data"
    }
   ],
   "source": [
    "data_dropped_outlier_IQR.hist(figsize=(16, 16))"
   ]
  },
  {
   "cell_type": "markdown",
   "metadata": {},
   "source": [
    "Figure 6: Histogram of Data Before Normalization\n",
    "<p>Figure 6 shows the bar charts helping us visualize the data befor the five features above have been normalized.</p>"
   ]
  },
  {
   "cell_type": "code",
   "execution_count": 44,
   "metadata": {},
   "outputs": [
    {
     "data": {
      "text/plain": [
       "array([[<AxesSubplot:title={'center':'budget'}>,\n",
       "        <AxesSubplot:title={'center':'runtime'}>],\n",
       "       [<AxesSubplot:title={'center':'score'}>,\n",
       "        <AxesSubplot:title={'center':'votes'}>],\n",
       "       [<AxesSubplot:title={'center':'popularity'}>, <AxesSubplot:>]],\n",
       "      dtype=object)"
      ]
     },
     "execution_count": 44,
     "metadata": {},
     "output_type": "execute_result"
    },
    {
     "data": {
      "image/png": "[encoded data removed]",
      "text/plain": [
       "<Figure size 720x720 with 6 Axes>"
      ]
     },
     "metadata": {},
     "output_type": "display_data"
    }
   ],
   "source": [
    "data_dropped_z_score_scaled.hist(figsize=(10, 10))"
   ]
  },
  {
   "cell_type": "markdown",
   "metadata": {},
   "source": [
    "Figure 7: Histogram of Data After Normalization\n",
    "<p>Figure 7 shows bar charts helping us visualize the data after the five features above have been normalized.</p>"
   ]
  },
  {
   "cell_type": "markdown",
   "metadata": {},
   "source": [
    "Add normalized columns to main dataset as new columns labeled with the feature name they relate to followed by \"_norm\"."
   ]
  },
  {
   "cell_type": "code",
   "execution_count": 45,
   "metadata": {},
   "outputs": [],
   "source": [
    "norm_column_names = ['budget_norm', 'runtime_norm', 'score_norm', 'votes_norm', 'popularity_norm']\n",
    "    \n",
    "for i, j in zip(norm_column_names, continuous_features):\n",
    "    data_dropped_outlier_IQR[i] = pd.Series(data_dropped_z_score_scaled[j])\n"
   ]
  },
  {
   "cell_type": "code",
   "execution_count": 46,
   "metadata": {},
   "outputs": [],
   "source": [
    "data_dropped_outlier_IQR.to_csv('data/training_data.csv')"
   ]
  },
  {
   "cell_type": "markdown",
   "metadata": {},
   "source": [
    "# 4. Results <a class=\"anchor\" id=\"4\"></a>"
   ]
  },
  {
   "cell_type": "markdown",
   "metadata": {},
   "source": [
    "## 4.1. Data Cleaning <a class=\"anchor\" id=\"41\"></a>"
   ]
  },
  {
   "cell_type": "markdown",
   "metadata": {},
   "source": [
    "As we analyze all the features in <a href=\"#21\">Section 2.1.</a> we can see that the only features that need cleaning are overview, tagline, spoken_languages_edited, production_countries_edited and keywords_edited. The rest of the features are clean meaning not missing any values that require either dropping or replacement of those values."
   ]
  },
  {
   "cell_type": "markdown",
   "metadata": {},
   "source": [
    "## 4.2. Data Transformation <a class=\"anchor\" id=\"42\"></a>"
   ]
  },
  {
   "cell_type": "markdown",
   "metadata": {},
   "source": [
    "After analyzing and cleaning the five categorical features found in <a href=\"#21\">Section 2.1.</a> we are able to focus on transforming our data.  \n",
    "\n",
    "<p>Our data includes categorical and continuous types but for transformation we want to focus on five that need to be discretized and normalized in order to be ready for modeling. These five features include budget, runtime, score, votes and popularity. The reason for discretizing the data is so we can partition the data into equal distributions that will be easier to manage and manipulate. After that we can use normalization to give all the attributes an equal weight which is useful to us in the following section where we model our data.</p>"
   ]
  }
 ],
 "metadata": {
  "kernelspec": {
   "display_name": "'Python3'",
   "language": "python",
   "name": "python3"
  },
  "language_info": {
   "codemirror_mode": {
    "name": "ipython",
    "version": 3
   },
   "file_extension": ".py",
   "mimetype": "text/x-python",
   "name": "python",
   "nbconvert_exporter": "python",
   "pygments_lexer": "ipython3",
   "version": "3.7.3"
  }
 },
 "nbformat": 4,
 "nbformat_minor": 2
}
