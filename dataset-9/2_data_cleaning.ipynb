{
 "cells": [
  {
   "cell_type": "markdown",
   "metadata": {},
   "source": [
    "### Table of Contents:\n",
    "* [1. Preparing the Data](#1)\n",
    "* &emsp;[1.1. Importing Libraries](#11)\n",
    "* [2. Data Cleaning](#2)\n",
    "* &emsp;[2.1. Identifying Missing Values](#21)\n",
    "* &emsp;[2.2. Dealing with Missing Values](#22)\n",
    "* &emsp;[2.3. Removing Rows](#23)\n",
    "* &emsp;[2.4. Finding Outliers](#24)\n",
    "* &emsp;&emsp;[2.4.1. IQR Score Method](#241)\n",
    "* &emsp;[2.5. Box Plot](#25)\n",
    "* [3. Data Transformation](#3)\n",
    "* &emsp;[3.1. Binning](#31)\n",
    "* &emsp;[3.2. Normalization](#32)\n",
    "* &emsp;&emsp;[3.2.1. Z-score Method](#33)\n",
    "* [4. Results](#4)\n",
    "* &emsp;[4.1. Data Cleaning](#41)\n",
    "* &emsp;[4.2. Data Transformation](#42)"
   ]
  },
  {
   "cell_type": "markdown",
   "metadata": {},
   "source": [
    "# 1. Preparing the Data <a class=\"anchor\" id=\"1\"></a>"
   ]
  },
  {
   "cell_type": "markdown",
   "metadata": {},
   "source": [
    "## 1.1. Importing Libraries <a class=\"anchor\" id=\"11\"></a>"
   ]
  },
  {
   "cell_type": "code",
   "execution_count": 43,
   "metadata": {},
   "outputs": [],
   "source": [
    "import pandas as pd \n",
    "import numpy as np  \n",
    "import matplotlib.pyplot as plt \n",
    "import seaborn as sns\n",
    "from sklearn.preprocessing import StandardScaler\n",
    "\n",
    "%matplotlib inline  \n",
    "plt.style.use('fivethirtyeight')"
   ]
  },
  {
   "cell_type": "markdown",
   "metadata": {},
   "source": [
    "# 2. Data Cleaning <a class=\"anchor\" id=\"2\"></a>"
   ]
  },
  {
   "cell_type": "markdown",
   "metadata": {},
   "source": [
    "## 2.1. Identifying Missing Values <a class=\"anchor\" id=\"21\"></a>"
   ]
  },
  {
   "cell_type": "code",
   "execution_count": 44,
   "metadata": {},
   "outputs": [],
   "source": [
    "df = pd.read_csv('data/raw_training_data.csv')"
   ]
  },
  {
   "cell_type": "code",
   "execution_count": 45,
   "metadata": {},
   "outputs": [],
   "source": [
    "categorical_features = ['company','country','director','genre','rating','released','star','year',\n",
    "                        'writer','adult','original_title','overview','tagline','title','genres_edited',\n",
    "                        'spoken_languages_edited','production_countries_edited','keywords_edited']\n",
    "continuous_features = ['budget']\n",
    "target_features = ['isprofit','profitability_ratio']"
   ]
  },
  {
   "cell_type": "code",
   "execution_count": 46,
   "metadata": {},
   "outputs": [
    {
     "data": {
      "text/plain": [
       "(3524, 28)"
      ]
     },
     "execution_count": 46,
     "metadata": {},
     "output_type": "execute_result"
    }
   ],
   "source": [
    "df.shape # (# rows, # cols)"
   ]
  },
  {
   "cell_type": "code",
   "execution_count": 47,
   "metadata": {},
   "outputs": [
    {
     "data": {
      "text/html": [
       "<div>\n",
       "<style scoped>\n",
       "    .dataframe tbody tr th:only-of-type {\n",
       "        vertical-align: middle;\n",
       "    }\n",
       "\n",
       "    .dataframe tbody tr th {\n",
       "        vertical-align: top;\n",
       "    }\n",
       "\n",
       "    .dataframe thead th {\n",
       "        text-align: right;\n",
       "    }\n",
       "</style>\n",
       "<table border=\"1\" class=\"dataframe\">\n",
       "  <thead>\n",
       "    <tr style=\"text-align: right;\">\n",
       "      <th></th>\n",
       "      <th>Unnamed: 0</th>\n",
       "      <th>budget</th>\n",
       "      <th>company</th>\n",
       "      <th>country</th>\n",
       "      <th>director</th>\n",
       "      <th>genre</th>\n",
       "      <th>gross</th>\n",
       "      <th>name</th>\n",
       "      <th>rating</th>\n",
       "      <th>released</th>\n",
       "      <th>...</th>\n",
       "      <th>imdb_id</th>\n",
       "      <th>original_title</th>\n",
       "      <th>overview</th>\n",
       "      <th>tagline</th>\n",
       "      <th>title</th>\n",
       "      <th>genres_edited</th>\n",
       "      <th>spoken_languages_edited</th>\n",
       "      <th>production_countries_edited</th>\n",
       "      <th>keywords_edited</th>\n",
       "      <th>year_released</th>\n",
       "    </tr>\n",
       "  </thead>\n",
       "  <tbody>\n",
       "    <tr>\n",
       "      <th>0</th>\n",
       "      <td>0</td>\n",
       "      <td>8000000</td>\n",
       "      <td>Columbia Pictures Corporation</td>\n",
       "      <td>USA</td>\n",
       "      <td>Rob Reiner</td>\n",
       "      <td>Adventure</td>\n",
       "      <td>52287414</td>\n",
       "      <td>Stand by Me</td>\n",
       "      <td>R</td>\n",
       "      <td>22.08.1986 00:00</td>\n",
       "      <td>...</td>\n",
       "      <td>tt0092005</td>\n",
       "      <td>Stand by Me</td>\n",
       "      <td>After the death of a friend, a writer recounts...</td>\n",
       "      <td>For some, it's the last real taste of innocenc...</td>\n",
       "      <td>Stand by Me</td>\n",
       "      <td>Crime, Drama</td>\n",
       "      <td>en</td>\n",
       "      <td>US</td>\n",
       "      <td>based on novel, friendship, coming of age, rai...</td>\n",
       "      <td>1986</td>\n",
       "    </tr>\n",
       "    <tr>\n",
       "      <th>1</th>\n",
       "      <td>1</td>\n",
       "      <td>6000000</td>\n",
       "      <td>Paramount Pictures</td>\n",
       "      <td>USA</td>\n",
       "      <td>Other</td>\n",
       "      <td>Comedy</td>\n",
       "      <td>70136369</td>\n",
       "      <td>Ferris Bueller's Day Off</td>\n",
       "      <td>PG-13</td>\n",
       "      <td>11.06.1986 00:00</td>\n",
       "      <td>...</td>\n",
       "      <td>tt0091042</td>\n",
       "      <td>Ferris Bueller's Day Off</td>\n",
       "      <td>Charismatic teen Ferris Bueller plays hooky in...</td>\n",
       "      <td>One man's struggle to take it easy.</td>\n",
       "      <td>Ferris Bueller's Day Off</td>\n",
       "      <td>Comedy</td>\n",
       "      <td>en</td>\n",
       "      <td>US</td>\n",
       "      <td>chicago, high school, aftercreditsstinger, dur...</td>\n",
       "      <td>1986</td>\n",
       "    </tr>\n",
       "    <tr>\n",
       "      <th>2</th>\n",
       "      <td>2</td>\n",
       "      <td>15000000</td>\n",
       "      <td>Paramount Pictures</td>\n",
       "      <td>USA</td>\n",
       "      <td>Other</td>\n",
       "      <td>Action</td>\n",
       "      <td>179800601</td>\n",
       "      <td>Top Gun</td>\n",
       "      <td>PG</td>\n",
       "      <td>16.05.1986 00:00</td>\n",
       "      <td>...</td>\n",
       "      <td>tt0092099</td>\n",
       "      <td>Top Gun</td>\n",
       "      <td>For Lieutenant Pete 'Maverick' Mitchell and hi...</td>\n",
       "      <td>Up there with the best of the best.</td>\n",
       "      <td>Top Gun</td>\n",
       "      <td>Action, Romance, War</td>\n",
       "      <td>en</td>\n",
       "      <td>US</td>\n",
       "      <td>lovesickness, loss of lover, fighter pilot, se...</td>\n",
       "      <td>1986</td>\n",
       "    </tr>\n",
       "    <tr>\n",
       "      <th>3</th>\n",
       "      <td>3</td>\n",
       "      <td>18500000</td>\n",
       "      <td>Twentieth Century Fox Film Corporation</td>\n",
       "      <td>USA</td>\n",
       "      <td>Other</td>\n",
       "      <td>Action</td>\n",
       "      <td>85160248</td>\n",
       "      <td>Aliens</td>\n",
       "      <td>R</td>\n",
       "      <td>18.07.1986 00:00</td>\n",
       "      <td>...</td>\n",
       "      <td>tt0090605</td>\n",
       "      <td>Aliens</td>\n",
       "      <td>When Ripley's lifepod is found by a salvage cr...</td>\n",
       "      <td>This Time It's War</td>\n",
       "      <td>Aliens</td>\n",
       "      <td>Horror, Action, Thriller, Science Fiction</td>\n",
       "      <td>en</td>\n",
       "      <td>GB, US</td>\n",
       "      <td>android, extraterrestrial technology, space ma...</td>\n",
       "      <td>1986</td>\n",
       "    </tr>\n",
       "    <tr>\n",
       "      <th>4</th>\n",
       "      <td>4</td>\n",
       "      <td>9000000</td>\n",
       "      <td>Walt Disney Pictures</td>\n",
       "      <td>USA</td>\n",
       "      <td>Other</td>\n",
       "      <td>Adventure</td>\n",
       "      <td>18564613</td>\n",
       "      <td>Flight of the Navigator</td>\n",
       "      <td>PG</td>\n",
       "      <td>1.08.1986 00:00</td>\n",
       "      <td>...</td>\n",
       "      <td>tt0091059</td>\n",
       "      <td>Flight of the Navigator</td>\n",
       "      <td>This 1986 Disney adventure tells the story of ...</td>\n",
       "      <td>Come along on the greatest adventure of the su...</td>\n",
       "      <td>Flight of the Navigator</td>\n",
       "      <td>Family, Science Fiction, Adventure</td>\n",
       "      <td>en</td>\n",
       "      <td>US</td>\n",
       "      <td>artificial intelligence, farewell, homesicknes...</td>\n",
       "      <td>1986</td>\n",
       "    </tr>\n",
       "  </tbody>\n",
       "</table>\n",
       "<p>5 rows × 28 columns</p>\n",
       "</div>"
      ],
      "text/plain": [
       "   Unnamed: 0    budget                                 company country  \\\n",
       "0           0   8000000           Columbia Pictures Corporation     USA   \n",
       "1           1   6000000                      Paramount Pictures     USA   \n",
       "2           2  15000000                      Paramount Pictures     USA   \n",
       "3           3  18500000  Twentieth Century Fox Film Corporation     USA   \n",
       "4           4   9000000                    Walt Disney Pictures     USA   \n",
       "\n",
       "     director      genre      gross                      name rating  \\\n",
       "0  Rob Reiner  Adventure   52287414               Stand by Me      R   \n",
       "1       Other     Comedy   70136369  Ferris Bueller's Day Off  PG-13   \n",
       "2       Other     Action  179800601                   Top Gun     PG   \n",
       "3       Other     Action   85160248                    Aliens      R   \n",
       "4       Other  Adventure   18564613   Flight of the Navigator     PG   \n",
       "\n",
       "           released  ...    imdb_id            original_title  \\\n",
       "0  22.08.1986 00:00  ...  tt0092005               Stand by Me   \n",
       "1  11.06.1986 00:00  ...  tt0091042  Ferris Bueller's Day Off   \n",
       "2  16.05.1986 00:00  ...  tt0092099                   Top Gun   \n",
       "3  18.07.1986 00:00  ...  tt0090605                    Aliens   \n",
       "4   1.08.1986 00:00  ...  tt0091059   Flight of the Navigator   \n",
       "\n",
       "                                            overview  \\\n",
       "0  After the death of a friend, a writer recounts...   \n",
       "1  Charismatic teen Ferris Bueller plays hooky in...   \n",
       "2  For Lieutenant Pete 'Maverick' Mitchell and hi...   \n",
       "3  When Ripley's lifepod is found by a salvage cr...   \n",
       "4  This 1986 Disney adventure tells the story of ...   \n",
       "\n",
       "                                             tagline  \\\n",
       "0  For some, it's the last real taste of innocenc...   \n",
       "1                One man's struggle to take it easy.   \n",
       "2                Up there with the best of the best.   \n",
       "3                                 This Time It's War   \n",
       "4  Come along on the greatest adventure of the su...   \n",
       "\n",
       "                      title                              genres_edited  \\\n",
       "0               Stand by Me                               Crime, Drama   \n",
       "1  Ferris Bueller's Day Off                                     Comedy   \n",
       "2                   Top Gun                       Action, Romance, War   \n",
       "3                    Aliens  Horror, Action, Thriller, Science Fiction   \n",
       "4   Flight of the Navigator         Family, Science Fiction, Adventure   \n",
       "\n",
       "  spoken_languages_edited  production_countries_edited  \\\n",
       "0                      en                           US   \n",
       "1                      en                           US   \n",
       "2                      en                           US   \n",
       "3                      en                       GB, US   \n",
       "4                      en                           US   \n",
       "\n",
       "                                     keywords_edited year_released  \n",
       "0  based on novel, friendship, coming of age, rai...          1986  \n",
       "1  chicago, high school, aftercreditsstinger, dur...          1986  \n",
       "2  lovesickness, loss of lover, fighter pilot, se...          1986  \n",
       "3  android, extraterrestrial technology, space ma...          1986  \n",
       "4  artificial intelligence, farewell, homesicknes...          1986  \n",
       "\n",
       "[5 rows x 28 columns]"
      ]
     },
     "execution_count": 47,
     "metadata": {},
     "output_type": "execute_result"
    }
   ],
   "source": [
    "df.head() # take a peak at the dataset"
   ]
  },
  {
   "cell_type": "code",
   "execution_count": 48,
   "metadata": {},
   "outputs": [],
   "source": [
    "del df['Unnamed: 0']"
   ]
  },
  {
   "cell_type": "code",
   "execution_count": 49,
   "metadata": {},
   "outputs": [
    {
     "name": "stdout",
     "output_type": "stream",
     "text": [
      "<class 'pandas.core.frame.DataFrame'>\n",
      "RangeIndex: 3524 entries, 0 to 3523\n",
      "Data columns (total 27 columns):\n",
      " #   Column                       Non-Null Count  Dtype  \n",
      "---  ------                       --------------  -----  \n",
      " 0   budget                       3524 non-null   int64  \n",
      " 1   company                      3524 non-null   object \n",
      " 2   country                      3524 non-null   object \n",
      " 3   director                     3524 non-null   object \n",
      " 4   genre                        3524 non-null   object \n",
      " 5   gross                        3524 non-null   int64  \n",
      " 6   name                         3524 non-null   object \n",
      " 7   rating                       3524 non-null   object \n",
      " 8   released                     3524 non-null   object \n",
      " 9   star                         3524 non-null   object \n",
      " 10  writer                       3524 non-null   object \n",
      " 11  year                         3524 non-null   int64  \n",
      " 12  isprofit                     3524 non-null   int64  \n",
      " 13  profitability_ratio          3524 non-null   float64\n",
      " 14  profitability_ratio_bucket   3524 non-null   int64  \n",
      " 15  adult                        3524 non-null   object \n",
      " 16  id                           3524 non-null   int64  \n",
      " 17  imdb_id                      3524 non-null   object \n",
      " 18  original_title               3524 non-null   object \n",
      " 19  overview                     3523 non-null   object \n",
      " 20  tagline                      3153 non-null   object \n",
      " 21  title                        3524 non-null   object \n",
      " 22  genres_edited                3524 non-null   object \n",
      " 23  spoken_languages_edited      3517 non-null   object \n",
      " 24  production_countries_edited  3493 non-null   object \n",
      " 25  keywords_edited              3357 non-null   object \n",
      " 26  year_released                3524 non-null   int64  \n",
      "dtypes: float64(1), int64(7), object(19)\n",
      "memory usage: 481.9+ KB\n"
     ]
    }
   ],
   "source": [
    "df.info()"
   ]
  },
  {
   "cell_type": "code",
   "execution_count": 50,
   "metadata": {},
   "outputs": [
    {
     "data": {
      "text/plain": [
       "budget                           0\n",
       "company                          0\n",
       "country                          0\n",
       "director                         0\n",
       "genre                            0\n",
       "gross                            0\n",
       "name                             0\n",
       "rating                           0\n",
       "released                         0\n",
       "star                             0\n",
       "writer                           0\n",
       "year                             0\n",
       "isprofit                         0\n",
       "profitability_ratio              0\n",
       "profitability_ratio_bucket       0\n",
       "adult                            0\n",
       "id                               0\n",
       "imdb_id                          0\n",
       "original_title                   0\n",
       "overview                         1\n",
       "tagline                        371\n",
       "title                            0\n",
       "genres_edited                    0\n",
       "spoken_languages_edited          7\n",
       "production_countries_edited     31\n",
       "keywords_edited                167\n",
       "year_released                    0\n",
       "dtype: int64"
      ]
     },
     "execution_count": 50,
     "metadata": {},
     "output_type": "execute_result"
    }
   ],
   "source": [
    "df.isnull().sum()"
   ]
  },
  {
   "cell_type": "code",
   "execution_count": 51,
   "metadata": {},
   "outputs": [
    {
     "data": {
      "text/html": [
       "<div>\n",
       "<style scoped>\n",
       "    .dataframe tbody tr th:only-of-type {\n",
       "        vertical-align: middle;\n",
       "    }\n",
       "\n",
       "    .dataframe tbody tr th {\n",
       "        vertical-align: top;\n",
       "    }\n",
       "\n",
       "    .dataframe thead th {\n",
       "        text-align: right;\n",
       "    }\n",
       "</style>\n",
       "<table border=\"1\" class=\"dataframe\">\n",
       "  <thead>\n",
       "    <tr style=\"text-align: right;\">\n",
       "      <th></th>\n",
       "      <th>budget</th>\n",
       "      <th>gross</th>\n",
       "      <th>year</th>\n",
       "      <th>isprofit</th>\n",
       "      <th>profitability_ratio</th>\n",
       "      <th>profitability_ratio_bucket</th>\n",
       "      <th>id</th>\n",
       "      <th>year_released</th>\n",
       "    </tr>\n",
       "  </thead>\n",
       "  <tbody>\n",
       "    <tr>\n",
       "      <th>count</th>\n",
       "      <td>3.524000e+03</td>\n",
       "      <td>3.524000e+03</td>\n",
       "      <td>3524.000000</td>\n",
       "      <td>3524.000000</td>\n",
       "      <td>3524.000000</td>\n",
       "      <td>3524.000000</td>\n",
       "      <td>3524.000000</td>\n",
       "      <td>3524.000000</td>\n",
       "    </tr>\n",
       "    <tr>\n",
       "      <th>mean</th>\n",
       "      <td>3.646837e+07</td>\n",
       "      <td>4.772520e+07</td>\n",
       "      <td>1997.125709</td>\n",
       "      <td>0.510499</td>\n",
       "      <td>3.996876</td>\n",
       "      <td>399.602157</td>\n",
       "      <td>45443.112656</td>\n",
       "      <td>2002.385641</td>\n",
       "    </tr>\n",
       "    <tr>\n",
       "      <th>std</th>\n",
       "      <td>4.063369e+07</td>\n",
       "      <td>6.707121e+07</td>\n",
       "      <td>101.418026</td>\n",
       "      <td>0.499961</td>\n",
       "      <td>127.868810</td>\n",
       "      <td>12786.904323</td>\n",
       "      <td>77014.289184</td>\n",
       "      <td>8.422442</td>\n",
       "    </tr>\n",
       "    <tr>\n",
       "      <th>min</th>\n",
       "      <td>0.000000e+00</td>\n",
       "      <td>0.000000e+00</td>\n",
       "      <td>0.000000</td>\n",
       "      <td>0.000000</td>\n",
       "      <td>-0.999979</td>\n",
       "      <td>-100.000000</td>\n",
       "      <td>0.000000</td>\n",
       "      <td>1986.000000</td>\n",
       "    </tr>\n",
       "    <tr>\n",
       "      <th>25%</th>\n",
       "      <td>1.000000e+07</td>\n",
       "      <td>6.955428e+06</td>\n",
       "      <td>1996.000000</td>\n",
       "      <td>0.000000</td>\n",
       "      <td>-0.552571</td>\n",
       "      <td>-60.000000</td>\n",
       "      <td>8864.750000</td>\n",
       "      <td>1996.000000</td>\n",
       "    </tr>\n",
       "    <tr>\n",
       "      <th>50%</th>\n",
       "      <td>2.300000e+07</td>\n",
       "      <td>2.511110e+07</td>\n",
       "      <td>2002.000000</td>\n",
       "      <td>1.000000</td>\n",
       "      <td>0.020240</td>\n",
       "      <td>0.000000</td>\n",
       "      <td>12513.500000</td>\n",
       "      <td>2003.000000</td>\n",
       "    </tr>\n",
       "    <tr>\n",
       "      <th>75%</th>\n",
       "      <td>4.800000e+07</td>\n",
       "      <td>6.036672e+07</td>\n",
       "      <td>2009.000000</td>\n",
       "      <td>1.000000</td>\n",
       "      <td>1.029155</td>\n",
       "      <td>100.000000</td>\n",
       "      <td>41220.250000</td>\n",
       "      <td>2010.000000</td>\n",
       "    </tr>\n",
       "    <tr>\n",
       "      <th>max</th>\n",
       "      <td>3.000000e+08</td>\n",
       "      <td>9.366622e+08</td>\n",
       "      <td>2016.000000</td>\n",
       "      <td>1.000000</td>\n",
       "      <td>7193.587333</td>\n",
       "      <td>719360.000000</td>\n",
       "      <td>404378.000000</td>\n",
       "      <td>2017.000000</td>\n",
       "    </tr>\n",
       "  </tbody>\n",
       "</table>\n",
       "</div>"
      ],
      "text/plain": [
       "             budget         gross         year     isprofit  \\\n",
       "count  3.524000e+03  3.524000e+03  3524.000000  3524.000000   \n",
       "mean   3.646837e+07  4.772520e+07  1997.125709     0.510499   \n",
       "std    4.063369e+07  6.707121e+07   101.418026     0.499961   \n",
       "min    0.000000e+00  0.000000e+00     0.000000     0.000000   \n",
       "25%    1.000000e+07  6.955428e+06  1996.000000     0.000000   \n",
       "50%    2.300000e+07  2.511110e+07  2002.000000     1.000000   \n",
       "75%    4.800000e+07  6.036672e+07  2009.000000     1.000000   \n",
       "max    3.000000e+08  9.366622e+08  2016.000000     1.000000   \n",
       "\n",
       "       profitability_ratio  profitability_ratio_bucket             id  \\\n",
       "count          3524.000000                 3524.000000    3524.000000   \n",
       "mean              3.996876                  399.602157   45443.112656   \n",
       "std             127.868810                12786.904323   77014.289184   \n",
       "min              -0.999979                 -100.000000       0.000000   \n",
       "25%              -0.552571                  -60.000000    8864.750000   \n",
       "50%               0.020240                    0.000000   12513.500000   \n",
       "75%               1.029155                  100.000000   41220.250000   \n",
       "max            7193.587333               719360.000000  404378.000000   \n",
       "\n",
       "       year_released  \n",
       "count    3524.000000  \n",
       "mean     2002.385641  \n",
       "std         8.422442  \n",
       "min      1986.000000  \n",
       "25%      1996.000000  \n",
       "50%      2003.000000  \n",
       "75%      2010.000000  \n",
       "max      2017.000000  "
      ]
     },
     "execution_count": 51,
     "metadata": {},
     "output_type": "execute_result"
    }
   ],
   "source": [
    "df.describe()   # before replacing zero with None"
   ]
  },
  {
   "cell_type": "markdown",
   "metadata": {},
   "source": [
    "## 2.2. Dealing with Missing Values <a class=\"anchor\" id=\"22\"></a>"
   ]
  },
  {
   "cell_type": "markdown",
   "metadata": {},
   "source": [
    "By observing the data, we see that only the following columns need initial transformation to replace zeros with the value None:\n",
    "* overview\n",
    "* tagline\n",
    "* spoken_languages_edited\n",
    "* production_countries_edited\n",
    "* keywords_edited\n",
    "\n",
    "And the remaining features do not have to change since they do not contain zero values."
   ]
  },
  {
   "cell_type": "code",
   "execution_count": 52,
   "metadata": {},
   "outputs": [],
   "source": [
    "df['overview'] = df['overview'].map(lambda x:x if x != 0 else None)\n",
    "df['tagline'] = df['tagline'].map(lambda x:x if x != 0 else None)\n",
    "df['spoken_languages_edited'] = df['spoken_languages_edited'].map(lambda x:x if x != 0 else None)\n",
    "df['production_countries_edited'] = df['production_countries_edited'].map(lambda x:x if x != 0 else None)\n",
    "df['keywords_edited'] = df['keywords_edited'].map(lambda x:x if x != 0 else None)"
   ]
  },
  {
   "cell_type": "code",
   "execution_count": 53,
   "metadata": {},
   "outputs": [
    {
     "data": {
      "text/html": [
       "<div>\n",
       "<style scoped>\n",
       "    .dataframe tbody tr th:only-of-type {\n",
       "        vertical-align: middle;\n",
       "    }\n",
       "\n",
       "    .dataframe tbody tr th {\n",
       "        vertical-align: top;\n",
       "    }\n",
       "\n",
       "    .dataframe thead th {\n",
       "        text-align: right;\n",
       "    }\n",
       "</style>\n",
       "<table border=\"1\" class=\"dataframe\">\n",
       "  <thead>\n",
       "    <tr style=\"text-align: right;\">\n",
       "      <th></th>\n",
       "      <th>budget</th>\n",
       "      <th>company</th>\n",
       "      <th>country</th>\n",
       "      <th>director</th>\n",
       "      <th>genre</th>\n",
       "      <th>gross</th>\n",
       "      <th>name</th>\n",
       "      <th>rating</th>\n",
       "      <th>released</th>\n",
       "      <th>star</th>\n",
       "      <th>...</th>\n",
       "      <th>imdb_id</th>\n",
       "      <th>original_title</th>\n",
       "      <th>overview</th>\n",
       "      <th>tagline</th>\n",
       "      <th>title</th>\n",
       "      <th>genres_edited</th>\n",
       "      <th>spoken_languages_edited</th>\n",
       "      <th>production_countries_edited</th>\n",
       "      <th>keywords_edited</th>\n",
       "      <th>year_released</th>\n",
       "    </tr>\n",
       "  </thead>\n",
       "  <tbody>\n",
       "    <tr>\n",
       "      <th>0</th>\n",
       "      <td>8000000</td>\n",
       "      <td>Columbia Pictures Corporation</td>\n",
       "      <td>USA</td>\n",
       "      <td>Rob Reiner</td>\n",
       "      <td>Adventure</td>\n",
       "      <td>52287414</td>\n",
       "      <td>Stand by Me</td>\n",
       "      <td>R</td>\n",
       "      <td>22.08.1986 00:00</td>\n",
       "      <td>Wil Wheaton</td>\n",
       "      <td>...</td>\n",
       "      <td>tt0092005</td>\n",
       "      <td>Stand by Me</td>\n",
       "      <td>After the death of a friend, a writer recounts...</td>\n",
       "      <td>For some, it's the last real taste of innocenc...</td>\n",
       "      <td>Stand by Me</td>\n",
       "      <td>Crime, Drama</td>\n",
       "      <td>en</td>\n",
       "      <td>US</td>\n",
       "      <td>based on novel, friendship, coming of age, rai...</td>\n",
       "      <td>1986</td>\n",
       "    </tr>\n",
       "    <tr>\n",
       "      <th>1</th>\n",
       "      <td>6000000</td>\n",
       "      <td>Paramount Pictures</td>\n",
       "      <td>USA</td>\n",
       "      <td>Other</td>\n",
       "      <td>Comedy</td>\n",
       "      <td>70136369</td>\n",
       "      <td>Ferris Bueller's Day Off</td>\n",
       "      <td>PG-13</td>\n",
       "      <td>11.06.1986 00:00</td>\n",
       "      <td>Matthew Broderick</td>\n",
       "      <td>...</td>\n",
       "      <td>tt0091042</td>\n",
       "      <td>Ferris Bueller's Day Off</td>\n",
       "      <td>Charismatic teen Ferris Bueller plays hooky in...</td>\n",
       "      <td>One man's struggle to take it easy.</td>\n",
       "      <td>Ferris Bueller's Day Off</td>\n",
       "      <td>Comedy</td>\n",
       "      <td>en</td>\n",
       "      <td>US</td>\n",
       "      <td>chicago, high school, aftercreditsstinger, dur...</td>\n",
       "      <td>1986</td>\n",
       "    </tr>\n",
       "    <tr>\n",
       "      <th>2</th>\n",
       "      <td>15000000</td>\n",
       "      <td>Paramount Pictures</td>\n",
       "      <td>USA</td>\n",
       "      <td>Other</td>\n",
       "      <td>Action</td>\n",
       "      <td>179800601</td>\n",
       "      <td>Top Gun</td>\n",
       "      <td>PG</td>\n",
       "      <td>16.05.1986 00:00</td>\n",
       "      <td>Tom Cruise</td>\n",
       "      <td>...</td>\n",
       "      <td>tt0092099</td>\n",
       "      <td>Top Gun</td>\n",
       "      <td>For Lieutenant Pete 'Maverick' Mitchell and hi...</td>\n",
       "      <td>Up there with the best of the best.</td>\n",
       "      <td>Top Gun</td>\n",
       "      <td>Action, Romance, War</td>\n",
       "      <td>en</td>\n",
       "      <td>US</td>\n",
       "      <td>lovesickness, loss of lover, fighter pilot, se...</td>\n",
       "      <td>1986</td>\n",
       "    </tr>\n",
       "    <tr>\n",
       "      <th>3</th>\n",
       "      <td>18500000</td>\n",
       "      <td>Twentieth Century Fox Film Corporation</td>\n",
       "      <td>USA</td>\n",
       "      <td>Other</td>\n",
       "      <td>Action</td>\n",
       "      <td>85160248</td>\n",
       "      <td>Aliens</td>\n",
       "      <td>R</td>\n",
       "      <td>18.07.1986 00:00</td>\n",
       "      <td>Sigourney Weaver</td>\n",
       "      <td>...</td>\n",
       "      <td>tt0090605</td>\n",
       "      <td>Aliens</td>\n",
       "      <td>When Ripley's lifepod is found by a salvage cr...</td>\n",
       "      <td>This Time It's War</td>\n",
       "      <td>Aliens</td>\n",
       "      <td>Horror, Action, Thriller, Science Fiction</td>\n",
       "      <td>en</td>\n",
       "      <td>GB, US</td>\n",
       "      <td>android, extraterrestrial technology, space ma...</td>\n",
       "      <td>1986</td>\n",
       "    </tr>\n",
       "    <tr>\n",
       "      <th>4</th>\n",
       "      <td>9000000</td>\n",
       "      <td>Walt Disney Pictures</td>\n",
       "      <td>USA</td>\n",
       "      <td>Other</td>\n",
       "      <td>Adventure</td>\n",
       "      <td>18564613</td>\n",
       "      <td>Flight of the Navigator</td>\n",
       "      <td>PG</td>\n",
       "      <td>1.08.1986 00:00</td>\n",
       "      <td>Joey Cramer</td>\n",
       "      <td>...</td>\n",
       "      <td>tt0091059</td>\n",
       "      <td>Flight of the Navigator</td>\n",
       "      <td>This 1986 Disney adventure tells the story of ...</td>\n",
       "      <td>Come along on the greatest adventure of the su...</td>\n",
       "      <td>Flight of the Navigator</td>\n",
       "      <td>Family, Science Fiction, Adventure</td>\n",
       "      <td>en</td>\n",
       "      <td>US</td>\n",
       "      <td>artificial intelligence, farewell, homesicknes...</td>\n",
       "      <td>1986</td>\n",
       "    </tr>\n",
       "  </tbody>\n",
       "</table>\n",
       "<p>5 rows × 27 columns</p>\n",
       "</div>"
      ],
      "text/plain": [
       "     budget                                 company country    director  \\\n",
       "0   8000000           Columbia Pictures Corporation     USA  Rob Reiner   \n",
       "1   6000000                      Paramount Pictures     USA       Other   \n",
       "2  15000000                      Paramount Pictures     USA       Other   \n",
       "3  18500000  Twentieth Century Fox Film Corporation     USA       Other   \n",
       "4   9000000                    Walt Disney Pictures     USA       Other   \n",
       "\n",
       "       genre      gross                      name rating          released  \\\n",
       "0  Adventure   52287414               Stand by Me      R  22.08.1986 00:00   \n",
       "1     Comedy   70136369  Ferris Bueller's Day Off  PG-13  11.06.1986 00:00   \n",
       "2     Action  179800601                   Top Gun     PG  16.05.1986 00:00   \n",
       "3     Action   85160248                    Aliens      R  18.07.1986 00:00   \n",
       "4  Adventure   18564613   Flight of the Navigator     PG   1.08.1986 00:00   \n",
       "\n",
       "                star  ...    imdb_id            original_title  \\\n",
       "0        Wil Wheaton  ...  tt0092005               Stand by Me   \n",
       "1  Matthew Broderick  ...  tt0091042  Ferris Bueller's Day Off   \n",
       "2         Tom Cruise  ...  tt0092099                   Top Gun   \n",
       "3   Sigourney Weaver  ...  tt0090605                    Aliens   \n",
       "4        Joey Cramer  ...  tt0091059   Flight of the Navigator   \n",
       "\n",
       "                                            overview  \\\n",
       "0  After the death of a friend, a writer recounts...   \n",
       "1  Charismatic teen Ferris Bueller plays hooky in...   \n",
       "2  For Lieutenant Pete 'Maverick' Mitchell and hi...   \n",
       "3  When Ripley's lifepod is found by a salvage cr...   \n",
       "4  This 1986 Disney adventure tells the story of ...   \n",
       "\n",
       "                                             tagline  \\\n",
       "0  For some, it's the last real taste of innocenc...   \n",
       "1                One man's struggle to take it easy.   \n",
       "2                Up there with the best of the best.   \n",
       "3                                 This Time It's War   \n",
       "4  Come along on the greatest adventure of the su...   \n",
       "\n",
       "                      title                              genres_edited  \\\n",
       "0               Stand by Me                               Crime, Drama   \n",
       "1  Ferris Bueller's Day Off                                     Comedy   \n",
       "2                   Top Gun                       Action, Romance, War   \n",
       "3                    Aliens  Horror, Action, Thriller, Science Fiction   \n",
       "4   Flight of the Navigator         Family, Science Fiction, Adventure   \n",
       "\n",
       "   spoken_languages_edited production_countries_edited  \\\n",
       "0                       en                          US   \n",
       "1                       en                          US   \n",
       "2                       en                          US   \n",
       "3                       en                      GB, US   \n",
       "4                       en                          US   \n",
       "\n",
       "                                     keywords_edited year_released  \n",
       "0  based on novel, friendship, coming of age, rai...          1986  \n",
       "1  chicago, high school, aftercreditsstinger, dur...          1986  \n",
       "2  lovesickness, loss of lover, fighter pilot, se...          1986  \n",
       "3  android, extraterrestrial technology, space ma...          1986  \n",
       "4  artificial intelligence, farewell, homesicknes...          1986  \n",
       "\n",
       "[5 rows x 27 columns]"
      ]
     },
     "execution_count": 53,
     "metadata": {},
     "output_type": "execute_result"
    }
   ],
   "source": [
    "df.head()   # take a peak at the dataset"
   ]
  },
  {
   "cell_type": "code",
   "execution_count": 54,
   "metadata": {},
   "outputs": [
    {
     "name": "stdout",
     "output_type": "stream",
     "text": [
      "<class 'pandas.core.frame.DataFrame'>\n",
      "RangeIndex: 3524 entries, 0 to 3523\n",
      "Data columns (total 27 columns):\n",
      " #   Column                       Non-Null Count  Dtype  \n",
      "---  ------                       --------------  -----  \n",
      " 0   budget                       3524 non-null   int64  \n",
      " 1   company                      3524 non-null   object \n",
      " 2   country                      3524 non-null   object \n",
      " 3   director                     3524 non-null   object \n",
      " 4   genre                        3524 non-null   object \n",
      " 5   gross                        3524 non-null   int64  \n",
      " 6   name                         3524 non-null   object \n",
      " 7   rating                       3524 non-null   object \n",
      " 8   released                     3524 non-null   object \n",
      " 9   star                         3524 non-null   object \n",
      " 10  writer                       3524 non-null   object \n",
      " 11  year                         3524 non-null   int64  \n",
      " 12  isprofit                     3524 non-null   int64  \n",
      " 13  profitability_ratio          3524 non-null   float64\n",
      " 14  profitability_ratio_bucket   3524 non-null   int64  \n",
      " 15  adult                        3524 non-null   object \n",
      " 16  id                           3524 non-null   int64  \n",
      " 17  imdb_id                      3524 non-null   object \n",
      " 18  original_title               3524 non-null   object \n",
      " 19  overview                     3523 non-null   object \n",
      " 20  tagline                      3153 non-null   object \n",
      " 21  title                        3524 non-null   object \n",
      " 22  genres_edited                3524 non-null   object \n",
      " 23  spoken_languages_edited      3517 non-null   object \n",
      " 24  production_countries_edited  3493 non-null   object \n",
      " 25  keywords_edited              3357 non-null   object \n",
      " 26  year_released                3524 non-null   int64  \n",
      "dtypes: float64(1), int64(7), object(19)\n",
      "memory usage: 481.9+ KB\n"
     ]
    }
   ],
   "source": [
    "df.info()"
   ]
  },
  {
   "cell_type": "code",
   "execution_count": 55,
   "metadata": {},
   "outputs": [
    {
     "data": {
      "text/plain": [
       "budget                           0\n",
       "company                          0\n",
       "country                          0\n",
       "director                         0\n",
       "genre                            0\n",
       "gross                            0\n",
       "name                             0\n",
       "rating                           0\n",
       "released                         0\n",
       "star                             0\n",
       "writer                           0\n",
       "year                             0\n",
       "isprofit                         0\n",
       "profitability_ratio              0\n",
       "profitability_ratio_bucket       0\n",
       "adult                            0\n",
       "id                               0\n",
       "imdb_id                          0\n",
       "original_title                   0\n",
       "overview                         1\n",
       "tagline                        371\n",
       "title                            0\n",
       "genres_edited                    0\n",
       "spoken_languages_edited          7\n",
       "production_countries_edited     31\n",
       "keywords_edited                167\n",
       "year_released                    0\n",
       "dtype: int64"
      ]
     },
     "execution_count": 55,
     "metadata": {},
     "output_type": "execute_result"
    }
   ],
   "source": [
    "df.isnull().sum()"
   ]
  },
  {
   "cell_type": "code",
   "execution_count": 56,
   "metadata": {},
   "outputs": [
    {
     "data": {
      "text/html": [
       "<div>\n",
       "<style scoped>\n",
       "    .dataframe tbody tr th:only-of-type {\n",
       "        vertical-align: middle;\n",
       "    }\n",
       "\n",
       "    .dataframe tbody tr th {\n",
       "        vertical-align: top;\n",
       "    }\n",
       "\n",
       "    .dataframe thead th {\n",
       "        text-align: right;\n",
       "    }\n",
       "</style>\n",
       "<table border=\"1\" class=\"dataframe\">\n",
       "  <thead>\n",
       "    <tr style=\"text-align: right;\">\n",
       "      <th></th>\n",
       "      <th>budget</th>\n",
       "      <th>gross</th>\n",
       "      <th>year</th>\n",
       "      <th>isprofit</th>\n",
       "      <th>profitability_ratio</th>\n",
       "      <th>profitability_ratio_bucket</th>\n",
       "      <th>id</th>\n",
       "      <th>year_released</th>\n",
       "    </tr>\n",
       "  </thead>\n",
       "  <tbody>\n",
       "    <tr>\n",
       "      <th>count</th>\n",
       "      <td>3.524000e+03</td>\n",
       "      <td>3.524000e+03</td>\n",
       "      <td>3524.000000</td>\n",
       "      <td>3524.000000</td>\n",
       "      <td>3524.000000</td>\n",
       "      <td>3524.000000</td>\n",
       "      <td>3524.000000</td>\n",
       "      <td>3524.000000</td>\n",
       "    </tr>\n",
       "    <tr>\n",
       "      <th>mean</th>\n",
       "      <td>3.646837e+07</td>\n",
       "      <td>4.772520e+07</td>\n",
       "      <td>1997.125709</td>\n",
       "      <td>0.510499</td>\n",
       "      <td>3.996876</td>\n",
       "      <td>399.602157</td>\n",
       "      <td>45443.112656</td>\n",
       "      <td>2002.385641</td>\n",
       "    </tr>\n",
       "    <tr>\n",
       "      <th>std</th>\n",
       "      <td>4.063369e+07</td>\n",
       "      <td>6.707121e+07</td>\n",
       "      <td>101.418026</td>\n",
       "      <td>0.499961</td>\n",
       "      <td>127.868810</td>\n",
       "      <td>12786.904323</td>\n",
       "      <td>77014.289184</td>\n",
       "      <td>8.422442</td>\n",
       "    </tr>\n",
       "    <tr>\n",
       "      <th>min</th>\n",
       "      <td>0.000000e+00</td>\n",
       "      <td>0.000000e+00</td>\n",
       "      <td>0.000000</td>\n",
       "      <td>0.000000</td>\n",
       "      <td>-0.999979</td>\n",
       "      <td>-100.000000</td>\n",
       "      <td>0.000000</td>\n",
       "      <td>1986.000000</td>\n",
       "    </tr>\n",
       "    <tr>\n",
       "      <th>25%</th>\n",
       "      <td>1.000000e+07</td>\n",
       "      <td>6.955428e+06</td>\n",
       "      <td>1996.000000</td>\n",
       "      <td>0.000000</td>\n",
       "      <td>-0.552571</td>\n",
       "      <td>-60.000000</td>\n",
       "      <td>8864.750000</td>\n",
       "      <td>1996.000000</td>\n",
       "    </tr>\n",
       "    <tr>\n",
       "      <th>50%</th>\n",
       "      <td>2.300000e+07</td>\n",
       "      <td>2.511110e+07</td>\n",
       "      <td>2002.000000</td>\n",
       "      <td>1.000000</td>\n",
       "      <td>0.020240</td>\n",
       "      <td>0.000000</td>\n",
       "      <td>12513.500000</td>\n",
       "      <td>2003.000000</td>\n",
       "    </tr>\n",
       "    <tr>\n",
       "      <th>75%</th>\n",
       "      <td>4.800000e+07</td>\n",
       "      <td>6.036672e+07</td>\n",
       "      <td>2009.000000</td>\n",
       "      <td>1.000000</td>\n",
       "      <td>1.029155</td>\n",
       "      <td>100.000000</td>\n",
       "      <td>41220.250000</td>\n",
       "      <td>2010.000000</td>\n",
       "    </tr>\n",
       "    <tr>\n",
       "      <th>max</th>\n",
       "      <td>3.000000e+08</td>\n",
       "      <td>9.366622e+08</td>\n",
       "      <td>2016.000000</td>\n",
       "      <td>1.000000</td>\n",
       "      <td>7193.587333</td>\n",
       "      <td>719360.000000</td>\n",
       "      <td>404378.000000</td>\n",
       "      <td>2017.000000</td>\n",
       "    </tr>\n",
       "  </tbody>\n",
       "</table>\n",
       "</div>"
      ],
      "text/plain": [
       "             budget         gross         year     isprofit  \\\n",
       "count  3.524000e+03  3.524000e+03  3524.000000  3524.000000   \n",
       "mean   3.646837e+07  4.772520e+07  1997.125709     0.510499   \n",
       "std    4.063369e+07  6.707121e+07   101.418026     0.499961   \n",
       "min    0.000000e+00  0.000000e+00     0.000000     0.000000   \n",
       "25%    1.000000e+07  6.955428e+06  1996.000000     0.000000   \n",
       "50%    2.300000e+07  2.511110e+07  2002.000000     1.000000   \n",
       "75%    4.800000e+07  6.036672e+07  2009.000000     1.000000   \n",
       "max    3.000000e+08  9.366622e+08  2016.000000     1.000000   \n",
       "\n",
       "       profitability_ratio  profitability_ratio_bucket             id  \\\n",
       "count          3524.000000                 3524.000000    3524.000000   \n",
       "mean              3.996876                  399.602157   45443.112656   \n",
       "std             127.868810                12786.904323   77014.289184   \n",
       "min              -0.999979                 -100.000000       0.000000   \n",
       "25%              -0.552571                  -60.000000    8864.750000   \n",
       "50%               0.020240                    0.000000   12513.500000   \n",
       "75%               1.029155                  100.000000   41220.250000   \n",
       "max            7193.587333               719360.000000  404378.000000   \n",
       "\n",
       "       year_released  \n",
       "count    3524.000000  \n",
       "mean     2002.385641  \n",
       "std         8.422442  \n",
       "min      1986.000000  \n",
       "25%      1996.000000  \n",
       "50%      2003.000000  \n",
       "75%      2010.000000  \n",
       "max      2017.000000  "
      ]
     },
     "execution_count": 56,
     "metadata": {},
     "output_type": "execute_result"
    }
   ],
   "source": [
    "df.describe()   # after replacing zero with None"
   ]
  },
  {
   "cell_type": "markdown",
   "metadata": {},
   "source": [
    "## 2.3. Removing Rows <a class=\"anchor\" id=\"23\"></a>"
   ]
  },
  {
   "cell_type": "code",
   "execution_count": 57,
   "metadata": {},
   "outputs": [],
   "source": [
    "data_dropped = df.dropna()"
   ]
  },
  {
   "cell_type": "code",
   "execution_count": 58,
   "metadata": {},
   "outputs": [],
   "source": [
    "data_dropped = data_dropped.reset_index() \n",
    "del data_dropped['index']"
   ]
  },
  {
   "cell_type": "code",
   "execution_count": 59,
   "metadata": {},
   "outputs": [
    {
     "data": {
      "text/plain": [
       "(3031, 27)"
      ]
     },
     "execution_count": 59,
     "metadata": {},
     "output_type": "execute_result"
    }
   ],
   "source": [
    "data_dropped.shape"
   ]
  },
  {
   "cell_type": "code",
   "execution_count": 60,
   "metadata": {},
   "outputs": [
    {
     "data": {
      "text/plain": [
       "(3524, 27)"
      ]
     },
     "execution_count": 60,
     "metadata": {},
     "output_type": "execute_result"
    }
   ],
   "source": [
    "df.shape"
   ]
  },
  {
   "cell_type": "code",
   "execution_count": 61,
   "metadata": {},
   "outputs": [],
   "source": [
    "num_rows_lost = round(100*(df.shape[0] - data_dropped.shape[0])/float(df.shape[0]))"
   ]
  },
  {
   "cell_type": "code",
   "execution_count": 62,
   "metadata": {},
   "outputs": [
    {
     "data": {
      "text/plain": [
       "'retained 14% of rows'"
      ]
     },
     "execution_count": 62,
     "metadata": {},
     "output_type": "execute_result"
    }
   ],
   "source": [
    "template = 'retained {}% of rows'\n",
    "template.format(num_rows_lost)"
   ]
  },
  {
   "cell_type": "code",
   "execution_count": 63,
   "metadata": {},
   "outputs": [
    {
     "data": {
      "text/plain": [
       "isprofit\n",
       "0    1415\n",
       "1    1616\n",
       "dtype: int64"
      ]
     },
     "execution_count": 63,
     "metadata": {},
     "output_type": "execute_result"
    }
   ],
   "source": [
    "# class distribution\n",
    "class_counts = data_dropped.groupby('isprofit').size()\n",
    "class_counts"
   ]
  },
  {
   "cell_type": "code",
   "execution_count": 64,
   "metadata": {},
   "outputs": [
    {
     "data": {
      "text/plain": [
       "0.40153234960272416"
      ]
     },
     "execution_count": 64,
     "metadata": {},
     "output_type": "execute_result"
    }
   ],
   "source": [
    "class_counts[0]/df['isprofit'].size"
   ]
  },
  {
   "cell_type": "code",
   "execution_count": 65,
   "metadata": {},
   "outputs": [
    {
     "data": {
      "text/plain": [
       "1    0.510499\n",
       "0    0.489501\n",
       "Name: isprofit, dtype: float64"
      ]
     },
     "execution_count": 65,
     "metadata": {},
     "output_type": "execute_result"
    }
   ],
   "source": [
    "df['isprofit'].value_counts(normalize=True)   #  split of trues and falses before rows dropped"
   ]
  },
  {
   "cell_type": "code",
   "execution_count": 66,
   "metadata": {},
   "outputs": [
    {
     "data": {
      "text/plain": [
       "1    0.533157\n",
       "0    0.466843\n",
       "Name: isprofit, dtype: float64"
      ]
     },
     "execution_count": 66,
     "metadata": {},
     "output_type": "execute_result"
    }
   ],
   "source": [
    "data_dropped['isprofit'].value_counts(normalize=True)   #  split of trues and falses after rows dropped"
   ]
  },
  {
   "cell_type": "code",
   "execution_count": 67,
   "metadata": {},
   "outputs": [
    {
     "data": {
      "text/html": [
       "<div>\n",
       "<style scoped>\n",
       "    .dataframe tbody tr th:only-of-type {\n",
       "        vertical-align: middle;\n",
       "    }\n",
       "\n",
       "    .dataframe tbody tr th {\n",
       "        vertical-align: top;\n",
       "    }\n",
       "\n",
       "    .dataframe thead th {\n",
       "        text-align: right;\n",
       "    }\n",
       "</style>\n",
       "<table border=\"1\" class=\"dataframe\">\n",
       "  <thead>\n",
       "    <tr style=\"text-align: right;\">\n",
       "      <th></th>\n",
       "      <th>budget</th>\n",
       "      <th>gross</th>\n",
       "      <th>year</th>\n",
       "      <th>isprofit</th>\n",
       "      <th>profitability_ratio</th>\n",
       "      <th>profitability_ratio_bucket</th>\n",
       "      <th>id</th>\n",
       "      <th>year_released</th>\n",
       "    </tr>\n",
       "  </thead>\n",
       "  <tbody>\n",
       "    <tr>\n",
       "      <th>count</th>\n",
       "      <td>3.031000e+03</td>\n",
       "      <td>3.031000e+03</td>\n",
       "      <td>3031.000000</td>\n",
       "      <td>3031.000000</td>\n",
       "      <td>3031.000000</td>\n",
       "      <td>3031.000000</td>\n",
       "      <td>3031.000000</td>\n",
       "      <td>3031.000000</td>\n",
       "    </tr>\n",
       "    <tr>\n",
       "      <th>mean</th>\n",
       "      <td>3.928010e+07</td>\n",
       "      <td>5.255955e+07</td>\n",
       "      <td>1996.590564</td>\n",
       "      <td>0.533157</td>\n",
       "      <td>4.551640</td>\n",
       "      <td>455.109535</td>\n",
       "      <td>44312.161663</td>\n",
       "      <td>2002.659188</td>\n",
       "    </tr>\n",
       "    <tr>\n",
       "      <th>std</th>\n",
       "      <td>4.204987e+07</td>\n",
       "      <td>7.001274e+07</td>\n",
       "      <td>109.294767</td>\n",
       "      <td>0.498982</td>\n",
       "      <td>137.861924</td>\n",
       "      <td>13786.216469</td>\n",
       "      <td>76687.277269</td>\n",
       "      <td>8.366027</td>\n",
       "    </tr>\n",
       "    <tr>\n",
       "      <th>min</th>\n",
       "      <td>0.000000e+00</td>\n",
       "      <td>0.000000e+00</td>\n",
       "      <td>0.000000</td>\n",
       "      <td>0.000000</td>\n",
       "      <td>-0.999979</td>\n",
       "      <td>-100.000000</td>\n",
       "      <td>0.000000</td>\n",
       "      <td>1986.000000</td>\n",
       "    </tr>\n",
       "    <tr>\n",
       "      <th>25%</th>\n",
       "      <td>1.200000e+07</td>\n",
       "      <td>9.976800e+06</td>\n",
       "      <td>1996.000000</td>\n",
       "      <td>0.000000</td>\n",
       "      <td>-0.490448</td>\n",
       "      <td>-50.000000</td>\n",
       "      <td>8306.500000</td>\n",
       "      <td>1996.000000</td>\n",
       "    </tr>\n",
       "    <tr>\n",
       "      <th>50%</th>\n",
       "      <td>2.500000e+07</td>\n",
       "      <td>3.010272e+07</td>\n",
       "      <td>2003.000000</td>\n",
       "      <td>1.000000</td>\n",
       "      <td>0.078482</td>\n",
       "      <td>10.000000</td>\n",
       "      <td>11622.000000</td>\n",
       "      <td>2003.000000</td>\n",
       "    </tr>\n",
       "    <tr>\n",
       "      <th>75%</th>\n",
       "      <td>5.000000e+07</td>\n",
       "      <td>6.694456e+07</td>\n",
       "      <td>2010.000000</td>\n",
       "      <td>1.000000</td>\n",
       "      <td>1.082718</td>\n",
       "      <td>110.000000</td>\n",
       "      <td>39033.000000</td>\n",
       "      <td>2010.000000</td>\n",
       "    </tr>\n",
       "    <tr>\n",
       "      <th>max</th>\n",
       "      <td>3.000000e+08</td>\n",
       "      <td>9.366622e+08</td>\n",
       "      <td>2016.000000</td>\n",
       "      <td>1.000000</td>\n",
       "      <td>7193.587333</td>\n",
       "      <td>719360.000000</td>\n",
       "      <td>404378.000000</td>\n",
       "      <td>2017.000000</td>\n",
       "    </tr>\n",
       "  </tbody>\n",
       "</table>\n",
       "</div>"
      ],
      "text/plain": [
       "             budget         gross         year     isprofit  \\\n",
       "count  3.031000e+03  3.031000e+03  3031.000000  3031.000000   \n",
       "mean   3.928010e+07  5.255955e+07  1996.590564     0.533157   \n",
       "std    4.204987e+07  7.001274e+07   109.294767     0.498982   \n",
       "min    0.000000e+00  0.000000e+00     0.000000     0.000000   \n",
       "25%    1.200000e+07  9.976800e+06  1996.000000     0.000000   \n",
       "50%    2.500000e+07  3.010272e+07  2003.000000     1.000000   \n",
       "75%    5.000000e+07  6.694456e+07  2010.000000     1.000000   \n",
       "max    3.000000e+08  9.366622e+08  2016.000000     1.000000   \n",
       "\n",
       "       profitability_ratio  profitability_ratio_bucket             id  \\\n",
       "count          3031.000000                 3031.000000    3031.000000   \n",
       "mean              4.551640                  455.109535   44312.161663   \n",
       "std             137.861924                13786.216469   76687.277269   \n",
       "min              -0.999979                 -100.000000       0.000000   \n",
       "25%              -0.490448                  -50.000000    8306.500000   \n",
       "50%               0.078482                   10.000000   11622.000000   \n",
       "75%               1.082718                  110.000000   39033.000000   \n",
       "max            7193.587333               719360.000000  404378.000000   \n",
       "\n",
       "       year_released  \n",
       "count    3031.000000  \n",
       "mean     2002.659188  \n",
       "std         8.366027  \n",
       "min      1986.000000  \n",
       "25%      1996.000000  \n",
       "50%      2003.000000  \n",
       "75%      2010.000000  \n",
       "max      2017.000000  "
      ]
     },
     "execution_count": 67,
     "metadata": {},
     "output_type": "execute_result"
    }
   ],
   "source": [
    "data_dropped.describe()   # after removing rows which include NaN"
   ]
  },
  {
   "cell_type": "code",
   "execution_count": 68,
   "metadata": {},
   "outputs": [
    {
     "data": {
      "text/plain": [
       "budget                         7.71\n",
       "gross                         10.13\n",
       "year                          -0.03\n",
       "isprofit                       4.44\n",
       "profitability_ratio           13.88\n",
       "profitability_ratio_bucket    13.89\n",
       "id                            -2.49\n",
       "year_released                  0.01\n",
       "dtype: float64"
      ]
     },
     "execution_count": 68,
     "metadata": {},
     "output_type": "execute_result"
    }
   ],
   "source": [
    "# % change in means of columns before and after dropping missing-value rows\n",
    "change_in_means = ((data_dropped.mean() - df.mean()) / df.mean() * 100).round(2)\n",
    "change_in_means"
   ]
  },
  {
   "cell_type": "markdown",
   "metadata": {},
   "source": [
    "### Bar Chart of the Change in Means"
   ]
  },
  {
   "cell_type": "code",
   "execution_count": 69,
   "metadata": {},
   "outputs": [
    {
     "data": {
      "text/plain": [
       "Text(0, 0.5, '% change')"
      ]
     },
     "execution_count": 69,
     "metadata": {},
     "output_type": "execute_result"
    },
    {
     "data": {
      "image/png": "[encoded data removed]",
      "text/plain": [
       "<Figure size 648x288 with 1 Axes>"
      ]
     },
     "metadata": {},
     "output_type": "display_data"
    }
   ],
   "source": [
    "plt.figure(figsize=(9, 4))\n",
    "change_in_means.plot.bar(title='% change in average column values')\n",
    "plt.ylabel('% change')\n"
   ]
  },
  {
   "cell_type": "markdown",
   "metadata": {},
   "source": [
    "Figure 1: Percent change in average column values\n",
    "<p>Figure 1 shows the percent change in mean of columns before and after dropping missing-value rows.</p>"
   ]
  },
  {
   "cell_type": "markdown",
   "metadata": {},
   "source": [
    "## 2.4. Finding Outliers <a class=\"anchor\" id=\"24\"></a>"
   ]
  },
  {
   "cell_type": "markdown",
   "metadata": {},
   "source": [
    "### 2.4.1. IQR Score Method <a class=\"anchor\" id=\"241\"></a>"
   ]
  },
  {
   "cell_type": "code",
   "execution_count": 70,
   "metadata": {},
   "outputs": [
    {
     "name": "stdout",
     "output_type": "stream",
     "text": [
      "budget                        3.800000e+07\n",
      "gross                         5.696776e+07\n",
      "year                          1.400000e+01\n",
      "isprofit                      1.000000e+00\n",
      "profitability_ratio           1.573166e+00\n",
      "profitability_ratio_bucket    1.600000e+02\n",
      "id                            3.072650e+04\n",
      "year_released                 1.400000e+01\n",
      "dtype: float64\n"
     ]
    }
   ],
   "source": [
    "Q1 = data_dropped.quantile(0.25)\n",
    "Q3 = data_dropped.quantile(0.75)\n",
    "IQR = Q3 - Q1\n",
    "print(IQR)"
   ]
  },
  {
   "cell_type": "code",
   "execution_count": 71,
   "metadata": {},
   "outputs": [
    {
     "name": "stdout",
     "output_type": "stream",
     "text": [
      "      adult  budget  company  country  director  genre  genres_edited  gross  \\\n",
      "0     False   False    False    False     False  False          False  False   \n",
      "1     False   False    False    False     False  False          False  False   \n",
      "2     False   False    False    False     False  False          False   True   \n",
      "3     False   False    False    False     False  False          False  False   \n",
      "4     False   False    False    False     False  False          False  False   \n",
      "...     ...     ...      ...      ...       ...    ...            ...    ...   \n",
      "3026  False   False    False    False     False  False          False  False   \n",
      "3027  False   False    False    False     False  False          False  False   \n",
      "3028  False   False    False    False     False  False          False  False   \n",
      "3029  False   False    False    False     False  False          False  False   \n",
      "3030  False   False    False    False     False  False          False  False   \n",
      "\n",
      "         id  imdb_id  ...  profitability_ratio_bucket  rating  released  \\\n",
      "0     False    False  ...                        True   False     False   \n",
      "1     False    False  ...                        True   False     False   \n",
      "2     False    False  ...                        True   False     False   \n",
      "3     False    False  ...                        True   False     False   \n",
      "4     False    False  ...                       False   False     False   \n",
      "...     ...      ...  ...                         ...     ...       ...   \n",
      "3026   True    False  ...                       False   False     False   \n",
      "3027   True    False  ...                       False   False     False   \n",
      "3028   True    False  ...                        True   False     False   \n",
      "3029   True    False  ...                       False   False     False   \n",
      "3030   True    False  ...                       False   False     False   \n",
      "\n",
      "      spoken_languages_edited   star  tagline  title  writer   year  \\\n",
      "0                       False  False    False  False   False  False   \n",
      "1                       False  False    False  False   False  False   \n",
      "2                       False  False    False  False   False  False   \n",
      "3                       False  False    False  False   False  False   \n",
      "4                       False  False    False  False   False  False   \n",
      "...                       ...    ...      ...    ...     ...    ...   \n",
      "3026                    False  False    False  False   False  False   \n",
      "3027                    False  False    False  False   False  False   \n",
      "3028                    False  False    False  False   False  False   \n",
      "3029                    False  False    False  False   False  False   \n",
      "3030                    False  False    False  False   False  False   \n",
      "\n",
      "      year_released  \n",
      "0             False  \n",
      "1             False  \n",
      "2             False  \n",
      "3             False  \n",
      "4             False  \n",
      "...             ...  \n",
      "3026          False  \n",
      "3027          False  \n",
      "3028          False  \n",
      "3029          False  \n",
      "3030          False  \n",
      "\n",
      "[3031 rows x 27 columns]\n"
     ]
    },
    {
     "name": "stderr",
     "output_type": "stream",
     "text": [
      "c:\\users\\jaymish\\desktop\\pcs\\web2txt\\webapp\\venv\\lib\\site-packages\\ipykernel_launcher.py:1: FutureWarning: Automatic reindexing on DataFrame vs Series comparisons is deprecated and will raise ValueError in a future version.  Do `left, right = left.align(right, axis=1, copy=False)` before e.g. `left == right`\n",
      "  \"\"\"Entry point for launching an IPython kernel.\n",
      "c:\\users\\jaymish\\desktop\\pcs\\web2txt\\webapp\\venv\\lib\\site-packages\\ipykernel_launcher.py:1: FutureWarning: Automatic reindexing on DataFrame vs Series comparisons is deprecated and will raise ValueError in a future version.  Do `left, right = left.align(right, axis=1, copy=False)` before e.g. `left == right`\n",
      "  \"\"\"Entry point for launching an IPython kernel.\n"
     ]
    }
   ],
   "source": [
    "print((data_dropped < (Q1 - (1.5 * IQR))) | (data_dropped > (Q3 + (1.5 * IQR))))"
   ]
  },
  {
   "cell_type": "code",
   "execution_count": 72,
   "metadata": {},
   "outputs": [
    {
     "data": {
      "text/plain": [
       "(3031, 27)"
      ]
     },
     "execution_count": 72,
     "metadata": {},
     "output_type": "execute_result"
    }
   ],
   "source": [
    "data_dropped.shape"
   ]
  },
  {
   "cell_type": "code",
   "execution_count": 73,
   "metadata": {},
   "outputs": [
    {
     "name": "stderr",
     "output_type": "stream",
     "text": [
      "c:\\users\\jaymish\\desktop\\pcs\\web2txt\\webapp\\venv\\lib\\site-packages\\ipykernel_launcher.py:1: FutureWarning: Automatic reindexing on DataFrame vs Series comparisons is deprecated and will raise ValueError in a future version.  Do `left, right = left.align(right, axis=1, copy=False)` before e.g. `left == right`\n",
      "  \"\"\"Entry point for launching an IPython kernel.\n",
      "c:\\users\\jaymish\\desktop\\pcs\\web2txt\\webapp\\venv\\lib\\site-packages\\ipykernel_launcher.py:1: FutureWarning: Automatic reindexing on DataFrame vs Series comparisons is deprecated and will raise ValueError in a future version.  Do `left, right = left.align(right, axis=1, copy=False)` before e.g. `left == right`\n",
      "  \"\"\"Entry point for launching an IPython kernel.\n"
     ]
    }
   ],
   "source": [
    "data_dropped_outlier_IQR = data_dropped[~((data_dropped < (Q1 - 1.5 * IQR)) | (data_dropped > (Q3 + 1.5 * IQR))).any(axis=1)]"
   ]
  },
  {
   "cell_type": "code",
   "execution_count": 74,
   "metadata": {},
   "outputs": [
    {
     "data": {
      "text/plain": [
       "(2156, 27)"
      ]
     },
     "execution_count": 74,
     "metadata": {},
     "output_type": "execute_result"
    }
   ],
   "source": [
    "data_dropped_outlier_IQR.shape"
   ]
  },
  {
   "cell_type": "code",
   "execution_count": 75,
   "metadata": {},
   "outputs": [
    {
     "data": {
      "text/html": [
       "<div>\n",
       "<style scoped>\n",
       "    .dataframe tbody tr th:only-of-type {\n",
       "        vertical-align: middle;\n",
       "    }\n",
       "\n",
       "    .dataframe tbody tr th {\n",
       "        vertical-align: top;\n",
       "    }\n",
       "\n",
       "    .dataframe thead th {\n",
       "        text-align: right;\n",
       "    }\n",
       "</style>\n",
       "<table border=\"1\" class=\"dataframe\">\n",
       "  <thead>\n",
       "    <tr style=\"text-align: right;\">\n",
       "      <th></th>\n",
       "      <th>budget</th>\n",
       "      <th>company</th>\n",
       "      <th>country</th>\n",
       "      <th>director</th>\n",
       "      <th>genre</th>\n",
       "      <th>gross</th>\n",
       "      <th>name</th>\n",
       "      <th>rating</th>\n",
       "      <th>released</th>\n",
       "      <th>star</th>\n",
       "      <th>...</th>\n",
       "      <th>imdb_id</th>\n",
       "      <th>original_title</th>\n",
       "      <th>overview</th>\n",
       "      <th>tagline</th>\n",
       "      <th>title</th>\n",
       "      <th>genres_edited</th>\n",
       "      <th>spoken_languages_edited</th>\n",
       "      <th>production_countries_edited</th>\n",
       "      <th>keywords_edited</th>\n",
       "      <th>year_released</th>\n",
       "    </tr>\n",
       "  </thead>\n",
       "  <tbody>\n",
       "    <tr>\n",
       "      <th>0</th>\n",
       "      <td>9000000</td>\n",
       "      <td>Walt Disney Pictures</td>\n",
       "      <td>USA</td>\n",
       "      <td>Other</td>\n",
       "      <td>Adventure</td>\n",
       "      <td>18564613</td>\n",
       "      <td>Flight of the Navigator</td>\n",
       "      <td>PG</td>\n",
       "      <td>1.08.1986 00:00</td>\n",
       "      <td>Joey Cramer</td>\n",
       "      <td>...</td>\n",
       "      <td>tt0091059</td>\n",
       "      <td>Flight of the Navigator</td>\n",
       "      <td>This 1986 Disney adventure tells the story of ...</td>\n",
       "      <td>Come along on the greatest adventure of the su...</td>\n",
       "      <td>Flight of the Navigator</td>\n",
       "      <td>Family, Science Fiction, Adventure</td>\n",
       "      <td>en</td>\n",
       "      <td>US</td>\n",
       "      <td>artificial intelligence, farewell, homesicknes...</td>\n",
       "      <td>1986</td>\n",
       "    </tr>\n",
       "    <tr>\n",
       "      <th>1</th>\n",
       "      <td>6000000</td>\n",
       "      <td>Other</td>\n",
       "      <td>USA</td>\n",
       "      <td>Other</td>\n",
       "      <td>Drama</td>\n",
       "      <td>8551228</td>\n",
       "      <td>Blue Velvet</td>\n",
       "      <td>R</td>\n",
       "      <td>23.10.1986 00:00</td>\n",
       "      <td>Isabella Rossellini</td>\n",
       "      <td>...</td>\n",
       "      <td>tt0090756</td>\n",
       "      <td>Blue Velvet</td>\n",
       "      <td>The discovery of a severed human ear found in ...</td>\n",
       "      <td>It's a strange world.</td>\n",
       "      <td>Blue Velvet</td>\n",
       "      <td>Crime, Drama, Mystery, Thriller</td>\n",
       "      <td>en</td>\n",
       "      <td>US</td>\n",
       "      <td>small town, ear, suspense, independent film, p...</td>\n",
       "      <td>1986</td>\n",
       "    </tr>\n",
       "    <tr>\n",
       "      <th>2</th>\n",
       "      <td>16000000</td>\n",
       "      <td>Other</td>\n",
       "      <td>Other</td>\n",
       "      <td>Other</td>\n",
       "      <td>Action</td>\n",
       "      <td>5900000</td>\n",
       "      <td>Highlander</td>\n",
       "      <td>R</td>\n",
       "      <td>7.03.1986 00:00</td>\n",
       "      <td>Christopher Lambert</td>\n",
       "      <td>...</td>\n",
       "      <td>tt0091203</td>\n",
       "      <td>Highlander</td>\n",
       "      <td>He fought his first battle on the Scottish Hig...</td>\n",
       "      <td>There can be only one.</td>\n",
       "      <td>Highlander</td>\n",
       "      <td>Adventure, Action, Fantasy</td>\n",
       "      <td>en</td>\n",
       "      <td>GB, US</td>\n",
       "      <td>new york, scotland, swordplay, sword, cut-off ...</td>\n",
       "      <td>1986</td>\n",
       "    </tr>\n",
       "    <tr>\n",
       "      <th>3</th>\n",
       "      <td>6000000</td>\n",
       "      <td>Twentieth Century Fox Film Corporation</td>\n",
       "      <td>USA</td>\n",
       "      <td>Other</td>\n",
       "      <td>Comedy</td>\n",
       "      <td>8200000</td>\n",
       "      <td>Lucas</td>\n",
       "      <td>PG-13</td>\n",
       "      <td>28.03.1986 00:00</td>\n",
       "      <td>Corey Haim</td>\n",
       "      <td>...</td>\n",
       "      <td>tt0091445</td>\n",
       "      <td>Lucas</td>\n",
       "      <td>A socially inept fourteen year old experiences...</td>\n",
       "      <td>It's about falling in love.  For the first time.</td>\n",
       "      <td>Lucas</td>\n",
       "      <td>Comedy, Drama, Romance</td>\n",
       "      <td>en</td>\n",
       "      <td>US</td>\n",
       "      <td>high school, american football team, cheerleading</td>\n",
       "      <td>1986</td>\n",
       "    </tr>\n",
       "    <tr>\n",
       "      <th>4</th>\n",
       "      <td>25000000</td>\n",
       "      <td>Twentieth Century Fox Film Corporation</td>\n",
       "      <td>USA</td>\n",
       "      <td>Other</td>\n",
       "      <td>Action</td>\n",
       "      <td>11100000</td>\n",
       "      <td>Big Trouble in Little China</td>\n",
       "      <td>PG-13</td>\n",
       "      <td>2.07.1986 00:00</td>\n",
       "      <td>Kurt Russell</td>\n",
       "      <td>...</td>\n",
       "      <td>tt0090728</td>\n",
       "      <td>Big Trouble in Little China</td>\n",
       "      <td>When trucker, Jack Burton agreed to take his f...</td>\n",
       "      <td>Adventure doesn't come any bigger!</td>\n",
       "      <td>Big Trouble in Little China</td>\n",
       "      <td>Action, Adventure, Comedy, Fantasy</td>\n",
       "      <td>cn, en</td>\n",
       "      <td>US</td>\n",
       "      <td>kung fu, chinatown, magic, mystery</td>\n",
       "      <td>1986</td>\n",
       "    </tr>\n",
       "    <tr>\n",
       "      <th>...</th>\n",
       "      <td>...</td>\n",
       "      <td>...</td>\n",
       "      <td>...</td>\n",
       "      <td>...</td>\n",
       "      <td>...</td>\n",
       "      <td>...</td>\n",
       "      <td>...</td>\n",
       "      <td>...</td>\n",
       "      <td>...</td>\n",
       "      <td>...</td>\n",
       "      <td>...</td>\n",
       "      <td>...</td>\n",
       "      <td>...</td>\n",
       "      <td>...</td>\n",
       "      <td>...</td>\n",
       "      <td>...</td>\n",
       "      <td>...</td>\n",
       "      <td>...</td>\n",
       "      <td>...</td>\n",
       "      <td>...</td>\n",
       "      <td>...</td>\n",
       "    </tr>\n",
       "    <tr>\n",
       "      <th>2151</th>\n",
       "      <td>25000000</td>\n",
       "      <td>Other</td>\n",
       "      <td>USA</td>\n",
       "      <td>Other</td>\n",
       "      <td>Action</td>\n",
       "      <td>100144</td>\n",
       "      <td>Man of Tai Chi</td>\n",
       "      <td>R</td>\n",
       "      <td>5.07.2013 00:00</td>\n",
       "      <td>Tiger Hu Chen</td>\n",
       "      <td>...</td>\n",
       "      <td>tt2016940</td>\n",
       "      <td>Man of Tai Chi</td>\n",
       "      <td>In Beijing, a young martial artist's skill pla...</td>\n",
       "      <td>No Rules. No Mercy. Pure Fighting.</td>\n",
       "      <td>Man of Tai Chi</td>\n",
       "      <td>Action, Drama</td>\n",
       "      <td>cn, en, zh</td>\n",
       "      <td>CN, HK, US</td>\n",
       "      <td>china, martial arts, tai chi, extortion, illeg...</td>\n",
       "      <td>2013</td>\n",
       "    </tr>\n",
       "    <tr>\n",
       "      <th>2152</th>\n",
       "      <td>65000000</td>\n",
       "      <td>Other</td>\n",
       "      <td>USA</td>\n",
       "      <td>Other</td>\n",
       "      <td>Crime</td>\n",
       "      <td>13757804</td>\n",
       "      <td>Sin City: A Dame to Kill For</td>\n",
       "      <td>R</td>\n",
       "      <td>22.08.2014 00:00</td>\n",
       "      <td>Mickey Rourke</td>\n",
       "      <td>...</td>\n",
       "      <td>tt0458481</td>\n",
       "      <td>Sin City: A Dame to Kill For</td>\n",
       "      <td>Some of Sin City's most hard-boiled citizens c...</td>\n",
       "      <td>There is no justice without sin.</td>\n",
       "      <td>Sin City: A Dame to Kill For</td>\n",
       "      <td>Crime, Thriller</td>\n",
       "      <td>en</td>\n",
       "      <td>US</td>\n",
       "      <td>detective, dystopia, dominatrix, murder, suspe...</td>\n",
       "      <td>2014</td>\n",
       "    </tr>\n",
       "    <tr>\n",
       "      <th>2153</th>\n",
       "      <td>70000000</td>\n",
       "      <td>Universal Pictures</td>\n",
       "      <td>USA</td>\n",
       "      <td>Other</td>\n",
       "      <td>Action</td>\n",
       "      <td>56280355</td>\n",
       "      <td>Dracula Untold</td>\n",
       "      <td>PG-13</td>\n",
       "      <td>10.10.2014 00:00</td>\n",
       "      <td>Luke Evans</td>\n",
       "      <td>...</td>\n",
       "      <td>tt0829150</td>\n",
       "      <td>Dracula Untold</td>\n",
       "      <td>Vlad Tepes is a great hero, but when he learns...</td>\n",
       "      <td>Every bloodline has a beginning</td>\n",
       "      <td>Dracula Untold</td>\n",
       "      <td>Horror, Action, Drama, Fantasy, War</td>\n",
       "      <td>en</td>\n",
       "      <td>US</td>\n",
       "      <td>vampire, dracula, bite, battle, 15th century, ...</td>\n",
       "      <td>2014</td>\n",
       "    </tr>\n",
       "    <tr>\n",
       "      <th>2154</th>\n",
       "      <td>95000000</td>\n",
       "      <td>Other</td>\n",
       "      <td>USA</td>\n",
       "      <td>Other</td>\n",
       "      <td>Action</td>\n",
       "      <td>17223265</td>\n",
       "      <td>Seventh Son</td>\n",
       "      <td>PG-13</td>\n",
       "      <td>6.02.2015 00:00</td>\n",
       "      <td>Ben Barnes</td>\n",
       "      <td>...</td>\n",
       "      <td>tt1121096</td>\n",
       "      <td>Seventh Son</td>\n",
       "      <td>John Gregory, who is a seventh son of a sevent...</td>\n",
       "      <td>When darkness falls, the son will rise. When t...</td>\n",
       "      <td>Seventh Son</td>\n",
       "      <td>Adventure, Fantasy</td>\n",
       "      <td>en</td>\n",
       "      <td>CN, CA, US, GB</td>\n",
       "      <td>magic, chosen one, dark fantasy, witch hunter,...</td>\n",
       "      <td>2015</td>\n",
       "    </tr>\n",
       "    <tr>\n",
       "      <th>2155</th>\n",
       "      <td>28000000</td>\n",
       "      <td>Other</td>\n",
       "      <td>USA</td>\n",
       "      <td>Other</td>\n",
       "      <td>Comedy</td>\n",
       "      <td>6998324</td>\n",
       "      <td>Our Brand Is Crisis</td>\n",
       "      <td>R</td>\n",
       "      <td>30.10.2015 00:00</td>\n",
       "      <td>Sandra Bullock</td>\n",
       "      <td>...</td>\n",
       "      <td>tt1018765</td>\n",
       "      <td>Our Brand Is Crisis</td>\n",
       "      <td>A feature film based on the documentary \"Our B...</td>\n",
       "      <td>May the best campaign win.</td>\n",
       "      <td>Our Brand Is Crisis</td>\n",
       "      <td>Comedy, Drama</td>\n",
       "      <td>en</td>\n",
       "      <td>US</td>\n",
       "      <td>bolivia, woman, political campaign, south amer...</td>\n",
       "      <td>2015</td>\n",
       "    </tr>\n",
       "  </tbody>\n",
       "</table>\n",
       "<p>2156 rows × 27 columns</p>\n",
       "</div>"
      ],
      "text/plain": [
       "        budget                                 company country director  \\\n",
       "0      9000000                    Walt Disney Pictures     USA    Other   \n",
       "1      6000000                                   Other     USA    Other   \n",
       "2     16000000                                   Other   Other    Other   \n",
       "3      6000000  Twentieth Century Fox Film Corporation     USA    Other   \n",
       "4     25000000  Twentieth Century Fox Film Corporation     USA    Other   \n",
       "...        ...                                     ...     ...      ...   \n",
       "2151  25000000                                   Other     USA    Other   \n",
       "2152  65000000                                   Other     USA    Other   \n",
       "2153  70000000                      Universal Pictures     USA    Other   \n",
       "2154  95000000                                   Other     USA    Other   \n",
       "2155  28000000                                   Other     USA    Other   \n",
       "\n",
       "          genre     gross                          name rating  \\\n",
       "0     Adventure  18564613       Flight of the Navigator     PG   \n",
       "1         Drama   8551228                   Blue Velvet      R   \n",
       "2        Action   5900000                    Highlander      R   \n",
       "3        Comedy   8200000                         Lucas  PG-13   \n",
       "4        Action  11100000   Big Trouble in Little China  PG-13   \n",
       "...         ...       ...                           ...    ...   \n",
       "2151     Action    100144                Man of Tai Chi      R   \n",
       "2152      Crime  13757804  Sin City: A Dame to Kill For      R   \n",
       "2153     Action  56280355                Dracula Untold  PG-13   \n",
       "2154     Action  17223265                   Seventh Son  PG-13   \n",
       "2155     Comedy   6998324           Our Brand Is Crisis      R   \n",
       "\n",
       "              released                 star  ...    imdb_id  \\\n",
       "0      1.08.1986 00:00          Joey Cramer  ...  tt0091059   \n",
       "1     23.10.1986 00:00  Isabella Rossellini  ...  tt0090756   \n",
       "2      7.03.1986 00:00  Christopher Lambert  ...  tt0091203   \n",
       "3     28.03.1986 00:00           Corey Haim  ...  tt0091445   \n",
       "4      2.07.1986 00:00         Kurt Russell  ...  tt0090728   \n",
       "...                ...                  ...  ...        ...   \n",
       "2151   5.07.2013 00:00        Tiger Hu Chen  ...  tt2016940   \n",
       "2152  22.08.2014 00:00        Mickey Rourke  ...  tt0458481   \n",
       "2153  10.10.2014 00:00           Luke Evans  ...  tt0829150   \n",
       "2154   6.02.2015 00:00           Ben Barnes  ...  tt1121096   \n",
       "2155  30.10.2015 00:00       Sandra Bullock  ...  tt1018765   \n",
       "\n",
       "                    original_title  \\\n",
       "0          Flight of the Navigator   \n",
       "1                      Blue Velvet   \n",
       "2                       Highlander   \n",
       "3                            Lucas   \n",
       "4      Big Trouble in Little China   \n",
       "...                            ...   \n",
       "2151                Man of Tai Chi   \n",
       "2152  Sin City: A Dame to Kill For   \n",
       "2153                Dracula Untold   \n",
       "2154                   Seventh Son   \n",
       "2155           Our Brand Is Crisis   \n",
       "\n",
       "                                               overview  \\\n",
       "0     This 1986 Disney adventure tells the story of ...   \n",
       "1     The discovery of a severed human ear found in ...   \n",
       "2     He fought his first battle on the Scottish Hig...   \n",
       "3     A socially inept fourteen year old experiences...   \n",
       "4     When trucker, Jack Burton agreed to take his f...   \n",
       "...                                                 ...   \n",
       "2151  In Beijing, a young martial artist's skill pla...   \n",
       "2152  Some of Sin City's most hard-boiled citizens c...   \n",
       "2153  Vlad Tepes is a great hero, but when he learns...   \n",
       "2154  John Gregory, who is a seventh son of a sevent...   \n",
       "2155  A feature film based on the documentary \"Our B...   \n",
       "\n",
       "                                                tagline  \\\n",
       "0     Come along on the greatest adventure of the su...   \n",
       "1                                 It's a strange world.   \n",
       "2                                There can be only one.   \n",
       "3      It's about falling in love.  For the first time.   \n",
       "4                    Adventure doesn't come any bigger!   \n",
       "...                                                 ...   \n",
       "2151                 No Rules. No Mercy. Pure Fighting.   \n",
       "2152                   There is no justice without sin.   \n",
       "2153                    Every bloodline has a beginning   \n",
       "2154  When darkness falls, the son will rise. When t...   \n",
       "2155                         May the best campaign win.   \n",
       "\n",
       "                             title                        genres_edited  \\\n",
       "0          Flight of the Navigator   Family, Science Fiction, Adventure   \n",
       "1                      Blue Velvet      Crime, Drama, Mystery, Thriller   \n",
       "2                       Highlander           Adventure, Action, Fantasy   \n",
       "3                            Lucas               Comedy, Drama, Romance   \n",
       "4      Big Trouble in Little China   Action, Adventure, Comedy, Fantasy   \n",
       "...                            ...                                  ...   \n",
       "2151                Man of Tai Chi                        Action, Drama   \n",
       "2152  Sin City: A Dame to Kill For                      Crime, Thriller   \n",
       "2153                Dracula Untold  Horror, Action, Drama, Fantasy, War   \n",
       "2154                   Seventh Son                   Adventure, Fantasy   \n",
       "2155           Our Brand Is Crisis                        Comedy, Drama   \n",
       "\n",
       "      spoken_languages_edited production_countries_edited  \\\n",
       "0                          en                          US   \n",
       "1                          en                          US   \n",
       "2                          en                      GB, US   \n",
       "3                          en                          US   \n",
       "4                      cn, en                          US   \n",
       "...                       ...                         ...   \n",
       "2151               cn, en, zh                  CN, HK, US   \n",
       "2152                       en                          US   \n",
       "2153                       en                          US   \n",
       "2154                       en              CN, CA, US, GB   \n",
       "2155                       en                          US   \n",
       "\n",
       "                                        keywords_edited year_released  \n",
       "0     artificial intelligence, farewell, homesicknes...          1986  \n",
       "1     small town, ear, suspense, independent film, p...          1986  \n",
       "2     new york, scotland, swordplay, sword, cut-off ...          1986  \n",
       "3     high school, american football team, cheerleading          1986  \n",
       "4                    kung fu, chinatown, magic, mystery          1986  \n",
       "...                                                 ...           ...  \n",
       "2151  china, martial arts, tai chi, extortion, illeg...          2013  \n",
       "2152  detective, dystopia, dominatrix, murder, suspe...          2014  \n",
       "2153  vampire, dracula, bite, battle, 15th century, ...          2014  \n",
       "2154  magic, chosen one, dark fantasy, witch hunter,...          2015  \n",
       "2155  bolivia, woman, political campaign, south amer...          2015  \n",
       "\n",
       "[2156 rows x 27 columns]"
      ]
     },
     "execution_count": 75,
     "metadata": {},
     "output_type": "execute_result"
    }
   ],
   "source": [
    "data_dropped_outlier_IQR = data_dropped_outlier_IQR.reset_index()\n",
    "del data_dropped_outlier_IQR['index']\n",
    "data_dropped_outlier_IQR"
   ]
  },
  {
   "cell_type": "code",
   "execution_count": 76,
   "metadata": {},
   "outputs": [
    {
     "data": {
      "text/html": [
       "<div>\n",
       "<style scoped>\n",
       "    .dataframe tbody tr th:only-of-type {\n",
       "        vertical-align: middle;\n",
       "    }\n",
       "\n",
       "    .dataframe tbody tr th {\n",
       "        vertical-align: top;\n",
       "    }\n",
       "\n",
       "    .dataframe thead th {\n",
       "        text-align: right;\n",
       "    }\n",
       "</style>\n",
       "<table border=\"1\" class=\"dataframe\">\n",
       "  <thead>\n",
       "    <tr style=\"text-align: right;\">\n",
       "      <th></th>\n",
       "      <th>budget</th>\n",
       "      <th>gross</th>\n",
       "      <th>year</th>\n",
       "      <th>isprofit</th>\n",
       "      <th>profitability_ratio</th>\n",
       "      <th>profitability_ratio_bucket</th>\n",
       "      <th>id</th>\n",
       "      <th>year_released</th>\n",
       "    </tr>\n",
       "  </thead>\n",
       "  <tbody>\n",
       "    <tr>\n",
       "      <th>count</th>\n",
       "      <td>2.156000e+03</td>\n",
       "      <td>2.156000e+03</td>\n",
       "      <td>2156.000000</td>\n",
       "      <td>2156.000000</td>\n",
       "      <td>2156.000000</td>\n",
       "      <td>2156.000000</td>\n",
       "      <td>2156.000000</td>\n",
       "      <td>2156.000000</td>\n",
       "    </tr>\n",
       "    <tr>\n",
       "      <th>mean</th>\n",
       "      <td>3.106261e+07</td>\n",
       "      <td>3.354427e+07</td>\n",
       "      <td>2000.358071</td>\n",
       "      <td>0.471243</td>\n",
       "      <td>0.185546</td>\n",
       "      <td>18.508813</td>\n",
       "      <td>16994.814935</td>\n",
       "      <td>2000.500464</td>\n",
       "    </tr>\n",
       "    <tr>\n",
       "      <th>std</th>\n",
       "      <td>2.389101e+07</td>\n",
       "      <td>3.259573e+07</td>\n",
       "      <td>7.214563</td>\n",
       "      <td>0.499288</td>\n",
       "      <td>0.990179</td>\n",
       "      <td>99.095494</td>\n",
       "      <td>17461.789215</td>\n",
       "      <td>7.262432</td>\n",
       "    </tr>\n",
       "    <tr>\n",
       "      <th>min</th>\n",
       "      <td>5.000000e+04</td>\n",
       "      <td>3.090000e+02</td>\n",
       "      <td>1986.000000</td>\n",
       "      <td>0.000000</td>\n",
       "      <td>-0.999979</td>\n",
       "      <td>-100.000000</td>\n",
       "      <td>5.000000</td>\n",
       "      <td>1986.000000</td>\n",
       "    </tr>\n",
       "    <tr>\n",
       "      <th>25%</th>\n",
       "      <td>1.300000e+07</td>\n",
       "      <td>7.668451e+06</td>\n",
       "      <td>1995.000000</td>\n",
       "      <td>0.000000</td>\n",
       "      <td>-0.553667</td>\n",
       "      <td>-60.000000</td>\n",
       "      <td>8008.000000</td>\n",
       "      <td>1995.000000</td>\n",
       "    </tr>\n",
       "    <tr>\n",
       "      <th>50%</th>\n",
       "      <td>2.500000e+07</td>\n",
       "      <td>2.321978e+07</td>\n",
       "      <td>2001.000000</td>\n",
       "      <td>0.000000</td>\n",
       "      <td>-0.071520</td>\n",
       "      <td>-10.000000</td>\n",
       "      <td>10875.500000</td>\n",
       "      <td>2001.000000</td>\n",
       "    </tr>\n",
       "    <tr>\n",
       "      <th>75%</th>\n",
       "      <td>4.500000e+07</td>\n",
       "      <td>5.016758e+07</td>\n",
       "      <td>2006.000000</td>\n",
       "      <td>1.000000</td>\n",
       "      <td>0.681017</td>\n",
       "      <td>70.000000</td>\n",
       "      <td>19967.750000</td>\n",
       "      <td>2007.000000</td>\n",
       "    </tr>\n",
       "    <tr>\n",
       "      <th>max</th>\n",
       "      <td>1.070000e+08</td>\n",
       "      <td>1.522575e+08</td>\n",
       "      <td>2015.000000</td>\n",
       "      <td>1.000000</td>\n",
       "      <td>3.438159</td>\n",
       "      <td>340.000000</td>\n",
       "      <td>84892.000000</td>\n",
       "      <td>2015.000000</td>\n",
       "    </tr>\n",
       "  </tbody>\n",
       "</table>\n",
       "</div>"
      ],
      "text/plain": [
       "             budget         gross         year     isprofit  \\\n",
       "count  2.156000e+03  2.156000e+03  2156.000000  2156.000000   \n",
       "mean   3.106261e+07  3.354427e+07  2000.358071     0.471243   \n",
       "std    2.389101e+07  3.259573e+07     7.214563     0.499288   \n",
       "min    5.000000e+04  3.090000e+02  1986.000000     0.000000   \n",
       "25%    1.300000e+07  7.668451e+06  1995.000000     0.000000   \n",
       "50%    2.500000e+07  2.321978e+07  2001.000000     0.000000   \n",
       "75%    4.500000e+07  5.016758e+07  2006.000000     1.000000   \n",
       "max    1.070000e+08  1.522575e+08  2015.000000     1.000000   \n",
       "\n",
       "       profitability_ratio  profitability_ratio_bucket            id  \\\n",
       "count          2156.000000                 2156.000000   2156.000000   \n",
       "mean              0.185546                   18.508813  16994.814935   \n",
       "std               0.990179                   99.095494  17461.789215   \n",
       "min              -0.999979                 -100.000000      5.000000   \n",
       "25%              -0.553667                  -60.000000   8008.000000   \n",
       "50%              -0.071520                  -10.000000  10875.500000   \n",
       "75%               0.681017                   70.000000  19967.750000   \n",
       "max               3.438159                  340.000000  84892.000000   \n",
       "\n",
       "       year_released  \n",
       "count    2156.000000  \n",
       "mean     2000.500464  \n",
       "std         7.262432  \n",
       "min      1986.000000  \n",
       "25%      1995.000000  \n",
       "50%      2001.000000  \n",
       "75%      2007.000000  \n",
       "max      2015.000000  "
      ]
     },
     "execution_count": 76,
     "metadata": {},
     "output_type": "execute_result"
    }
   ],
   "source": [
    "data_dropped_outlier_IQR.describe()"
   ]
  },
  {
   "cell_type": "markdown",
   "metadata": {},
   "source": [
    "## 2.5. Box Plot <a class=\"anchor\" id=\"25\"></a>"
   ]
  },
  {
   "cell_type": "markdown",
   "metadata": {},
   "source": [
    "### Boxplot of Initial Data"
   ]
  },
  {
   "cell_type": "code",
   "execution_count": 77,
   "metadata": {},
   "outputs": [
    {
     "data": {
      "text/plain": [
       "<AxesSubplot:>"
      ]
     },
     "execution_count": 77,
     "metadata": {},
     "output_type": "execute_result"
    },
    {
     "data": {
      "image/png": "[encoded data removed]",
      "text/plain": [
       "<Figure size 2304x1008 with 1 Axes>"
      ]
     },
     "metadata": {},
     "output_type": "display_data"
    }
   ],
   "source": [
    "df.plot(x=df.index.name, kind='box', figsize=(32, 14))"
   ]
  },
  {
   "cell_type": "markdown",
   "metadata": {},
   "source": [
    "Figure 2: Data Distribution before Cleaning\n",
    "<p>Figure 2 shows the distribution of the data before dropping rows. The graph represents five number summary: “minimum, first quartile, median, third quartile, and ''maximum”. The ends of the box are the quartiles, Q1 and Q3, while the box length is interquartile range (IQR). Two lines (called whiskers) outside the box extend to the smallest (Minimum) and largest (Maximum) observations. The circles are the outliers.</p>"
   ]
  },
  {
   "cell_type": "markdown",
   "metadata": {},
   "source": [
    "### Boxplot of Dropped Data"
   ]
  },
  {
   "cell_type": "code",
   "execution_count": 78,
   "metadata": {},
   "outputs": [
    {
     "data": {
      "text/plain": [
       "<AxesSubplot:>"
      ]
     },
     "execution_count": 78,
     "metadata": {},
     "output_type": "execute_result"
    },
    {
     "data": {
      "image/png": "[encoded data removed]",
      "text/plain": [
       "<Figure size 2304x1008 with 1 Axes>"
      ]
     },
     "metadata": {},
     "output_type": "display_data"
    }
   ],
   "source": [
    "data_dropped.plot(x=data_dropped.index.name, kind='box', figsize=(32, 14))"
   ]
  },
  {
   "cell_type": "markdown",
   "metadata": {},
   "source": [
    "Figure 3: Data Distribution of Dropped Data\n",
    "<p>Figure 3 shows the distibution of data after dropping rows with the value NaN. The graph represents five number summary: “minimum, first quartile, median, third quartile, and ''maximum”. The ends of the box are the quartiles, Q1 and Q3, while the box length is interquartile range (IQR). Two lines (called whiskers) outside the box extend to the smallest (Minimum) and largest (Maximum) observations. The circles are the outliers.</p>"
   ]
  },
  {
   "cell_type": "markdown",
   "metadata": {},
   "source": [
    "### Boxplot of Dropped Outlier Data"
   ]
  },
  {
   "cell_type": "code",
   "execution_count": 79,
   "metadata": {},
   "outputs": [
    {
     "data": {
      "text/plain": [
       "<AxesSubplot:>"
      ]
     },
     "execution_count": 79,
     "metadata": {},
     "output_type": "execute_result"
    },
    {
     "data": {
      "image/png": "[encoded data removed]",
      "text/plain": [
       "<Figure size 3312x1008 with 1 Axes>"
      ]
     },
     "metadata": {},
     "output_type": "display_data"
    }
   ],
   "source": [
    "data_dropped_outlier_IQR.plot(x=data_dropped_outlier_IQR.index.name, kind='box', figsize=(46, 14))"
   ]
  },
  {
   "cell_type": "markdown",
   "metadata": {},
   "source": [
    "Figure 4: Data Distribution of Outlier Data\n",
    "<p>Figure 4 shows the distributoion of data after dropping outliers. The graph represents five number summary: “minimum, first quartile, median, third quartile, and ''maximum”. The ends of the box are the quartiles, Q1 and Q3, while the box length is interquartile range (IQR). Two lines (called whiskers) outside the box extend to the smallest (Minimum) and largest (Maximum) observations. The circles are the outliers.</p>"
   ]
  },
  {
   "cell_type": "markdown",
   "metadata": {},
   "source": [
    "# 3. Data Transformation <a class=\"anchor\" id=\"3\"></a>"
   ]
  },
  {
   "cell_type": "markdown",
   "metadata": {},
   "source": [
    "Our data has the following columns that we can perform transformation on:\n",
    "* budget\n",
    "* runtime\n",
    "* score\n",
    "* votes\n",
    "* popularity\n",
    "\n",
    "<p>\n",
    "> We want to discretize and normalize the data so it will be ready for the modeling stage.\n",
    "<br><br>\n",
    "> After writing some general functions, we will perform the transformations one by one.\n",
    "</p>"
   ]
  },
  {
   "cell_type": "markdown",
   "metadata": {},
   "source": [
    "## 3.1. Binning <a class=\"anchor\" id=\"31\"></a>"
   ]
  },
  {
   "cell_type": "markdown",
   "metadata": {},
   "source": [
    "Below, we iterate over all continuous features and use binning to discretize the data. At the end, we summarize the results by indicating the 4 intervals that our data was partitioned into."
   ]
  },
  {
   "cell_type": "code",
   "execution_count": 80,
   "metadata": {},
   "outputs": [
    {
     "data": {
      "text/plain": [
       "count    2.156000e+03\n",
       "mean     3.106261e+07\n",
       "std      2.389101e+07\n",
       "min      5.000000e+04\n",
       "25%      1.300000e+07\n",
       "50%      2.500000e+07\n",
       "75%      4.500000e+07\n",
       "max      1.070000e+08\n",
       "Name: budget, dtype: float64"
      ]
     },
     "metadata": {},
     "output_type": "display_data"
    },
    {
     "data": {
      "text/plain": [
       "0         (49999.999, 13000000.0]\n",
       "1         (49999.999, 13000000.0]\n",
       "2        (13000000.0, 25000000.0]\n",
       "3         (49999.999, 13000000.0]\n",
       "4        (13000000.0, 25000000.0]\n",
       "                  ...            \n",
       "2151     (13000000.0, 25000000.0]\n",
       "2152    (45000000.0, 107000000.0]\n",
       "2153    (45000000.0, 107000000.0]\n",
       "2154    (45000000.0, 107000000.0]\n",
       "2155     (25000000.0, 45000000.0]\n",
       "Name: budget, Length: 2156, dtype: category\n",
       "Categories (4, interval[float64]): [(49999.999, 13000000.0] < (13000000.0, 25000000.0] < (25000000.0, 45000000.0] < (45000000.0, 107000000.0]]"
      ]
     },
     "metadata": {},
     "output_type": "display_data"
    },
    {
     "data": {
      "text/plain": [
       "(49999.999, 13000000.0]      573\n",
       "(13000000.0, 25000000.0]     565\n",
       "(25000000.0, 45000000.0]     519\n",
       "(45000000.0, 107000000.0]    499\n",
       "Name: budget, dtype: int64"
      ]
     },
     "metadata": {},
     "output_type": "display_data"
    }
   ],
   "source": [
    "for i in continuous_features:\n",
    "    display(data_dropped_outlier_IQR[i].describe())\n",
    "\n",
    "    display(pd.qcut(data_dropped_outlier_IQR[i], q=4))\n",
    "\n",
    "    display(pd.qcut(data_dropped_outlier_IQR[i], q=4).value_counts())"
   ]
  },
  {
   "cell_type": "markdown",
   "metadata": {},
   "source": [
    "## 3.2. Normalization <a class=\"anchor\" id=\"32\"></a>"
   ]
  },
  {
   "cell_type": "markdown",
   "metadata": {},
   "source": [
    "### 3.2.1. Z-score Method <a class=\"anchor\" id=\"321\"></a>"
   ]
  },
  {
   "cell_type": "code",
   "execution_count": 81,
   "metadata": {},
   "outputs": [
    {
     "data": {
      "text/html": [
       "<div>\n",
       "<style scoped>\n",
       "    .dataframe tbody tr th:only-of-type {\n",
       "        vertical-align: middle;\n",
       "    }\n",
       "\n",
       "    .dataframe tbody tr th {\n",
       "        vertical-align: top;\n",
       "    }\n",
       "\n",
       "    .dataframe thead th {\n",
       "        text-align: right;\n",
       "    }\n",
       "</style>\n",
       "<table border=\"1\" class=\"dataframe\">\n",
       "  <thead>\n",
       "    <tr style=\"text-align: right;\">\n",
       "      <th></th>\n",
       "      <th>budget</th>\n",
       "    </tr>\n",
       "  </thead>\n",
       "  <tbody>\n",
       "    <tr>\n",
       "      <th>count</th>\n",
       "      <td>2.156000e+03</td>\n",
       "    </tr>\n",
       "    <tr>\n",
       "      <th>mean</th>\n",
       "      <td>3.106261e+07</td>\n",
       "    </tr>\n",
       "    <tr>\n",
       "      <th>std</th>\n",
       "      <td>2.389101e+07</td>\n",
       "    </tr>\n",
       "    <tr>\n",
       "      <th>min</th>\n",
       "      <td>5.000000e+04</td>\n",
       "    </tr>\n",
       "    <tr>\n",
       "      <th>25%</th>\n",
       "      <td>1.300000e+07</td>\n",
       "    </tr>\n",
       "    <tr>\n",
       "      <th>50%</th>\n",
       "      <td>2.500000e+07</td>\n",
       "    </tr>\n",
       "    <tr>\n",
       "      <th>75%</th>\n",
       "      <td>4.500000e+07</td>\n",
       "    </tr>\n",
       "    <tr>\n",
       "      <th>max</th>\n",
       "      <td>1.070000e+08</td>\n",
       "    </tr>\n",
       "  </tbody>\n",
       "</table>\n",
       "</div>"
      ],
      "text/plain": [
       "             budget\n",
       "count  2.156000e+03\n",
       "mean   3.106261e+07\n",
       "std    2.389101e+07\n",
       "min    5.000000e+04\n",
       "25%    1.300000e+07\n",
       "50%    2.500000e+07\n",
       "75%    4.500000e+07\n",
       "max    1.070000e+08"
      ]
     },
     "execution_count": 81,
     "metadata": {},
     "output_type": "execute_result"
    }
   ],
   "source": [
    "data_dropped_outlier_IQR[continuous_features].describe()"
   ]
  },
  {
   "cell_type": "code",
   "execution_count": 82,
   "metadata": {},
   "outputs": [],
   "source": [
    "scaler = StandardScaler()"
   ]
  },
  {
   "cell_type": "code",
   "execution_count": 83,
   "metadata": {},
   "outputs": [],
   "source": [
    "data_dropped_z_score_scaled = pd.DataFrame(scaler.fit_transform(data_dropped_outlier_IQR[continuous_features]), columns=continuous_features)"
   ]
  },
  {
   "cell_type": "code",
   "execution_count": 84,
   "metadata": {},
   "outputs": [
    {
     "data": {
      "text/html": [
       "<div>\n",
       "<style scoped>\n",
       "    .dataframe tbody tr th:only-of-type {\n",
       "        vertical-align: middle;\n",
       "    }\n",
       "\n",
       "    .dataframe tbody tr th {\n",
       "        vertical-align: top;\n",
       "    }\n",
       "\n",
       "    .dataframe thead th {\n",
       "        text-align: right;\n",
       "    }\n",
       "</style>\n",
       "<table border=\"1\" class=\"dataframe\">\n",
       "  <thead>\n",
       "    <tr style=\"text-align: right;\">\n",
       "      <th></th>\n",
       "      <th>budget</th>\n",
       "    </tr>\n",
       "  </thead>\n",
       "  <tbody>\n",
       "    <tr>\n",
       "      <th>count</th>\n",
       "      <td>2.156000e+03</td>\n",
       "    </tr>\n",
       "    <tr>\n",
       "      <th>mean</th>\n",
       "      <td>-3.954783e-17</td>\n",
       "    </tr>\n",
       "    <tr>\n",
       "      <th>std</th>\n",
       "      <td>1.000232e+00</td>\n",
       "    </tr>\n",
       "    <tr>\n",
       "      <th>min</th>\n",
       "      <td>-1.298388e+00</td>\n",
       "    </tr>\n",
       "    <tr>\n",
       "      <th>25%</th>\n",
       "      <td>-7.562174e-01</td>\n",
       "    </tr>\n",
       "    <tr>\n",
       "      <th>50%</th>\n",
       "      <td>-2.538199e-01</td>\n",
       "    </tr>\n",
       "    <tr>\n",
       "      <th>75%</th>\n",
       "      <td>5.835092e-01</td>\n",
       "    </tr>\n",
       "    <tr>\n",
       "      <th>max</th>\n",
       "      <td>3.179229e+00</td>\n",
       "    </tr>\n",
       "  </tbody>\n",
       "</table>\n",
       "</div>"
      ],
      "text/plain": [
       "             budget\n",
       "count  2.156000e+03\n",
       "mean  -3.954783e-17\n",
       "std    1.000232e+00\n",
       "min   -1.298388e+00\n",
       "25%   -7.562174e-01\n",
       "50%   -2.538199e-01\n",
       "75%    5.835092e-01\n",
       "max    3.179229e+00"
      ]
     },
     "execution_count": 84,
     "metadata": {},
     "output_type": "execute_result"
    }
   ],
   "source": [
    "data_dropped_z_score_scaled.describe()"
   ]
  },
  {
   "cell_type": "code",
   "execution_count": 85,
   "metadata": {},
   "outputs": [
    {
     "data": {
      "text/plain": [
       "array([[<AxesSubplot:title={'center':'budget'}>,\n",
       "        <AxesSubplot:title={'center':'gross'}>,\n",
       "        <AxesSubplot:title={'center':'year'}>],\n",
       "       [<AxesSubplot:title={'center':'isprofit'}>,\n",
       "        <AxesSubplot:title={'center':'profitability_ratio'}>,\n",
       "        <AxesSubplot:title={'center':'profitability_ratio_bucket'}>],\n",
       "       [<AxesSubplot:title={'center':'id'}>,\n",
       "        <AxesSubplot:title={'center':'year_released'}>, <AxesSubplot:>]],\n",
       "      dtype=object)"
      ]
     },
     "execution_count": 85,
     "metadata": {},
     "output_type": "execute_result"
    },
    {
     "data": {
      "image/png": "[encoded data removed]",
      "text/plain": [
       "<Figure size 1152x1152 with 9 Axes>"
      ]
     },
     "metadata": {},
     "output_type": "display_data"
    }
   ],
   "source": [
    "data_dropped_outlier_IQR.hist(figsize=(16, 16))"
   ]
  },
  {
   "cell_type": "markdown",
   "metadata": {},
   "source": [
    "Figure 6: Histogram of Data Before Normalization\n",
    "<p>Figure 6 shows the bar charts helping us visualize the data befor the five features above have been normalized.</p>"
   ]
  },
  {
   "cell_type": "code",
   "execution_count": 86,
   "metadata": {},
   "outputs": [
    {
     "data": {
      "text/plain": [
       "array([[<AxesSubplot:title={'center':'budget'}>]], dtype=object)"
      ]
     },
     "execution_count": 86,
     "metadata": {},
     "output_type": "execute_result"
    },
    {
     "data": {
      "image/png": "[encoded data removed]",
      "text/plain": [
       "<Figure size 720x720 with 1 Axes>"
      ]
     },
     "metadata": {},
     "output_type": "display_data"
    }
   ],
   "source": [
    "data_dropped_z_score_scaled.hist(figsize=(10, 10))"
   ]
  },
  {
   "cell_type": "markdown",
   "metadata": {},
   "source": [
    "Figure 7: Histogram of Data After Normalization\n",
    "<p>Figure 7 shows bar charts helping us visualize the data after the five features above have been normalized.</p>"
   ]
  },
  {
   "cell_type": "markdown",
   "metadata": {},
   "source": [
    "Add normalized columns to main dataset as new columns labeled with the feature name they relate to followed by \"_norm\"."
   ]
  },
  {
   "cell_type": "code",
   "execution_count": 88,
   "metadata": {},
   "outputs": [],
   "source": [
    "norm_column_names = ['budget_norm', 'runtime_norm']\n",
    "    \n",
    "for i, j in zip(norm_column_names, continuous_features):\n",
    "    data_dropped_outlier_IQR[i] = pd.Series(data_dropped_z_score_scaled[j])\n"
   ]
  },
  {
   "cell_type": "code",
   "execution_count": 89,
   "metadata": {},
   "outputs": [],
   "source": [
    "data_dropped_outlier_IQR.to_csv('data/training_data.csv')"
   ]
  },
  {
   "cell_type": "markdown",
   "metadata": {},
   "source": [
    "# 4. Results <a class=\"anchor\" id=\"4\"></a>"
   ]
  },
  {
   "cell_type": "markdown",
   "metadata": {},
   "source": [
    "## 4.1. Data Cleaning <a class=\"anchor\" id=\"41\"></a>"
   ]
  },
  {
   "cell_type": "markdown",
   "metadata": {},
   "source": [
    "As we analyze all the features in <a href=\"#21\">Section 2.1.</a> we can see that the only features that need cleaning are overview, tagline, spoken_languages_edited, production_countries_edited and keywords_edited. The rest of the features are clean meaning not missing any values that require either dropping or replacement of those values."
   ]
  },
  {
   "cell_type": "markdown",
   "metadata": {},
   "source": [
    "## 4.2. Data Transformation <a class=\"anchor\" id=\"42\"></a>"
   ]
  },
  {
   "cell_type": "markdown",
   "metadata": {},
   "source": [
    "After analyzing and cleaning the five categorical features found in <a href=\"#21\">Section 2.1.</a> we are able to focus on transforming our data.  \n",
    "\n",
    "<p>Our data includes categorical and continuous types but for transformation we want to focus on five that need to be discretized and normalized in order to be ready for modeling. These five features include budget, runtime, score, votes and popularity. The reason for discretizing the data is so we can partition the data into equal distributions that will be easier to manage and manipulate. After that we can use normalization to give all the attributes an equal weight which is useful to us in the following section where we model our data.</p>"
   ]
  }
 ],
 "metadata": {
  "kernelspec": {
   "display_name": "'Python3'",
   "language": "python",
   "name": "python3"
  },
  "language_info": {
   "codemirror_mode": {
    "name": "ipython",
    "version": 3
   },
   "file_extension": ".py",
   "mimetype": "text/x-python",
   "name": "python",
   "nbconvert_exporter": "python",
   "pygments_lexer": "ipython3",
   "version": "3.7.3"
  }
 },
 "nbformat": 4,
 "nbformat_minor": 2
}
