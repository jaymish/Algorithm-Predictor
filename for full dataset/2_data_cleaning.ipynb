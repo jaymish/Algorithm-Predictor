{
 "cells": [
  {
   "cell_type": "markdown",
   "metadata": {},
   "source": [
    "### Table of Contents:\n",
    "* [1. Preparing the Data](#1)\n",
    "* &emsp;[1.1. Importing Libraries](#11)\n",
    "* [2. Data Cleaning](#2)\n",
    "* &emsp;[2.1. Identifying Missing Values](#21)\n",
    "* &emsp;[2.2. Dealing with Missing Values](#22)\n",
    "* &emsp;[2.3. Removing Rows](#23)\n",
    "* &emsp;[2.4. Finding Outliers](#24)\n",
    "* &emsp;&emsp;[2.4.1. IQR Score Method](#241)\n",
    "* &emsp;[2.5. Box Plot](#25)\n",
    "* [3. Data Transformation](#3)\n",
    "* &emsp;[3.1. Binning](#31)\n",
    "* &emsp;[3.2. Normalization](#32)\n",
    "* &emsp;&emsp;[3.2.1. Z-score Method](#33)\n",
    "* [4. Results](#4)\n",
    "* &emsp;[4.1. Data Cleaning](#41)\n",
    "* &emsp;[4.2. Data Transformation](#42)"
   ]
  },
  {
   "cell_type": "markdown",
   "metadata": {},
   "source": [
    "# 1. Preparing the Data <a class=\"anchor\" id=\"1\"></a>"
   ]
  },
  {
   "cell_type": "markdown",
   "metadata": {},
   "source": [
    "## 1.1. Importing Libraries <a class=\"anchor\" id=\"11\"></a>"
   ]
  },
  {
   "cell_type": "code",
   "execution_count": 1,
   "metadata": {},
   "outputs": [],
   "source": [
    "import pandas as pd \n",
    "import numpy as np  \n",
    "import matplotlib.pyplot as plt \n",
    "import seaborn as sns\n",
    "from sklearn.preprocessing import StandardScaler\n",
    "\n",
    "%matplotlib inline  \n",
    "plt.style.use('fivethirtyeight')"
   ]
  },
  {
   "cell_type": "markdown",
   "metadata": {},
   "source": [
    "# 2. Data Cleaning <a class=\"anchor\" id=\"2\"></a>"
   ]
  },
  {
   "cell_type": "markdown",
   "metadata": {},
   "source": [
    "## 2.1. Identifying Missing Values <a class=\"anchor\" id=\"21\"></a>"
   ]
  },
  {
   "cell_type": "code",
   "execution_count": 2,
   "metadata": {},
   "outputs": [],
   "source": [
    "df = pd.read_csv('data/raw_training_data.csv')"
   ]
  },
  {
   "cell_type": "code",
   "execution_count": 3,
   "metadata": {},
   "outputs": [],
   "source": [
    "categorical_features = ['company','country','director','genre','rating','released','star','year',\n",
    "                        'writer','adult','original_title','overview','tagline','title','genres_edited',\n",
    "                        'spoken_languages_edited','production_countries_edited','keywords_edited']\n",
    "continuous_features = ['budget','runtime','score','votes','popularity']\n",
    "target_features = ['isprofit','profitability_ratio']"
   ]
  },
  {
   "cell_type": "code",
   "execution_count": 4,
   "metadata": {},
   "outputs": [
    {
     "data": {
      "text/plain": [
       "(3524, 32)"
      ]
     },
     "execution_count": 4,
     "metadata": {},
     "output_type": "execute_result"
    }
   ],
   "source": [
    "df.shape # (# rows, # cols)"
   ]
  },
  {
   "cell_type": "code",
   "execution_count": 5,
   "metadata": {},
   "outputs": [
    {
     "data": {
      "text/html": [
       "<div>\n",
       "<style scoped>\n",
       "    .dataframe tbody tr th:only-of-type {\n",
       "        vertical-align: middle;\n",
       "    }\n",
       "\n",
       "    .dataframe tbody tr th {\n",
       "        vertical-align: top;\n",
       "    }\n",
       "\n",
       "    .dataframe thead th {\n",
       "        text-align: right;\n",
       "    }\n",
       "</style>\n",
       "<table border=\"1\" class=\"dataframe\">\n",
       "  <thead>\n",
       "    <tr style=\"text-align: right;\">\n",
       "      <th></th>\n",
       "      <th>Unnamed: 0</th>\n",
       "      <th>budget</th>\n",
       "      <th>company</th>\n",
       "      <th>country</th>\n",
       "      <th>director</th>\n",
       "      <th>genre</th>\n",
       "      <th>gross</th>\n",
       "      <th>name</th>\n",
       "      <th>rating</th>\n",
       "      <th>released</th>\n",
       "      <th>...</th>\n",
       "      <th>original_title</th>\n",
       "      <th>overview</th>\n",
       "      <th>popularity</th>\n",
       "      <th>tagline</th>\n",
       "      <th>title</th>\n",
       "      <th>genres_edited</th>\n",
       "      <th>spoken_languages_edited</th>\n",
       "      <th>production_countries_edited</th>\n",
       "      <th>keywords_edited</th>\n",
       "      <th>year_released</th>\n",
       "    </tr>\n",
       "  </thead>\n",
       "  <tbody>\n",
       "    <tr>\n",
       "      <th>0</th>\n",
       "      <td>0</td>\n",
       "      <td>8000000</td>\n",
       "      <td>Columbia Pictures Corporation</td>\n",
       "      <td>USA</td>\n",
       "      <td>Rob Reiner</td>\n",
       "      <td>Adventure</td>\n",
       "      <td>52287414</td>\n",
       "      <td>Stand by Me</td>\n",
       "      <td>R</td>\n",
       "      <td>22.08.1986 00:00</td>\n",
       "      <td>...</td>\n",
       "      <td>Stand by Me</td>\n",
       "      <td>After the death of a friend, a writer recounts...</td>\n",
       "      <td>15.206957</td>\n",
       "      <td>For some, it's the last real taste of innocenc...</td>\n",
       "      <td>Stand by Me</td>\n",
       "      <td>Crime, Drama</td>\n",
       "      <td>en</td>\n",
       "      <td>US</td>\n",
       "      <td>based on novel, friendship, coming of age, rai...</td>\n",
       "      <td>1986</td>\n",
       "    </tr>\n",
       "    <tr>\n",
       "      <th>1</th>\n",
       "      <td>1</td>\n",
       "      <td>6000000</td>\n",
       "      <td>Paramount Pictures</td>\n",
       "      <td>USA</td>\n",
       "      <td>Other</td>\n",
       "      <td>Comedy</td>\n",
       "      <td>70136369</td>\n",
       "      <td>Ferris Bueller's Day Off</td>\n",
       "      <td>PG-13</td>\n",
       "      <td>11.06.1986 00:00</td>\n",
       "      <td>...</td>\n",
       "      <td>Ferris Bueller's Day Off</td>\n",
       "      <td>Charismatic teen Ferris Bueller plays hooky in...</td>\n",
       "      <td>12.724645</td>\n",
       "      <td>One man's struggle to take it easy.</td>\n",
       "      <td>Ferris Bueller's Day Off</td>\n",
       "      <td>Comedy</td>\n",
       "      <td>en</td>\n",
       "      <td>US</td>\n",
       "      <td>chicago, high school, aftercreditsstinger, dur...</td>\n",
       "      <td>1986</td>\n",
       "    </tr>\n",
       "    <tr>\n",
       "      <th>2</th>\n",
       "      <td>2</td>\n",
       "      <td>15000000</td>\n",
       "      <td>Paramount Pictures</td>\n",
       "      <td>USA</td>\n",
       "      <td>Other</td>\n",
       "      <td>Action</td>\n",
       "      <td>179800601</td>\n",
       "      <td>Top Gun</td>\n",
       "      <td>PG</td>\n",
       "      <td>16.05.1986 00:00</td>\n",
       "      <td>...</td>\n",
       "      <td>Top Gun</td>\n",
       "      <td>For Lieutenant Pete 'Maverick' Mitchell and hi...</td>\n",
       "      <td>20.301019</td>\n",
       "      <td>Up there with the best of the best.</td>\n",
       "      <td>Top Gun</td>\n",
       "      <td>Action, Romance, War</td>\n",
       "      <td>en</td>\n",
       "      <td>US</td>\n",
       "      <td>lovesickness, loss of lover, fighter pilot, se...</td>\n",
       "      <td>1986</td>\n",
       "    </tr>\n",
       "    <tr>\n",
       "      <th>3</th>\n",
       "      <td>3</td>\n",
       "      <td>18500000</td>\n",
       "      <td>Twentieth Century Fox Film Corporation</td>\n",
       "      <td>USA</td>\n",
       "      <td>Other</td>\n",
       "      <td>Action</td>\n",
       "      <td>85160248</td>\n",
       "      <td>Aliens</td>\n",
       "      <td>R</td>\n",
       "      <td>18.07.1986 00:00</td>\n",
       "      <td>...</td>\n",
       "      <td>Aliens</td>\n",
       "      <td>When Ripley's lifepod is found by a salvage cr...</td>\n",
       "      <td>21.761179</td>\n",
       "      <td>This Time It's War</td>\n",
       "      <td>Aliens</td>\n",
       "      <td>Horror, Action, Thriller, Science Fiction</td>\n",
       "      <td>en</td>\n",
       "      <td>GB, US</td>\n",
       "      <td>android, extraterrestrial technology, space ma...</td>\n",
       "      <td>1986</td>\n",
       "    </tr>\n",
       "    <tr>\n",
       "      <th>4</th>\n",
       "      <td>4</td>\n",
       "      <td>9000000</td>\n",
       "      <td>Walt Disney Pictures</td>\n",
       "      <td>USA</td>\n",
       "      <td>Other</td>\n",
       "      <td>Adventure</td>\n",
       "      <td>18564613</td>\n",
       "      <td>Flight of the Navigator</td>\n",
       "      <td>PG</td>\n",
       "      <td>1.08.1986 00:00</td>\n",
       "      <td>...</td>\n",
       "      <td>Flight of the Navigator</td>\n",
       "      <td>This 1986 Disney adventure tells the story of ...</td>\n",
       "      <td>5.526865</td>\n",
       "      <td>Come along on the greatest adventure of the su...</td>\n",
       "      <td>Flight of the Navigator</td>\n",
       "      <td>Family, Science Fiction, Adventure</td>\n",
       "      <td>en</td>\n",
       "      <td>US</td>\n",
       "      <td>artificial intelligence, farewell, homesicknes...</td>\n",
       "      <td>1986</td>\n",
       "    </tr>\n",
       "  </tbody>\n",
       "</table>\n",
       "<p>5 rows × 32 columns</p>\n",
       "</div>"
      ],
      "text/plain": [
       "   Unnamed: 0    budget                                 company country  \\\n",
       "0           0   8000000           Columbia Pictures Corporation     USA   \n",
       "1           1   6000000                      Paramount Pictures     USA   \n",
       "2           2  15000000                      Paramount Pictures     USA   \n",
       "3           3  18500000  Twentieth Century Fox Film Corporation     USA   \n",
       "4           4   9000000                    Walt Disney Pictures     USA   \n",
       "\n",
       "     director      genre      gross                      name rating  \\\n",
       "0  Rob Reiner  Adventure   52287414               Stand by Me      R   \n",
       "1       Other     Comedy   70136369  Ferris Bueller's Day Off  PG-13   \n",
       "2       Other     Action  179800601                   Top Gun     PG   \n",
       "3       Other     Action   85160248                    Aliens      R   \n",
       "4       Other  Adventure   18564613   Flight of the Navigator     PG   \n",
       "\n",
       "           released  ...            original_title  \\\n",
       "0  22.08.1986 00:00  ...               Stand by Me   \n",
       "1  11.06.1986 00:00  ...  Ferris Bueller's Day Off   \n",
       "2  16.05.1986 00:00  ...                   Top Gun   \n",
       "3  18.07.1986 00:00  ...                    Aliens   \n",
       "4   1.08.1986 00:00  ...   Flight of the Navigator   \n",
       "\n",
       "                                            overview popularity  \\\n",
       "0  After the death of a friend, a writer recounts...  15.206957   \n",
       "1  Charismatic teen Ferris Bueller plays hooky in...  12.724645   \n",
       "2  For Lieutenant Pete 'Maverick' Mitchell and hi...  20.301019   \n",
       "3  When Ripley's lifepod is found by a salvage cr...  21.761179   \n",
       "4  This 1986 Disney adventure tells the story of ...   5.526865   \n",
       "\n",
       "                                             tagline  \\\n",
       "0  For some, it's the last real taste of innocenc...   \n",
       "1                One man's struggle to take it easy.   \n",
       "2                Up there with the best of the best.   \n",
       "3                                 This Time It's War   \n",
       "4  Come along on the greatest adventure of the su...   \n",
       "\n",
       "                      title                              genres_edited  \\\n",
       "0               Stand by Me                               Crime, Drama   \n",
       "1  Ferris Bueller's Day Off                                     Comedy   \n",
       "2                   Top Gun                       Action, Romance, War   \n",
       "3                    Aliens  Horror, Action, Thriller, Science Fiction   \n",
       "4   Flight of the Navigator         Family, Science Fiction, Adventure   \n",
       "\n",
       "   spoken_languages_edited  production_countries_edited  \\\n",
       "0                       en                           US   \n",
       "1                       en                           US   \n",
       "2                       en                           US   \n",
       "3                       en                       GB, US   \n",
       "4                       en                           US   \n",
       "\n",
       "                                     keywords_edited year_released  \n",
       "0  based on novel, friendship, coming of age, rai...          1986  \n",
       "1  chicago, high school, aftercreditsstinger, dur...          1986  \n",
       "2  lovesickness, loss of lover, fighter pilot, se...          1986  \n",
       "3  android, extraterrestrial technology, space ma...          1986  \n",
       "4  artificial intelligence, farewell, homesicknes...          1986  \n",
       "\n",
       "[5 rows x 32 columns]"
      ]
     },
     "execution_count": 5,
     "metadata": {},
     "output_type": "execute_result"
    }
   ],
   "source": [
    "df.head() # take a peak at the dataset"
   ]
  },
  {
   "cell_type": "code",
   "execution_count": 6,
   "metadata": {},
   "outputs": [],
   "source": [
    "del df['Unnamed: 0']"
   ]
  },
  {
   "cell_type": "code",
   "execution_count": 7,
   "metadata": {},
   "outputs": [
    {
     "name": "stdout",
     "output_type": "stream",
     "text": [
      "<class 'pandas.core.frame.DataFrame'>\n",
      "RangeIndex: 3524 entries, 0 to 3523\n",
      "Data columns (total 31 columns):\n",
      " #   Column                       Non-Null Count  Dtype  \n",
      "---  ------                       --------------  -----  \n",
      " 0   budget                       3524 non-null   int64  \n",
      " 1   company                      3524 non-null   object \n",
      " 2   country                      3524 non-null   object \n",
      " 3   director                     3524 non-null   object \n",
      " 4   genre                        3524 non-null   object \n",
      " 5   gross                        3524 non-null   int64  \n",
      " 6   name                         3524 non-null   object \n",
      " 7   rating                       3524 non-null   object \n",
      " 8   released                     3524 non-null   object \n",
      " 9   runtime                      3524 non-null   int64  \n",
      " 10  score                        3524 non-null   float64\n",
      " 11  star                         3524 non-null   object \n",
      " 12  votes                        3524 non-null   int64  \n",
      " 13  writer                       3524 non-null   object \n",
      " 14  year                         3524 non-null   int64  \n",
      " 15  isprofit                     3524 non-null   int64  \n",
      " 16  profitability_ratio          3524 non-null   float64\n",
      " 17  profitability_ratio_bucket   3524 non-null   int64  \n",
      " 18  adult                        3524 non-null   object \n",
      " 19  id                           3524 non-null   int64  \n",
      " 20  imdb_id                      3524 non-null   object \n",
      " 21  original_title               3524 non-null   object \n",
      " 22  overview                     3523 non-null   object \n",
      " 23  popularity                   3524 non-null   float64\n",
      " 24  tagline                      3153 non-null   object \n",
      " 25  title                        3524 non-null   object \n",
      " 26  genres_edited                3524 non-null   object \n",
      " 27  spoken_languages_edited      3517 non-null   object \n",
      " 28  production_countries_edited  3493 non-null   object \n",
      " 29  keywords_edited              3357 non-null   object \n",
      " 30  year_released                3524 non-null   int64  \n",
      "dtypes: float64(3), int64(9), object(19)\n",
      "memory usage: 592.0+ KB\n"
     ]
    }
   ],
   "source": [
    "df.info()"
   ]
  },
  {
   "cell_type": "code",
   "execution_count": 8,
   "metadata": {},
   "outputs": [
    {
     "data": {
      "text/plain": [
       "budget                           0\n",
       "company                          0\n",
       "country                          0\n",
       "director                         0\n",
       "genre                            0\n",
       "gross                            0\n",
       "name                             0\n",
       "rating                           0\n",
       "released                         0\n",
       "runtime                          0\n",
       "score                            0\n",
       "star                             0\n",
       "votes                            0\n",
       "writer                           0\n",
       "year                             0\n",
       "isprofit                         0\n",
       "profitability_ratio              0\n",
       "profitability_ratio_bucket       0\n",
       "adult                            0\n",
       "id                               0\n",
       "imdb_id                          0\n",
       "original_title                   0\n",
       "overview                         1\n",
       "popularity                       0\n",
       "tagline                        371\n",
       "title                            0\n",
       "genres_edited                    0\n",
       "spoken_languages_edited          7\n",
       "production_countries_edited     31\n",
       "keywords_edited                167\n",
       "year_released                    0\n",
       "dtype: int64"
      ]
     },
     "execution_count": 8,
     "metadata": {},
     "output_type": "execute_result"
    }
   ],
   "source": [
    "df.isnull().sum()"
   ]
  },
  {
   "cell_type": "code",
   "execution_count": 9,
   "metadata": {},
   "outputs": [
    {
     "data": {
      "text/html": [
       "<div>\n",
       "<style scoped>\n",
       "    .dataframe tbody tr th:only-of-type {\n",
       "        vertical-align: middle;\n",
       "    }\n",
       "\n",
       "    .dataframe tbody tr th {\n",
       "        vertical-align: top;\n",
       "    }\n",
       "\n",
       "    .dataframe thead th {\n",
       "        text-align: right;\n",
       "    }\n",
       "</style>\n",
       "<table border=\"1\" class=\"dataframe\">\n",
       "  <thead>\n",
       "    <tr style=\"text-align: right;\">\n",
       "      <th></th>\n",
       "      <th>budget</th>\n",
       "      <th>gross</th>\n",
       "      <th>runtime</th>\n",
       "      <th>score</th>\n",
       "      <th>votes</th>\n",
       "      <th>year</th>\n",
       "      <th>isprofit</th>\n",
       "      <th>profitability_ratio</th>\n",
       "      <th>profitability_ratio_bucket</th>\n",
       "      <th>id</th>\n",
       "      <th>popularity</th>\n",
       "      <th>year_released</th>\n",
       "    </tr>\n",
       "  </thead>\n",
       "  <tbody>\n",
       "    <tr>\n",
       "      <th>count</th>\n",
       "      <td>3.524000e+03</td>\n",
       "      <td>3.524000e+03</td>\n",
       "      <td>3524.000000</td>\n",
       "      <td>3524.000000</td>\n",
       "      <td>3.524000e+03</td>\n",
       "      <td>3524.000000</td>\n",
       "      <td>3524.000000</td>\n",
       "      <td>3524.000000</td>\n",
       "      <td>3524.000000</td>\n",
       "      <td>3524.000000</td>\n",
       "      <td>3524.000000</td>\n",
       "      <td>3524.000000</td>\n",
       "    </tr>\n",
       "    <tr>\n",
       "      <th>mean</th>\n",
       "      <td>3.646837e+07</td>\n",
       "      <td>4.772520e+07</td>\n",
       "      <td>107.189274</td>\n",
       "      <td>6.339018</td>\n",
       "      <td>9.928306e+04</td>\n",
       "      <td>1997.125709</td>\n",
       "      <td>0.510499</td>\n",
       "      <td>3.996876</td>\n",
       "      <td>399.602157</td>\n",
       "      <td>45443.112656</td>\n",
       "      <td>9.785946</td>\n",
       "      <td>2002.385641</td>\n",
       "    </tr>\n",
       "    <tr>\n",
       "      <th>std</th>\n",
       "      <td>4.063369e+07</td>\n",
       "      <td>6.707121e+07</td>\n",
       "      <td>18.472177</td>\n",
       "      <td>1.056288</td>\n",
       "      <td>1.568040e+05</td>\n",
       "      <td>101.418026</td>\n",
       "      <td>0.499961</td>\n",
       "      <td>127.868810</td>\n",
       "      <td>12786.904323</td>\n",
       "      <td>77014.289184</td>\n",
       "      <td>13.318482</td>\n",
       "      <td>8.422442</td>\n",
       "    </tr>\n",
       "    <tr>\n",
       "      <th>min</th>\n",
       "      <td>0.000000e+00</td>\n",
       "      <td>0.000000e+00</td>\n",
       "      <td>0.000000</td>\n",
       "      <td>0.000000</td>\n",
       "      <td>0.000000e+00</td>\n",
       "      <td>0.000000</td>\n",
       "      <td>0.000000</td>\n",
       "      <td>-0.999979</td>\n",
       "      <td>-100.000000</td>\n",
       "      <td>0.000000</td>\n",
       "      <td>0.000000</td>\n",
       "      <td>1986.000000</td>\n",
       "    </tr>\n",
       "    <tr>\n",
       "      <th>25%</th>\n",
       "      <td>1.000000e+07</td>\n",
       "      <td>6.955428e+06</td>\n",
       "      <td>95.000000</td>\n",
       "      <td>5.800000</td>\n",
       "      <td>1.554475e+04</td>\n",
       "      <td>1996.000000</td>\n",
       "      <td>0.000000</td>\n",
       "      <td>-0.552571</td>\n",
       "      <td>-60.000000</td>\n",
       "      <td>8864.750000</td>\n",
       "      <td>5.746421</td>\n",
       "      <td>1996.000000</td>\n",
       "    </tr>\n",
       "    <tr>\n",
       "      <th>50%</th>\n",
       "      <td>2.300000e+07</td>\n",
       "      <td>2.511110e+07</td>\n",
       "      <td>104.000000</td>\n",
       "      <td>6.400000</td>\n",
       "      <td>4.403550e+04</td>\n",
       "      <td>2002.000000</td>\n",
       "      <td>1.000000</td>\n",
       "      <td>0.020240</td>\n",
       "      <td>0.000000</td>\n",
       "      <td>12513.500000</td>\n",
       "      <td>8.411079</td>\n",
       "      <td>2003.000000</td>\n",
       "    </tr>\n",
       "    <tr>\n",
       "      <th>75%</th>\n",
       "      <td>4.800000e+07</td>\n",
       "      <td>6.036672e+07</td>\n",
       "      <td>117.000000</td>\n",
       "      <td>7.000000</td>\n",
       "      <td>1.148628e+05</td>\n",
       "      <td>2009.000000</td>\n",
       "      <td>1.000000</td>\n",
       "      <td>1.029155</td>\n",
       "      <td>100.000000</td>\n",
       "      <td>41220.250000</td>\n",
       "      <td>11.654501</td>\n",
       "      <td>2010.000000</td>\n",
       "    </tr>\n",
       "    <tr>\n",
       "      <th>max</th>\n",
       "      <td>3.000000e+08</td>\n",
       "      <td>9.366622e+08</td>\n",
       "      <td>271.000000</td>\n",
       "      <td>9.300000</td>\n",
       "      <td>1.861666e+06</td>\n",
       "      <td>2016.000000</td>\n",
       "      <td>1.000000</td>\n",
       "      <td>7193.587333</td>\n",
       "      <td>719360.000000</td>\n",
       "      <td>404378.000000</td>\n",
       "      <td>547.488298</td>\n",
       "      <td>2017.000000</td>\n",
       "    </tr>\n",
       "  </tbody>\n",
       "</table>\n",
       "</div>"
      ],
      "text/plain": [
       "             budget         gross      runtime        score         votes  \\\n",
       "count  3.524000e+03  3.524000e+03  3524.000000  3524.000000  3.524000e+03   \n",
       "mean   3.646837e+07  4.772520e+07   107.189274     6.339018  9.928306e+04   \n",
       "std    4.063369e+07  6.707121e+07    18.472177     1.056288  1.568040e+05   \n",
       "min    0.000000e+00  0.000000e+00     0.000000     0.000000  0.000000e+00   \n",
       "25%    1.000000e+07  6.955428e+06    95.000000     5.800000  1.554475e+04   \n",
       "50%    2.300000e+07  2.511110e+07   104.000000     6.400000  4.403550e+04   \n",
       "75%    4.800000e+07  6.036672e+07   117.000000     7.000000  1.148628e+05   \n",
       "max    3.000000e+08  9.366622e+08   271.000000     9.300000  1.861666e+06   \n",
       "\n",
       "              year     isprofit  profitability_ratio  \\\n",
       "count  3524.000000  3524.000000          3524.000000   \n",
       "mean   1997.125709     0.510499             3.996876   \n",
       "std     101.418026     0.499961           127.868810   \n",
       "min       0.000000     0.000000            -0.999979   \n",
       "25%    1996.000000     0.000000            -0.552571   \n",
       "50%    2002.000000     1.000000             0.020240   \n",
       "75%    2009.000000     1.000000             1.029155   \n",
       "max    2016.000000     1.000000          7193.587333   \n",
       "\n",
       "       profitability_ratio_bucket             id   popularity  year_released  \n",
       "count                 3524.000000    3524.000000  3524.000000    3524.000000  \n",
       "mean                   399.602157   45443.112656     9.785946    2002.385641  \n",
       "std                  12786.904323   77014.289184    13.318482       8.422442  \n",
       "min                   -100.000000       0.000000     0.000000    1986.000000  \n",
       "25%                    -60.000000    8864.750000     5.746421    1996.000000  \n",
       "50%                      0.000000   12513.500000     8.411079    2003.000000  \n",
       "75%                    100.000000   41220.250000    11.654501    2010.000000  \n",
       "max                 719360.000000  404378.000000   547.488298    2017.000000  "
      ]
     },
     "execution_count": 9,
     "metadata": {},
     "output_type": "execute_result"
    }
   ],
   "source": [
    "df.describe()   # before replacing zero with None"
   ]
  },
  {
   "cell_type": "markdown",
   "metadata": {},
   "source": [
    "## 2.2. Dealing with Missing Values <a class=\"anchor\" id=\"22\"></a>"
   ]
  },
  {
   "cell_type": "markdown",
   "metadata": {},
   "source": [
    "By observing the data, we see that only the following columns need initial transformation to replace zeros with the value None:\n",
    "* overview\n",
    "* tagline\n",
    "* spoken_languages_edited\n",
    "* production_countries_edited\n",
    "* keywords_edited\n",
    "\n",
    "And the remaining features do not have to change since they do not contain zero values."
   ]
  },
  {
   "cell_type": "code",
   "execution_count": 10,
   "metadata": {},
   "outputs": [],
   "source": [
    "df['overview'] = df['overview'].map(lambda x:x if x != 0 else None)\n",
    "df['tagline'] = df['tagline'].map(lambda x:x if x != 0 else None)\n",
    "df['spoken_languages_edited'] = df['spoken_languages_edited'].map(lambda x:x if x != 0 else None)\n",
    "df['production_countries_edited'] = df['production_countries_edited'].map(lambda x:x if x != 0 else None)\n",
    "df['keywords_edited'] = df['keywords_edited'].map(lambda x:x if x != 0 else None)"
   ]
  },
  {
   "cell_type": "code",
   "execution_count": 11,
   "metadata": {},
   "outputs": [
    {
     "data": {
      "text/html": [
       "<div>\n",
       "<style scoped>\n",
       "    .dataframe tbody tr th:only-of-type {\n",
       "        vertical-align: middle;\n",
       "    }\n",
       "\n",
       "    .dataframe tbody tr th {\n",
       "        vertical-align: top;\n",
       "    }\n",
       "\n",
       "    .dataframe thead th {\n",
       "        text-align: right;\n",
       "    }\n",
       "</style>\n",
       "<table border=\"1\" class=\"dataframe\">\n",
       "  <thead>\n",
       "    <tr style=\"text-align: right;\">\n",
       "      <th></th>\n",
       "      <th>budget</th>\n",
       "      <th>company</th>\n",
       "      <th>country</th>\n",
       "      <th>director</th>\n",
       "      <th>genre</th>\n",
       "      <th>gross</th>\n",
       "      <th>name</th>\n",
       "      <th>rating</th>\n",
       "      <th>released</th>\n",
       "      <th>runtime</th>\n",
       "      <th>...</th>\n",
       "      <th>original_title</th>\n",
       "      <th>overview</th>\n",
       "      <th>popularity</th>\n",
       "      <th>tagline</th>\n",
       "      <th>title</th>\n",
       "      <th>genres_edited</th>\n",
       "      <th>spoken_languages_edited</th>\n",
       "      <th>production_countries_edited</th>\n",
       "      <th>keywords_edited</th>\n",
       "      <th>year_released</th>\n",
       "    </tr>\n",
       "  </thead>\n",
       "  <tbody>\n",
       "    <tr>\n",
       "      <th>0</th>\n",
       "      <td>8000000</td>\n",
       "      <td>Columbia Pictures Corporation</td>\n",
       "      <td>USA</td>\n",
       "      <td>Rob Reiner</td>\n",
       "      <td>Adventure</td>\n",
       "      <td>52287414</td>\n",
       "      <td>Stand by Me</td>\n",
       "      <td>R</td>\n",
       "      <td>22.08.1986 00:00</td>\n",
       "      <td>89</td>\n",
       "      <td>...</td>\n",
       "      <td>Stand by Me</td>\n",
       "      <td>After the death of a friend, a writer recounts...</td>\n",
       "      <td>15.206957</td>\n",
       "      <td>For some, it's the last real taste of innocenc...</td>\n",
       "      <td>Stand by Me</td>\n",
       "      <td>Crime, Drama</td>\n",
       "      <td>en</td>\n",
       "      <td>US</td>\n",
       "      <td>based on novel, friendship, coming of age, rai...</td>\n",
       "      <td>1986</td>\n",
       "    </tr>\n",
       "    <tr>\n",
       "      <th>1</th>\n",
       "      <td>6000000</td>\n",
       "      <td>Paramount Pictures</td>\n",
       "      <td>USA</td>\n",
       "      <td>Other</td>\n",
       "      <td>Comedy</td>\n",
       "      <td>70136369</td>\n",
       "      <td>Ferris Bueller's Day Off</td>\n",
       "      <td>PG-13</td>\n",
       "      <td>11.06.1986 00:00</td>\n",
       "      <td>103</td>\n",
       "      <td>...</td>\n",
       "      <td>Ferris Bueller's Day Off</td>\n",
       "      <td>Charismatic teen Ferris Bueller plays hooky in...</td>\n",
       "      <td>12.724645</td>\n",
       "      <td>One man's struggle to take it easy.</td>\n",
       "      <td>Ferris Bueller's Day Off</td>\n",
       "      <td>Comedy</td>\n",
       "      <td>en</td>\n",
       "      <td>US</td>\n",
       "      <td>chicago, high school, aftercreditsstinger, dur...</td>\n",
       "      <td>1986</td>\n",
       "    </tr>\n",
       "    <tr>\n",
       "      <th>2</th>\n",
       "      <td>15000000</td>\n",
       "      <td>Paramount Pictures</td>\n",
       "      <td>USA</td>\n",
       "      <td>Other</td>\n",
       "      <td>Action</td>\n",
       "      <td>179800601</td>\n",
       "      <td>Top Gun</td>\n",
       "      <td>PG</td>\n",
       "      <td>16.05.1986 00:00</td>\n",
       "      <td>110</td>\n",
       "      <td>...</td>\n",
       "      <td>Top Gun</td>\n",
       "      <td>For Lieutenant Pete 'Maverick' Mitchell and hi...</td>\n",
       "      <td>20.301019</td>\n",
       "      <td>Up there with the best of the best.</td>\n",
       "      <td>Top Gun</td>\n",
       "      <td>Action, Romance, War</td>\n",
       "      <td>en</td>\n",
       "      <td>US</td>\n",
       "      <td>lovesickness, loss of lover, fighter pilot, se...</td>\n",
       "      <td>1986</td>\n",
       "    </tr>\n",
       "    <tr>\n",
       "      <th>3</th>\n",
       "      <td>18500000</td>\n",
       "      <td>Twentieth Century Fox Film Corporation</td>\n",
       "      <td>USA</td>\n",
       "      <td>Other</td>\n",
       "      <td>Action</td>\n",
       "      <td>85160248</td>\n",
       "      <td>Aliens</td>\n",
       "      <td>R</td>\n",
       "      <td>18.07.1986 00:00</td>\n",
       "      <td>137</td>\n",
       "      <td>...</td>\n",
       "      <td>Aliens</td>\n",
       "      <td>When Ripley's lifepod is found by a salvage cr...</td>\n",
       "      <td>21.761179</td>\n",
       "      <td>This Time It's War</td>\n",
       "      <td>Aliens</td>\n",
       "      <td>Horror, Action, Thriller, Science Fiction</td>\n",
       "      <td>en</td>\n",
       "      <td>GB, US</td>\n",
       "      <td>android, extraterrestrial technology, space ma...</td>\n",
       "      <td>1986</td>\n",
       "    </tr>\n",
       "    <tr>\n",
       "      <th>4</th>\n",
       "      <td>9000000</td>\n",
       "      <td>Walt Disney Pictures</td>\n",
       "      <td>USA</td>\n",
       "      <td>Other</td>\n",
       "      <td>Adventure</td>\n",
       "      <td>18564613</td>\n",
       "      <td>Flight of the Navigator</td>\n",
       "      <td>PG</td>\n",
       "      <td>1.08.1986 00:00</td>\n",
       "      <td>90</td>\n",
       "      <td>...</td>\n",
       "      <td>Flight of the Navigator</td>\n",
       "      <td>This 1986 Disney adventure tells the story of ...</td>\n",
       "      <td>5.526865</td>\n",
       "      <td>Come along on the greatest adventure of the su...</td>\n",
       "      <td>Flight of the Navigator</td>\n",
       "      <td>Family, Science Fiction, Adventure</td>\n",
       "      <td>en</td>\n",
       "      <td>US</td>\n",
       "      <td>artificial intelligence, farewell, homesicknes...</td>\n",
       "      <td>1986</td>\n",
       "    </tr>\n",
       "  </tbody>\n",
       "</table>\n",
       "<p>5 rows × 31 columns</p>\n",
       "</div>"
      ],
      "text/plain": [
       "     budget                                 company country    director  \\\n",
       "0   8000000           Columbia Pictures Corporation     USA  Rob Reiner   \n",
       "1   6000000                      Paramount Pictures     USA       Other   \n",
       "2  15000000                      Paramount Pictures     USA       Other   \n",
       "3  18500000  Twentieth Century Fox Film Corporation     USA       Other   \n",
       "4   9000000                    Walt Disney Pictures     USA       Other   \n",
       "\n",
       "       genre      gross                      name rating          released  \\\n",
       "0  Adventure   52287414               Stand by Me      R  22.08.1986 00:00   \n",
       "1     Comedy   70136369  Ferris Bueller's Day Off  PG-13  11.06.1986 00:00   \n",
       "2     Action  179800601                   Top Gun     PG  16.05.1986 00:00   \n",
       "3     Action   85160248                    Aliens      R  18.07.1986 00:00   \n",
       "4  Adventure   18564613   Flight of the Navigator     PG   1.08.1986 00:00   \n",
       "\n",
       "   runtime  ...            original_title  \\\n",
       "0       89  ...               Stand by Me   \n",
       "1      103  ...  Ferris Bueller's Day Off   \n",
       "2      110  ...                   Top Gun   \n",
       "3      137  ...                    Aliens   \n",
       "4       90  ...   Flight of the Navigator   \n",
       "\n",
       "                                            overview  popularity  \\\n",
       "0  After the death of a friend, a writer recounts...   15.206957   \n",
       "1  Charismatic teen Ferris Bueller plays hooky in...   12.724645   \n",
       "2  For Lieutenant Pete 'Maverick' Mitchell and hi...   20.301019   \n",
       "3  When Ripley's lifepod is found by a salvage cr...   21.761179   \n",
       "4  This 1986 Disney adventure tells the story of ...    5.526865   \n",
       "\n",
       "                                             tagline  \\\n",
       "0  For some, it's the last real taste of innocenc...   \n",
       "1                One man's struggle to take it easy.   \n",
       "2                Up there with the best of the best.   \n",
       "3                                 This Time It's War   \n",
       "4  Come along on the greatest adventure of the su...   \n",
       "\n",
       "                      title                              genres_edited  \\\n",
       "0               Stand by Me                               Crime, Drama   \n",
       "1  Ferris Bueller's Day Off                                     Comedy   \n",
       "2                   Top Gun                       Action, Romance, War   \n",
       "3                    Aliens  Horror, Action, Thriller, Science Fiction   \n",
       "4   Flight of the Navigator         Family, Science Fiction, Adventure   \n",
       "\n",
       "   spoken_languages_edited  production_countries_edited  \\\n",
       "0                       en                           US   \n",
       "1                       en                           US   \n",
       "2                       en                           US   \n",
       "3                       en                       GB, US   \n",
       "4                       en                           US   \n",
       "\n",
       "                                     keywords_edited  year_released  \n",
       "0  based on novel, friendship, coming of age, rai...           1986  \n",
       "1  chicago, high school, aftercreditsstinger, dur...           1986  \n",
       "2  lovesickness, loss of lover, fighter pilot, se...           1986  \n",
       "3  android, extraterrestrial technology, space ma...           1986  \n",
       "4  artificial intelligence, farewell, homesicknes...           1986  \n",
       "\n",
       "[5 rows x 31 columns]"
      ]
     },
     "execution_count": 11,
     "metadata": {},
     "output_type": "execute_result"
    }
   ],
   "source": [
    "df.head()   # take a peak at the dataset"
   ]
  },
  {
   "cell_type": "code",
   "execution_count": 12,
   "metadata": {},
   "outputs": [
    {
     "name": "stdout",
     "output_type": "stream",
     "text": [
      "<class 'pandas.core.frame.DataFrame'>\n",
      "RangeIndex: 3524 entries, 0 to 3523\n",
      "Data columns (total 31 columns):\n",
      " #   Column                       Non-Null Count  Dtype  \n",
      "---  ------                       --------------  -----  \n",
      " 0   budget                       3524 non-null   int64  \n",
      " 1   company                      3524 non-null   object \n",
      " 2   country                      3524 non-null   object \n",
      " 3   director                     3524 non-null   object \n",
      " 4   genre                        3524 non-null   object \n",
      " 5   gross                        3524 non-null   int64  \n",
      " 6   name                         3524 non-null   object \n",
      " 7   rating                       3524 non-null   object \n",
      " 8   released                     3524 non-null   object \n",
      " 9   runtime                      3524 non-null   int64  \n",
      " 10  score                        3524 non-null   float64\n",
      " 11  star                         3524 non-null   object \n",
      " 12  votes                        3524 non-null   int64  \n",
      " 13  writer                       3524 non-null   object \n",
      " 14  year                         3524 non-null   int64  \n",
      " 15  isprofit                     3524 non-null   int64  \n",
      " 16  profitability_ratio          3524 non-null   float64\n",
      " 17  profitability_ratio_bucket   3524 non-null   int64  \n",
      " 18  adult                        3524 non-null   object \n",
      " 19  id                           3524 non-null   int64  \n",
      " 20  imdb_id                      3524 non-null   object \n",
      " 21  original_title               3524 non-null   object \n",
      " 22  overview                     3523 non-null   object \n",
      " 23  popularity                   3524 non-null   float64\n",
      " 24  tagline                      3153 non-null   object \n",
      " 25  title                        3524 non-null   object \n",
      " 26  genres_edited                3524 non-null   object \n",
      " 27  spoken_languages_edited      3517 non-null   object \n",
      " 28  production_countries_edited  3493 non-null   object \n",
      " 29  keywords_edited              3357 non-null   object \n",
      " 30  year_released                3524 non-null   int64  \n",
      "dtypes: float64(3), int64(9), object(19)\n",
      "memory usage: 592.0+ KB\n"
     ]
    }
   ],
   "source": [
    "df.info()"
   ]
  },
  {
   "cell_type": "code",
   "execution_count": 13,
   "metadata": {},
   "outputs": [
    {
     "data": {
      "text/plain": [
       "budget                           0\n",
       "company                          0\n",
       "country                          0\n",
       "director                         0\n",
       "genre                            0\n",
       "gross                            0\n",
       "name                             0\n",
       "rating                           0\n",
       "released                         0\n",
       "runtime                          0\n",
       "score                            0\n",
       "star                             0\n",
       "votes                            0\n",
       "writer                           0\n",
       "year                             0\n",
       "isprofit                         0\n",
       "profitability_ratio              0\n",
       "profitability_ratio_bucket       0\n",
       "adult                            0\n",
       "id                               0\n",
       "imdb_id                          0\n",
       "original_title                   0\n",
       "overview                         1\n",
       "popularity                       0\n",
       "tagline                        371\n",
       "title                            0\n",
       "genres_edited                    0\n",
       "spoken_languages_edited          7\n",
       "production_countries_edited     31\n",
       "keywords_edited                167\n",
       "year_released                    0\n",
       "dtype: int64"
      ]
     },
     "execution_count": 13,
     "metadata": {},
     "output_type": "execute_result"
    }
   ],
   "source": [
    "df.isnull().sum()"
   ]
  },
  {
   "cell_type": "code",
   "execution_count": 14,
   "metadata": {},
   "outputs": [
    {
     "data": {
      "text/html": [
       "<div>\n",
       "<style scoped>\n",
       "    .dataframe tbody tr th:only-of-type {\n",
       "        vertical-align: middle;\n",
       "    }\n",
       "\n",
       "    .dataframe tbody tr th {\n",
       "        vertical-align: top;\n",
       "    }\n",
       "\n",
       "    .dataframe thead th {\n",
       "        text-align: right;\n",
       "    }\n",
       "</style>\n",
       "<table border=\"1\" class=\"dataframe\">\n",
       "  <thead>\n",
       "    <tr style=\"text-align: right;\">\n",
       "      <th></th>\n",
       "      <th>budget</th>\n",
       "      <th>gross</th>\n",
       "      <th>runtime</th>\n",
       "      <th>score</th>\n",
       "      <th>votes</th>\n",
       "      <th>year</th>\n",
       "      <th>isprofit</th>\n",
       "      <th>profitability_ratio</th>\n",
       "      <th>profitability_ratio_bucket</th>\n",
       "      <th>id</th>\n",
       "      <th>popularity</th>\n",
       "      <th>year_released</th>\n",
       "    </tr>\n",
       "  </thead>\n",
       "  <tbody>\n",
       "    <tr>\n",
       "      <th>count</th>\n",
       "      <td>3.524000e+03</td>\n",
       "      <td>3.524000e+03</td>\n",
       "      <td>3524.000000</td>\n",
       "      <td>3524.000000</td>\n",
       "      <td>3.524000e+03</td>\n",
       "      <td>3524.000000</td>\n",
       "      <td>3524.000000</td>\n",
       "      <td>3524.000000</td>\n",
       "      <td>3524.000000</td>\n",
       "      <td>3524.000000</td>\n",
       "      <td>3524.000000</td>\n",
       "      <td>3524.000000</td>\n",
       "    </tr>\n",
       "    <tr>\n",
       "      <th>mean</th>\n",
       "      <td>3.646837e+07</td>\n",
       "      <td>4.772520e+07</td>\n",
       "      <td>107.189274</td>\n",
       "      <td>6.339018</td>\n",
       "      <td>9.928306e+04</td>\n",
       "      <td>1997.125709</td>\n",
       "      <td>0.510499</td>\n",
       "      <td>3.996876</td>\n",
       "      <td>399.602157</td>\n",
       "      <td>45443.112656</td>\n",
       "      <td>9.785946</td>\n",
       "      <td>2002.385641</td>\n",
       "    </tr>\n",
       "    <tr>\n",
       "      <th>std</th>\n",
       "      <td>4.063369e+07</td>\n",
       "      <td>6.707121e+07</td>\n",
       "      <td>18.472177</td>\n",
       "      <td>1.056288</td>\n",
       "      <td>1.568040e+05</td>\n",
       "      <td>101.418026</td>\n",
       "      <td>0.499961</td>\n",
       "      <td>127.868810</td>\n",
       "      <td>12786.904323</td>\n",
       "      <td>77014.289184</td>\n",
       "      <td>13.318482</td>\n",
       "      <td>8.422442</td>\n",
       "    </tr>\n",
       "    <tr>\n",
       "      <th>min</th>\n",
       "      <td>0.000000e+00</td>\n",
       "      <td>0.000000e+00</td>\n",
       "      <td>0.000000</td>\n",
       "      <td>0.000000</td>\n",
       "      <td>0.000000e+00</td>\n",
       "      <td>0.000000</td>\n",
       "      <td>0.000000</td>\n",
       "      <td>-0.999979</td>\n",
       "      <td>-100.000000</td>\n",
       "      <td>0.000000</td>\n",
       "      <td>0.000000</td>\n",
       "      <td>1986.000000</td>\n",
       "    </tr>\n",
       "    <tr>\n",
       "      <th>25%</th>\n",
       "      <td>1.000000e+07</td>\n",
       "      <td>6.955428e+06</td>\n",
       "      <td>95.000000</td>\n",
       "      <td>5.800000</td>\n",
       "      <td>1.554475e+04</td>\n",
       "      <td>1996.000000</td>\n",
       "      <td>0.000000</td>\n",
       "      <td>-0.552571</td>\n",
       "      <td>-60.000000</td>\n",
       "      <td>8864.750000</td>\n",
       "      <td>5.746421</td>\n",
       "      <td>1996.000000</td>\n",
       "    </tr>\n",
       "    <tr>\n",
       "      <th>50%</th>\n",
       "      <td>2.300000e+07</td>\n",
       "      <td>2.511110e+07</td>\n",
       "      <td>104.000000</td>\n",
       "      <td>6.400000</td>\n",
       "      <td>4.403550e+04</td>\n",
       "      <td>2002.000000</td>\n",
       "      <td>1.000000</td>\n",
       "      <td>0.020240</td>\n",
       "      <td>0.000000</td>\n",
       "      <td>12513.500000</td>\n",
       "      <td>8.411079</td>\n",
       "      <td>2003.000000</td>\n",
       "    </tr>\n",
       "    <tr>\n",
       "      <th>75%</th>\n",
       "      <td>4.800000e+07</td>\n",
       "      <td>6.036672e+07</td>\n",
       "      <td>117.000000</td>\n",
       "      <td>7.000000</td>\n",
       "      <td>1.148628e+05</td>\n",
       "      <td>2009.000000</td>\n",
       "      <td>1.000000</td>\n",
       "      <td>1.029155</td>\n",
       "      <td>100.000000</td>\n",
       "      <td>41220.250000</td>\n",
       "      <td>11.654501</td>\n",
       "      <td>2010.000000</td>\n",
       "    </tr>\n",
       "    <tr>\n",
       "      <th>max</th>\n",
       "      <td>3.000000e+08</td>\n",
       "      <td>9.366622e+08</td>\n",
       "      <td>271.000000</td>\n",
       "      <td>9.300000</td>\n",
       "      <td>1.861666e+06</td>\n",
       "      <td>2016.000000</td>\n",
       "      <td>1.000000</td>\n",
       "      <td>7193.587333</td>\n",
       "      <td>719360.000000</td>\n",
       "      <td>404378.000000</td>\n",
       "      <td>547.488298</td>\n",
       "      <td>2017.000000</td>\n",
       "    </tr>\n",
       "  </tbody>\n",
       "</table>\n",
       "</div>"
      ],
      "text/plain": [
       "             budget         gross      runtime        score         votes  \\\n",
       "count  3.524000e+03  3.524000e+03  3524.000000  3524.000000  3.524000e+03   \n",
       "mean   3.646837e+07  4.772520e+07   107.189274     6.339018  9.928306e+04   \n",
       "std    4.063369e+07  6.707121e+07    18.472177     1.056288  1.568040e+05   \n",
       "min    0.000000e+00  0.000000e+00     0.000000     0.000000  0.000000e+00   \n",
       "25%    1.000000e+07  6.955428e+06    95.000000     5.800000  1.554475e+04   \n",
       "50%    2.300000e+07  2.511110e+07   104.000000     6.400000  4.403550e+04   \n",
       "75%    4.800000e+07  6.036672e+07   117.000000     7.000000  1.148628e+05   \n",
       "max    3.000000e+08  9.366622e+08   271.000000     9.300000  1.861666e+06   \n",
       "\n",
       "              year     isprofit  profitability_ratio  \\\n",
       "count  3524.000000  3524.000000          3524.000000   \n",
       "mean   1997.125709     0.510499             3.996876   \n",
       "std     101.418026     0.499961           127.868810   \n",
       "min       0.000000     0.000000            -0.999979   \n",
       "25%    1996.000000     0.000000            -0.552571   \n",
       "50%    2002.000000     1.000000             0.020240   \n",
       "75%    2009.000000     1.000000             1.029155   \n",
       "max    2016.000000     1.000000          7193.587333   \n",
       "\n",
       "       profitability_ratio_bucket             id   popularity  year_released  \n",
       "count                 3524.000000    3524.000000  3524.000000    3524.000000  \n",
       "mean                   399.602157   45443.112656     9.785946    2002.385641  \n",
       "std                  12786.904323   77014.289184    13.318482       8.422442  \n",
       "min                   -100.000000       0.000000     0.000000    1986.000000  \n",
       "25%                    -60.000000    8864.750000     5.746421    1996.000000  \n",
       "50%                      0.000000   12513.500000     8.411079    2003.000000  \n",
       "75%                    100.000000   41220.250000    11.654501    2010.000000  \n",
       "max                 719360.000000  404378.000000   547.488298    2017.000000  "
      ]
     },
     "execution_count": 14,
     "metadata": {},
     "output_type": "execute_result"
    }
   ],
   "source": [
    "df.describe()   # after replacing zero with None"
   ]
  },
  {
   "cell_type": "markdown",
   "metadata": {},
   "source": [
    "## 2.3. Removing Rows <a class=\"anchor\" id=\"23\"></a>"
   ]
  },
  {
   "cell_type": "code",
   "execution_count": 15,
   "metadata": {},
   "outputs": [],
   "source": [
    "data_dropped = df.dropna()"
   ]
  },
  {
   "cell_type": "code",
   "execution_count": 16,
   "metadata": {},
   "outputs": [],
   "source": [
    "data_dropped = data_dropped.reset_index() \n",
    "del data_dropped['index']"
   ]
  },
  {
   "cell_type": "code",
   "execution_count": 17,
   "metadata": {},
   "outputs": [
    {
     "data": {
      "text/plain": [
       "(3031, 31)"
      ]
     },
     "execution_count": 17,
     "metadata": {},
     "output_type": "execute_result"
    }
   ],
   "source": [
    "data_dropped.shape"
   ]
  },
  {
   "cell_type": "code",
   "execution_count": 18,
   "metadata": {},
   "outputs": [
    {
     "data": {
      "text/plain": [
       "(3524, 31)"
      ]
     },
     "execution_count": 18,
     "metadata": {},
     "output_type": "execute_result"
    }
   ],
   "source": [
    "df.shape"
   ]
  },
  {
   "cell_type": "code",
   "execution_count": 47,
   "metadata": {},
   "outputs": [
    {
     "name": "stdout",
     "output_type": "stream",
     "text": [
      "14\n"
     ]
    }
   ],
   "source": [
    "num_rows_lost = round(100*(df.shape[0] - data_dropped.shape[0])/float(df.shape[0]))"
   ]
  },
  {
   "cell_type": "code",
   "execution_count": 20,
   "metadata": {},
   "outputs": [
    {
     "data": {
      "text/plain": [
       "'retained 14% of rows'"
      ]
     },
     "execution_count": 20,
     "metadata": {},
     "output_type": "execute_result"
    }
   ],
   "source": [
    "template = 'retained {}% of rows'\n",
    "template.format(num_rows_lost)"
   ]
  },
  {
   "cell_type": "code",
   "execution_count": 21,
   "metadata": {},
   "outputs": [
    {
     "data": {
      "text/plain": [
       "isprofit\n",
       "0    1415\n",
       "1    1616\n",
       "dtype: int64"
      ]
     },
     "execution_count": 21,
     "metadata": {},
     "output_type": "execute_result"
    }
   ],
   "source": [
    "# class distribution\n",
    "class_counts = data_dropped.groupby('isprofit').size()\n",
    "class_counts"
   ]
  },
  {
   "cell_type": "code",
   "execution_count": 22,
   "metadata": {},
   "outputs": [
    {
     "data": {
      "text/plain": [
       "0.40153234960272416"
      ]
     },
     "execution_count": 22,
     "metadata": {},
     "output_type": "execute_result"
    }
   ],
   "source": [
    "class_counts[0]/df['isprofit'].size"
   ]
  },
  {
   "cell_type": "code",
   "execution_count": 23,
   "metadata": {},
   "outputs": [
    {
     "data": {
      "text/plain": [
       "1    0.510499\n",
       "0    0.489501\n",
       "Name: isprofit, dtype: float64"
      ]
     },
     "execution_count": 23,
     "metadata": {},
     "output_type": "execute_result"
    }
   ],
   "source": [
    "df['isprofit'].value_counts(normalize=True)   #  split of trues and falses before rows dropped"
   ]
  },
  {
   "cell_type": "code",
   "execution_count": 24,
   "metadata": {},
   "outputs": [
    {
     "data": {
      "text/plain": [
       "1    0.533157\n",
       "0    0.466843\n",
       "Name: isprofit, dtype: float64"
      ]
     },
     "execution_count": 24,
     "metadata": {},
     "output_type": "execute_result"
    }
   ],
   "source": [
    "data_dropped['isprofit'].value_counts(normalize=True)   #  split of trues and falses after rows dropped"
   ]
  },
  {
   "cell_type": "code",
   "execution_count": 25,
   "metadata": {},
   "outputs": [
    {
     "data": {
      "text/html": [
       "<div>\n",
       "<style scoped>\n",
       "    .dataframe tbody tr th:only-of-type {\n",
       "        vertical-align: middle;\n",
       "    }\n",
       "\n",
       "    .dataframe tbody tr th {\n",
       "        vertical-align: top;\n",
       "    }\n",
       "\n",
       "    .dataframe thead th {\n",
       "        text-align: right;\n",
       "    }\n",
       "</style>\n",
       "<table border=\"1\" class=\"dataframe\">\n",
       "  <thead>\n",
       "    <tr style=\"text-align: right;\">\n",
       "      <th></th>\n",
       "      <th>budget</th>\n",
       "      <th>gross</th>\n",
       "      <th>runtime</th>\n",
       "      <th>score</th>\n",
       "      <th>votes</th>\n",
       "      <th>year</th>\n",
       "      <th>isprofit</th>\n",
       "      <th>profitability_ratio</th>\n",
       "      <th>profitability_ratio_bucket</th>\n",
       "      <th>id</th>\n",
       "      <th>popularity</th>\n",
       "      <th>year_released</th>\n",
       "    </tr>\n",
       "  </thead>\n",
       "  <tbody>\n",
       "    <tr>\n",
       "      <th>count</th>\n",
       "      <td>3.031000e+03</td>\n",
       "      <td>3.031000e+03</td>\n",
       "      <td>3031.000000</td>\n",
       "      <td>3031.000000</td>\n",
       "      <td>3.031000e+03</td>\n",
       "      <td>3031.000000</td>\n",
       "      <td>3031.000000</td>\n",
       "      <td>3031.000000</td>\n",
       "      <td>3031.000000</td>\n",
       "      <td>3031.000000</td>\n",
       "      <td>3031.000000</td>\n",
       "      <td>3031.000000</td>\n",
       "    </tr>\n",
       "    <tr>\n",
       "      <th>mean</th>\n",
       "      <td>3.928010e+07</td>\n",
       "      <td>5.255955e+07</td>\n",
       "      <td>107.612339</td>\n",
       "      <td>6.364104</td>\n",
       "      <td>1.103006e+05</td>\n",
       "      <td>1996.590564</td>\n",
       "      <td>0.533157</td>\n",
       "      <td>4.551640</td>\n",
       "      <td>455.109535</td>\n",
       "      <td>44312.161663</td>\n",
       "      <td>10.382832</td>\n",
       "      <td>2002.659188</td>\n",
       "    </tr>\n",
       "    <tr>\n",
       "      <th>std</th>\n",
       "      <td>4.204987e+07</td>\n",
       "      <td>7.001274e+07</td>\n",
       "      <td>18.595233</td>\n",
       "      <td>1.058490</td>\n",
       "      <td>1.641818e+05</td>\n",
       "      <td>109.294767</td>\n",
       "      <td>0.498982</td>\n",
       "      <td>137.861924</td>\n",
       "      <td>13786.216469</td>\n",
       "      <td>76687.277269</td>\n",
       "      <td>14.114422</td>\n",
       "      <td>8.366027</td>\n",
       "    </tr>\n",
       "    <tr>\n",
       "      <th>min</th>\n",
       "      <td>0.000000e+00</td>\n",
       "      <td>0.000000e+00</td>\n",
       "      <td>0.000000</td>\n",
       "      <td>0.000000</td>\n",
       "      <td>0.000000e+00</td>\n",
       "      <td>0.000000</td>\n",
       "      <td>0.000000</td>\n",
       "      <td>-0.999979</td>\n",
       "      <td>-100.000000</td>\n",
       "      <td>0.000000</td>\n",
       "      <td>0.000000</td>\n",
       "      <td>1986.000000</td>\n",
       "    </tr>\n",
       "    <tr>\n",
       "      <th>25%</th>\n",
       "      <td>1.200000e+07</td>\n",
       "      <td>9.976800e+06</td>\n",
       "      <td>96.000000</td>\n",
       "      <td>5.800000</td>\n",
       "      <td>2.027700e+04</td>\n",
       "      <td>1996.000000</td>\n",
       "      <td>0.000000</td>\n",
       "      <td>-0.490448</td>\n",
       "      <td>-50.000000</td>\n",
       "      <td>8306.500000</td>\n",
       "      <td>6.330036</td>\n",
       "      <td>1996.000000</td>\n",
       "    </tr>\n",
       "    <tr>\n",
       "      <th>50%</th>\n",
       "      <td>2.500000e+07</td>\n",
       "      <td>3.010272e+07</td>\n",
       "      <td>104.000000</td>\n",
       "      <td>6.500000</td>\n",
       "      <td>5.418800e+04</td>\n",
       "      <td>2003.000000</td>\n",
       "      <td>1.000000</td>\n",
       "      <td>0.078482</td>\n",
       "      <td>10.000000</td>\n",
       "      <td>11622.000000</td>\n",
       "      <td>8.936547</td>\n",
       "      <td>2003.000000</td>\n",
       "    </tr>\n",
       "    <tr>\n",
       "      <th>75%</th>\n",
       "      <td>5.000000e+07</td>\n",
       "      <td>6.694456e+07</td>\n",
       "      <td>117.000000</td>\n",
       "      <td>7.100000</td>\n",
       "      <td>1.308230e+05</td>\n",
       "      <td>2010.000000</td>\n",
       "      <td>1.000000</td>\n",
       "      <td>1.082718</td>\n",
       "      <td>110.000000</td>\n",
       "      <td>39033.000000</td>\n",
       "      <td>12.116273</td>\n",
       "      <td>2010.000000</td>\n",
       "    </tr>\n",
       "    <tr>\n",
       "      <th>max</th>\n",
       "      <td>3.000000e+08</td>\n",
       "      <td>9.366622e+08</td>\n",
       "      <td>219.000000</td>\n",
       "      <td>9.300000</td>\n",
       "      <td>1.861666e+06</td>\n",
       "      <td>2016.000000</td>\n",
       "      <td>1.000000</td>\n",
       "      <td>7193.587333</td>\n",
       "      <td>719360.000000</td>\n",
       "      <td>404378.000000</td>\n",
       "      <td>547.488298</td>\n",
       "      <td>2017.000000</td>\n",
       "    </tr>\n",
       "  </tbody>\n",
       "</table>\n",
       "</div>"
      ],
      "text/plain": [
       "             budget         gross      runtime        score         votes  \\\n",
       "count  3.031000e+03  3.031000e+03  3031.000000  3031.000000  3.031000e+03   \n",
       "mean   3.928010e+07  5.255955e+07   107.612339     6.364104  1.103006e+05   \n",
       "std    4.204987e+07  7.001274e+07    18.595233     1.058490  1.641818e+05   \n",
       "min    0.000000e+00  0.000000e+00     0.000000     0.000000  0.000000e+00   \n",
       "25%    1.200000e+07  9.976800e+06    96.000000     5.800000  2.027700e+04   \n",
       "50%    2.500000e+07  3.010272e+07   104.000000     6.500000  5.418800e+04   \n",
       "75%    5.000000e+07  6.694456e+07   117.000000     7.100000  1.308230e+05   \n",
       "max    3.000000e+08  9.366622e+08   219.000000     9.300000  1.861666e+06   \n",
       "\n",
       "              year     isprofit  profitability_ratio  \\\n",
       "count  3031.000000  3031.000000          3031.000000   \n",
       "mean   1996.590564     0.533157             4.551640   \n",
       "std     109.294767     0.498982           137.861924   \n",
       "min       0.000000     0.000000            -0.999979   \n",
       "25%    1996.000000     0.000000            -0.490448   \n",
       "50%    2003.000000     1.000000             0.078482   \n",
       "75%    2010.000000     1.000000             1.082718   \n",
       "max    2016.000000     1.000000          7193.587333   \n",
       "\n",
       "       profitability_ratio_bucket             id   popularity  year_released  \n",
       "count                 3031.000000    3031.000000  3031.000000    3031.000000  \n",
       "mean                   455.109535   44312.161663    10.382832    2002.659188  \n",
       "std                  13786.216469   76687.277269    14.114422       8.366027  \n",
       "min                   -100.000000       0.000000     0.000000    1986.000000  \n",
       "25%                    -50.000000    8306.500000     6.330036    1996.000000  \n",
       "50%                     10.000000   11622.000000     8.936547    2003.000000  \n",
       "75%                    110.000000   39033.000000    12.116273    2010.000000  \n",
       "max                 719360.000000  404378.000000   547.488298    2017.000000  "
      ]
     },
     "execution_count": 25,
     "metadata": {},
     "output_type": "execute_result"
    }
   ],
   "source": [
    "data_dropped.describe()   # after removing rows which include NaN"
   ]
  },
  {
   "cell_type": "code",
   "execution_count": 26,
   "metadata": {},
   "outputs": [
    {
     "data": {
      "text/plain": [
       "budget                         7.71\n",
       "gross                         10.13\n",
       "runtime                        0.39\n",
       "score                          0.40\n",
       "votes                         11.10\n",
       "year                          -0.03\n",
       "isprofit                       4.44\n",
       "profitability_ratio           13.88\n",
       "profitability_ratio_bucket    13.89\n",
       "id                            -2.49\n",
       "popularity                     6.10\n",
       "year_released                  0.01\n",
       "dtype: float64"
      ]
     },
     "execution_count": 26,
     "metadata": {},
     "output_type": "execute_result"
    }
   ],
   "source": [
    "# % change in means of columns before and after dropping missing-value rows\n",
    "change_in_means = ((data_dropped.mean() - df.mean()) / df.mean() * 100).round(2)\n",
    "change_in_means"
   ]
  },
  {
   "cell_type": "markdown",
   "metadata": {},
   "source": [
    "### Bar Chart of the Change in Means"
   ]
  },
  {
   "cell_type": "code",
   "execution_count": 27,
   "metadata": {},
   "outputs": [
    {
     "data": {
      "text/plain": [
       "Text(0, 0.5, '% change')"
      ]
     },
     "execution_count": 27,
     "metadata": {},
     "output_type": "execute_result"
    },
    {
     "data": {
      "image/png": "[encoded data removed]",
      "text/plain": [
       "<Figure size 648x288 with 1 Axes>"
      ]
     },
     "metadata": {},
     "output_type": "display_data"
    }
   ],
   "source": [
    "plt.figure(figsize=(9, 4))\n",
    "change_in_means.plot.bar(title='% change in average column values')\n",
    "plt.ylabel('% change')\n"
   ]
  },
  {
   "cell_type": "markdown",
   "metadata": {},
   "source": [
    "Figure 1: Percent change in average column values\n",
    "<p>Figure 1 shows the percent change in mean of columns before and after dropping missing-value rows.</p>"
   ]
  },
  {
   "cell_type": "markdown",
   "metadata": {},
   "source": [
    "## 2.4. Finding Outliers <a class=\"anchor\" id=\"24\"></a>"
   ]
  },
  {
   "cell_type": "markdown",
   "metadata": {},
   "source": [
    "### 2.4.1. IQR Score Method <a class=\"anchor\" id=\"241\"></a>"
   ]
  },
  {
   "cell_type": "code",
   "execution_count": 28,
   "metadata": {},
   "outputs": [
    {
     "name": "stdout",
     "output_type": "stream",
     "text": [
      "budget                        3.800000e+07\n",
      "gross                         5.696776e+07\n",
      "runtime                       2.100000e+01\n",
      "score                         1.300000e+00\n",
      "votes                         1.105460e+05\n",
      "year                          1.400000e+01\n",
      "isprofit                      1.000000e+00\n",
      "profitability_ratio           1.573166e+00\n",
      "profitability_ratio_bucket    1.600000e+02\n",
      "id                            3.072650e+04\n",
      "popularity                    5.786237e+00\n",
      "year_released                 1.400000e+01\n",
      "dtype: float64\n"
     ]
    }
   ],
   "source": [
    "Q1 = data_dropped.quantile(0.25)\n",
    "Q3 = data_dropped.quantile(0.75)\n",
    "IQR = Q3 - Q1\n",
    "print(IQR)"
   ]
  },
  {
   "cell_type": "code",
   "execution_count": 29,
   "metadata": {},
   "outputs": [
    {
     "name": "stdout",
     "output_type": "stream",
     "text": [
      "      adult  budget  company  country  director  genre  genres_edited  gross  \\\n",
      "0     False   False    False    False     False  False          False  False   \n",
      "1     False   False    False    False     False  False          False  False   \n",
      "2     False   False    False    False     False  False          False   True   \n",
      "3     False   False    False    False     False  False          False  False   \n",
      "4     False   False    False    False     False  False          False  False   \n",
      "...     ...     ...      ...      ...       ...    ...            ...    ...   \n",
      "3026  False   False    False    False     False  False          False  False   \n",
      "3027  False   False    False    False     False  False          False  False   \n",
      "3028  False   False    False    False     False  False          False  False   \n",
      "3029  False   False    False    False     False  False          False  False   \n",
      "3030  False   False    False    False     False  False          False  False   \n",
      "\n",
      "         id  imdb_id  ...  runtime  score  spoken_languages_edited   star  \\\n",
      "0     False    False  ...    False  False                    False  False   \n",
      "1     False    False  ...    False  False                    False  False   \n",
      "2     False    False  ...    False  False                    False  False   \n",
      "3     False    False  ...    False  False                    False  False   \n",
      "4     False    False  ...    False  False                    False  False   \n",
      "...     ...      ...  ...      ...    ...                      ...    ...   \n",
      "3026   True    False  ...    False  False                    False  False   \n",
      "3027   True    False  ...    False  False                    False  False   \n",
      "3028   True    False  ...    False  False                    False  False   \n",
      "3029   True    False  ...    False  False                    False  False   \n",
      "3030   True    False  ...    False  False                    False  False   \n",
      "\n",
      "      tagline  title  votes  writer   year  year_released  \n",
      "0       False  False   True   False  False          False  \n",
      "1       False  False  False   False  False          False  \n",
      "2       False  False  False   False  False          False  \n",
      "3       False  False   True   False  False          False  \n",
      "4       False  False  False   False  False          False  \n",
      "...       ...    ...    ...     ...    ...            ...  \n",
      "3026    False  False  False   False  False          False  \n",
      "3027    False  False  False   False  False          False  \n",
      "3028    False  False  False   False  False          False  \n",
      "3029    False  False  False   False  False          False  \n",
      "3030    False  False  False   False  False          False  \n",
      "\n",
      "[3031 rows x 31 columns]\n"
     ]
    },
    {
     "name": "stderr",
     "output_type": "stream",
     "text": [
      "c:\\users\\jaymish\\desktop\\pcs\\web2txt\\webapp\\venv\\lib\\site-packages\\ipykernel_launcher.py:1: FutureWarning: Automatic reindexing on DataFrame vs Series comparisons is deprecated and will raise ValueError in a future version.  Do `left, right = left.align(right, axis=1, copy=False)` before e.g. `left == right`\n",
      "  \"\"\"Entry point for launching an IPython kernel.\n",
      "c:\\users\\jaymish\\desktop\\pcs\\web2txt\\webapp\\venv\\lib\\site-packages\\ipykernel_launcher.py:1: FutureWarning: Automatic reindexing on DataFrame vs Series comparisons is deprecated and will raise ValueError in a future version.  Do `left, right = left.align(right, axis=1, copy=False)` before e.g. `left == right`\n",
      "  \"\"\"Entry point for launching an IPython kernel.\n"
     ]
    }
   ],
   "source": [
    "print((data_dropped < (Q1 - (1.5 * IQR))) | (data_dropped > (Q3 + (1.5 * IQR))))"
   ]
  },
  {
   "cell_type": "code",
   "execution_count": 30,
   "metadata": {},
   "outputs": [
    {
     "data": {
      "text/plain": [
       "(3031, 31)"
      ]
     },
     "execution_count": 30,
     "metadata": {},
     "output_type": "execute_result"
    }
   ],
   "source": [
    "data_dropped.shape"
   ]
  },
  {
   "cell_type": "code",
   "execution_count": 31,
   "metadata": {},
   "outputs": [
    {
     "name": "stderr",
     "output_type": "stream",
     "text": [
      "c:\\users\\jaymish\\desktop\\pcs\\web2txt\\webapp\\venv\\lib\\site-packages\\ipykernel_launcher.py:1: FutureWarning: Automatic reindexing on DataFrame vs Series comparisons is deprecated and will raise ValueError in a future version.  Do `left, right = left.align(right, axis=1, copy=False)` before e.g. `left == right`\n",
      "  \"\"\"Entry point for launching an IPython kernel.\n",
      "c:\\users\\jaymish\\desktop\\pcs\\web2txt\\webapp\\venv\\lib\\site-packages\\ipykernel_launcher.py:1: FutureWarning: Automatic reindexing on DataFrame vs Series comparisons is deprecated and will raise ValueError in a future version.  Do `left, right = left.align(right, axis=1, copy=False)` before e.g. `left == right`\n",
      "  \"\"\"Entry point for launching an IPython kernel.\n"
     ]
    }
   ],
   "source": [
    "data_dropped_outlier_IQR = data_dropped[~((data_dropped < (Q1 - 1.5 * IQR)) | (data_dropped > (Q3 + 1.5 * IQR))).any(axis=1)]"
   ]
  },
  {
   "cell_type": "code",
   "execution_count": 32,
   "metadata": {},
   "outputs": [
    {
     "data": {
      "text/plain": [
       "(1993, 31)"
      ]
     },
     "execution_count": 32,
     "metadata": {},
     "output_type": "execute_result"
    }
   ],
   "source": [
    "data_dropped_outlier_IQR.shape"
   ]
  },
  {
   "cell_type": "code",
   "execution_count": 33,
   "metadata": {},
   "outputs": [
    {
     "data": {
      "text/html": [
       "<div>\n",
       "<style scoped>\n",
       "    .dataframe tbody tr th:only-of-type {\n",
       "        vertical-align: middle;\n",
       "    }\n",
       "\n",
       "    .dataframe tbody tr th {\n",
       "        vertical-align: top;\n",
       "    }\n",
       "\n",
       "    .dataframe thead th {\n",
       "        text-align: right;\n",
       "    }\n",
       "</style>\n",
       "<table border=\"1\" class=\"dataframe\">\n",
       "  <thead>\n",
       "    <tr style=\"text-align: right;\">\n",
       "      <th></th>\n",
       "      <th>budget</th>\n",
       "      <th>company</th>\n",
       "      <th>country</th>\n",
       "      <th>director</th>\n",
       "      <th>genre</th>\n",
       "      <th>gross</th>\n",
       "      <th>name</th>\n",
       "      <th>rating</th>\n",
       "      <th>released</th>\n",
       "      <th>runtime</th>\n",
       "      <th>...</th>\n",
       "      <th>original_title</th>\n",
       "      <th>overview</th>\n",
       "      <th>popularity</th>\n",
       "      <th>tagline</th>\n",
       "      <th>title</th>\n",
       "      <th>genres_edited</th>\n",
       "      <th>spoken_languages_edited</th>\n",
       "      <th>production_countries_edited</th>\n",
       "      <th>keywords_edited</th>\n",
       "      <th>year_released</th>\n",
       "    </tr>\n",
       "  </thead>\n",
       "  <tbody>\n",
       "    <tr>\n",
       "      <th>0</th>\n",
       "      <td>9000000</td>\n",
       "      <td>Walt Disney Pictures</td>\n",
       "      <td>USA</td>\n",
       "      <td>Other</td>\n",
       "      <td>Adventure</td>\n",
       "      <td>18564613</td>\n",
       "      <td>Flight of the Navigator</td>\n",
       "      <td>PG</td>\n",
       "      <td>1.08.1986 00:00</td>\n",
       "      <td>90</td>\n",
       "      <td>...</td>\n",
       "      <td>Flight of the Navigator</td>\n",
       "      <td>This 1986 Disney adventure tells the story of ...</td>\n",
       "      <td>5.526865</td>\n",
       "      <td>Come along on the greatest adventure of the su...</td>\n",
       "      <td>Flight of the Navigator</td>\n",
       "      <td>Family, Science Fiction, Adventure</td>\n",
       "      <td>en</td>\n",
       "      <td>US</td>\n",
       "      <td>artificial intelligence, farewell, homesicknes...</td>\n",
       "      <td>1986</td>\n",
       "    </tr>\n",
       "    <tr>\n",
       "      <th>1</th>\n",
       "      <td>6000000</td>\n",
       "      <td>Other</td>\n",
       "      <td>USA</td>\n",
       "      <td>Other</td>\n",
       "      <td>Drama</td>\n",
       "      <td>8551228</td>\n",
       "      <td>Blue Velvet</td>\n",
       "      <td>R</td>\n",
       "      <td>23.10.1986 00:00</td>\n",
       "      <td>120</td>\n",
       "      <td>...</td>\n",
       "      <td>Blue Velvet</td>\n",
       "      <td>The discovery of a severed human ear found in ...</td>\n",
       "      <td>7.882247</td>\n",
       "      <td>It's a strange world.</td>\n",
       "      <td>Blue Velvet</td>\n",
       "      <td>Crime, Drama, Mystery, Thriller</td>\n",
       "      <td>en</td>\n",
       "      <td>US</td>\n",
       "      <td>small town, ear, suspense, independent film, p...</td>\n",
       "      <td>1986</td>\n",
       "    </tr>\n",
       "    <tr>\n",
       "      <th>2</th>\n",
       "      <td>16000000</td>\n",
       "      <td>Other</td>\n",
       "      <td>Other</td>\n",
       "      <td>Other</td>\n",
       "      <td>Action</td>\n",
       "      <td>5900000</td>\n",
       "      <td>Highlander</td>\n",
       "      <td>R</td>\n",
       "      <td>7.03.1986 00:00</td>\n",
       "      <td>116</td>\n",
       "      <td>...</td>\n",
       "      <td>Highlander</td>\n",
       "      <td>He fought his first battle on the Scottish Hig...</td>\n",
       "      <td>16.870392</td>\n",
       "      <td>There can be only one.</td>\n",
       "      <td>Highlander</td>\n",
       "      <td>Adventure, Action, Fantasy</td>\n",
       "      <td>en</td>\n",
       "      <td>GB, US</td>\n",
       "      <td>new york, scotland, swordplay, sword, cut-off ...</td>\n",
       "      <td>1986</td>\n",
       "    </tr>\n",
       "    <tr>\n",
       "      <th>3</th>\n",
       "      <td>6000000</td>\n",
       "      <td>Twentieth Century Fox Film Corporation</td>\n",
       "      <td>USA</td>\n",
       "      <td>Other</td>\n",
       "      <td>Comedy</td>\n",
       "      <td>8200000</td>\n",
       "      <td>Lucas</td>\n",
       "      <td>PG-13</td>\n",
       "      <td>28.03.1986 00:00</td>\n",
       "      <td>100</td>\n",
       "      <td>...</td>\n",
       "      <td>Lucas</td>\n",
       "      <td>A socially inept fourteen year old experiences...</td>\n",
       "      <td>4.575350</td>\n",
       "      <td>It's about falling in love.  For the first time.</td>\n",
       "      <td>Lucas</td>\n",
       "      <td>Comedy, Drama, Romance</td>\n",
       "      <td>en</td>\n",
       "      <td>US</td>\n",
       "      <td>high school, american football team, cheerleading</td>\n",
       "      <td>1986</td>\n",
       "    </tr>\n",
       "    <tr>\n",
       "      <th>4</th>\n",
       "      <td>25000000</td>\n",
       "      <td>Twentieth Century Fox Film Corporation</td>\n",
       "      <td>USA</td>\n",
       "      <td>Other</td>\n",
       "      <td>Action</td>\n",
       "      <td>11100000</td>\n",
       "      <td>Big Trouble in Little China</td>\n",
       "      <td>PG-13</td>\n",
       "      <td>2.07.1986 00:00</td>\n",
       "      <td>99</td>\n",
       "      <td>...</td>\n",
       "      <td>Big Trouble in Little China</td>\n",
       "      <td>When trucker, Jack Burton agreed to take his f...</td>\n",
       "      <td>11.109932</td>\n",
       "      <td>Adventure doesn't come any bigger!</td>\n",
       "      <td>Big Trouble in Little China</td>\n",
       "      <td>Action, Adventure, Comedy, Fantasy</td>\n",
       "      <td>cn, en</td>\n",
       "      <td>US</td>\n",
       "      <td>kung fu, chinatown, magic, mystery</td>\n",
       "      <td>1986</td>\n",
       "    </tr>\n",
       "    <tr>\n",
       "      <th>...</th>\n",
       "      <td>...</td>\n",
       "      <td>...</td>\n",
       "      <td>...</td>\n",
       "      <td>...</td>\n",
       "      <td>...</td>\n",
       "      <td>...</td>\n",
       "      <td>...</td>\n",
       "      <td>...</td>\n",
       "      <td>...</td>\n",
       "      <td>...</td>\n",
       "      <td>...</td>\n",
       "      <td>...</td>\n",
       "      <td>...</td>\n",
       "      <td>...</td>\n",
       "      <td>...</td>\n",
       "      <td>...</td>\n",
       "      <td>...</td>\n",
       "      <td>...</td>\n",
       "      <td>...</td>\n",
       "      <td>...</td>\n",
       "      <td>...</td>\n",
       "    </tr>\n",
       "    <tr>\n",
       "      <th>1988</th>\n",
       "      <td>25000000</td>\n",
       "      <td>Other</td>\n",
       "      <td>USA</td>\n",
       "      <td>Other</td>\n",
       "      <td>Action</td>\n",
       "      <td>100144</td>\n",
       "      <td>Man of Tai Chi</td>\n",
       "      <td>R</td>\n",
       "      <td>5.07.2013 00:00</td>\n",
       "      <td>105</td>\n",
       "      <td>...</td>\n",
       "      <td>Man of Tai Chi</td>\n",
       "      <td>In Beijing, a young martial artist's skill pla...</td>\n",
       "      <td>11.829231</td>\n",
       "      <td>No Rules. No Mercy. Pure Fighting.</td>\n",
       "      <td>Man of Tai Chi</td>\n",
       "      <td>Action, Drama</td>\n",
       "      <td>cn, en, zh</td>\n",
       "      <td>CN, HK, US</td>\n",
       "      <td>china, martial arts, tai chi, extortion, illeg...</td>\n",
       "      <td>2013</td>\n",
       "    </tr>\n",
       "    <tr>\n",
       "      <th>1989</th>\n",
       "      <td>65000000</td>\n",
       "      <td>Other</td>\n",
       "      <td>USA</td>\n",
       "      <td>Other</td>\n",
       "      <td>Crime</td>\n",
       "      <td>13757804</td>\n",
       "      <td>Sin City: A Dame to Kill For</td>\n",
       "      <td>R</td>\n",
       "      <td>22.08.2014 00:00</td>\n",
       "      <td>102</td>\n",
       "      <td>...</td>\n",
       "      <td>Sin City: A Dame to Kill For</td>\n",
       "      <td>Some of Sin City's most hard-boiled citizens c...</td>\n",
       "      <td>20.623642</td>\n",
       "      <td>There is no justice without sin.</td>\n",
       "      <td>Sin City: A Dame to Kill For</td>\n",
       "      <td>Crime, Thriller</td>\n",
       "      <td>en</td>\n",
       "      <td>US</td>\n",
       "      <td>detective, dystopia, dominatrix, murder, suspe...</td>\n",
       "      <td>2014</td>\n",
       "    </tr>\n",
       "    <tr>\n",
       "      <th>1990</th>\n",
       "      <td>70000000</td>\n",
       "      <td>Universal Pictures</td>\n",
       "      <td>USA</td>\n",
       "      <td>Other</td>\n",
       "      <td>Action</td>\n",
       "      <td>56280355</td>\n",
       "      <td>Dracula Untold</td>\n",
       "      <td>PG-13</td>\n",
       "      <td>10.10.2014 00:00</td>\n",
       "      <td>92</td>\n",
       "      <td>...</td>\n",
       "      <td>Dracula Untold</td>\n",
       "      <td>Vlad Tepes is a great hero, but when he learns...</td>\n",
       "      <td>16.316318</td>\n",
       "      <td>Every bloodline has a beginning</td>\n",
       "      <td>Dracula Untold</td>\n",
       "      <td>Horror, Action, Drama, Fantasy, War</td>\n",
       "      <td>en</td>\n",
       "      <td>US</td>\n",
       "      <td>vampire, dracula, bite, battle, 15th century, ...</td>\n",
       "      <td>2014</td>\n",
       "    </tr>\n",
       "    <tr>\n",
       "      <th>1991</th>\n",
       "      <td>95000000</td>\n",
       "      <td>Other</td>\n",
       "      <td>USA</td>\n",
       "      <td>Other</td>\n",
       "      <td>Action</td>\n",
       "      <td>17223265</td>\n",
       "      <td>Seventh Son</td>\n",
       "      <td>PG-13</td>\n",
       "      <td>6.02.2015 00:00</td>\n",
       "      <td>102</td>\n",
       "      <td>...</td>\n",
       "      <td>Seventh Son</td>\n",
       "      <td>John Gregory, who is a seventh son of a sevent...</td>\n",
       "      <td>15.297821</td>\n",
       "      <td>When darkness falls, the son will rise. When t...</td>\n",
       "      <td>Seventh Son</td>\n",
       "      <td>Adventure, Fantasy</td>\n",
       "      <td>en</td>\n",
       "      <td>CN, CA, US, GB</td>\n",
       "      <td>magic, chosen one, dark fantasy, witch hunter,...</td>\n",
       "      <td>2015</td>\n",
       "    </tr>\n",
       "    <tr>\n",
       "      <th>1992</th>\n",
       "      <td>28000000</td>\n",
       "      <td>Other</td>\n",
       "      <td>USA</td>\n",
       "      <td>Other</td>\n",
       "      <td>Comedy</td>\n",
       "      <td>6998324</td>\n",
       "      <td>Our Brand Is Crisis</td>\n",
       "      <td>R</td>\n",
       "      <td>30.10.2015 00:00</td>\n",
       "      <td>107</td>\n",
       "      <td>...</td>\n",
       "      <td>Our Brand Is Crisis</td>\n",
       "      <td>A feature film based on the documentary \"Our B...</td>\n",
       "      <td>12.158176</td>\n",
       "      <td>May the best campaign win.</td>\n",
       "      <td>Our Brand Is Crisis</td>\n",
       "      <td>Comedy, Drama</td>\n",
       "      <td>en</td>\n",
       "      <td>US</td>\n",
       "      <td>bolivia, woman, political campaign, south amer...</td>\n",
       "      <td>2015</td>\n",
       "    </tr>\n",
       "  </tbody>\n",
       "</table>\n",
       "<p>1993 rows × 31 columns</p>\n",
       "</div>"
      ],
      "text/plain": [
       "        budget                                 company country director  \\\n",
       "0      9000000                    Walt Disney Pictures     USA    Other   \n",
       "1      6000000                                   Other     USA    Other   \n",
       "2     16000000                                   Other   Other    Other   \n",
       "3      6000000  Twentieth Century Fox Film Corporation     USA    Other   \n",
       "4     25000000  Twentieth Century Fox Film Corporation     USA    Other   \n",
       "...        ...                                     ...     ...      ...   \n",
       "1988  25000000                                   Other     USA    Other   \n",
       "1989  65000000                                   Other     USA    Other   \n",
       "1990  70000000                      Universal Pictures     USA    Other   \n",
       "1991  95000000                                   Other     USA    Other   \n",
       "1992  28000000                                   Other     USA    Other   \n",
       "\n",
       "          genre     gross                          name rating  \\\n",
       "0     Adventure  18564613       Flight of the Navigator     PG   \n",
       "1         Drama   8551228                   Blue Velvet      R   \n",
       "2        Action   5900000                    Highlander      R   \n",
       "3        Comedy   8200000                         Lucas  PG-13   \n",
       "4        Action  11100000   Big Trouble in Little China  PG-13   \n",
       "...         ...       ...                           ...    ...   \n",
       "1988     Action    100144                Man of Tai Chi      R   \n",
       "1989      Crime  13757804  Sin City: A Dame to Kill For      R   \n",
       "1990     Action  56280355                Dracula Untold  PG-13   \n",
       "1991     Action  17223265                   Seventh Son  PG-13   \n",
       "1992     Comedy   6998324           Our Brand Is Crisis      R   \n",
       "\n",
       "              released  runtime  ...                original_title  \\\n",
       "0      1.08.1986 00:00       90  ...       Flight of the Navigator   \n",
       "1     23.10.1986 00:00      120  ...                   Blue Velvet   \n",
       "2      7.03.1986 00:00      116  ...                    Highlander   \n",
       "3     28.03.1986 00:00      100  ...                         Lucas   \n",
       "4      2.07.1986 00:00       99  ...   Big Trouble in Little China   \n",
       "...                ...      ...  ...                           ...   \n",
       "1988   5.07.2013 00:00      105  ...                Man of Tai Chi   \n",
       "1989  22.08.2014 00:00      102  ...  Sin City: A Dame to Kill For   \n",
       "1990  10.10.2014 00:00       92  ...                Dracula Untold   \n",
       "1991   6.02.2015 00:00      102  ...                   Seventh Son   \n",
       "1992  30.10.2015 00:00      107  ...           Our Brand Is Crisis   \n",
       "\n",
       "                                               overview  popularity  \\\n",
       "0     This 1986 Disney adventure tells the story of ...    5.526865   \n",
       "1     The discovery of a severed human ear found in ...    7.882247   \n",
       "2     He fought his first battle on the Scottish Hig...   16.870392   \n",
       "3     A socially inept fourteen year old experiences...    4.575350   \n",
       "4     When trucker, Jack Burton agreed to take his f...   11.109932   \n",
       "...                                                 ...         ...   \n",
       "1988  In Beijing, a young martial artist's skill pla...   11.829231   \n",
       "1989  Some of Sin City's most hard-boiled citizens c...   20.623642   \n",
       "1990  Vlad Tepes is a great hero, but when he learns...   16.316318   \n",
       "1991  John Gregory, who is a seventh son of a sevent...   15.297821   \n",
       "1992  A feature film based on the documentary \"Our B...   12.158176   \n",
       "\n",
       "                                                tagline  \\\n",
       "0     Come along on the greatest adventure of the su...   \n",
       "1                                 It's a strange world.   \n",
       "2                                There can be only one.   \n",
       "3      It's about falling in love.  For the first time.   \n",
       "4                    Adventure doesn't come any bigger!   \n",
       "...                                                 ...   \n",
       "1988                 No Rules. No Mercy. Pure Fighting.   \n",
       "1989                   There is no justice without sin.   \n",
       "1990                    Every bloodline has a beginning   \n",
       "1991  When darkness falls, the son will rise. When t...   \n",
       "1992                         May the best campaign win.   \n",
       "\n",
       "                             title                        genres_edited  \\\n",
       "0          Flight of the Navigator   Family, Science Fiction, Adventure   \n",
       "1                      Blue Velvet      Crime, Drama, Mystery, Thriller   \n",
       "2                       Highlander           Adventure, Action, Fantasy   \n",
       "3                            Lucas               Comedy, Drama, Romance   \n",
       "4      Big Trouble in Little China   Action, Adventure, Comedy, Fantasy   \n",
       "...                            ...                                  ...   \n",
       "1988                Man of Tai Chi                        Action, Drama   \n",
       "1989  Sin City: A Dame to Kill For                      Crime, Thriller   \n",
       "1990                Dracula Untold  Horror, Action, Drama, Fantasy, War   \n",
       "1991                   Seventh Son                   Adventure, Fantasy   \n",
       "1992           Our Brand Is Crisis                        Comedy, Drama   \n",
       "\n",
       "      spoken_languages_edited  production_countries_edited  \\\n",
       "0                          en                           US   \n",
       "1                          en                           US   \n",
       "2                          en                       GB, US   \n",
       "3                          en                           US   \n",
       "4                      cn, en                           US   \n",
       "...                       ...                          ...   \n",
       "1988               cn, en, zh                   CN, HK, US   \n",
       "1989                       en                           US   \n",
       "1990                       en                           US   \n",
       "1991                       en               CN, CA, US, GB   \n",
       "1992                       en                           US   \n",
       "\n",
       "                                        keywords_edited  year_released  \n",
       "0     artificial intelligence, farewell, homesicknes...           1986  \n",
       "1     small town, ear, suspense, independent film, p...           1986  \n",
       "2     new york, scotland, swordplay, sword, cut-off ...           1986  \n",
       "3     high school, american football team, cheerleading           1986  \n",
       "4                    kung fu, chinatown, magic, mystery           1986  \n",
       "...                                                 ...            ...  \n",
       "1988  china, martial arts, tai chi, extortion, illeg...           2013  \n",
       "1989  detective, dystopia, dominatrix, murder, suspe...           2014  \n",
       "1990  vampire, dracula, bite, battle, 15th century, ...           2014  \n",
       "1991  magic, chosen one, dark fantasy, witch hunter,...           2015  \n",
       "1992  bolivia, woman, political campaign, south amer...           2015  \n",
       "\n",
       "[1993 rows x 31 columns]"
      ]
     },
     "execution_count": 33,
     "metadata": {},
     "output_type": "execute_result"
    }
   ],
   "source": [
    "data_dropped_outlier_IQR = data_dropped_outlier_IQR.reset_index()\n",
    "del data_dropped_outlier_IQR['index']\n",
    "data_dropped_outlier_IQR"
   ]
  },
  {
   "cell_type": "code",
   "execution_count": 34,
   "metadata": {},
   "outputs": [
    {
     "data": {
      "text/html": [
       "<div>\n",
       "<style scoped>\n",
       "    .dataframe tbody tr th:only-of-type {\n",
       "        vertical-align: middle;\n",
       "    }\n",
       "\n",
       "    .dataframe tbody tr th {\n",
       "        vertical-align: top;\n",
       "    }\n",
       "\n",
       "    .dataframe thead th {\n",
       "        text-align: right;\n",
       "    }\n",
       "</style>\n",
       "<table border=\"1\" class=\"dataframe\">\n",
       "  <thead>\n",
       "    <tr style=\"text-align: right;\">\n",
       "      <th></th>\n",
       "      <th>budget</th>\n",
       "      <th>gross</th>\n",
       "      <th>runtime</th>\n",
       "      <th>score</th>\n",
       "      <th>votes</th>\n",
       "      <th>year</th>\n",
       "      <th>isprofit</th>\n",
       "      <th>profitability_ratio</th>\n",
       "      <th>profitability_ratio_bucket</th>\n",
       "      <th>id</th>\n",
       "      <th>popularity</th>\n",
       "      <th>year_released</th>\n",
       "    </tr>\n",
       "  </thead>\n",
       "  <tbody>\n",
       "    <tr>\n",
       "      <th>count</th>\n",
       "      <td>1.993000e+03</td>\n",
       "      <td>1.993000e+03</td>\n",
       "      <td>1993.000000</td>\n",
       "      <td>1993.000000</td>\n",
       "      <td>1993.000000</td>\n",
       "      <td>1993.000000</td>\n",
       "      <td>1993.000000</td>\n",
       "      <td>1993.000000</td>\n",
       "      <td>1993.000000</td>\n",
       "      <td>1993.000000</td>\n",
       "      <td>1993.000000</td>\n",
       "      <td>1993.000000</td>\n",
       "    </tr>\n",
       "    <tr>\n",
       "      <th>mean</th>\n",
       "      <td>3.049440e+07</td>\n",
       "      <td>3.242492e+07</td>\n",
       "      <td>105.378826</td>\n",
       "      <td>6.272554</td>\n",
       "      <td>61263.095334</td>\n",
       "      <td>2000.314099</td>\n",
       "      <td>0.462117</td>\n",
       "      <td>0.169192</td>\n",
       "      <td>16.883091</td>\n",
       "      <td>17145.391370</td>\n",
       "      <td>8.195990</td>\n",
       "      <td>2000.457602</td>\n",
       "    </tr>\n",
       "    <tr>\n",
       "      <th>std</th>\n",
       "      <td>2.346240e+07</td>\n",
       "      <td>3.171940e+07</td>\n",
       "      <td>14.072621</td>\n",
       "      <td>0.841085</td>\n",
       "      <td>62732.010952</td>\n",
       "      <td>7.199724</td>\n",
       "      <td>0.498688</td>\n",
       "      <td>0.987599</td>\n",
       "      <td>98.824948</td>\n",
       "      <td>17224.743122</td>\n",
       "      <td>3.553912</td>\n",
       "      <td>7.251044</td>\n",
       "    </tr>\n",
       "    <tr>\n",
       "      <th>min</th>\n",
       "      <td>5.000000e+04</td>\n",
       "      <td>3.090000e+02</td>\n",
       "      <td>69.000000</td>\n",
       "      <td>3.900000</td>\n",
       "      <td>704.000000</td>\n",
       "      <td>1986.000000</td>\n",
       "      <td>0.000000</td>\n",
       "      <td>-0.999979</td>\n",
       "      <td>-100.000000</td>\n",
       "      <td>5.000000</td>\n",
       "      <td>0.000578</td>\n",
       "      <td>1986.000000</td>\n",
       "    </tr>\n",
       "    <tr>\n",
       "      <th>25%</th>\n",
       "      <td>1.250000e+07</td>\n",
       "      <td>7.411659e+06</td>\n",
       "      <td>96.000000</td>\n",
       "      <td>5.700000</td>\n",
       "      <td>15964.000000</td>\n",
       "      <td>1995.000000</td>\n",
       "      <td>0.000000</td>\n",
       "      <td>-0.560395</td>\n",
       "      <td>-60.000000</td>\n",
       "      <td>8643.000000</td>\n",
       "      <td>5.739829</td>\n",
       "      <td>1995.000000</td>\n",
       "    </tr>\n",
       "    <tr>\n",
       "      <th>50%</th>\n",
       "      <td>2.500000e+07</td>\n",
       "      <td>2.251810e+07</td>\n",
       "      <td>103.000000</td>\n",
       "      <td>6.300000</td>\n",
       "      <td>38469.000000</td>\n",
       "      <td>2001.000000</td>\n",
       "      <td>0.000000</td>\n",
       "      <td>-0.091684</td>\n",
       "      <td>-10.000000</td>\n",
       "      <td>10982.000000</td>\n",
       "      <td>7.941972</td>\n",
       "      <td>2001.000000</td>\n",
       "    </tr>\n",
       "    <tr>\n",
       "      <th>75%</th>\n",
       "      <td>4.300000e+07</td>\n",
       "      <td>4.847801e+07</td>\n",
       "      <td>114.000000</td>\n",
       "      <td>6.900000</td>\n",
       "      <td>85499.000000</td>\n",
       "      <td>2006.000000</td>\n",
       "      <td>1.000000</td>\n",
       "      <td>0.657938</td>\n",
       "      <td>70.000000</td>\n",
       "      <td>20009.000000</td>\n",
       "      <td>10.580421</td>\n",
       "      <td>2007.000000</td>\n",
       "    </tr>\n",
       "    <tr>\n",
       "      <th>max</th>\n",
       "      <td>1.050000e+08</td>\n",
       "      <td>1.522575e+08</td>\n",
       "      <td>147.000000</td>\n",
       "      <td>8.200000</td>\n",
       "      <td>294996.000000</td>\n",
       "      <td>2015.000000</td>\n",
       "      <td>1.000000</td>\n",
       "      <td>3.438159</td>\n",
       "      <td>340.000000</td>\n",
       "      <td>84329.000000</td>\n",
       "      <td>20.623642</td>\n",
       "      <td>2015.000000</td>\n",
       "    </tr>\n",
       "  </tbody>\n",
       "</table>\n",
       "</div>"
      ],
      "text/plain": [
       "             budget         gross      runtime        score          votes  \\\n",
       "count  1.993000e+03  1.993000e+03  1993.000000  1993.000000    1993.000000   \n",
       "mean   3.049440e+07  3.242492e+07   105.378826     6.272554   61263.095334   \n",
       "std    2.346240e+07  3.171940e+07    14.072621     0.841085   62732.010952   \n",
       "min    5.000000e+04  3.090000e+02    69.000000     3.900000     704.000000   \n",
       "25%    1.250000e+07  7.411659e+06    96.000000     5.700000   15964.000000   \n",
       "50%    2.500000e+07  2.251810e+07   103.000000     6.300000   38469.000000   \n",
       "75%    4.300000e+07  4.847801e+07   114.000000     6.900000   85499.000000   \n",
       "max    1.050000e+08  1.522575e+08   147.000000     8.200000  294996.000000   \n",
       "\n",
       "              year     isprofit  profitability_ratio  \\\n",
       "count  1993.000000  1993.000000          1993.000000   \n",
       "mean   2000.314099     0.462117             0.169192   \n",
       "std       7.199724     0.498688             0.987599   \n",
       "min    1986.000000     0.000000            -0.999979   \n",
       "25%    1995.000000     0.000000            -0.560395   \n",
       "50%    2001.000000     0.000000            -0.091684   \n",
       "75%    2006.000000     1.000000             0.657938   \n",
       "max    2015.000000     1.000000             3.438159   \n",
       "\n",
       "       profitability_ratio_bucket            id   popularity  year_released  \n",
       "count                 1993.000000   1993.000000  1993.000000    1993.000000  \n",
       "mean                    16.883091  17145.391370     8.195990    2000.457602  \n",
       "std                     98.824948  17224.743122     3.553912       7.251044  \n",
       "min                   -100.000000      5.000000     0.000578    1986.000000  \n",
       "25%                    -60.000000   8643.000000     5.739829    1995.000000  \n",
       "50%                    -10.000000  10982.000000     7.941972    2001.000000  \n",
       "75%                     70.000000  20009.000000    10.580421    2007.000000  \n",
       "max                    340.000000  84329.000000    20.623642    2015.000000  "
      ]
     },
     "execution_count": 34,
     "metadata": {},
     "output_type": "execute_result"
    }
   ],
   "source": [
    "data_dropped_outlier_IQR.describe()"
   ]
  },
  {
   "cell_type": "markdown",
   "metadata": {},
   "source": [
    "## 2.5. Box Plot <a class=\"anchor\" id=\"25\"></a>"
   ]
  },
  {
   "cell_type": "markdown",
   "metadata": {},
   "source": [
    "### Boxplot of Initial Data"
   ]
  },
  {
   "cell_type": "code",
   "execution_count": 35,
   "metadata": {},
   "outputs": [
    {
     "data": {
      "text/plain": [
       "<AxesSubplot:>"
      ]
     },
     "execution_count": 35,
     "metadata": {},
     "output_type": "execute_result"
    },
    {
     "data": {
      "image/png": "[encoded data removed]",
      "text/plain": [
       "<Figure size 2304x1008 with 1 Axes>"
      ]
     },
     "metadata": {},
     "output_type": "display_data"
    }
   ],
   "source": [
    "df.plot(x=df.index.name, kind='box', figsize=(32, 14))"
   ]
  },
  {
   "cell_type": "markdown",
   "metadata": {},
   "source": [
    "Figure 2: Data Distribution before Cleaning\n",
    "<p>Figure 2 shows the distribution of the data before dropping rows. The graph represents five number summary: “minimum, first quartile, median, third quartile, and ''maximum”. The ends of the box are the quartiles, Q1 and Q3, while the box length is interquartile range (IQR). Two lines (called whiskers) outside the box extend to the smallest (Minimum) and largest (Maximum) observations. The circles are the outliers.</p>"
   ]
  },
  {
   "cell_type": "markdown",
   "metadata": {},
   "source": [
    "### Boxplot of Dropped Data"
   ]
  },
  {
   "cell_type": "code",
   "execution_count": 36,
   "metadata": {},
   "outputs": [
    {
     "data": {
      "text/plain": [
       "<AxesSubplot:>"
      ]
     },
     "execution_count": 36,
     "metadata": {},
     "output_type": "execute_result"
    },
    {
     "data": {
      "image/png": "[encoded data removed]",
      "text/plain": [
       "<Figure size 2304x1008 with 1 Axes>"
      ]
     },
     "metadata": {},
     "output_type": "display_data"
    }
   ],
   "source": [
    "data_dropped.plot(x=data_dropped.index.name, kind='box', figsize=(32, 14))"
   ]
  },
  {
   "cell_type": "markdown",
   "metadata": {},
   "source": [
    "Figure 3: Data Distribution of Dropped Data\n",
    "<p>Figure 3 shows the distibution of data after dropping rows with the value NaN. The graph represents five number summary: “minimum, first quartile, median, third quartile, and ''maximum”. The ends of the box are the quartiles, Q1 and Q3, while the box length is interquartile range (IQR). Two lines (called whiskers) outside the box extend to the smallest (Minimum) and largest (Maximum) observations. The circles are the outliers.</p>"
   ]
  },
  {
   "cell_type": "markdown",
   "metadata": {},
   "source": [
    "### Boxplot of Dropped Outlier Data"
   ]
  },
  {
   "cell_type": "code",
   "execution_count": 37,
   "metadata": {},
   "outputs": [
    {
     "data": {
      "text/plain": [
       "<AxesSubplot:>"
      ]
     },
     "execution_count": 37,
     "metadata": {},
     "output_type": "execute_result"
    },
    {
     "data": {
      "image/png": "[encoded data removed]",
      "text/plain": [
       "<Figure size 3312x1008 with 1 Axes>"
      ]
     },
     "metadata": {},
     "output_type": "display_data"
    }
   ],
   "source": [
    "data_dropped_outlier_IQR.plot(x=data_dropped_outlier_IQR.index.name, kind='box', figsize=(46, 14))"
   ]
  },
  {
   "cell_type": "markdown",
   "metadata": {},
   "source": [
    "Figure 4: Data Distribution of Outlier Data\n",
    "<p>Figure 4 shows the distributoion of data after dropping outliers. The graph represents five number summary: “minimum, first quartile, median, third quartile, and ''maximum”. The ends of the box are the quartiles, Q1 and Q3, while the box length is interquartile range (IQR). Two lines (called whiskers) outside the box extend to the smallest (Minimum) and largest (Maximum) observations. The circles are the outliers.</p>"
   ]
  },
  {
   "cell_type": "markdown",
   "metadata": {},
   "source": [
    "# 3. Data Transformation <a class=\"anchor\" id=\"3\"></a>"
   ]
  },
  {
   "cell_type": "markdown",
   "metadata": {},
   "source": [
    "Our data has the following columns that we can perform transformation on:\n",
    "* budget\n",
    "* runtime\n",
    "* score\n",
    "* votes\n",
    "* popularity\n",
    "\n",
    "<p>\n",
    "> We want to discretize and normalize the data so it will be ready for the modeling stage.\n",
    "<br><br>\n",
    "> After writing some general functions, we will perform the transformations one by one.\n",
    "</p>"
   ]
  },
  {
   "cell_type": "markdown",
   "metadata": {},
   "source": [
    "## 3.1. Binning <a class=\"anchor\" id=\"31\"></a>"
   ]
  },
  {
   "cell_type": "markdown",
   "metadata": {},
   "source": [
    "Below, we iterate over all continuous features and use binning to discretize the data. At the end, we summarize the results by indicating the 4 intervals that our data was partitioned into."
   ]
  },
  {
   "cell_type": "code",
   "execution_count": 38,
   "metadata": {},
   "outputs": [
    {
     "data": {
      "text/plain": [
       "count    1.993000e+03\n",
       "mean     3.049440e+07\n",
       "std      2.346240e+07\n",
       "min      5.000000e+04\n",
       "25%      1.250000e+07\n",
       "50%      2.500000e+07\n",
       "75%      4.300000e+07\n",
       "max      1.050000e+08\n",
       "Name: budget, dtype: float64"
      ]
     },
     "metadata": {},
     "output_type": "display_data"
    },
    {
     "data": {
      "text/plain": [
       "0         (49999.999, 12500000.0]\n",
       "1         (49999.999, 12500000.0]\n",
       "2        (12500000.0, 25000000.0]\n",
       "3         (49999.999, 12500000.0]\n",
       "4        (12500000.0, 25000000.0]\n",
       "                  ...            \n",
       "1988     (12500000.0, 25000000.0]\n",
       "1989    (43000000.0, 105000000.0]\n",
       "1990    (43000000.0, 105000000.0]\n",
       "1991    (43000000.0, 105000000.0]\n",
       "1992     (25000000.0, 43000000.0]\n",
       "Name: budget, Length: 1993, dtype: category\n",
       "Categories (4, interval[float64]): [(49999.999, 12500000.0] < (12500000.0, 25000000.0] < (25000000.0, 43000000.0] < (43000000.0, 105000000.0]]"
      ]
     },
     "metadata": {},
     "output_type": "display_data"
    },
    {
     "data": {
      "text/plain": [
       "(12500000.0, 25000000.0]     565\n",
       "(49999.999, 12500000.0]      503\n",
       "(43000000.0, 105000000.0]    494\n",
       "(25000000.0, 43000000.0]     431\n",
       "Name: budget, dtype: int64"
      ]
     },
     "metadata": {},
     "output_type": "display_data"
    },
    {
     "data": {
      "text/plain": [
       "count    1993.000000\n",
       "mean      105.378826\n",
       "std        14.072621\n",
       "min        69.000000\n",
       "25%        96.000000\n",
       "50%       103.000000\n",
       "75%       114.000000\n",
       "max       147.000000\n",
       "Name: runtime, dtype: float64"
      ]
     },
     "metadata": {},
     "output_type": "display_data"
    },
    {
     "data": {
      "text/plain": [
       "0       (68.999, 96.0]\n",
       "1       (114.0, 147.0]\n",
       "2       (114.0, 147.0]\n",
       "3        (96.0, 103.0]\n",
       "4        (96.0, 103.0]\n",
       "             ...      \n",
       "1988    (103.0, 114.0]\n",
       "1989     (96.0, 103.0]\n",
       "1990    (68.999, 96.0]\n",
       "1991     (96.0, 103.0]\n",
       "1992    (103.0, 114.0]\n",
       "Name: runtime, Length: 1993, dtype: category\n",
       "Categories (4, interval[float64]): [(68.999, 96.0] < (96.0, 103.0] < (103.0, 114.0] < (114.0, 147.0]]"
      ]
     },
     "metadata": {},
     "output_type": "display_data"
    },
    {
     "data": {
      "text/plain": [
       "(68.999, 96.0]    549\n",
       "(114.0, 147.0]    498\n",
       "(103.0, 114.0]    481\n",
       "(96.0, 103.0]     465\n",
       "Name: runtime, dtype: int64"
      ]
     },
     "metadata": {},
     "output_type": "display_data"
    },
    {
     "data": {
      "text/plain": [
       "count    1993.000000\n",
       "mean        6.272554\n",
       "std         0.841085\n",
       "min         3.900000\n",
       "25%         5.700000\n",
       "50%         6.300000\n",
       "75%         6.900000\n",
       "max         8.200000\n",
       "Name: score, dtype: float64"
      ]
     },
     "metadata": {},
     "output_type": "display_data"
    },
    {
     "data": {
      "text/plain": [
       "0         (6.3, 6.9]\n",
       "1         (6.9, 8.2]\n",
       "2         (6.9, 8.2]\n",
       "3         (6.3, 6.9]\n",
       "4         (6.9, 8.2]\n",
       "            ...     \n",
       "1988      (5.7, 6.3]\n",
       "1989      (6.3, 6.9]\n",
       "1990      (5.7, 6.3]\n",
       "1991    (3.899, 5.7]\n",
       "1992      (5.7, 6.3]\n",
       "Name: score, Length: 1993, dtype: category\n",
       "Categories (4, interval[float64]): [(3.899, 5.7] < (5.7, 6.3] < (6.3, 6.9] < (6.9, 8.2]]"
      ]
     },
     "metadata": {},
     "output_type": "display_data"
    },
    {
     "data": {
      "text/plain": [
       "(3.899, 5.7]    530\n",
       "(6.3, 6.9]      523\n",
       "(5.7, 6.3]      491\n",
       "(6.9, 8.2]      449\n",
       "Name: score, dtype: int64"
      ]
     },
     "metadata": {},
     "output_type": "display_data"
    },
    {
     "data": {
      "text/plain": [
       "count      1993.000000\n",
       "mean      61263.095334\n",
       "std       62732.010952\n",
       "min         704.000000\n",
       "25%       15964.000000\n",
       "50%       38469.000000\n",
       "75%       85499.000000\n",
       "max      294996.000000\n",
       "Name: votes, dtype: float64"
      ]
     },
     "metadata": {},
     "output_type": "display_data"
    },
    {
     "data": {
      "text/plain": [
       "0        (15964.0, 38469.0]\n",
       "1       (85499.0, 294996.0]\n",
       "2       (85499.0, 294996.0]\n",
       "3        (703.999, 15964.0]\n",
       "4       (85499.0, 294996.0]\n",
       "               ...         \n",
       "1988     (15964.0, 38469.0]\n",
       "1989    (85499.0, 294996.0]\n",
       "1990    (85499.0, 294996.0]\n",
       "1991     (38469.0, 85499.0]\n",
       "1992     (15964.0, 38469.0]\n",
       "Name: votes, Length: 1993, dtype: category\n",
       "Categories (4, interval[float64]): [(703.999, 15964.0] < (15964.0, 38469.0] < (38469.0, 85499.0] < (85499.0, 294996.0]]"
      ]
     },
     "metadata": {},
     "output_type": "display_data"
    },
    {
     "data": {
      "text/plain": [
       "(703.999, 15964.0]     499\n",
       "(15964.0, 38469.0]     498\n",
       "(38469.0, 85499.0]     498\n",
       "(85499.0, 294996.0]    498\n",
       "Name: votes, dtype: int64"
      ]
     },
     "metadata": {},
     "output_type": "display_data"
    },
    {
     "data": {
      "text/plain": [
       "count    1993.000000\n",
       "mean        8.195990\n",
       "std         3.553912\n",
       "min         0.000578\n",
       "25%         5.739829\n",
       "50%         7.941972\n",
       "75%        10.580421\n",
       "max        20.623642\n",
       "Name: popularity, dtype: float64"
      ]
     },
     "metadata": {},
     "output_type": "display_data"
    },
    {
     "data": {
      "text/plain": [
       "0       (-0.00042200000000000007, 5.74]\n",
       "1                         (5.74, 7.942]\n",
       "2                       (10.58, 20.624]\n",
       "3       (-0.00042200000000000007, 5.74]\n",
       "4                       (10.58, 20.624]\n",
       "                     ...               \n",
       "1988                    (10.58, 20.624]\n",
       "1989                    (10.58, 20.624]\n",
       "1990                    (10.58, 20.624]\n",
       "1991                    (10.58, 20.624]\n",
       "1992                    (10.58, 20.624]\n",
       "Name: popularity, Length: 1993, dtype: category\n",
       "Categories (4, interval[float64]): [(-0.00042200000000000007, 5.74] < (5.74, 7.942] < (7.942, 10.58] < (10.58, 20.624]]"
      ]
     },
     "metadata": {},
     "output_type": "display_data"
    },
    {
     "data": {
      "text/plain": [
       "(-0.00042200000000000007, 5.74]    499\n",
       "(5.74, 7.942]                      498\n",
       "(7.942, 10.58]                     498\n",
       "(10.58, 20.624]                    498\n",
       "Name: popularity, dtype: int64"
      ]
     },
     "metadata": {},
     "output_type": "display_data"
    }
   ],
   "source": [
    "for i in continuous_features:\n",
    "    display(data_dropped_outlier_IQR[i].describe())\n",
    "\n",
    "    display(pd.qcut(data_dropped_outlier_IQR[i], q=4))\n",
    "\n",
    "    display(pd.qcut(data_dropped_outlier_IQR[i], q=4).value_counts())"
   ]
  },
  {
   "cell_type": "markdown",
   "metadata": {},
   "source": [
    "## 3.2. Normalization <a class=\"anchor\" id=\"32\"></a>"
   ]
  },
  {
   "cell_type": "markdown",
   "metadata": {},
   "source": [
    "### 3.2.1. Z-score Method <a class=\"anchor\" id=\"321\"></a>"
   ]
  },
  {
   "cell_type": "code",
   "execution_count": 39,
   "metadata": {},
   "outputs": [
    {
     "data": {
      "text/html": [
       "<div>\n",
       "<style scoped>\n",
       "    .dataframe tbody tr th:only-of-type {\n",
       "        vertical-align: middle;\n",
       "    }\n",
       "\n",
       "    .dataframe tbody tr th {\n",
       "        vertical-align: top;\n",
       "    }\n",
       "\n",
       "    .dataframe thead th {\n",
       "        text-align: right;\n",
       "    }\n",
       "</style>\n",
       "<table border=\"1\" class=\"dataframe\">\n",
       "  <thead>\n",
       "    <tr style=\"text-align: right;\">\n",
       "      <th></th>\n",
       "      <th>budget</th>\n",
       "      <th>runtime</th>\n",
       "      <th>score</th>\n",
       "      <th>votes</th>\n",
       "      <th>popularity</th>\n",
       "    </tr>\n",
       "  </thead>\n",
       "  <tbody>\n",
       "    <tr>\n",
       "      <th>count</th>\n",
       "      <td>1.993000e+03</td>\n",
       "      <td>1993.000000</td>\n",
       "      <td>1993.000000</td>\n",
       "      <td>1993.000000</td>\n",
       "      <td>1993.000000</td>\n",
       "    </tr>\n",
       "    <tr>\n",
       "      <th>mean</th>\n",
       "      <td>3.049440e+07</td>\n",
       "      <td>105.378826</td>\n",
       "      <td>6.272554</td>\n",
       "      <td>61263.095334</td>\n",
       "      <td>8.195990</td>\n",
       "    </tr>\n",
       "    <tr>\n",
       "      <th>std</th>\n",
       "      <td>2.346240e+07</td>\n",
       "      <td>14.072621</td>\n",
       "      <td>0.841085</td>\n",
       "      <td>62732.010952</td>\n",
       "      <td>3.553912</td>\n",
       "    </tr>\n",
       "    <tr>\n",
       "      <th>min</th>\n",
       "      <td>5.000000e+04</td>\n",
       "      <td>69.000000</td>\n",
       "      <td>3.900000</td>\n",
       "      <td>704.000000</td>\n",
       "      <td>0.000578</td>\n",
       "    </tr>\n",
       "    <tr>\n",
       "      <th>25%</th>\n",
       "      <td>1.250000e+07</td>\n",
       "      <td>96.000000</td>\n",
       "      <td>5.700000</td>\n",
       "      <td>15964.000000</td>\n",
       "      <td>5.739829</td>\n",
       "    </tr>\n",
       "    <tr>\n",
       "      <th>50%</th>\n",
       "      <td>2.500000e+07</td>\n",
       "      <td>103.000000</td>\n",
       "      <td>6.300000</td>\n",
       "      <td>38469.000000</td>\n",
       "      <td>7.941972</td>\n",
       "    </tr>\n",
       "    <tr>\n",
       "      <th>75%</th>\n",
       "      <td>4.300000e+07</td>\n",
       "      <td>114.000000</td>\n",
       "      <td>6.900000</td>\n",
       "      <td>85499.000000</td>\n",
       "      <td>10.580421</td>\n",
       "    </tr>\n",
       "    <tr>\n",
       "      <th>max</th>\n",
       "      <td>1.050000e+08</td>\n",
       "      <td>147.000000</td>\n",
       "      <td>8.200000</td>\n",
       "      <td>294996.000000</td>\n",
       "      <td>20.623642</td>\n",
       "    </tr>\n",
       "  </tbody>\n",
       "</table>\n",
       "</div>"
      ],
      "text/plain": [
       "             budget      runtime        score          votes   popularity\n",
       "count  1.993000e+03  1993.000000  1993.000000    1993.000000  1993.000000\n",
       "mean   3.049440e+07   105.378826     6.272554   61263.095334     8.195990\n",
       "std    2.346240e+07    14.072621     0.841085   62732.010952     3.553912\n",
       "min    5.000000e+04    69.000000     3.900000     704.000000     0.000578\n",
       "25%    1.250000e+07    96.000000     5.700000   15964.000000     5.739829\n",
       "50%    2.500000e+07   103.000000     6.300000   38469.000000     7.941972\n",
       "75%    4.300000e+07   114.000000     6.900000   85499.000000    10.580421\n",
       "max    1.050000e+08   147.000000     8.200000  294996.000000    20.623642"
      ]
     },
     "execution_count": 39,
     "metadata": {},
     "output_type": "execute_result"
    }
   ],
   "source": [
    "data_dropped_outlier_IQR[continuous_features].describe()"
   ]
  },
  {
   "cell_type": "code",
   "execution_count": 40,
   "metadata": {},
   "outputs": [],
   "source": [
    "scaler = StandardScaler()"
   ]
  },
  {
   "cell_type": "code",
   "execution_count": 41,
   "metadata": {},
   "outputs": [],
   "source": [
    "data_dropped_z_score_scaled = pd.DataFrame(scaler.fit_transform(data_dropped_outlier_IQR[continuous_features]), columns=continuous_features)"
   ]
  },
  {
   "cell_type": "code",
   "execution_count": 42,
   "metadata": {},
   "outputs": [
    {
     "data": {
      "text/html": [
       "<div>\n",
       "<style scoped>\n",
       "    .dataframe tbody tr th:only-of-type {\n",
       "        vertical-align: middle;\n",
       "    }\n",
       "\n",
       "    .dataframe tbody tr th {\n",
       "        vertical-align: top;\n",
       "    }\n",
       "\n",
       "    .dataframe thead th {\n",
       "        text-align: right;\n",
       "    }\n",
       "</style>\n",
       "<table border=\"1\" class=\"dataframe\">\n",
       "  <thead>\n",
       "    <tr style=\"text-align: right;\">\n",
       "      <th></th>\n",
       "      <th>budget</th>\n",
       "      <th>runtime</th>\n",
       "      <th>score</th>\n",
       "      <th>votes</th>\n",
       "      <th>popularity</th>\n",
       "    </tr>\n",
       "  </thead>\n",
       "  <tbody>\n",
       "    <tr>\n",
       "      <th>count</th>\n",
       "      <td>1.993000e+03</td>\n",
       "      <td>1.993000e+03</td>\n",
       "      <td>1.993000e+03</td>\n",
       "      <td>1.993000e+03</td>\n",
       "      <td>1.993000e+03</td>\n",
       "    </tr>\n",
       "    <tr>\n",
       "      <th>mean</th>\n",
       "      <td>-4.278230e-17</td>\n",
       "      <td>-3.458236e-16</td>\n",
       "      <td>-7.379947e-16</td>\n",
       "      <td>4.278230e-17</td>\n",
       "      <td>-1.283469e-16</td>\n",
       "    </tr>\n",
       "    <tr>\n",
       "      <th>std</th>\n",
       "      <td>1.000251e+00</td>\n",
       "      <td>1.000251e+00</td>\n",
       "      <td>1.000251e+00</td>\n",
       "      <td>1.000251e+00</td>\n",
       "      <td>1.000251e+00</td>\n",
       "    </tr>\n",
       "    <tr>\n",
       "      <th>min</th>\n",
       "      <td>-1.297908e+00</td>\n",
       "      <td>-2.585727e+00</td>\n",
       "      <td>-2.821533e+00</td>\n",
       "      <td>-9.656042e-01</td>\n",
       "      <td>-2.306604e+00</td>\n",
       "    </tr>\n",
       "    <tr>\n",
       "      <th>25%</th>\n",
       "      <td>-7.671387e-01</td>\n",
       "      <td>-6.666264e-01</td>\n",
       "      <td>-6.809034e-01</td>\n",
       "      <td>-7.222862e-01</td>\n",
       "      <td>-6.912882e-01</td>\n",
       "    </tr>\n",
       "    <tr>\n",
       "      <th>50%</th>\n",
       "      <td>-2.342378e-01</td>\n",
       "      <td>-1.690817e-01</td>\n",
       "      <td>3.263992e-02</td>\n",
       "      <td>-3.634479e-01</td>\n",
       "      <td>-7.149354e-02</td>\n",
       "    </tr>\n",
       "    <tr>\n",
       "      <th>75%</th>\n",
       "      <td>5.331397e-01</td>\n",
       "      <td>6.127741e-01</td>\n",
       "      <td>7.461832e-01</td>\n",
       "      <td>3.864373e-01</td>\n",
       "      <td>6.710997e-01</td>\n",
       "    </tr>\n",
       "    <tr>\n",
       "      <th>max</th>\n",
       "      <td>3.176329e+00</td>\n",
       "      <td>2.958342e+00</td>\n",
       "      <td>2.292194e+00</td>\n",
       "      <td>3.726830e+00</td>\n",
       "      <td>3.497771e+00</td>\n",
       "    </tr>\n",
       "  </tbody>\n",
       "</table>\n",
       "</div>"
      ],
      "text/plain": [
       "             budget       runtime         score         votes    popularity\n",
       "count  1.993000e+03  1.993000e+03  1.993000e+03  1.993000e+03  1.993000e+03\n",
       "mean  -4.278230e-17 -3.458236e-16 -7.379947e-16  4.278230e-17 -1.283469e-16\n",
       "std    1.000251e+00  1.000251e+00  1.000251e+00  1.000251e+00  1.000251e+00\n",
       "min   -1.297908e+00 -2.585727e+00 -2.821533e+00 -9.656042e-01 -2.306604e+00\n",
       "25%   -7.671387e-01 -6.666264e-01 -6.809034e-01 -7.222862e-01 -6.912882e-01\n",
       "50%   -2.342378e-01 -1.690817e-01  3.263992e-02 -3.634479e-01 -7.149354e-02\n",
       "75%    5.331397e-01  6.127741e-01  7.461832e-01  3.864373e-01  6.710997e-01\n",
       "max    3.176329e+00  2.958342e+00  2.292194e+00  3.726830e+00  3.497771e+00"
      ]
     },
     "execution_count": 42,
     "metadata": {},
     "output_type": "execute_result"
    }
   ],
   "source": [
    "data_dropped_z_score_scaled.describe()"
   ]
  },
  {
   "cell_type": "code",
   "execution_count": 43,
   "metadata": {},
   "outputs": [
    {
     "data": {
      "text/plain": [
       "array([[<AxesSubplot:title={'center':'budget'}>,\n",
       "        <AxesSubplot:title={'center':'gross'}>,\n",
       "        <AxesSubplot:title={'center':'runtime'}>],\n",
       "       [<AxesSubplot:title={'center':'score'}>,\n",
       "        <AxesSubplot:title={'center':'votes'}>,\n",
       "        <AxesSubplot:title={'center':'year'}>],\n",
       "       [<AxesSubplot:title={'center':'isprofit'}>,\n",
       "        <AxesSubplot:title={'center':'profitability_ratio'}>,\n",
       "        <AxesSubplot:title={'center':'profitability_ratio_bucket'}>],\n",
       "       [<AxesSubplot:title={'center':'id'}>,\n",
       "        <AxesSubplot:title={'center':'popularity'}>,\n",
       "        <AxesSubplot:title={'center':'year_released'}>]], dtype=object)"
      ]
     },
     "execution_count": 43,
     "metadata": {},
     "output_type": "execute_result"
    },
    {
     "data": {
      "image/png": "[encoded data removed]",
      "text/plain": [
       "<Figure size 1152x1152 with 12 Axes>"
      ]
     },
     "metadata": {},
     "output_type": "display_data"
    }
   ],
   "source": [
    "data_dropped_outlier_IQR.hist(figsize=(16, 16))"
   ]
  },
  {
   "cell_type": "markdown",
   "metadata": {},
   "source": [
    "Figure 6: Histogram of Data Before Normalization\n",
    "<p>Figure 6 shows the bar charts helping us visualize the data befor the five features above have been normalized.</p>"
   ]
  },
  {
   "cell_type": "code",
   "execution_count": 44,
   "metadata": {},
   "outputs": [
    {
     "data": {
      "text/plain": [
       "array([[<AxesSubplot:title={'center':'budget'}>,\n",
       "        <AxesSubplot:title={'center':'runtime'}>],\n",
       "       [<AxesSubplot:title={'center':'score'}>,\n",
       "        <AxesSubplot:title={'center':'votes'}>],\n",
       "       [<AxesSubplot:title={'center':'popularity'}>, <AxesSubplot:>]],\n",
       "      dtype=object)"
      ]
     },
     "execution_count": 44,
     "metadata": {},
     "output_type": "execute_result"
    },
    {
     "data": {
      "image/png": "[encoded data removed]",
      "text/plain": [
       "<Figure size 720x720 with 6 Axes>"
      ]
     },
     "metadata": {},
     "output_type": "display_data"
    }
   ],
   "source": [
    "data_dropped_z_score_scaled.hist(figsize=(10, 10))"
   ]
  },
  {
   "cell_type": "markdown",
   "metadata": {},
   "source": [
    "Figure 7: Histogram of Data After Normalization\n",
    "<p>Figure 7 shows bar charts helping us visualize the data after the five features above have been normalized.</p>"
   ]
  },
  {
   "cell_type": "markdown",
   "metadata": {},
   "source": [
    "Add normalized columns to main dataset as new columns labeled with the feature name they relate to followed by \"_norm\"."
   ]
  },
  {
   "cell_type": "code",
   "execution_count": 45,
   "metadata": {},
   "outputs": [],
   "source": [
    "norm_column_names = ['budget_norm', 'runtime_norm', 'score_norm', 'votes_norm', 'popularity_norm']\n",
    "    \n",
    "for i, j in zip(norm_column_names, continuous_features):\n",
    "    data_dropped_outlier_IQR[i] = pd.Series(data_dropped_z_score_scaled[j])\n"
   ]
  },
  {
   "cell_type": "code",
   "execution_count": 46,
   "metadata": {},
   "outputs": [],
   "source": [
    "data_dropped_outlier_IQR.to_csv('data/training_data.csv')"
   ]
  },
  {
   "cell_type": "markdown",
   "metadata": {},
   "source": [
    "# 4. Results <a class=\"anchor\" id=\"4\"></a>"
   ]
  },
  {
   "cell_type": "markdown",
   "metadata": {},
   "source": [
    "## 4.1. Data Cleaning <a class=\"anchor\" id=\"41\"></a>"
   ]
  },
  {
   "cell_type": "markdown",
   "metadata": {},
   "source": [
    "As we analyze all the features in <a href=\"#21\">Section 2.1.</a> we can see that the only features that need cleaning are overview, tagline, spoken_languages_edited, production_countries_edited and keywords_edited. The rest of the features are clean meaning not missing any values that require either dropping or replacement of those values."
   ]
  },
  {
   "cell_type": "markdown",
   "metadata": {},
   "source": [
    "## 4.2. Data Transformation <a class=\"anchor\" id=\"42\"></a>"
   ]
  },
  {
   "cell_type": "markdown",
   "metadata": {},
   "source": [
    "After analyzing and cleaning the five categorical features found in <a href=\"#21\">Section 2.1.</a> we are able to focus on transforming our data.  \n",
    "\n",
    "<p>Our data includes categorical and continuous types but for transformation we want to focus on five that need to be discretized and normalized in order to be ready for modeling. These five features include budget, runtime, score, votes and popularity. The reason for discretizing the data is so we can partition the data into equal distributions that will be easier to manage and manipulate. After that we can use normalization to give all the attributes an equal weight which is useful to us in the following section where we model our data.</p>"
   ]
  }
 ],
 "metadata": {
  "kernelspec": {
   "display_name": "'Python3'",
   "language": "python",
   "name": "python3"
  },
  "language_info": {
   "codemirror_mode": {
    "name": "ipython",
    "version": 3
   },
   "file_extension": ".py",
   "mimetype": "text/x-python",
   "name": "python",
   "nbconvert_exporter": "python",
   "pygments_lexer": "ipython3",
   "version": "3.7.3"
  }
 },
 "nbformat": 4,
 "nbformat_minor": 2
}
