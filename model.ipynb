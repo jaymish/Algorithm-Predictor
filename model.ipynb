{
 "cells": [
  {
   "cell_type": "code",
   "execution_count": 89,
   "id": "0a70ee18",
   "metadata": {},
   "outputs": [],
   "source": [
    "import pandas as pd\n",
    "import numpy as np\n",
    "import time\n",
    "import matplotlib.pyplot as plt\n",
    "import seaborn as sns\n",
    "from sklearn.model_selection import KFold\n",
    "from sklearn.model_selection import train_test_split\n",
    "from sklearn.ensemble import RandomForestClassifier, GradientBoostingClassifier, RandomForestRegressor, GradientBoostingRegressor, AdaBoostClassifier\n",
    "from sklearn.neighbors import KNeighborsClassifier\n",
    "from sklearn.neighbors import KNeighborsRegressor\n",
    "import sklearn.metrics as metrics\n",
    "from sklearn.metrics import roc_auc_score\n",
    "from sklearn.metrics import confusion_matrix\n",
    "from sklearn.metrics import roc_curve\n",
    "from sklearn.metrics import mean_squared_error\n",
    "from sklearn.metrics import r2_score\n",
    "from sklearn.metrics import mean_absolute_error"
   ]
  },
  {
   "cell_type": "code",
   "execution_count": 90,
   "id": "0b2bd393",
   "metadata": {},
   "outputs": [],
   "source": [
    "df = pd.read_csv('final_training_data.csv')"
   ]
  },
  {
   "cell_type": "code",
   "execution_count": 107,
   "id": "2bada44a",
   "metadata": {},
   "outputs": [],
   "source": [
    "n=20\n",
    "reg_target_k = 'k-f1'\n",
    "reg_target_rf = 'rf-f1'\n",
    "reg_target_ada = 'ada-f1'\n",
    "reg_target_gb = 'gb-f1'\n",
    "des_features = ['categorical', 'columns', 'continuous', 'rows']"
   ]
  },
  {
   "cell_type": "code",
   "execution_count": 108,
   "id": "388733f3",
   "metadata": {},
   "outputs": [
    {
     "data": {
      "text/plain": [
       "RandomForestRegressor(criterion='friedman_mse', max_depth=7, max_features=None,\n",
       "                      max_leaf_nodes=14, min_samples_leaf=30,\n",
       "                      min_samples_split=100, n_estimators=20, random_state=17)"
      ]
     },
     "execution_count": 108,
     "metadata": {},
     "output_type": "execute_result"
    }
   ],
   "source": [
    "X = df[des_features] # training data is the same for classification model and regression model\n",
    "y = df[reg_target_k] # y1 corresponds to binary label outcome that will be used in classification\n",
    "\n",
    "X_train, X_test, y_train, y_test = train_test_split(X, y, test_size=0.05, random_state=17)\n",
    "\n",
    "\n",
    "X_train = X_train.reset_index(drop=True)\n",
    "y_train = pd.DataFrame(y_train).reset_index(drop=True)\n",
    "\n",
    "X_test = X_test.reset_index(drop=True)\n",
    "y_test = pd.DataFrame(y_test).reset_index(drop=True)\n",
    "\n",
    "\n",
    "\n",
    "\n",
    "\n",
    "rf_results_lst = []\n",
    "rf_k = RandomForestRegressor(n_estimators=n, criterion='friedman_mse', \n",
    "                                min_samples_split=100, min_samples_leaf=30, max_depth=7, random_state=17,\n",
    "                                max_features=None, verbose=0, max_leaf_nodes=14)\n",
    "rf_k.fit(X_train, np.ravel(y_train))"
   ]
  },
  {
   "cell_type": "code",
   "execution_count": 109,
   "id": "c167de73",
   "metadata": {},
   "outputs": [
    {
     "data": {
      "text/plain": [
       "RandomForestRegressor(criterion='friedman_mse', max_depth=7, max_features=None,\n",
       "                      max_leaf_nodes=14, min_samples_leaf=30,\n",
       "                      min_samples_split=100, n_estimators=20, random_state=17)"
      ]
     },
     "execution_count": 109,
     "metadata": {},
     "output_type": "execute_result"
    }
   ],
   "source": [
    "X = df[des_features] # training data is the same for classification model and regression model\n",
    "y = df[reg_target_rf] # y1 corresponds to binary label outcome that will be used in classification\n",
    "\n",
    "X_train, X_test, y_train, y_test = train_test_split(X, y, test_size=0.05, random_state=17)\n",
    "\n",
    "\n",
    "X_train = X_train.reset_index(drop=True)\n",
    "y_train = pd.DataFrame(y_train).reset_index(drop=True)\n",
    "\n",
    "X_test = X_test.reset_index(drop=True)\n",
    "y_test = pd.DataFrame(y_test).reset_index(drop=True)\n",
    "\n",
    "\n",
    "\n",
    "\n",
    "\n",
    "rf_results_lst = []\n",
    "rf_rf = RandomForestRegressor(n_estimators=n, criterion='friedman_mse', \n",
    "                                min_samples_split=100, min_samples_leaf=30, max_depth=7, random_state=17,\n",
    "                                max_features=None, verbose=0, max_leaf_nodes=14)\n",
    "rf_rf.fit(X_train, np.ravel(y_train))"
   ]
  },
  {
   "cell_type": "code",
   "execution_count": 110,
   "id": "567c2382",
   "metadata": {},
   "outputs": [
    {
     "data": {
      "text/plain": [
       "RandomForestRegressor(criterion='friedman_mse', max_depth=7, max_features=None,\n",
       "                      max_leaf_nodes=14, min_samples_leaf=30,\n",
       "                      min_samples_split=100, n_estimators=20, random_state=17)"
      ]
     },
     "execution_count": 110,
     "metadata": {},
     "output_type": "execute_result"
    }
   ],
   "source": [
    "X = df[des_features] # training data is the same for classification model and regression model\n",
    "y = df[reg_target_ada] # y1 corresponds to binary label outcome that will be used in classification\n",
    "\n",
    "X_train, X_test, y_train, y_test = train_test_split(X, y, test_size=0.05, random_state=17)\n",
    "\n",
    "\n",
    "X_train = X_train.reset_index(drop=True)\n",
    "y_train = pd.DataFrame(y_train).reset_index(drop=True)\n",
    "\n",
    "X_test = X_test.reset_index(drop=True)\n",
    "y_test = pd.DataFrame(y_test).reset_index(drop=True)\n",
    "\n",
    "\n",
    "\n",
    "\n",
    "\n",
    "rf_results_lst = []\n",
    "rf_ada = RandomForestRegressor(n_estimators=n, criterion='friedman_mse', \n",
    "                                min_samples_split=100, min_samples_leaf=30, max_depth=7, random_state=17,\n",
    "                                max_features=None, verbose=0, max_leaf_nodes=14)\n",
    "rf_ada.fit(X_train, np.ravel(y_train))"
   ]
  },
  {
   "cell_type": "code",
   "execution_count": 111,
   "id": "dfd166f8",
   "metadata": {},
   "outputs": [
    {
     "data": {
      "text/plain": [
       "RandomForestRegressor(criterion='friedman_mse', max_depth=7, max_features=None,\n",
       "                      max_leaf_nodes=14, min_samples_leaf=30,\n",
       "                      min_samples_split=100, n_estimators=20, random_state=17)"
      ]
     },
     "execution_count": 111,
     "metadata": {},
     "output_type": "execute_result"
    }
   ],
   "source": [
    "X = df[des_features] # training data is the same for classification model and regression model\n",
    "y = df[reg_target_gb] # y1 corresponds to binary label outcome that will be used in classification\n",
    "\n",
    "X_train, X_test, y_train, y_test = train_test_split(X, y, test_size=0.05, random_state=17)\n",
    "\n",
    "\n",
    "X_train = X_train.reset_index(drop=True)\n",
    "y_train = pd.DataFrame(y_train).reset_index(drop=True)\n",
    "\n",
    "X_test = X_test.reset_index(drop=True)\n",
    "y_test = pd.DataFrame(y_test).reset_index(drop=True)\n",
    "\n",
    "\n",
    "\n",
    "\n",
    "\n",
    "rf_results_lst = []\n",
    "rf_gb = RandomForestRegressor(n_estimators=n, criterion='friedman_mse', \n",
    "                                min_samples_split=100, min_samples_leaf=30, max_depth=7, random_state=17,\n",
    "                                max_features=None, verbose=0, max_leaf_nodes=14)\n",
    "rf_gb.fit(X_train, np.ravel(y_train))"
   ]
  },
  {
   "cell_type": "code",
   "execution_count": 114,
   "id": "43976e57",
   "metadata": {},
   "outputs": [
    {
     "name": "stdout",
     "output_type": "stream",
     "text": [
      "[0.51835]\n",
      "[0.60471818]\n",
      "[0.60482273]\n",
      "[0.60226364]\n"
     ]
    }
   ],
   "source": [
    "result_lst=[]\n",
    "rf1=rf_k.predict([[10,21,2,352465]])\n",
    "rf2=rf_rf.predict([[10,21,2,352465]])\n",
    "rf3=rf_ada.predict([[10,21,2,352465]])\n",
    "rf4=rf_gb.predict([[10,21,2,352465]])\n",
    "print(rf1)\n",
    "result_lst.append(rf1)\n",
    "print(rf2)\n",
    "result_lst.append(rf2)\n",
    "print(rf3)\n",
    "result_lst.append(rf3)\n",
    "print(rf4)\n",
    "result_lst.append(rf4)"
   ]
  },
  {
   "cell_type": "code",
   "execution_count": 113,
   "id": "18bccb3f",
   "metadata": {},
   "outputs": [
    {
     "name": "stdout",
     "output_type": "stream",
     "text": [
      "Ada-Boost is best\n"
     ]
    }
   ],
   "source": [
    "max_value=max(rf1,rf2,rf3,rf4)\n",
    "for i in range(4):\n",
    "    if result_lst[i]==max_value:\n",
    "        if i==0:\n",
    "            print('Knn is best')\n",
    "        if i==1:\n",
    "            print('Random Forest is best')\n",
    "        if i==2:\n",
    "            print('Ada-Boost is best')    \n",
    "        if i==3:\n",
    "            print('Gradient Boosting is best')"
   ]
  },
  {
   "cell_type": "code",
   "execution_count": null,
   "id": "af0da69e",
   "metadata": {},
   "outputs": [],
   "source": []
  },
  {
   "cell_type": "code",
   "execution_count": null,
   "id": "7073fe70",
   "metadata": {},
   "outputs": [],
   "source": []
  }
 ],
 "metadata": {
  "kernelspec": {
   "display_name": "'Python3'",
   "language": "python",
   "name": "python3"
  },
  "language_info": {
   "codemirror_mode": {
    "name": "ipython",
    "version": 3
   },
   "file_extension": ".py",
   "mimetype": "text/x-python",
   "name": "python",
   "nbconvert_exporter": "python",
   "pygments_lexer": "ipython3",
   "version": "3.7.3"
  }
 },
 "nbformat": 4,
 "nbformat_minor": 5
}
