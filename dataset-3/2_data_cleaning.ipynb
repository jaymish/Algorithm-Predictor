{
 "cells": [
  {
   "cell_type": "markdown",
   "metadata": {},
   "source": [
    "### Table of Contents:\n",
    "* [1. Preparing the Data](#1)\n",
    "* &emsp;[1.1. Importing Libraries](#11)\n",
    "* [2. Data Cleaning](#2)\n",
    "* &emsp;[2.1. Identifying Missing Values](#21)\n",
    "* &emsp;[2.2. Dealing with Missing Values](#22)\n",
    "* &emsp;[2.3. Removing Rows](#23)\n",
    "* &emsp;[2.4. Finding Outliers](#24)\n",
    "* &emsp;&emsp;[2.4.1. IQR Score Method](#241)\n",
    "* &emsp;[2.5. Box Plot](#25)\n",
    "* [3. Data Transformation](#3)\n",
    "* &emsp;[3.1. Binning](#31)\n",
    "* &emsp;[3.2. Normalization](#32)\n",
    "* &emsp;&emsp;[3.2.1. Z-score Method](#33)\n",
    "* [4. Results](#4)\n",
    "* &emsp;[4.1. Data Cleaning](#41)\n",
    "* &emsp;[4.2. Data Transformation](#42)"
   ]
  },
  {
   "cell_type": "markdown",
   "metadata": {},
   "source": [
    "# 1. Preparing the Data <a class=\"anchor\" id=\"1\"></a>"
   ]
  },
  {
   "cell_type": "markdown",
   "metadata": {},
   "source": [
    "## 1.1. Importing Libraries <a class=\"anchor\" id=\"11\"></a>"
   ]
  },
  {
   "cell_type": "code",
   "execution_count": 1,
   "metadata": {},
   "outputs": [],
   "source": [
    "import pandas as pd \n",
    "import numpy as np  \n",
    "import matplotlib.pyplot as plt \n",
    "import seaborn as sns\n",
    "from sklearn.preprocessing import StandardScaler\n",
    "\n",
    "%matplotlib inline  \n",
    "plt.style.use('fivethirtyeight')"
   ]
  },
  {
   "cell_type": "markdown",
   "metadata": {},
   "source": [
    "# 2. Data Cleaning <a class=\"anchor\" id=\"2\"></a>"
   ]
  },
  {
   "cell_type": "markdown",
   "metadata": {},
   "source": [
    "## 2.1. Identifying Missing Values <a class=\"anchor\" id=\"21\"></a>"
   ]
  },
  {
   "cell_type": "code",
   "execution_count": 2,
   "metadata": {},
   "outputs": [],
   "source": [
    "df = pd.read_csv('data/raw_training_data.csv')"
   ]
  },
  {
   "cell_type": "code",
   "execution_count": 3,
   "metadata": {},
   "outputs": [],
   "source": [
    "categorical_features = ['company','director','released','star','year',\n",
    "                        'writer','adult','original_title','overview','tagline','title','genres_edited',\n",
    "                        'spoken_languages_edited','production_countries_edited','keywords_edited']\n",
    "continuous_features = ['budget','score','votes','popularity']\n",
    "target_features = ['isprofit','profitability_ratio']"
   ]
  },
  {
   "cell_type": "code",
   "execution_count": 4,
   "metadata": {},
   "outputs": [
    {
     "data": {
      "text/plain": [
       "(3524, 28)"
      ]
     },
     "execution_count": 4,
     "metadata": {},
     "output_type": "execute_result"
    }
   ],
   "source": [
    "df.shape # (# rows, # cols)"
   ]
  },
  {
   "cell_type": "code",
   "execution_count": 5,
   "metadata": {},
   "outputs": [
    {
     "data": {
      "text/html": [
       "<div>\n",
       "<style scoped>\n",
       "    .dataframe tbody tr th:only-of-type {\n",
       "        vertical-align: middle;\n",
       "    }\n",
       "\n",
       "    .dataframe tbody tr th {\n",
       "        vertical-align: top;\n",
       "    }\n",
       "\n",
       "    .dataframe thead th {\n",
       "        text-align: right;\n",
       "    }\n",
       "</style>\n",
       "<table border=\"1\" class=\"dataframe\">\n",
       "  <thead>\n",
       "    <tr style=\"text-align: right;\">\n",
       "      <th></th>\n",
       "      <th>Unnamed: 0</th>\n",
       "      <th>budget</th>\n",
       "      <th>company</th>\n",
       "      <th>director</th>\n",
       "      <th>gross</th>\n",
       "      <th>name</th>\n",
       "      <th>released</th>\n",
       "      <th>score</th>\n",
       "      <th>star</th>\n",
       "      <th>votes</th>\n",
       "      <th>...</th>\n",
       "      <th>original_title</th>\n",
       "      <th>overview</th>\n",
       "      <th>popularity</th>\n",
       "      <th>tagline</th>\n",
       "      <th>title</th>\n",
       "      <th>genres_edited</th>\n",
       "      <th>spoken_languages_edited</th>\n",
       "      <th>production_countries_edited</th>\n",
       "      <th>keywords_edited</th>\n",
       "      <th>year_released</th>\n",
       "    </tr>\n",
       "  </thead>\n",
       "  <tbody>\n",
       "    <tr>\n",
       "      <th>0</th>\n",
       "      <td>0</td>\n",
       "      <td>8000000</td>\n",
       "      <td>Columbia Pictures Corporation</td>\n",
       "      <td>Rob Reiner</td>\n",
       "      <td>52287414</td>\n",
       "      <td>Stand by Me</td>\n",
       "      <td>22.08.1986 00:00</td>\n",
       "      <td>8.1</td>\n",
       "      <td>Wil Wheaton</td>\n",
       "      <td>299174</td>\n",
       "      <td>...</td>\n",
       "      <td>Stand by Me</td>\n",
       "      <td>After the death of a friend, a writer recounts...</td>\n",
       "      <td>15.206957</td>\n",
       "      <td>For some, it's the last real taste of innocenc...</td>\n",
       "      <td>Stand by Me</td>\n",
       "      <td>Crime, Drama</td>\n",
       "      <td>en</td>\n",
       "      <td>US</td>\n",
       "      <td>based on novel, friendship, coming of age, rai...</td>\n",
       "      <td>1986</td>\n",
       "    </tr>\n",
       "    <tr>\n",
       "      <th>1</th>\n",
       "      <td>1</td>\n",
       "      <td>6000000</td>\n",
       "      <td>Paramount Pictures</td>\n",
       "      <td>Other</td>\n",
       "      <td>70136369</td>\n",
       "      <td>Ferris Bueller's Day Off</td>\n",
       "      <td>11.06.1986 00:00</td>\n",
       "      <td>7.8</td>\n",
       "      <td>Matthew Broderick</td>\n",
       "      <td>264740</td>\n",
       "      <td>...</td>\n",
       "      <td>Ferris Bueller's Day Off</td>\n",
       "      <td>Charismatic teen Ferris Bueller plays hooky in...</td>\n",
       "      <td>12.724645</td>\n",
       "      <td>One man's struggle to take it easy.</td>\n",
       "      <td>Ferris Bueller's Day Off</td>\n",
       "      <td>Comedy</td>\n",
       "      <td>en</td>\n",
       "      <td>US</td>\n",
       "      <td>chicago, high school, aftercreditsstinger, dur...</td>\n",
       "      <td>1986</td>\n",
       "    </tr>\n",
       "    <tr>\n",
       "      <th>2</th>\n",
       "      <td>2</td>\n",
       "      <td>15000000</td>\n",
       "      <td>Paramount Pictures</td>\n",
       "      <td>Other</td>\n",
       "      <td>179800601</td>\n",
       "      <td>Top Gun</td>\n",
       "      <td>16.05.1986 00:00</td>\n",
       "      <td>6.9</td>\n",
       "      <td>Tom Cruise</td>\n",
       "      <td>236909</td>\n",
       "      <td>...</td>\n",
       "      <td>Top Gun</td>\n",
       "      <td>For Lieutenant Pete 'Maverick' Mitchell and hi...</td>\n",
       "      <td>20.301019</td>\n",
       "      <td>Up there with the best of the best.</td>\n",
       "      <td>Top Gun</td>\n",
       "      <td>Action, Romance, War</td>\n",
       "      <td>en</td>\n",
       "      <td>US</td>\n",
       "      <td>lovesickness, loss of lover, fighter pilot, se...</td>\n",
       "      <td>1986</td>\n",
       "    </tr>\n",
       "    <tr>\n",
       "      <th>3</th>\n",
       "      <td>3</td>\n",
       "      <td>18500000</td>\n",
       "      <td>Twentieth Century Fox Film Corporation</td>\n",
       "      <td>Other</td>\n",
       "      <td>85160248</td>\n",
       "      <td>Aliens</td>\n",
       "      <td>18.07.1986 00:00</td>\n",
       "      <td>8.4</td>\n",
       "      <td>Sigourney Weaver</td>\n",
       "      <td>540152</td>\n",
       "      <td>...</td>\n",
       "      <td>Aliens</td>\n",
       "      <td>When Ripley's lifepod is found by a salvage cr...</td>\n",
       "      <td>21.761179</td>\n",
       "      <td>This Time It's War</td>\n",
       "      <td>Aliens</td>\n",
       "      <td>Horror, Action, Thriller, Science Fiction</td>\n",
       "      <td>en</td>\n",
       "      <td>GB, US</td>\n",
       "      <td>android, extraterrestrial technology, space ma...</td>\n",
       "      <td>1986</td>\n",
       "    </tr>\n",
       "    <tr>\n",
       "      <th>4</th>\n",
       "      <td>4</td>\n",
       "      <td>9000000</td>\n",
       "      <td>Walt Disney Pictures</td>\n",
       "      <td>Other</td>\n",
       "      <td>18564613</td>\n",
       "      <td>Flight of the Navigator</td>\n",
       "      <td>1.08.1986 00:00</td>\n",
       "      <td>6.9</td>\n",
       "      <td>Joey Cramer</td>\n",
       "      <td>36636</td>\n",
       "      <td>...</td>\n",
       "      <td>Flight of the Navigator</td>\n",
       "      <td>This 1986 Disney adventure tells the story of ...</td>\n",
       "      <td>5.526865</td>\n",
       "      <td>Come along on the greatest adventure of the su...</td>\n",
       "      <td>Flight of the Navigator</td>\n",
       "      <td>Family, Science Fiction, Adventure</td>\n",
       "      <td>en</td>\n",
       "      <td>US</td>\n",
       "      <td>artificial intelligence, farewell, homesicknes...</td>\n",
       "      <td>1986</td>\n",
       "    </tr>\n",
       "  </tbody>\n",
       "</table>\n",
       "<p>5 rows × 28 columns</p>\n",
       "</div>"
      ],
      "text/plain": [
       "   Unnamed: 0    budget                                 company    director  \\\n",
       "0           0   8000000           Columbia Pictures Corporation  Rob Reiner   \n",
       "1           1   6000000                      Paramount Pictures       Other   \n",
       "2           2  15000000                      Paramount Pictures       Other   \n",
       "3           3  18500000  Twentieth Century Fox Film Corporation       Other   \n",
       "4           4   9000000                    Walt Disney Pictures       Other   \n",
       "\n",
       "       gross                      name          released  score  \\\n",
       "0   52287414               Stand by Me  22.08.1986 00:00    8.1   \n",
       "1   70136369  Ferris Bueller's Day Off  11.06.1986 00:00    7.8   \n",
       "2  179800601                   Top Gun  16.05.1986 00:00    6.9   \n",
       "3   85160248                    Aliens  18.07.1986 00:00    8.4   \n",
       "4   18564613   Flight of the Navigator   1.08.1986 00:00    6.9   \n",
       "\n",
       "                star   votes  ...            original_title  \\\n",
       "0        Wil Wheaton  299174  ...               Stand by Me   \n",
       "1  Matthew Broderick  264740  ...  Ferris Bueller's Day Off   \n",
       "2         Tom Cruise  236909  ...                   Top Gun   \n",
       "3   Sigourney Weaver  540152  ...                    Aliens   \n",
       "4        Joey Cramer   36636  ...   Flight of the Navigator   \n",
       "\n",
       "                                            overview  popularity  \\\n",
       "0  After the death of a friend, a writer recounts...   15.206957   \n",
       "1  Charismatic teen Ferris Bueller plays hooky in...   12.724645   \n",
       "2  For Lieutenant Pete 'Maverick' Mitchell and hi...   20.301019   \n",
       "3  When Ripley's lifepod is found by a salvage cr...   21.761179   \n",
       "4  This 1986 Disney adventure tells the story of ...    5.526865   \n",
       "\n",
       "                                             tagline  \\\n",
       "0  For some, it's the last real taste of innocenc...   \n",
       "1                One man's struggle to take it easy.   \n",
       "2                Up there with the best of the best.   \n",
       "3                                 This Time It's War   \n",
       "4  Come along on the greatest adventure of the su...   \n",
       "\n",
       "                      title                              genres_edited  \\\n",
       "0               Stand by Me                               Crime, Drama   \n",
       "1  Ferris Bueller's Day Off                                     Comedy   \n",
       "2                   Top Gun                       Action, Romance, War   \n",
       "3                    Aliens  Horror, Action, Thriller, Science Fiction   \n",
       "4   Flight of the Navigator         Family, Science Fiction, Adventure   \n",
       "\n",
       "   spoken_languages_edited production_countries_edited  \\\n",
       "0                       en                          US   \n",
       "1                       en                          US   \n",
       "2                       en                          US   \n",
       "3                       en                      GB, US   \n",
       "4                       en                          US   \n",
       "\n",
       "                                     keywords_edited year_released  \n",
       "0  based on novel, friendship, coming of age, rai...          1986  \n",
       "1  chicago, high school, aftercreditsstinger, dur...          1986  \n",
       "2  lovesickness, loss of lover, fighter pilot, se...          1986  \n",
       "3  android, extraterrestrial technology, space ma...          1986  \n",
       "4  artificial intelligence, farewell, homesicknes...          1986  \n",
       "\n",
       "[5 rows x 28 columns]"
      ]
     },
     "execution_count": 5,
     "metadata": {},
     "output_type": "execute_result"
    }
   ],
   "source": [
    "df.head() # take a peak at the dataset"
   ]
  },
  {
   "cell_type": "code",
   "execution_count": 6,
   "metadata": {},
   "outputs": [],
   "source": [
    "del df['Unnamed: 0']"
   ]
  },
  {
   "cell_type": "code",
   "execution_count": 7,
   "metadata": {},
   "outputs": [
    {
     "name": "stdout",
     "output_type": "stream",
     "text": [
      "<class 'pandas.core.frame.DataFrame'>\n",
      "RangeIndex: 3524 entries, 0 to 3523\n",
      "Data columns (total 27 columns):\n",
      " #   Column                       Non-Null Count  Dtype  \n",
      "---  ------                       --------------  -----  \n",
      " 0   budget                       3524 non-null   int64  \n",
      " 1   company                      3524 non-null   object \n",
      " 2   director                     3524 non-null   object \n",
      " 3   gross                        3524 non-null   int64  \n",
      " 4   name                         3524 non-null   object \n",
      " 5   released                     3524 non-null   object \n",
      " 6   score                        3524 non-null   float64\n",
      " 7   star                         3524 non-null   object \n",
      " 8   votes                        3524 non-null   int64  \n",
      " 9   writer                       3524 non-null   object \n",
      " 10  year                         3524 non-null   int64  \n",
      " 11  isprofit                     3524 non-null   int64  \n",
      " 12  profitability_ratio          3524 non-null   float64\n",
      " 13  profitability_ratio_bucket   3524 non-null   int64  \n",
      " 14  adult                        3524 non-null   object \n",
      " 15  id                           3524 non-null   int64  \n",
      " 16  imdb_id                      3524 non-null   object \n",
      " 17  original_title               3524 non-null   object \n",
      " 18  overview                     3523 non-null   object \n",
      " 19  popularity                   3524 non-null   float64\n",
      " 20  tagline                      3153 non-null   object \n",
      " 21  title                        3524 non-null   object \n",
      " 22  genres_edited                3524 non-null   object \n",
      " 23  spoken_languages_edited      3517 non-null   object \n",
      " 24  production_countries_edited  3493 non-null   object \n",
      " 25  keywords_edited              3357 non-null   object \n",
      " 26  year_released                3524 non-null   int64  \n",
      "dtypes: float64(3), int64(8), object(16)\n",
      "memory usage: 523.2+ KB\n"
     ]
    }
   ],
   "source": [
    "df.info()"
   ]
  },
  {
   "cell_type": "code",
   "execution_count": 8,
   "metadata": {},
   "outputs": [
    {
     "data": {
      "text/plain": [
       "budget                           0\n",
       "company                          0\n",
       "director                         0\n",
       "gross                            0\n",
       "name                             0\n",
       "released                         0\n",
       "score                            0\n",
       "star                             0\n",
       "votes                            0\n",
       "writer                           0\n",
       "year                             0\n",
       "isprofit                         0\n",
       "profitability_ratio              0\n",
       "profitability_ratio_bucket       0\n",
       "adult                            0\n",
       "id                               0\n",
       "imdb_id                          0\n",
       "original_title                   0\n",
       "overview                         1\n",
       "popularity                       0\n",
       "tagline                        371\n",
       "title                            0\n",
       "genres_edited                    0\n",
       "spoken_languages_edited          7\n",
       "production_countries_edited     31\n",
       "keywords_edited                167\n",
       "year_released                    0\n",
       "dtype: int64"
      ]
     },
     "execution_count": 8,
     "metadata": {},
     "output_type": "execute_result"
    }
   ],
   "source": [
    "df.isnull().sum()"
   ]
  },
  {
   "cell_type": "code",
   "execution_count": 9,
   "metadata": {},
   "outputs": [
    {
     "data": {
      "text/html": [
       "<div>\n",
       "<style scoped>\n",
       "    .dataframe tbody tr th:only-of-type {\n",
       "        vertical-align: middle;\n",
       "    }\n",
       "\n",
       "    .dataframe tbody tr th {\n",
       "        vertical-align: top;\n",
       "    }\n",
       "\n",
       "    .dataframe thead th {\n",
       "        text-align: right;\n",
       "    }\n",
       "</style>\n",
       "<table border=\"1\" class=\"dataframe\">\n",
       "  <thead>\n",
       "    <tr style=\"text-align: right;\">\n",
       "      <th></th>\n",
       "      <th>budget</th>\n",
       "      <th>gross</th>\n",
       "      <th>score</th>\n",
       "      <th>votes</th>\n",
       "      <th>year</th>\n",
       "      <th>isprofit</th>\n",
       "      <th>profitability_ratio</th>\n",
       "      <th>profitability_ratio_bucket</th>\n",
       "      <th>id</th>\n",
       "      <th>popularity</th>\n",
       "      <th>year_released</th>\n",
       "    </tr>\n",
       "  </thead>\n",
       "  <tbody>\n",
       "    <tr>\n",
       "      <th>count</th>\n",
       "      <td>3.524000e+03</td>\n",
       "      <td>3.524000e+03</td>\n",
       "      <td>3524.000000</td>\n",
       "      <td>3.524000e+03</td>\n",
       "      <td>3524.000000</td>\n",
       "      <td>3524.000000</td>\n",
       "      <td>3524.000000</td>\n",
       "      <td>3524.000000</td>\n",
       "      <td>3524.000000</td>\n",
       "      <td>3524.000000</td>\n",
       "      <td>3524.000000</td>\n",
       "    </tr>\n",
       "    <tr>\n",
       "      <th>mean</th>\n",
       "      <td>3.646837e+07</td>\n",
       "      <td>4.772520e+07</td>\n",
       "      <td>6.339018</td>\n",
       "      <td>9.928306e+04</td>\n",
       "      <td>1997.125709</td>\n",
       "      <td>0.510499</td>\n",
       "      <td>3.996876</td>\n",
       "      <td>399.602157</td>\n",
       "      <td>45443.112656</td>\n",
       "      <td>9.785946</td>\n",
       "      <td>2002.385641</td>\n",
       "    </tr>\n",
       "    <tr>\n",
       "      <th>std</th>\n",
       "      <td>4.063369e+07</td>\n",
       "      <td>6.707121e+07</td>\n",
       "      <td>1.056288</td>\n",
       "      <td>1.568040e+05</td>\n",
       "      <td>101.418026</td>\n",
       "      <td>0.499961</td>\n",
       "      <td>127.868810</td>\n",
       "      <td>12786.904323</td>\n",
       "      <td>77014.289184</td>\n",
       "      <td>13.318482</td>\n",
       "      <td>8.422442</td>\n",
       "    </tr>\n",
       "    <tr>\n",
       "      <th>min</th>\n",
       "      <td>0.000000e+00</td>\n",
       "      <td>0.000000e+00</td>\n",
       "      <td>0.000000</td>\n",
       "      <td>0.000000e+00</td>\n",
       "      <td>0.000000</td>\n",
       "      <td>0.000000</td>\n",
       "      <td>-0.999979</td>\n",
       "      <td>-100.000000</td>\n",
       "      <td>0.000000</td>\n",
       "      <td>0.000000</td>\n",
       "      <td>1986.000000</td>\n",
       "    </tr>\n",
       "    <tr>\n",
       "      <th>25%</th>\n",
       "      <td>1.000000e+07</td>\n",
       "      <td>6.955428e+06</td>\n",
       "      <td>5.800000</td>\n",
       "      <td>1.554475e+04</td>\n",
       "      <td>1996.000000</td>\n",
       "      <td>0.000000</td>\n",
       "      <td>-0.552571</td>\n",
       "      <td>-60.000000</td>\n",
       "      <td>8864.750000</td>\n",
       "      <td>5.746421</td>\n",
       "      <td>1996.000000</td>\n",
       "    </tr>\n",
       "    <tr>\n",
       "      <th>50%</th>\n",
       "      <td>2.300000e+07</td>\n",
       "      <td>2.511110e+07</td>\n",
       "      <td>6.400000</td>\n",
       "      <td>4.403550e+04</td>\n",
       "      <td>2002.000000</td>\n",
       "      <td>1.000000</td>\n",
       "      <td>0.020240</td>\n",
       "      <td>0.000000</td>\n",
       "      <td>12513.500000</td>\n",
       "      <td>8.411079</td>\n",
       "      <td>2003.000000</td>\n",
       "    </tr>\n",
       "    <tr>\n",
       "      <th>75%</th>\n",
       "      <td>4.800000e+07</td>\n",
       "      <td>6.036672e+07</td>\n",
       "      <td>7.000000</td>\n",
       "      <td>1.148628e+05</td>\n",
       "      <td>2009.000000</td>\n",
       "      <td>1.000000</td>\n",
       "      <td>1.029155</td>\n",
       "      <td>100.000000</td>\n",
       "      <td>41220.250000</td>\n",
       "      <td>11.654501</td>\n",
       "      <td>2010.000000</td>\n",
       "    </tr>\n",
       "    <tr>\n",
       "      <th>max</th>\n",
       "      <td>3.000000e+08</td>\n",
       "      <td>9.366622e+08</td>\n",
       "      <td>9.300000</td>\n",
       "      <td>1.861666e+06</td>\n",
       "      <td>2016.000000</td>\n",
       "      <td>1.000000</td>\n",
       "      <td>7193.587333</td>\n",
       "      <td>719360.000000</td>\n",
       "      <td>404378.000000</td>\n",
       "      <td>547.488298</td>\n",
       "      <td>2017.000000</td>\n",
       "    </tr>\n",
       "  </tbody>\n",
       "</table>\n",
       "</div>"
      ],
      "text/plain": [
       "             budget         gross        score         votes         year  \\\n",
       "count  3.524000e+03  3.524000e+03  3524.000000  3.524000e+03  3524.000000   \n",
       "mean   3.646837e+07  4.772520e+07     6.339018  9.928306e+04  1997.125709   \n",
       "std    4.063369e+07  6.707121e+07     1.056288  1.568040e+05   101.418026   \n",
       "min    0.000000e+00  0.000000e+00     0.000000  0.000000e+00     0.000000   \n",
       "25%    1.000000e+07  6.955428e+06     5.800000  1.554475e+04  1996.000000   \n",
       "50%    2.300000e+07  2.511110e+07     6.400000  4.403550e+04  2002.000000   \n",
       "75%    4.800000e+07  6.036672e+07     7.000000  1.148628e+05  2009.000000   \n",
       "max    3.000000e+08  9.366622e+08     9.300000  1.861666e+06  2016.000000   \n",
       "\n",
       "          isprofit  profitability_ratio  profitability_ratio_bucket  \\\n",
       "count  3524.000000          3524.000000                 3524.000000   \n",
       "mean      0.510499             3.996876                  399.602157   \n",
       "std       0.499961           127.868810                12786.904323   \n",
       "min       0.000000            -0.999979                 -100.000000   \n",
       "25%       0.000000            -0.552571                  -60.000000   \n",
       "50%       1.000000             0.020240                    0.000000   \n",
       "75%       1.000000             1.029155                  100.000000   \n",
       "max       1.000000          7193.587333               719360.000000   \n",
       "\n",
       "                  id   popularity  year_released  \n",
       "count    3524.000000  3524.000000    3524.000000  \n",
       "mean    45443.112656     9.785946    2002.385641  \n",
       "std     77014.289184    13.318482       8.422442  \n",
       "min         0.000000     0.000000    1986.000000  \n",
       "25%      8864.750000     5.746421    1996.000000  \n",
       "50%     12513.500000     8.411079    2003.000000  \n",
       "75%     41220.250000    11.654501    2010.000000  \n",
       "max    404378.000000   547.488298    2017.000000  "
      ]
     },
     "execution_count": 9,
     "metadata": {},
     "output_type": "execute_result"
    }
   ],
   "source": [
    "df.describe()   # before replacing zero with None"
   ]
  },
  {
   "cell_type": "markdown",
   "metadata": {},
   "source": [
    "## 2.2. Dealing with Missing Values <a class=\"anchor\" id=\"22\"></a>"
   ]
  },
  {
   "cell_type": "markdown",
   "metadata": {},
   "source": [
    "By observing the data, we see that only the following columns need initial transformation to replace zeros with the value None:\n",
    "* overview\n",
    "* tagline\n",
    "* spoken_languages_edited\n",
    "* production_countries_edited\n",
    "* keywords_edited\n",
    "\n",
    "And the remaining features do not have to change since they do not contain zero values."
   ]
  },
  {
   "cell_type": "code",
   "execution_count": 10,
   "metadata": {},
   "outputs": [],
   "source": [
    "df['overview'] = df['overview'].map(lambda x:x if x != 0 else None)\n",
    "df['tagline'] = df['tagline'].map(lambda x:x if x != 0 else None)\n",
    "df['spoken_languages_edited'] = df['spoken_languages_edited'].map(lambda x:x if x != 0 else None)\n",
    "df['production_countries_edited'] = df['production_countries_edited'].map(lambda x:x if x != 0 else None)\n",
    "df['keywords_edited'] = df['keywords_edited'].map(lambda x:x if x != 0 else None)"
   ]
  },
  {
   "cell_type": "code",
   "execution_count": 11,
   "metadata": {},
   "outputs": [
    {
     "data": {
      "text/html": [
       "<div>\n",
       "<style scoped>\n",
       "    .dataframe tbody tr th:only-of-type {\n",
       "        vertical-align: middle;\n",
       "    }\n",
       "\n",
       "    .dataframe tbody tr th {\n",
       "        vertical-align: top;\n",
       "    }\n",
       "\n",
       "    .dataframe thead th {\n",
       "        text-align: right;\n",
       "    }\n",
       "</style>\n",
       "<table border=\"1\" class=\"dataframe\">\n",
       "  <thead>\n",
       "    <tr style=\"text-align: right;\">\n",
       "      <th></th>\n",
       "      <th>budget</th>\n",
       "      <th>company</th>\n",
       "      <th>director</th>\n",
       "      <th>gross</th>\n",
       "      <th>name</th>\n",
       "      <th>released</th>\n",
       "      <th>score</th>\n",
       "      <th>star</th>\n",
       "      <th>votes</th>\n",
       "      <th>writer</th>\n",
       "      <th>...</th>\n",
       "      <th>original_title</th>\n",
       "      <th>overview</th>\n",
       "      <th>popularity</th>\n",
       "      <th>tagline</th>\n",
       "      <th>title</th>\n",
       "      <th>genres_edited</th>\n",
       "      <th>spoken_languages_edited</th>\n",
       "      <th>production_countries_edited</th>\n",
       "      <th>keywords_edited</th>\n",
       "      <th>year_released</th>\n",
       "    </tr>\n",
       "  </thead>\n",
       "  <tbody>\n",
       "    <tr>\n",
       "      <th>0</th>\n",
       "      <td>8000000</td>\n",
       "      <td>Columbia Pictures Corporation</td>\n",
       "      <td>Rob Reiner</td>\n",
       "      <td>52287414</td>\n",
       "      <td>Stand by Me</td>\n",
       "      <td>22.08.1986 00:00</td>\n",
       "      <td>8.1</td>\n",
       "      <td>Wil Wheaton</td>\n",
       "      <td>299174</td>\n",
       "      <td>Stephen King</td>\n",
       "      <td>...</td>\n",
       "      <td>Stand by Me</td>\n",
       "      <td>After the death of a friend, a writer recounts...</td>\n",
       "      <td>15.206957</td>\n",
       "      <td>For some, it's the last real taste of innocenc...</td>\n",
       "      <td>Stand by Me</td>\n",
       "      <td>Crime, Drama</td>\n",
       "      <td>en</td>\n",
       "      <td>US</td>\n",
       "      <td>based on novel, friendship, coming of age, rai...</td>\n",
       "      <td>1986</td>\n",
       "    </tr>\n",
       "    <tr>\n",
       "      <th>1</th>\n",
       "      <td>6000000</td>\n",
       "      <td>Paramount Pictures</td>\n",
       "      <td>Other</td>\n",
       "      <td>70136369</td>\n",
       "      <td>Ferris Bueller's Day Off</td>\n",
       "      <td>11.06.1986 00:00</td>\n",
       "      <td>7.8</td>\n",
       "      <td>Matthew Broderick</td>\n",
       "      <td>264740</td>\n",
       "      <td>John Hughes</td>\n",
       "      <td>...</td>\n",
       "      <td>Ferris Bueller's Day Off</td>\n",
       "      <td>Charismatic teen Ferris Bueller plays hooky in...</td>\n",
       "      <td>12.724645</td>\n",
       "      <td>One man's struggle to take it easy.</td>\n",
       "      <td>Ferris Bueller's Day Off</td>\n",
       "      <td>Comedy</td>\n",
       "      <td>en</td>\n",
       "      <td>US</td>\n",
       "      <td>chicago, high school, aftercreditsstinger, dur...</td>\n",
       "      <td>1986</td>\n",
       "    </tr>\n",
       "    <tr>\n",
       "      <th>2</th>\n",
       "      <td>15000000</td>\n",
       "      <td>Paramount Pictures</td>\n",
       "      <td>Other</td>\n",
       "      <td>179800601</td>\n",
       "      <td>Top Gun</td>\n",
       "      <td>16.05.1986 00:00</td>\n",
       "      <td>6.9</td>\n",
       "      <td>Tom Cruise</td>\n",
       "      <td>236909</td>\n",
       "      <td>Jim Cash</td>\n",
       "      <td>...</td>\n",
       "      <td>Top Gun</td>\n",
       "      <td>For Lieutenant Pete 'Maverick' Mitchell and hi...</td>\n",
       "      <td>20.301019</td>\n",
       "      <td>Up there with the best of the best.</td>\n",
       "      <td>Top Gun</td>\n",
       "      <td>Action, Romance, War</td>\n",
       "      <td>en</td>\n",
       "      <td>US</td>\n",
       "      <td>lovesickness, loss of lover, fighter pilot, se...</td>\n",
       "      <td>1986</td>\n",
       "    </tr>\n",
       "    <tr>\n",
       "      <th>3</th>\n",
       "      <td>18500000</td>\n",
       "      <td>Twentieth Century Fox Film Corporation</td>\n",
       "      <td>Other</td>\n",
       "      <td>85160248</td>\n",
       "      <td>Aliens</td>\n",
       "      <td>18.07.1986 00:00</td>\n",
       "      <td>8.4</td>\n",
       "      <td>Sigourney Weaver</td>\n",
       "      <td>540152</td>\n",
       "      <td>James Cameron</td>\n",
       "      <td>...</td>\n",
       "      <td>Aliens</td>\n",
       "      <td>When Ripley's lifepod is found by a salvage cr...</td>\n",
       "      <td>21.761179</td>\n",
       "      <td>This Time It's War</td>\n",
       "      <td>Aliens</td>\n",
       "      <td>Horror, Action, Thriller, Science Fiction</td>\n",
       "      <td>en</td>\n",
       "      <td>GB, US</td>\n",
       "      <td>android, extraterrestrial technology, space ma...</td>\n",
       "      <td>1986</td>\n",
       "    </tr>\n",
       "    <tr>\n",
       "      <th>4</th>\n",
       "      <td>9000000</td>\n",
       "      <td>Walt Disney Pictures</td>\n",
       "      <td>Other</td>\n",
       "      <td>18564613</td>\n",
       "      <td>Flight of the Navigator</td>\n",
       "      <td>1.08.1986 00:00</td>\n",
       "      <td>6.9</td>\n",
       "      <td>Joey Cramer</td>\n",
       "      <td>36636</td>\n",
       "      <td>Mark H. Baker</td>\n",
       "      <td>...</td>\n",
       "      <td>Flight of the Navigator</td>\n",
       "      <td>This 1986 Disney adventure tells the story of ...</td>\n",
       "      <td>5.526865</td>\n",
       "      <td>Come along on the greatest adventure of the su...</td>\n",
       "      <td>Flight of the Navigator</td>\n",
       "      <td>Family, Science Fiction, Adventure</td>\n",
       "      <td>en</td>\n",
       "      <td>US</td>\n",
       "      <td>artificial intelligence, farewell, homesicknes...</td>\n",
       "      <td>1986</td>\n",
       "    </tr>\n",
       "  </tbody>\n",
       "</table>\n",
       "<p>5 rows × 27 columns</p>\n",
       "</div>"
      ],
      "text/plain": [
       "     budget                                 company    director      gross  \\\n",
       "0   8000000           Columbia Pictures Corporation  Rob Reiner   52287414   \n",
       "1   6000000                      Paramount Pictures       Other   70136369   \n",
       "2  15000000                      Paramount Pictures       Other  179800601   \n",
       "3  18500000  Twentieth Century Fox Film Corporation       Other   85160248   \n",
       "4   9000000                    Walt Disney Pictures       Other   18564613   \n",
       "\n",
       "                       name          released  score               star  \\\n",
       "0               Stand by Me  22.08.1986 00:00    8.1        Wil Wheaton   \n",
       "1  Ferris Bueller's Day Off  11.06.1986 00:00    7.8  Matthew Broderick   \n",
       "2                   Top Gun  16.05.1986 00:00    6.9         Tom Cruise   \n",
       "3                    Aliens  18.07.1986 00:00    8.4   Sigourney Weaver   \n",
       "4   Flight of the Navigator   1.08.1986 00:00    6.9        Joey Cramer   \n",
       "\n",
       "    votes         writer  ...            original_title  \\\n",
       "0  299174   Stephen King  ...               Stand by Me   \n",
       "1  264740    John Hughes  ...  Ferris Bueller's Day Off   \n",
       "2  236909       Jim Cash  ...                   Top Gun   \n",
       "3  540152  James Cameron  ...                    Aliens   \n",
       "4   36636  Mark H. Baker  ...   Flight of the Navigator   \n",
       "\n",
       "                                            overview  popularity  \\\n",
       "0  After the death of a friend, a writer recounts...   15.206957   \n",
       "1  Charismatic teen Ferris Bueller plays hooky in...   12.724645   \n",
       "2  For Lieutenant Pete 'Maverick' Mitchell and hi...   20.301019   \n",
       "3  When Ripley's lifepod is found by a salvage cr...   21.761179   \n",
       "4  This 1986 Disney adventure tells the story of ...    5.526865   \n",
       "\n",
       "                                             tagline  \\\n",
       "0  For some, it's the last real taste of innocenc...   \n",
       "1                One man's struggle to take it easy.   \n",
       "2                Up there with the best of the best.   \n",
       "3                                 This Time It's War   \n",
       "4  Come along on the greatest adventure of the su...   \n",
       "\n",
       "                      title                              genres_edited  \\\n",
       "0               Stand by Me                               Crime, Drama   \n",
       "1  Ferris Bueller's Day Off                                     Comedy   \n",
       "2                   Top Gun                       Action, Romance, War   \n",
       "3                    Aliens  Horror, Action, Thriller, Science Fiction   \n",
       "4   Flight of the Navigator         Family, Science Fiction, Adventure   \n",
       "\n",
       "  spoken_languages_edited production_countries_edited  \\\n",
       "0                      en                          US   \n",
       "1                      en                          US   \n",
       "2                      en                          US   \n",
       "3                      en                      GB, US   \n",
       "4                      en                          US   \n",
       "\n",
       "                                     keywords_edited  year_released  \n",
       "0  based on novel, friendship, coming of age, rai...           1986  \n",
       "1  chicago, high school, aftercreditsstinger, dur...           1986  \n",
       "2  lovesickness, loss of lover, fighter pilot, se...           1986  \n",
       "3  android, extraterrestrial technology, space ma...           1986  \n",
       "4  artificial intelligence, farewell, homesicknes...           1986  \n",
       "\n",
       "[5 rows x 27 columns]"
      ]
     },
     "execution_count": 11,
     "metadata": {},
     "output_type": "execute_result"
    }
   ],
   "source": [
    "df.head()   # take a peak at the dataset"
   ]
  },
  {
   "cell_type": "code",
   "execution_count": 12,
   "metadata": {},
   "outputs": [
    {
     "name": "stdout",
     "output_type": "stream",
     "text": [
      "<class 'pandas.core.frame.DataFrame'>\n",
      "RangeIndex: 3524 entries, 0 to 3523\n",
      "Data columns (total 27 columns):\n",
      " #   Column                       Non-Null Count  Dtype  \n",
      "---  ------                       --------------  -----  \n",
      " 0   budget                       3524 non-null   int64  \n",
      " 1   company                      3524 non-null   object \n",
      " 2   director                     3524 non-null   object \n",
      " 3   gross                        3524 non-null   int64  \n",
      " 4   name                         3524 non-null   object \n",
      " 5   released                     3524 non-null   object \n",
      " 6   score                        3524 non-null   float64\n",
      " 7   star                         3524 non-null   object \n",
      " 8   votes                        3524 non-null   int64  \n",
      " 9   writer                       3524 non-null   object \n",
      " 10  year                         3524 non-null   int64  \n",
      " 11  isprofit                     3524 non-null   int64  \n",
      " 12  profitability_ratio          3524 non-null   float64\n",
      " 13  profitability_ratio_bucket   3524 non-null   int64  \n",
      " 14  adult                        3524 non-null   object \n",
      " 15  id                           3524 non-null   int64  \n",
      " 16  imdb_id                      3524 non-null   object \n",
      " 17  original_title               3524 non-null   object \n",
      " 18  overview                     3523 non-null   object \n",
      " 19  popularity                   3524 non-null   float64\n",
      " 20  tagline                      3153 non-null   object \n",
      " 21  title                        3524 non-null   object \n",
      " 22  genres_edited                3524 non-null   object \n",
      " 23  spoken_languages_edited      3517 non-null   object \n",
      " 24  production_countries_edited  3493 non-null   object \n",
      " 25  keywords_edited              3357 non-null   object \n",
      " 26  year_released                3524 non-null   int64  \n",
      "dtypes: float64(3), int64(8), object(16)\n",
      "memory usage: 523.2+ KB\n"
     ]
    }
   ],
   "source": [
    "df.info()"
   ]
  },
  {
   "cell_type": "code",
   "execution_count": 13,
   "metadata": {},
   "outputs": [
    {
     "data": {
      "text/plain": [
       "budget                           0\n",
       "company                          0\n",
       "director                         0\n",
       "gross                            0\n",
       "name                             0\n",
       "released                         0\n",
       "score                            0\n",
       "star                             0\n",
       "votes                            0\n",
       "writer                           0\n",
       "year                             0\n",
       "isprofit                         0\n",
       "profitability_ratio              0\n",
       "profitability_ratio_bucket       0\n",
       "adult                            0\n",
       "id                               0\n",
       "imdb_id                          0\n",
       "original_title                   0\n",
       "overview                         1\n",
       "popularity                       0\n",
       "tagline                        371\n",
       "title                            0\n",
       "genres_edited                    0\n",
       "spoken_languages_edited          7\n",
       "production_countries_edited     31\n",
       "keywords_edited                167\n",
       "year_released                    0\n",
       "dtype: int64"
      ]
     },
     "execution_count": 13,
     "metadata": {},
     "output_type": "execute_result"
    }
   ],
   "source": [
    "df.isnull().sum()"
   ]
  },
  {
   "cell_type": "code",
   "execution_count": 14,
   "metadata": {},
   "outputs": [
    {
     "data": {
      "text/html": [
       "<div>\n",
       "<style scoped>\n",
       "    .dataframe tbody tr th:only-of-type {\n",
       "        vertical-align: middle;\n",
       "    }\n",
       "\n",
       "    .dataframe tbody tr th {\n",
       "        vertical-align: top;\n",
       "    }\n",
       "\n",
       "    .dataframe thead th {\n",
       "        text-align: right;\n",
       "    }\n",
       "</style>\n",
       "<table border=\"1\" class=\"dataframe\">\n",
       "  <thead>\n",
       "    <tr style=\"text-align: right;\">\n",
       "      <th></th>\n",
       "      <th>budget</th>\n",
       "      <th>gross</th>\n",
       "      <th>score</th>\n",
       "      <th>votes</th>\n",
       "      <th>year</th>\n",
       "      <th>isprofit</th>\n",
       "      <th>profitability_ratio</th>\n",
       "      <th>profitability_ratio_bucket</th>\n",
       "      <th>id</th>\n",
       "      <th>popularity</th>\n",
       "      <th>year_released</th>\n",
       "    </tr>\n",
       "  </thead>\n",
       "  <tbody>\n",
       "    <tr>\n",
       "      <th>count</th>\n",
       "      <td>3.524000e+03</td>\n",
       "      <td>3.524000e+03</td>\n",
       "      <td>3524.000000</td>\n",
       "      <td>3.524000e+03</td>\n",
       "      <td>3524.000000</td>\n",
       "      <td>3524.000000</td>\n",
       "      <td>3524.000000</td>\n",
       "      <td>3524.000000</td>\n",
       "      <td>3524.000000</td>\n",
       "      <td>3524.000000</td>\n",
       "      <td>3524.000000</td>\n",
       "    </tr>\n",
       "    <tr>\n",
       "      <th>mean</th>\n",
       "      <td>3.646837e+07</td>\n",
       "      <td>4.772520e+07</td>\n",
       "      <td>6.339018</td>\n",
       "      <td>9.928306e+04</td>\n",
       "      <td>1997.125709</td>\n",
       "      <td>0.510499</td>\n",
       "      <td>3.996876</td>\n",
       "      <td>399.602157</td>\n",
       "      <td>45443.112656</td>\n",
       "      <td>9.785946</td>\n",
       "      <td>2002.385641</td>\n",
       "    </tr>\n",
       "    <tr>\n",
       "      <th>std</th>\n",
       "      <td>4.063369e+07</td>\n",
       "      <td>6.707121e+07</td>\n",
       "      <td>1.056288</td>\n",
       "      <td>1.568040e+05</td>\n",
       "      <td>101.418026</td>\n",
       "      <td>0.499961</td>\n",
       "      <td>127.868810</td>\n",
       "      <td>12786.904323</td>\n",
       "      <td>77014.289184</td>\n",
       "      <td>13.318482</td>\n",
       "      <td>8.422442</td>\n",
       "    </tr>\n",
       "    <tr>\n",
       "      <th>min</th>\n",
       "      <td>0.000000e+00</td>\n",
       "      <td>0.000000e+00</td>\n",
       "      <td>0.000000</td>\n",
       "      <td>0.000000e+00</td>\n",
       "      <td>0.000000</td>\n",
       "      <td>0.000000</td>\n",
       "      <td>-0.999979</td>\n",
       "      <td>-100.000000</td>\n",
       "      <td>0.000000</td>\n",
       "      <td>0.000000</td>\n",
       "      <td>1986.000000</td>\n",
       "    </tr>\n",
       "    <tr>\n",
       "      <th>25%</th>\n",
       "      <td>1.000000e+07</td>\n",
       "      <td>6.955428e+06</td>\n",
       "      <td>5.800000</td>\n",
       "      <td>1.554475e+04</td>\n",
       "      <td>1996.000000</td>\n",
       "      <td>0.000000</td>\n",
       "      <td>-0.552571</td>\n",
       "      <td>-60.000000</td>\n",
       "      <td>8864.750000</td>\n",
       "      <td>5.746421</td>\n",
       "      <td>1996.000000</td>\n",
       "    </tr>\n",
       "    <tr>\n",
       "      <th>50%</th>\n",
       "      <td>2.300000e+07</td>\n",
       "      <td>2.511110e+07</td>\n",
       "      <td>6.400000</td>\n",
       "      <td>4.403550e+04</td>\n",
       "      <td>2002.000000</td>\n",
       "      <td>1.000000</td>\n",
       "      <td>0.020240</td>\n",
       "      <td>0.000000</td>\n",
       "      <td>12513.500000</td>\n",
       "      <td>8.411079</td>\n",
       "      <td>2003.000000</td>\n",
       "    </tr>\n",
       "    <tr>\n",
       "      <th>75%</th>\n",
       "      <td>4.800000e+07</td>\n",
       "      <td>6.036672e+07</td>\n",
       "      <td>7.000000</td>\n",
       "      <td>1.148628e+05</td>\n",
       "      <td>2009.000000</td>\n",
       "      <td>1.000000</td>\n",
       "      <td>1.029155</td>\n",
       "      <td>100.000000</td>\n",
       "      <td>41220.250000</td>\n",
       "      <td>11.654501</td>\n",
       "      <td>2010.000000</td>\n",
       "    </tr>\n",
       "    <tr>\n",
       "      <th>max</th>\n",
       "      <td>3.000000e+08</td>\n",
       "      <td>9.366622e+08</td>\n",
       "      <td>9.300000</td>\n",
       "      <td>1.861666e+06</td>\n",
       "      <td>2016.000000</td>\n",
       "      <td>1.000000</td>\n",
       "      <td>7193.587333</td>\n",
       "      <td>719360.000000</td>\n",
       "      <td>404378.000000</td>\n",
       "      <td>547.488298</td>\n",
       "      <td>2017.000000</td>\n",
       "    </tr>\n",
       "  </tbody>\n",
       "</table>\n",
       "</div>"
      ],
      "text/plain": [
       "             budget         gross        score         votes         year  \\\n",
       "count  3.524000e+03  3.524000e+03  3524.000000  3.524000e+03  3524.000000   \n",
       "mean   3.646837e+07  4.772520e+07     6.339018  9.928306e+04  1997.125709   \n",
       "std    4.063369e+07  6.707121e+07     1.056288  1.568040e+05   101.418026   \n",
       "min    0.000000e+00  0.000000e+00     0.000000  0.000000e+00     0.000000   \n",
       "25%    1.000000e+07  6.955428e+06     5.800000  1.554475e+04  1996.000000   \n",
       "50%    2.300000e+07  2.511110e+07     6.400000  4.403550e+04  2002.000000   \n",
       "75%    4.800000e+07  6.036672e+07     7.000000  1.148628e+05  2009.000000   \n",
       "max    3.000000e+08  9.366622e+08     9.300000  1.861666e+06  2016.000000   \n",
       "\n",
       "          isprofit  profitability_ratio  profitability_ratio_bucket  \\\n",
       "count  3524.000000          3524.000000                 3524.000000   \n",
       "mean      0.510499             3.996876                  399.602157   \n",
       "std       0.499961           127.868810                12786.904323   \n",
       "min       0.000000            -0.999979                 -100.000000   \n",
       "25%       0.000000            -0.552571                  -60.000000   \n",
       "50%       1.000000             0.020240                    0.000000   \n",
       "75%       1.000000             1.029155                  100.000000   \n",
       "max       1.000000          7193.587333               719360.000000   \n",
       "\n",
       "                  id   popularity  year_released  \n",
       "count    3524.000000  3524.000000    3524.000000  \n",
       "mean    45443.112656     9.785946    2002.385641  \n",
       "std     77014.289184    13.318482       8.422442  \n",
       "min         0.000000     0.000000    1986.000000  \n",
       "25%      8864.750000     5.746421    1996.000000  \n",
       "50%     12513.500000     8.411079    2003.000000  \n",
       "75%     41220.250000    11.654501    2010.000000  \n",
       "max    404378.000000   547.488298    2017.000000  "
      ]
     },
     "execution_count": 14,
     "metadata": {},
     "output_type": "execute_result"
    }
   ],
   "source": [
    "df.describe()   # after replacing zero with None"
   ]
  },
  {
   "cell_type": "markdown",
   "metadata": {},
   "source": [
    "## 2.3. Removing Rows <a class=\"anchor\" id=\"23\"></a>"
   ]
  },
  {
   "cell_type": "code",
   "execution_count": 15,
   "metadata": {},
   "outputs": [],
   "source": [
    "data_dropped = df.dropna()"
   ]
  },
  {
   "cell_type": "code",
   "execution_count": 16,
   "metadata": {},
   "outputs": [],
   "source": [
    "data_dropped = data_dropped.reset_index() \n",
    "del data_dropped['index']"
   ]
  },
  {
   "cell_type": "code",
   "execution_count": 17,
   "metadata": {},
   "outputs": [
    {
     "data": {
      "text/plain": [
       "(3031, 27)"
      ]
     },
     "execution_count": 17,
     "metadata": {},
     "output_type": "execute_result"
    }
   ],
   "source": [
    "data_dropped.shape"
   ]
  },
  {
   "cell_type": "code",
   "execution_count": 18,
   "metadata": {},
   "outputs": [
    {
     "data": {
      "text/plain": [
       "(3524, 27)"
      ]
     },
     "execution_count": 18,
     "metadata": {},
     "output_type": "execute_result"
    }
   ],
   "source": [
    "df.shape"
   ]
  },
  {
   "cell_type": "code",
   "execution_count": 19,
   "metadata": {},
   "outputs": [],
   "source": [
    "num_rows_lost = round(100*(df.shape[0] - data_dropped.shape[0])/float(df.shape[0]))"
   ]
  },
  {
   "cell_type": "code",
   "execution_count": 20,
   "metadata": {},
   "outputs": [
    {
     "data": {
      "text/plain": [
       "'retained 14% of rows'"
      ]
     },
     "execution_count": 20,
     "metadata": {},
     "output_type": "execute_result"
    }
   ],
   "source": [
    "template = 'retained {}% of rows'\n",
    "template.format(num_rows_lost)"
   ]
  },
  {
   "cell_type": "code",
   "execution_count": 21,
   "metadata": {},
   "outputs": [
    {
     "data": {
      "text/plain": [
       "isprofit\n",
       "0    1415\n",
       "1    1616\n",
       "dtype: int64"
      ]
     },
     "execution_count": 21,
     "metadata": {},
     "output_type": "execute_result"
    }
   ],
   "source": [
    "# class distribution\n",
    "class_counts = data_dropped.groupby('isprofit').size()\n",
    "class_counts"
   ]
  },
  {
   "cell_type": "code",
   "execution_count": 22,
   "metadata": {},
   "outputs": [
    {
     "data": {
      "text/plain": [
       "0.40153234960272416"
      ]
     },
     "execution_count": 22,
     "metadata": {},
     "output_type": "execute_result"
    }
   ],
   "source": [
    "class_counts[0]/df['isprofit'].size"
   ]
  },
  {
   "cell_type": "code",
   "execution_count": 23,
   "metadata": {},
   "outputs": [
    {
     "data": {
      "text/plain": [
       "1    0.510499\n",
       "0    0.489501\n",
       "Name: isprofit, dtype: float64"
      ]
     },
     "execution_count": 23,
     "metadata": {},
     "output_type": "execute_result"
    }
   ],
   "source": [
    "df['isprofit'].value_counts(normalize=True)   #  split of trues and falses before rows dropped"
   ]
  },
  {
   "cell_type": "code",
   "execution_count": 24,
   "metadata": {},
   "outputs": [
    {
     "data": {
      "text/plain": [
       "1    0.533157\n",
       "0    0.466843\n",
       "Name: isprofit, dtype: float64"
      ]
     },
     "execution_count": 24,
     "metadata": {},
     "output_type": "execute_result"
    }
   ],
   "source": [
    "data_dropped['isprofit'].value_counts(normalize=True)   #  split of trues and falses after rows dropped"
   ]
  },
  {
   "cell_type": "code",
   "execution_count": 25,
   "metadata": {},
   "outputs": [
    {
     "data": {
      "text/html": [
       "<div>\n",
       "<style scoped>\n",
       "    .dataframe tbody tr th:only-of-type {\n",
       "        vertical-align: middle;\n",
       "    }\n",
       "\n",
       "    .dataframe tbody tr th {\n",
       "        vertical-align: top;\n",
       "    }\n",
       "\n",
       "    .dataframe thead th {\n",
       "        text-align: right;\n",
       "    }\n",
       "</style>\n",
       "<table border=\"1\" class=\"dataframe\">\n",
       "  <thead>\n",
       "    <tr style=\"text-align: right;\">\n",
       "      <th></th>\n",
       "      <th>budget</th>\n",
       "      <th>gross</th>\n",
       "      <th>score</th>\n",
       "      <th>votes</th>\n",
       "      <th>year</th>\n",
       "      <th>isprofit</th>\n",
       "      <th>profitability_ratio</th>\n",
       "      <th>profitability_ratio_bucket</th>\n",
       "      <th>id</th>\n",
       "      <th>popularity</th>\n",
       "      <th>year_released</th>\n",
       "    </tr>\n",
       "  </thead>\n",
       "  <tbody>\n",
       "    <tr>\n",
       "      <th>count</th>\n",
       "      <td>3.031000e+03</td>\n",
       "      <td>3.031000e+03</td>\n",
       "      <td>3031.000000</td>\n",
       "      <td>3.031000e+03</td>\n",
       "      <td>3031.000000</td>\n",
       "      <td>3031.000000</td>\n",
       "      <td>3031.000000</td>\n",
       "      <td>3031.000000</td>\n",
       "      <td>3031.000000</td>\n",
       "      <td>3031.000000</td>\n",
       "      <td>3031.000000</td>\n",
       "    </tr>\n",
       "    <tr>\n",
       "      <th>mean</th>\n",
       "      <td>3.928010e+07</td>\n",
       "      <td>5.255955e+07</td>\n",
       "      <td>6.364104</td>\n",
       "      <td>1.103006e+05</td>\n",
       "      <td>1996.590564</td>\n",
       "      <td>0.533157</td>\n",
       "      <td>4.551640</td>\n",
       "      <td>455.109535</td>\n",
       "      <td>44312.161663</td>\n",
       "      <td>10.382832</td>\n",
       "      <td>2002.659188</td>\n",
       "    </tr>\n",
       "    <tr>\n",
       "      <th>std</th>\n",
       "      <td>4.204987e+07</td>\n",
       "      <td>7.001274e+07</td>\n",
       "      <td>1.058490</td>\n",
       "      <td>1.641818e+05</td>\n",
       "      <td>109.294767</td>\n",
       "      <td>0.498982</td>\n",
       "      <td>137.861924</td>\n",
       "      <td>13786.216469</td>\n",
       "      <td>76687.277269</td>\n",
       "      <td>14.114422</td>\n",
       "      <td>8.366027</td>\n",
       "    </tr>\n",
       "    <tr>\n",
       "      <th>min</th>\n",
       "      <td>0.000000e+00</td>\n",
       "      <td>0.000000e+00</td>\n",
       "      <td>0.000000</td>\n",
       "      <td>0.000000e+00</td>\n",
       "      <td>0.000000</td>\n",
       "      <td>0.000000</td>\n",
       "      <td>-0.999979</td>\n",
       "      <td>-100.000000</td>\n",
       "      <td>0.000000</td>\n",
       "      <td>0.000000</td>\n",
       "      <td>1986.000000</td>\n",
       "    </tr>\n",
       "    <tr>\n",
       "      <th>25%</th>\n",
       "      <td>1.200000e+07</td>\n",
       "      <td>9.976800e+06</td>\n",
       "      <td>5.800000</td>\n",
       "      <td>2.027700e+04</td>\n",
       "      <td>1996.000000</td>\n",
       "      <td>0.000000</td>\n",
       "      <td>-0.490448</td>\n",
       "      <td>-50.000000</td>\n",
       "      <td>8306.500000</td>\n",
       "      <td>6.330036</td>\n",
       "      <td>1996.000000</td>\n",
       "    </tr>\n",
       "    <tr>\n",
       "      <th>50%</th>\n",
       "      <td>2.500000e+07</td>\n",
       "      <td>3.010272e+07</td>\n",
       "      <td>6.500000</td>\n",
       "      <td>5.418800e+04</td>\n",
       "      <td>2003.000000</td>\n",
       "      <td>1.000000</td>\n",
       "      <td>0.078482</td>\n",
       "      <td>10.000000</td>\n",
       "      <td>11622.000000</td>\n",
       "      <td>8.936547</td>\n",
       "      <td>2003.000000</td>\n",
       "    </tr>\n",
       "    <tr>\n",
       "      <th>75%</th>\n",
       "      <td>5.000000e+07</td>\n",
       "      <td>6.694456e+07</td>\n",
       "      <td>7.100000</td>\n",
       "      <td>1.308230e+05</td>\n",
       "      <td>2010.000000</td>\n",
       "      <td>1.000000</td>\n",
       "      <td>1.082718</td>\n",
       "      <td>110.000000</td>\n",
       "      <td>39033.000000</td>\n",
       "      <td>12.116273</td>\n",
       "      <td>2010.000000</td>\n",
       "    </tr>\n",
       "    <tr>\n",
       "      <th>max</th>\n",
       "      <td>3.000000e+08</td>\n",
       "      <td>9.366622e+08</td>\n",
       "      <td>9.300000</td>\n",
       "      <td>1.861666e+06</td>\n",
       "      <td>2016.000000</td>\n",
       "      <td>1.000000</td>\n",
       "      <td>7193.587333</td>\n",
       "      <td>719360.000000</td>\n",
       "      <td>404378.000000</td>\n",
       "      <td>547.488298</td>\n",
       "      <td>2017.000000</td>\n",
       "    </tr>\n",
       "  </tbody>\n",
       "</table>\n",
       "</div>"
      ],
      "text/plain": [
       "             budget         gross        score         votes         year  \\\n",
       "count  3.031000e+03  3.031000e+03  3031.000000  3.031000e+03  3031.000000   \n",
       "mean   3.928010e+07  5.255955e+07     6.364104  1.103006e+05  1996.590564   \n",
       "std    4.204987e+07  7.001274e+07     1.058490  1.641818e+05   109.294767   \n",
       "min    0.000000e+00  0.000000e+00     0.000000  0.000000e+00     0.000000   \n",
       "25%    1.200000e+07  9.976800e+06     5.800000  2.027700e+04  1996.000000   \n",
       "50%    2.500000e+07  3.010272e+07     6.500000  5.418800e+04  2003.000000   \n",
       "75%    5.000000e+07  6.694456e+07     7.100000  1.308230e+05  2010.000000   \n",
       "max    3.000000e+08  9.366622e+08     9.300000  1.861666e+06  2016.000000   \n",
       "\n",
       "          isprofit  profitability_ratio  profitability_ratio_bucket  \\\n",
       "count  3031.000000          3031.000000                 3031.000000   \n",
       "mean      0.533157             4.551640                  455.109535   \n",
       "std       0.498982           137.861924                13786.216469   \n",
       "min       0.000000            -0.999979                 -100.000000   \n",
       "25%       0.000000            -0.490448                  -50.000000   \n",
       "50%       1.000000             0.078482                   10.000000   \n",
       "75%       1.000000             1.082718                  110.000000   \n",
       "max       1.000000          7193.587333               719360.000000   \n",
       "\n",
       "                  id   popularity  year_released  \n",
       "count    3031.000000  3031.000000    3031.000000  \n",
       "mean    44312.161663    10.382832    2002.659188  \n",
       "std     76687.277269    14.114422       8.366027  \n",
       "min         0.000000     0.000000    1986.000000  \n",
       "25%      8306.500000     6.330036    1996.000000  \n",
       "50%     11622.000000     8.936547    2003.000000  \n",
       "75%     39033.000000    12.116273    2010.000000  \n",
       "max    404378.000000   547.488298    2017.000000  "
      ]
     },
     "execution_count": 25,
     "metadata": {},
     "output_type": "execute_result"
    }
   ],
   "source": [
    "data_dropped.describe()   # after removing rows which include NaN"
   ]
  },
  {
   "cell_type": "code",
   "execution_count": 26,
   "metadata": {},
   "outputs": [
    {
     "data": {
      "text/plain": [
       "budget                         7.71\n",
       "gross                         10.13\n",
       "score                          0.40\n",
       "votes                         11.10\n",
       "year                          -0.03\n",
       "isprofit                       4.44\n",
       "profitability_ratio           13.88\n",
       "profitability_ratio_bucket    13.89\n",
       "id                            -2.49\n",
       "popularity                     6.10\n",
       "year_released                  0.01\n",
       "dtype: float64"
      ]
     },
     "execution_count": 26,
     "metadata": {},
     "output_type": "execute_result"
    }
   ],
   "source": [
    "# % change in means of columns before and after dropping missing-value rows\n",
    "change_in_means = ((data_dropped.mean() - df.mean()) / df.mean() * 100).round(2)\n",
    "change_in_means"
   ]
  },
  {
   "cell_type": "markdown",
   "metadata": {},
   "source": [
    "### Bar Chart of the Change in Means"
   ]
  },
  {
   "cell_type": "code",
   "execution_count": 27,
   "metadata": {},
   "outputs": [
    {
     "data": {
      "text/plain": [
       "Text(0, 0.5, '% change')"
      ]
     },
     "execution_count": 27,
     "metadata": {},
     "output_type": "execute_result"
    },
    {
     "data": {
      "image/png": "[encoded data removed]",
      "text/plain": [
       "<Figure size 648x288 with 1 Axes>"
      ]
     },
     "metadata": {},
     "output_type": "display_data"
    }
   ],
   "source": [
    "plt.figure(figsize=(9, 4))\n",
    "change_in_means.plot.bar(title='% change in average column values')\n",
    "plt.ylabel('% change')\n"
   ]
  },
  {
   "cell_type": "markdown",
   "metadata": {},
   "source": [
    "Figure 1: Percent change in average column values\n",
    "<p>Figure 1 shows the percent change in mean of columns before and after dropping missing-value rows.</p>"
   ]
  },
  {
   "cell_type": "markdown",
   "metadata": {},
   "source": [
    "## 2.4. Finding Outliers <a class=\"anchor\" id=\"24\"></a>"
   ]
  },
  {
   "cell_type": "markdown",
   "metadata": {},
   "source": [
    "### 2.4.1. IQR Score Method <a class=\"anchor\" id=\"241\"></a>"
   ]
  },
  {
   "cell_type": "code",
   "execution_count": 28,
   "metadata": {},
   "outputs": [
    {
     "name": "stdout",
     "output_type": "stream",
     "text": [
      "budget                        3.800000e+07\n",
      "gross                         5.696776e+07\n",
      "score                         1.300000e+00\n",
      "votes                         1.105460e+05\n",
      "year                          1.400000e+01\n",
      "isprofit                      1.000000e+00\n",
      "profitability_ratio           1.573166e+00\n",
      "profitability_ratio_bucket    1.600000e+02\n",
      "id                            3.072650e+04\n",
      "popularity                    5.786237e+00\n",
      "year_released                 1.400000e+01\n",
      "dtype: float64\n"
     ]
    }
   ],
   "source": [
    "Q1 = data_dropped.quantile(0.25)\n",
    "Q3 = data_dropped.quantile(0.75)\n",
    "IQR = Q3 - Q1\n",
    "print(IQR)"
   ]
  },
  {
   "cell_type": "code",
   "execution_count": 29,
   "metadata": {},
   "outputs": [
    {
     "name": "stdout",
     "output_type": "stream",
     "text": [
      "      adult  budget  company  director  genres_edited  gross     id  imdb_id  \\\n",
      "0     False   False    False     False          False  False  False    False   \n",
      "1     False   False    False     False          False  False  False    False   \n",
      "2     False   False    False     False          False   True  False    False   \n",
      "3     False   False    False     False          False  False  False    False   \n",
      "4     False   False    False     False          False  False  False    False   \n",
      "...     ...     ...      ...       ...            ...    ...    ...      ...   \n",
      "3026  False   False    False     False          False  False   True    False   \n",
      "3027  False   False    False     False          False  False   True    False   \n",
      "3028  False   False    False     False          False  False   True    False   \n",
      "3029  False   False    False     False          False  False   True    False   \n",
      "3030  False   False    False     False          False  False   True    False   \n",
      "\n",
      "      isprofit  keywords_edited  ...  released  score  \\\n",
      "0        False            False  ...     False  False   \n",
      "1        False            False  ...     False  False   \n",
      "2        False            False  ...     False  False   \n",
      "3        False            False  ...     False  False   \n",
      "4        False            False  ...     False  False   \n",
      "...        ...              ...  ...       ...    ...   \n",
      "3026     False            False  ...     False  False   \n",
      "3027     False            False  ...     False  False   \n",
      "3028     False            False  ...     False  False   \n",
      "3029     False            False  ...     False  False   \n",
      "3030     False            False  ...     False  False   \n",
      "\n",
      "      spoken_languages_edited   star  tagline  title  votes  writer   year  \\\n",
      "0                       False  False    False  False   True   False  False   \n",
      "1                       False  False    False  False  False   False  False   \n",
      "2                       False  False    False  False  False   False  False   \n",
      "3                       False  False    False  False   True   False  False   \n",
      "4                       False  False    False  False  False   False  False   \n",
      "...                       ...    ...      ...    ...    ...     ...    ...   \n",
      "3026                    False  False    False  False  False   False  False   \n",
      "3027                    False  False    False  False  False   False  False   \n",
      "3028                    False  False    False  False  False   False  False   \n",
      "3029                    False  False    False  False  False   False  False   \n",
      "3030                    False  False    False  False  False   False  False   \n",
      "\n",
      "      year_released  \n",
      "0             False  \n",
      "1             False  \n",
      "2             False  \n",
      "3             False  \n",
      "4             False  \n",
      "...             ...  \n",
      "3026          False  \n",
      "3027          False  \n",
      "3028          False  \n",
      "3029          False  \n",
      "3030          False  \n",
      "\n",
      "[3031 rows x 27 columns]\n"
     ]
    },
    {
     "name": "stderr",
     "output_type": "stream",
     "text": [
      "c:\\users\\jaymish\\desktop\\pcs\\web2txt\\webapp\\venv\\lib\\site-packages\\ipykernel_launcher.py:1: FutureWarning: Automatic reindexing on DataFrame vs Series comparisons is deprecated and will raise ValueError in a future version.  Do `left, right = left.align(right, axis=1, copy=False)` before e.g. `left == right`\n",
      "  \"\"\"Entry point for launching an IPython kernel.\n",
      "c:\\users\\jaymish\\desktop\\pcs\\web2txt\\webapp\\venv\\lib\\site-packages\\ipykernel_launcher.py:1: FutureWarning: Automatic reindexing on DataFrame vs Series comparisons is deprecated and will raise ValueError in a future version.  Do `left, right = left.align(right, axis=1, copy=False)` before e.g. `left == right`\n",
      "  \"\"\"Entry point for launching an IPython kernel.\n"
     ]
    }
   ],
   "source": [
    "print((data_dropped < (Q1 - (1.5 * IQR))) | (data_dropped > (Q3 + (1.5 * IQR))))"
   ]
  },
  {
   "cell_type": "code",
   "execution_count": 30,
   "metadata": {},
   "outputs": [
    {
     "data": {
      "text/plain": [
       "(3031, 27)"
      ]
     },
     "execution_count": 30,
     "metadata": {},
     "output_type": "execute_result"
    }
   ],
   "source": [
    "data_dropped.shape"
   ]
  },
  {
   "cell_type": "code",
   "execution_count": 31,
   "metadata": {},
   "outputs": [
    {
     "name": "stderr",
     "output_type": "stream",
     "text": [
      "c:\\users\\jaymish\\desktop\\pcs\\web2txt\\webapp\\venv\\lib\\site-packages\\ipykernel_launcher.py:1: FutureWarning: Automatic reindexing on DataFrame vs Series comparisons is deprecated and will raise ValueError in a future version.  Do `left, right = left.align(right, axis=1, copy=False)` before e.g. `left == right`\n",
      "  \"\"\"Entry point for launching an IPython kernel.\n",
      "c:\\users\\jaymish\\desktop\\pcs\\web2txt\\webapp\\venv\\lib\\site-packages\\ipykernel_launcher.py:1: FutureWarning: Automatic reindexing on DataFrame vs Series comparisons is deprecated and will raise ValueError in a future version.  Do `left, right = left.align(right, axis=1, copy=False)` before e.g. `left == right`\n",
      "  \"\"\"Entry point for launching an IPython kernel.\n"
     ]
    }
   ],
   "source": [
    "data_dropped_outlier_IQR = data_dropped[~((data_dropped < (Q1 - 1.5 * IQR)) | (data_dropped > (Q3 + 1.5 * IQR))).any(axis=1)]"
   ]
  },
  {
   "cell_type": "code",
   "execution_count": 32,
   "metadata": {},
   "outputs": [
    {
     "data": {
      "text/plain": [
       "(2023, 27)"
      ]
     },
     "execution_count": 32,
     "metadata": {},
     "output_type": "execute_result"
    }
   ],
   "source": [
    "data_dropped_outlier_IQR.shape"
   ]
  },
  {
   "cell_type": "code",
   "execution_count": 33,
   "metadata": {},
   "outputs": [
    {
     "data": {
      "text/html": [
       "<div>\n",
       "<style scoped>\n",
       "    .dataframe tbody tr th:only-of-type {\n",
       "        vertical-align: middle;\n",
       "    }\n",
       "\n",
       "    .dataframe tbody tr th {\n",
       "        vertical-align: top;\n",
       "    }\n",
       "\n",
       "    .dataframe thead th {\n",
       "        text-align: right;\n",
       "    }\n",
       "</style>\n",
       "<table border=\"1\" class=\"dataframe\">\n",
       "  <thead>\n",
       "    <tr style=\"text-align: right;\">\n",
       "      <th></th>\n",
       "      <th>budget</th>\n",
       "      <th>company</th>\n",
       "      <th>director</th>\n",
       "      <th>gross</th>\n",
       "      <th>name</th>\n",
       "      <th>released</th>\n",
       "      <th>score</th>\n",
       "      <th>star</th>\n",
       "      <th>votes</th>\n",
       "      <th>writer</th>\n",
       "      <th>...</th>\n",
       "      <th>original_title</th>\n",
       "      <th>overview</th>\n",
       "      <th>popularity</th>\n",
       "      <th>tagline</th>\n",
       "      <th>title</th>\n",
       "      <th>genres_edited</th>\n",
       "      <th>spoken_languages_edited</th>\n",
       "      <th>production_countries_edited</th>\n",
       "      <th>keywords_edited</th>\n",
       "      <th>year_released</th>\n",
       "    </tr>\n",
       "  </thead>\n",
       "  <tbody>\n",
       "    <tr>\n",
       "      <th>0</th>\n",
       "      <td>9000000</td>\n",
       "      <td>Walt Disney Pictures</td>\n",
       "      <td>Other</td>\n",
       "      <td>18564613</td>\n",
       "      <td>Flight of the Navigator</td>\n",
       "      <td>1.08.1986 00:00</td>\n",
       "      <td>6.9</td>\n",
       "      <td>Joey Cramer</td>\n",
       "      <td>36636</td>\n",
       "      <td>Mark H. Baker</td>\n",
       "      <td>...</td>\n",
       "      <td>Flight of the Navigator</td>\n",
       "      <td>This 1986 Disney adventure tells the story of ...</td>\n",
       "      <td>5.526865</td>\n",
       "      <td>Come along on the greatest adventure of the su...</td>\n",
       "      <td>Flight of the Navigator</td>\n",
       "      <td>Family, Science Fiction, Adventure</td>\n",
       "      <td>en</td>\n",
       "      <td>US</td>\n",
       "      <td>artificial intelligence, farewell, homesicknes...</td>\n",
       "      <td>1986</td>\n",
       "    </tr>\n",
       "    <tr>\n",
       "      <th>1</th>\n",
       "      <td>6000000</td>\n",
       "      <td>Other</td>\n",
       "      <td>Other</td>\n",
       "      <td>8551228</td>\n",
       "      <td>Blue Velvet</td>\n",
       "      <td>23.10.1986 00:00</td>\n",
       "      <td>7.8</td>\n",
       "      <td>Isabella Rossellini</td>\n",
       "      <td>146768</td>\n",
       "      <td>David Lynch</td>\n",
       "      <td>...</td>\n",
       "      <td>Blue Velvet</td>\n",
       "      <td>The discovery of a severed human ear found in ...</td>\n",
       "      <td>7.882247</td>\n",
       "      <td>It's a strange world.</td>\n",
       "      <td>Blue Velvet</td>\n",
       "      <td>Crime, Drama, Mystery, Thriller</td>\n",
       "      <td>en</td>\n",
       "      <td>US</td>\n",
       "      <td>small town, ear, suspense, independent film, p...</td>\n",
       "      <td>1986</td>\n",
       "    </tr>\n",
       "    <tr>\n",
       "      <th>2</th>\n",
       "      <td>16000000</td>\n",
       "      <td>Other</td>\n",
       "      <td>Other</td>\n",
       "      <td>5900000</td>\n",
       "      <td>Highlander</td>\n",
       "      <td>7.03.1986 00:00</td>\n",
       "      <td>7.2</td>\n",
       "      <td>Christopher Lambert</td>\n",
       "      <td>104860</td>\n",
       "      <td>Gregory Widen</td>\n",
       "      <td>...</td>\n",
       "      <td>Highlander</td>\n",
       "      <td>He fought his first battle on the Scottish Hig...</td>\n",
       "      <td>16.870392</td>\n",
       "      <td>There can be only one.</td>\n",
       "      <td>Highlander</td>\n",
       "      <td>Adventure, Action, Fantasy</td>\n",
       "      <td>en</td>\n",
       "      <td>GB, US</td>\n",
       "      <td>new york, scotland, swordplay, sword, cut-off ...</td>\n",
       "      <td>1986</td>\n",
       "    </tr>\n",
       "    <tr>\n",
       "      <th>3</th>\n",
       "      <td>6000000</td>\n",
       "      <td>Twentieth Century Fox Film Corporation</td>\n",
       "      <td>Other</td>\n",
       "      <td>8200000</td>\n",
       "      <td>Lucas</td>\n",
       "      <td>28.03.1986 00:00</td>\n",
       "      <td>6.8</td>\n",
       "      <td>Corey Haim</td>\n",
       "      <td>12228</td>\n",
       "      <td>David Seltzer</td>\n",
       "      <td>...</td>\n",
       "      <td>Lucas</td>\n",
       "      <td>A socially inept fourteen year old experiences...</td>\n",
       "      <td>4.575350</td>\n",
       "      <td>It's about falling in love.  For the first time.</td>\n",
       "      <td>Lucas</td>\n",
       "      <td>Comedy, Drama, Romance</td>\n",
       "      <td>en</td>\n",
       "      <td>US</td>\n",
       "      <td>high school, american football team, cheerleading</td>\n",
       "      <td>1986</td>\n",
       "    </tr>\n",
       "    <tr>\n",
       "      <th>4</th>\n",
       "      <td>25000000</td>\n",
       "      <td>Twentieth Century Fox Film Corporation</td>\n",
       "      <td>Other</td>\n",
       "      <td>11100000</td>\n",
       "      <td>Big Trouble in Little China</td>\n",
       "      <td>2.07.1986 00:00</td>\n",
       "      <td>7.3</td>\n",
       "      <td>Kurt Russell</td>\n",
       "      <td>101678</td>\n",
       "      <td>Gary Goldman</td>\n",
       "      <td>...</td>\n",
       "      <td>Big Trouble in Little China</td>\n",
       "      <td>When trucker, Jack Burton agreed to take his f...</td>\n",
       "      <td>11.109932</td>\n",
       "      <td>Adventure doesn't come any bigger!</td>\n",
       "      <td>Big Trouble in Little China</td>\n",
       "      <td>Action, Adventure, Comedy, Fantasy</td>\n",
       "      <td>cn, en</td>\n",
       "      <td>US</td>\n",
       "      <td>kung fu, chinatown, magic, mystery</td>\n",
       "      <td>1986</td>\n",
       "    </tr>\n",
       "    <tr>\n",
       "      <th>...</th>\n",
       "      <td>...</td>\n",
       "      <td>...</td>\n",
       "      <td>...</td>\n",
       "      <td>...</td>\n",
       "      <td>...</td>\n",
       "      <td>...</td>\n",
       "      <td>...</td>\n",
       "      <td>...</td>\n",
       "      <td>...</td>\n",
       "      <td>...</td>\n",
       "      <td>...</td>\n",
       "      <td>...</td>\n",
       "      <td>...</td>\n",
       "      <td>...</td>\n",
       "      <td>...</td>\n",
       "      <td>...</td>\n",
       "      <td>...</td>\n",
       "      <td>...</td>\n",
       "      <td>...</td>\n",
       "      <td>...</td>\n",
       "      <td>...</td>\n",
       "    </tr>\n",
       "    <tr>\n",
       "      <th>2018</th>\n",
       "      <td>25000000</td>\n",
       "      <td>Other</td>\n",
       "      <td>Other</td>\n",
       "      <td>100144</td>\n",
       "      <td>Man of Tai Chi</td>\n",
       "      <td>5.07.2013 00:00</td>\n",
       "      <td>6.1</td>\n",
       "      <td>Tiger Hu Chen</td>\n",
       "      <td>30477</td>\n",
       "      <td>Michael G. Cooney</td>\n",
       "      <td>...</td>\n",
       "      <td>Man of Tai Chi</td>\n",
       "      <td>In Beijing, a young martial artist's skill pla...</td>\n",
       "      <td>11.829231</td>\n",
       "      <td>No Rules. No Mercy. Pure Fighting.</td>\n",
       "      <td>Man of Tai Chi</td>\n",
       "      <td>Action, Drama</td>\n",
       "      <td>cn, en, zh</td>\n",
       "      <td>CN, HK, US</td>\n",
       "      <td>china, martial arts, tai chi, extortion, illeg...</td>\n",
       "      <td>2013</td>\n",
       "    </tr>\n",
       "    <tr>\n",
       "      <th>2019</th>\n",
       "      <td>65000000</td>\n",
       "      <td>Other</td>\n",
       "      <td>Other</td>\n",
       "      <td>13757804</td>\n",
       "      <td>Sin City: A Dame to Kill For</td>\n",
       "      <td>22.08.2014 00:00</td>\n",
       "      <td>6.5</td>\n",
       "      <td>Mickey Rourke</td>\n",
       "      <td>126091</td>\n",
       "      <td>Frank Miller</td>\n",
       "      <td>...</td>\n",
       "      <td>Sin City: A Dame to Kill For</td>\n",
       "      <td>Some of Sin City's most hard-boiled citizens c...</td>\n",
       "      <td>20.623642</td>\n",
       "      <td>There is no justice without sin.</td>\n",
       "      <td>Sin City: A Dame to Kill For</td>\n",
       "      <td>Crime, Thriller</td>\n",
       "      <td>en</td>\n",
       "      <td>US</td>\n",
       "      <td>detective, dystopia, dominatrix, murder, suspe...</td>\n",
       "      <td>2014</td>\n",
       "    </tr>\n",
       "    <tr>\n",
       "      <th>2020</th>\n",
       "      <td>70000000</td>\n",
       "      <td>Universal Pictures</td>\n",
       "      <td>Other</td>\n",
       "      <td>56280355</td>\n",
       "      <td>Dracula Untold</td>\n",
       "      <td>10.10.2014 00:00</td>\n",
       "      <td>6.3</td>\n",
       "      <td>Luke Evans</td>\n",
       "      <td>152210</td>\n",
       "      <td>Matt Sazama</td>\n",
       "      <td>...</td>\n",
       "      <td>Dracula Untold</td>\n",
       "      <td>Vlad Tepes is a great hero, but when he learns...</td>\n",
       "      <td>16.316318</td>\n",
       "      <td>Every bloodline has a beginning</td>\n",
       "      <td>Dracula Untold</td>\n",
       "      <td>Horror, Action, Drama, Fantasy, War</td>\n",
       "      <td>en</td>\n",
       "      <td>US</td>\n",
       "      <td>vampire, dracula, bite, battle, 15th century, ...</td>\n",
       "      <td>2014</td>\n",
       "    </tr>\n",
       "    <tr>\n",
       "      <th>2021</th>\n",
       "      <td>95000000</td>\n",
       "      <td>Other</td>\n",
       "      <td>Other</td>\n",
       "      <td>17223265</td>\n",
       "      <td>Seventh Son</td>\n",
       "      <td>6.02.2015 00:00</td>\n",
       "      <td>5.5</td>\n",
       "      <td>Ben Barnes</td>\n",
       "      <td>61441</td>\n",
       "      <td>Charles Leavitt</td>\n",
       "      <td>...</td>\n",
       "      <td>Seventh Son</td>\n",
       "      <td>John Gregory, who is a seventh son of a sevent...</td>\n",
       "      <td>15.297821</td>\n",
       "      <td>When darkness falls, the son will rise. When t...</td>\n",
       "      <td>Seventh Son</td>\n",
       "      <td>Adventure, Fantasy</td>\n",
       "      <td>en</td>\n",
       "      <td>CN, CA, US, GB</td>\n",
       "      <td>magic, chosen one, dark fantasy, witch hunter,...</td>\n",
       "      <td>2015</td>\n",
       "    </tr>\n",
       "    <tr>\n",
       "      <th>2022</th>\n",
       "      <td>28000000</td>\n",
       "      <td>Other</td>\n",
       "      <td>Other</td>\n",
       "      <td>6998324</td>\n",
       "      <td>Our Brand Is Crisis</td>\n",
       "      <td>30.10.2015 00:00</td>\n",
       "      <td>6.1</td>\n",
       "      <td>Sandra Bullock</td>\n",
       "      <td>16204</td>\n",
       "      <td>Peter Straughan</td>\n",
       "      <td>...</td>\n",
       "      <td>Our Brand Is Crisis</td>\n",
       "      <td>A feature film based on the documentary \"Our B...</td>\n",
       "      <td>12.158176</td>\n",
       "      <td>May the best campaign win.</td>\n",
       "      <td>Our Brand Is Crisis</td>\n",
       "      <td>Comedy, Drama</td>\n",
       "      <td>en</td>\n",
       "      <td>US</td>\n",
       "      <td>bolivia, woman, political campaign, south amer...</td>\n",
       "      <td>2015</td>\n",
       "    </tr>\n",
       "  </tbody>\n",
       "</table>\n",
       "<p>2023 rows × 27 columns</p>\n",
       "</div>"
      ],
      "text/plain": [
       "        budget                                 company director     gross  \\\n",
       "0      9000000                    Walt Disney Pictures    Other  18564613   \n",
       "1      6000000                                   Other    Other   8551228   \n",
       "2     16000000                                   Other    Other   5900000   \n",
       "3      6000000  Twentieth Century Fox Film Corporation    Other   8200000   \n",
       "4     25000000  Twentieth Century Fox Film Corporation    Other  11100000   \n",
       "...        ...                                     ...      ...       ...   \n",
       "2018  25000000                                   Other    Other    100144   \n",
       "2019  65000000                                   Other    Other  13757804   \n",
       "2020  70000000                      Universal Pictures    Other  56280355   \n",
       "2021  95000000                                   Other    Other  17223265   \n",
       "2022  28000000                                   Other    Other   6998324   \n",
       "\n",
       "                              name          released  score  \\\n",
       "0          Flight of the Navigator   1.08.1986 00:00    6.9   \n",
       "1                      Blue Velvet  23.10.1986 00:00    7.8   \n",
       "2                       Highlander   7.03.1986 00:00    7.2   \n",
       "3                            Lucas  28.03.1986 00:00    6.8   \n",
       "4      Big Trouble in Little China   2.07.1986 00:00    7.3   \n",
       "...                            ...               ...    ...   \n",
       "2018                Man of Tai Chi   5.07.2013 00:00    6.1   \n",
       "2019  Sin City: A Dame to Kill For  22.08.2014 00:00    6.5   \n",
       "2020                Dracula Untold  10.10.2014 00:00    6.3   \n",
       "2021                   Seventh Son   6.02.2015 00:00    5.5   \n",
       "2022           Our Brand Is Crisis  30.10.2015 00:00    6.1   \n",
       "\n",
       "                     star   votes             writer  ...  \\\n",
       "0             Joey Cramer   36636      Mark H. Baker  ...   \n",
       "1     Isabella Rossellini  146768        David Lynch  ...   \n",
       "2     Christopher Lambert  104860      Gregory Widen  ...   \n",
       "3              Corey Haim   12228      David Seltzer  ...   \n",
       "4            Kurt Russell  101678       Gary Goldman  ...   \n",
       "...                   ...     ...                ...  ...   \n",
       "2018        Tiger Hu Chen   30477  Michael G. Cooney  ...   \n",
       "2019        Mickey Rourke  126091       Frank Miller  ...   \n",
       "2020           Luke Evans  152210        Matt Sazama  ...   \n",
       "2021           Ben Barnes   61441    Charles Leavitt  ...   \n",
       "2022       Sandra Bullock   16204    Peter Straughan  ...   \n",
       "\n",
       "                    original_title  \\\n",
       "0          Flight of the Navigator   \n",
       "1                      Blue Velvet   \n",
       "2                       Highlander   \n",
       "3                            Lucas   \n",
       "4      Big Trouble in Little China   \n",
       "...                            ...   \n",
       "2018                Man of Tai Chi   \n",
       "2019  Sin City: A Dame to Kill For   \n",
       "2020                Dracula Untold   \n",
       "2021                   Seventh Son   \n",
       "2022           Our Brand Is Crisis   \n",
       "\n",
       "                                               overview  popularity  \\\n",
       "0     This 1986 Disney adventure tells the story of ...    5.526865   \n",
       "1     The discovery of a severed human ear found in ...    7.882247   \n",
       "2     He fought his first battle on the Scottish Hig...   16.870392   \n",
       "3     A socially inept fourteen year old experiences...    4.575350   \n",
       "4     When trucker, Jack Burton agreed to take his f...   11.109932   \n",
       "...                                                 ...         ...   \n",
       "2018  In Beijing, a young martial artist's skill pla...   11.829231   \n",
       "2019  Some of Sin City's most hard-boiled citizens c...   20.623642   \n",
       "2020  Vlad Tepes is a great hero, but when he learns...   16.316318   \n",
       "2021  John Gregory, who is a seventh son of a sevent...   15.297821   \n",
       "2022  A feature film based on the documentary \"Our B...   12.158176   \n",
       "\n",
       "                                                tagline  \\\n",
       "0     Come along on the greatest adventure of the su...   \n",
       "1                                 It's a strange world.   \n",
       "2                                There can be only one.   \n",
       "3      It's about falling in love.  For the first time.   \n",
       "4                    Adventure doesn't come any bigger!   \n",
       "...                                                 ...   \n",
       "2018                 No Rules. No Mercy. Pure Fighting.   \n",
       "2019                   There is no justice without sin.   \n",
       "2020                    Every bloodline has a beginning   \n",
       "2021  When darkness falls, the son will rise. When t...   \n",
       "2022                         May the best campaign win.   \n",
       "\n",
       "                             title                        genres_edited  \\\n",
       "0          Flight of the Navigator   Family, Science Fiction, Adventure   \n",
       "1                      Blue Velvet      Crime, Drama, Mystery, Thriller   \n",
       "2                       Highlander           Adventure, Action, Fantasy   \n",
       "3                            Lucas               Comedy, Drama, Romance   \n",
       "4      Big Trouble in Little China   Action, Adventure, Comedy, Fantasy   \n",
       "...                            ...                                  ...   \n",
       "2018                Man of Tai Chi                        Action, Drama   \n",
       "2019  Sin City: A Dame to Kill For                      Crime, Thriller   \n",
       "2020                Dracula Untold  Horror, Action, Drama, Fantasy, War   \n",
       "2021                   Seventh Son                   Adventure, Fantasy   \n",
       "2022           Our Brand Is Crisis                        Comedy, Drama   \n",
       "\n",
       "     spoken_languages_edited production_countries_edited  \\\n",
       "0                         en                          US   \n",
       "1                         en                          US   \n",
       "2                         en                      GB, US   \n",
       "3                         en                          US   \n",
       "4                     cn, en                          US   \n",
       "...                      ...                         ...   \n",
       "2018              cn, en, zh                  CN, HK, US   \n",
       "2019                      en                          US   \n",
       "2020                      en                          US   \n",
       "2021                      en              CN, CA, US, GB   \n",
       "2022                      en                          US   \n",
       "\n",
       "                                        keywords_edited  year_released  \n",
       "0     artificial intelligence, farewell, homesicknes...           1986  \n",
       "1     small town, ear, suspense, independent film, p...           1986  \n",
       "2     new york, scotland, swordplay, sword, cut-off ...           1986  \n",
       "3     high school, american football team, cheerleading           1986  \n",
       "4                    kung fu, chinatown, magic, mystery           1986  \n",
       "...                                                 ...            ...  \n",
       "2018  china, martial arts, tai chi, extortion, illeg...           2013  \n",
       "2019  detective, dystopia, dominatrix, murder, suspe...           2014  \n",
       "2020  vampire, dracula, bite, battle, 15th century, ...           2014  \n",
       "2021  magic, chosen one, dark fantasy, witch hunter,...           2015  \n",
       "2022  bolivia, woman, political campaign, south amer...           2015  \n",
       "\n",
       "[2023 rows x 27 columns]"
      ]
     },
     "execution_count": 33,
     "metadata": {},
     "output_type": "execute_result"
    }
   ],
   "source": [
    "data_dropped_outlier_IQR = data_dropped_outlier_IQR.reset_index()\n",
    "del data_dropped_outlier_IQR['index']\n",
    "data_dropped_outlier_IQR"
   ]
  },
  {
   "cell_type": "code",
   "execution_count": 34,
   "metadata": {},
   "outputs": [
    {
     "data": {
      "text/html": [
       "<div>\n",
       "<style scoped>\n",
       "    .dataframe tbody tr th:only-of-type {\n",
       "        vertical-align: middle;\n",
       "    }\n",
       "\n",
       "    .dataframe tbody tr th {\n",
       "        vertical-align: top;\n",
       "    }\n",
       "\n",
       "    .dataframe thead th {\n",
       "        text-align: right;\n",
       "    }\n",
       "</style>\n",
       "<table border=\"1\" class=\"dataframe\">\n",
       "  <thead>\n",
       "    <tr style=\"text-align: right;\">\n",
       "      <th></th>\n",
       "      <th>budget</th>\n",
       "      <th>gross</th>\n",
       "      <th>score</th>\n",
       "      <th>votes</th>\n",
       "      <th>year</th>\n",
       "      <th>isprofit</th>\n",
       "      <th>profitability_ratio</th>\n",
       "      <th>profitability_ratio_bucket</th>\n",
       "      <th>id</th>\n",
       "      <th>popularity</th>\n",
       "      <th>year_released</th>\n",
       "    </tr>\n",
       "  </thead>\n",
       "  <tbody>\n",
       "    <tr>\n",
       "      <th>count</th>\n",
       "      <td>2.023000e+03</td>\n",
       "      <td>2.023000e+03</td>\n",
       "      <td>2023.000000</td>\n",
       "      <td>2023.000000</td>\n",
       "      <td>2023.000000</td>\n",
       "      <td>2023.000000</td>\n",
       "      <td>2023.000000</td>\n",
       "      <td>2023.000000</td>\n",
       "      <td>2023.000000</td>\n",
       "      <td>2023.000000</td>\n",
       "      <td>2023.000000</td>\n",
       "    </tr>\n",
       "    <tr>\n",
       "      <th>mean</th>\n",
       "      <td>3.072385e+07</td>\n",
       "      <td>3.255912e+07</td>\n",
       "      <td>6.288680</td>\n",
       "      <td>62134.586752</td>\n",
       "      <td>2000.276322</td>\n",
       "      <td>0.461196</td>\n",
       "      <td>0.167068</td>\n",
       "      <td>16.661888</td>\n",
       "      <td>17027.965398</td>\n",
       "      <td>8.218226</td>\n",
       "      <td>2000.420168</td>\n",
       "    </tr>\n",
       "    <tr>\n",
       "      <th>std</th>\n",
       "      <td>2.358058e+07</td>\n",
       "      <td>3.172487e+07</td>\n",
       "      <td>0.847242</td>\n",
       "      <td>63432.563965</td>\n",
       "      <td>7.185907</td>\n",
       "      <td>0.498615</td>\n",
       "      <td>0.985661</td>\n",
       "      <td>98.636628</td>\n",
       "      <td>17200.903642</td>\n",
       "      <td>3.568751</td>\n",
       "      <td>7.236258</td>\n",
       "    </tr>\n",
       "    <tr>\n",
       "      <th>min</th>\n",
       "      <td>5.000000e+04</td>\n",
       "      <td>3.090000e+02</td>\n",
       "      <td>3.900000</td>\n",
       "      <td>704.000000</td>\n",
       "      <td>1986.000000</td>\n",
       "      <td>0.000000</td>\n",
       "      <td>-0.999979</td>\n",
       "      <td>-100.000000</td>\n",
       "      <td>5.000000</td>\n",
       "      <td>0.000578</td>\n",
       "      <td>1986.000000</td>\n",
       "    </tr>\n",
       "    <tr>\n",
       "      <th>25%</th>\n",
       "      <td>1.250000e+07</td>\n",
       "      <td>7.438866e+06</td>\n",
       "      <td>5.700000</td>\n",
       "      <td>16138.500000</td>\n",
       "      <td>1995.000000</td>\n",
       "      <td>0.000000</td>\n",
       "      <td>-0.562936</td>\n",
       "      <td>-60.000000</td>\n",
       "      <td>8454.000000</td>\n",
       "      <td>5.756420</td>\n",
       "      <td>1995.000000</td>\n",
       "    </tr>\n",
       "    <tr>\n",
       "      <th>50%</th>\n",
       "      <td>2.500000e+07</td>\n",
       "      <td>2.273449e+07</td>\n",
       "      <td>6.300000</td>\n",
       "      <td>38879.000000</td>\n",
       "      <td>2001.000000</td>\n",
       "      <td>0.000000</td>\n",
       "      <td>-0.094154</td>\n",
       "      <td>-10.000000</td>\n",
       "      <td>10922.000000</td>\n",
       "      <td>7.977693</td>\n",
       "      <td>2001.000000</td>\n",
       "    </tr>\n",
       "    <tr>\n",
       "      <th>75%</th>\n",
       "      <td>4.400000e+07</td>\n",
       "      <td>4.886898e+07</td>\n",
       "      <td>6.900000</td>\n",
       "      <td>86480.000000</td>\n",
       "      <td>2006.000000</td>\n",
       "      <td>1.000000</td>\n",
       "      <td>0.656685</td>\n",
       "      <td>70.000000</td>\n",
       "      <td>19905.500000</td>\n",
       "      <td>10.619158</td>\n",
       "      <td>2007.000000</td>\n",
       "    </tr>\n",
       "    <tr>\n",
       "      <th>max</th>\n",
       "      <td>1.070000e+08</td>\n",
       "      <td>1.522575e+08</td>\n",
       "      <td>8.200000</td>\n",
       "      <td>295736.000000</td>\n",
       "      <td>2015.000000</td>\n",
       "      <td>1.000000</td>\n",
       "      <td>3.438159</td>\n",
       "      <td>340.000000</td>\n",
       "      <td>84329.000000</td>\n",
       "      <td>20.623642</td>\n",
       "      <td>2015.000000</td>\n",
       "    </tr>\n",
       "  </tbody>\n",
       "</table>\n",
       "</div>"
      ],
      "text/plain": [
       "             budget         gross        score          votes         year  \\\n",
       "count  2.023000e+03  2.023000e+03  2023.000000    2023.000000  2023.000000   \n",
       "mean   3.072385e+07  3.255912e+07     6.288680   62134.586752  2000.276322   \n",
       "std    2.358058e+07  3.172487e+07     0.847242   63432.563965     7.185907   \n",
       "min    5.000000e+04  3.090000e+02     3.900000     704.000000  1986.000000   \n",
       "25%    1.250000e+07  7.438866e+06     5.700000   16138.500000  1995.000000   \n",
       "50%    2.500000e+07  2.273449e+07     6.300000   38879.000000  2001.000000   \n",
       "75%    4.400000e+07  4.886898e+07     6.900000   86480.000000  2006.000000   \n",
       "max    1.070000e+08  1.522575e+08     8.200000  295736.000000  2015.000000   \n",
       "\n",
       "          isprofit  profitability_ratio  profitability_ratio_bucket  \\\n",
       "count  2023.000000          2023.000000                 2023.000000   \n",
       "mean      0.461196             0.167068                   16.661888   \n",
       "std       0.498615             0.985661                   98.636628   \n",
       "min       0.000000            -0.999979                 -100.000000   \n",
       "25%       0.000000            -0.562936                  -60.000000   \n",
       "50%       0.000000            -0.094154                  -10.000000   \n",
       "75%       1.000000             0.656685                   70.000000   \n",
       "max       1.000000             3.438159                  340.000000   \n",
       "\n",
       "                 id   popularity  year_released  \n",
       "count   2023.000000  2023.000000    2023.000000  \n",
       "mean   17027.965398     8.218226    2000.420168  \n",
       "std    17200.903642     3.568751       7.236258  \n",
       "min        5.000000     0.000578    1986.000000  \n",
       "25%     8454.000000     5.756420    1995.000000  \n",
       "50%    10922.000000     7.977693    2001.000000  \n",
       "75%    19905.500000    10.619158    2007.000000  \n",
       "max    84329.000000    20.623642    2015.000000  "
      ]
     },
     "execution_count": 34,
     "metadata": {},
     "output_type": "execute_result"
    }
   ],
   "source": [
    "data_dropped_outlier_IQR.describe()"
   ]
  },
  {
   "cell_type": "markdown",
   "metadata": {},
   "source": [
    "## 2.5. Box Plot <a class=\"anchor\" id=\"25\"></a>"
   ]
  },
  {
   "cell_type": "markdown",
   "metadata": {},
   "source": [
    "### Boxplot of Initial Data"
   ]
  },
  {
   "cell_type": "code",
   "execution_count": 35,
   "metadata": {},
   "outputs": [
    {
     "data": {
      "text/plain": [
       "<AxesSubplot:>"
      ]
     },
     "execution_count": 35,
     "metadata": {},
     "output_type": "execute_result"
    },
    {
     "data": {
      "image/png": "[encoded data removed]",
      "text/plain": [
       "<Figure size 2304x1008 with 1 Axes>"
      ]
     },
     "metadata": {},
     "output_type": "display_data"
    }
   ],
   "source": [
    "df.plot(x=df.index.name, kind='box', figsize=(32, 14))"
   ]
  },
  {
   "cell_type": "markdown",
   "metadata": {},
   "source": [
    "Figure 2: Data Distribution before Cleaning\n",
    "<p>Figure 2 shows the distribution of the data before dropping rows. The graph represents five number summary: “minimum, first quartile, median, third quartile, and ''maximum”. The ends of the box are the quartiles, Q1 and Q3, while the box length is interquartile range (IQR). Two lines (called whiskers) outside the box extend to the smallest (Minimum) and largest (Maximum) observations. The circles are the outliers.</p>"
   ]
  },
  {
   "cell_type": "markdown",
   "metadata": {},
   "source": [
    "### Boxplot of Dropped Data"
   ]
  },
  {
   "cell_type": "code",
   "execution_count": 36,
   "metadata": {},
   "outputs": [
    {
     "data": {
      "text/plain": [
       "<AxesSubplot:>"
      ]
     },
     "execution_count": 36,
     "metadata": {},
     "output_type": "execute_result"
    },
    {
     "data": {
      "image/png": "[encoded data removed]",
      "text/plain": [
       "<Figure size 2304x1008 with 1 Axes>"
      ]
     },
     "metadata": {},
     "output_type": "display_data"
    }
   ],
   "source": [
    "data_dropped.plot(x=data_dropped.index.name, kind='box', figsize=(32, 14))"
   ]
  },
  {
   "cell_type": "markdown",
   "metadata": {},
   "source": [
    "Figure 3: Data Distribution of Dropped Data\n",
    "<p>Figure 3 shows the distibution of data after dropping rows with the value NaN. The graph represents five number summary: “minimum, first quartile, median, third quartile, and ''maximum”. The ends of the box are the quartiles, Q1 and Q3, while the box length is interquartile range (IQR). Two lines (called whiskers) outside the box extend to the smallest (Minimum) and largest (Maximum) observations. The circles are the outliers.</p>"
   ]
  },
  {
   "cell_type": "markdown",
   "metadata": {},
   "source": [
    "### Boxplot of Dropped Outlier Data"
   ]
  },
  {
   "cell_type": "code",
   "execution_count": 37,
   "metadata": {},
   "outputs": [
    {
     "data": {
      "text/plain": [
       "<AxesSubplot:>"
      ]
     },
     "execution_count": 37,
     "metadata": {},
     "output_type": "execute_result"
    },
    {
     "data": {
      "image/png": "[encoded data removed]",
      "text/plain": [
       "<Figure size 3312x1008 with 1 Axes>"
      ]
     },
     "metadata": {},
     "output_type": "display_data"
    }
   ],
   "source": [
    "data_dropped_outlier_IQR.plot(x=data_dropped_outlier_IQR.index.name, kind='box', figsize=(46, 14))"
   ]
  },
  {
   "cell_type": "markdown",
   "metadata": {},
   "source": [
    "Figure 4: Data Distribution of Outlier Data\n",
    "<p>Figure 4 shows the distributoion of data after dropping outliers. The graph represents five number summary: “minimum, first quartile, median, third quartile, and ''maximum”. The ends of the box are the quartiles, Q1 and Q3, while the box length is interquartile range (IQR). Two lines (called whiskers) outside the box extend to the smallest (Minimum) and largest (Maximum) observations. The circles are the outliers.</p>"
   ]
  },
  {
   "cell_type": "markdown",
   "metadata": {},
   "source": [
    "# 3. Data Transformation <a class=\"anchor\" id=\"3\"></a>"
   ]
  },
  {
   "cell_type": "markdown",
   "metadata": {},
   "source": [
    "Our data has the following columns that we can perform transformation on:\n",
    "* budget\n",
    "* runtime\n",
    "* score\n",
    "* votes\n",
    "* popularity\n",
    "\n",
    "<p>\n",
    "> We want to discretize and normalize the data so it will be ready for the modeling stage.\n",
    "<br><br>\n",
    "> After writing some general functions, we will perform the transformations one by one.\n",
    "</p>"
   ]
  },
  {
   "cell_type": "markdown",
   "metadata": {},
   "source": [
    "## 3.1. Binning <a class=\"anchor\" id=\"31\"></a>"
   ]
  },
  {
   "cell_type": "markdown",
   "metadata": {},
   "source": [
    "Below, we iterate over all continuous features and use binning to discretize the data. At the end, we summarize the results by indicating the 4 intervals that our data was partitioned into."
   ]
  },
  {
   "cell_type": "code",
   "execution_count": 38,
   "metadata": {},
   "outputs": [
    {
     "data": {
      "text/plain": [
       "count    2.023000e+03\n",
       "mean     3.072385e+07\n",
       "std      2.358058e+07\n",
       "min      5.000000e+04\n",
       "25%      1.250000e+07\n",
       "50%      2.500000e+07\n",
       "75%      4.400000e+07\n",
       "max      1.070000e+08\n",
       "Name: budget, dtype: float64"
      ]
     },
     "metadata": {},
     "output_type": "display_data"
    },
    {
     "data": {
      "text/plain": [
       "0         (49999.999, 12500000.0]\n",
       "1         (49999.999, 12500000.0]\n",
       "2        (12500000.0, 25000000.0]\n",
       "3         (49999.999, 12500000.0]\n",
       "4        (12500000.0, 25000000.0]\n",
       "                  ...            \n",
       "2018     (12500000.0, 25000000.0]\n",
       "2019    (44000000.0, 107000000.0]\n",
       "2020    (44000000.0, 107000000.0]\n",
       "2021    (44000000.0, 107000000.0]\n",
       "2022     (25000000.0, 44000000.0]\n",
       "Name: budget, Length: 2023, dtype: category\n",
       "Categories (4, interval[float64]): [(49999.999, 12500000.0] < (12500000.0, 25000000.0] < (25000000.0, 44000000.0] < (44000000.0, 107000000.0]]"
      ]
     },
     "metadata": {},
     "output_type": "display_data"
    },
    {
     "data": {
      "text/plain": [
       "(12500000.0, 25000000.0]     568\n",
       "(49999.999, 12500000.0]      507\n",
       "(44000000.0, 107000000.0]    505\n",
       "(25000000.0, 44000000.0]     443\n",
       "Name: budget, dtype: int64"
      ]
     },
     "metadata": {},
     "output_type": "display_data"
    },
    {
     "data": {
      "text/plain": [
       "count    2023.000000\n",
       "mean        6.288680\n",
       "std         0.847242\n",
       "min         3.900000\n",
       "25%         5.700000\n",
       "50%         6.300000\n",
       "75%         6.900000\n",
       "max         8.200000\n",
       "Name: score, dtype: float64"
      ]
     },
     "metadata": {},
     "output_type": "display_data"
    },
    {
     "data": {
      "text/plain": [
       "0         (6.3, 6.9]\n",
       "1         (6.9, 8.2]\n",
       "2         (6.9, 8.2]\n",
       "3         (6.3, 6.9]\n",
       "4         (6.9, 8.2]\n",
       "            ...     \n",
       "2018      (5.7, 6.3]\n",
       "2019      (6.3, 6.9]\n",
       "2020      (5.7, 6.3]\n",
       "2021    (3.899, 5.7]\n",
       "2022      (5.7, 6.3]\n",
       "Name: score, Length: 2023, dtype: category\n",
       "Categories (4, interval[float64]): [(3.899, 5.7] < (5.7, 6.3] < (6.3, 6.9] < (6.9, 8.2]]"
      ]
     },
     "metadata": {},
     "output_type": "display_data"
    },
    {
     "data": {
      "text/plain": [
       "(3.899, 5.7]    530\n",
       "(6.3, 6.9]      528\n",
       "(5.7, 6.3]      493\n",
       "(6.9, 8.2]      472\n",
       "Name: score, dtype: int64"
      ]
     },
     "metadata": {},
     "output_type": "display_data"
    },
    {
     "data": {
      "text/plain": [
       "count      2023.000000\n",
       "mean      62134.586752\n",
       "std       63432.563965\n",
       "min         704.000000\n",
       "25%       16138.500000\n",
       "50%       38879.000000\n",
       "75%       86480.000000\n",
       "max      295736.000000\n",
       "Name: votes, dtype: float64"
      ]
     },
     "metadata": {},
     "output_type": "display_data"
    },
    {
     "data": {
      "text/plain": [
       "0        (16138.5, 38879.0]\n",
       "1       (86480.0, 295736.0]\n",
       "2       (86480.0, 295736.0]\n",
       "3        (703.999, 16138.5]\n",
       "4       (86480.0, 295736.0]\n",
       "               ...         \n",
       "2018     (16138.5, 38879.0]\n",
       "2019    (86480.0, 295736.0]\n",
       "2020    (86480.0, 295736.0]\n",
       "2021     (38879.0, 86480.0]\n",
       "2022     (16138.5, 38879.0]\n",
       "Name: votes, Length: 2023, dtype: category\n",
       "Categories (4, interval[float64]): [(703.999, 16138.5] < (16138.5, 38879.0] < (38879.0, 86480.0] < (86480.0, 295736.0]]"
      ]
     },
     "metadata": {},
     "output_type": "display_data"
    },
    {
     "data": {
      "text/plain": [
       "(703.999, 16138.5]     506\n",
       "(16138.5, 38879.0]     506\n",
       "(86480.0, 295736.0]    506\n",
       "(38879.0, 86480.0]     505\n",
       "Name: votes, dtype: int64"
      ]
     },
     "metadata": {},
     "output_type": "display_data"
    },
    {
     "data": {
      "text/plain": [
       "count    2023.000000\n",
       "mean        8.218226\n",
       "std         3.568751\n",
       "min         0.000578\n",
       "25%         5.756420\n",
       "50%         7.977693\n",
       "75%        10.619158\n",
       "max        20.623642\n",
       "Name: popularity, dtype: float64"
      ]
     },
     "metadata": {},
     "output_type": "display_data"
    },
    {
     "data": {
      "text/plain": [
       "0       (-0.00042200000000000007, 5.756]\n",
       "1                         (5.756, 7.978]\n",
       "2                       (10.619, 20.624]\n",
       "3       (-0.00042200000000000007, 5.756]\n",
       "4                       (10.619, 20.624]\n",
       "                      ...               \n",
       "2018                    (10.619, 20.624]\n",
       "2019                    (10.619, 20.624]\n",
       "2020                    (10.619, 20.624]\n",
       "2021                    (10.619, 20.624]\n",
       "2022                    (10.619, 20.624]\n",
       "Name: popularity, Length: 2023, dtype: category\n",
       "Categories (4, interval[float64]): [(-0.00042200000000000007, 5.756] < (5.756, 7.978] < (7.978, 10.619] < (10.619, 20.624]]"
      ]
     },
     "metadata": {},
     "output_type": "display_data"
    },
    {
     "data": {
      "text/plain": [
       "(-0.00042200000000000007, 5.756]    506\n",
       "(5.756, 7.978]                      506\n",
       "(10.619, 20.624]                    506\n",
       "(7.978, 10.619]                     505\n",
       "Name: popularity, dtype: int64"
      ]
     },
     "metadata": {},
     "output_type": "display_data"
    }
   ],
   "source": [
    "for i in continuous_features:\n",
    "    display(data_dropped_outlier_IQR[i].describe())\n",
    "\n",
    "    display(pd.qcut(data_dropped_outlier_IQR[i], q=4))\n",
    "\n",
    "    display(pd.qcut(data_dropped_outlier_IQR[i], q=4).value_counts())"
   ]
  },
  {
   "cell_type": "markdown",
   "metadata": {},
   "source": [
    "## 3.2. Normalization <a class=\"anchor\" id=\"32\"></a>"
   ]
  },
  {
   "cell_type": "markdown",
   "metadata": {},
   "source": [
    "### 3.2.1. Z-score Method <a class=\"anchor\" id=\"321\"></a>"
   ]
  },
  {
   "cell_type": "code",
   "execution_count": 39,
   "metadata": {},
   "outputs": [
    {
     "data": {
      "text/html": [
       "<div>\n",
       "<style scoped>\n",
       "    .dataframe tbody tr th:only-of-type {\n",
       "        vertical-align: middle;\n",
       "    }\n",
       "\n",
       "    .dataframe tbody tr th {\n",
       "        vertical-align: top;\n",
       "    }\n",
       "\n",
       "    .dataframe thead th {\n",
       "        text-align: right;\n",
       "    }\n",
       "</style>\n",
       "<table border=\"1\" class=\"dataframe\">\n",
       "  <thead>\n",
       "    <tr style=\"text-align: right;\">\n",
       "      <th></th>\n",
       "      <th>budget</th>\n",
       "      <th>score</th>\n",
       "      <th>votes</th>\n",
       "      <th>popularity</th>\n",
       "    </tr>\n",
       "  </thead>\n",
       "  <tbody>\n",
       "    <tr>\n",
       "      <th>count</th>\n",
       "      <td>2.023000e+03</td>\n",
       "      <td>2023.000000</td>\n",
       "      <td>2023.000000</td>\n",
       "      <td>2023.000000</td>\n",
       "    </tr>\n",
       "    <tr>\n",
       "      <th>mean</th>\n",
       "      <td>3.072385e+07</td>\n",
       "      <td>6.288680</td>\n",
       "      <td>62134.586752</td>\n",
       "      <td>8.218226</td>\n",
       "    </tr>\n",
       "    <tr>\n",
       "      <th>std</th>\n",
       "      <td>2.358058e+07</td>\n",
       "      <td>0.847242</td>\n",
       "      <td>63432.563965</td>\n",
       "      <td>3.568751</td>\n",
       "    </tr>\n",
       "    <tr>\n",
       "      <th>min</th>\n",
       "      <td>5.000000e+04</td>\n",
       "      <td>3.900000</td>\n",
       "      <td>704.000000</td>\n",
       "      <td>0.000578</td>\n",
       "    </tr>\n",
       "    <tr>\n",
       "      <th>25%</th>\n",
       "      <td>1.250000e+07</td>\n",
       "      <td>5.700000</td>\n",
       "      <td>16138.500000</td>\n",
       "      <td>5.756420</td>\n",
       "    </tr>\n",
       "    <tr>\n",
       "      <th>50%</th>\n",
       "      <td>2.500000e+07</td>\n",
       "      <td>6.300000</td>\n",
       "      <td>38879.000000</td>\n",
       "      <td>7.977693</td>\n",
       "    </tr>\n",
       "    <tr>\n",
       "      <th>75%</th>\n",
       "      <td>4.400000e+07</td>\n",
       "      <td>6.900000</td>\n",
       "      <td>86480.000000</td>\n",
       "      <td>10.619158</td>\n",
       "    </tr>\n",
       "    <tr>\n",
       "      <th>max</th>\n",
       "      <td>1.070000e+08</td>\n",
       "      <td>8.200000</td>\n",
       "      <td>295736.000000</td>\n",
       "      <td>20.623642</td>\n",
       "    </tr>\n",
       "  </tbody>\n",
       "</table>\n",
       "</div>"
      ],
      "text/plain": [
       "             budget        score          votes   popularity\n",
       "count  2.023000e+03  2023.000000    2023.000000  2023.000000\n",
       "mean   3.072385e+07     6.288680   62134.586752     8.218226\n",
       "std    2.358058e+07     0.847242   63432.563965     3.568751\n",
       "min    5.000000e+04     3.900000     704.000000     0.000578\n",
       "25%    1.250000e+07     5.700000   16138.500000     5.756420\n",
       "50%    2.500000e+07     6.300000   38879.000000     7.977693\n",
       "75%    4.400000e+07     6.900000   86480.000000    10.619158\n",
       "max    1.070000e+08     8.200000  295736.000000    20.623642"
      ]
     },
     "execution_count": 39,
     "metadata": {},
     "output_type": "execute_result"
    }
   ],
   "source": [
    "data_dropped_outlier_IQR[continuous_features].describe()"
   ]
  },
  {
   "cell_type": "code",
   "execution_count": 40,
   "metadata": {},
   "outputs": [],
   "source": [
    "scaler = StandardScaler()"
   ]
  },
  {
   "cell_type": "code",
   "execution_count": 41,
   "metadata": {},
   "outputs": [],
   "source": [
    "data_dropped_z_score_scaled = pd.DataFrame(scaler.fit_transform(data_dropped_outlier_IQR[continuous_features]), columns=continuous_features)"
   ]
  },
  {
   "cell_type": "code",
   "execution_count": 42,
   "metadata": {},
   "outputs": [
    {
     "data": {
      "text/html": [
       "<div>\n",
       "<style scoped>\n",
       "    .dataframe tbody tr th:only-of-type {\n",
       "        vertical-align: middle;\n",
       "    }\n",
       "\n",
       "    .dataframe tbody tr th {\n",
       "        vertical-align: top;\n",
       "    }\n",
       "\n",
       "    .dataframe thead th {\n",
       "        text-align: right;\n",
       "    }\n",
       "</style>\n",
       "<table border=\"1\" class=\"dataframe\">\n",
       "  <thead>\n",
       "    <tr style=\"text-align: right;\">\n",
       "      <th></th>\n",
       "      <th>budget</th>\n",
       "      <th>score</th>\n",
       "      <th>votes</th>\n",
       "      <th>popularity</th>\n",
       "    </tr>\n",
       "  </thead>\n",
       "  <tbody>\n",
       "    <tr>\n",
       "      <th>count</th>\n",
       "      <td>2.023000e+03</td>\n",
       "      <td>2.023000e+03</td>\n",
       "      <td>2.023000e+03</td>\n",
       "      <td>2.023000e+03</td>\n",
       "    </tr>\n",
       "    <tr>\n",
       "      <th>mean</th>\n",
       "      <td>-7.024644e-17</td>\n",
       "      <td>4.688950e-16</td>\n",
       "      <td>2.809858e-17</td>\n",
       "      <td>1.264436e-16</td>\n",
       "    </tr>\n",
       "    <tr>\n",
       "      <th>std</th>\n",
       "      <td>1.000247e+00</td>\n",
       "      <td>1.000247e+00</td>\n",
       "      <td>1.000247e+00</td>\n",
       "      <td>1.000247e+00</td>\n",
       "    </tr>\n",
       "    <tr>\n",
       "      <th>min</th>\n",
       "      <td>-1.301131e+00</td>\n",
       "      <td>-2.820056e+00</td>\n",
       "      <td>-9.686787e-01</td>\n",
       "      <td>-2.303237e+00</td>\n",
       "    </tr>\n",
       "    <tr>\n",
       "      <th>25%</th>\n",
       "      <td>-7.730238e-01</td>\n",
       "      <td>-6.949910e-01</td>\n",
       "      <td>-7.252972e-01</td>\n",
       "      <td>-6.899933e-01</td>\n",
       "    </tr>\n",
       "    <tr>\n",
       "      <th>50%</th>\n",
       "      <td>-2.427956e-01</td>\n",
       "      <td>1.336409e-02</td>\n",
       "      <td>-3.667097e-01</td>\n",
       "      <td>-6.741648e-02</td>\n",
       "    </tr>\n",
       "    <tr>\n",
       "      <th>75%</th>\n",
       "      <td>5.631513e-01</td>\n",
       "      <td>7.217192e-01</td>\n",
       "      <td>3.838948e-01</td>\n",
       "      <td>6.729318e-01</td>\n",
       "    </tr>\n",
       "    <tr>\n",
       "      <th>max</th>\n",
       "      <td>3.235501e+00</td>\n",
       "      <td>2.256489e+00</td>\n",
       "      <td>3.683584e+00</td>\n",
       "      <td>3.476982e+00</td>\n",
       "    </tr>\n",
       "  </tbody>\n",
       "</table>\n",
       "</div>"
      ],
      "text/plain": [
       "             budget         score         votes    popularity\n",
       "count  2.023000e+03  2.023000e+03  2.023000e+03  2.023000e+03\n",
       "mean  -7.024644e-17  4.688950e-16  2.809858e-17  1.264436e-16\n",
       "std    1.000247e+00  1.000247e+00  1.000247e+00  1.000247e+00\n",
       "min   -1.301131e+00 -2.820056e+00 -9.686787e-01 -2.303237e+00\n",
       "25%   -7.730238e-01 -6.949910e-01 -7.252972e-01 -6.899933e-01\n",
       "50%   -2.427956e-01  1.336409e-02 -3.667097e-01 -6.741648e-02\n",
       "75%    5.631513e-01  7.217192e-01  3.838948e-01  6.729318e-01\n",
       "max    3.235501e+00  2.256489e+00  3.683584e+00  3.476982e+00"
      ]
     },
     "execution_count": 42,
     "metadata": {},
     "output_type": "execute_result"
    }
   ],
   "source": [
    "data_dropped_z_score_scaled.describe()"
   ]
  },
  {
   "cell_type": "code",
   "execution_count": 43,
   "metadata": {},
   "outputs": [
    {
     "data": {
      "text/plain": [
       "array([[<AxesSubplot:title={'center':'budget'}>,\n",
       "        <AxesSubplot:title={'center':'gross'}>,\n",
       "        <AxesSubplot:title={'center':'score'}>],\n",
       "       [<AxesSubplot:title={'center':'votes'}>,\n",
       "        <AxesSubplot:title={'center':'year'}>,\n",
       "        <AxesSubplot:title={'center':'isprofit'}>],\n",
       "       [<AxesSubplot:title={'center':'profitability_ratio'}>,\n",
       "        <AxesSubplot:title={'center':'profitability_ratio_bucket'}>,\n",
       "        <AxesSubplot:title={'center':'id'}>],\n",
       "       [<AxesSubplot:title={'center':'popularity'}>,\n",
       "        <AxesSubplot:title={'center':'year_released'}>, <AxesSubplot:>]],\n",
       "      dtype=object)"
      ]
     },
     "execution_count": 43,
     "metadata": {},
     "output_type": "execute_result"
    },
    {
     "data": {
      "image/png": "[encoded data removed]",
      "text/plain": [
       "<Figure size 1152x1152 with 12 Axes>"
      ]
     },
     "metadata": {},
     "output_type": "display_data"
    }
   ],
   "source": [
    "data_dropped_outlier_IQR.hist(figsize=(16, 16))"
   ]
  },
  {
   "cell_type": "markdown",
   "metadata": {},
   "source": [
    "Figure 6: Histogram of Data Before Normalization\n",
    "<p>Figure 6 shows the bar charts helping us visualize the data befor the five features above have been normalized.</p>"
   ]
  },
  {
   "cell_type": "code",
   "execution_count": 44,
   "metadata": {},
   "outputs": [
    {
     "data": {
      "text/plain": [
       "array([[<AxesSubplot:title={'center':'budget'}>,\n",
       "        <AxesSubplot:title={'center':'score'}>],\n",
       "       [<AxesSubplot:title={'center':'votes'}>,\n",
       "        <AxesSubplot:title={'center':'popularity'}>]], dtype=object)"
      ]
     },
     "execution_count": 44,
     "metadata": {},
     "output_type": "execute_result"
    },
    {
     "data": {
      "image/png": "[encoded data removed]",
      "text/plain": [
       "<Figure size 720x720 with 4 Axes>"
      ]
     },
     "metadata": {},
     "output_type": "display_data"
    }
   ],
   "source": [
    "data_dropped_z_score_scaled.hist(figsize=(10, 10))"
   ]
  },
  {
   "cell_type": "markdown",
   "metadata": {},
   "source": [
    "Figure 7: Histogram of Data After Normalization\n",
    "<p>Figure 7 shows bar charts helping us visualize the data after the five features above have been normalized.</p>"
   ]
  },
  {
   "cell_type": "markdown",
   "metadata": {},
   "source": [
    "Add normalized columns to main dataset as new columns labeled with the feature name they relate to followed by \"_norm\"."
   ]
  },
  {
   "cell_type": "code",
   "execution_count": 45,
   "metadata": {},
   "outputs": [],
   "source": [
    "norm_column_names = ['budget_norm', 'score_norm', 'votes_norm', 'popularity_norm']\n",
    "    \n",
    "for i, j in zip(norm_column_names, continuous_features):\n",
    "    data_dropped_outlier_IQR[i] = pd.Series(data_dropped_z_score_scaled[j])\n"
   ]
  },
  {
   "cell_type": "code",
   "execution_count": 46,
   "metadata": {},
   "outputs": [],
   "source": [
    "data_dropped_outlier_IQR.to_csv('data/training_data.csv')"
   ]
  },
  {
   "cell_type": "markdown",
   "metadata": {},
   "source": [
    "# 4. Results <a class=\"anchor\" id=\"4\"></a>"
   ]
  },
  {
   "cell_type": "markdown",
   "metadata": {},
   "source": [
    "## 4.1. Data Cleaning <a class=\"anchor\" id=\"41\"></a>"
   ]
  },
  {
   "cell_type": "markdown",
   "metadata": {},
   "source": [
    "As we analyze all the features in <a href=\"#21\">Section 2.1.</a> we can see that the only features that need cleaning are overview, tagline, spoken_languages_edited, production_countries_edited and keywords_edited. The rest of the features are clean meaning not missing any values that require either dropping or replacement of those values."
   ]
  },
  {
   "cell_type": "markdown",
   "metadata": {},
   "source": [
    "## 4.2. Data Transformation <a class=\"anchor\" id=\"42\"></a>"
   ]
  },
  {
   "cell_type": "markdown",
   "metadata": {},
   "source": [
    "After analyzing and cleaning the five categorical features found in <a href=\"#21\">Section 2.1.</a> we are able to focus on transforming our data.  \n",
    "\n",
    "<p>Our data includes categorical and continuous types but for transformation we want to focus on five that need to be discretized and normalized in order to be ready for modeling. These five features include budget, runtime, score, votes and popularity. The reason for discretizing the data is so we can partition the data into equal distributions that will be easier to manage and manipulate. After that we can use normalization to give all the attributes an equal weight which is useful to us in the following section where we model our data.</p>"
   ]
  }
 ],
 "metadata": {
  "kernelspec": {
   "display_name": "'Python3'",
   "language": "python",
   "name": "python3"
  },
  "language_info": {
   "codemirror_mode": {
    "name": "ipython",
    "version": 3
   },
   "file_extension": ".py",
   "mimetype": "text/x-python",
   "name": "python",
   "nbconvert_exporter": "python",
   "pygments_lexer": "ipython3",
   "version": "3.7.3"
  }
 },
 "nbformat": 4,
 "nbformat_minor": 2
}
