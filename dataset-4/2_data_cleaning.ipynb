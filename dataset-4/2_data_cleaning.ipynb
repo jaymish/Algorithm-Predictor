{
 "cells": [
  {
   "cell_type": "markdown",
   "metadata": {},
   "source": [
    "### Table of Contents:\n",
    "* [1. Preparing the Data](#1)\n",
    "* &emsp;[1.1. Importing Libraries](#11)\n",
    "* [2. Data Cleaning](#2)\n",
    "* &emsp;[2.1. Identifying Missing Values](#21)\n",
    "* &emsp;[2.2. Dealing with Missing Values](#22)\n",
    "* &emsp;[2.3. Removing Rows](#23)\n",
    "* &emsp;[2.4. Finding Outliers](#24)\n",
    "* &emsp;&emsp;[2.4.1. IQR Score Method](#241)\n",
    "* &emsp;[2.5. Box Plot](#25)\n",
    "* [3. Data Transformation](#3)\n",
    "* &emsp;[3.1. Binning](#31)\n",
    "* &emsp;[3.2. Normalization](#32)\n",
    "* &emsp;&emsp;[3.2.1. Z-score Method](#33)\n",
    "* [4. Results](#4)\n",
    "* &emsp;[4.1. Data Cleaning](#41)\n",
    "* &emsp;[4.2. Data Transformation](#42)"
   ]
  },
  {
   "cell_type": "markdown",
   "metadata": {},
   "source": [
    "# 1. Preparing the Data <a class=\"anchor\" id=\"1\"></a>"
   ]
  },
  {
   "cell_type": "markdown",
   "metadata": {},
   "source": [
    "## 1.1. Importing Libraries <a class=\"anchor\" id=\"11\"></a>"
   ]
  },
  {
   "cell_type": "code",
   "execution_count": 36,
   "metadata": {},
   "outputs": [],
   "source": [
    "import pandas as pd \n",
    "import numpy as np  \n",
    "import matplotlib.pyplot as plt \n",
    "import seaborn as sns\n",
    "from sklearn.preprocessing import StandardScaler\n",
    "\n",
    "%matplotlib inline  \n",
    "plt.style.use('fivethirtyeight')"
   ]
  },
  {
   "cell_type": "markdown",
   "metadata": {},
   "source": [
    "# 2. Data Cleaning <a class=\"anchor\" id=\"2\"></a>"
   ]
  },
  {
   "cell_type": "markdown",
   "metadata": {},
   "source": [
    "## 2.1. Identifying Missing Values <a class=\"anchor\" id=\"21\"></a>"
   ]
  },
  {
   "cell_type": "code",
   "execution_count": 37,
   "metadata": {},
   "outputs": [],
   "source": [
    "df = pd.read_csv('data/raw_training_data.csv')"
   ]
  },
  {
   "cell_type": "code",
   "execution_count": 38,
   "metadata": {},
   "outputs": [],
   "source": [
    "categorical_features = ['company','country','genre','rating','released','star','year',\n",
    "                        'writer','adult','original_title','overview','title','genres_edited',\n",
    "                        'spoken_languages_edited','production_countries_edited','keywords_edited']\n",
    "continuous_features = ['budget','score','votes']\n",
    "target_features = ['isprofit','profitability_ratio']"
   ]
  },
  {
   "cell_type": "code",
   "execution_count": 39,
   "metadata": {},
   "outputs": [
    {
     "data": {
      "text/plain": [
       "(3524, 28)"
      ]
     },
     "execution_count": 39,
     "metadata": {},
     "output_type": "execute_result"
    }
   ],
   "source": [
    "df.shape # (# rows, # cols)"
   ]
  },
  {
   "cell_type": "code",
   "execution_count": 40,
   "metadata": {},
   "outputs": [
    {
     "data": {
      "text/html": [
       "<div>\n",
       "<style scoped>\n",
       "    .dataframe tbody tr th:only-of-type {\n",
       "        vertical-align: middle;\n",
       "    }\n",
       "\n",
       "    .dataframe tbody tr th {\n",
       "        vertical-align: top;\n",
       "    }\n",
       "\n",
       "    .dataframe thead th {\n",
       "        text-align: right;\n",
       "    }\n",
       "</style>\n",
       "<table border=\"1\" class=\"dataframe\">\n",
       "  <thead>\n",
       "    <tr style=\"text-align: right;\">\n",
       "      <th></th>\n",
       "      <th>Unnamed: 0</th>\n",
       "      <th>budget</th>\n",
       "      <th>company</th>\n",
       "      <th>country</th>\n",
       "      <th>genre</th>\n",
       "      <th>gross</th>\n",
       "      <th>name</th>\n",
       "      <th>rating</th>\n",
       "      <th>released</th>\n",
       "      <th>score</th>\n",
       "      <th>...</th>\n",
       "      <th>id</th>\n",
       "      <th>imdb_id</th>\n",
       "      <th>original_title</th>\n",
       "      <th>overview</th>\n",
       "      <th>title</th>\n",
       "      <th>genres_edited</th>\n",
       "      <th>spoken_languages_edited</th>\n",
       "      <th>production_countries_edited</th>\n",
       "      <th>keywords_edited</th>\n",
       "      <th>year_released</th>\n",
       "    </tr>\n",
       "  </thead>\n",
       "  <tbody>\n",
       "    <tr>\n",
       "      <th>0</th>\n",
       "      <td>0</td>\n",
       "      <td>8000000</td>\n",
       "      <td>Columbia Pictures Corporation</td>\n",
       "      <td>USA</td>\n",
       "      <td>Adventure</td>\n",
       "      <td>52287414</td>\n",
       "      <td>Stand by Me</td>\n",
       "      <td>R</td>\n",
       "      <td>22.08.1986 00:00</td>\n",
       "      <td>8.1</td>\n",
       "      <td>...</td>\n",
       "      <td>235</td>\n",
       "      <td>tt0092005</td>\n",
       "      <td>Stand by Me</td>\n",
       "      <td>After the death of a friend, a writer recounts...</td>\n",
       "      <td>Stand by Me</td>\n",
       "      <td>Crime, Drama</td>\n",
       "      <td>en</td>\n",
       "      <td>US</td>\n",
       "      <td>based on novel, friendship, coming of age, rai...</td>\n",
       "      <td>1986</td>\n",
       "    </tr>\n",
       "    <tr>\n",
       "      <th>1</th>\n",
       "      <td>1</td>\n",
       "      <td>6000000</td>\n",
       "      <td>Paramount Pictures</td>\n",
       "      <td>USA</td>\n",
       "      <td>Comedy</td>\n",
       "      <td>70136369</td>\n",
       "      <td>Ferris Bueller's Day Off</td>\n",
       "      <td>PG-13</td>\n",
       "      <td>11.06.1986 00:00</td>\n",
       "      <td>7.8</td>\n",
       "      <td>...</td>\n",
       "      <td>9377</td>\n",
       "      <td>tt0091042</td>\n",
       "      <td>Ferris Bueller's Day Off</td>\n",
       "      <td>Charismatic teen Ferris Bueller plays hooky in...</td>\n",
       "      <td>Ferris Bueller's Day Off</td>\n",
       "      <td>Comedy</td>\n",
       "      <td>en</td>\n",
       "      <td>US</td>\n",
       "      <td>chicago, high school, aftercreditsstinger, dur...</td>\n",
       "      <td>1986</td>\n",
       "    </tr>\n",
       "    <tr>\n",
       "      <th>2</th>\n",
       "      <td>2</td>\n",
       "      <td>15000000</td>\n",
       "      <td>Paramount Pictures</td>\n",
       "      <td>USA</td>\n",
       "      <td>Action</td>\n",
       "      <td>179800601</td>\n",
       "      <td>Top Gun</td>\n",
       "      <td>PG</td>\n",
       "      <td>16.05.1986 00:00</td>\n",
       "      <td>6.9</td>\n",
       "      <td>...</td>\n",
       "      <td>744</td>\n",
       "      <td>tt0092099</td>\n",
       "      <td>Top Gun</td>\n",
       "      <td>For Lieutenant Pete 'Maverick' Mitchell and hi...</td>\n",
       "      <td>Top Gun</td>\n",
       "      <td>Action, Romance, War</td>\n",
       "      <td>en</td>\n",
       "      <td>US</td>\n",
       "      <td>lovesickness, loss of lover, fighter pilot, se...</td>\n",
       "      <td>1986</td>\n",
       "    </tr>\n",
       "    <tr>\n",
       "      <th>3</th>\n",
       "      <td>3</td>\n",
       "      <td>18500000</td>\n",
       "      <td>Twentieth Century Fox Film Corporation</td>\n",
       "      <td>USA</td>\n",
       "      <td>Action</td>\n",
       "      <td>85160248</td>\n",
       "      <td>Aliens</td>\n",
       "      <td>R</td>\n",
       "      <td>18.07.1986 00:00</td>\n",
       "      <td>8.4</td>\n",
       "      <td>...</td>\n",
       "      <td>679</td>\n",
       "      <td>tt0090605</td>\n",
       "      <td>Aliens</td>\n",
       "      <td>When Ripley's lifepod is found by a salvage cr...</td>\n",
       "      <td>Aliens</td>\n",
       "      <td>Horror, Action, Thriller, Science Fiction</td>\n",
       "      <td>en</td>\n",
       "      <td>GB, US</td>\n",
       "      <td>android, extraterrestrial technology, space ma...</td>\n",
       "      <td>1986</td>\n",
       "    </tr>\n",
       "    <tr>\n",
       "      <th>4</th>\n",
       "      <td>4</td>\n",
       "      <td>9000000</td>\n",
       "      <td>Walt Disney Pictures</td>\n",
       "      <td>USA</td>\n",
       "      <td>Adventure</td>\n",
       "      <td>18564613</td>\n",
       "      <td>Flight of the Navigator</td>\n",
       "      <td>PG</td>\n",
       "      <td>1.08.1986 00:00</td>\n",
       "      <td>6.9</td>\n",
       "      <td>...</td>\n",
       "      <td>10122</td>\n",
       "      <td>tt0091059</td>\n",
       "      <td>Flight of the Navigator</td>\n",
       "      <td>This 1986 Disney adventure tells the story of ...</td>\n",
       "      <td>Flight of the Navigator</td>\n",
       "      <td>Family, Science Fiction, Adventure</td>\n",
       "      <td>en</td>\n",
       "      <td>US</td>\n",
       "      <td>artificial intelligence, farewell, homesicknes...</td>\n",
       "      <td>1986</td>\n",
       "    </tr>\n",
       "  </tbody>\n",
       "</table>\n",
       "<p>5 rows × 28 columns</p>\n",
       "</div>"
      ],
      "text/plain": [
       "   Unnamed: 0    budget                                 company country  \\\n",
       "0           0   8000000           Columbia Pictures Corporation     USA   \n",
       "1           1   6000000                      Paramount Pictures     USA   \n",
       "2           2  15000000                      Paramount Pictures     USA   \n",
       "3           3  18500000  Twentieth Century Fox Film Corporation     USA   \n",
       "4           4   9000000                    Walt Disney Pictures     USA   \n",
       "\n",
       "       genre      gross                      name rating          released  \\\n",
       "0  Adventure   52287414               Stand by Me      R  22.08.1986 00:00   \n",
       "1     Comedy   70136369  Ferris Bueller's Day Off  PG-13  11.06.1986 00:00   \n",
       "2     Action  179800601                   Top Gun     PG  16.05.1986 00:00   \n",
       "3     Action   85160248                    Aliens      R  18.07.1986 00:00   \n",
       "4  Adventure   18564613   Flight of the Navigator     PG   1.08.1986 00:00   \n",
       "\n",
       "   score  ...     id    imdb_id            original_title  \\\n",
       "0    8.1  ...    235  tt0092005               Stand by Me   \n",
       "1    7.8  ...   9377  tt0091042  Ferris Bueller's Day Off   \n",
       "2    6.9  ...    744  tt0092099                   Top Gun   \n",
       "3    8.4  ...    679  tt0090605                    Aliens   \n",
       "4    6.9  ...  10122  tt0091059   Flight of the Navigator   \n",
       "\n",
       "                                            overview  \\\n",
       "0  After the death of a friend, a writer recounts...   \n",
       "1  Charismatic teen Ferris Bueller plays hooky in...   \n",
       "2  For Lieutenant Pete 'Maverick' Mitchell and hi...   \n",
       "3  When Ripley's lifepod is found by a salvage cr...   \n",
       "4  This 1986 Disney adventure tells the story of ...   \n",
       "\n",
       "                      title                              genres_edited  \\\n",
       "0               Stand by Me                               Crime, Drama   \n",
       "1  Ferris Bueller's Day Off                                     Comedy   \n",
       "2                   Top Gun                       Action, Romance, War   \n",
       "3                    Aliens  Horror, Action, Thriller, Science Fiction   \n",
       "4   Flight of the Navigator         Family, Science Fiction, Adventure   \n",
       "\n",
       "   spoken_languages_edited production_countries_edited  \\\n",
       "0                       en                          US   \n",
       "1                       en                          US   \n",
       "2                       en                          US   \n",
       "3                       en                      GB, US   \n",
       "4                       en                          US   \n",
       "\n",
       "                                     keywords_edited year_released  \n",
       "0  based on novel, friendship, coming of age, rai...          1986  \n",
       "1  chicago, high school, aftercreditsstinger, dur...          1986  \n",
       "2  lovesickness, loss of lover, fighter pilot, se...          1986  \n",
       "3  android, extraterrestrial technology, space ma...          1986  \n",
       "4  artificial intelligence, farewell, homesicknes...          1986  \n",
       "\n",
       "[5 rows x 28 columns]"
      ]
     },
     "execution_count": 40,
     "metadata": {},
     "output_type": "execute_result"
    }
   ],
   "source": [
    "df.head() # take a peak at the dataset"
   ]
  },
  {
   "cell_type": "code",
   "execution_count": 41,
   "metadata": {},
   "outputs": [],
   "source": [
    "del df['Unnamed: 0']"
   ]
  },
  {
   "cell_type": "code",
   "execution_count": 42,
   "metadata": {},
   "outputs": [
    {
     "name": "stdout",
     "output_type": "stream",
     "text": [
      "<class 'pandas.core.frame.DataFrame'>\n",
      "RangeIndex: 3524 entries, 0 to 3523\n",
      "Data columns (total 27 columns):\n",
      " #   Column                       Non-Null Count  Dtype  \n",
      "---  ------                       --------------  -----  \n",
      " 0   budget                       3524 non-null   int64  \n",
      " 1   company                      3524 non-null   object \n",
      " 2   country                      3524 non-null   object \n",
      " 3   genre                        3524 non-null   object \n",
      " 4   gross                        3524 non-null   int64  \n",
      " 5   name                         3524 non-null   object \n",
      " 6   rating                       3524 non-null   object \n",
      " 7   released                     3524 non-null   object \n",
      " 8   score                        3524 non-null   float64\n",
      " 9   star                         3524 non-null   object \n",
      " 10  votes                        3524 non-null   int64  \n",
      " 11  writer                       3524 non-null   object \n",
      " 12  year                         3524 non-null   int64  \n",
      " 13  isprofit                     3524 non-null   int64  \n",
      " 14  profitability_ratio          3524 non-null   float64\n",
      " 15  profitability_ratio_bucket   3524 non-null   int64  \n",
      " 16  adult                        3524 non-null   object \n",
      " 17  id                           3524 non-null   int64  \n",
      " 18  imdb_id                      3524 non-null   object \n",
      " 19  original_title               3524 non-null   object \n",
      " 20  overview                     3523 non-null   object \n",
      " 21  title                        3524 non-null   object \n",
      " 22  genres_edited                3524 non-null   object \n",
      " 23  spoken_languages_edited      3517 non-null   object \n",
      " 24  production_countries_edited  3493 non-null   object \n",
      " 25  keywords_edited              3357 non-null   object \n",
      " 26  year_released                3524 non-null   int64  \n",
      "dtypes: float64(2), int64(8), object(17)\n",
      "memory usage: 509.4+ KB\n"
     ]
    }
   ],
   "source": [
    "df.info()"
   ]
  },
  {
   "cell_type": "code",
   "execution_count": 43,
   "metadata": {},
   "outputs": [
    {
     "data": {
      "text/plain": [
       "budget                           0\n",
       "company                          0\n",
       "country                          0\n",
       "genre                            0\n",
       "gross                            0\n",
       "name                             0\n",
       "rating                           0\n",
       "released                         0\n",
       "score                            0\n",
       "star                             0\n",
       "votes                            0\n",
       "writer                           0\n",
       "year                             0\n",
       "isprofit                         0\n",
       "profitability_ratio              0\n",
       "profitability_ratio_bucket       0\n",
       "adult                            0\n",
       "id                               0\n",
       "imdb_id                          0\n",
       "original_title                   0\n",
       "overview                         1\n",
       "title                            0\n",
       "genres_edited                    0\n",
       "spoken_languages_edited          7\n",
       "production_countries_edited     31\n",
       "keywords_edited                167\n",
       "year_released                    0\n",
       "dtype: int64"
      ]
     },
     "execution_count": 43,
     "metadata": {},
     "output_type": "execute_result"
    }
   ],
   "source": [
    "df.isnull().sum()"
   ]
  },
  {
   "cell_type": "code",
   "execution_count": 44,
   "metadata": {},
   "outputs": [
    {
     "data": {
      "text/html": [
       "<div>\n",
       "<style scoped>\n",
       "    .dataframe tbody tr th:only-of-type {\n",
       "        vertical-align: middle;\n",
       "    }\n",
       "\n",
       "    .dataframe tbody tr th {\n",
       "        vertical-align: top;\n",
       "    }\n",
       "\n",
       "    .dataframe thead th {\n",
       "        text-align: right;\n",
       "    }\n",
       "</style>\n",
       "<table border=\"1\" class=\"dataframe\">\n",
       "  <thead>\n",
       "    <tr style=\"text-align: right;\">\n",
       "      <th></th>\n",
       "      <th>budget</th>\n",
       "      <th>gross</th>\n",
       "      <th>score</th>\n",
       "      <th>votes</th>\n",
       "      <th>year</th>\n",
       "      <th>isprofit</th>\n",
       "      <th>profitability_ratio</th>\n",
       "      <th>profitability_ratio_bucket</th>\n",
       "      <th>id</th>\n",
       "      <th>year_released</th>\n",
       "    </tr>\n",
       "  </thead>\n",
       "  <tbody>\n",
       "    <tr>\n",
       "      <th>count</th>\n",
       "      <td>3.524000e+03</td>\n",
       "      <td>3.524000e+03</td>\n",
       "      <td>3524.000000</td>\n",
       "      <td>3.524000e+03</td>\n",
       "      <td>3524.000000</td>\n",
       "      <td>3524.000000</td>\n",
       "      <td>3524.000000</td>\n",
       "      <td>3524.000000</td>\n",
       "      <td>3524.000000</td>\n",
       "      <td>3524.000000</td>\n",
       "    </tr>\n",
       "    <tr>\n",
       "      <th>mean</th>\n",
       "      <td>3.646837e+07</td>\n",
       "      <td>4.772520e+07</td>\n",
       "      <td>6.339018</td>\n",
       "      <td>9.928306e+04</td>\n",
       "      <td>1997.125709</td>\n",
       "      <td>0.510499</td>\n",
       "      <td>3.996876</td>\n",
       "      <td>399.602157</td>\n",
       "      <td>45443.112656</td>\n",
       "      <td>2002.385641</td>\n",
       "    </tr>\n",
       "    <tr>\n",
       "      <th>std</th>\n",
       "      <td>4.063369e+07</td>\n",
       "      <td>6.707121e+07</td>\n",
       "      <td>1.056288</td>\n",
       "      <td>1.568040e+05</td>\n",
       "      <td>101.418026</td>\n",
       "      <td>0.499961</td>\n",
       "      <td>127.868810</td>\n",
       "      <td>12786.904323</td>\n",
       "      <td>77014.289184</td>\n",
       "      <td>8.422442</td>\n",
       "    </tr>\n",
       "    <tr>\n",
       "      <th>min</th>\n",
       "      <td>0.000000e+00</td>\n",
       "      <td>0.000000e+00</td>\n",
       "      <td>0.000000</td>\n",
       "      <td>0.000000e+00</td>\n",
       "      <td>0.000000</td>\n",
       "      <td>0.000000</td>\n",
       "      <td>-0.999979</td>\n",
       "      <td>-100.000000</td>\n",
       "      <td>0.000000</td>\n",
       "      <td>1986.000000</td>\n",
       "    </tr>\n",
       "    <tr>\n",
       "      <th>25%</th>\n",
       "      <td>1.000000e+07</td>\n",
       "      <td>6.955428e+06</td>\n",
       "      <td>5.800000</td>\n",
       "      <td>1.554475e+04</td>\n",
       "      <td>1996.000000</td>\n",
       "      <td>0.000000</td>\n",
       "      <td>-0.552571</td>\n",
       "      <td>-60.000000</td>\n",
       "      <td>8864.750000</td>\n",
       "      <td>1996.000000</td>\n",
       "    </tr>\n",
       "    <tr>\n",
       "      <th>50%</th>\n",
       "      <td>2.300000e+07</td>\n",
       "      <td>2.511110e+07</td>\n",
       "      <td>6.400000</td>\n",
       "      <td>4.403550e+04</td>\n",
       "      <td>2002.000000</td>\n",
       "      <td>1.000000</td>\n",
       "      <td>0.020240</td>\n",
       "      <td>0.000000</td>\n",
       "      <td>12513.500000</td>\n",
       "      <td>2003.000000</td>\n",
       "    </tr>\n",
       "    <tr>\n",
       "      <th>75%</th>\n",
       "      <td>4.800000e+07</td>\n",
       "      <td>6.036672e+07</td>\n",
       "      <td>7.000000</td>\n",
       "      <td>1.148628e+05</td>\n",
       "      <td>2009.000000</td>\n",
       "      <td>1.000000</td>\n",
       "      <td>1.029155</td>\n",
       "      <td>100.000000</td>\n",
       "      <td>41220.250000</td>\n",
       "      <td>2010.000000</td>\n",
       "    </tr>\n",
       "    <tr>\n",
       "      <th>max</th>\n",
       "      <td>3.000000e+08</td>\n",
       "      <td>9.366622e+08</td>\n",
       "      <td>9.300000</td>\n",
       "      <td>1.861666e+06</td>\n",
       "      <td>2016.000000</td>\n",
       "      <td>1.000000</td>\n",
       "      <td>7193.587333</td>\n",
       "      <td>719360.000000</td>\n",
       "      <td>404378.000000</td>\n",
       "      <td>2017.000000</td>\n",
       "    </tr>\n",
       "  </tbody>\n",
       "</table>\n",
       "</div>"
      ],
      "text/plain": [
       "             budget         gross        score         votes         year  \\\n",
       "count  3.524000e+03  3.524000e+03  3524.000000  3.524000e+03  3524.000000   \n",
       "mean   3.646837e+07  4.772520e+07     6.339018  9.928306e+04  1997.125709   \n",
       "std    4.063369e+07  6.707121e+07     1.056288  1.568040e+05   101.418026   \n",
       "min    0.000000e+00  0.000000e+00     0.000000  0.000000e+00     0.000000   \n",
       "25%    1.000000e+07  6.955428e+06     5.800000  1.554475e+04  1996.000000   \n",
       "50%    2.300000e+07  2.511110e+07     6.400000  4.403550e+04  2002.000000   \n",
       "75%    4.800000e+07  6.036672e+07     7.000000  1.148628e+05  2009.000000   \n",
       "max    3.000000e+08  9.366622e+08     9.300000  1.861666e+06  2016.000000   \n",
       "\n",
       "          isprofit  profitability_ratio  profitability_ratio_bucket  \\\n",
       "count  3524.000000          3524.000000                 3524.000000   \n",
       "mean      0.510499             3.996876                  399.602157   \n",
       "std       0.499961           127.868810                12786.904323   \n",
       "min       0.000000            -0.999979                 -100.000000   \n",
       "25%       0.000000            -0.552571                  -60.000000   \n",
       "50%       1.000000             0.020240                    0.000000   \n",
       "75%       1.000000             1.029155                  100.000000   \n",
       "max       1.000000          7193.587333               719360.000000   \n",
       "\n",
       "                  id  year_released  \n",
       "count    3524.000000    3524.000000  \n",
       "mean    45443.112656    2002.385641  \n",
       "std     77014.289184       8.422442  \n",
       "min         0.000000    1986.000000  \n",
       "25%      8864.750000    1996.000000  \n",
       "50%     12513.500000    2003.000000  \n",
       "75%     41220.250000    2010.000000  \n",
       "max    404378.000000    2017.000000  "
      ]
     },
     "execution_count": 44,
     "metadata": {},
     "output_type": "execute_result"
    }
   ],
   "source": [
    "df.describe()   # before replacing zero with None"
   ]
  },
  {
   "cell_type": "markdown",
   "metadata": {},
   "source": [
    "## 2.2. Dealing with Missing Values <a class=\"anchor\" id=\"22\"></a>"
   ]
  },
  {
   "cell_type": "markdown",
   "metadata": {},
   "source": [
    "By observing the data, we see that only the following columns need initial transformation to replace zeros with the value None:\n",
    "* overview\n",
    "* tagline\n",
    "* spoken_languages_edited\n",
    "* production_countries_edited\n",
    "* keywords_edited\n",
    "\n",
    "And the remaining features do not have to change since they do not contain zero values."
   ]
  },
  {
   "cell_type": "code",
   "execution_count": 45,
   "metadata": {},
   "outputs": [],
   "source": [
    "df['overview'] = df['overview'].map(lambda x:x if x != 0 else None)\n",
    "#df['tagline'] = df['tagline'].map(lambda x:x if x != 0 else None)\n",
    "df['spoken_languages_edited'] = df['spoken_languages_edited'].map(lambda x:x if x != 0 else None)\n",
    "df['production_countries_edited'] = df['production_countries_edited'].map(lambda x:x if x != 0 else None)\n",
    "df['keywords_edited'] = df['keywords_edited'].map(lambda x:x if x != 0 else None)"
   ]
  },
  {
   "cell_type": "code",
   "execution_count": 46,
   "metadata": {},
   "outputs": [
    {
     "data": {
      "text/html": [
       "<div>\n",
       "<style scoped>\n",
       "    .dataframe tbody tr th:only-of-type {\n",
       "        vertical-align: middle;\n",
       "    }\n",
       "\n",
       "    .dataframe tbody tr th {\n",
       "        vertical-align: top;\n",
       "    }\n",
       "\n",
       "    .dataframe thead th {\n",
       "        text-align: right;\n",
       "    }\n",
       "</style>\n",
       "<table border=\"1\" class=\"dataframe\">\n",
       "  <thead>\n",
       "    <tr style=\"text-align: right;\">\n",
       "      <th></th>\n",
       "      <th>budget</th>\n",
       "      <th>company</th>\n",
       "      <th>country</th>\n",
       "      <th>genre</th>\n",
       "      <th>gross</th>\n",
       "      <th>name</th>\n",
       "      <th>rating</th>\n",
       "      <th>released</th>\n",
       "      <th>score</th>\n",
       "      <th>star</th>\n",
       "      <th>...</th>\n",
       "      <th>id</th>\n",
       "      <th>imdb_id</th>\n",
       "      <th>original_title</th>\n",
       "      <th>overview</th>\n",
       "      <th>title</th>\n",
       "      <th>genres_edited</th>\n",
       "      <th>spoken_languages_edited</th>\n",
       "      <th>production_countries_edited</th>\n",
       "      <th>keywords_edited</th>\n",
       "      <th>year_released</th>\n",
       "    </tr>\n",
       "  </thead>\n",
       "  <tbody>\n",
       "    <tr>\n",
       "      <th>0</th>\n",
       "      <td>8000000</td>\n",
       "      <td>Columbia Pictures Corporation</td>\n",
       "      <td>USA</td>\n",
       "      <td>Adventure</td>\n",
       "      <td>52287414</td>\n",
       "      <td>Stand by Me</td>\n",
       "      <td>R</td>\n",
       "      <td>22.08.1986 00:00</td>\n",
       "      <td>8.1</td>\n",
       "      <td>Wil Wheaton</td>\n",
       "      <td>...</td>\n",
       "      <td>235</td>\n",
       "      <td>tt0092005</td>\n",
       "      <td>Stand by Me</td>\n",
       "      <td>After the death of a friend, a writer recounts...</td>\n",
       "      <td>Stand by Me</td>\n",
       "      <td>Crime, Drama</td>\n",
       "      <td>en</td>\n",
       "      <td>US</td>\n",
       "      <td>based on novel, friendship, coming of age, rai...</td>\n",
       "      <td>1986</td>\n",
       "    </tr>\n",
       "    <tr>\n",
       "      <th>1</th>\n",
       "      <td>6000000</td>\n",
       "      <td>Paramount Pictures</td>\n",
       "      <td>USA</td>\n",
       "      <td>Comedy</td>\n",
       "      <td>70136369</td>\n",
       "      <td>Ferris Bueller's Day Off</td>\n",
       "      <td>PG-13</td>\n",
       "      <td>11.06.1986 00:00</td>\n",
       "      <td>7.8</td>\n",
       "      <td>Matthew Broderick</td>\n",
       "      <td>...</td>\n",
       "      <td>9377</td>\n",
       "      <td>tt0091042</td>\n",
       "      <td>Ferris Bueller's Day Off</td>\n",
       "      <td>Charismatic teen Ferris Bueller plays hooky in...</td>\n",
       "      <td>Ferris Bueller's Day Off</td>\n",
       "      <td>Comedy</td>\n",
       "      <td>en</td>\n",
       "      <td>US</td>\n",
       "      <td>chicago, high school, aftercreditsstinger, dur...</td>\n",
       "      <td>1986</td>\n",
       "    </tr>\n",
       "    <tr>\n",
       "      <th>2</th>\n",
       "      <td>15000000</td>\n",
       "      <td>Paramount Pictures</td>\n",
       "      <td>USA</td>\n",
       "      <td>Action</td>\n",
       "      <td>179800601</td>\n",
       "      <td>Top Gun</td>\n",
       "      <td>PG</td>\n",
       "      <td>16.05.1986 00:00</td>\n",
       "      <td>6.9</td>\n",
       "      <td>Tom Cruise</td>\n",
       "      <td>...</td>\n",
       "      <td>744</td>\n",
       "      <td>tt0092099</td>\n",
       "      <td>Top Gun</td>\n",
       "      <td>For Lieutenant Pete 'Maverick' Mitchell and hi...</td>\n",
       "      <td>Top Gun</td>\n",
       "      <td>Action, Romance, War</td>\n",
       "      <td>en</td>\n",
       "      <td>US</td>\n",
       "      <td>lovesickness, loss of lover, fighter pilot, se...</td>\n",
       "      <td>1986</td>\n",
       "    </tr>\n",
       "    <tr>\n",
       "      <th>3</th>\n",
       "      <td>18500000</td>\n",
       "      <td>Twentieth Century Fox Film Corporation</td>\n",
       "      <td>USA</td>\n",
       "      <td>Action</td>\n",
       "      <td>85160248</td>\n",
       "      <td>Aliens</td>\n",
       "      <td>R</td>\n",
       "      <td>18.07.1986 00:00</td>\n",
       "      <td>8.4</td>\n",
       "      <td>Sigourney Weaver</td>\n",
       "      <td>...</td>\n",
       "      <td>679</td>\n",
       "      <td>tt0090605</td>\n",
       "      <td>Aliens</td>\n",
       "      <td>When Ripley's lifepod is found by a salvage cr...</td>\n",
       "      <td>Aliens</td>\n",
       "      <td>Horror, Action, Thriller, Science Fiction</td>\n",
       "      <td>en</td>\n",
       "      <td>GB, US</td>\n",
       "      <td>android, extraterrestrial technology, space ma...</td>\n",
       "      <td>1986</td>\n",
       "    </tr>\n",
       "    <tr>\n",
       "      <th>4</th>\n",
       "      <td>9000000</td>\n",
       "      <td>Walt Disney Pictures</td>\n",
       "      <td>USA</td>\n",
       "      <td>Adventure</td>\n",
       "      <td>18564613</td>\n",
       "      <td>Flight of the Navigator</td>\n",
       "      <td>PG</td>\n",
       "      <td>1.08.1986 00:00</td>\n",
       "      <td>6.9</td>\n",
       "      <td>Joey Cramer</td>\n",
       "      <td>...</td>\n",
       "      <td>10122</td>\n",
       "      <td>tt0091059</td>\n",
       "      <td>Flight of the Navigator</td>\n",
       "      <td>This 1986 Disney adventure tells the story of ...</td>\n",
       "      <td>Flight of the Navigator</td>\n",
       "      <td>Family, Science Fiction, Adventure</td>\n",
       "      <td>en</td>\n",
       "      <td>US</td>\n",
       "      <td>artificial intelligence, farewell, homesicknes...</td>\n",
       "      <td>1986</td>\n",
       "    </tr>\n",
       "  </tbody>\n",
       "</table>\n",
       "<p>5 rows × 27 columns</p>\n",
       "</div>"
      ],
      "text/plain": [
       "     budget                                 company country      genre  \\\n",
       "0   8000000           Columbia Pictures Corporation     USA  Adventure   \n",
       "1   6000000                      Paramount Pictures     USA     Comedy   \n",
       "2  15000000                      Paramount Pictures     USA     Action   \n",
       "3  18500000  Twentieth Century Fox Film Corporation     USA     Action   \n",
       "4   9000000                    Walt Disney Pictures     USA  Adventure   \n",
       "\n",
       "       gross                      name rating          released  score  \\\n",
       "0   52287414               Stand by Me      R  22.08.1986 00:00    8.1   \n",
       "1   70136369  Ferris Bueller's Day Off  PG-13  11.06.1986 00:00    7.8   \n",
       "2  179800601                   Top Gun     PG  16.05.1986 00:00    6.9   \n",
       "3   85160248                    Aliens      R  18.07.1986 00:00    8.4   \n",
       "4   18564613   Flight of the Navigator     PG   1.08.1986 00:00    6.9   \n",
       "\n",
       "                star  ...     id    imdb_id            original_title  \\\n",
       "0        Wil Wheaton  ...    235  tt0092005               Stand by Me   \n",
       "1  Matthew Broderick  ...   9377  tt0091042  Ferris Bueller's Day Off   \n",
       "2         Tom Cruise  ...    744  tt0092099                   Top Gun   \n",
       "3   Sigourney Weaver  ...    679  tt0090605                    Aliens   \n",
       "4        Joey Cramer  ...  10122  tt0091059   Flight of the Navigator   \n",
       "\n",
       "                                            overview  \\\n",
       "0  After the death of a friend, a writer recounts...   \n",
       "1  Charismatic teen Ferris Bueller plays hooky in...   \n",
       "2  For Lieutenant Pete 'Maverick' Mitchell and hi...   \n",
       "3  When Ripley's lifepod is found by a salvage cr...   \n",
       "4  This 1986 Disney adventure tells the story of ...   \n",
       "\n",
       "                      title                              genres_edited  \\\n",
       "0               Stand by Me                               Crime, Drama   \n",
       "1  Ferris Bueller's Day Off                                     Comedy   \n",
       "2                   Top Gun                       Action, Romance, War   \n",
       "3                    Aliens  Horror, Action, Thriller, Science Fiction   \n",
       "4   Flight of the Navigator         Family, Science Fiction, Adventure   \n",
       "\n",
       "  spoken_languages_edited  production_countries_edited  \\\n",
       "0                      en                           US   \n",
       "1                      en                           US   \n",
       "2                      en                           US   \n",
       "3                      en                       GB, US   \n",
       "4                      en                           US   \n",
       "\n",
       "                                     keywords_edited year_released  \n",
       "0  based on novel, friendship, coming of age, rai...          1986  \n",
       "1  chicago, high school, aftercreditsstinger, dur...          1986  \n",
       "2  lovesickness, loss of lover, fighter pilot, se...          1986  \n",
       "3  android, extraterrestrial technology, space ma...          1986  \n",
       "4  artificial intelligence, farewell, homesicknes...          1986  \n",
       "\n",
       "[5 rows x 27 columns]"
      ]
     },
     "execution_count": 46,
     "metadata": {},
     "output_type": "execute_result"
    }
   ],
   "source": [
    "df.head()   # take a peak at the dataset"
   ]
  },
  {
   "cell_type": "code",
   "execution_count": 47,
   "metadata": {},
   "outputs": [
    {
     "name": "stdout",
     "output_type": "stream",
     "text": [
      "<class 'pandas.core.frame.DataFrame'>\n",
      "RangeIndex: 3524 entries, 0 to 3523\n",
      "Data columns (total 27 columns):\n",
      " #   Column                       Non-Null Count  Dtype  \n",
      "---  ------                       --------------  -----  \n",
      " 0   budget                       3524 non-null   int64  \n",
      " 1   company                      3524 non-null   object \n",
      " 2   country                      3524 non-null   object \n",
      " 3   genre                        3524 non-null   object \n",
      " 4   gross                        3524 non-null   int64  \n",
      " 5   name                         3524 non-null   object \n",
      " 6   rating                       3524 non-null   object \n",
      " 7   released                     3524 non-null   object \n",
      " 8   score                        3524 non-null   float64\n",
      " 9   star                         3524 non-null   object \n",
      " 10  votes                        3524 non-null   int64  \n",
      " 11  writer                       3524 non-null   object \n",
      " 12  year                         3524 non-null   int64  \n",
      " 13  isprofit                     3524 non-null   int64  \n",
      " 14  profitability_ratio          3524 non-null   float64\n",
      " 15  profitability_ratio_bucket   3524 non-null   int64  \n",
      " 16  adult                        3524 non-null   object \n",
      " 17  id                           3524 non-null   int64  \n",
      " 18  imdb_id                      3524 non-null   object \n",
      " 19  original_title               3524 non-null   object \n",
      " 20  overview                     3523 non-null   object \n",
      " 21  title                        3524 non-null   object \n",
      " 22  genres_edited                3524 non-null   object \n",
      " 23  spoken_languages_edited      3517 non-null   object \n",
      " 24  production_countries_edited  3493 non-null   object \n",
      " 25  keywords_edited              3357 non-null   object \n",
      " 26  year_released                3524 non-null   int64  \n",
      "dtypes: float64(2), int64(8), object(17)\n",
      "memory usage: 509.4+ KB\n"
     ]
    }
   ],
   "source": [
    "df.info()"
   ]
  },
  {
   "cell_type": "code",
   "execution_count": 48,
   "metadata": {},
   "outputs": [
    {
     "data": {
      "text/plain": [
       "budget                           0\n",
       "company                          0\n",
       "country                          0\n",
       "genre                            0\n",
       "gross                            0\n",
       "name                             0\n",
       "rating                           0\n",
       "released                         0\n",
       "score                            0\n",
       "star                             0\n",
       "votes                            0\n",
       "writer                           0\n",
       "year                             0\n",
       "isprofit                         0\n",
       "profitability_ratio              0\n",
       "profitability_ratio_bucket       0\n",
       "adult                            0\n",
       "id                               0\n",
       "imdb_id                          0\n",
       "original_title                   0\n",
       "overview                         1\n",
       "title                            0\n",
       "genres_edited                    0\n",
       "spoken_languages_edited          7\n",
       "production_countries_edited     31\n",
       "keywords_edited                167\n",
       "year_released                    0\n",
       "dtype: int64"
      ]
     },
     "execution_count": 48,
     "metadata": {},
     "output_type": "execute_result"
    }
   ],
   "source": [
    "df.isnull().sum()"
   ]
  },
  {
   "cell_type": "code",
   "execution_count": 49,
   "metadata": {},
   "outputs": [
    {
     "data": {
      "text/html": [
       "<div>\n",
       "<style scoped>\n",
       "    .dataframe tbody tr th:only-of-type {\n",
       "        vertical-align: middle;\n",
       "    }\n",
       "\n",
       "    .dataframe tbody tr th {\n",
       "        vertical-align: top;\n",
       "    }\n",
       "\n",
       "    .dataframe thead th {\n",
       "        text-align: right;\n",
       "    }\n",
       "</style>\n",
       "<table border=\"1\" class=\"dataframe\">\n",
       "  <thead>\n",
       "    <tr style=\"text-align: right;\">\n",
       "      <th></th>\n",
       "      <th>budget</th>\n",
       "      <th>gross</th>\n",
       "      <th>score</th>\n",
       "      <th>votes</th>\n",
       "      <th>year</th>\n",
       "      <th>isprofit</th>\n",
       "      <th>profitability_ratio</th>\n",
       "      <th>profitability_ratio_bucket</th>\n",
       "      <th>id</th>\n",
       "      <th>year_released</th>\n",
       "    </tr>\n",
       "  </thead>\n",
       "  <tbody>\n",
       "    <tr>\n",
       "      <th>count</th>\n",
       "      <td>3.524000e+03</td>\n",
       "      <td>3.524000e+03</td>\n",
       "      <td>3524.000000</td>\n",
       "      <td>3.524000e+03</td>\n",
       "      <td>3524.000000</td>\n",
       "      <td>3524.000000</td>\n",
       "      <td>3524.000000</td>\n",
       "      <td>3524.000000</td>\n",
       "      <td>3524.000000</td>\n",
       "      <td>3524.000000</td>\n",
       "    </tr>\n",
       "    <tr>\n",
       "      <th>mean</th>\n",
       "      <td>3.646837e+07</td>\n",
       "      <td>4.772520e+07</td>\n",
       "      <td>6.339018</td>\n",
       "      <td>9.928306e+04</td>\n",
       "      <td>1997.125709</td>\n",
       "      <td>0.510499</td>\n",
       "      <td>3.996876</td>\n",
       "      <td>399.602157</td>\n",
       "      <td>45443.112656</td>\n",
       "      <td>2002.385641</td>\n",
       "    </tr>\n",
       "    <tr>\n",
       "      <th>std</th>\n",
       "      <td>4.063369e+07</td>\n",
       "      <td>6.707121e+07</td>\n",
       "      <td>1.056288</td>\n",
       "      <td>1.568040e+05</td>\n",
       "      <td>101.418026</td>\n",
       "      <td>0.499961</td>\n",
       "      <td>127.868810</td>\n",
       "      <td>12786.904323</td>\n",
       "      <td>77014.289184</td>\n",
       "      <td>8.422442</td>\n",
       "    </tr>\n",
       "    <tr>\n",
       "      <th>min</th>\n",
       "      <td>0.000000e+00</td>\n",
       "      <td>0.000000e+00</td>\n",
       "      <td>0.000000</td>\n",
       "      <td>0.000000e+00</td>\n",
       "      <td>0.000000</td>\n",
       "      <td>0.000000</td>\n",
       "      <td>-0.999979</td>\n",
       "      <td>-100.000000</td>\n",
       "      <td>0.000000</td>\n",
       "      <td>1986.000000</td>\n",
       "    </tr>\n",
       "    <tr>\n",
       "      <th>25%</th>\n",
       "      <td>1.000000e+07</td>\n",
       "      <td>6.955428e+06</td>\n",
       "      <td>5.800000</td>\n",
       "      <td>1.554475e+04</td>\n",
       "      <td>1996.000000</td>\n",
       "      <td>0.000000</td>\n",
       "      <td>-0.552571</td>\n",
       "      <td>-60.000000</td>\n",
       "      <td>8864.750000</td>\n",
       "      <td>1996.000000</td>\n",
       "    </tr>\n",
       "    <tr>\n",
       "      <th>50%</th>\n",
       "      <td>2.300000e+07</td>\n",
       "      <td>2.511110e+07</td>\n",
       "      <td>6.400000</td>\n",
       "      <td>4.403550e+04</td>\n",
       "      <td>2002.000000</td>\n",
       "      <td>1.000000</td>\n",
       "      <td>0.020240</td>\n",
       "      <td>0.000000</td>\n",
       "      <td>12513.500000</td>\n",
       "      <td>2003.000000</td>\n",
       "    </tr>\n",
       "    <tr>\n",
       "      <th>75%</th>\n",
       "      <td>4.800000e+07</td>\n",
       "      <td>6.036672e+07</td>\n",
       "      <td>7.000000</td>\n",
       "      <td>1.148628e+05</td>\n",
       "      <td>2009.000000</td>\n",
       "      <td>1.000000</td>\n",
       "      <td>1.029155</td>\n",
       "      <td>100.000000</td>\n",
       "      <td>41220.250000</td>\n",
       "      <td>2010.000000</td>\n",
       "    </tr>\n",
       "    <tr>\n",
       "      <th>max</th>\n",
       "      <td>3.000000e+08</td>\n",
       "      <td>9.366622e+08</td>\n",
       "      <td>9.300000</td>\n",
       "      <td>1.861666e+06</td>\n",
       "      <td>2016.000000</td>\n",
       "      <td>1.000000</td>\n",
       "      <td>7193.587333</td>\n",
       "      <td>719360.000000</td>\n",
       "      <td>404378.000000</td>\n",
       "      <td>2017.000000</td>\n",
       "    </tr>\n",
       "  </tbody>\n",
       "</table>\n",
       "</div>"
      ],
      "text/plain": [
       "             budget         gross        score         votes         year  \\\n",
       "count  3.524000e+03  3.524000e+03  3524.000000  3.524000e+03  3524.000000   \n",
       "mean   3.646837e+07  4.772520e+07     6.339018  9.928306e+04  1997.125709   \n",
       "std    4.063369e+07  6.707121e+07     1.056288  1.568040e+05   101.418026   \n",
       "min    0.000000e+00  0.000000e+00     0.000000  0.000000e+00     0.000000   \n",
       "25%    1.000000e+07  6.955428e+06     5.800000  1.554475e+04  1996.000000   \n",
       "50%    2.300000e+07  2.511110e+07     6.400000  4.403550e+04  2002.000000   \n",
       "75%    4.800000e+07  6.036672e+07     7.000000  1.148628e+05  2009.000000   \n",
       "max    3.000000e+08  9.366622e+08     9.300000  1.861666e+06  2016.000000   \n",
       "\n",
       "          isprofit  profitability_ratio  profitability_ratio_bucket  \\\n",
       "count  3524.000000          3524.000000                 3524.000000   \n",
       "mean      0.510499             3.996876                  399.602157   \n",
       "std       0.499961           127.868810                12786.904323   \n",
       "min       0.000000            -0.999979                 -100.000000   \n",
       "25%       0.000000            -0.552571                  -60.000000   \n",
       "50%       1.000000             0.020240                    0.000000   \n",
       "75%       1.000000             1.029155                  100.000000   \n",
       "max       1.000000          7193.587333               719360.000000   \n",
       "\n",
       "                  id  year_released  \n",
       "count    3524.000000    3524.000000  \n",
       "mean    45443.112656    2002.385641  \n",
       "std     77014.289184       8.422442  \n",
       "min         0.000000    1986.000000  \n",
       "25%      8864.750000    1996.000000  \n",
       "50%     12513.500000    2003.000000  \n",
       "75%     41220.250000    2010.000000  \n",
       "max    404378.000000    2017.000000  "
      ]
     },
     "execution_count": 49,
     "metadata": {},
     "output_type": "execute_result"
    }
   ],
   "source": [
    "df.describe()   # after replacing zero with None"
   ]
  },
  {
   "cell_type": "markdown",
   "metadata": {},
   "source": [
    "## 2.3. Removing Rows <a class=\"anchor\" id=\"23\"></a>"
   ]
  },
  {
   "cell_type": "code",
   "execution_count": 50,
   "metadata": {},
   "outputs": [],
   "source": [
    "data_dropped = df.dropna()"
   ]
  },
  {
   "cell_type": "code",
   "execution_count": 51,
   "metadata": {},
   "outputs": [],
   "source": [
    "data_dropped = data_dropped.reset_index() \n",
    "del data_dropped['index']"
   ]
  },
  {
   "cell_type": "code",
   "execution_count": 52,
   "metadata": {},
   "outputs": [
    {
     "data": {
      "text/plain": [
       "(3333, 27)"
      ]
     },
     "execution_count": 52,
     "metadata": {},
     "output_type": "execute_result"
    }
   ],
   "source": [
    "data_dropped.shape"
   ]
  },
  {
   "cell_type": "code",
   "execution_count": 53,
   "metadata": {},
   "outputs": [
    {
     "data": {
      "text/plain": [
       "(3524, 27)"
      ]
     },
     "execution_count": 53,
     "metadata": {},
     "output_type": "execute_result"
    }
   ],
   "source": [
    "df.shape"
   ]
  },
  {
   "cell_type": "code",
   "execution_count": 54,
   "metadata": {},
   "outputs": [],
   "source": [
    "num_rows_lost = round(100*(df.shape[0] - data_dropped.shape[0])/float(df.shape[0]))"
   ]
  },
  {
   "cell_type": "code",
   "execution_count": 55,
   "metadata": {},
   "outputs": [
    {
     "data": {
      "text/plain": [
       "'retained 5% of rows'"
      ]
     },
     "execution_count": 55,
     "metadata": {},
     "output_type": "execute_result"
    }
   ],
   "source": [
    "template = 'retained {}% of rows'\n",
    "template.format(num_rows_lost)"
   ]
  },
  {
   "cell_type": "code",
   "execution_count": 56,
   "metadata": {},
   "outputs": [
    {
     "data": {
      "text/plain": [
       "isprofit\n",
       "0    1593\n",
       "1    1740\n",
       "dtype: int64"
      ]
     },
     "execution_count": 56,
     "metadata": {},
     "output_type": "execute_result"
    }
   ],
   "source": [
    "# class distribution\n",
    "class_counts = data_dropped.groupby('isprofit').size()\n",
    "class_counts"
   ]
  },
  {
   "cell_type": "code",
   "execution_count": 57,
   "metadata": {},
   "outputs": [
    {
     "data": {
      "text/plain": [
       "0.45204313280363223"
      ]
     },
     "execution_count": 57,
     "metadata": {},
     "output_type": "execute_result"
    }
   ],
   "source": [
    "class_counts[0]/df['isprofit'].size"
   ]
  },
  {
   "cell_type": "code",
   "execution_count": 58,
   "metadata": {},
   "outputs": [
    {
     "data": {
      "text/plain": [
       "1    0.510499\n",
       "0    0.489501\n",
       "Name: isprofit, dtype: float64"
      ]
     },
     "execution_count": 58,
     "metadata": {},
     "output_type": "execute_result"
    }
   ],
   "source": [
    "df['isprofit'].value_counts(normalize=True)   #  split of trues and falses before rows dropped"
   ]
  },
  {
   "cell_type": "code",
   "execution_count": 59,
   "metadata": {},
   "outputs": [
    {
     "data": {
      "text/plain": [
       "1    0.522052\n",
       "0    0.477948\n",
       "Name: isprofit, dtype: float64"
      ]
     },
     "execution_count": 59,
     "metadata": {},
     "output_type": "execute_result"
    }
   ],
   "source": [
    "data_dropped['isprofit'].value_counts(normalize=True)   #  split of trues and falses after rows dropped"
   ]
  },
  {
   "cell_type": "code",
   "execution_count": 60,
   "metadata": {},
   "outputs": [
    {
     "data": {
      "text/html": [
       "<div>\n",
       "<style scoped>\n",
       "    .dataframe tbody tr th:only-of-type {\n",
       "        vertical-align: middle;\n",
       "    }\n",
       "\n",
       "    .dataframe tbody tr th {\n",
       "        vertical-align: top;\n",
       "    }\n",
       "\n",
       "    .dataframe thead th {\n",
       "        text-align: right;\n",
       "    }\n",
       "</style>\n",
       "<table border=\"1\" class=\"dataframe\">\n",
       "  <thead>\n",
       "    <tr style=\"text-align: right;\">\n",
       "      <th></th>\n",
       "      <th>budget</th>\n",
       "      <th>gross</th>\n",
       "      <th>score</th>\n",
       "      <th>votes</th>\n",
       "      <th>year</th>\n",
       "      <th>isprofit</th>\n",
       "      <th>profitability_ratio</th>\n",
       "      <th>profitability_ratio_bucket</th>\n",
       "      <th>id</th>\n",
       "      <th>year_released</th>\n",
       "    </tr>\n",
       "  </thead>\n",
       "  <tbody>\n",
       "    <tr>\n",
       "      <th>count</th>\n",
       "      <td>3.333000e+03</td>\n",
       "      <td>3.333000e+03</td>\n",
       "      <td>3333.000000</td>\n",
       "      <td>3.333000e+03</td>\n",
       "      <td>3333.000000</td>\n",
       "      <td>3333.000000</td>\n",
       "      <td>3333.000000</td>\n",
       "      <td>3333.000000</td>\n",
       "      <td>3333.000000</td>\n",
       "      <td>3333.000000</td>\n",
       "    </tr>\n",
       "    <tr>\n",
       "      <th>mean</th>\n",
       "      <td>3.758515e+07</td>\n",
       "      <td>4.965428e+07</td>\n",
       "      <td>6.363336</td>\n",
       "      <td>1.039717e+05</td>\n",
       "      <td>1996.975398</td>\n",
       "      <td>0.522052</td>\n",
       "      <td>4.205770</td>\n",
       "      <td>420.486049</td>\n",
       "      <td>45018.886289</td>\n",
       "      <td>2002.524452</td>\n",
       "    </tr>\n",
       "    <tr>\n",
       "      <th>std</th>\n",
       "      <td>4.127027e+07</td>\n",
       "      <td>6.824755e+07</td>\n",
       "      <td>1.055674</td>\n",
       "      <td>1.597827e+05</td>\n",
       "      <td>104.263259</td>\n",
       "      <td>0.499588</td>\n",
       "      <td>131.475869</td>\n",
       "      <td>13147.610801</td>\n",
       "      <td>77802.214165</td>\n",
       "      <td>8.404989</td>\n",
       "    </tr>\n",
       "    <tr>\n",
       "      <th>min</th>\n",
       "      <td>0.000000e+00</td>\n",
       "      <td>0.000000e+00</td>\n",
       "      <td>0.000000</td>\n",
       "      <td>0.000000e+00</td>\n",
       "      <td>0.000000</td>\n",
       "      <td>0.000000</td>\n",
       "      <td>-0.999979</td>\n",
       "      <td>-100.000000</td>\n",
       "      <td>0.000000</td>\n",
       "      <td>1986.000000</td>\n",
       "    </tr>\n",
       "    <tr>\n",
       "      <th>25%</th>\n",
       "      <td>1.000000e+07</td>\n",
       "      <td>8.054280e+06</td>\n",
       "      <td>5.800000</td>\n",
       "      <td>1.765000e+04</td>\n",
       "      <td>1996.000000</td>\n",
       "      <td>0.000000</td>\n",
       "      <td>-0.523528</td>\n",
       "      <td>-50.000000</td>\n",
       "      <td>8487.000000</td>\n",
       "      <td>1996.000000</td>\n",
       "    </tr>\n",
       "    <tr>\n",
       "      <th>50%</th>\n",
       "      <td>2.500000e+07</td>\n",
       "      <td>2.667324e+07</td>\n",
       "      <td>6.500000</td>\n",
       "      <td>4.800000e+04</td>\n",
       "      <td>2003.000000</td>\n",
       "      <td>1.000000</td>\n",
       "      <td>0.050837</td>\n",
       "      <td>10.000000</td>\n",
       "      <td>11870.000000</td>\n",
       "      <td>2003.000000</td>\n",
       "    </tr>\n",
       "    <tr>\n",
       "      <th>75%</th>\n",
       "      <td>5.000000e+07</td>\n",
       "      <td>6.330010e+07</td>\n",
       "      <td>7.100000</td>\n",
       "      <td>1.196420e+05</td>\n",
       "      <td>2009.000000</td>\n",
       "      <td>1.000000</td>\n",
       "      <td>1.042850</td>\n",
       "      <td>100.000000</td>\n",
       "      <td>39254.000000</td>\n",
       "      <td>2010.000000</td>\n",
       "    </tr>\n",
       "    <tr>\n",
       "      <th>max</th>\n",
       "      <td>3.000000e+08</td>\n",
       "      <td>9.366622e+08</td>\n",
       "      <td>9.300000</td>\n",
       "      <td>1.861666e+06</td>\n",
       "      <td>2016.000000</td>\n",
       "      <td>1.000000</td>\n",
       "      <td>7193.587333</td>\n",
       "      <td>719360.000000</td>\n",
       "      <td>404378.000000</td>\n",
       "      <td>2017.000000</td>\n",
       "    </tr>\n",
       "  </tbody>\n",
       "</table>\n",
       "</div>"
      ],
      "text/plain": [
       "             budget         gross        score         votes         year  \\\n",
       "count  3.333000e+03  3.333000e+03  3333.000000  3.333000e+03  3333.000000   \n",
       "mean   3.758515e+07  4.965428e+07     6.363336  1.039717e+05  1996.975398   \n",
       "std    4.127027e+07  6.824755e+07     1.055674  1.597827e+05   104.263259   \n",
       "min    0.000000e+00  0.000000e+00     0.000000  0.000000e+00     0.000000   \n",
       "25%    1.000000e+07  8.054280e+06     5.800000  1.765000e+04  1996.000000   \n",
       "50%    2.500000e+07  2.667324e+07     6.500000  4.800000e+04  2003.000000   \n",
       "75%    5.000000e+07  6.330010e+07     7.100000  1.196420e+05  2009.000000   \n",
       "max    3.000000e+08  9.366622e+08     9.300000  1.861666e+06  2016.000000   \n",
       "\n",
       "          isprofit  profitability_ratio  profitability_ratio_bucket  \\\n",
       "count  3333.000000          3333.000000                 3333.000000   \n",
       "mean      0.522052             4.205770                  420.486049   \n",
       "std       0.499588           131.475869                13147.610801   \n",
       "min       0.000000            -0.999979                 -100.000000   \n",
       "25%       0.000000            -0.523528                  -50.000000   \n",
       "50%       1.000000             0.050837                   10.000000   \n",
       "75%       1.000000             1.042850                  100.000000   \n",
       "max       1.000000          7193.587333               719360.000000   \n",
       "\n",
       "                  id  year_released  \n",
       "count    3333.000000    3333.000000  \n",
       "mean    45018.886289    2002.524452  \n",
       "std     77802.214165       8.404989  \n",
       "min         0.000000    1986.000000  \n",
       "25%      8487.000000    1996.000000  \n",
       "50%     11870.000000    2003.000000  \n",
       "75%     39254.000000    2010.000000  \n",
       "max    404378.000000    2017.000000  "
      ]
     },
     "execution_count": 60,
     "metadata": {},
     "output_type": "execute_result"
    }
   ],
   "source": [
    "data_dropped.describe()   # after removing rows which include NaN"
   ]
  },
  {
   "cell_type": "code",
   "execution_count": 61,
   "metadata": {},
   "outputs": [
    {
     "data": {
      "text/plain": [
       "budget                        3.06\n",
       "gross                         4.04\n",
       "score                         0.38\n",
       "votes                         4.72\n",
       "year                         -0.01\n",
       "isprofit                      2.26\n",
       "profitability_ratio           5.23\n",
       "profitability_ratio_bucket    5.23\n",
       "id                           -0.93\n",
       "year_released                 0.01\n",
       "dtype: float64"
      ]
     },
     "execution_count": 61,
     "metadata": {},
     "output_type": "execute_result"
    }
   ],
   "source": [
    "# % change in means of columns before and after dropping missing-value rows\n",
    "change_in_means = ((data_dropped.mean() - df.mean()) / df.mean() * 100).round(2)\n",
    "change_in_means"
   ]
  },
  {
   "cell_type": "markdown",
   "metadata": {},
   "source": [
    "### Bar Chart of the Change in Means"
   ]
  },
  {
   "cell_type": "code",
   "execution_count": 62,
   "metadata": {},
   "outputs": [
    {
     "data": {
      "text/plain": [
       "Text(0, 0.5, '% change')"
      ]
     },
     "execution_count": 62,
     "metadata": {},
     "output_type": "execute_result"
    },
    {
     "data": {
      "image/png": "[encoded data removed]",
      "text/plain": [
       "<Figure size 648x288 with 1 Axes>"
      ]
     },
     "metadata": {},
     "output_type": "display_data"
    }
   ],
   "source": [
    "plt.figure(figsize=(9, 4))\n",
    "change_in_means.plot.bar(title='% change in average column values')\n",
    "plt.ylabel('% change')\n"
   ]
  },
  {
   "cell_type": "markdown",
   "metadata": {},
   "source": [
    "Figure 1: Percent change in average column values\n",
    "<p>Figure 1 shows the percent change in mean of columns before and after dropping missing-value rows.</p>"
   ]
  },
  {
   "cell_type": "markdown",
   "metadata": {},
   "source": [
    "## 2.4. Finding Outliers <a class=\"anchor\" id=\"24\"></a>"
   ]
  },
  {
   "cell_type": "markdown",
   "metadata": {},
   "source": [
    "### 2.4.1. IQR Score Method <a class=\"anchor\" id=\"241\"></a>"
   ]
  },
  {
   "cell_type": "code",
   "execution_count": 63,
   "metadata": {},
   "outputs": [
    {
     "name": "stdout",
     "output_type": "stream",
     "text": [
      "budget                        4.000000e+07\n",
      "gross                         5.524582e+07\n",
      "score                         1.300000e+00\n",
      "votes                         1.019920e+05\n",
      "year                          1.300000e+01\n",
      "isprofit                      1.000000e+00\n",
      "profitability_ratio           1.566378e+00\n",
      "profitability_ratio_bucket    1.500000e+02\n",
      "id                            3.076700e+04\n",
      "year_released                 1.400000e+01\n",
      "dtype: float64\n"
     ]
    }
   ],
   "source": [
    "Q1 = data_dropped.quantile(0.25)\n",
    "Q3 = data_dropped.quantile(0.75)\n",
    "IQR = Q3 - Q1\n",
    "print(IQR)"
   ]
  },
  {
   "cell_type": "code",
   "execution_count": 64,
   "metadata": {},
   "outputs": [
    {
     "name": "stdout",
     "output_type": "stream",
     "text": [
      "      adult  budget  company  country  genre  genres_edited  gross     id  \\\n",
      "0     False   False    False    False  False          False  False  False   \n",
      "1     False   False    False    False  False          False  False  False   \n",
      "2     False   False    False    False  False          False   True  False   \n",
      "3     False   False    False    False  False          False  False  False   \n",
      "4     False   False    False    False  False          False  False  False   \n",
      "...     ...     ...      ...      ...    ...            ...    ...    ...   \n",
      "3328  False   False    False    False  False          False  False   True   \n",
      "3329  False   False    False    False  False          False  False   True   \n",
      "3330  False   False    False    False  False          False  False   True   \n",
      "3331  False   False    False    False  False          False  False   True   \n",
      "3332  False   False    False    False  False          False  False   True   \n",
      "\n",
      "      imdb_id  isprofit  ...  rating  released  score  \\\n",
      "0       False     False  ...   False     False  False   \n",
      "1       False     False  ...   False     False  False   \n",
      "2       False     False  ...   False     False  False   \n",
      "3       False     False  ...   False     False  False   \n",
      "4       False     False  ...   False     False  False   \n",
      "...       ...       ...  ...     ...       ...    ...   \n",
      "3328    False     False  ...   False     False  False   \n",
      "3329    False     False  ...   False     False  False   \n",
      "3330    False     False  ...   False     False  False   \n",
      "3331    False     False  ...   False     False  False   \n",
      "3332    False     False  ...   False     False  False   \n",
      "\n",
      "      spoken_languages_edited   star  title  votes  writer   year  \\\n",
      "0                       False  False  False   True   False  False   \n",
      "1                       False  False  False  False   False  False   \n",
      "2                       False  False  False  False   False  False   \n",
      "3                       False  False  False   True   False  False   \n",
      "4                       False  False  False  False   False  False   \n",
      "...                       ...    ...    ...    ...     ...    ...   \n",
      "3328                    False  False  False  False   False  False   \n",
      "3329                    False  False  False  False   False  False   \n",
      "3330                    False  False  False  False   False  False   \n",
      "3331                    False  False  False  False   False  False   \n",
      "3332                    False  False  False  False   False  False   \n",
      "\n",
      "      year_released  \n",
      "0             False  \n",
      "1             False  \n",
      "2             False  \n",
      "3             False  \n",
      "4             False  \n",
      "...             ...  \n",
      "3328          False  \n",
      "3329          False  \n",
      "3330          False  \n",
      "3331          False  \n",
      "3332          False  \n",
      "\n",
      "[3333 rows x 27 columns]\n"
     ]
    },
    {
     "name": "stderr",
     "output_type": "stream",
     "text": [
      "c:\\users\\jaymish\\desktop\\pcs\\web2txt\\webapp\\venv\\lib\\site-packages\\ipykernel_launcher.py:1: FutureWarning: Automatic reindexing on DataFrame vs Series comparisons is deprecated and will raise ValueError in a future version.  Do `left, right = left.align(right, axis=1, copy=False)` before e.g. `left == right`\n",
      "  \"\"\"Entry point for launching an IPython kernel.\n",
      "c:\\users\\jaymish\\desktop\\pcs\\web2txt\\webapp\\venv\\lib\\site-packages\\ipykernel_launcher.py:1: FutureWarning: Automatic reindexing on DataFrame vs Series comparisons is deprecated and will raise ValueError in a future version.  Do `left, right = left.align(right, axis=1, copy=False)` before e.g. `left == right`\n",
      "  \"\"\"Entry point for launching an IPython kernel.\n"
     ]
    }
   ],
   "source": [
    "print((data_dropped < (Q1 - (1.5 * IQR))) | (data_dropped > (Q3 + (1.5 * IQR))))"
   ]
  },
  {
   "cell_type": "code",
   "execution_count": 65,
   "metadata": {},
   "outputs": [
    {
     "data": {
      "text/plain": [
       "(3333, 27)"
      ]
     },
     "execution_count": 65,
     "metadata": {},
     "output_type": "execute_result"
    }
   ],
   "source": [
    "data_dropped.shape"
   ]
  },
  {
   "cell_type": "code",
   "execution_count": 66,
   "metadata": {},
   "outputs": [
    {
     "name": "stderr",
     "output_type": "stream",
     "text": [
      "c:\\users\\jaymish\\desktop\\pcs\\web2txt\\webapp\\venv\\lib\\site-packages\\ipykernel_launcher.py:1: FutureWarning: Automatic reindexing on DataFrame vs Series comparisons is deprecated and will raise ValueError in a future version.  Do `left, right = left.align(right, axis=1, copy=False)` before e.g. `left == right`\n",
      "  \"\"\"Entry point for launching an IPython kernel.\n",
      "c:\\users\\jaymish\\desktop\\pcs\\web2txt\\webapp\\venv\\lib\\site-packages\\ipykernel_launcher.py:1: FutureWarning: Automatic reindexing on DataFrame vs Series comparisons is deprecated and will raise ValueError in a future version.  Do `left, right = left.align(right, axis=1, copy=False)` before e.g. `left == right`\n",
      "  \"\"\"Entry point for launching an IPython kernel.\n"
     ]
    }
   ],
   "source": [
    "data_dropped_outlier_IQR = data_dropped[~((data_dropped < (Q1 - 1.5 * IQR)) | (data_dropped > (Q3 + 1.5 * IQR))).any(axis=1)]"
   ]
  },
  {
   "cell_type": "code",
   "execution_count": 67,
   "metadata": {},
   "outputs": [
    {
     "data": {
      "text/plain": [
       "(2210, 27)"
      ]
     },
     "execution_count": 67,
     "metadata": {},
     "output_type": "execute_result"
    }
   ],
   "source": [
    "data_dropped_outlier_IQR.shape"
   ]
  },
  {
   "cell_type": "code",
   "execution_count": 68,
   "metadata": {},
   "outputs": [
    {
     "data": {
      "text/html": [
       "<div>\n",
       "<style scoped>\n",
       "    .dataframe tbody tr th:only-of-type {\n",
       "        vertical-align: middle;\n",
       "    }\n",
       "\n",
       "    .dataframe tbody tr th {\n",
       "        vertical-align: top;\n",
       "    }\n",
       "\n",
       "    .dataframe thead th {\n",
       "        text-align: right;\n",
       "    }\n",
       "</style>\n",
       "<table border=\"1\" class=\"dataframe\">\n",
       "  <thead>\n",
       "    <tr style=\"text-align: right;\">\n",
       "      <th></th>\n",
       "      <th>budget</th>\n",
       "      <th>company</th>\n",
       "      <th>country</th>\n",
       "      <th>genre</th>\n",
       "      <th>gross</th>\n",
       "      <th>name</th>\n",
       "      <th>rating</th>\n",
       "      <th>released</th>\n",
       "      <th>score</th>\n",
       "      <th>star</th>\n",
       "      <th>...</th>\n",
       "      <th>id</th>\n",
       "      <th>imdb_id</th>\n",
       "      <th>original_title</th>\n",
       "      <th>overview</th>\n",
       "      <th>title</th>\n",
       "      <th>genres_edited</th>\n",
       "      <th>spoken_languages_edited</th>\n",
       "      <th>production_countries_edited</th>\n",
       "      <th>keywords_edited</th>\n",
       "      <th>year_released</th>\n",
       "    </tr>\n",
       "  </thead>\n",
       "  <tbody>\n",
       "    <tr>\n",
       "      <th>0</th>\n",
       "      <td>9000000</td>\n",
       "      <td>Walt Disney Pictures</td>\n",
       "      <td>USA</td>\n",
       "      <td>Adventure</td>\n",
       "      <td>18564613</td>\n",
       "      <td>Flight of the Navigator</td>\n",
       "      <td>PG</td>\n",
       "      <td>1.08.1986 00:00</td>\n",
       "      <td>6.9</td>\n",
       "      <td>Joey Cramer</td>\n",
       "      <td>...</td>\n",
       "      <td>10122</td>\n",
       "      <td>tt0091059</td>\n",
       "      <td>Flight of the Navigator</td>\n",
       "      <td>This 1986 Disney adventure tells the story of ...</td>\n",
       "      <td>Flight of the Navigator</td>\n",
       "      <td>Family, Science Fiction, Adventure</td>\n",
       "      <td>en</td>\n",
       "      <td>US</td>\n",
       "      <td>artificial intelligence, farewell, homesicknes...</td>\n",
       "      <td>1986</td>\n",
       "    </tr>\n",
       "    <tr>\n",
       "      <th>1</th>\n",
       "      <td>6000000</td>\n",
       "      <td>Other</td>\n",
       "      <td>USA</td>\n",
       "      <td>Drama</td>\n",
       "      <td>8551228</td>\n",
       "      <td>Blue Velvet</td>\n",
       "      <td>R</td>\n",
       "      <td>23.10.1986 00:00</td>\n",
       "      <td>7.8</td>\n",
       "      <td>Isabella Rossellini</td>\n",
       "      <td>...</td>\n",
       "      <td>793</td>\n",
       "      <td>tt0090756</td>\n",
       "      <td>Blue Velvet</td>\n",
       "      <td>The discovery of a severed human ear found in ...</td>\n",
       "      <td>Blue Velvet</td>\n",
       "      <td>Crime, Drama, Mystery, Thriller</td>\n",
       "      <td>en</td>\n",
       "      <td>US</td>\n",
       "      <td>small town, ear, suspense, independent film, p...</td>\n",
       "      <td>1986</td>\n",
       "    </tr>\n",
       "    <tr>\n",
       "      <th>2</th>\n",
       "      <td>16000000</td>\n",
       "      <td>Other</td>\n",
       "      <td>Other</td>\n",
       "      <td>Action</td>\n",
       "      <td>5900000</td>\n",
       "      <td>Highlander</td>\n",
       "      <td>R</td>\n",
       "      <td>7.03.1986 00:00</td>\n",
       "      <td>7.2</td>\n",
       "      <td>Christopher Lambert</td>\n",
       "      <td>...</td>\n",
       "      <td>8009</td>\n",
       "      <td>tt0091203</td>\n",
       "      <td>Highlander</td>\n",
       "      <td>He fought his first battle on the Scottish Hig...</td>\n",
       "      <td>Highlander</td>\n",
       "      <td>Adventure, Action, Fantasy</td>\n",
       "      <td>en</td>\n",
       "      <td>GB, US</td>\n",
       "      <td>new york, scotland, swordplay, sword, cut-off ...</td>\n",
       "      <td>1986</td>\n",
       "    </tr>\n",
       "    <tr>\n",
       "      <th>3</th>\n",
       "      <td>6000000</td>\n",
       "      <td>Twentieth Century Fox Film Corporation</td>\n",
       "      <td>USA</td>\n",
       "      <td>Comedy</td>\n",
       "      <td>8200000</td>\n",
       "      <td>Lucas</td>\n",
       "      <td>PG-13</td>\n",
       "      <td>28.03.1986 00:00</td>\n",
       "      <td>6.8</td>\n",
       "      <td>Corey Haim</td>\n",
       "      <td>...</td>\n",
       "      <td>13346</td>\n",
       "      <td>tt0091445</td>\n",
       "      <td>Lucas</td>\n",
       "      <td>A socially inept fourteen year old experiences...</td>\n",
       "      <td>Lucas</td>\n",
       "      <td>Comedy, Drama, Romance</td>\n",
       "      <td>en</td>\n",
       "      <td>US</td>\n",
       "      <td>high school, american football team, cheerleading</td>\n",
       "      <td>1986</td>\n",
       "    </tr>\n",
       "    <tr>\n",
       "      <th>4</th>\n",
       "      <td>25000000</td>\n",
       "      <td>Twentieth Century Fox Film Corporation</td>\n",
       "      <td>USA</td>\n",
       "      <td>Action</td>\n",
       "      <td>11100000</td>\n",
       "      <td>Big Trouble in Little China</td>\n",
       "      <td>PG-13</td>\n",
       "      <td>2.07.1986 00:00</td>\n",
       "      <td>7.3</td>\n",
       "      <td>Kurt Russell</td>\n",
       "      <td>...</td>\n",
       "      <td>6978</td>\n",
       "      <td>tt0090728</td>\n",
       "      <td>Big Trouble in Little China</td>\n",
       "      <td>When trucker, Jack Burton agreed to take his f...</td>\n",
       "      <td>Big Trouble in Little China</td>\n",
       "      <td>Action, Adventure, Comedy, Fantasy</td>\n",
       "      <td>cn, en</td>\n",
       "      <td>US</td>\n",
       "      <td>kung fu, chinatown, magic, mystery</td>\n",
       "      <td>1986</td>\n",
       "    </tr>\n",
       "    <tr>\n",
       "      <th>...</th>\n",
       "      <td>...</td>\n",
       "      <td>...</td>\n",
       "      <td>...</td>\n",
       "      <td>...</td>\n",
       "      <td>...</td>\n",
       "      <td>...</td>\n",
       "      <td>...</td>\n",
       "      <td>...</td>\n",
       "      <td>...</td>\n",
       "      <td>...</td>\n",
       "      <td>...</td>\n",
       "      <td>...</td>\n",
       "      <td>...</td>\n",
       "      <td>...</td>\n",
       "      <td>...</td>\n",
       "      <td>...</td>\n",
       "      <td>...</td>\n",
       "      <td>...</td>\n",
       "      <td>...</td>\n",
       "      <td>...</td>\n",
       "      <td>...</td>\n",
       "    </tr>\n",
       "    <tr>\n",
       "      <th>2205</th>\n",
       "      <td>110000000</td>\n",
       "      <td>Warner Bros.</td>\n",
       "      <td>USA</td>\n",
       "      <td>Action</td>\n",
       "      <td>106580051</td>\n",
       "      <td>300: Rise of an Empire</td>\n",
       "      <td>R</td>\n",
       "      <td>7.03.2014 00:00</td>\n",
       "      <td>6.2</td>\n",
       "      <td>Sullivan Stapleton</td>\n",
       "      <td>...</td>\n",
       "      <td>53182</td>\n",
       "      <td>tt1253863</td>\n",
       "      <td>300: Rise of an Empire</td>\n",
       "      <td>Based on Frank Miller's latest graphic novel X...</td>\n",
       "      <td>300: Rise of an Empire</td>\n",
       "      <td>Action, War</td>\n",
       "      <td>en</td>\n",
       "      <td>US</td>\n",
       "      <td>based on graphic novel, ancient greece, during...</td>\n",
       "      <td>2014</td>\n",
       "    </tr>\n",
       "    <tr>\n",
       "      <th>2206</th>\n",
       "      <td>65000000</td>\n",
       "      <td>Other</td>\n",
       "      <td>USA</td>\n",
       "      <td>Crime</td>\n",
       "      <td>13757804</td>\n",
       "      <td>Sin City: A Dame to Kill For</td>\n",
       "      <td>R</td>\n",
       "      <td>22.08.2014 00:00</td>\n",
       "      <td>6.5</td>\n",
       "      <td>Mickey Rourke</td>\n",
       "      <td>...</td>\n",
       "      <td>189</td>\n",
       "      <td>tt0458481</td>\n",
       "      <td>Sin City: A Dame to Kill For</td>\n",
       "      <td>Some of Sin City's most hard-boiled citizens c...</td>\n",
       "      <td>Sin City: A Dame to Kill For</td>\n",
       "      <td>Crime, Thriller</td>\n",
       "      <td>en</td>\n",
       "      <td>US</td>\n",
       "      <td>detective, dystopia, dominatrix, murder, suspe...</td>\n",
       "      <td>2014</td>\n",
       "    </tr>\n",
       "    <tr>\n",
       "      <th>2207</th>\n",
       "      <td>70000000</td>\n",
       "      <td>Universal Pictures</td>\n",
       "      <td>USA</td>\n",
       "      <td>Action</td>\n",
       "      <td>56280355</td>\n",
       "      <td>Dracula Untold</td>\n",
       "      <td>PG-13</td>\n",
       "      <td>10.10.2014 00:00</td>\n",
       "      <td>6.3</td>\n",
       "      <td>Luke Evans</td>\n",
       "      <td>...</td>\n",
       "      <td>49017</td>\n",
       "      <td>tt0829150</td>\n",
       "      <td>Dracula Untold</td>\n",
       "      <td>Vlad Tepes is a great hero, but when he learns...</td>\n",
       "      <td>Dracula Untold</td>\n",
       "      <td>Horror, Action, Drama, Fantasy, War</td>\n",
       "      <td>en</td>\n",
       "      <td>US</td>\n",
       "      <td>vampire, dracula, bite, battle, 15th century, ...</td>\n",
       "      <td>2014</td>\n",
       "    </tr>\n",
       "    <tr>\n",
       "      <th>2208</th>\n",
       "      <td>95000000</td>\n",
       "      <td>Other</td>\n",
       "      <td>USA</td>\n",
       "      <td>Action</td>\n",
       "      <td>17223265</td>\n",
       "      <td>Seventh Son</td>\n",
       "      <td>PG-13</td>\n",
       "      <td>6.02.2015 00:00</td>\n",
       "      <td>5.5</td>\n",
       "      <td>Ben Barnes</td>\n",
       "      <td>...</td>\n",
       "      <td>68737</td>\n",
       "      <td>tt1121096</td>\n",
       "      <td>Seventh Son</td>\n",
       "      <td>John Gregory, who is a seventh son of a sevent...</td>\n",
       "      <td>Seventh Son</td>\n",
       "      <td>Adventure, Fantasy</td>\n",
       "      <td>en</td>\n",
       "      <td>CN, CA, US, GB</td>\n",
       "      <td>magic, chosen one, dark fantasy, witch hunter,...</td>\n",
       "      <td>2015</td>\n",
       "    </tr>\n",
       "    <tr>\n",
       "      <th>2209</th>\n",
       "      <td>28000000</td>\n",
       "      <td>Other</td>\n",
       "      <td>USA</td>\n",
       "      <td>Comedy</td>\n",
       "      <td>6998324</td>\n",
       "      <td>Our Brand Is Crisis</td>\n",
       "      <td>R</td>\n",
       "      <td>30.10.2015 00:00</td>\n",
       "      <td>6.1</td>\n",
       "      <td>Sandra Bullock</td>\n",
       "      <td>...</td>\n",
       "      <td>10317</td>\n",
       "      <td>tt1018765</td>\n",
       "      <td>Our Brand Is Crisis</td>\n",
       "      <td>A feature film based on the documentary \"Our B...</td>\n",
       "      <td>Our Brand Is Crisis</td>\n",
       "      <td>Comedy, Drama</td>\n",
       "      <td>en</td>\n",
       "      <td>US</td>\n",
       "      <td>bolivia, woman, political campaign, south amer...</td>\n",
       "      <td>2015</td>\n",
       "    </tr>\n",
       "  </tbody>\n",
       "</table>\n",
       "<p>2210 rows × 27 columns</p>\n",
       "</div>"
      ],
      "text/plain": [
       "         budget                                 company country      genre  \\\n",
       "0       9000000                    Walt Disney Pictures     USA  Adventure   \n",
       "1       6000000                                   Other     USA      Drama   \n",
       "2      16000000                                   Other   Other     Action   \n",
       "3       6000000  Twentieth Century Fox Film Corporation     USA     Comedy   \n",
       "4      25000000  Twentieth Century Fox Film Corporation     USA     Action   \n",
       "...         ...                                     ...     ...        ...   \n",
       "2205  110000000                            Warner Bros.     USA     Action   \n",
       "2206   65000000                                   Other     USA      Crime   \n",
       "2207   70000000                      Universal Pictures     USA     Action   \n",
       "2208   95000000                                   Other     USA     Action   \n",
       "2209   28000000                                   Other     USA     Comedy   \n",
       "\n",
       "          gross                          name rating          released  score  \\\n",
       "0      18564613       Flight of the Navigator     PG   1.08.1986 00:00    6.9   \n",
       "1       8551228                   Blue Velvet      R  23.10.1986 00:00    7.8   \n",
       "2       5900000                    Highlander      R   7.03.1986 00:00    7.2   \n",
       "3       8200000                         Lucas  PG-13  28.03.1986 00:00    6.8   \n",
       "4      11100000   Big Trouble in Little China  PG-13   2.07.1986 00:00    7.3   \n",
       "...         ...                           ...    ...               ...    ...   \n",
       "2205  106580051        300: Rise of an Empire      R   7.03.2014 00:00    6.2   \n",
       "2206   13757804  Sin City: A Dame to Kill For      R  22.08.2014 00:00    6.5   \n",
       "2207   56280355                Dracula Untold  PG-13  10.10.2014 00:00    6.3   \n",
       "2208   17223265                   Seventh Son  PG-13   6.02.2015 00:00    5.5   \n",
       "2209    6998324           Our Brand Is Crisis      R  30.10.2015 00:00    6.1   \n",
       "\n",
       "                     star  ...     id    imdb_id  \\\n",
       "0             Joey Cramer  ...  10122  tt0091059   \n",
       "1     Isabella Rossellini  ...    793  tt0090756   \n",
       "2     Christopher Lambert  ...   8009  tt0091203   \n",
       "3              Corey Haim  ...  13346  tt0091445   \n",
       "4            Kurt Russell  ...   6978  tt0090728   \n",
       "...                   ...  ...    ...        ...   \n",
       "2205   Sullivan Stapleton  ...  53182  tt1253863   \n",
       "2206        Mickey Rourke  ...    189  tt0458481   \n",
       "2207           Luke Evans  ...  49017  tt0829150   \n",
       "2208           Ben Barnes  ...  68737  tt1121096   \n",
       "2209       Sandra Bullock  ...  10317  tt1018765   \n",
       "\n",
       "                    original_title  \\\n",
       "0          Flight of the Navigator   \n",
       "1                      Blue Velvet   \n",
       "2                       Highlander   \n",
       "3                            Lucas   \n",
       "4      Big Trouble in Little China   \n",
       "...                            ...   \n",
       "2205        300: Rise of an Empire   \n",
       "2206  Sin City: A Dame to Kill For   \n",
       "2207                Dracula Untold   \n",
       "2208                   Seventh Son   \n",
       "2209           Our Brand Is Crisis   \n",
       "\n",
       "                                               overview  \\\n",
       "0     This 1986 Disney adventure tells the story of ...   \n",
       "1     The discovery of a severed human ear found in ...   \n",
       "2     He fought his first battle on the Scottish Hig...   \n",
       "3     A socially inept fourteen year old experiences...   \n",
       "4     When trucker, Jack Burton agreed to take his f...   \n",
       "...                                                 ...   \n",
       "2205  Based on Frank Miller's latest graphic novel X...   \n",
       "2206  Some of Sin City's most hard-boiled citizens c...   \n",
       "2207  Vlad Tepes is a great hero, but when he learns...   \n",
       "2208  John Gregory, who is a seventh son of a sevent...   \n",
       "2209  A feature film based on the documentary \"Our B...   \n",
       "\n",
       "                             title                        genres_edited  \\\n",
       "0          Flight of the Navigator   Family, Science Fiction, Adventure   \n",
       "1                      Blue Velvet      Crime, Drama, Mystery, Thriller   \n",
       "2                       Highlander           Adventure, Action, Fantasy   \n",
       "3                            Lucas               Comedy, Drama, Romance   \n",
       "4      Big Trouble in Little China   Action, Adventure, Comedy, Fantasy   \n",
       "...                            ...                                  ...   \n",
       "2205        300: Rise of an Empire                          Action, War   \n",
       "2206  Sin City: A Dame to Kill For                      Crime, Thriller   \n",
       "2207                Dracula Untold  Horror, Action, Drama, Fantasy, War   \n",
       "2208                   Seventh Son                   Adventure, Fantasy   \n",
       "2209           Our Brand Is Crisis                        Comedy, Drama   \n",
       "\n",
       "     spoken_languages_edited  production_countries_edited  \\\n",
       "0                         en                           US   \n",
       "1                         en                           US   \n",
       "2                         en                       GB, US   \n",
       "3                         en                           US   \n",
       "4                     cn, en                           US   \n",
       "...                      ...                          ...   \n",
       "2205                      en                           US   \n",
       "2206                      en                           US   \n",
       "2207                      en                           US   \n",
       "2208                      en               CN, CA, US, GB   \n",
       "2209                      en                           US   \n",
       "\n",
       "                                        keywords_edited year_released  \n",
       "0     artificial intelligence, farewell, homesicknes...          1986  \n",
       "1     small town, ear, suspense, independent film, p...          1986  \n",
       "2     new york, scotland, swordplay, sword, cut-off ...          1986  \n",
       "3     high school, american football team, cheerleading          1986  \n",
       "4                    kung fu, chinatown, magic, mystery          1986  \n",
       "...                                                 ...           ...  \n",
       "2205  based on graphic novel, ancient greece, during...          2014  \n",
       "2206  detective, dystopia, dominatrix, murder, suspe...          2014  \n",
       "2207  vampire, dracula, bite, battle, 15th century, ...          2014  \n",
       "2208  magic, chosen one, dark fantasy, witch hunter,...          2015  \n",
       "2209  bolivia, woman, political campaign, south amer...          2015  \n",
       "\n",
       "[2210 rows x 27 columns]"
      ]
     },
     "execution_count": 68,
     "metadata": {},
     "output_type": "execute_result"
    }
   ],
   "source": [
    "data_dropped_outlier_IQR = data_dropped_outlier_IQR.reset_index()\n",
    "del data_dropped_outlier_IQR['index']\n",
    "data_dropped_outlier_IQR"
   ]
  },
  {
   "cell_type": "code",
   "execution_count": 69,
   "metadata": {},
   "outputs": [
    {
     "data": {
      "text/html": [
       "<div>\n",
       "<style scoped>\n",
       "    .dataframe tbody tr th:only-of-type {\n",
       "        vertical-align: middle;\n",
       "    }\n",
       "\n",
       "    .dataframe tbody tr th {\n",
       "        vertical-align: top;\n",
       "    }\n",
       "\n",
       "    .dataframe thead th {\n",
       "        text-align: right;\n",
       "    }\n",
       "</style>\n",
       "<table border=\"1\" class=\"dataframe\">\n",
       "  <thead>\n",
       "    <tr style=\"text-align: right;\">\n",
       "      <th></th>\n",
       "      <th>budget</th>\n",
       "      <th>gross</th>\n",
       "      <th>score</th>\n",
       "      <th>votes</th>\n",
       "      <th>year</th>\n",
       "      <th>isprofit</th>\n",
       "      <th>profitability_ratio</th>\n",
       "      <th>profitability_ratio_bucket</th>\n",
       "      <th>id</th>\n",
       "      <th>year_released</th>\n",
       "    </tr>\n",
       "  </thead>\n",
       "  <tbody>\n",
       "    <tr>\n",
       "      <th>count</th>\n",
       "      <td>2.210000e+03</td>\n",
       "      <td>2.210000e+03</td>\n",
       "      <td>2210.000000</td>\n",
       "      <td>2210.000000</td>\n",
       "      <td>2210.000000</td>\n",
       "      <td>2210.000000</td>\n",
       "      <td>2210.000000</td>\n",
       "      <td>2210.000000</td>\n",
       "      <td>2210.000000</td>\n",
       "      <td>2210.000000</td>\n",
       "    </tr>\n",
       "    <tr>\n",
       "      <th>mean</th>\n",
       "      <td>2.977203e+07</td>\n",
       "      <td>3.018641e+07</td>\n",
       "      <td>6.276697</td>\n",
       "      <td>56153.565158</td>\n",
       "      <td>2000.136199</td>\n",
       "      <td>0.440271</td>\n",
       "      <td>0.104425</td>\n",
       "      <td>10.360633</td>\n",
       "      <td>17261.007692</td>\n",
       "      <td>2000.302262</td>\n",
       "    </tr>\n",
       "    <tr>\n",
       "      <th>std</th>\n",
       "      <td>2.373443e+07</td>\n",
       "      <td>3.056537e+07</td>\n",
       "      <td>0.852385</td>\n",
       "      <td>58004.822103</td>\n",
       "      <td>7.170371</td>\n",
       "      <td>0.496532</td>\n",
       "      <td>0.943690</td>\n",
       "      <td>94.457795</td>\n",
       "      <td>17171.854237</td>\n",
       "      <td>7.226219</td>\n",
       "    </tr>\n",
       "    <tr>\n",
       "      <th>min</th>\n",
       "      <td>3.800000e+04</td>\n",
       "      <td>3.090000e+02</td>\n",
       "      <td>3.900000</td>\n",
       "      <td>456.000000</td>\n",
       "      <td>1986.000000</td>\n",
       "      <td>0.000000</td>\n",
       "      <td>-0.999979</td>\n",
       "      <td>-100.000000</td>\n",
       "      <td>5.000000</td>\n",
       "      <td>1986.000000</td>\n",
       "    </tr>\n",
       "    <tr>\n",
       "      <th>25%</th>\n",
       "      <td>1.200000e+07</td>\n",
       "      <td>6.272634e+06</td>\n",
       "      <td>5.700000</td>\n",
       "      <td>13833.750000</td>\n",
       "      <td>1995.000000</td>\n",
       "      <td>0.000000</td>\n",
       "      <td>-0.603740</td>\n",
       "      <td>-60.000000</td>\n",
       "      <td>8749.500000</td>\n",
       "      <td>1995.000000</td>\n",
       "    </tr>\n",
       "    <tr>\n",
       "      <th>50%</th>\n",
       "      <td>2.400000e+07</td>\n",
       "      <td>2.026112e+07</td>\n",
       "      <td>6.300000</td>\n",
       "      <td>33912.500000</td>\n",
       "      <td>2000.000000</td>\n",
       "      <td>0.000000</td>\n",
       "      <td>-0.142597</td>\n",
       "      <td>-10.000000</td>\n",
       "      <td>11092.500000</td>\n",
       "      <td>2001.000000</td>\n",
       "    </tr>\n",
       "    <tr>\n",
       "      <th>75%</th>\n",
       "      <td>4.000000e+07</td>\n",
       "      <td>4.416740e+07</td>\n",
       "      <td>6.900000</td>\n",
       "      <td>78549.500000</td>\n",
       "      <td>2006.000000</td>\n",
       "      <td>1.000000</td>\n",
       "      <td>0.557248</td>\n",
       "      <td>60.000000</td>\n",
       "      <td>20474.500000</td>\n",
       "      <td>2006.000000</td>\n",
       "    </tr>\n",
       "    <tr>\n",
       "      <th>max</th>\n",
       "      <td>1.100000e+08</td>\n",
       "      <td>1.457943e+08</td>\n",
       "      <td>8.200000</td>\n",
       "      <td>270071.000000</td>\n",
       "      <td>2015.000000</td>\n",
       "      <td>1.000000</td>\n",
       "      <td>3.237761</td>\n",
       "      <td>320.000000</td>\n",
       "      <td>84329.000000</td>\n",
       "      <td>2015.000000</td>\n",
       "    </tr>\n",
       "  </tbody>\n",
       "</table>\n",
       "</div>"
      ],
      "text/plain": [
       "             budget         gross        score          votes         year  \\\n",
       "count  2.210000e+03  2.210000e+03  2210.000000    2210.000000  2210.000000   \n",
       "mean   2.977203e+07  3.018641e+07     6.276697   56153.565158  2000.136199   \n",
       "std    2.373443e+07  3.056537e+07     0.852385   58004.822103     7.170371   \n",
       "min    3.800000e+04  3.090000e+02     3.900000     456.000000  1986.000000   \n",
       "25%    1.200000e+07  6.272634e+06     5.700000   13833.750000  1995.000000   \n",
       "50%    2.400000e+07  2.026112e+07     6.300000   33912.500000  2000.000000   \n",
       "75%    4.000000e+07  4.416740e+07     6.900000   78549.500000  2006.000000   \n",
       "max    1.100000e+08  1.457943e+08     8.200000  270071.000000  2015.000000   \n",
       "\n",
       "          isprofit  profitability_ratio  profitability_ratio_bucket  \\\n",
       "count  2210.000000          2210.000000                 2210.000000   \n",
       "mean      0.440271             0.104425                   10.360633   \n",
       "std       0.496532             0.943690                   94.457795   \n",
       "min       0.000000            -0.999979                 -100.000000   \n",
       "25%       0.000000            -0.603740                  -60.000000   \n",
       "50%       0.000000            -0.142597                  -10.000000   \n",
       "75%       1.000000             0.557248                   60.000000   \n",
       "max       1.000000             3.237761                  320.000000   \n",
       "\n",
       "                 id  year_released  \n",
       "count   2210.000000    2210.000000  \n",
       "mean   17261.007692    2000.302262  \n",
       "std    17171.854237       7.226219  \n",
       "min        5.000000    1986.000000  \n",
       "25%     8749.500000    1995.000000  \n",
       "50%    11092.500000    2001.000000  \n",
       "75%    20474.500000    2006.000000  \n",
       "max    84329.000000    2015.000000  "
      ]
     },
     "execution_count": 69,
     "metadata": {},
     "output_type": "execute_result"
    }
   ],
   "source": [
    "data_dropped_outlier_IQR.describe()"
   ]
  },
  {
   "cell_type": "markdown",
   "metadata": {},
   "source": [
    "## 2.5. Box Plot <a class=\"anchor\" id=\"25\"></a>"
   ]
  },
  {
   "cell_type": "markdown",
   "metadata": {},
   "source": [
    "### Boxplot of Initial Data"
   ]
  },
  {
   "cell_type": "code",
   "execution_count": 70,
   "metadata": {},
   "outputs": [
    {
     "data": {
      "text/plain": [
       "<AxesSubplot:>"
      ]
     },
     "execution_count": 70,
     "metadata": {},
     "output_type": "execute_result"
    },
    {
     "data": {
      "image/png": "[encoded data removed]",
      "text/plain": [
       "<Figure size 2304x1008 with 1 Axes>"
      ]
     },
     "metadata": {},
     "output_type": "display_data"
    }
   ],
   "source": [
    "df.plot(x=df.index.name, kind='box', figsize=(32, 14))"
   ]
  },
  {
   "cell_type": "markdown",
   "metadata": {},
   "source": [
    "Figure 2: Data Distribution before Cleaning\n",
    "<p>Figure 2 shows the distribution of the data before dropping rows. The graph represents five number summary: “minimum, first quartile, median, third quartile, and ''maximum”. The ends of the box are the quartiles, Q1 and Q3, while the box length is interquartile range (IQR). Two lines (called whiskers) outside the box extend to the smallest (Minimum) and largest (Maximum) observations. The circles are the outliers.</p>"
   ]
  },
  {
   "cell_type": "markdown",
   "metadata": {},
   "source": [
    "### Boxplot of Dropped Data"
   ]
  },
  {
   "cell_type": "code",
   "execution_count": 71,
   "metadata": {},
   "outputs": [
    {
     "data": {
      "text/plain": [
       "<AxesSubplot:>"
      ]
     },
     "execution_count": 71,
     "metadata": {},
     "output_type": "execute_result"
    },
    {
     "data": {
      "image/png": "[encoded data removed]",
      "text/plain": [
       "<Figure size 2304x1008 with 1 Axes>"
      ]
     },
     "metadata": {},
     "output_type": "display_data"
    }
   ],
   "source": [
    "data_dropped.plot(x=data_dropped.index.name, kind='box', figsize=(32, 14))"
   ]
  },
  {
   "cell_type": "markdown",
   "metadata": {},
   "source": [
    "Figure 3: Data Distribution of Dropped Data\n",
    "<p>Figure 3 shows the distibution of data after dropping rows with the value NaN. The graph represents five number summary: “minimum, first quartile, median, third quartile, and ''maximum”. The ends of the box are the quartiles, Q1 and Q3, while the box length is interquartile range (IQR). Two lines (called whiskers) outside the box extend to the smallest (Minimum) and largest (Maximum) observations. The circles are the outliers.</p>"
   ]
  },
  {
   "cell_type": "markdown",
   "metadata": {},
   "source": [
    "### Boxplot of Dropped Outlier Data"
   ]
  },
  {
   "cell_type": "code",
   "execution_count": 72,
   "metadata": {},
   "outputs": [
    {
     "data": {
      "text/plain": [
       "<AxesSubplot:>"
      ]
     },
     "execution_count": 72,
     "metadata": {},
     "output_type": "execute_result"
    },
    {
     "data": {
      "image/png": "[encoded data removed]",
      "text/plain": [
       "<Figure size 3312x1008 with 1 Axes>"
      ]
     },
     "metadata": {},
     "output_type": "display_data"
    }
   ],
   "source": [
    "data_dropped_outlier_IQR.plot(x=data_dropped_outlier_IQR.index.name, kind='box', figsize=(46, 14))"
   ]
  },
  {
   "cell_type": "markdown",
   "metadata": {},
   "source": [
    "Figure 4: Data Distribution of Outlier Data\n",
    "<p>Figure 4 shows the distributoion of data after dropping outliers. The graph represents five number summary: “minimum, first quartile, median, third quartile, and ''maximum”. The ends of the box are the quartiles, Q1 and Q3, while the box length is interquartile range (IQR). Two lines (called whiskers) outside the box extend to the smallest (Minimum) and largest (Maximum) observations. The circles are the outliers.</p>"
   ]
  },
  {
   "cell_type": "markdown",
   "metadata": {},
   "source": [
    "# 3. Data Transformation <a class=\"anchor\" id=\"3\"></a>"
   ]
  },
  {
   "cell_type": "markdown",
   "metadata": {},
   "source": [
    "Our data has the following columns that we can perform transformation on:\n",
    "* budget\n",
    "* runtime\n",
    "* score\n",
    "* votes\n",
    "* popularity\n",
    "\n",
    "<p>\n",
    "> We want to discretize and normalize the data so it will be ready for the modeling stage.\n",
    "<br><br>\n",
    "> After writing some general functions, we will perform the transformations one by one.\n",
    "</p>"
   ]
  },
  {
   "cell_type": "markdown",
   "metadata": {},
   "source": [
    "## 3.1. Binning <a class=\"anchor\" id=\"31\"></a>"
   ]
  },
  {
   "cell_type": "markdown",
   "metadata": {},
   "source": [
    "Below, we iterate over all continuous features and use binning to discretize the data. At the end, we summarize the results by indicating the 4 intervals that our data was partitioned into."
   ]
  },
  {
   "cell_type": "code",
   "execution_count": 73,
   "metadata": {},
   "outputs": [
    {
     "data": {
      "text/plain": [
       "count    2.210000e+03\n",
       "mean     2.977203e+07\n",
       "std      2.373443e+07\n",
       "min      3.800000e+04\n",
       "25%      1.200000e+07\n",
       "50%      2.400000e+07\n",
       "75%      4.000000e+07\n",
       "max      1.100000e+08\n",
       "Name: budget, dtype: float64"
      ]
     },
     "metadata": {},
     "output_type": "display_data"
    },
    {
     "data": {
      "text/plain": [
       "0         (37999.999, 12000000.0]\n",
       "1         (37999.999, 12000000.0]\n",
       "2        (12000000.0, 24000000.0]\n",
       "3         (37999.999, 12000000.0]\n",
       "4        (24000000.0, 40000000.0]\n",
       "                  ...            \n",
       "2205    (40000000.0, 110000000.0]\n",
       "2206    (40000000.0, 110000000.0]\n",
       "2207    (40000000.0, 110000000.0]\n",
       "2208    (40000000.0, 110000000.0]\n",
       "2209     (24000000.0, 40000000.0]\n",
       "Name: budget, Length: 2210, dtype: category\n",
       "Categories (4, interval[float64]): [(37999.999, 12000000.0] < (12000000.0, 24000000.0] < (24000000.0, 40000000.0] < (40000000.0, 110000000.0]]"
      ]
     },
     "metadata": {},
     "output_type": "display_data"
    },
    {
     "data": {
      "text/plain": [
       "(37999.999, 12000000.0]      598\n",
       "(40000000.0, 110000000.0]    550\n",
       "(24000000.0, 40000000.0]     542\n",
       "(12000000.0, 24000000.0]     520\n",
       "Name: budget, dtype: int64"
      ]
     },
     "metadata": {},
     "output_type": "display_data"
    },
    {
     "data": {
      "text/plain": [
       "count    2210.000000\n",
       "mean        6.276697\n",
       "std         0.852385\n",
       "min         3.900000\n",
       "25%         5.700000\n",
       "50%         6.300000\n",
       "75%         6.900000\n",
       "max         8.200000\n",
       "Name: score, dtype: float64"
      ]
     },
     "metadata": {},
     "output_type": "display_data"
    },
    {
     "data": {
      "text/plain": [
       "0         (6.3, 6.9]\n",
       "1         (6.9, 8.2]\n",
       "2         (6.9, 8.2]\n",
       "3         (6.3, 6.9]\n",
       "4         (6.9, 8.2]\n",
       "            ...     \n",
       "2205      (5.7, 6.3]\n",
       "2206      (6.3, 6.9]\n",
       "2207      (5.7, 6.3]\n",
       "2208    (3.899, 5.7]\n",
       "2209      (5.7, 6.3]\n",
       "Name: score, Length: 2210, dtype: category\n",
       "Categories (4, interval[float64]): [(3.899, 5.7] < (5.7, 6.3] < (6.3, 6.9] < (6.9, 8.2]]"
      ]
     },
     "metadata": {},
     "output_type": "display_data"
    },
    {
     "data": {
      "text/plain": [
       "(3.899, 5.7]    582\n",
       "(6.3, 6.9]      571\n",
       "(5.7, 6.3]      545\n",
       "(6.9, 8.2]      512\n",
       "Name: score, dtype: int64"
      ]
     },
     "metadata": {},
     "output_type": "display_data"
    },
    {
     "data": {
      "text/plain": [
       "count      2210.000000\n",
       "mean      56153.565158\n",
       "std       58004.822103\n",
       "min         456.000000\n",
       "25%       13833.750000\n",
       "50%       33912.500000\n",
       "75%       78549.500000\n",
       "max      270071.000000\n",
       "Name: votes, dtype: float64"
      ]
     },
     "metadata": {},
     "output_type": "display_data"
    },
    {
     "data": {
      "text/plain": [
       "0        (33912.5, 78549.5]\n",
       "1       (78549.5, 270071.0]\n",
       "2       (78549.5, 270071.0]\n",
       "3       (455.999, 13833.75]\n",
       "4       (78549.5, 270071.0]\n",
       "               ...         \n",
       "2205    (78549.5, 270071.0]\n",
       "2206    (78549.5, 270071.0]\n",
       "2207    (78549.5, 270071.0]\n",
       "2208     (33912.5, 78549.5]\n",
       "2209    (13833.75, 33912.5]\n",
       "Name: votes, Length: 2210, dtype: category\n",
       "Categories (4, interval[float64]): [(455.999, 13833.75] < (13833.75, 33912.5] < (33912.5, 78549.5] < (78549.5, 270071.0]]"
      ]
     },
     "metadata": {},
     "output_type": "display_data"
    },
    {
     "data": {
      "text/plain": [
       "(455.999, 13833.75]    553\n",
       "(78549.5, 270071.0]    553\n",
       "(13833.75, 33912.5]    552\n",
       "(33912.5, 78549.5]     552\n",
       "Name: votes, dtype: int64"
      ]
     },
     "metadata": {},
     "output_type": "display_data"
    }
   ],
   "source": [
    "for i in continuous_features:\n",
    "    display(data_dropped_outlier_IQR[i].describe())\n",
    "\n",
    "    display(pd.qcut(data_dropped_outlier_IQR[i], q=4))\n",
    "\n",
    "    display(pd.qcut(data_dropped_outlier_IQR[i], q=4).value_counts())"
   ]
  },
  {
   "cell_type": "markdown",
   "metadata": {},
   "source": [
    "## 3.2. Normalization <a class=\"anchor\" id=\"32\"></a>"
   ]
  },
  {
   "cell_type": "markdown",
   "metadata": {},
   "source": [
    "### 3.2.1. Z-score Method <a class=\"anchor\" id=\"321\"></a>"
   ]
  },
  {
   "cell_type": "code",
   "execution_count": 74,
   "metadata": {},
   "outputs": [
    {
     "data": {
      "text/html": [
       "<div>\n",
       "<style scoped>\n",
       "    .dataframe tbody tr th:only-of-type {\n",
       "        vertical-align: middle;\n",
       "    }\n",
       "\n",
       "    .dataframe tbody tr th {\n",
       "        vertical-align: top;\n",
       "    }\n",
       "\n",
       "    .dataframe thead th {\n",
       "        text-align: right;\n",
       "    }\n",
       "</style>\n",
       "<table border=\"1\" class=\"dataframe\">\n",
       "  <thead>\n",
       "    <tr style=\"text-align: right;\">\n",
       "      <th></th>\n",
       "      <th>budget</th>\n",
       "      <th>score</th>\n",
       "      <th>votes</th>\n",
       "    </tr>\n",
       "  </thead>\n",
       "  <tbody>\n",
       "    <tr>\n",
       "      <th>count</th>\n",
       "      <td>2.210000e+03</td>\n",
       "      <td>2210.000000</td>\n",
       "      <td>2210.000000</td>\n",
       "    </tr>\n",
       "    <tr>\n",
       "      <th>mean</th>\n",
       "      <td>2.977203e+07</td>\n",
       "      <td>6.276697</td>\n",
       "      <td>56153.565158</td>\n",
       "    </tr>\n",
       "    <tr>\n",
       "      <th>std</th>\n",
       "      <td>2.373443e+07</td>\n",
       "      <td>0.852385</td>\n",
       "      <td>58004.822103</td>\n",
       "    </tr>\n",
       "    <tr>\n",
       "      <th>min</th>\n",
       "      <td>3.800000e+04</td>\n",
       "      <td>3.900000</td>\n",
       "      <td>456.000000</td>\n",
       "    </tr>\n",
       "    <tr>\n",
       "      <th>25%</th>\n",
       "      <td>1.200000e+07</td>\n",
       "      <td>5.700000</td>\n",
       "      <td>13833.750000</td>\n",
       "    </tr>\n",
       "    <tr>\n",
       "      <th>50%</th>\n",
       "      <td>2.400000e+07</td>\n",
       "      <td>6.300000</td>\n",
       "      <td>33912.500000</td>\n",
       "    </tr>\n",
       "    <tr>\n",
       "      <th>75%</th>\n",
       "      <td>4.000000e+07</td>\n",
       "      <td>6.900000</td>\n",
       "      <td>78549.500000</td>\n",
       "    </tr>\n",
       "    <tr>\n",
       "      <th>max</th>\n",
       "      <td>1.100000e+08</td>\n",
       "      <td>8.200000</td>\n",
       "      <td>270071.000000</td>\n",
       "    </tr>\n",
       "  </tbody>\n",
       "</table>\n",
       "</div>"
      ],
      "text/plain": [
       "             budget        score          votes\n",
       "count  2.210000e+03  2210.000000    2210.000000\n",
       "mean   2.977203e+07     6.276697   56153.565158\n",
       "std    2.373443e+07     0.852385   58004.822103\n",
       "min    3.800000e+04     3.900000     456.000000\n",
       "25%    1.200000e+07     5.700000   13833.750000\n",
       "50%    2.400000e+07     6.300000   33912.500000\n",
       "75%    4.000000e+07     6.900000   78549.500000\n",
       "max    1.100000e+08     8.200000  270071.000000"
      ]
     },
     "execution_count": 74,
     "metadata": {},
     "output_type": "execute_result"
    }
   ],
   "source": [
    "data_dropped_outlier_IQR[continuous_features].describe()"
   ]
  },
  {
   "cell_type": "code",
   "execution_count": 75,
   "metadata": {},
   "outputs": [],
   "source": [
    "scaler = StandardScaler()"
   ]
  },
  {
   "cell_type": "code",
   "execution_count": 76,
   "metadata": {},
   "outputs": [],
   "source": [
    "data_dropped_z_score_scaled = pd.DataFrame(scaler.fit_transform(data_dropped_outlier_IQR[continuous_features]), columns=continuous_features)"
   ]
  },
  {
   "cell_type": "code",
   "execution_count": 77,
   "metadata": {},
   "outputs": [
    {
     "data": {
      "text/html": [
       "<div>\n",
       "<style scoped>\n",
       "    .dataframe tbody tr th:only-of-type {\n",
       "        vertical-align: middle;\n",
       "    }\n",
       "\n",
       "    .dataframe tbody tr th {\n",
       "        vertical-align: top;\n",
       "    }\n",
       "\n",
       "    .dataframe thead th {\n",
       "        text-align: right;\n",
       "    }\n",
       "</style>\n",
       "<table border=\"1\" class=\"dataframe\">\n",
       "  <thead>\n",
       "    <tr style=\"text-align: right;\">\n",
       "      <th></th>\n",
       "      <th>budget</th>\n",
       "      <th>score</th>\n",
       "      <th>votes</th>\n",
       "    </tr>\n",
       "  </thead>\n",
       "  <tbody>\n",
       "    <tr>\n",
       "      <th>count</th>\n",
       "      <td>2210.000000</td>\n",
       "      <td>2.210000e+03</td>\n",
       "      <td>2.210000e+03</td>\n",
       "    </tr>\n",
       "    <tr>\n",
       "      <th>mean</th>\n",
       "      <td>0.000000</td>\n",
       "      <td>1.028840e-16</td>\n",
       "      <td>-5.144201e-17</td>\n",
       "    </tr>\n",
       "    <tr>\n",
       "      <th>std</th>\n",
       "      <td>1.000226</td>\n",
       "      <td>1.000226e+00</td>\n",
       "      <td>1.000226e+00</td>\n",
       "    </tr>\n",
       "    <tr>\n",
       "      <th>min</th>\n",
       "      <td>-1.253064</td>\n",
       "      <td>-2.788923e+00</td>\n",
       "      <td>-9.604403e-01</td>\n",
       "    </tr>\n",
       "    <tr>\n",
       "      <th>25%</th>\n",
       "      <td>-0.748957</td>\n",
       "      <td>-6.767219e-01</td>\n",
       "      <td>-7.297564e-01</td>\n",
       "    </tr>\n",
       "    <tr>\n",
       "      <th>50%</th>\n",
       "      <td>-0.243248</td>\n",
       "      <td>2.734498e-02</td>\n",
       "      <td>-3.835215e-01</td>\n",
       "    </tr>\n",
       "    <tr>\n",
       "      <th>75%</th>\n",
       "      <td>0.431031</td>\n",
       "      <td>7.314119e-01</td>\n",
       "      <td>3.861921e-01</td>\n",
       "    </tr>\n",
       "    <tr>\n",
       "      <th>max</th>\n",
       "      <td>3.381001</td>\n",
       "      <td>2.256890e+00</td>\n",
       "      <td>3.688760e+00</td>\n",
       "    </tr>\n",
       "  </tbody>\n",
       "</table>\n",
       "</div>"
      ],
      "text/plain": [
       "            budget         score         votes\n",
       "count  2210.000000  2.210000e+03  2.210000e+03\n",
       "mean      0.000000  1.028840e-16 -5.144201e-17\n",
       "std       1.000226  1.000226e+00  1.000226e+00\n",
       "min      -1.253064 -2.788923e+00 -9.604403e-01\n",
       "25%      -0.748957 -6.767219e-01 -7.297564e-01\n",
       "50%      -0.243248  2.734498e-02 -3.835215e-01\n",
       "75%       0.431031  7.314119e-01  3.861921e-01\n",
       "max       3.381001  2.256890e+00  3.688760e+00"
      ]
     },
     "execution_count": 77,
     "metadata": {},
     "output_type": "execute_result"
    }
   ],
   "source": [
    "data_dropped_z_score_scaled.describe()"
   ]
  },
  {
   "cell_type": "code",
   "execution_count": 78,
   "metadata": {},
   "outputs": [
    {
     "data": {
      "text/plain": [
       "array([[<AxesSubplot:title={'center':'budget'}>,\n",
       "        <AxesSubplot:title={'center':'gross'}>,\n",
       "        <AxesSubplot:title={'center':'score'}>],\n",
       "       [<AxesSubplot:title={'center':'votes'}>,\n",
       "        <AxesSubplot:title={'center':'year'}>,\n",
       "        <AxesSubplot:title={'center':'isprofit'}>],\n",
       "       [<AxesSubplot:title={'center':'profitability_ratio'}>,\n",
       "        <AxesSubplot:title={'center':'profitability_ratio_bucket'}>,\n",
       "        <AxesSubplot:title={'center':'id'}>],\n",
       "       [<AxesSubplot:title={'center':'year_released'}>, <AxesSubplot:>,\n",
       "        <AxesSubplot:>]], dtype=object)"
      ]
     },
     "execution_count": 78,
     "metadata": {},
     "output_type": "execute_result"
    },
    {
     "data": {
      "image/png": "[encoded data removed]",
      "text/plain": [
       "<Figure size 1152x1152 with 12 Axes>"
      ]
     },
     "metadata": {},
     "output_type": "display_data"
    }
   ],
   "source": [
    "data_dropped_outlier_IQR.hist(figsize=(16, 16))"
   ]
  },
  {
   "cell_type": "markdown",
   "metadata": {},
   "source": [
    "Figure 6: Histogram of Data Before Normalization\n",
    "<p>Figure 6 shows the bar charts helping us visualize the data befor the five features above have been normalized.</p>"
   ]
  },
  {
   "cell_type": "code",
   "execution_count": 79,
   "metadata": {},
   "outputs": [
    {
     "data": {
      "text/plain": [
       "array([[<AxesSubplot:title={'center':'budget'}>,\n",
       "        <AxesSubplot:title={'center':'score'}>],\n",
       "       [<AxesSubplot:title={'center':'votes'}>, <AxesSubplot:>]],\n",
       "      dtype=object)"
      ]
     },
     "execution_count": 79,
     "metadata": {},
     "output_type": "execute_result"
    },
    {
     "data": {
      "image/png": "[encoded data removed]",
      "text/plain": [
       "<Figure size 720x720 with 4 Axes>"
      ]
     },
     "metadata": {},
     "output_type": "display_data"
    }
   ],
   "source": [
    "data_dropped_z_score_scaled.hist(figsize=(10, 10))"
   ]
  },
  {
   "cell_type": "markdown",
   "metadata": {},
   "source": [
    "Figure 7: Histogram of Data After Normalization\n",
    "<p>Figure 7 shows bar charts helping us visualize the data after the five features above have been normalized.</p>"
   ]
  },
  {
   "cell_type": "markdown",
   "metadata": {},
   "source": [
    "Add normalized columns to main dataset as new columns labeled with the feature name they relate to followed by \"_norm\"."
   ]
  },
  {
   "cell_type": "code",
   "execution_count": 81,
   "metadata": {},
   "outputs": [],
   "source": [
    "norm_column_names = ['budget_norm', 'score_norm', 'votes_norm']\n",
    "    \n",
    "for i, j in zip(norm_column_names, continuous_features):\n",
    "    data_dropped_outlier_IQR[i] = pd.Series(data_dropped_z_score_scaled[j])\n"
   ]
  },
  {
   "cell_type": "code",
   "execution_count": 82,
   "metadata": {},
   "outputs": [],
   "source": [
    "data_dropped_outlier_IQR.to_csv('data/training_data.csv')"
   ]
  },
  {
   "cell_type": "markdown",
   "metadata": {},
   "source": [
    "# 4. Results <a class=\"anchor\" id=\"4\"></a>"
   ]
  },
  {
   "cell_type": "markdown",
   "metadata": {},
   "source": [
    "## 4.1. Data Cleaning <a class=\"anchor\" id=\"41\"></a>"
   ]
  },
  {
   "cell_type": "markdown",
   "metadata": {},
   "source": [
    "As we analyze all the features in <a href=\"#21\">Section 2.1.</a> we can see that the only features that need cleaning are overview, tagline, spoken_languages_edited, production_countries_edited and keywords_edited. The rest of the features are clean meaning not missing any values that require either dropping or replacement of those values."
   ]
  },
  {
   "cell_type": "markdown",
   "metadata": {},
   "source": [
    "## 4.2. Data Transformation <a class=\"anchor\" id=\"42\"></a>"
   ]
  },
  {
   "cell_type": "markdown",
   "metadata": {},
   "source": [
    "After analyzing and cleaning the five categorical features found in <a href=\"#21\">Section 2.1.</a> we are able to focus on transforming our data.  \n",
    "\n",
    "<p>Our data includes categorical and continuous types but for transformation we want to focus on five that need to be discretized and normalized in order to be ready for modeling. These five features include budget, runtime, score, votes and popularity. The reason for discretizing the data is so we can partition the data into equal distributions that will be easier to manage and manipulate. After that we can use normalization to give all the attributes an equal weight which is useful to us in the following section where we model our data.</p>"
   ]
  }
 ],
 "metadata": {
  "kernelspec": {
   "display_name": "'Python3'",
   "language": "python",
   "name": "python3"
  },
  "language_info": {
   "codemirror_mode": {
    "name": "ipython",
    "version": 3
   },
   "file_extension": ".py",
   "mimetype": "text/x-python",
   "name": "python",
   "nbconvert_exporter": "python",
   "pygments_lexer": "ipython3",
   "version": "3.7.3"
  }
 },
 "nbformat": 4,
 "nbformat_minor": 2
}
