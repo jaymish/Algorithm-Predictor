{
 "cells": [
  {
   "cell_type": "markdown",
   "metadata": {},
   "source": [
    "### Table of Contents:\n",
    "* [1. Preparing the Data](#1)\n",
    "* &emsp;[1.1. Importing Libraries](#11)\n",
    "* [2. Data Cleaning](#2)\n",
    "* &emsp;[2.1. Identifying Missing Values](#21)\n",
    "* &emsp;[2.2. Dealing with Missing Values](#22)\n",
    "* &emsp;[2.3. Removing Rows](#23)\n",
    "* &emsp;[2.4. Finding Outliers](#24)\n",
    "* &emsp;&emsp;[2.4.1. IQR Score Method](#241)\n",
    "* &emsp;[2.5. Box Plot](#25)\n",
    "* [3. Data Transformation](#3)\n",
    "* &emsp;[3.1. Binning](#31)\n",
    "* &emsp;[3.2. Normalization](#32)\n",
    "* &emsp;&emsp;[3.2.1. Z-score Method](#33)\n",
    "* [4. Results](#4)\n",
    "* &emsp;[4.1. Data Cleaning](#41)\n",
    "* &emsp;[4.2. Data Transformation](#42)"
   ]
  },
  {
   "cell_type": "markdown",
   "metadata": {},
   "source": [
    "# 1. Preparing the Data <a class=\"anchor\" id=\"1\"></a>"
   ]
  },
  {
   "cell_type": "markdown",
   "metadata": {},
   "source": [
    "## 1.1. Importing Libraries <a class=\"anchor\" id=\"11\"></a>"
   ]
  },
  {
   "cell_type": "code",
   "execution_count": 1,
   "metadata": {},
   "outputs": [],
   "source": [
    "import pandas as pd \n",
    "import numpy as np  \n",
    "import matplotlib.pyplot as plt \n",
    "import seaborn as sns\n",
    "from sklearn.preprocessing import StandardScaler\n",
    "\n",
    "%matplotlib inline  \n",
    "plt.style.use('fivethirtyeight')"
   ]
  },
  {
   "cell_type": "markdown",
   "metadata": {},
   "source": [
    "# 2. Data Cleaning <a class=\"anchor\" id=\"2\"></a>"
   ]
  },
  {
   "cell_type": "markdown",
   "metadata": {},
   "source": [
    "## 2.1. Identifying Missing Values <a class=\"anchor\" id=\"21\"></a>"
   ]
  },
  {
   "cell_type": "code",
   "execution_count": 2,
   "metadata": {},
   "outputs": [],
   "source": [
    "df = pd.read_csv('data/raw_training_data.csv')"
   ]
  },
  {
   "cell_type": "code",
   "execution_count": 3,
   "metadata": {},
   "outputs": [],
   "source": [
    "categorical_features = ['company','director','released','star','year',\n",
    "                        'writer','original_title','overview','title',\n",
    "                        'keywords_edited']\n",
    "continuous_features = ['budget','popularity']\n",
    "target_features = ['isprofit','profitability_ratio']"
   ]
  },
  {
   "cell_type": "code",
   "execution_count": 4,
   "metadata": {},
   "outputs": [
    {
     "data": {
      "text/plain": [
       "(3524, 21)"
      ]
     },
     "execution_count": 4,
     "metadata": {},
     "output_type": "execute_result"
    }
   ],
   "source": [
    "df.shape # (# rows, # cols)"
   ]
  },
  {
   "cell_type": "code",
   "execution_count": 5,
   "metadata": {},
   "outputs": [
    {
     "data": {
      "text/html": [
       "<div>\n",
       "<style scoped>\n",
       "    .dataframe tbody tr th:only-of-type {\n",
       "        vertical-align: middle;\n",
       "    }\n",
       "\n",
       "    .dataframe tbody tr th {\n",
       "        vertical-align: top;\n",
       "    }\n",
       "\n",
       "    .dataframe thead th {\n",
       "        text-align: right;\n",
       "    }\n",
       "</style>\n",
       "<table border=\"1\" class=\"dataframe\">\n",
       "  <thead>\n",
       "    <tr style=\"text-align: right;\">\n",
       "      <th></th>\n",
       "      <th>Unnamed: 0</th>\n",
       "      <th>budget</th>\n",
       "      <th>company</th>\n",
       "      <th>director</th>\n",
       "      <th>gross</th>\n",
       "      <th>name</th>\n",
       "      <th>released</th>\n",
       "      <th>star</th>\n",
       "      <th>writer</th>\n",
       "      <th>year</th>\n",
       "      <th>...</th>\n",
       "      <th>profitability_ratio</th>\n",
       "      <th>profitability_ratio_bucket</th>\n",
       "      <th>id</th>\n",
       "      <th>imdb_id</th>\n",
       "      <th>original_title</th>\n",
       "      <th>overview</th>\n",
       "      <th>popularity</th>\n",
       "      <th>title</th>\n",
       "      <th>keywords_edited</th>\n",
       "      <th>year_released</th>\n",
       "    </tr>\n",
       "  </thead>\n",
       "  <tbody>\n",
       "    <tr>\n",
       "      <th>0</th>\n",
       "      <td>0</td>\n",
       "      <td>8000000</td>\n",
       "      <td>Columbia Pictures Corporation</td>\n",
       "      <td>Rob Reiner</td>\n",
       "      <td>52287414</td>\n",
       "      <td>Stand by Me</td>\n",
       "      <td>22.08.1986 00:00</td>\n",
       "      <td>Wil Wheaton</td>\n",
       "      <td>Stephen King</td>\n",
       "      <td>1986</td>\n",
       "      <td>...</td>\n",
       "      <td>5.535927</td>\n",
       "      <td>550</td>\n",
       "      <td>235</td>\n",
       "      <td>tt0092005</td>\n",
       "      <td>Stand by Me</td>\n",
       "      <td>After the death of a friend, a writer recounts...</td>\n",
       "      <td>15.206957</td>\n",
       "      <td>Stand by Me</td>\n",
       "      <td>based on novel, friendship, coming of age, rai...</td>\n",
       "      <td>1986</td>\n",
       "    </tr>\n",
       "    <tr>\n",
       "      <th>1</th>\n",
       "      <td>1</td>\n",
       "      <td>6000000</td>\n",
       "      <td>Paramount Pictures</td>\n",
       "      <td>Other</td>\n",
       "      <td>70136369</td>\n",
       "      <td>Ferris Bueller's Day Off</td>\n",
       "      <td>11.06.1986 00:00</td>\n",
       "      <td>Matthew Broderick</td>\n",
       "      <td>John Hughes</td>\n",
       "      <td>1986</td>\n",
       "      <td>...</td>\n",
       "      <td>10.689395</td>\n",
       "      <td>1070</td>\n",
       "      <td>9377</td>\n",
       "      <td>tt0091042</td>\n",
       "      <td>Ferris Bueller's Day Off</td>\n",
       "      <td>Charismatic teen Ferris Bueller plays hooky in...</td>\n",
       "      <td>12.724645</td>\n",
       "      <td>Ferris Bueller's Day Off</td>\n",
       "      <td>chicago, high school, aftercreditsstinger, dur...</td>\n",
       "      <td>1986</td>\n",
       "    </tr>\n",
       "    <tr>\n",
       "      <th>2</th>\n",
       "      <td>2</td>\n",
       "      <td>15000000</td>\n",
       "      <td>Paramount Pictures</td>\n",
       "      <td>Other</td>\n",
       "      <td>179800601</td>\n",
       "      <td>Top Gun</td>\n",
       "      <td>16.05.1986 00:00</td>\n",
       "      <td>Tom Cruise</td>\n",
       "      <td>Jim Cash</td>\n",
       "      <td>1986</td>\n",
       "      <td>...</td>\n",
       "      <td>10.986707</td>\n",
       "      <td>1100</td>\n",
       "      <td>744</td>\n",
       "      <td>tt0092099</td>\n",
       "      <td>Top Gun</td>\n",
       "      <td>For Lieutenant Pete 'Maverick' Mitchell and hi...</td>\n",
       "      <td>20.301019</td>\n",
       "      <td>Top Gun</td>\n",
       "      <td>lovesickness, loss of lover, fighter pilot, se...</td>\n",
       "      <td>1986</td>\n",
       "    </tr>\n",
       "    <tr>\n",
       "      <th>3</th>\n",
       "      <td>3</td>\n",
       "      <td>18500000</td>\n",
       "      <td>Twentieth Century Fox Film Corporation</td>\n",
       "      <td>Other</td>\n",
       "      <td>85160248</td>\n",
       "      <td>Aliens</td>\n",
       "      <td>18.07.1986 00:00</td>\n",
       "      <td>Sigourney Weaver</td>\n",
       "      <td>James Cameron</td>\n",
       "      <td>1986</td>\n",
       "      <td>...</td>\n",
       "      <td>3.603257</td>\n",
       "      <td>360</td>\n",
       "      <td>679</td>\n",
       "      <td>tt0090605</td>\n",
       "      <td>Aliens</td>\n",
       "      <td>When Ripley's lifepod is found by a salvage cr...</td>\n",
       "      <td>21.761179</td>\n",
       "      <td>Aliens</td>\n",
       "      <td>android, extraterrestrial technology, space ma...</td>\n",
       "      <td>1986</td>\n",
       "    </tr>\n",
       "    <tr>\n",
       "      <th>4</th>\n",
       "      <td>4</td>\n",
       "      <td>9000000</td>\n",
       "      <td>Walt Disney Pictures</td>\n",
       "      <td>Other</td>\n",
       "      <td>18564613</td>\n",
       "      <td>Flight of the Navigator</td>\n",
       "      <td>1.08.1986 00:00</td>\n",
       "      <td>Joey Cramer</td>\n",
       "      <td>Mark H. Baker</td>\n",
       "      <td>1986</td>\n",
       "      <td>...</td>\n",
       "      <td>1.062735</td>\n",
       "      <td>110</td>\n",
       "      <td>10122</td>\n",
       "      <td>tt0091059</td>\n",
       "      <td>Flight of the Navigator</td>\n",
       "      <td>This 1986 Disney adventure tells the story of ...</td>\n",
       "      <td>5.526865</td>\n",
       "      <td>Flight of the Navigator</td>\n",
       "      <td>artificial intelligence, farewell, homesicknes...</td>\n",
       "      <td>1986</td>\n",
       "    </tr>\n",
       "  </tbody>\n",
       "</table>\n",
       "<p>5 rows × 21 columns</p>\n",
       "</div>"
      ],
      "text/plain": [
       "   Unnamed: 0    budget                                 company    director  \\\n",
       "0           0   8000000           Columbia Pictures Corporation  Rob Reiner   \n",
       "1           1   6000000                      Paramount Pictures       Other   \n",
       "2           2  15000000                      Paramount Pictures       Other   \n",
       "3           3  18500000  Twentieth Century Fox Film Corporation       Other   \n",
       "4           4   9000000                    Walt Disney Pictures       Other   \n",
       "\n",
       "       gross                      name          released               star  \\\n",
       "0   52287414               Stand by Me  22.08.1986 00:00        Wil Wheaton   \n",
       "1   70136369  Ferris Bueller's Day Off  11.06.1986 00:00  Matthew Broderick   \n",
       "2  179800601                   Top Gun  16.05.1986 00:00         Tom Cruise   \n",
       "3   85160248                    Aliens  18.07.1986 00:00   Sigourney Weaver   \n",
       "4   18564613   Flight of the Navigator   1.08.1986 00:00        Joey Cramer   \n",
       "\n",
       "          writer  year  ...  profitability_ratio  profitability_ratio_bucket  \\\n",
       "0   Stephen King  1986  ...             5.535927                         550   \n",
       "1    John Hughes  1986  ...            10.689395                        1070   \n",
       "2       Jim Cash  1986  ...            10.986707                        1100   \n",
       "3  James Cameron  1986  ...             3.603257                         360   \n",
       "4  Mark H. Baker  1986  ...             1.062735                         110   \n",
       "\n",
       "      id    imdb_id            original_title  \\\n",
       "0    235  tt0092005               Stand by Me   \n",
       "1   9377  tt0091042  Ferris Bueller's Day Off   \n",
       "2    744  tt0092099                   Top Gun   \n",
       "3    679  tt0090605                    Aliens   \n",
       "4  10122  tt0091059   Flight of the Navigator   \n",
       "\n",
       "                                            overview popularity  \\\n",
       "0  After the death of a friend, a writer recounts...  15.206957   \n",
       "1  Charismatic teen Ferris Bueller plays hooky in...  12.724645   \n",
       "2  For Lieutenant Pete 'Maverick' Mitchell and hi...  20.301019   \n",
       "3  When Ripley's lifepod is found by a salvage cr...  21.761179   \n",
       "4  This 1986 Disney adventure tells the story of ...   5.526865   \n",
       "\n",
       "                      title  \\\n",
       "0               Stand by Me   \n",
       "1  Ferris Bueller's Day Off   \n",
       "2                   Top Gun   \n",
       "3                    Aliens   \n",
       "4   Flight of the Navigator   \n",
       "\n",
       "                                     keywords_edited year_released  \n",
       "0  based on novel, friendship, coming of age, rai...          1986  \n",
       "1  chicago, high school, aftercreditsstinger, dur...          1986  \n",
       "2  lovesickness, loss of lover, fighter pilot, se...          1986  \n",
       "3  android, extraterrestrial technology, space ma...          1986  \n",
       "4  artificial intelligence, farewell, homesicknes...          1986  \n",
       "\n",
       "[5 rows x 21 columns]"
      ]
     },
     "execution_count": 5,
     "metadata": {},
     "output_type": "execute_result"
    }
   ],
   "source": [
    "df.head() # take a peak at the dataset"
   ]
  },
  {
   "cell_type": "code",
   "execution_count": 6,
   "metadata": {},
   "outputs": [],
   "source": [
    "del df['Unnamed: 0']"
   ]
  },
  {
   "cell_type": "code",
   "execution_count": 7,
   "metadata": {},
   "outputs": [
    {
     "name": "stdout",
     "output_type": "stream",
     "text": [
      "<class 'pandas.core.frame.DataFrame'>\n",
      "RangeIndex: 3524 entries, 0 to 3523\n",
      "Data columns (total 20 columns):\n",
      " #   Column                      Non-Null Count  Dtype  \n",
      "---  ------                      --------------  -----  \n",
      " 0   budget                      3524 non-null   int64  \n",
      " 1   company                     3524 non-null   object \n",
      " 2   director                    3524 non-null   object \n",
      " 3   gross                       3524 non-null   int64  \n",
      " 4   name                        3524 non-null   object \n",
      " 5   released                    3524 non-null   object \n",
      " 6   star                        3524 non-null   object \n",
      " 7   writer                      3524 non-null   object \n",
      " 8   year                        3524 non-null   int64  \n",
      " 9   isprofit                    3524 non-null   int64  \n",
      " 10  profitability_ratio         3524 non-null   float64\n",
      " 11  profitability_ratio_bucket  3524 non-null   int64  \n",
      " 12  id                          3524 non-null   int64  \n",
      " 13  imdb_id                     3524 non-null   object \n",
      " 14  original_title              3524 non-null   object \n",
      " 15  overview                    3523 non-null   object \n",
      " 16  popularity                  3524 non-null   float64\n",
      " 17  title                       3524 non-null   object \n",
      " 18  keywords_edited             3357 non-null   object \n",
      " 19  year_released               3524 non-null   int64  \n",
      "dtypes: float64(2), int64(7), object(11)\n",
      "memory usage: 399.3+ KB\n"
     ]
    }
   ],
   "source": [
    "df.info()"
   ]
  },
  {
   "cell_type": "code",
   "execution_count": 8,
   "metadata": {},
   "outputs": [
    {
     "data": {
      "text/plain": [
       "budget                          0\n",
       "company                         0\n",
       "director                        0\n",
       "gross                           0\n",
       "name                            0\n",
       "released                        0\n",
       "star                            0\n",
       "writer                          0\n",
       "year                            0\n",
       "isprofit                        0\n",
       "profitability_ratio             0\n",
       "profitability_ratio_bucket      0\n",
       "id                              0\n",
       "imdb_id                         0\n",
       "original_title                  0\n",
       "overview                        1\n",
       "popularity                      0\n",
       "title                           0\n",
       "keywords_edited               167\n",
       "year_released                   0\n",
       "dtype: int64"
      ]
     },
     "execution_count": 8,
     "metadata": {},
     "output_type": "execute_result"
    }
   ],
   "source": [
    "df.isnull().sum()"
   ]
  },
  {
   "cell_type": "code",
   "execution_count": 9,
   "metadata": {},
   "outputs": [
    {
     "data": {
      "text/html": [
       "<div>\n",
       "<style scoped>\n",
       "    .dataframe tbody tr th:only-of-type {\n",
       "        vertical-align: middle;\n",
       "    }\n",
       "\n",
       "    .dataframe tbody tr th {\n",
       "        vertical-align: top;\n",
       "    }\n",
       "\n",
       "    .dataframe thead th {\n",
       "        text-align: right;\n",
       "    }\n",
       "</style>\n",
       "<table border=\"1\" class=\"dataframe\">\n",
       "  <thead>\n",
       "    <tr style=\"text-align: right;\">\n",
       "      <th></th>\n",
       "      <th>budget</th>\n",
       "      <th>gross</th>\n",
       "      <th>year</th>\n",
       "      <th>isprofit</th>\n",
       "      <th>profitability_ratio</th>\n",
       "      <th>profitability_ratio_bucket</th>\n",
       "      <th>id</th>\n",
       "      <th>popularity</th>\n",
       "      <th>year_released</th>\n",
       "    </tr>\n",
       "  </thead>\n",
       "  <tbody>\n",
       "    <tr>\n",
       "      <th>count</th>\n",
       "      <td>3.524000e+03</td>\n",
       "      <td>3.524000e+03</td>\n",
       "      <td>3524.000000</td>\n",
       "      <td>3524.000000</td>\n",
       "      <td>3524.000000</td>\n",
       "      <td>3524.000000</td>\n",
       "      <td>3524.000000</td>\n",
       "      <td>3524.000000</td>\n",
       "      <td>3524.000000</td>\n",
       "    </tr>\n",
       "    <tr>\n",
       "      <th>mean</th>\n",
       "      <td>3.646837e+07</td>\n",
       "      <td>4.772520e+07</td>\n",
       "      <td>1997.125709</td>\n",
       "      <td>0.510499</td>\n",
       "      <td>3.996876</td>\n",
       "      <td>399.602157</td>\n",
       "      <td>45443.112656</td>\n",
       "      <td>9.785946</td>\n",
       "      <td>2002.385641</td>\n",
       "    </tr>\n",
       "    <tr>\n",
       "      <th>std</th>\n",
       "      <td>4.063369e+07</td>\n",
       "      <td>6.707121e+07</td>\n",
       "      <td>101.418026</td>\n",
       "      <td>0.499961</td>\n",
       "      <td>127.868810</td>\n",
       "      <td>12786.904323</td>\n",
       "      <td>77014.289184</td>\n",
       "      <td>13.318482</td>\n",
       "      <td>8.422442</td>\n",
       "    </tr>\n",
       "    <tr>\n",
       "      <th>min</th>\n",
       "      <td>0.000000e+00</td>\n",
       "      <td>0.000000e+00</td>\n",
       "      <td>0.000000</td>\n",
       "      <td>0.000000</td>\n",
       "      <td>-0.999979</td>\n",
       "      <td>-100.000000</td>\n",
       "      <td>0.000000</td>\n",
       "      <td>0.000000</td>\n",
       "      <td>1986.000000</td>\n",
       "    </tr>\n",
       "    <tr>\n",
       "      <th>25%</th>\n",
       "      <td>1.000000e+07</td>\n",
       "      <td>6.955428e+06</td>\n",
       "      <td>1996.000000</td>\n",
       "      <td>0.000000</td>\n",
       "      <td>-0.552571</td>\n",
       "      <td>-60.000000</td>\n",
       "      <td>8864.750000</td>\n",
       "      <td>5.746421</td>\n",
       "      <td>1996.000000</td>\n",
       "    </tr>\n",
       "    <tr>\n",
       "      <th>50%</th>\n",
       "      <td>2.300000e+07</td>\n",
       "      <td>2.511110e+07</td>\n",
       "      <td>2002.000000</td>\n",
       "      <td>1.000000</td>\n",
       "      <td>0.020240</td>\n",
       "      <td>0.000000</td>\n",
       "      <td>12513.500000</td>\n",
       "      <td>8.411079</td>\n",
       "      <td>2003.000000</td>\n",
       "    </tr>\n",
       "    <tr>\n",
       "      <th>75%</th>\n",
       "      <td>4.800000e+07</td>\n",
       "      <td>6.036672e+07</td>\n",
       "      <td>2009.000000</td>\n",
       "      <td>1.000000</td>\n",
       "      <td>1.029155</td>\n",
       "      <td>100.000000</td>\n",
       "      <td>41220.250000</td>\n",
       "      <td>11.654501</td>\n",
       "      <td>2010.000000</td>\n",
       "    </tr>\n",
       "    <tr>\n",
       "      <th>max</th>\n",
       "      <td>3.000000e+08</td>\n",
       "      <td>9.366622e+08</td>\n",
       "      <td>2016.000000</td>\n",
       "      <td>1.000000</td>\n",
       "      <td>7193.587333</td>\n",
       "      <td>719360.000000</td>\n",
       "      <td>404378.000000</td>\n",
       "      <td>547.488298</td>\n",
       "      <td>2017.000000</td>\n",
       "    </tr>\n",
       "  </tbody>\n",
       "</table>\n",
       "</div>"
      ],
      "text/plain": [
       "             budget         gross         year     isprofit  \\\n",
       "count  3.524000e+03  3.524000e+03  3524.000000  3524.000000   \n",
       "mean   3.646837e+07  4.772520e+07  1997.125709     0.510499   \n",
       "std    4.063369e+07  6.707121e+07   101.418026     0.499961   \n",
       "min    0.000000e+00  0.000000e+00     0.000000     0.000000   \n",
       "25%    1.000000e+07  6.955428e+06  1996.000000     0.000000   \n",
       "50%    2.300000e+07  2.511110e+07  2002.000000     1.000000   \n",
       "75%    4.800000e+07  6.036672e+07  2009.000000     1.000000   \n",
       "max    3.000000e+08  9.366622e+08  2016.000000     1.000000   \n",
       "\n",
       "       profitability_ratio  profitability_ratio_bucket             id  \\\n",
       "count          3524.000000                 3524.000000    3524.000000   \n",
       "mean              3.996876                  399.602157   45443.112656   \n",
       "std             127.868810                12786.904323   77014.289184   \n",
       "min              -0.999979                 -100.000000       0.000000   \n",
       "25%              -0.552571                  -60.000000    8864.750000   \n",
       "50%               0.020240                    0.000000   12513.500000   \n",
       "75%               1.029155                  100.000000   41220.250000   \n",
       "max            7193.587333               719360.000000  404378.000000   \n",
       "\n",
       "        popularity  year_released  \n",
       "count  3524.000000    3524.000000  \n",
       "mean      9.785946    2002.385641  \n",
       "std      13.318482       8.422442  \n",
       "min       0.000000    1986.000000  \n",
       "25%       5.746421    1996.000000  \n",
       "50%       8.411079    2003.000000  \n",
       "75%      11.654501    2010.000000  \n",
       "max     547.488298    2017.000000  "
      ]
     },
     "execution_count": 9,
     "metadata": {},
     "output_type": "execute_result"
    }
   ],
   "source": [
    "df.describe()   # before replacing zero with None"
   ]
  },
  {
   "cell_type": "markdown",
   "metadata": {},
   "source": [
    "## 2.2. Dealing with Missing Values <a class=\"anchor\" id=\"22\"></a>"
   ]
  },
  {
   "cell_type": "markdown",
   "metadata": {},
   "source": [
    "By observing the data, we see that only the following columns need initial transformation to replace zeros with the value None:\n",
    "* overview\n",
    "* tagline\n",
    "* spoken_languages_edited\n",
    "* production_countries_edited\n",
    "* keywords_edited\n",
    "\n",
    "And the remaining features do not have to change since they do not contain zero values."
   ]
  },
  {
   "cell_type": "code",
   "execution_count": 10,
   "metadata": {},
   "outputs": [],
   "source": [
    "df['overview'] = df['overview'].map(lambda x:x if x != 0 else None)\n",
    "#df['tagline'] = df['tagline'].map(lambda x:x if x != 0 else None)\n",
    "#df['spoken_languages_edited'] = df['spoken_languages_edited'].map(lambda x:x if x != 0 else None)\n",
    "#df['production_countries_edited'] = df['production_countries_edited'].map(lambda x:x if x != 0 else None)\n",
    "df['keywords_edited'] = df['keywords_edited'].map(lambda x:x if x != 0 else None)"
   ]
  },
  {
   "cell_type": "code",
   "execution_count": 11,
   "metadata": {},
   "outputs": [
    {
     "data": {
      "text/html": [
       "<div>\n",
       "<style scoped>\n",
       "    .dataframe tbody tr th:only-of-type {\n",
       "        vertical-align: middle;\n",
       "    }\n",
       "\n",
       "    .dataframe tbody tr th {\n",
       "        vertical-align: top;\n",
       "    }\n",
       "\n",
       "    .dataframe thead th {\n",
       "        text-align: right;\n",
       "    }\n",
       "</style>\n",
       "<table border=\"1\" class=\"dataframe\">\n",
       "  <thead>\n",
       "    <tr style=\"text-align: right;\">\n",
       "      <th></th>\n",
       "      <th>budget</th>\n",
       "      <th>company</th>\n",
       "      <th>director</th>\n",
       "      <th>gross</th>\n",
       "      <th>name</th>\n",
       "      <th>released</th>\n",
       "      <th>star</th>\n",
       "      <th>writer</th>\n",
       "      <th>year</th>\n",
       "      <th>isprofit</th>\n",
       "      <th>profitability_ratio</th>\n",
       "      <th>profitability_ratio_bucket</th>\n",
       "      <th>id</th>\n",
       "      <th>imdb_id</th>\n",
       "      <th>original_title</th>\n",
       "      <th>overview</th>\n",
       "      <th>popularity</th>\n",
       "      <th>title</th>\n",
       "      <th>keywords_edited</th>\n",
       "      <th>year_released</th>\n",
       "    </tr>\n",
       "  </thead>\n",
       "  <tbody>\n",
       "    <tr>\n",
       "      <th>0</th>\n",
       "      <td>8000000</td>\n",
       "      <td>Columbia Pictures Corporation</td>\n",
       "      <td>Rob Reiner</td>\n",
       "      <td>52287414</td>\n",
       "      <td>Stand by Me</td>\n",
       "      <td>22.08.1986 00:00</td>\n",
       "      <td>Wil Wheaton</td>\n",
       "      <td>Stephen King</td>\n",
       "      <td>1986</td>\n",
       "      <td>1</td>\n",
       "      <td>5.535927</td>\n",
       "      <td>550</td>\n",
       "      <td>235</td>\n",
       "      <td>tt0092005</td>\n",
       "      <td>Stand by Me</td>\n",
       "      <td>After the death of a friend, a writer recounts...</td>\n",
       "      <td>15.206957</td>\n",
       "      <td>Stand by Me</td>\n",
       "      <td>based on novel, friendship, coming of age, rai...</td>\n",
       "      <td>1986</td>\n",
       "    </tr>\n",
       "    <tr>\n",
       "      <th>1</th>\n",
       "      <td>6000000</td>\n",
       "      <td>Paramount Pictures</td>\n",
       "      <td>Other</td>\n",
       "      <td>70136369</td>\n",
       "      <td>Ferris Bueller's Day Off</td>\n",
       "      <td>11.06.1986 00:00</td>\n",
       "      <td>Matthew Broderick</td>\n",
       "      <td>John Hughes</td>\n",
       "      <td>1986</td>\n",
       "      <td>1</td>\n",
       "      <td>10.689395</td>\n",
       "      <td>1070</td>\n",
       "      <td>9377</td>\n",
       "      <td>tt0091042</td>\n",
       "      <td>Ferris Bueller's Day Off</td>\n",
       "      <td>Charismatic teen Ferris Bueller plays hooky in...</td>\n",
       "      <td>12.724645</td>\n",
       "      <td>Ferris Bueller's Day Off</td>\n",
       "      <td>chicago, high school, aftercreditsstinger, dur...</td>\n",
       "      <td>1986</td>\n",
       "    </tr>\n",
       "    <tr>\n",
       "      <th>2</th>\n",
       "      <td>15000000</td>\n",
       "      <td>Paramount Pictures</td>\n",
       "      <td>Other</td>\n",
       "      <td>179800601</td>\n",
       "      <td>Top Gun</td>\n",
       "      <td>16.05.1986 00:00</td>\n",
       "      <td>Tom Cruise</td>\n",
       "      <td>Jim Cash</td>\n",
       "      <td>1986</td>\n",
       "      <td>1</td>\n",
       "      <td>10.986707</td>\n",
       "      <td>1100</td>\n",
       "      <td>744</td>\n",
       "      <td>tt0092099</td>\n",
       "      <td>Top Gun</td>\n",
       "      <td>For Lieutenant Pete 'Maverick' Mitchell and hi...</td>\n",
       "      <td>20.301019</td>\n",
       "      <td>Top Gun</td>\n",
       "      <td>lovesickness, loss of lover, fighter pilot, se...</td>\n",
       "      <td>1986</td>\n",
       "    </tr>\n",
       "    <tr>\n",
       "      <th>3</th>\n",
       "      <td>18500000</td>\n",
       "      <td>Twentieth Century Fox Film Corporation</td>\n",
       "      <td>Other</td>\n",
       "      <td>85160248</td>\n",
       "      <td>Aliens</td>\n",
       "      <td>18.07.1986 00:00</td>\n",
       "      <td>Sigourney Weaver</td>\n",
       "      <td>James Cameron</td>\n",
       "      <td>1986</td>\n",
       "      <td>1</td>\n",
       "      <td>3.603257</td>\n",
       "      <td>360</td>\n",
       "      <td>679</td>\n",
       "      <td>tt0090605</td>\n",
       "      <td>Aliens</td>\n",
       "      <td>When Ripley's lifepod is found by a salvage cr...</td>\n",
       "      <td>21.761179</td>\n",
       "      <td>Aliens</td>\n",
       "      <td>android, extraterrestrial technology, space ma...</td>\n",
       "      <td>1986</td>\n",
       "    </tr>\n",
       "    <tr>\n",
       "      <th>4</th>\n",
       "      <td>9000000</td>\n",
       "      <td>Walt Disney Pictures</td>\n",
       "      <td>Other</td>\n",
       "      <td>18564613</td>\n",
       "      <td>Flight of the Navigator</td>\n",
       "      <td>1.08.1986 00:00</td>\n",
       "      <td>Joey Cramer</td>\n",
       "      <td>Mark H. Baker</td>\n",
       "      <td>1986</td>\n",
       "      <td>1</td>\n",
       "      <td>1.062735</td>\n",
       "      <td>110</td>\n",
       "      <td>10122</td>\n",
       "      <td>tt0091059</td>\n",
       "      <td>Flight of the Navigator</td>\n",
       "      <td>This 1986 Disney adventure tells the story of ...</td>\n",
       "      <td>5.526865</td>\n",
       "      <td>Flight of the Navigator</td>\n",
       "      <td>artificial intelligence, farewell, homesicknes...</td>\n",
       "      <td>1986</td>\n",
       "    </tr>\n",
       "  </tbody>\n",
       "</table>\n",
       "</div>"
      ],
      "text/plain": [
       "     budget                                 company    director      gross  \\\n",
       "0   8000000           Columbia Pictures Corporation  Rob Reiner   52287414   \n",
       "1   6000000                      Paramount Pictures       Other   70136369   \n",
       "2  15000000                      Paramount Pictures       Other  179800601   \n",
       "3  18500000  Twentieth Century Fox Film Corporation       Other   85160248   \n",
       "4   9000000                    Walt Disney Pictures       Other   18564613   \n",
       "\n",
       "                       name          released               star  \\\n",
       "0               Stand by Me  22.08.1986 00:00        Wil Wheaton   \n",
       "1  Ferris Bueller's Day Off  11.06.1986 00:00  Matthew Broderick   \n",
       "2                   Top Gun  16.05.1986 00:00         Tom Cruise   \n",
       "3                    Aliens  18.07.1986 00:00   Sigourney Weaver   \n",
       "4   Flight of the Navigator   1.08.1986 00:00        Joey Cramer   \n",
       "\n",
       "          writer  year  isprofit  profitability_ratio  \\\n",
       "0   Stephen King  1986         1             5.535927   \n",
       "1    John Hughes  1986         1            10.689395   \n",
       "2       Jim Cash  1986         1            10.986707   \n",
       "3  James Cameron  1986         1             3.603257   \n",
       "4  Mark H. Baker  1986         1             1.062735   \n",
       "\n",
       "   profitability_ratio_bucket     id    imdb_id            original_title  \\\n",
       "0                         550    235  tt0092005               Stand by Me   \n",
       "1                        1070   9377  tt0091042  Ferris Bueller's Day Off   \n",
       "2                        1100    744  tt0092099                   Top Gun   \n",
       "3                         360    679  tt0090605                    Aliens   \n",
       "4                         110  10122  tt0091059   Flight of the Navigator   \n",
       "\n",
       "                                            overview  popularity  \\\n",
       "0  After the death of a friend, a writer recounts...   15.206957   \n",
       "1  Charismatic teen Ferris Bueller plays hooky in...   12.724645   \n",
       "2  For Lieutenant Pete 'Maverick' Mitchell and hi...   20.301019   \n",
       "3  When Ripley's lifepod is found by a salvage cr...   21.761179   \n",
       "4  This 1986 Disney adventure tells the story of ...    5.526865   \n",
       "\n",
       "                      title  \\\n",
       "0               Stand by Me   \n",
       "1  Ferris Bueller's Day Off   \n",
       "2                   Top Gun   \n",
       "3                    Aliens   \n",
       "4   Flight of the Navigator   \n",
       "\n",
       "                                     keywords_edited  year_released  \n",
       "0  based on novel, friendship, coming of age, rai...           1986  \n",
       "1  chicago, high school, aftercreditsstinger, dur...           1986  \n",
       "2  lovesickness, loss of lover, fighter pilot, se...           1986  \n",
       "3  android, extraterrestrial technology, space ma...           1986  \n",
       "4  artificial intelligence, farewell, homesicknes...           1986  "
      ]
     },
     "execution_count": 11,
     "metadata": {},
     "output_type": "execute_result"
    }
   ],
   "source": [
    "df.head()   # take a peak at the dataset"
   ]
  },
  {
   "cell_type": "code",
   "execution_count": 12,
   "metadata": {},
   "outputs": [
    {
     "name": "stdout",
     "output_type": "stream",
     "text": [
      "<class 'pandas.core.frame.DataFrame'>\n",
      "RangeIndex: 3524 entries, 0 to 3523\n",
      "Data columns (total 20 columns):\n",
      " #   Column                      Non-Null Count  Dtype  \n",
      "---  ------                      --------------  -----  \n",
      " 0   budget                      3524 non-null   int64  \n",
      " 1   company                     3524 non-null   object \n",
      " 2   director                    3524 non-null   object \n",
      " 3   gross                       3524 non-null   int64  \n",
      " 4   name                        3524 non-null   object \n",
      " 5   released                    3524 non-null   object \n",
      " 6   star                        3524 non-null   object \n",
      " 7   writer                      3524 non-null   object \n",
      " 8   year                        3524 non-null   int64  \n",
      " 9   isprofit                    3524 non-null   int64  \n",
      " 10  profitability_ratio         3524 non-null   float64\n",
      " 11  profitability_ratio_bucket  3524 non-null   int64  \n",
      " 12  id                          3524 non-null   int64  \n",
      " 13  imdb_id                     3524 non-null   object \n",
      " 14  original_title              3524 non-null   object \n",
      " 15  overview                    3523 non-null   object \n",
      " 16  popularity                  3524 non-null   float64\n",
      " 17  title                       3524 non-null   object \n",
      " 18  keywords_edited             3357 non-null   object \n",
      " 19  year_released               3524 non-null   int64  \n",
      "dtypes: float64(2), int64(7), object(11)\n",
      "memory usage: 399.3+ KB\n"
     ]
    }
   ],
   "source": [
    "df.info()"
   ]
  },
  {
   "cell_type": "code",
   "execution_count": 13,
   "metadata": {},
   "outputs": [
    {
     "data": {
      "text/plain": [
       "budget                          0\n",
       "company                         0\n",
       "director                        0\n",
       "gross                           0\n",
       "name                            0\n",
       "released                        0\n",
       "star                            0\n",
       "writer                          0\n",
       "year                            0\n",
       "isprofit                        0\n",
       "profitability_ratio             0\n",
       "profitability_ratio_bucket      0\n",
       "id                              0\n",
       "imdb_id                         0\n",
       "original_title                  0\n",
       "overview                        1\n",
       "popularity                      0\n",
       "title                           0\n",
       "keywords_edited               167\n",
       "year_released                   0\n",
       "dtype: int64"
      ]
     },
     "execution_count": 13,
     "metadata": {},
     "output_type": "execute_result"
    }
   ],
   "source": [
    "df.isnull().sum()"
   ]
  },
  {
   "cell_type": "code",
   "execution_count": 14,
   "metadata": {},
   "outputs": [
    {
     "data": {
      "text/html": [
       "<div>\n",
       "<style scoped>\n",
       "    .dataframe tbody tr th:only-of-type {\n",
       "        vertical-align: middle;\n",
       "    }\n",
       "\n",
       "    .dataframe tbody tr th {\n",
       "        vertical-align: top;\n",
       "    }\n",
       "\n",
       "    .dataframe thead th {\n",
       "        text-align: right;\n",
       "    }\n",
       "</style>\n",
       "<table border=\"1\" class=\"dataframe\">\n",
       "  <thead>\n",
       "    <tr style=\"text-align: right;\">\n",
       "      <th></th>\n",
       "      <th>budget</th>\n",
       "      <th>gross</th>\n",
       "      <th>year</th>\n",
       "      <th>isprofit</th>\n",
       "      <th>profitability_ratio</th>\n",
       "      <th>profitability_ratio_bucket</th>\n",
       "      <th>id</th>\n",
       "      <th>popularity</th>\n",
       "      <th>year_released</th>\n",
       "    </tr>\n",
       "  </thead>\n",
       "  <tbody>\n",
       "    <tr>\n",
       "      <th>count</th>\n",
       "      <td>3.524000e+03</td>\n",
       "      <td>3.524000e+03</td>\n",
       "      <td>3524.000000</td>\n",
       "      <td>3524.000000</td>\n",
       "      <td>3524.000000</td>\n",
       "      <td>3524.000000</td>\n",
       "      <td>3524.000000</td>\n",
       "      <td>3524.000000</td>\n",
       "      <td>3524.000000</td>\n",
       "    </tr>\n",
       "    <tr>\n",
       "      <th>mean</th>\n",
       "      <td>3.646837e+07</td>\n",
       "      <td>4.772520e+07</td>\n",
       "      <td>1997.125709</td>\n",
       "      <td>0.510499</td>\n",
       "      <td>3.996876</td>\n",
       "      <td>399.602157</td>\n",
       "      <td>45443.112656</td>\n",
       "      <td>9.785946</td>\n",
       "      <td>2002.385641</td>\n",
       "    </tr>\n",
       "    <tr>\n",
       "      <th>std</th>\n",
       "      <td>4.063369e+07</td>\n",
       "      <td>6.707121e+07</td>\n",
       "      <td>101.418026</td>\n",
       "      <td>0.499961</td>\n",
       "      <td>127.868810</td>\n",
       "      <td>12786.904323</td>\n",
       "      <td>77014.289184</td>\n",
       "      <td>13.318482</td>\n",
       "      <td>8.422442</td>\n",
       "    </tr>\n",
       "    <tr>\n",
       "      <th>min</th>\n",
       "      <td>0.000000e+00</td>\n",
       "      <td>0.000000e+00</td>\n",
       "      <td>0.000000</td>\n",
       "      <td>0.000000</td>\n",
       "      <td>-0.999979</td>\n",
       "      <td>-100.000000</td>\n",
       "      <td>0.000000</td>\n",
       "      <td>0.000000</td>\n",
       "      <td>1986.000000</td>\n",
       "    </tr>\n",
       "    <tr>\n",
       "      <th>25%</th>\n",
       "      <td>1.000000e+07</td>\n",
       "      <td>6.955428e+06</td>\n",
       "      <td>1996.000000</td>\n",
       "      <td>0.000000</td>\n",
       "      <td>-0.552571</td>\n",
       "      <td>-60.000000</td>\n",
       "      <td>8864.750000</td>\n",
       "      <td>5.746421</td>\n",
       "      <td>1996.000000</td>\n",
       "    </tr>\n",
       "    <tr>\n",
       "      <th>50%</th>\n",
       "      <td>2.300000e+07</td>\n",
       "      <td>2.511110e+07</td>\n",
       "      <td>2002.000000</td>\n",
       "      <td>1.000000</td>\n",
       "      <td>0.020240</td>\n",
       "      <td>0.000000</td>\n",
       "      <td>12513.500000</td>\n",
       "      <td>8.411079</td>\n",
       "      <td>2003.000000</td>\n",
       "    </tr>\n",
       "    <tr>\n",
       "      <th>75%</th>\n",
       "      <td>4.800000e+07</td>\n",
       "      <td>6.036672e+07</td>\n",
       "      <td>2009.000000</td>\n",
       "      <td>1.000000</td>\n",
       "      <td>1.029155</td>\n",
       "      <td>100.000000</td>\n",
       "      <td>41220.250000</td>\n",
       "      <td>11.654501</td>\n",
       "      <td>2010.000000</td>\n",
       "    </tr>\n",
       "    <tr>\n",
       "      <th>max</th>\n",
       "      <td>3.000000e+08</td>\n",
       "      <td>9.366622e+08</td>\n",
       "      <td>2016.000000</td>\n",
       "      <td>1.000000</td>\n",
       "      <td>7193.587333</td>\n",
       "      <td>719360.000000</td>\n",
       "      <td>404378.000000</td>\n",
       "      <td>547.488298</td>\n",
       "      <td>2017.000000</td>\n",
       "    </tr>\n",
       "  </tbody>\n",
       "</table>\n",
       "</div>"
      ],
      "text/plain": [
       "             budget         gross         year     isprofit  \\\n",
       "count  3.524000e+03  3.524000e+03  3524.000000  3524.000000   \n",
       "mean   3.646837e+07  4.772520e+07  1997.125709     0.510499   \n",
       "std    4.063369e+07  6.707121e+07   101.418026     0.499961   \n",
       "min    0.000000e+00  0.000000e+00     0.000000     0.000000   \n",
       "25%    1.000000e+07  6.955428e+06  1996.000000     0.000000   \n",
       "50%    2.300000e+07  2.511110e+07  2002.000000     1.000000   \n",
       "75%    4.800000e+07  6.036672e+07  2009.000000     1.000000   \n",
       "max    3.000000e+08  9.366622e+08  2016.000000     1.000000   \n",
       "\n",
       "       profitability_ratio  profitability_ratio_bucket             id  \\\n",
       "count          3524.000000                 3524.000000    3524.000000   \n",
       "mean              3.996876                  399.602157   45443.112656   \n",
       "std             127.868810                12786.904323   77014.289184   \n",
       "min              -0.999979                 -100.000000       0.000000   \n",
       "25%              -0.552571                  -60.000000    8864.750000   \n",
       "50%               0.020240                    0.000000   12513.500000   \n",
       "75%               1.029155                  100.000000   41220.250000   \n",
       "max            7193.587333               719360.000000  404378.000000   \n",
       "\n",
       "        popularity  year_released  \n",
       "count  3524.000000    3524.000000  \n",
       "mean      9.785946    2002.385641  \n",
       "std      13.318482       8.422442  \n",
       "min       0.000000    1986.000000  \n",
       "25%       5.746421    1996.000000  \n",
       "50%       8.411079    2003.000000  \n",
       "75%      11.654501    2010.000000  \n",
       "max     547.488298    2017.000000  "
      ]
     },
     "execution_count": 14,
     "metadata": {},
     "output_type": "execute_result"
    }
   ],
   "source": [
    "df.describe()   # after replacing zero with None"
   ]
  },
  {
   "cell_type": "markdown",
   "metadata": {},
   "source": [
    "## 2.3. Removing Rows <a class=\"anchor\" id=\"23\"></a>"
   ]
  },
  {
   "cell_type": "code",
   "execution_count": 15,
   "metadata": {},
   "outputs": [],
   "source": [
    "data_dropped = df.dropna()"
   ]
  },
  {
   "cell_type": "code",
   "execution_count": 16,
   "metadata": {},
   "outputs": [],
   "source": [
    "data_dropped = data_dropped.reset_index() \n",
    "del data_dropped['index']"
   ]
  },
  {
   "cell_type": "code",
   "execution_count": 17,
   "metadata": {},
   "outputs": [
    {
     "data": {
      "text/plain": [
       "(3356, 20)"
      ]
     },
     "execution_count": 17,
     "metadata": {},
     "output_type": "execute_result"
    }
   ],
   "source": [
    "data_dropped.shape"
   ]
  },
  {
   "cell_type": "code",
   "execution_count": 18,
   "metadata": {},
   "outputs": [
    {
     "data": {
      "text/plain": [
       "(3524, 20)"
      ]
     },
     "execution_count": 18,
     "metadata": {},
     "output_type": "execute_result"
    }
   ],
   "source": [
    "df.shape"
   ]
  },
  {
   "cell_type": "code",
   "execution_count": 19,
   "metadata": {},
   "outputs": [],
   "source": [
    "num_rows_lost = round(100*(df.shape[0] - data_dropped.shape[0])/float(df.shape[0]))"
   ]
  },
  {
   "cell_type": "code",
   "execution_count": 20,
   "metadata": {},
   "outputs": [
    {
     "data": {
      "text/plain": [
       "'retained 5% of rows'"
      ]
     },
     "execution_count": 20,
     "metadata": {},
     "output_type": "execute_result"
    }
   ],
   "source": [
    "template = 'retained {}% of rows'\n",
    "template.format(num_rows_lost)"
   ]
  },
  {
   "cell_type": "code",
   "execution_count": 21,
   "metadata": {},
   "outputs": [
    {
     "data": {
      "text/plain": [
       "isprofit\n",
       "0    1609\n",
       "1    1747\n",
       "dtype: int64"
      ]
     },
     "execution_count": 21,
     "metadata": {},
     "output_type": "execute_result"
    }
   ],
   "source": [
    "# class distribution\n",
    "class_counts = data_dropped.groupby('isprofit').size()\n",
    "class_counts"
   ]
  },
  {
   "cell_type": "code",
   "execution_count": 22,
   "metadata": {},
   "outputs": [
    {
     "data": {
      "text/plain": [
       "0.456583427922815"
      ]
     },
     "execution_count": 22,
     "metadata": {},
     "output_type": "execute_result"
    }
   ],
   "source": [
    "class_counts[0]/df['isprofit'].size"
   ]
  },
  {
   "cell_type": "code",
   "execution_count": 23,
   "metadata": {},
   "outputs": [
    {
     "data": {
      "text/plain": [
       "1    0.510499\n",
       "0    0.489501\n",
       "Name: isprofit, dtype: float64"
      ]
     },
     "execution_count": 23,
     "metadata": {},
     "output_type": "execute_result"
    }
   ],
   "source": [
    "df['isprofit'].value_counts(normalize=True)   #  split of trues and falses before rows dropped"
   ]
  },
  {
   "cell_type": "code",
   "execution_count": 24,
   "metadata": {},
   "outputs": [
    {
     "data": {
      "text/plain": [
       "1    0.52056\n",
       "0    0.47944\n",
       "Name: isprofit, dtype: float64"
      ]
     },
     "execution_count": 24,
     "metadata": {},
     "output_type": "execute_result"
    }
   ],
   "source": [
    "data_dropped['isprofit'].value_counts(normalize=True)   #  split of trues and falses after rows dropped"
   ]
  },
  {
   "cell_type": "code",
   "execution_count": 25,
   "metadata": {},
   "outputs": [
    {
     "data": {
      "text/html": [
       "<div>\n",
       "<style scoped>\n",
       "    .dataframe tbody tr th:only-of-type {\n",
       "        vertical-align: middle;\n",
       "    }\n",
       "\n",
       "    .dataframe tbody tr th {\n",
       "        vertical-align: top;\n",
       "    }\n",
       "\n",
       "    .dataframe thead th {\n",
       "        text-align: right;\n",
       "    }\n",
       "</style>\n",
       "<table border=\"1\" class=\"dataframe\">\n",
       "  <thead>\n",
       "    <tr style=\"text-align: right;\">\n",
       "      <th></th>\n",
       "      <th>budget</th>\n",
       "      <th>gross</th>\n",
       "      <th>year</th>\n",
       "      <th>isprofit</th>\n",
       "      <th>profitability_ratio</th>\n",
       "      <th>profitability_ratio_bucket</th>\n",
       "      <th>id</th>\n",
       "      <th>popularity</th>\n",
       "      <th>year_released</th>\n",
       "    </tr>\n",
       "  </thead>\n",
       "  <tbody>\n",
       "    <tr>\n",
       "      <th>count</th>\n",
       "      <td>3.356000e+03</td>\n",
       "      <td>3.356000e+03</td>\n",
       "      <td>3356.000000</td>\n",
       "      <td>3356.000000</td>\n",
       "      <td>3356.000000</td>\n",
       "      <td>3356.000000</td>\n",
       "      <td>3356.000000</td>\n",
       "      <td>3356.000000</td>\n",
       "      <td>3356.000000</td>\n",
       "    </tr>\n",
       "    <tr>\n",
       "      <th>mean</th>\n",
       "      <td>3.745400e+07</td>\n",
       "      <td>4.939628e+07</td>\n",
       "      <td>1996.988081</td>\n",
       "      <td>0.520560</td>\n",
       "      <td>4.190876</td>\n",
       "      <td>418.998808</td>\n",
       "      <td>45034.026520</td>\n",
       "      <td>10.038780</td>\n",
       "      <td>2002.500000</td>\n",
       "    </tr>\n",
       "    <tr>\n",
       "      <th>std</th>\n",
       "      <td>4.120261e+07</td>\n",
       "      <td>6.810829e+07</td>\n",
       "      <td>103.907020</td>\n",
       "      <td>0.499652</td>\n",
       "      <td>131.027457</td>\n",
       "      <td>13102.769606</td>\n",
       "      <td>77609.038105</td>\n",
       "      <td>13.573513</td>\n",
       "      <td>8.402132</td>\n",
       "    </tr>\n",
       "    <tr>\n",
       "      <th>min</th>\n",
       "      <td>0.000000e+00</td>\n",
       "      <td>0.000000e+00</td>\n",
       "      <td>0.000000</td>\n",
       "      <td>0.000000</td>\n",
       "      <td>-0.999979</td>\n",
       "      <td>-100.000000</td>\n",
       "      <td>0.000000</td>\n",
       "      <td>0.000000</td>\n",
       "      <td>1986.000000</td>\n",
       "    </tr>\n",
       "    <tr>\n",
       "      <th>25%</th>\n",
       "      <td>1.000000e+07</td>\n",
       "      <td>7.909841e+06</td>\n",
       "      <td>1996.000000</td>\n",
       "      <td>0.000000</td>\n",
       "      <td>-0.527085</td>\n",
       "      <td>-50.000000</td>\n",
       "      <td>8507.500000</td>\n",
       "      <td>5.977572</td>\n",
       "      <td>1996.000000</td>\n",
       "    </tr>\n",
       "    <tr>\n",
       "      <th>50%</th>\n",
       "      <td>2.450000e+07</td>\n",
       "      <td>2.642637e+07</td>\n",
       "      <td>2003.000000</td>\n",
       "      <td>1.000000</td>\n",
       "      <td>0.045175</td>\n",
       "      <td>0.000000</td>\n",
       "      <td>11912.500000</td>\n",
       "      <td>8.659390</td>\n",
       "      <td>2003.000000</td>\n",
       "    </tr>\n",
       "    <tr>\n",
       "      <th>75%</th>\n",
       "      <td>5.000000e+07</td>\n",
       "      <td>6.311457e+07</td>\n",
       "      <td>2009.000000</td>\n",
       "      <td>1.000000</td>\n",
       "      <td>1.040607</td>\n",
       "      <td>100.000000</td>\n",
       "      <td>39456.500000</td>\n",
       "      <td>11.797017</td>\n",
       "      <td>2010.000000</td>\n",
       "    </tr>\n",
       "    <tr>\n",
       "      <th>max</th>\n",
       "      <td>3.000000e+08</td>\n",
       "      <td>9.366622e+08</td>\n",
       "      <td>2016.000000</td>\n",
       "      <td>1.000000</td>\n",
       "      <td>7193.587333</td>\n",
       "      <td>719360.000000</td>\n",
       "      <td>404378.000000</td>\n",
       "      <td>547.488298</td>\n",
       "      <td>2017.000000</td>\n",
       "    </tr>\n",
       "  </tbody>\n",
       "</table>\n",
       "</div>"
      ],
      "text/plain": [
       "             budget         gross         year     isprofit  \\\n",
       "count  3.356000e+03  3.356000e+03  3356.000000  3356.000000   \n",
       "mean   3.745400e+07  4.939628e+07  1996.988081     0.520560   \n",
       "std    4.120261e+07  6.810829e+07   103.907020     0.499652   \n",
       "min    0.000000e+00  0.000000e+00     0.000000     0.000000   \n",
       "25%    1.000000e+07  7.909841e+06  1996.000000     0.000000   \n",
       "50%    2.450000e+07  2.642637e+07  2003.000000     1.000000   \n",
       "75%    5.000000e+07  6.311457e+07  2009.000000     1.000000   \n",
       "max    3.000000e+08  9.366622e+08  2016.000000     1.000000   \n",
       "\n",
       "       profitability_ratio  profitability_ratio_bucket             id  \\\n",
       "count          3356.000000                 3356.000000    3356.000000   \n",
       "mean              4.190876                  418.998808   45034.026520   \n",
       "std             131.027457                13102.769606   77609.038105   \n",
       "min              -0.999979                 -100.000000       0.000000   \n",
       "25%              -0.527085                  -50.000000    8507.500000   \n",
       "50%               0.045175                    0.000000   11912.500000   \n",
       "75%               1.040607                  100.000000   39456.500000   \n",
       "max            7193.587333               719360.000000  404378.000000   \n",
       "\n",
       "        popularity  year_released  \n",
       "count  3356.000000    3356.000000  \n",
       "mean     10.038780    2002.500000  \n",
       "std      13.573513       8.402132  \n",
       "min       0.000000    1986.000000  \n",
       "25%       5.977572    1996.000000  \n",
       "50%       8.659390    2003.000000  \n",
       "75%      11.797017    2010.000000  \n",
       "max     547.488298    2017.000000  "
      ]
     },
     "execution_count": 25,
     "metadata": {},
     "output_type": "execute_result"
    }
   ],
   "source": [
    "data_dropped.describe()   # after removing rows which include NaN"
   ]
  },
  {
   "cell_type": "code",
   "execution_count": 26,
   "metadata": {},
   "outputs": [
    {
     "data": {
      "text/plain": [
       "budget                        2.70\n",
       "gross                         3.50\n",
       "year                         -0.01\n",
       "isprofit                      1.97\n",
       "profitability_ratio           4.85\n",
       "profitability_ratio_bucket    4.85\n",
       "id                           -0.90\n",
       "popularity                    2.58\n",
       "year_released                 0.01\n",
       "dtype: float64"
      ]
     },
     "execution_count": 26,
     "metadata": {},
     "output_type": "execute_result"
    }
   ],
   "source": [
    "# % change in means of columns before and after dropping missing-value rows\n",
    "change_in_means = ((data_dropped.mean() - df.mean()) / df.mean() * 100).round(2)\n",
    "change_in_means"
   ]
  },
  {
   "cell_type": "markdown",
   "metadata": {},
   "source": [
    "### Bar Chart of the Change in Means"
   ]
  },
  {
   "cell_type": "code",
   "execution_count": 27,
   "metadata": {},
   "outputs": [
    {
     "data": {
      "text/plain": [
       "Text(0, 0.5, '% change')"
      ]
     },
     "execution_count": 27,
     "metadata": {},
     "output_type": "execute_result"
    },
    {
     "data": {
      "image/png": "[encoded data removed]",
      "text/plain": [
       "<Figure size 648x288 with 1 Axes>"
      ]
     },
     "metadata": {},
     "output_type": "display_data"
    }
   ],
   "source": [
    "plt.figure(figsize=(9, 4))\n",
    "change_in_means.plot.bar(title='% change in average column values')\n",
    "plt.ylabel('% change')\n"
   ]
  },
  {
   "cell_type": "markdown",
   "metadata": {},
   "source": [
    "Figure 1: Percent change in average column values\n",
    "<p>Figure 1 shows the percent change in mean of columns before and after dropping missing-value rows.</p>"
   ]
  },
  {
   "cell_type": "markdown",
   "metadata": {},
   "source": [
    "## 2.4. Finding Outliers <a class=\"anchor\" id=\"24\"></a>"
   ]
  },
  {
   "cell_type": "markdown",
   "metadata": {},
   "source": [
    "### 2.4.1. IQR Score Method <a class=\"anchor\" id=\"241\"></a>"
   ]
  },
  {
   "cell_type": "code",
   "execution_count": 28,
   "metadata": {},
   "outputs": [
    {
     "name": "stdout",
     "output_type": "stream",
     "text": [
      "budget                        4.000000e+07\n",
      "gross                         5.520473e+07\n",
      "year                          1.300000e+01\n",
      "isprofit                      1.000000e+00\n",
      "profitability_ratio           1.567692e+00\n",
      "profitability_ratio_bucket    1.500000e+02\n",
      "id                            3.094900e+04\n",
      "popularity                    5.819444e+00\n",
      "year_released                 1.400000e+01\n",
      "dtype: float64\n"
     ]
    }
   ],
   "source": [
    "Q1 = data_dropped.quantile(0.25)\n",
    "Q3 = data_dropped.quantile(0.75)\n",
    "IQR = Q3 - Q1\n",
    "print(IQR)"
   ]
  },
  {
   "cell_type": "code",
   "execution_count": 29,
   "metadata": {},
   "outputs": [
    {
     "name": "stdout",
     "output_type": "stream",
     "text": [
      "      budget  company  director  gross     id  imdb_id  isprofit  \\\n",
      "0      False    False     False  False  False    False     False   \n",
      "1      False    False     False  False  False    False     False   \n",
      "2      False    False     False   True  False    False     False   \n",
      "3      False    False     False  False  False    False     False   \n",
      "4      False    False     False  False  False    False     False   \n",
      "...      ...      ...       ...    ...    ...      ...       ...   \n",
      "3351   False    False     False  False   True    False     False   \n",
      "3352   False    False     False  False   True    False     False   \n",
      "3353   False    False     False  False   True    False     False   \n",
      "3354   False    False     False  False   True    False     False   \n",
      "3355   False    False     False  False   True    False     False   \n",
      "\n",
      "      keywords_edited   name  original_title  overview  popularity  \\\n",
      "0               False  False           False     False       False   \n",
      "1               False  False           False     False       False   \n",
      "2               False  False           False     False       False   \n",
      "3               False  False           False     False        True   \n",
      "4               False  False           False     False       False   \n",
      "...               ...    ...             ...       ...         ...   \n",
      "3351            False  False           False     False       False   \n",
      "3352            False  False           False     False       False   \n",
      "3353            False  False           False     False       False   \n",
      "3354            False  False           False     False       False   \n",
      "3355            False  False           False     False       False   \n",
      "\n",
      "      profitability_ratio  profitability_ratio_bucket  released   star  title  \\\n",
      "0                    True                        True     False  False  False   \n",
      "1                    True                        True     False  False  False   \n",
      "2                    True                        True     False  False  False   \n",
      "3                    True                        True     False  False  False   \n",
      "4                   False                       False     False  False  False   \n",
      "...                   ...                         ...       ...    ...    ...   \n",
      "3351                False                       False     False  False  False   \n",
      "3352                 True                        True     False  False  False   \n",
      "3353                False                       False     False  False  False   \n",
      "3354                False                       False     False  False  False   \n",
      "3355                False                       False     False  False  False   \n",
      "\n",
      "      writer   year  year_released  \n",
      "0      False  False          False  \n",
      "1      False  False          False  \n",
      "2      False  False          False  \n",
      "3      False  False          False  \n",
      "4      False  False          False  \n",
      "...      ...    ...            ...  \n",
      "3351   False  False          False  \n",
      "3352   False  False          False  \n",
      "3353   False  False          False  \n",
      "3354   False  False          False  \n",
      "3355   False  False          False  \n",
      "\n",
      "[3356 rows x 20 columns]\n"
     ]
    },
    {
     "name": "stderr",
     "output_type": "stream",
     "text": [
      "c:\\users\\jaymish\\desktop\\pcs\\web2txt\\webapp\\venv\\lib\\site-packages\\ipykernel_launcher.py:1: FutureWarning: Automatic reindexing on DataFrame vs Series comparisons is deprecated and will raise ValueError in a future version.  Do `left, right = left.align(right, axis=1, copy=False)` before e.g. `left == right`\n",
      "  \"\"\"Entry point for launching an IPython kernel.\n",
      "c:\\users\\jaymish\\desktop\\pcs\\web2txt\\webapp\\venv\\lib\\site-packages\\ipykernel_launcher.py:1: FutureWarning: Automatic reindexing on DataFrame vs Series comparisons is deprecated and will raise ValueError in a future version.  Do `left, right = left.align(right, axis=1, copy=False)` before e.g. `left == right`\n",
      "  \"\"\"Entry point for launching an IPython kernel.\n"
     ]
    }
   ],
   "source": [
    "print((data_dropped < (Q1 - (1.5 * IQR))) | (data_dropped > (Q3 + (1.5 * IQR))))"
   ]
  },
  {
   "cell_type": "code",
   "execution_count": 30,
   "metadata": {},
   "outputs": [
    {
     "data": {
      "text/plain": [
       "(3356, 20)"
      ]
     },
     "execution_count": 30,
     "metadata": {},
     "output_type": "execute_result"
    }
   ],
   "source": [
    "data_dropped.shape"
   ]
  },
  {
   "cell_type": "code",
   "execution_count": 31,
   "metadata": {},
   "outputs": [
    {
     "name": "stderr",
     "output_type": "stream",
     "text": [
      "c:\\users\\jaymish\\desktop\\pcs\\web2txt\\webapp\\venv\\lib\\site-packages\\ipykernel_launcher.py:1: FutureWarning: Automatic reindexing on DataFrame vs Series comparisons is deprecated and will raise ValueError in a future version.  Do `left, right = left.align(right, axis=1, copy=False)` before e.g. `left == right`\n",
      "  \"\"\"Entry point for launching an IPython kernel.\n",
      "c:\\users\\jaymish\\desktop\\pcs\\web2txt\\webapp\\venv\\lib\\site-packages\\ipykernel_launcher.py:1: FutureWarning: Automatic reindexing on DataFrame vs Series comparisons is deprecated and will raise ValueError in a future version.  Do `left, right = left.align(right, axis=1, copy=False)` before e.g. `left == right`\n",
      "  \"\"\"Entry point for launching an IPython kernel.\n"
     ]
    }
   ],
   "source": [
    "data_dropped_outlier_IQR = data_dropped[~((data_dropped < (Q1 - 1.5 * IQR)) | (data_dropped > (Q3 + 1.5 * IQR))).any(axis=1)]"
   ]
  },
  {
   "cell_type": "code",
   "execution_count": 32,
   "metadata": {},
   "outputs": [
    {
     "data": {
      "text/plain": [
       "(2379, 20)"
      ]
     },
     "execution_count": 32,
     "metadata": {},
     "output_type": "execute_result"
    }
   ],
   "source": [
    "data_dropped_outlier_IQR.shape"
   ]
  },
  {
   "cell_type": "code",
   "execution_count": 33,
   "metadata": {},
   "outputs": [
    {
     "data": {
      "text/html": [
       "<div>\n",
       "<style scoped>\n",
       "    .dataframe tbody tr th:only-of-type {\n",
       "        vertical-align: middle;\n",
       "    }\n",
       "\n",
       "    .dataframe tbody tr th {\n",
       "        vertical-align: top;\n",
       "    }\n",
       "\n",
       "    .dataframe thead th {\n",
       "        text-align: right;\n",
       "    }\n",
       "</style>\n",
       "<table border=\"1\" class=\"dataframe\">\n",
       "  <thead>\n",
       "    <tr style=\"text-align: right;\">\n",
       "      <th></th>\n",
       "      <th>budget</th>\n",
       "      <th>company</th>\n",
       "      <th>director</th>\n",
       "      <th>gross</th>\n",
       "      <th>name</th>\n",
       "      <th>released</th>\n",
       "      <th>star</th>\n",
       "      <th>writer</th>\n",
       "      <th>year</th>\n",
       "      <th>isprofit</th>\n",
       "      <th>profitability_ratio</th>\n",
       "      <th>profitability_ratio_bucket</th>\n",
       "      <th>id</th>\n",
       "      <th>imdb_id</th>\n",
       "      <th>original_title</th>\n",
       "      <th>overview</th>\n",
       "      <th>popularity</th>\n",
       "      <th>title</th>\n",
       "      <th>keywords_edited</th>\n",
       "      <th>year_released</th>\n",
       "    </tr>\n",
       "  </thead>\n",
       "  <tbody>\n",
       "    <tr>\n",
       "      <th>0</th>\n",
       "      <td>9000000</td>\n",
       "      <td>Walt Disney Pictures</td>\n",
       "      <td>Other</td>\n",
       "      <td>18564613</td>\n",
       "      <td>Flight of the Navigator</td>\n",
       "      <td>1.08.1986 00:00</td>\n",
       "      <td>Joey Cramer</td>\n",
       "      <td>Mark H. Baker</td>\n",
       "      <td>1986</td>\n",
       "      <td>1</td>\n",
       "      <td>1.062735</td>\n",
       "      <td>110</td>\n",
       "      <td>10122</td>\n",
       "      <td>tt0091059</td>\n",
       "      <td>Flight of the Navigator</td>\n",
       "      <td>This 1986 Disney adventure tells the story of ...</td>\n",
       "      <td>5.526865</td>\n",
       "      <td>Flight of the Navigator</td>\n",
       "      <td>artificial intelligence, farewell, homesicknes...</td>\n",
       "      <td>1986</td>\n",
       "    </tr>\n",
       "    <tr>\n",
       "      <th>1</th>\n",
       "      <td>6000000</td>\n",
       "      <td>Other</td>\n",
       "      <td>Other</td>\n",
       "      <td>8551228</td>\n",
       "      <td>Blue Velvet</td>\n",
       "      <td>23.10.1986 00:00</td>\n",
       "      <td>Isabella Rossellini</td>\n",
       "      <td>David Lynch</td>\n",
       "      <td>1986</td>\n",
       "      <td>1</td>\n",
       "      <td>0.425205</td>\n",
       "      <td>40</td>\n",
       "      <td>793</td>\n",
       "      <td>tt0090756</td>\n",
       "      <td>Blue Velvet</td>\n",
       "      <td>The discovery of a severed human ear found in ...</td>\n",
       "      <td>7.882247</td>\n",
       "      <td>Blue Velvet</td>\n",
       "      <td>small town, ear, suspense, independent film, p...</td>\n",
       "      <td>1986</td>\n",
       "    </tr>\n",
       "    <tr>\n",
       "      <th>2</th>\n",
       "      <td>16000000</td>\n",
       "      <td>Other</td>\n",
       "      <td>Other</td>\n",
       "      <td>5900000</td>\n",
       "      <td>Highlander</td>\n",
       "      <td>7.03.1986 00:00</td>\n",
       "      <td>Christopher Lambert</td>\n",
       "      <td>Gregory Widen</td>\n",
       "      <td>1986</td>\n",
       "      <td>0</td>\n",
       "      <td>-0.631250</td>\n",
       "      <td>-60</td>\n",
       "      <td>8009</td>\n",
       "      <td>tt0091203</td>\n",
       "      <td>Highlander</td>\n",
       "      <td>He fought his first battle on the Scottish Hig...</td>\n",
       "      <td>16.870392</td>\n",
       "      <td>Highlander</td>\n",
       "      <td>new york, scotland, swordplay, sword, cut-off ...</td>\n",
       "      <td>1986</td>\n",
       "    </tr>\n",
       "    <tr>\n",
       "      <th>3</th>\n",
       "      <td>6000000</td>\n",
       "      <td>Twentieth Century Fox Film Corporation</td>\n",
       "      <td>Other</td>\n",
       "      <td>8200000</td>\n",
       "      <td>Lucas</td>\n",
       "      <td>28.03.1986 00:00</td>\n",
       "      <td>Corey Haim</td>\n",
       "      <td>David Seltzer</td>\n",
       "      <td>1986</td>\n",
       "      <td>1</td>\n",
       "      <td>0.366667</td>\n",
       "      <td>40</td>\n",
       "      <td>13346</td>\n",
       "      <td>tt0091445</td>\n",
       "      <td>Lucas</td>\n",
       "      <td>A socially inept fourteen year old experiences...</td>\n",
       "      <td>4.575350</td>\n",
       "      <td>Lucas</td>\n",
       "      <td>high school, american football team, cheerleading</td>\n",
       "      <td>1986</td>\n",
       "    </tr>\n",
       "    <tr>\n",
       "      <th>4</th>\n",
       "      <td>25000000</td>\n",
       "      <td>Twentieth Century Fox Film Corporation</td>\n",
       "      <td>Other</td>\n",
       "      <td>11100000</td>\n",
       "      <td>Big Trouble in Little China</td>\n",
       "      <td>2.07.1986 00:00</td>\n",
       "      <td>Kurt Russell</td>\n",
       "      <td>Gary Goldman</td>\n",
       "      <td>1986</td>\n",
       "      <td>0</td>\n",
       "      <td>-0.556000</td>\n",
       "      <td>-60</td>\n",
       "      <td>6978</td>\n",
       "      <td>tt0090728</td>\n",
       "      <td>Big Trouble in Little China</td>\n",
       "      <td>When trucker, Jack Burton agreed to take his f...</td>\n",
       "      <td>11.109932</td>\n",
       "      <td>Big Trouble in Little China</td>\n",
       "      <td>kung fu, chinatown, magic, mystery</td>\n",
       "      <td>1986</td>\n",
       "    </tr>\n",
       "    <tr>\n",
       "      <th>...</th>\n",
       "      <td>...</td>\n",
       "      <td>...</td>\n",
       "      <td>...</td>\n",
       "      <td>...</td>\n",
       "      <td>...</td>\n",
       "      <td>...</td>\n",
       "      <td>...</td>\n",
       "      <td>...</td>\n",
       "      <td>...</td>\n",
       "      <td>...</td>\n",
       "      <td>...</td>\n",
       "      <td>...</td>\n",
       "      <td>...</td>\n",
       "      <td>...</td>\n",
       "      <td>...</td>\n",
       "      <td>...</td>\n",
       "      <td>...</td>\n",
       "      <td>...</td>\n",
       "      <td>...</td>\n",
       "      <td>...</td>\n",
       "    </tr>\n",
       "    <tr>\n",
       "      <th>2374</th>\n",
       "      <td>25000000</td>\n",
       "      <td>Other</td>\n",
       "      <td>Other</td>\n",
       "      <td>100144</td>\n",
       "      <td>Man of Tai Chi</td>\n",
       "      <td>5.07.2013 00:00</td>\n",
       "      <td>Tiger Hu Chen</td>\n",
       "      <td>Michael G. Cooney</td>\n",
       "      <td>2013</td>\n",
       "      <td>0</td>\n",
       "      <td>-0.995994</td>\n",
       "      <td>-100</td>\n",
       "      <td>76544</td>\n",
       "      <td>tt2016940</td>\n",
       "      <td>Man of Tai Chi</td>\n",
       "      <td>In Beijing, a young martial artist's skill pla...</td>\n",
       "      <td>11.829231</td>\n",
       "      <td>Man of Tai Chi</td>\n",
       "      <td>china, martial arts, tai chi, extortion, illeg...</td>\n",
       "      <td>2013</td>\n",
       "    </tr>\n",
       "    <tr>\n",
       "      <th>2375</th>\n",
       "      <td>110000000</td>\n",
       "      <td>Warner Bros.</td>\n",
       "      <td>Other</td>\n",
       "      <td>106580051</td>\n",
       "      <td>300: Rise of an Empire</td>\n",
       "      <td>7.03.2014 00:00</td>\n",
       "      <td>Sullivan Stapleton</td>\n",
       "      <td>Zack Snyder</td>\n",
       "      <td>2014</td>\n",
       "      <td>0</td>\n",
       "      <td>-0.031090</td>\n",
       "      <td>0</td>\n",
       "      <td>53182</td>\n",
       "      <td>tt1253863</td>\n",
       "      <td>300: Rise of an Empire</td>\n",
       "      <td>Based on Frank Miller's latest graphic novel X...</td>\n",
       "      <td>12.904677</td>\n",
       "      <td>300: Rise of an Empire</td>\n",
       "      <td>based on graphic novel, ancient greece, during...</td>\n",
       "      <td>2014</td>\n",
       "    </tr>\n",
       "    <tr>\n",
       "      <th>2376</th>\n",
       "      <td>70000000</td>\n",
       "      <td>Universal Pictures</td>\n",
       "      <td>Other</td>\n",
       "      <td>56280355</td>\n",
       "      <td>Dracula Untold</td>\n",
       "      <td>10.10.2014 00:00</td>\n",
       "      <td>Luke Evans</td>\n",
       "      <td>Matt Sazama</td>\n",
       "      <td>2014</td>\n",
       "      <td>0</td>\n",
       "      <td>-0.195995</td>\n",
       "      <td>-20</td>\n",
       "      <td>49017</td>\n",
       "      <td>tt0829150</td>\n",
       "      <td>Dracula Untold</td>\n",
       "      <td>Vlad Tepes is a great hero, but when he learns...</td>\n",
       "      <td>16.316318</td>\n",
       "      <td>Dracula Untold</td>\n",
       "      <td>vampire, dracula, bite, battle, 15th century, ...</td>\n",
       "      <td>2014</td>\n",
       "    </tr>\n",
       "    <tr>\n",
       "      <th>2377</th>\n",
       "      <td>95000000</td>\n",
       "      <td>Other</td>\n",
       "      <td>Other</td>\n",
       "      <td>17223265</td>\n",
       "      <td>Seventh Son</td>\n",
       "      <td>6.02.2015 00:00</td>\n",
       "      <td>Ben Barnes</td>\n",
       "      <td>Charles Leavitt</td>\n",
       "      <td>2014</td>\n",
       "      <td>0</td>\n",
       "      <td>-0.818702</td>\n",
       "      <td>-80</td>\n",
       "      <td>68737</td>\n",
       "      <td>tt1121096</td>\n",
       "      <td>Seventh Son</td>\n",
       "      <td>John Gregory, who is a seventh son of a sevent...</td>\n",
       "      <td>15.297821</td>\n",
       "      <td>Seventh Son</td>\n",
       "      <td>magic, chosen one, dark fantasy, witch hunter,...</td>\n",
       "      <td>2015</td>\n",
       "    </tr>\n",
       "    <tr>\n",
       "      <th>2378</th>\n",
       "      <td>28000000</td>\n",
       "      <td>Other</td>\n",
       "      <td>Other</td>\n",
       "      <td>6998324</td>\n",
       "      <td>Our Brand Is Crisis</td>\n",
       "      <td>30.10.2015 00:00</td>\n",
       "      <td>Sandra Bullock</td>\n",
       "      <td>Peter Straughan</td>\n",
       "      <td>2015</td>\n",
       "      <td>0</td>\n",
       "      <td>-0.750060</td>\n",
       "      <td>-80</td>\n",
       "      <td>10317</td>\n",
       "      <td>tt1018765</td>\n",
       "      <td>Our Brand Is Crisis</td>\n",
       "      <td>A feature film based on the documentary \"Our B...</td>\n",
       "      <td>12.158176</td>\n",
       "      <td>Our Brand Is Crisis</td>\n",
       "      <td>bolivia, woman, political campaign, south amer...</td>\n",
       "      <td>2015</td>\n",
       "    </tr>\n",
       "  </tbody>\n",
       "</table>\n",
       "<p>2379 rows × 20 columns</p>\n",
       "</div>"
      ],
      "text/plain": [
       "         budget                                 company director      gross  \\\n",
       "0       9000000                    Walt Disney Pictures    Other   18564613   \n",
       "1       6000000                                   Other    Other    8551228   \n",
       "2      16000000                                   Other    Other    5900000   \n",
       "3       6000000  Twentieth Century Fox Film Corporation    Other    8200000   \n",
       "4      25000000  Twentieth Century Fox Film Corporation    Other   11100000   \n",
       "...         ...                                     ...      ...        ...   \n",
       "2374   25000000                                   Other    Other     100144   \n",
       "2375  110000000                            Warner Bros.    Other  106580051   \n",
       "2376   70000000                      Universal Pictures    Other   56280355   \n",
       "2377   95000000                                   Other    Other   17223265   \n",
       "2378   28000000                                   Other    Other    6998324   \n",
       "\n",
       "                             name          released                 star  \\\n",
       "0         Flight of the Navigator   1.08.1986 00:00          Joey Cramer   \n",
       "1                     Blue Velvet  23.10.1986 00:00  Isabella Rossellini   \n",
       "2                      Highlander   7.03.1986 00:00  Christopher Lambert   \n",
       "3                           Lucas  28.03.1986 00:00           Corey Haim   \n",
       "4     Big Trouble in Little China   2.07.1986 00:00         Kurt Russell   \n",
       "...                           ...               ...                  ...   \n",
       "2374               Man of Tai Chi   5.07.2013 00:00        Tiger Hu Chen   \n",
       "2375       300: Rise of an Empire   7.03.2014 00:00   Sullivan Stapleton   \n",
       "2376               Dracula Untold  10.10.2014 00:00           Luke Evans   \n",
       "2377                  Seventh Son   6.02.2015 00:00           Ben Barnes   \n",
       "2378          Our Brand Is Crisis  30.10.2015 00:00       Sandra Bullock   \n",
       "\n",
       "                 writer  year  isprofit  profitability_ratio  \\\n",
       "0         Mark H. Baker  1986         1             1.062735   \n",
       "1           David Lynch  1986         1             0.425205   \n",
       "2         Gregory Widen  1986         0            -0.631250   \n",
       "3         David Seltzer  1986         1             0.366667   \n",
       "4          Gary Goldman  1986         0            -0.556000   \n",
       "...                 ...   ...       ...                  ...   \n",
       "2374  Michael G. Cooney  2013         0            -0.995994   \n",
       "2375        Zack Snyder  2014         0            -0.031090   \n",
       "2376        Matt Sazama  2014         0            -0.195995   \n",
       "2377    Charles Leavitt  2014         0            -0.818702   \n",
       "2378    Peter Straughan  2015         0            -0.750060   \n",
       "\n",
       "      profitability_ratio_bucket     id    imdb_id  \\\n",
       "0                            110  10122  tt0091059   \n",
       "1                             40    793  tt0090756   \n",
       "2                            -60   8009  tt0091203   \n",
       "3                             40  13346  tt0091445   \n",
       "4                            -60   6978  tt0090728   \n",
       "...                          ...    ...        ...   \n",
       "2374                        -100  76544  tt2016940   \n",
       "2375                           0  53182  tt1253863   \n",
       "2376                         -20  49017  tt0829150   \n",
       "2377                         -80  68737  tt1121096   \n",
       "2378                         -80  10317  tt1018765   \n",
       "\n",
       "                   original_title  \\\n",
       "0         Flight of the Navigator   \n",
       "1                     Blue Velvet   \n",
       "2                      Highlander   \n",
       "3                           Lucas   \n",
       "4     Big Trouble in Little China   \n",
       "...                           ...   \n",
       "2374               Man of Tai Chi   \n",
       "2375       300: Rise of an Empire   \n",
       "2376               Dracula Untold   \n",
       "2377                  Seventh Son   \n",
       "2378          Our Brand Is Crisis   \n",
       "\n",
       "                                               overview  popularity  \\\n",
       "0     This 1986 Disney adventure tells the story of ...    5.526865   \n",
       "1     The discovery of a severed human ear found in ...    7.882247   \n",
       "2     He fought his first battle on the Scottish Hig...   16.870392   \n",
       "3     A socially inept fourteen year old experiences...    4.575350   \n",
       "4     When trucker, Jack Burton agreed to take his f...   11.109932   \n",
       "...                                                 ...         ...   \n",
       "2374  In Beijing, a young martial artist's skill pla...   11.829231   \n",
       "2375  Based on Frank Miller's latest graphic novel X...   12.904677   \n",
       "2376  Vlad Tepes is a great hero, but when he learns...   16.316318   \n",
       "2377  John Gregory, who is a seventh son of a sevent...   15.297821   \n",
       "2378  A feature film based on the documentary \"Our B...   12.158176   \n",
       "\n",
       "                            title  \\\n",
       "0         Flight of the Navigator   \n",
       "1                     Blue Velvet   \n",
       "2                      Highlander   \n",
       "3                           Lucas   \n",
       "4     Big Trouble in Little China   \n",
       "...                           ...   \n",
       "2374               Man of Tai Chi   \n",
       "2375       300: Rise of an Empire   \n",
       "2376               Dracula Untold   \n",
       "2377                  Seventh Son   \n",
       "2378          Our Brand Is Crisis   \n",
       "\n",
       "                                        keywords_edited  year_released  \n",
       "0     artificial intelligence, farewell, homesicknes...           1986  \n",
       "1     small town, ear, suspense, independent film, p...           1986  \n",
       "2     new york, scotland, swordplay, sword, cut-off ...           1986  \n",
       "3     high school, american football team, cheerleading           1986  \n",
       "4                    kung fu, chinatown, magic, mystery           1986  \n",
       "...                                                 ...            ...  \n",
       "2374  china, martial arts, tai chi, extortion, illeg...           2013  \n",
       "2375  based on graphic novel, ancient greece, during...           2014  \n",
       "2376  vampire, dracula, bite, battle, 15th century, ...           2014  \n",
       "2377  magic, chosen one, dark fantasy, witch hunter,...           2015  \n",
       "2378  bolivia, woman, political campaign, south amer...           2015  \n",
       "\n",
       "[2379 rows x 20 columns]"
      ]
     },
     "execution_count": 33,
     "metadata": {},
     "output_type": "execute_result"
    }
   ],
   "source": [
    "data_dropped_outlier_IQR = data_dropped_outlier_IQR.reset_index()\n",
    "del data_dropped_outlier_IQR['index']\n",
    "data_dropped_outlier_IQR"
   ]
  },
  {
   "cell_type": "code",
   "execution_count": 34,
   "metadata": {},
   "outputs": [
    {
     "data": {
      "text/html": [
       "<div>\n",
       "<style scoped>\n",
       "    .dataframe tbody tr th:only-of-type {\n",
       "        vertical-align: middle;\n",
       "    }\n",
       "\n",
       "    .dataframe tbody tr th {\n",
       "        vertical-align: top;\n",
       "    }\n",
       "\n",
       "    .dataframe thead th {\n",
       "        text-align: right;\n",
       "    }\n",
       "</style>\n",
       "<table border=\"1\" class=\"dataframe\">\n",
       "  <thead>\n",
       "    <tr style=\"text-align: right;\">\n",
       "      <th></th>\n",
       "      <th>budget</th>\n",
       "      <th>gross</th>\n",
       "      <th>year</th>\n",
       "      <th>isprofit</th>\n",
       "      <th>profitability_ratio</th>\n",
       "      <th>profitability_ratio_bucket</th>\n",
       "      <th>id</th>\n",
       "      <th>popularity</th>\n",
       "      <th>year_released</th>\n",
       "    </tr>\n",
       "  </thead>\n",
       "  <tbody>\n",
       "    <tr>\n",
       "      <th>count</th>\n",
       "      <td>2.379000e+03</td>\n",
       "      <td>2.379000e+03</td>\n",
       "      <td>2379.000000</td>\n",
       "      <td>2379.000000</td>\n",
       "      <td>2379.000000</td>\n",
       "      <td>2379.000000</td>\n",
       "      <td>2379.000000</td>\n",
       "      <td>2379.000000</td>\n",
       "      <td>2379.000000</td>\n",
       "    </tr>\n",
       "    <tr>\n",
       "      <th>mean</th>\n",
       "      <td>3.008305e+07</td>\n",
       "      <td>3.127273e+07</td>\n",
       "      <td>2000.242959</td>\n",
       "      <td>0.451030</td>\n",
       "      <td>0.125165</td>\n",
       "      <td>12.426650</td>\n",
       "      <td>17428.270702</td>\n",
       "      <td>8.127974</td>\n",
       "      <td>2000.405212</td>\n",
       "    </tr>\n",
       "    <tr>\n",
       "      <th>std</th>\n",
       "      <td>2.410068e+07</td>\n",
       "      <td>3.183954e+07</td>\n",
       "      <td>7.196555</td>\n",
       "      <td>0.497701</td>\n",
       "      <td>0.953754</td>\n",
       "      <td>95.458321</td>\n",
       "      <td>17561.903169</td>\n",
       "      <td>3.763130</td>\n",
       "      <td>7.249297</td>\n",
       "    </tr>\n",
       "    <tr>\n",
       "      <th>min</th>\n",
       "      <td>2.000000e+04</td>\n",
       "      <td>3.090000e+02</td>\n",
       "      <td>1986.000000</td>\n",
       "      <td>0.000000</td>\n",
       "      <td>-0.999979</td>\n",
       "      <td>-100.000000</td>\n",
       "      <td>5.000000</td>\n",
       "      <td>0.000578</td>\n",
       "      <td>1986.000000</td>\n",
       "    </tr>\n",
       "    <tr>\n",
       "      <th>25%</th>\n",
       "      <td>1.200000e+07</td>\n",
       "      <td>6.305156e+06</td>\n",
       "      <td>1995.000000</td>\n",
       "      <td>0.000000</td>\n",
       "      <td>-0.594351</td>\n",
       "      <td>-60.000000</td>\n",
       "      <td>8323.500000</td>\n",
       "      <td>5.492123</td>\n",
       "      <td>1995.000000</td>\n",
       "    </tr>\n",
       "    <tr>\n",
       "      <th>50%</th>\n",
       "      <td>2.400000e+07</td>\n",
       "      <td>2.073348e+07</td>\n",
       "      <td>2001.000000</td>\n",
       "      <td>0.000000</td>\n",
       "      <td>-0.115806</td>\n",
       "      <td>-10.000000</td>\n",
       "      <td>11091.000000</td>\n",
       "      <td>7.850797</td>\n",
       "      <td>2001.000000</td>\n",
       "    </tr>\n",
       "    <tr>\n",
       "      <th>75%</th>\n",
       "      <td>4.200000e+07</td>\n",
       "      <td>4.657117e+07</td>\n",
       "      <td>2006.000000</td>\n",
       "      <td>1.000000</td>\n",
       "      <td>0.601583</td>\n",
       "      <td>60.000000</td>\n",
       "      <td>20885.000000</td>\n",
       "      <td>10.670977</td>\n",
       "      <td>2007.000000</td>\n",
       "    </tr>\n",
       "    <tr>\n",
       "      <th>max</th>\n",
       "      <td>1.100000e+08</td>\n",
       "      <td>1.457943e+08</td>\n",
       "      <td>2015.000000</td>\n",
       "      <td>1.000000</td>\n",
       "      <td>3.237761</td>\n",
       "      <td>320.000000</td>\n",
       "      <td>85446.000000</td>\n",
       "      <td>20.214422</td>\n",
       "      <td>2015.000000</td>\n",
       "    </tr>\n",
       "  </tbody>\n",
       "</table>\n",
       "</div>"
      ],
      "text/plain": [
       "             budget         gross         year     isprofit  \\\n",
       "count  2.379000e+03  2.379000e+03  2379.000000  2379.000000   \n",
       "mean   3.008305e+07  3.127273e+07  2000.242959     0.451030   \n",
       "std    2.410068e+07  3.183954e+07     7.196555     0.497701   \n",
       "min    2.000000e+04  3.090000e+02  1986.000000     0.000000   \n",
       "25%    1.200000e+07  6.305156e+06  1995.000000     0.000000   \n",
       "50%    2.400000e+07  2.073348e+07  2001.000000     0.000000   \n",
       "75%    4.200000e+07  4.657117e+07  2006.000000     1.000000   \n",
       "max    1.100000e+08  1.457943e+08  2015.000000     1.000000   \n",
       "\n",
       "       profitability_ratio  profitability_ratio_bucket            id  \\\n",
       "count          2379.000000                 2379.000000   2379.000000   \n",
       "mean              0.125165                   12.426650  17428.270702   \n",
       "std               0.953754                   95.458321  17561.903169   \n",
       "min              -0.999979                 -100.000000      5.000000   \n",
       "25%              -0.594351                  -60.000000   8323.500000   \n",
       "50%              -0.115806                  -10.000000  11091.000000   \n",
       "75%               0.601583                   60.000000  20885.000000   \n",
       "max               3.237761                  320.000000  85446.000000   \n",
       "\n",
       "        popularity  year_released  \n",
       "count  2379.000000    2379.000000  \n",
       "mean      8.127974    2000.405212  \n",
       "std       3.763130       7.249297  \n",
       "min       0.000578    1986.000000  \n",
       "25%       5.492123    1995.000000  \n",
       "50%       7.850797    2001.000000  \n",
       "75%      10.670977    2007.000000  \n",
       "max      20.214422    2015.000000  "
      ]
     },
     "execution_count": 34,
     "metadata": {},
     "output_type": "execute_result"
    }
   ],
   "source": [
    "data_dropped_outlier_IQR.describe()"
   ]
  },
  {
   "cell_type": "markdown",
   "metadata": {},
   "source": [
    "## 2.5. Box Plot <a class=\"anchor\" id=\"25\"></a>"
   ]
  },
  {
   "cell_type": "markdown",
   "metadata": {},
   "source": [
    "### Boxplot of Initial Data"
   ]
  },
  {
   "cell_type": "code",
   "execution_count": 35,
   "metadata": {},
   "outputs": [
    {
     "data": {
      "text/plain": [
       "<AxesSubplot:>"
      ]
     },
     "execution_count": 35,
     "metadata": {},
     "output_type": "execute_result"
    },
    {
     "data": {
      "image/png": "[encoded data removed]",
      "text/plain": [
       "<Figure size 2304x1008 with 1 Axes>"
      ]
     },
     "metadata": {},
     "output_type": "display_data"
    }
   ],
   "source": [
    "df.plot(x=df.index.name, kind='box', figsize=(32, 14))"
   ]
  },
  {
   "cell_type": "markdown",
   "metadata": {},
   "source": [
    "Figure 2: Data Distribution before Cleaning\n",
    "<p>Figure 2 shows the distribution of the data before dropping rows. The graph represents five number summary: “minimum, first quartile, median, third quartile, and ''maximum”. The ends of the box are the quartiles, Q1 and Q3, while the box length is interquartile range (IQR). Two lines (called whiskers) outside the box extend to the smallest (Minimum) and largest (Maximum) observations. The circles are the outliers.</p>"
   ]
  },
  {
   "cell_type": "markdown",
   "metadata": {},
   "source": [
    "### Boxplot of Dropped Data"
   ]
  },
  {
   "cell_type": "code",
   "execution_count": 36,
   "metadata": {},
   "outputs": [
    {
     "data": {
      "text/plain": [
       "<AxesSubplot:>"
      ]
     },
     "execution_count": 36,
     "metadata": {},
     "output_type": "execute_result"
    },
    {
     "data": {
      "image/png": "[encoded data removed]",
      "text/plain": [
       "<Figure size 2304x1008 with 1 Axes>"
      ]
     },
     "metadata": {},
     "output_type": "display_data"
    }
   ],
   "source": [
    "data_dropped.plot(x=data_dropped.index.name, kind='box', figsize=(32, 14))"
   ]
  },
  {
   "cell_type": "markdown",
   "metadata": {},
   "source": [
    "Figure 3: Data Distribution of Dropped Data\n",
    "<p>Figure 3 shows the distibution of data after dropping rows with the value NaN. The graph represents five number summary: “minimum, first quartile, median, third quartile, and ''maximum”. The ends of the box are the quartiles, Q1 and Q3, while the box length is interquartile range (IQR). Two lines (called whiskers) outside the box extend to the smallest (Minimum) and largest (Maximum) observations. The circles are the outliers.</p>"
   ]
  },
  {
   "cell_type": "markdown",
   "metadata": {},
   "source": [
    "### Boxplot of Dropped Outlier Data"
   ]
  },
  {
   "cell_type": "code",
   "execution_count": 37,
   "metadata": {},
   "outputs": [
    {
     "data": {
      "text/plain": [
       "<AxesSubplot:>"
      ]
     },
     "execution_count": 37,
     "metadata": {},
     "output_type": "execute_result"
    },
    {
     "data": {
      "image/png": "[encoded data removed]",
      "text/plain": [
       "<Figure size 3312x1008 with 1 Axes>"
      ]
     },
     "metadata": {},
     "output_type": "display_data"
    }
   ],
   "source": [
    "data_dropped_outlier_IQR.plot(x=data_dropped_outlier_IQR.index.name, kind='box', figsize=(46, 14))"
   ]
  },
  {
   "cell_type": "markdown",
   "metadata": {},
   "source": [
    "Figure 4: Data Distribution of Outlier Data\n",
    "<p>Figure 4 shows the distributoion of data after dropping outliers. The graph represents five number summary: “minimum, first quartile, median, third quartile, and ''maximum”. The ends of the box are the quartiles, Q1 and Q3, while the box length is interquartile range (IQR). Two lines (called whiskers) outside the box extend to the smallest (Minimum) and largest (Maximum) observations. The circles are the outliers.</p>"
   ]
  },
  {
   "cell_type": "markdown",
   "metadata": {},
   "source": [
    "# 3. Data Transformation <a class=\"anchor\" id=\"3\"></a>"
   ]
  },
  {
   "cell_type": "markdown",
   "metadata": {},
   "source": [
    "Our data has the following columns that we can perform transformation on:\n",
    "* budget\n",
    "* runtime\n",
    "* score\n",
    "* votes\n",
    "* popularity\n",
    "\n",
    "<p>\n",
    "> We want to discretize and normalize the data so it will be ready for the modeling stage.\n",
    "<br><br>\n",
    "> After writing some general functions, we will perform the transformations one by one.\n",
    "</p>"
   ]
  },
  {
   "cell_type": "markdown",
   "metadata": {},
   "source": [
    "## 3.1. Binning <a class=\"anchor\" id=\"31\"></a>"
   ]
  },
  {
   "cell_type": "markdown",
   "metadata": {},
   "source": [
    "Below, we iterate over all continuous features and use binning to discretize the data. At the end, we summarize the results by indicating the 4 intervals that our data was partitioned into."
   ]
  },
  {
   "cell_type": "code",
   "execution_count": 38,
   "metadata": {},
   "outputs": [
    {
     "data": {
      "text/plain": [
       "count    2.379000e+03\n",
       "mean     3.008305e+07\n",
       "std      2.410068e+07\n",
       "min      2.000000e+04\n",
       "25%      1.200000e+07\n",
       "50%      2.400000e+07\n",
       "75%      4.200000e+07\n",
       "max      1.100000e+08\n",
       "Name: budget, dtype: float64"
      ]
     },
     "metadata": {},
     "output_type": "display_data"
    },
    {
     "data": {
      "text/plain": [
       "0         (19999.999, 12000000.0]\n",
       "1         (19999.999, 12000000.0]\n",
       "2        (12000000.0, 24000000.0]\n",
       "3         (19999.999, 12000000.0]\n",
       "4        (24000000.0, 42000000.0]\n",
       "                  ...            \n",
       "2374     (24000000.0, 42000000.0]\n",
       "2375    (42000000.0, 110000000.0]\n",
       "2376    (42000000.0, 110000000.0]\n",
       "2377    (42000000.0, 110000000.0]\n",
       "2378     (24000000.0, 42000000.0]\n",
       "Name: budget, Length: 2379, dtype: category\n",
       "Categories (4, interval[float64]): [(19999.999, 12000000.0] < (12000000.0, 24000000.0] < (24000000.0, 42000000.0] < (42000000.0, 110000000.0]]"
      ]
     },
     "metadata": {},
     "output_type": "display_data"
    },
    {
     "data": {
      "text/plain": [
       "(19999.999, 12000000.0]      641\n",
       "(24000000.0, 42000000.0]     600\n",
       "(42000000.0, 110000000.0]    583\n",
       "(12000000.0, 24000000.0]     555\n",
       "Name: budget, dtype: int64"
      ]
     },
     "metadata": {},
     "output_type": "display_data"
    },
    {
     "data": {
      "text/plain": [
       "count    2379.000000\n",
       "mean        8.127974\n",
       "std         3.763130\n",
       "min         0.000578\n",
       "25%         5.492123\n",
       "50%         7.850797\n",
       "75%        10.670977\n",
       "max        20.214422\n",
       "Name: popularity, dtype: float64"
      ]
     },
     "metadata": {},
     "output_type": "display_data"
    },
    {
     "data": {
      "text/plain": [
       "0                         (5.492, 7.851]\n",
       "1                        (7.851, 10.671]\n",
       "2                       (10.671, 20.214]\n",
       "3       (-0.00042200000000000007, 5.492]\n",
       "4                       (10.671, 20.214]\n",
       "                      ...               \n",
       "2374                    (10.671, 20.214]\n",
       "2375                    (10.671, 20.214]\n",
       "2376                    (10.671, 20.214]\n",
       "2377                    (10.671, 20.214]\n",
       "2378                    (10.671, 20.214]\n",
       "Name: popularity, Length: 2379, dtype: category\n",
       "Categories (4, interval[float64]): [(-0.00042200000000000007, 5.492] < (5.492, 7.851] < (7.851, 10.671] < (10.671, 20.214]]"
      ]
     },
     "metadata": {},
     "output_type": "display_data"
    },
    {
     "data": {
      "text/plain": [
       "(-0.00042200000000000007, 5.492]    595\n",
       "(5.492, 7.851]                      595\n",
       "(10.671, 20.214]                    595\n",
       "(7.851, 10.671]                     594\n",
       "Name: popularity, dtype: int64"
      ]
     },
     "metadata": {},
     "output_type": "display_data"
    }
   ],
   "source": [
    "for i in continuous_features:\n",
    "    display(data_dropped_outlier_IQR[i].describe())\n",
    "\n",
    "    display(pd.qcut(data_dropped_outlier_IQR[i], q=4))\n",
    "\n",
    "    display(pd.qcut(data_dropped_outlier_IQR[i], q=4).value_counts())"
   ]
  },
  {
   "cell_type": "markdown",
   "metadata": {},
   "source": [
    "## 3.2. Normalization <a class=\"anchor\" id=\"32\"></a>"
   ]
  },
  {
   "cell_type": "markdown",
   "metadata": {},
   "source": [
    "### 3.2.1. Z-score Method <a class=\"anchor\" id=\"321\"></a>"
   ]
  },
  {
   "cell_type": "code",
   "execution_count": 39,
   "metadata": {},
   "outputs": [
    {
     "data": {
      "text/html": [
       "<div>\n",
       "<style scoped>\n",
       "    .dataframe tbody tr th:only-of-type {\n",
       "        vertical-align: middle;\n",
       "    }\n",
       "\n",
       "    .dataframe tbody tr th {\n",
       "        vertical-align: top;\n",
       "    }\n",
       "\n",
       "    .dataframe thead th {\n",
       "        text-align: right;\n",
       "    }\n",
       "</style>\n",
       "<table border=\"1\" class=\"dataframe\">\n",
       "  <thead>\n",
       "    <tr style=\"text-align: right;\">\n",
       "      <th></th>\n",
       "      <th>budget</th>\n",
       "      <th>popularity</th>\n",
       "    </tr>\n",
       "  </thead>\n",
       "  <tbody>\n",
       "    <tr>\n",
       "      <th>count</th>\n",
       "      <td>2.379000e+03</td>\n",
       "      <td>2379.000000</td>\n",
       "    </tr>\n",
       "    <tr>\n",
       "      <th>mean</th>\n",
       "      <td>3.008305e+07</td>\n",
       "      <td>8.127974</td>\n",
       "    </tr>\n",
       "    <tr>\n",
       "      <th>std</th>\n",
       "      <td>2.410068e+07</td>\n",
       "      <td>3.763130</td>\n",
       "    </tr>\n",
       "    <tr>\n",
       "      <th>min</th>\n",
       "      <td>2.000000e+04</td>\n",
       "      <td>0.000578</td>\n",
       "    </tr>\n",
       "    <tr>\n",
       "      <th>25%</th>\n",
       "      <td>1.200000e+07</td>\n",
       "      <td>5.492123</td>\n",
       "    </tr>\n",
       "    <tr>\n",
       "      <th>50%</th>\n",
       "      <td>2.400000e+07</td>\n",
       "      <td>7.850797</td>\n",
       "    </tr>\n",
       "    <tr>\n",
       "      <th>75%</th>\n",
       "      <td>4.200000e+07</td>\n",
       "      <td>10.670977</td>\n",
       "    </tr>\n",
       "    <tr>\n",
       "      <th>max</th>\n",
       "      <td>1.100000e+08</td>\n",
       "      <td>20.214422</td>\n",
       "    </tr>\n",
       "  </tbody>\n",
       "</table>\n",
       "</div>"
      ],
      "text/plain": [
       "             budget   popularity\n",
       "count  2.379000e+03  2379.000000\n",
       "mean   3.008305e+07     8.127974\n",
       "std    2.410068e+07     3.763130\n",
       "min    2.000000e+04     0.000578\n",
       "25%    1.200000e+07     5.492123\n",
       "50%    2.400000e+07     7.850797\n",
       "75%    4.200000e+07    10.670977\n",
       "max    1.100000e+08    20.214422"
      ]
     },
     "execution_count": 39,
     "metadata": {},
     "output_type": "execute_result"
    }
   ],
   "source": [
    "data_dropped_outlier_IQR[continuous_features].describe()"
   ]
  },
  {
   "cell_type": "code",
   "execution_count": 40,
   "metadata": {},
   "outputs": [],
   "source": [
    "scaler = StandardScaler()"
   ]
  },
  {
   "cell_type": "code",
   "execution_count": 41,
   "metadata": {},
   "outputs": [],
   "source": [
    "data_dropped_z_score_scaled = pd.DataFrame(scaler.fit_transform(data_dropped_outlier_IQR[continuous_features]), columns=continuous_features)"
   ]
  },
  {
   "cell_type": "code",
   "execution_count": 42,
   "metadata": {},
   "outputs": [
    {
     "data": {
      "text/html": [
       "<div>\n",
       "<style scoped>\n",
       "    .dataframe tbody tr th:only-of-type {\n",
       "        vertical-align: middle;\n",
       "    }\n",
       "\n",
       "    .dataframe tbody tr th {\n",
       "        vertical-align: top;\n",
       "    }\n",
       "\n",
       "    .dataframe thead th {\n",
       "        text-align: right;\n",
       "    }\n",
       "</style>\n",
       "<table border=\"1\" class=\"dataframe\">\n",
       "  <thead>\n",
       "    <tr style=\"text-align: right;\">\n",
       "      <th></th>\n",
       "      <th>budget</th>\n",
       "      <th>popularity</th>\n",
       "    </tr>\n",
       "  </thead>\n",
       "  <tbody>\n",
       "    <tr>\n",
       "      <th>count</th>\n",
       "      <td>2.379000e+03</td>\n",
       "      <td>2.379000e+03</td>\n",
       "    </tr>\n",
       "    <tr>\n",
       "      <th>mean</th>\n",
       "      <td>2.389383e-17</td>\n",
       "      <td>-3.584074e-16</td>\n",
       "    </tr>\n",
       "    <tr>\n",
       "      <th>std</th>\n",
       "      <td>1.000210e+00</td>\n",
       "      <td>1.000210e+00</td>\n",
       "    </tr>\n",
       "    <tr>\n",
       "      <th>min</th>\n",
       "      <td>-1.247657e+00</td>\n",
       "      <td>-2.160198e+00</td>\n",
       "    </tr>\n",
       "    <tr>\n",
       "      <th>25%</th>\n",
       "      <td>-7.504706e-01</td>\n",
       "      <td>-7.005884e-01</td>\n",
       "    </tr>\n",
       "    <tr>\n",
       "      <th>50%</th>\n",
       "      <td>-2.524547e-01</td>\n",
       "      <td>-7.367144e-02</td>\n",
       "    </tr>\n",
       "    <tr>\n",
       "      <th>75%</th>\n",
       "      <td>4.945692e-01</td>\n",
       "      <td>6.759101e-01</td>\n",
       "    </tr>\n",
       "    <tr>\n",
       "      <th>max</th>\n",
       "      <td>3.316660e+00</td>\n",
       "      <td>3.212482e+00</td>\n",
       "    </tr>\n",
       "  </tbody>\n",
       "</table>\n",
       "</div>"
      ],
      "text/plain": [
       "             budget    popularity\n",
       "count  2.379000e+03  2.379000e+03\n",
       "mean   2.389383e-17 -3.584074e-16\n",
       "std    1.000210e+00  1.000210e+00\n",
       "min   -1.247657e+00 -2.160198e+00\n",
       "25%   -7.504706e-01 -7.005884e-01\n",
       "50%   -2.524547e-01 -7.367144e-02\n",
       "75%    4.945692e-01  6.759101e-01\n",
       "max    3.316660e+00  3.212482e+00"
      ]
     },
     "execution_count": 42,
     "metadata": {},
     "output_type": "execute_result"
    }
   ],
   "source": [
    "data_dropped_z_score_scaled.describe()"
   ]
  },
  {
   "cell_type": "code",
   "execution_count": 43,
   "metadata": {},
   "outputs": [
    {
     "data": {
      "text/plain": [
       "array([[<AxesSubplot:title={'center':'budget'}>,\n",
       "        <AxesSubplot:title={'center':'gross'}>,\n",
       "        <AxesSubplot:title={'center':'year'}>],\n",
       "       [<AxesSubplot:title={'center':'isprofit'}>,\n",
       "        <AxesSubplot:title={'center':'profitability_ratio'}>,\n",
       "        <AxesSubplot:title={'center':'profitability_ratio_bucket'}>],\n",
       "       [<AxesSubplot:title={'center':'id'}>,\n",
       "        <AxesSubplot:title={'center':'popularity'}>,\n",
       "        <AxesSubplot:title={'center':'year_released'}>]], dtype=object)"
      ]
     },
     "execution_count": 43,
     "metadata": {},
     "output_type": "execute_result"
    },
    {
     "data": {
      "image/png": "[encoded data removed]",
      "text/plain": [
       "<Figure size 1152x1152 with 9 Axes>"
      ]
     },
     "metadata": {},
     "output_type": "display_data"
    }
   ],
   "source": [
    "data_dropped_outlier_IQR.hist(figsize=(16, 16))"
   ]
  },
  {
   "cell_type": "markdown",
   "metadata": {},
   "source": [
    "Figure 6: Histogram of Data Before Normalization\n",
    "<p>Figure 6 shows the bar charts helping us visualize the data befor the five features above have been normalized.</p>"
   ]
  },
  {
   "cell_type": "code",
   "execution_count": 44,
   "metadata": {},
   "outputs": [
    {
     "data": {
      "text/plain": [
       "array([[<AxesSubplot:title={'center':'budget'}>,\n",
       "        <AxesSubplot:title={'center':'popularity'}>]], dtype=object)"
      ]
     },
     "execution_count": 44,
     "metadata": {},
     "output_type": "execute_result"
    },
    {
     "data": {
      "image/png": "[encoded data removed]",
      "text/plain": [
       "<Figure size 720x720 with 2 Axes>"
      ]
     },
     "metadata": {},
     "output_type": "display_data"
    }
   ],
   "source": [
    "data_dropped_z_score_scaled.hist(figsize=(10, 10))"
   ]
  },
  {
   "cell_type": "markdown",
   "metadata": {},
   "source": [
    "Figure 7: Histogram of Data After Normalization\n",
    "<p>Figure 7 shows bar charts helping us visualize the data after the five features above have been normalized.</p>"
   ]
  },
  {
   "cell_type": "markdown",
   "metadata": {},
   "source": [
    "Add normalized columns to main dataset as new columns labeled with the feature name they relate to followed by \"_norm\"."
   ]
  },
  {
   "cell_type": "code",
   "execution_count": 45,
   "metadata": {},
   "outputs": [],
   "source": [
    "norm_column_names = ['budget_norm', 'popularity_norm']\n",
    "    \n",
    "for i, j in zip(norm_column_names, continuous_features):\n",
    "    data_dropped_outlier_IQR[i] = pd.Series(data_dropped_z_score_scaled[j])\n"
   ]
  },
  {
   "cell_type": "code",
   "execution_count": 46,
   "metadata": {},
   "outputs": [],
   "source": [
    "data_dropped_outlier_IQR.to_csv('data/training_data.csv')"
   ]
  },
  {
   "cell_type": "markdown",
   "metadata": {},
   "source": [
    "# 4. Results <a class=\"anchor\" id=\"4\"></a>"
   ]
  },
  {
   "cell_type": "markdown",
   "metadata": {},
   "source": [
    "## 4.1. Data Cleaning <a class=\"anchor\" id=\"41\"></a>"
   ]
  },
  {
   "cell_type": "markdown",
   "metadata": {},
   "source": [
    "As we analyze all the features in <a href=\"#21\">Section 2.1.</a> we can see that the only features that need cleaning are overview, tagline, spoken_languages_edited, production_countries_edited and keywords_edited. The rest of the features are clean meaning not missing any values that require either dropping or replacement of those values."
   ]
  },
  {
   "cell_type": "markdown",
   "metadata": {},
   "source": [
    "## 4.2. Data Transformation <a class=\"anchor\" id=\"42\"></a>"
   ]
  },
  {
   "cell_type": "markdown",
   "metadata": {},
   "source": [
    "After analyzing and cleaning the five categorical features found in <a href=\"#21\">Section 2.1.</a> we are able to focus on transforming our data.  \n",
    "\n",
    "<p>Our data includes categorical and continuous types but for transformation we want to focus on five that need to be discretized and normalized in order to be ready for modeling. These five features include budget, runtime, score, votes and popularity. The reason for discretizing the data is so we can partition the data into equal distributions that will be easier to manage and manipulate. After that we can use normalization to give all the attributes an equal weight which is useful to us in the following section where we model our data.</p>"
   ]
  },
  {
   "cell_type": "code",
   "execution_count": null,
   "metadata": {},
   "outputs": [],
   "source": []
  }
 ],
 "metadata": {
  "kernelspec": {
   "display_name": "'Python3'",
   "language": "python",
   "name": "python3"
  },
  "language_info": {
   "codemirror_mode": {
    "name": "ipython",
    "version": 3
   },
   "file_extension": ".py",
   "mimetype": "text/x-python",
   "name": "python",
   "nbconvert_exporter": "python",
   "pygments_lexer": "ipython3",
   "version": "3.7.3"
  }
 },
 "nbformat": 4,
 "nbformat_minor": 2
}
