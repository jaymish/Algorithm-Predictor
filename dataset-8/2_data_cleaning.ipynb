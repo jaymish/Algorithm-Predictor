{
 "cells": [
  {
   "cell_type": "markdown",
   "metadata": {},
   "source": [
    "### Table of Contents:\n",
    "* [1. Preparing the Data](#1)\n",
    "* &emsp;[1.1. Importing Libraries](#11)\n",
    "* [2. Data Cleaning](#2)\n",
    "* &emsp;[2.1. Identifying Missing Values](#21)\n",
    "* &emsp;[2.2. Dealing with Missing Values](#22)\n",
    "* &emsp;[2.3. Removing Rows](#23)\n",
    "* &emsp;[2.4. Finding Outliers](#24)\n",
    "* &emsp;&emsp;[2.4.1. IQR Score Method](#241)\n",
    "* &emsp;[2.5. Box Plot](#25)\n",
    "* [3. Data Transformation](#3)\n",
    "* &emsp;[3.1. Binning](#31)\n",
    "* &emsp;[3.2. Normalization](#32)\n",
    "* &emsp;&emsp;[3.2.1. Z-score Method](#33)\n",
    "* [4. Results](#4)\n",
    "* &emsp;[4.1. Data Cleaning](#41)\n",
    "* &emsp;[4.2. Data Transformation](#42)"
   ]
  },
  {
   "cell_type": "markdown",
   "metadata": {},
   "source": [
    "# 1. Preparing the Data <a class=\"anchor\" id=\"1\"></a>"
   ]
  },
  {
   "cell_type": "markdown",
   "metadata": {},
   "source": [
    "## 1.1. Importing Libraries <a class=\"anchor\" id=\"11\"></a>"
   ]
  },
  {
   "cell_type": "code",
   "execution_count": 8,
   "metadata": {},
   "outputs": [],
   "source": [
    "import pandas as pd \n",
    "import numpy as np  \n",
    "import matplotlib.pyplot as plt \n",
    "import seaborn as sns\n",
    "from sklearn.preprocessing import StandardScaler\n",
    "\n",
    "%matplotlib inline  \n",
    "plt.style.use('fivethirtyeight')"
   ]
  },
  {
   "cell_type": "markdown",
   "metadata": {},
   "source": [
    "# 2. Data Cleaning <a class=\"anchor\" id=\"2\"></a>"
   ]
  },
  {
   "cell_type": "markdown",
   "metadata": {},
   "source": [
    "## 2.1. Identifying Missing Values <a class=\"anchor\" id=\"21\"></a>"
   ]
  },
  {
   "cell_type": "code",
   "execution_count": 9,
   "metadata": {},
   "outputs": [],
   "source": [
    "df = pd.read_csv('data/raw_training_data.csv')"
   ]
  },
  {
   "cell_type": "code",
   "execution_count": 10,
   "metadata": {},
   "outputs": [],
   "source": [
    "#categorical_features = ['company','country','director','genre','rating','released','star','year',\n",
    "#                        'writer','adult','original_title','overview','tagline','title','genres_edited',\n",
    "#                        'spoken_languages_edited','production_countries_edited','keywords_edited']\n",
    "continuous_features = ['budget','runtime','score','votes','popularity']\n",
    "target_features = ['isprofit','profitability_ratio']"
   ]
  },
  {
   "cell_type": "code",
   "execution_count": 11,
   "metadata": {},
   "outputs": [
    {
     "data": {
      "text/plain": [
       "(3524, 18)"
      ]
     },
     "execution_count": 11,
     "metadata": {},
     "output_type": "execute_result"
    }
   ],
   "source": [
    "df.shape # (# rows, # cols)"
   ]
  },
  {
   "cell_type": "code",
   "execution_count": 12,
   "metadata": {},
   "outputs": [
    {
     "data": {
      "text/html": [
       "<div>\n",
       "<style scoped>\n",
       "    .dataframe tbody tr th:only-of-type {\n",
       "        vertical-align: middle;\n",
       "    }\n",
       "\n",
       "    .dataframe tbody tr th {\n",
       "        vertical-align: top;\n",
       "    }\n",
       "\n",
       "    .dataframe thead th {\n",
       "        text-align: right;\n",
       "    }\n",
       "</style>\n",
       "<table border=\"1\" class=\"dataframe\">\n",
       "  <thead>\n",
       "    <tr style=\"text-align: right;\">\n",
       "      <th></th>\n",
       "      <th>Unnamed: 0</th>\n",
       "      <th>budget</th>\n",
       "      <th>gross</th>\n",
       "      <th>name</th>\n",
       "      <th>released</th>\n",
       "      <th>runtime</th>\n",
       "      <th>score</th>\n",
       "      <th>votes</th>\n",
       "      <th>year</th>\n",
       "      <th>isprofit</th>\n",
       "      <th>profitability_ratio</th>\n",
       "      <th>profitability_ratio_bucket</th>\n",
       "      <th>id</th>\n",
       "      <th>imdb_id</th>\n",
       "      <th>original_title</th>\n",
       "      <th>popularity</th>\n",
       "      <th>title</th>\n",
       "      <th>year_released</th>\n",
       "    </tr>\n",
       "  </thead>\n",
       "  <tbody>\n",
       "    <tr>\n",
       "      <th>0</th>\n",
       "      <td>0</td>\n",
       "      <td>8000000</td>\n",
       "      <td>52287414</td>\n",
       "      <td>Stand by Me</td>\n",
       "      <td>22.08.1986 00:00</td>\n",
       "      <td>89</td>\n",
       "      <td>8.1</td>\n",
       "      <td>299174</td>\n",
       "      <td>1986</td>\n",
       "      <td>1</td>\n",
       "      <td>5.535927</td>\n",
       "      <td>550</td>\n",
       "      <td>235</td>\n",
       "      <td>tt0092005</td>\n",
       "      <td>Stand by Me</td>\n",
       "      <td>15.206957</td>\n",
       "      <td>Stand by Me</td>\n",
       "      <td>1986</td>\n",
       "    </tr>\n",
       "    <tr>\n",
       "      <th>1</th>\n",
       "      <td>1</td>\n",
       "      <td>6000000</td>\n",
       "      <td>70136369</td>\n",
       "      <td>Ferris Bueller's Day Off</td>\n",
       "      <td>11.06.1986 00:00</td>\n",
       "      <td>103</td>\n",
       "      <td>7.8</td>\n",
       "      <td>264740</td>\n",
       "      <td>1986</td>\n",
       "      <td>1</td>\n",
       "      <td>10.689395</td>\n",
       "      <td>1070</td>\n",
       "      <td>9377</td>\n",
       "      <td>tt0091042</td>\n",
       "      <td>Ferris Bueller's Day Off</td>\n",
       "      <td>12.724645</td>\n",
       "      <td>Ferris Bueller's Day Off</td>\n",
       "      <td>1986</td>\n",
       "    </tr>\n",
       "    <tr>\n",
       "      <th>2</th>\n",
       "      <td>2</td>\n",
       "      <td>15000000</td>\n",
       "      <td>179800601</td>\n",
       "      <td>Top Gun</td>\n",
       "      <td>16.05.1986 00:00</td>\n",
       "      <td>110</td>\n",
       "      <td>6.9</td>\n",
       "      <td>236909</td>\n",
       "      <td>1986</td>\n",
       "      <td>1</td>\n",
       "      <td>10.986707</td>\n",
       "      <td>1100</td>\n",
       "      <td>744</td>\n",
       "      <td>tt0092099</td>\n",
       "      <td>Top Gun</td>\n",
       "      <td>20.301019</td>\n",
       "      <td>Top Gun</td>\n",
       "      <td>1986</td>\n",
       "    </tr>\n",
       "    <tr>\n",
       "      <th>3</th>\n",
       "      <td>3</td>\n",
       "      <td>18500000</td>\n",
       "      <td>85160248</td>\n",
       "      <td>Aliens</td>\n",
       "      <td>18.07.1986 00:00</td>\n",
       "      <td>137</td>\n",
       "      <td>8.4</td>\n",
       "      <td>540152</td>\n",
       "      <td>1986</td>\n",
       "      <td>1</td>\n",
       "      <td>3.603257</td>\n",
       "      <td>360</td>\n",
       "      <td>679</td>\n",
       "      <td>tt0090605</td>\n",
       "      <td>Aliens</td>\n",
       "      <td>21.761179</td>\n",
       "      <td>Aliens</td>\n",
       "      <td>1986</td>\n",
       "    </tr>\n",
       "    <tr>\n",
       "      <th>4</th>\n",
       "      <td>4</td>\n",
       "      <td>9000000</td>\n",
       "      <td>18564613</td>\n",
       "      <td>Flight of the Navigator</td>\n",
       "      <td>1.08.1986 00:00</td>\n",
       "      <td>90</td>\n",
       "      <td>6.9</td>\n",
       "      <td>36636</td>\n",
       "      <td>1986</td>\n",
       "      <td>1</td>\n",
       "      <td>1.062735</td>\n",
       "      <td>110</td>\n",
       "      <td>10122</td>\n",
       "      <td>tt0091059</td>\n",
       "      <td>Flight of the Navigator</td>\n",
       "      <td>5.526865</td>\n",
       "      <td>Flight of the Navigator</td>\n",
       "      <td>1986</td>\n",
       "    </tr>\n",
       "  </tbody>\n",
       "</table>\n",
       "</div>"
      ],
      "text/plain": [
       "   Unnamed: 0    budget      gross                      name  \\\n",
       "0           0   8000000   52287414               Stand by Me   \n",
       "1           1   6000000   70136369  Ferris Bueller's Day Off   \n",
       "2           2  15000000  179800601                   Top Gun   \n",
       "3           3  18500000   85160248                    Aliens   \n",
       "4           4   9000000   18564613   Flight of the Navigator   \n",
       "\n",
       "           released  runtime  score   votes  year  isprofit  \\\n",
       "0  22.08.1986 00:00       89    8.1  299174  1986         1   \n",
       "1  11.06.1986 00:00      103    7.8  264740  1986         1   \n",
       "2  16.05.1986 00:00      110    6.9  236909  1986         1   \n",
       "3  18.07.1986 00:00      137    8.4  540152  1986         1   \n",
       "4   1.08.1986 00:00       90    6.9   36636  1986         1   \n",
       "\n",
       "   profitability_ratio  profitability_ratio_bucket     id    imdb_id  \\\n",
       "0             5.535927                         550    235  tt0092005   \n",
       "1            10.689395                        1070   9377  tt0091042   \n",
       "2            10.986707                        1100    744  tt0092099   \n",
       "3             3.603257                         360    679  tt0090605   \n",
       "4             1.062735                         110  10122  tt0091059   \n",
       "\n",
       "             original_title  popularity                     title  \\\n",
       "0               Stand by Me   15.206957               Stand by Me   \n",
       "1  Ferris Bueller's Day Off   12.724645  Ferris Bueller's Day Off   \n",
       "2                   Top Gun   20.301019                   Top Gun   \n",
       "3                    Aliens   21.761179                    Aliens   \n",
       "4   Flight of the Navigator    5.526865   Flight of the Navigator   \n",
       "\n",
       "   year_released  \n",
       "0           1986  \n",
       "1           1986  \n",
       "2           1986  \n",
       "3           1986  \n",
       "4           1986  "
      ]
     },
     "execution_count": 12,
     "metadata": {},
     "output_type": "execute_result"
    }
   ],
   "source": [
    "df.head() # take a peak at the dataset"
   ]
  },
  {
   "cell_type": "code",
   "execution_count": 13,
   "metadata": {},
   "outputs": [],
   "source": [
    "del df['Unnamed: 0']"
   ]
  },
  {
   "cell_type": "code",
   "execution_count": 14,
   "metadata": {},
   "outputs": [
    {
     "name": "stdout",
     "output_type": "stream",
     "text": [
      "<class 'pandas.core.frame.DataFrame'>\n",
      "RangeIndex: 3524 entries, 0 to 3523\n",
      "Data columns (total 17 columns):\n",
      " #   Column                      Non-Null Count  Dtype  \n",
      "---  ------                      --------------  -----  \n",
      " 0   budget                      3524 non-null   int64  \n",
      " 1   gross                       3524 non-null   int64  \n",
      " 2   name                        3524 non-null   object \n",
      " 3   released                    3524 non-null   object \n",
      " 4   runtime                     3524 non-null   int64  \n",
      " 5   score                       3524 non-null   float64\n",
      " 6   votes                       3524 non-null   int64  \n",
      " 7   year                        3524 non-null   int64  \n",
      " 8   isprofit                    3524 non-null   int64  \n",
      " 9   profitability_ratio         3524 non-null   float64\n",
      " 10  profitability_ratio_bucket  3524 non-null   int64  \n",
      " 11  id                          3524 non-null   int64  \n",
      " 12  imdb_id                     3524 non-null   object \n",
      " 13  original_title              3524 non-null   object \n",
      " 14  popularity                  3524 non-null   float64\n",
      " 15  title                       3524 non-null   object \n",
      " 16  year_released               3524 non-null   int64  \n",
      "dtypes: float64(3), int64(9), object(5)\n",
      "memory usage: 399.3+ KB\n"
     ]
    }
   ],
   "source": [
    "df.info()"
   ]
  },
  {
   "cell_type": "code",
   "execution_count": 15,
   "metadata": {},
   "outputs": [
    {
     "data": {
      "text/plain": [
       "budget                        0\n",
       "gross                         0\n",
       "name                          0\n",
       "released                      0\n",
       "runtime                       0\n",
       "score                         0\n",
       "votes                         0\n",
       "year                          0\n",
       "isprofit                      0\n",
       "profitability_ratio           0\n",
       "profitability_ratio_bucket    0\n",
       "id                            0\n",
       "imdb_id                       0\n",
       "original_title                0\n",
       "popularity                    0\n",
       "title                         0\n",
       "year_released                 0\n",
       "dtype: int64"
      ]
     },
     "execution_count": 15,
     "metadata": {},
     "output_type": "execute_result"
    }
   ],
   "source": [
    "df.isnull().sum()"
   ]
  },
  {
   "cell_type": "code",
   "execution_count": 16,
   "metadata": {},
   "outputs": [
    {
     "data": {
      "text/html": [
       "<div>\n",
       "<style scoped>\n",
       "    .dataframe tbody tr th:only-of-type {\n",
       "        vertical-align: middle;\n",
       "    }\n",
       "\n",
       "    .dataframe tbody tr th {\n",
       "        vertical-align: top;\n",
       "    }\n",
       "\n",
       "    .dataframe thead th {\n",
       "        text-align: right;\n",
       "    }\n",
       "</style>\n",
       "<table border=\"1\" class=\"dataframe\">\n",
       "  <thead>\n",
       "    <tr style=\"text-align: right;\">\n",
       "      <th></th>\n",
       "      <th>budget</th>\n",
       "      <th>gross</th>\n",
       "      <th>runtime</th>\n",
       "      <th>score</th>\n",
       "      <th>votes</th>\n",
       "      <th>year</th>\n",
       "      <th>isprofit</th>\n",
       "      <th>profitability_ratio</th>\n",
       "      <th>profitability_ratio_bucket</th>\n",
       "      <th>id</th>\n",
       "      <th>popularity</th>\n",
       "      <th>year_released</th>\n",
       "    </tr>\n",
       "  </thead>\n",
       "  <tbody>\n",
       "    <tr>\n",
       "      <th>count</th>\n",
       "      <td>3.524000e+03</td>\n",
       "      <td>3.524000e+03</td>\n",
       "      <td>3524.000000</td>\n",
       "      <td>3524.000000</td>\n",
       "      <td>3.524000e+03</td>\n",
       "      <td>3524.000000</td>\n",
       "      <td>3524.000000</td>\n",
       "      <td>3524.000000</td>\n",
       "      <td>3524.000000</td>\n",
       "      <td>3524.000000</td>\n",
       "      <td>3524.000000</td>\n",
       "      <td>3524.000000</td>\n",
       "    </tr>\n",
       "    <tr>\n",
       "      <th>mean</th>\n",
       "      <td>3.646837e+07</td>\n",
       "      <td>4.772520e+07</td>\n",
       "      <td>107.189274</td>\n",
       "      <td>6.339018</td>\n",
       "      <td>9.928306e+04</td>\n",
       "      <td>1997.125709</td>\n",
       "      <td>0.510499</td>\n",
       "      <td>3.996876</td>\n",
       "      <td>399.602157</td>\n",
       "      <td>45443.112656</td>\n",
       "      <td>9.785946</td>\n",
       "      <td>2002.385641</td>\n",
       "    </tr>\n",
       "    <tr>\n",
       "      <th>std</th>\n",
       "      <td>4.063369e+07</td>\n",
       "      <td>6.707121e+07</td>\n",
       "      <td>18.472177</td>\n",
       "      <td>1.056288</td>\n",
       "      <td>1.568040e+05</td>\n",
       "      <td>101.418026</td>\n",
       "      <td>0.499961</td>\n",
       "      <td>127.868810</td>\n",
       "      <td>12786.904323</td>\n",
       "      <td>77014.289184</td>\n",
       "      <td>13.318482</td>\n",
       "      <td>8.422442</td>\n",
       "    </tr>\n",
       "    <tr>\n",
       "      <th>min</th>\n",
       "      <td>0.000000e+00</td>\n",
       "      <td>0.000000e+00</td>\n",
       "      <td>0.000000</td>\n",
       "      <td>0.000000</td>\n",
       "      <td>0.000000e+00</td>\n",
       "      <td>0.000000</td>\n",
       "      <td>0.000000</td>\n",
       "      <td>-0.999979</td>\n",
       "      <td>-100.000000</td>\n",
       "      <td>0.000000</td>\n",
       "      <td>0.000000</td>\n",
       "      <td>1986.000000</td>\n",
       "    </tr>\n",
       "    <tr>\n",
       "      <th>25%</th>\n",
       "      <td>1.000000e+07</td>\n",
       "      <td>6.955428e+06</td>\n",
       "      <td>95.000000</td>\n",
       "      <td>5.800000</td>\n",
       "      <td>1.554475e+04</td>\n",
       "      <td>1996.000000</td>\n",
       "      <td>0.000000</td>\n",
       "      <td>-0.552571</td>\n",
       "      <td>-60.000000</td>\n",
       "      <td>8864.750000</td>\n",
       "      <td>5.746421</td>\n",
       "      <td>1996.000000</td>\n",
       "    </tr>\n",
       "    <tr>\n",
       "      <th>50%</th>\n",
       "      <td>2.300000e+07</td>\n",
       "      <td>2.511110e+07</td>\n",
       "      <td>104.000000</td>\n",
       "      <td>6.400000</td>\n",
       "      <td>4.403550e+04</td>\n",
       "      <td>2002.000000</td>\n",
       "      <td>1.000000</td>\n",
       "      <td>0.020240</td>\n",
       "      <td>0.000000</td>\n",
       "      <td>12513.500000</td>\n",
       "      <td>8.411079</td>\n",
       "      <td>2003.000000</td>\n",
       "    </tr>\n",
       "    <tr>\n",
       "      <th>75%</th>\n",
       "      <td>4.800000e+07</td>\n",
       "      <td>6.036672e+07</td>\n",
       "      <td>117.000000</td>\n",
       "      <td>7.000000</td>\n",
       "      <td>1.148628e+05</td>\n",
       "      <td>2009.000000</td>\n",
       "      <td>1.000000</td>\n",
       "      <td>1.029155</td>\n",
       "      <td>100.000000</td>\n",
       "      <td>41220.250000</td>\n",
       "      <td>11.654501</td>\n",
       "      <td>2010.000000</td>\n",
       "    </tr>\n",
       "    <tr>\n",
       "      <th>max</th>\n",
       "      <td>3.000000e+08</td>\n",
       "      <td>9.366622e+08</td>\n",
       "      <td>271.000000</td>\n",
       "      <td>9.300000</td>\n",
       "      <td>1.861666e+06</td>\n",
       "      <td>2016.000000</td>\n",
       "      <td>1.000000</td>\n",
       "      <td>7193.587333</td>\n",
       "      <td>719360.000000</td>\n",
       "      <td>404378.000000</td>\n",
       "      <td>547.488298</td>\n",
       "      <td>2017.000000</td>\n",
       "    </tr>\n",
       "  </tbody>\n",
       "</table>\n",
       "</div>"
      ],
      "text/plain": [
       "             budget         gross      runtime        score         votes  \\\n",
       "count  3.524000e+03  3.524000e+03  3524.000000  3524.000000  3.524000e+03   \n",
       "mean   3.646837e+07  4.772520e+07   107.189274     6.339018  9.928306e+04   \n",
       "std    4.063369e+07  6.707121e+07    18.472177     1.056288  1.568040e+05   \n",
       "min    0.000000e+00  0.000000e+00     0.000000     0.000000  0.000000e+00   \n",
       "25%    1.000000e+07  6.955428e+06    95.000000     5.800000  1.554475e+04   \n",
       "50%    2.300000e+07  2.511110e+07   104.000000     6.400000  4.403550e+04   \n",
       "75%    4.800000e+07  6.036672e+07   117.000000     7.000000  1.148628e+05   \n",
       "max    3.000000e+08  9.366622e+08   271.000000     9.300000  1.861666e+06   \n",
       "\n",
       "              year     isprofit  profitability_ratio  \\\n",
       "count  3524.000000  3524.000000          3524.000000   \n",
       "mean   1997.125709     0.510499             3.996876   \n",
       "std     101.418026     0.499961           127.868810   \n",
       "min       0.000000     0.000000            -0.999979   \n",
       "25%    1996.000000     0.000000            -0.552571   \n",
       "50%    2002.000000     1.000000             0.020240   \n",
       "75%    2009.000000     1.000000             1.029155   \n",
       "max    2016.000000     1.000000          7193.587333   \n",
       "\n",
       "       profitability_ratio_bucket             id   popularity  year_released  \n",
       "count                 3524.000000    3524.000000  3524.000000    3524.000000  \n",
       "mean                   399.602157   45443.112656     9.785946    2002.385641  \n",
       "std                  12786.904323   77014.289184    13.318482       8.422442  \n",
       "min                   -100.000000       0.000000     0.000000    1986.000000  \n",
       "25%                    -60.000000    8864.750000     5.746421    1996.000000  \n",
       "50%                      0.000000   12513.500000     8.411079    2003.000000  \n",
       "75%                    100.000000   41220.250000    11.654501    2010.000000  \n",
       "max                 719360.000000  404378.000000   547.488298    2017.000000  "
      ]
     },
     "execution_count": 16,
     "metadata": {},
     "output_type": "execute_result"
    }
   ],
   "source": [
    "df.describe()   # before replacing zero with None"
   ]
  },
  {
   "cell_type": "markdown",
   "metadata": {},
   "source": [
    "## 2.2. Dealing with Missing Values <a class=\"anchor\" id=\"22\"></a>"
   ]
  },
  {
   "cell_type": "markdown",
   "metadata": {},
   "source": [
    "By observing the data, we see that only the following columns need initial transformation to replace zeros with the value None:\n",
    "* overview\n",
    "* tagline\n",
    "* spoken_languages_edited\n",
    "* production_countries_edited\n",
    "* keywords_edited\n",
    "\n",
    "And the remaining features do not have to change since they do not contain zero values."
   ]
  },
  {
   "cell_type": "code",
   "execution_count": 18,
   "metadata": {},
   "outputs": [],
   "source": [
    "#df['overview'] = df['overview'].map(lambda x:x if x != 0 else None)\n",
    "#df['tagline'] = df['tagline'].map(lambda x:x if x != 0 else None)\n",
    "#df['spoken_languages_edited'] = df['spoken_languages_edited'].map(lambda x:x if x != 0 else None)\n",
    "#df['production_countries_edited'] = df['production_countries_edited'].map(lambda x:x if x != 0 else None)\n",
    "#df['keywords_edited'] = df['keywords_edited'].map(lambda x:x if x != 0 else None)"
   ]
  },
  {
   "cell_type": "code",
   "execution_count": 19,
   "metadata": {},
   "outputs": [
    {
     "data": {
      "text/html": [
       "<div>\n",
       "<style scoped>\n",
       "    .dataframe tbody tr th:only-of-type {\n",
       "        vertical-align: middle;\n",
       "    }\n",
       "\n",
       "    .dataframe tbody tr th {\n",
       "        vertical-align: top;\n",
       "    }\n",
       "\n",
       "    .dataframe thead th {\n",
       "        text-align: right;\n",
       "    }\n",
       "</style>\n",
       "<table border=\"1\" class=\"dataframe\">\n",
       "  <thead>\n",
       "    <tr style=\"text-align: right;\">\n",
       "      <th></th>\n",
       "      <th>budget</th>\n",
       "      <th>gross</th>\n",
       "      <th>name</th>\n",
       "      <th>released</th>\n",
       "      <th>runtime</th>\n",
       "      <th>score</th>\n",
       "      <th>votes</th>\n",
       "      <th>year</th>\n",
       "      <th>isprofit</th>\n",
       "      <th>profitability_ratio</th>\n",
       "      <th>profitability_ratio_bucket</th>\n",
       "      <th>id</th>\n",
       "      <th>imdb_id</th>\n",
       "      <th>original_title</th>\n",
       "      <th>popularity</th>\n",
       "      <th>title</th>\n",
       "      <th>year_released</th>\n",
       "    </tr>\n",
       "  </thead>\n",
       "  <tbody>\n",
       "    <tr>\n",
       "      <th>0</th>\n",
       "      <td>8000000</td>\n",
       "      <td>52287414</td>\n",
       "      <td>Stand by Me</td>\n",
       "      <td>22.08.1986 00:00</td>\n",
       "      <td>89</td>\n",
       "      <td>8.1</td>\n",
       "      <td>299174</td>\n",
       "      <td>1986</td>\n",
       "      <td>1</td>\n",
       "      <td>5.535927</td>\n",
       "      <td>550</td>\n",
       "      <td>235</td>\n",
       "      <td>tt0092005</td>\n",
       "      <td>Stand by Me</td>\n",
       "      <td>15.206957</td>\n",
       "      <td>Stand by Me</td>\n",
       "      <td>1986</td>\n",
       "    </tr>\n",
       "    <tr>\n",
       "      <th>1</th>\n",
       "      <td>6000000</td>\n",
       "      <td>70136369</td>\n",
       "      <td>Ferris Bueller's Day Off</td>\n",
       "      <td>11.06.1986 00:00</td>\n",
       "      <td>103</td>\n",
       "      <td>7.8</td>\n",
       "      <td>264740</td>\n",
       "      <td>1986</td>\n",
       "      <td>1</td>\n",
       "      <td>10.689395</td>\n",
       "      <td>1070</td>\n",
       "      <td>9377</td>\n",
       "      <td>tt0091042</td>\n",
       "      <td>Ferris Bueller's Day Off</td>\n",
       "      <td>12.724645</td>\n",
       "      <td>Ferris Bueller's Day Off</td>\n",
       "      <td>1986</td>\n",
       "    </tr>\n",
       "    <tr>\n",
       "      <th>2</th>\n",
       "      <td>15000000</td>\n",
       "      <td>179800601</td>\n",
       "      <td>Top Gun</td>\n",
       "      <td>16.05.1986 00:00</td>\n",
       "      <td>110</td>\n",
       "      <td>6.9</td>\n",
       "      <td>236909</td>\n",
       "      <td>1986</td>\n",
       "      <td>1</td>\n",
       "      <td>10.986707</td>\n",
       "      <td>1100</td>\n",
       "      <td>744</td>\n",
       "      <td>tt0092099</td>\n",
       "      <td>Top Gun</td>\n",
       "      <td>20.301019</td>\n",
       "      <td>Top Gun</td>\n",
       "      <td>1986</td>\n",
       "    </tr>\n",
       "    <tr>\n",
       "      <th>3</th>\n",
       "      <td>18500000</td>\n",
       "      <td>85160248</td>\n",
       "      <td>Aliens</td>\n",
       "      <td>18.07.1986 00:00</td>\n",
       "      <td>137</td>\n",
       "      <td>8.4</td>\n",
       "      <td>540152</td>\n",
       "      <td>1986</td>\n",
       "      <td>1</td>\n",
       "      <td>3.603257</td>\n",
       "      <td>360</td>\n",
       "      <td>679</td>\n",
       "      <td>tt0090605</td>\n",
       "      <td>Aliens</td>\n",
       "      <td>21.761179</td>\n",
       "      <td>Aliens</td>\n",
       "      <td>1986</td>\n",
       "    </tr>\n",
       "    <tr>\n",
       "      <th>4</th>\n",
       "      <td>9000000</td>\n",
       "      <td>18564613</td>\n",
       "      <td>Flight of the Navigator</td>\n",
       "      <td>1.08.1986 00:00</td>\n",
       "      <td>90</td>\n",
       "      <td>6.9</td>\n",
       "      <td>36636</td>\n",
       "      <td>1986</td>\n",
       "      <td>1</td>\n",
       "      <td>1.062735</td>\n",
       "      <td>110</td>\n",
       "      <td>10122</td>\n",
       "      <td>tt0091059</td>\n",
       "      <td>Flight of the Navigator</td>\n",
       "      <td>5.526865</td>\n",
       "      <td>Flight of the Navigator</td>\n",
       "      <td>1986</td>\n",
       "    </tr>\n",
       "  </tbody>\n",
       "</table>\n",
       "</div>"
      ],
      "text/plain": [
       "     budget      gross                      name          released  runtime  \\\n",
       "0   8000000   52287414               Stand by Me  22.08.1986 00:00       89   \n",
       "1   6000000   70136369  Ferris Bueller's Day Off  11.06.1986 00:00      103   \n",
       "2  15000000  179800601                   Top Gun  16.05.1986 00:00      110   \n",
       "3  18500000   85160248                    Aliens  18.07.1986 00:00      137   \n",
       "4   9000000   18564613   Flight of the Navigator   1.08.1986 00:00       90   \n",
       "\n",
       "   score   votes  year  isprofit  profitability_ratio  \\\n",
       "0    8.1  299174  1986         1             5.535927   \n",
       "1    7.8  264740  1986         1            10.689395   \n",
       "2    6.9  236909  1986         1            10.986707   \n",
       "3    8.4  540152  1986         1             3.603257   \n",
       "4    6.9   36636  1986         1             1.062735   \n",
       "\n",
       "   profitability_ratio_bucket     id    imdb_id            original_title  \\\n",
       "0                         550    235  tt0092005               Stand by Me   \n",
       "1                        1070   9377  tt0091042  Ferris Bueller's Day Off   \n",
       "2                        1100    744  tt0092099                   Top Gun   \n",
       "3                         360    679  tt0090605                    Aliens   \n",
       "4                         110  10122  tt0091059   Flight of the Navigator   \n",
       "\n",
       "   popularity                     title  year_released  \n",
       "0   15.206957               Stand by Me           1986  \n",
       "1   12.724645  Ferris Bueller's Day Off           1986  \n",
       "2   20.301019                   Top Gun           1986  \n",
       "3   21.761179                    Aliens           1986  \n",
       "4    5.526865   Flight of the Navigator           1986  "
      ]
     },
     "execution_count": 19,
     "metadata": {},
     "output_type": "execute_result"
    }
   ],
   "source": [
    "df.head()   # take a peak at the dataset"
   ]
  },
  {
   "cell_type": "code",
   "execution_count": 20,
   "metadata": {},
   "outputs": [
    {
     "name": "stdout",
     "output_type": "stream",
     "text": [
      "<class 'pandas.core.frame.DataFrame'>\n",
      "RangeIndex: 3524 entries, 0 to 3523\n",
      "Data columns (total 17 columns):\n",
      " #   Column                      Non-Null Count  Dtype  \n",
      "---  ------                      --------------  -----  \n",
      " 0   budget                      3524 non-null   int64  \n",
      " 1   gross                       3524 non-null   int64  \n",
      " 2   name                        3524 non-null   object \n",
      " 3   released                    3524 non-null   object \n",
      " 4   runtime                     3524 non-null   int64  \n",
      " 5   score                       3524 non-null   float64\n",
      " 6   votes                       3524 non-null   int64  \n",
      " 7   year                        3524 non-null   int64  \n",
      " 8   isprofit                    3524 non-null   int64  \n",
      " 9   profitability_ratio         3524 non-null   float64\n",
      " 10  profitability_ratio_bucket  3524 non-null   int64  \n",
      " 11  id                          3524 non-null   int64  \n",
      " 12  imdb_id                     3524 non-null   object \n",
      " 13  original_title              3524 non-null   object \n",
      " 14  popularity                  3524 non-null   float64\n",
      " 15  title                       3524 non-null   object \n",
      " 16  year_released               3524 non-null   int64  \n",
      "dtypes: float64(3), int64(9), object(5)\n",
      "memory usage: 399.3+ KB\n"
     ]
    }
   ],
   "source": [
    "df.info()"
   ]
  },
  {
   "cell_type": "code",
   "execution_count": 21,
   "metadata": {},
   "outputs": [
    {
     "data": {
      "text/plain": [
       "budget                        0\n",
       "gross                         0\n",
       "name                          0\n",
       "released                      0\n",
       "runtime                       0\n",
       "score                         0\n",
       "votes                         0\n",
       "year                          0\n",
       "isprofit                      0\n",
       "profitability_ratio           0\n",
       "profitability_ratio_bucket    0\n",
       "id                            0\n",
       "imdb_id                       0\n",
       "original_title                0\n",
       "popularity                    0\n",
       "title                         0\n",
       "year_released                 0\n",
       "dtype: int64"
      ]
     },
     "execution_count": 21,
     "metadata": {},
     "output_type": "execute_result"
    }
   ],
   "source": [
    "df.isnull().sum()"
   ]
  },
  {
   "cell_type": "code",
   "execution_count": 22,
   "metadata": {},
   "outputs": [
    {
     "data": {
      "text/html": [
       "<div>\n",
       "<style scoped>\n",
       "    .dataframe tbody tr th:only-of-type {\n",
       "        vertical-align: middle;\n",
       "    }\n",
       "\n",
       "    .dataframe tbody tr th {\n",
       "        vertical-align: top;\n",
       "    }\n",
       "\n",
       "    .dataframe thead th {\n",
       "        text-align: right;\n",
       "    }\n",
       "</style>\n",
       "<table border=\"1\" class=\"dataframe\">\n",
       "  <thead>\n",
       "    <tr style=\"text-align: right;\">\n",
       "      <th></th>\n",
       "      <th>budget</th>\n",
       "      <th>gross</th>\n",
       "      <th>runtime</th>\n",
       "      <th>score</th>\n",
       "      <th>votes</th>\n",
       "      <th>year</th>\n",
       "      <th>isprofit</th>\n",
       "      <th>profitability_ratio</th>\n",
       "      <th>profitability_ratio_bucket</th>\n",
       "      <th>id</th>\n",
       "      <th>popularity</th>\n",
       "      <th>year_released</th>\n",
       "    </tr>\n",
       "  </thead>\n",
       "  <tbody>\n",
       "    <tr>\n",
       "      <th>count</th>\n",
       "      <td>3.524000e+03</td>\n",
       "      <td>3.524000e+03</td>\n",
       "      <td>3524.000000</td>\n",
       "      <td>3524.000000</td>\n",
       "      <td>3.524000e+03</td>\n",
       "      <td>3524.000000</td>\n",
       "      <td>3524.000000</td>\n",
       "      <td>3524.000000</td>\n",
       "      <td>3524.000000</td>\n",
       "      <td>3524.000000</td>\n",
       "      <td>3524.000000</td>\n",
       "      <td>3524.000000</td>\n",
       "    </tr>\n",
       "    <tr>\n",
       "      <th>mean</th>\n",
       "      <td>3.646837e+07</td>\n",
       "      <td>4.772520e+07</td>\n",
       "      <td>107.189274</td>\n",
       "      <td>6.339018</td>\n",
       "      <td>9.928306e+04</td>\n",
       "      <td>1997.125709</td>\n",
       "      <td>0.510499</td>\n",
       "      <td>3.996876</td>\n",
       "      <td>399.602157</td>\n",
       "      <td>45443.112656</td>\n",
       "      <td>9.785946</td>\n",
       "      <td>2002.385641</td>\n",
       "    </tr>\n",
       "    <tr>\n",
       "      <th>std</th>\n",
       "      <td>4.063369e+07</td>\n",
       "      <td>6.707121e+07</td>\n",
       "      <td>18.472177</td>\n",
       "      <td>1.056288</td>\n",
       "      <td>1.568040e+05</td>\n",
       "      <td>101.418026</td>\n",
       "      <td>0.499961</td>\n",
       "      <td>127.868810</td>\n",
       "      <td>12786.904323</td>\n",
       "      <td>77014.289184</td>\n",
       "      <td>13.318482</td>\n",
       "      <td>8.422442</td>\n",
       "    </tr>\n",
       "    <tr>\n",
       "      <th>min</th>\n",
       "      <td>0.000000e+00</td>\n",
       "      <td>0.000000e+00</td>\n",
       "      <td>0.000000</td>\n",
       "      <td>0.000000</td>\n",
       "      <td>0.000000e+00</td>\n",
       "      <td>0.000000</td>\n",
       "      <td>0.000000</td>\n",
       "      <td>-0.999979</td>\n",
       "      <td>-100.000000</td>\n",
       "      <td>0.000000</td>\n",
       "      <td>0.000000</td>\n",
       "      <td>1986.000000</td>\n",
       "    </tr>\n",
       "    <tr>\n",
       "      <th>25%</th>\n",
       "      <td>1.000000e+07</td>\n",
       "      <td>6.955428e+06</td>\n",
       "      <td>95.000000</td>\n",
       "      <td>5.800000</td>\n",
       "      <td>1.554475e+04</td>\n",
       "      <td>1996.000000</td>\n",
       "      <td>0.000000</td>\n",
       "      <td>-0.552571</td>\n",
       "      <td>-60.000000</td>\n",
       "      <td>8864.750000</td>\n",
       "      <td>5.746421</td>\n",
       "      <td>1996.000000</td>\n",
       "    </tr>\n",
       "    <tr>\n",
       "      <th>50%</th>\n",
       "      <td>2.300000e+07</td>\n",
       "      <td>2.511110e+07</td>\n",
       "      <td>104.000000</td>\n",
       "      <td>6.400000</td>\n",
       "      <td>4.403550e+04</td>\n",
       "      <td>2002.000000</td>\n",
       "      <td>1.000000</td>\n",
       "      <td>0.020240</td>\n",
       "      <td>0.000000</td>\n",
       "      <td>12513.500000</td>\n",
       "      <td>8.411079</td>\n",
       "      <td>2003.000000</td>\n",
       "    </tr>\n",
       "    <tr>\n",
       "      <th>75%</th>\n",
       "      <td>4.800000e+07</td>\n",
       "      <td>6.036672e+07</td>\n",
       "      <td>117.000000</td>\n",
       "      <td>7.000000</td>\n",
       "      <td>1.148628e+05</td>\n",
       "      <td>2009.000000</td>\n",
       "      <td>1.000000</td>\n",
       "      <td>1.029155</td>\n",
       "      <td>100.000000</td>\n",
       "      <td>41220.250000</td>\n",
       "      <td>11.654501</td>\n",
       "      <td>2010.000000</td>\n",
       "    </tr>\n",
       "    <tr>\n",
       "      <th>max</th>\n",
       "      <td>3.000000e+08</td>\n",
       "      <td>9.366622e+08</td>\n",
       "      <td>271.000000</td>\n",
       "      <td>9.300000</td>\n",
       "      <td>1.861666e+06</td>\n",
       "      <td>2016.000000</td>\n",
       "      <td>1.000000</td>\n",
       "      <td>7193.587333</td>\n",
       "      <td>719360.000000</td>\n",
       "      <td>404378.000000</td>\n",
       "      <td>547.488298</td>\n",
       "      <td>2017.000000</td>\n",
       "    </tr>\n",
       "  </tbody>\n",
       "</table>\n",
       "</div>"
      ],
      "text/plain": [
       "             budget         gross      runtime        score         votes  \\\n",
       "count  3.524000e+03  3.524000e+03  3524.000000  3524.000000  3.524000e+03   \n",
       "mean   3.646837e+07  4.772520e+07   107.189274     6.339018  9.928306e+04   \n",
       "std    4.063369e+07  6.707121e+07    18.472177     1.056288  1.568040e+05   \n",
       "min    0.000000e+00  0.000000e+00     0.000000     0.000000  0.000000e+00   \n",
       "25%    1.000000e+07  6.955428e+06    95.000000     5.800000  1.554475e+04   \n",
       "50%    2.300000e+07  2.511110e+07   104.000000     6.400000  4.403550e+04   \n",
       "75%    4.800000e+07  6.036672e+07   117.000000     7.000000  1.148628e+05   \n",
       "max    3.000000e+08  9.366622e+08   271.000000     9.300000  1.861666e+06   \n",
       "\n",
       "              year     isprofit  profitability_ratio  \\\n",
       "count  3524.000000  3524.000000          3524.000000   \n",
       "mean   1997.125709     0.510499             3.996876   \n",
       "std     101.418026     0.499961           127.868810   \n",
       "min       0.000000     0.000000            -0.999979   \n",
       "25%    1996.000000     0.000000            -0.552571   \n",
       "50%    2002.000000     1.000000             0.020240   \n",
       "75%    2009.000000     1.000000             1.029155   \n",
       "max    2016.000000     1.000000          7193.587333   \n",
       "\n",
       "       profitability_ratio_bucket             id   popularity  year_released  \n",
       "count                 3524.000000    3524.000000  3524.000000    3524.000000  \n",
       "mean                   399.602157   45443.112656     9.785946    2002.385641  \n",
       "std                  12786.904323   77014.289184    13.318482       8.422442  \n",
       "min                   -100.000000       0.000000     0.000000    1986.000000  \n",
       "25%                    -60.000000    8864.750000     5.746421    1996.000000  \n",
       "50%                      0.000000   12513.500000     8.411079    2003.000000  \n",
       "75%                    100.000000   41220.250000    11.654501    2010.000000  \n",
       "max                 719360.000000  404378.000000   547.488298    2017.000000  "
      ]
     },
     "execution_count": 22,
     "metadata": {},
     "output_type": "execute_result"
    }
   ],
   "source": [
    "df.describe()   # after replacing zero with None"
   ]
  },
  {
   "cell_type": "markdown",
   "metadata": {},
   "source": [
    "## 2.3. Removing Rows <a class=\"anchor\" id=\"23\"></a>"
   ]
  },
  {
   "cell_type": "code",
   "execution_count": 23,
   "metadata": {},
   "outputs": [],
   "source": [
    "data_dropped = df.dropna()"
   ]
  },
  {
   "cell_type": "code",
   "execution_count": 24,
   "metadata": {},
   "outputs": [],
   "source": [
    "data_dropped = data_dropped.reset_index() \n",
    "del data_dropped['index']"
   ]
  },
  {
   "cell_type": "code",
   "execution_count": 25,
   "metadata": {},
   "outputs": [
    {
     "data": {
      "text/plain": [
       "(3524, 17)"
      ]
     },
     "execution_count": 25,
     "metadata": {},
     "output_type": "execute_result"
    }
   ],
   "source": [
    "data_dropped.shape"
   ]
  },
  {
   "cell_type": "code",
   "execution_count": 26,
   "metadata": {},
   "outputs": [
    {
     "data": {
      "text/plain": [
       "(3524, 17)"
      ]
     },
     "execution_count": 26,
     "metadata": {},
     "output_type": "execute_result"
    }
   ],
   "source": [
    "df.shape"
   ]
  },
  {
   "cell_type": "code",
   "execution_count": 27,
   "metadata": {},
   "outputs": [],
   "source": [
    "num_rows_lost = round(100*(df.shape[0] - data_dropped.shape[0])/float(df.shape[0]))"
   ]
  },
  {
   "cell_type": "code",
   "execution_count": 28,
   "metadata": {},
   "outputs": [
    {
     "data": {
      "text/plain": [
       "'retained 0% of rows'"
      ]
     },
     "execution_count": 28,
     "metadata": {},
     "output_type": "execute_result"
    }
   ],
   "source": [
    "template = 'retained {}% of rows'\n",
    "template.format(num_rows_lost)"
   ]
  },
  {
   "cell_type": "code",
   "execution_count": 29,
   "metadata": {},
   "outputs": [
    {
     "data": {
      "text/plain": [
       "isprofit\n",
       "0    1725\n",
       "1    1799\n",
       "dtype: int64"
      ]
     },
     "execution_count": 29,
     "metadata": {},
     "output_type": "execute_result"
    }
   ],
   "source": [
    "# class distribution\n",
    "class_counts = data_dropped.groupby('isprofit').size()\n",
    "class_counts"
   ]
  },
  {
   "cell_type": "code",
   "execution_count": 30,
   "metadata": {},
   "outputs": [
    {
     "data": {
      "text/plain": [
       "0.4895005675368899"
      ]
     },
     "execution_count": 30,
     "metadata": {},
     "output_type": "execute_result"
    }
   ],
   "source": [
    "class_counts[0]/df['isprofit'].size"
   ]
  },
  {
   "cell_type": "code",
   "execution_count": 31,
   "metadata": {},
   "outputs": [
    {
     "data": {
      "text/plain": [
       "1    0.510499\n",
       "0    0.489501\n",
       "Name: isprofit, dtype: float64"
      ]
     },
     "execution_count": 31,
     "metadata": {},
     "output_type": "execute_result"
    }
   ],
   "source": [
    "df['isprofit'].value_counts(normalize=True)   #  split of trues and falses before rows dropped"
   ]
  },
  {
   "cell_type": "code",
   "execution_count": 32,
   "metadata": {},
   "outputs": [
    {
     "data": {
      "text/plain": [
       "1    0.510499\n",
       "0    0.489501\n",
       "Name: isprofit, dtype: float64"
      ]
     },
     "execution_count": 32,
     "metadata": {},
     "output_type": "execute_result"
    }
   ],
   "source": [
    "data_dropped['isprofit'].value_counts(normalize=True)   #  split of trues and falses after rows dropped"
   ]
  },
  {
   "cell_type": "code",
   "execution_count": 33,
   "metadata": {},
   "outputs": [
    {
     "data": {
      "text/html": [
       "<div>\n",
       "<style scoped>\n",
       "    .dataframe tbody tr th:only-of-type {\n",
       "        vertical-align: middle;\n",
       "    }\n",
       "\n",
       "    .dataframe tbody tr th {\n",
       "        vertical-align: top;\n",
       "    }\n",
       "\n",
       "    .dataframe thead th {\n",
       "        text-align: right;\n",
       "    }\n",
       "</style>\n",
       "<table border=\"1\" class=\"dataframe\">\n",
       "  <thead>\n",
       "    <tr style=\"text-align: right;\">\n",
       "      <th></th>\n",
       "      <th>budget</th>\n",
       "      <th>gross</th>\n",
       "      <th>runtime</th>\n",
       "      <th>score</th>\n",
       "      <th>votes</th>\n",
       "      <th>year</th>\n",
       "      <th>isprofit</th>\n",
       "      <th>profitability_ratio</th>\n",
       "      <th>profitability_ratio_bucket</th>\n",
       "      <th>id</th>\n",
       "      <th>popularity</th>\n",
       "      <th>year_released</th>\n",
       "    </tr>\n",
       "  </thead>\n",
       "  <tbody>\n",
       "    <tr>\n",
       "      <th>count</th>\n",
       "      <td>3.524000e+03</td>\n",
       "      <td>3.524000e+03</td>\n",
       "      <td>3524.000000</td>\n",
       "      <td>3524.000000</td>\n",
       "      <td>3.524000e+03</td>\n",
       "      <td>3524.000000</td>\n",
       "      <td>3524.000000</td>\n",
       "      <td>3524.000000</td>\n",
       "      <td>3524.000000</td>\n",
       "      <td>3524.000000</td>\n",
       "      <td>3524.000000</td>\n",
       "      <td>3524.000000</td>\n",
       "    </tr>\n",
       "    <tr>\n",
       "      <th>mean</th>\n",
       "      <td>3.646837e+07</td>\n",
       "      <td>4.772520e+07</td>\n",
       "      <td>107.189274</td>\n",
       "      <td>6.339018</td>\n",
       "      <td>9.928306e+04</td>\n",
       "      <td>1997.125709</td>\n",
       "      <td>0.510499</td>\n",
       "      <td>3.996876</td>\n",
       "      <td>399.602157</td>\n",
       "      <td>45443.112656</td>\n",
       "      <td>9.785946</td>\n",
       "      <td>2002.385641</td>\n",
       "    </tr>\n",
       "    <tr>\n",
       "      <th>std</th>\n",
       "      <td>4.063369e+07</td>\n",
       "      <td>6.707121e+07</td>\n",
       "      <td>18.472177</td>\n",
       "      <td>1.056288</td>\n",
       "      <td>1.568040e+05</td>\n",
       "      <td>101.418026</td>\n",
       "      <td>0.499961</td>\n",
       "      <td>127.868810</td>\n",
       "      <td>12786.904323</td>\n",
       "      <td>77014.289184</td>\n",
       "      <td>13.318482</td>\n",
       "      <td>8.422442</td>\n",
       "    </tr>\n",
       "    <tr>\n",
       "      <th>min</th>\n",
       "      <td>0.000000e+00</td>\n",
       "      <td>0.000000e+00</td>\n",
       "      <td>0.000000</td>\n",
       "      <td>0.000000</td>\n",
       "      <td>0.000000e+00</td>\n",
       "      <td>0.000000</td>\n",
       "      <td>0.000000</td>\n",
       "      <td>-0.999979</td>\n",
       "      <td>-100.000000</td>\n",
       "      <td>0.000000</td>\n",
       "      <td>0.000000</td>\n",
       "      <td>1986.000000</td>\n",
       "    </tr>\n",
       "    <tr>\n",
       "      <th>25%</th>\n",
       "      <td>1.000000e+07</td>\n",
       "      <td>6.955428e+06</td>\n",
       "      <td>95.000000</td>\n",
       "      <td>5.800000</td>\n",
       "      <td>1.554475e+04</td>\n",
       "      <td>1996.000000</td>\n",
       "      <td>0.000000</td>\n",
       "      <td>-0.552571</td>\n",
       "      <td>-60.000000</td>\n",
       "      <td>8864.750000</td>\n",
       "      <td>5.746421</td>\n",
       "      <td>1996.000000</td>\n",
       "    </tr>\n",
       "    <tr>\n",
       "      <th>50%</th>\n",
       "      <td>2.300000e+07</td>\n",
       "      <td>2.511110e+07</td>\n",
       "      <td>104.000000</td>\n",
       "      <td>6.400000</td>\n",
       "      <td>4.403550e+04</td>\n",
       "      <td>2002.000000</td>\n",
       "      <td>1.000000</td>\n",
       "      <td>0.020240</td>\n",
       "      <td>0.000000</td>\n",
       "      <td>12513.500000</td>\n",
       "      <td>8.411079</td>\n",
       "      <td>2003.000000</td>\n",
       "    </tr>\n",
       "    <tr>\n",
       "      <th>75%</th>\n",
       "      <td>4.800000e+07</td>\n",
       "      <td>6.036672e+07</td>\n",
       "      <td>117.000000</td>\n",
       "      <td>7.000000</td>\n",
       "      <td>1.148628e+05</td>\n",
       "      <td>2009.000000</td>\n",
       "      <td>1.000000</td>\n",
       "      <td>1.029155</td>\n",
       "      <td>100.000000</td>\n",
       "      <td>41220.250000</td>\n",
       "      <td>11.654501</td>\n",
       "      <td>2010.000000</td>\n",
       "    </tr>\n",
       "    <tr>\n",
       "      <th>max</th>\n",
       "      <td>3.000000e+08</td>\n",
       "      <td>9.366622e+08</td>\n",
       "      <td>271.000000</td>\n",
       "      <td>9.300000</td>\n",
       "      <td>1.861666e+06</td>\n",
       "      <td>2016.000000</td>\n",
       "      <td>1.000000</td>\n",
       "      <td>7193.587333</td>\n",
       "      <td>719360.000000</td>\n",
       "      <td>404378.000000</td>\n",
       "      <td>547.488298</td>\n",
       "      <td>2017.000000</td>\n",
       "    </tr>\n",
       "  </tbody>\n",
       "</table>\n",
       "</div>"
      ],
      "text/plain": [
       "             budget         gross      runtime        score         votes  \\\n",
       "count  3.524000e+03  3.524000e+03  3524.000000  3524.000000  3.524000e+03   \n",
       "mean   3.646837e+07  4.772520e+07   107.189274     6.339018  9.928306e+04   \n",
       "std    4.063369e+07  6.707121e+07    18.472177     1.056288  1.568040e+05   \n",
       "min    0.000000e+00  0.000000e+00     0.000000     0.000000  0.000000e+00   \n",
       "25%    1.000000e+07  6.955428e+06    95.000000     5.800000  1.554475e+04   \n",
       "50%    2.300000e+07  2.511110e+07   104.000000     6.400000  4.403550e+04   \n",
       "75%    4.800000e+07  6.036672e+07   117.000000     7.000000  1.148628e+05   \n",
       "max    3.000000e+08  9.366622e+08   271.000000     9.300000  1.861666e+06   \n",
       "\n",
       "              year     isprofit  profitability_ratio  \\\n",
       "count  3524.000000  3524.000000          3524.000000   \n",
       "mean   1997.125709     0.510499             3.996876   \n",
       "std     101.418026     0.499961           127.868810   \n",
       "min       0.000000     0.000000            -0.999979   \n",
       "25%    1996.000000     0.000000            -0.552571   \n",
       "50%    2002.000000     1.000000             0.020240   \n",
       "75%    2009.000000     1.000000             1.029155   \n",
       "max    2016.000000     1.000000          7193.587333   \n",
       "\n",
       "       profitability_ratio_bucket             id   popularity  year_released  \n",
       "count                 3524.000000    3524.000000  3524.000000    3524.000000  \n",
       "mean                   399.602157   45443.112656     9.785946    2002.385641  \n",
       "std                  12786.904323   77014.289184    13.318482       8.422442  \n",
       "min                   -100.000000       0.000000     0.000000    1986.000000  \n",
       "25%                    -60.000000    8864.750000     5.746421    1996.000000  \n",
       "50%                      0.000000   12513.500000     8.411079    2003.000000  \n",
       "75%                    100.000000   41220.250000    11.654501    2010.000000  \n",
       "max                 719360.000000  404378.000000   547.488298    2017.000000  "
      ]
     },
     "execution_count": 33,
     "metadata": {},
     "output_type": "execute_result"
    }
   ],
   "source": [
    "data_dropped.describe()   # after removing rows which include NaN"
   ]
  },
  {
   "cell_type": "code",
   "execution_count": 34,
   "metadata": {},
   "outputs": [
    {
     "data": {
      "text/plain": [
       "budget                        0.0\n",
       "gross                         0.0\n",
       "runtime                       0.0\n",
       "score                         0.0\n",
       "votes                         0.0\n",
       "year                          0.0\n",
       "isprofit                      0.0\n",
       "profitability_ratio           0.0\n",
       "profitability_ratio_bucket    0.0\n",
       "id                            0.0\n",
       "popularity                    0.0\n",
       "year_released                 0.0\n",
       "dtype: float64"
      ]
     },
     "execution_count": 34,
     "metadata": {},
     "output_type": "execute_result"
    }
   ],
   "source": [
    "# % change in means of columns before and after dropping missing-value rows\n",
    "change_in_means = ((data_dropped.mean() - df.mean()) / df.mean() * 100).round(2)\n",
    "change_in_means"
   ]
  },
  {
   "cell_type": "markdown",
   "metadata": {},
   "source": [
    "### Bar Chart of the Change in Means"
   ]
  },
  {
   "cell_type": "code",
   "execution_count": 35,
   "metadata": {},
   "outputs": [
    {
     "data": {
      "text/plain": [
       "Text(0, 0.5, '% change')"
      ]
     },
     "execution_count": 35,
     "metadata": {},
     "output_type": "execute_result"
    },
    {
     "data": {
      "image/png": "[encoded data removed]",
      "text/plain": [
       "<Figure size 648x288 with 1 Axes>"
      ]
     },
     "metadata": {},
     "output_type": "display_data"
    }
   ],
   "source": [
    "plt.figure(figsize=(9, 4))\n",
    "change_in_means.plot.bar(title='% change in average column values')\n",
    "plt.ylabel('% change')\n"
   ]
  },
  {
   "cell_type": "markdown",
   "metadata": {},
   "source": [
    "Figure 1: Percent change in average column values\n",
    "<p>Figure 1 shows the percent change in mean of columns before and after dropping missing-value rows.</p>"
   ]
  },
  {
   "cell_type": "markdown",
   "metadata": {},
   "source": [
    "## 2.4. Finding Outliers <a class=\"anchor\" id=\"24\"></a>"
   ]
  },
  {
   "cell_type": "markdown",
   "metadata": {},
   "source": [
    "### 2.4.1. IQR Score Method <a class=\"anchor\" id=\"241\"></a>"
   ]
  },
  {
   "cell_type": "code",
   "execution_count": 36,
   "metadata": {},
   "outputs": [
    {
     "name": "stdout",
     "output_type": "stream",
     "text": [
      "budget                        3.800000e+07\n",
      "gross                         5.341130e+07\n",
      "runtime                       2.200000e+01\n",
      "score                         1.200000e+00\n",
      "votes                         9.931800e+04\n",
      "year                          1.300000e+01\n",
      "isprofit                      1.000000e+00\n",
      "profitability_ratio           1.581726e+00\n",
      "profitability_ratio_bucket    1.600000e+02\n",
      "id                            3.235550e+04\n",
      "popularity                    5.908080e+00\n",
      "year_released                 1.400000e+01\n",
      "dtype: float64\n"
     ]
    }
   ],
   "source": [
    "Q1 = data_dropped.quantile(0.25)\n",
    "Q3 = data_dropped.quantile(0.75)\n",
    "IQR = Q3 - Q1\n",
    "print(IQR)"
   ]
  },
  {
   "cell_type": "code",
   "execution_count": 37,
   "metadata": {},
   "outputs": [
    {
     "name": "stdout",
     "output_type": "stream",
     "text": [
      "      budget  gross     id  imdb_id  isprofit   name  original_title  \\\n",
      "0      False  False  False    False     False  False           False   \n",
      "1      False  False  False    False     False  False           False   \n",
      "2      False   True  False    False     False  False           False   \n",
      "3      False  False  False    False     False  False           False   \n",
      "4      False  False  False    False     False  False           False   \n",
      "...      ...    ...    ...      ...       ...    ...             ...   \n",
      "3519   False  False   True    False     False  False           False   \n",
      "3520   False  False   True    False     False  False           False   \n",
      "3521   False  False   True    False     False  False           False   \n",
      "3522   False  False   True    False     False  False           False   \n",
      "3523   False  False   True    False     False  False           False   \n",
      "\n",
      "      popularity  profitability_ratio  profitability_ratio_bucket  released  \\\n",
      "0          False                 True                        True     False   \n",
      "1          False                 True                        True     False   \n",
      "2          False                 True                        True     False   \n",
      "3           True                 True                        True     False   \n",
      "4          False                False                       False     False   \n",
      "...          ...                  ...                         ...       ...   \n",
      "3519       False                False                       False     False   \n",
      "3520       False                 True                        True     False   \n",
      "3521       False                False                       False     False   \n",
      "3522       False                False                       False     False   \n",
      "3523       False                False                       False     False   \n",
      "\n",
      "      runtime  score  title  votes   year  year_released  \n",
      "0       False  False  False   True  False          False  \n",
      "1       False  False  False   True  False          False  \n",
      "2       False  False  False  False  False          False  \n",
      "3       False  False  False   True  False          False  \n",
      "4       False  False  False  False  False          False  \n",
      "...       ...    ...    ...    ...    ...            ...  \n",
      "3519    False  False  False  False  False          False  \n",
      "3520    False  False  False  False  False          False  \n",
      "3521    False  False  False  False  False          False  \n",
      "3522    False  False  False  False  False          False  \n",
      "3523    False  False  False  False  False          False  \n",
      "\n",
      "[3524 rows x 17 columns]\n"
     ]
    },
    {
     "name": "stderr",
     "output_type": "stream",
     "text": [
      "c:\\users\\jaymish\\desktop\\pcs\\web2txt\\webapp\\venv\\lib\\site-packages\\ipykernel_launcher.py:1: FutureWarning: Automatic reindexing on DataFrame vs Series comparisons is deprecated and will raise ValueError in a future version.  Do `left, right = left.align(right, axis=1, copy=False)` before e.g. `left == right`\n",
      "  \"\"\"Entry point for launching an IPython kernel.\n",
      "c:\\users\\jaymish\\desktop\\pcs\\web2txt\\webapp\\venv\\lib\\site-packages\\ipykernel_launcher.py:1: FutureWarning: Automatic reindexing on DataFrame vs Series comparisons is deprecated and will raise ValueError in a future version.  Do `left, right = left.align(right, axis=1, copy=False)` before e.g. `left == right`\n",
      "  \"\"\"Entry point for launching an IPython kernel.\n"
     ]
    }
   ],
   "source": [
    "print((data_dropped < (Q1 - (1.5 * IQR))) | (data_dropped > (Q3 + (1.5 * IQR))))"
   ]
  },
  {
   "cell_type": "code",
   "execution_count": 38,
   "metadata": {},
   "outputs": [
    {
     "data": {
      "text/plain": [
       "(3524, 17)"
      ]
     },
     "execution_count": 38,
     "metadata": {},
     "output_type": "execute_result"
    }
   ],
   "source": [
    "data_dropped.shape"
   ]
  },
  {
   "cell_type": "code",
   "execution_count": 39,
   "metadata": {},
   "outputs": [
    {
     "name": "stderr",
     "output_type": "stream",
     "text": [
      "c:\\users\\jaymish\\desktop\\pcs\\web2txt\\webapp\\venv\\lib\\site-packages\\ipykernel_launcher.py:1: FutureWarning: Automatic reindexing on DataFrame vs Series comparisons is deprecated and will raise ValueError in a future version.  Do `left, right = left.align(right, axis=1, copy=False)` before e.g. `left == right`\n",
      "  \"\"\"Entry point for launching an IPython kernel.\n",
      "c:\\users\\jaymish\\desktop\\pcs\\web2txt\\webapp\\venv\\lib\\site-packages\\ipykernel_launcher.py:1: FutureWarning: Automatic reindexing on DataFrame vs Series comparisons is deprecated and will raise ValueError in a future version.  Do `left, right = left.align(right, axis=1, copy=False)` before e.g. `left == right`\n",
      "  \"\"\"Entry point for launching an IPython kernel.\n"
     ]
    }
   ],
   "source": [
    "data_dropped_outlier_IQR = data_dropped[~((data_dropped < (Q1 - 1.5 * IQR)) | (data_dropped > (Q3 + 1.5 * IQR))).any(axis=1)]"
   ]
  },
  {
   "cell_type": "code",
   "execution_count": 40,
   "metadata": {},
   "outputs": [
    {
     "data": {
      "text/plain": [
       "(2336, 17)"
      ]
     },
     "execution_count": 40,
     "metadata": {},
     "output_type": "execute_result"
    }
   ],
   "source": [
    "data_dropped_outlier_IQR.shape"
   ]
  },
  {
   "cell_type": "code",
   "execution_count": 41,
   "metadata": {},
   "outputs": [
    {
     "data": {
      "text/html": [
       "<div>\n",
       "<style scoped>\n",
       "    .dataframe tbody tr th:only-of-type {\n",
       "        vertical-align: middle;\n",
       "    }\n",
       "\n",
       "    .dataframe tbody tr th {\n",
       "        vertical-align: top;\n",
       "    }\n",
       "\n",
       "    .dataframe thead th {\n",
       "        text-align: right;\n",
       "    }\n",
       "</style>\n",
       "<table border=\"1\" class=\"dataframe\">\n",
       "  <thead>\n",
       "    <tr style=\"text-align: right;\">\n",
       "      <th></th>\n",
       "      <th>budget</th>\n",
       "      <th>gross</th>\n",
       "      <th>name</th>\n",
       "      <th>released</th>\n",
       "      <th>runtime</th>\n",
       "      <th>score</th>\n",
       "      <th>votes</th>\n",
       "      <th>year</th>\n",
       "      <th>isprofit</th>\n",
       "      <th>profitability_ratio</th>\n",
       "      <th>profitability_ratio_bucket</th>\n",
       "      <th>id</th>\n",
       "      <th>imdb_id</th>\n",
       "      <th>original_title</th>\n",
       "      <th>popularity</th>\n",
       "      <th>title</th>\n",
       "      <th>year_released</th>\n",
       "    </tr>\n",
       "  </thead>\n",
       "  <tbody>\n",
       "    <tr>\n",
       "      <th>0</th>\n",
       "      <td>9000000</td>\n",
       "      <td>18564613</td>\n",
       "      <td>Flight of the Navigator</td>\n",
       "      <td>1.08.1986 00:00</td>\n",
       "      <td>90</td>\n",
       "      <td>6.9</td>\n",
       "      <td>36636</td>\n",
       "      <td>1986</td>\n",
       "      <td>1</td>\n",
       "      <td>1.062735</td>\n",
       "      <td>110</td>\n",
       "      <td>10122</td>\n",
       "      <td>tt0091059</td>\n",
       "      <td>Flight of the Navigator</td>\n",
       "      <td>5.526865</td>\n",
       "      <td>Flight of the Navigator</td>\n",
       "      <td>1986</td>\n",
       "    </tr>\n",
       "    <tr>\n",
       "      <th>1</th>\n",
       "      <td>6000000</td>\n",
       "      <td>8551228</td>\n",
       "      <td>Blue Velvet</td>\n",
       "      <td>23.10.1986 00:00</td>\n",
       "      <td>120</td>\n",
       "      <td>7.8</td>\n",
       "      <td>146768</td>\n",
       "      <td>1986</td>\n",
       "      <td>1</td>\n",
       "      <td>0.425205</td>\n",
       "      <td>40</td>\n",
       "      <td>793</td>\n",
       "      <td>tt0090756</td>\n",
       "      <td>Blue Velvet</td>\n",
       "      <td>7.882247</td>\n",
       "      <td>Blue Velvet</td>\n",
       "      <td>1986</td>\n",
       "    </tr>\n",
       "    <tr>\n",
       "      <th>2</th>\n",
       "      <td>16000000</td>\n",
       "      <td>5900000</td>\n",
       "      <td>Highlander</td>\n",
       "      <td>7.03.1986 00:00</td>\n",
       "      <td>116</td>\n",
       "      <td>7.2</td>\n",
       "      <td>104860</td>\n",
       "      <td>1986</td>\n",
       "      <td>0</td>\n",
       "      <td>-0.631250</td>\n",
       "      <td>-60</td>\n",
       "      <td>8009</td>\n",
       "      <td>tt0091203</td>\n",
       "      <td>Highlander</td>\n",
       "      <td>16.870392</td>\n",
       "      <td>Highlander</td>\n",
       "      <td>1986</td>\n",
       "    </tr>\n",
       "    <tr>\n",
       "      <th>3</th>\n",
       "      <td>6000000</td>\n",
       "      <td>8200000</td>\n",
       "      <td>Lucas</td>\n",
       "      <td>28.03.1986 00:00</td>\n",
       "      <td>100</td>\n",
       "      <td>6.8</td>\n",
       "      <td>12228</td>\n",
       "      <td>1986</td>\n",
       "      <td>1</td>\n",
       "      <td>0.366667</td>\n",
       "      <td>40</td>\n",
       "      <td>13346</td>\n",
       "      <td>tt0091445</td>\n",
       "      <td>Lucas</td>\n",
       "      <td>4.575350</td>\n",
       "      <td>Lucas</td>\n",
       "      <td>1986</td>\n",
       "    </tr>\n",
       "    <tr>\n",
       "      <th>4</th>\n",
       "      <td>25000000</td>\n",
       "      <td>11100000</td>\n",
       "      <td>Big Trouble in Little China</td>\n",
       "      <td>2.07.1986 00:00</td>\n",
       "      <td>99</td>\n",
       "      <td>7.3</td>\n",
       "      <td>101678</td>\n",
       "      <td>1986</td>\n",
       "      <td>0</td>\n",
       "      <td>-0.556000</td>\n",
       "      <td>-60</td>\n",
       "      <td>6978</td>\n",
       "      <td>tt0090728</td>\n",
       "      <td>Big Trouble in Little China</td>\n",
       "      <td>11.109932</td>\n",
       "      <td>Big Trouble in Little China</td>\n",
       "      <td>1986</td>\n",
       "    </tr>\n",
       "    <tr>\n",
       "      <th>...</th>\n",
       "      <td>...</td>\n",
       "      <td>...</td>\n",
       "      <td>...</td>\n",
       "      <td>...</td>\n",
       "      <td>...</td>\n",
       "      <td>...</td>\n",
       "      <td>...</td>\n",
       "      <td>...</td>\n",
       "      <td>...</td>\n",
       "      <td>...</td>\n",
       "      <td>...</td>\n",
       "      <td>...</td>\n",
       "      <td>...</td>\n",
       "      <td>...</td>\n",
       "      <td>...</td>\n",
       "      <td>...</td>\n",
       "      <td>...</td>\n",
       "    </tr>\n",
       "    <tr>\n",
       "      <th>2331</th>\n",
       "      <td>95000000</td>\n",
       "      <td>17223265</td>\n",
       "      <td>Seventh Son</td>\n",
       "      <td>6.02.2015 00:00</td>\n",
       "      <td>102</td>\n",
       "      <td>5.5</td>\n",
       "      <td>61441</td>\n",
       "      <td>2014</td>\n",
       "      <td>0</td>\n",
       "      <td>-0.818702</td>\n",
       "      <td>-80</td>\n",
       "      <td>68737</td>\n",
       "      <td>tt1121096</td>\n",
       "      <td>Seventh Son</td>\n",
       "      <td>15.297821</td>\n",
       "      <td>Seventh Son</td>\n",
       "      <td>2015</td>\n",
       "    </tr>\n",
       "    <tr>\n",
       "      <th>2332</th>\n",
       "      <td>24000000</td>\n",
       "      <td>12096300</td>\n",
       "      <td>Foxcatcher</td>\n",
       "      <td>16.01.2015 00:00</td>\n",
       "      <td>134</td>\n",
       "      <td>7.0</td>\n",
       "      <td>117034</td>\n",
       "      <td>2014</td>\n",
       "      <td>0</td>\n",
       "      <td>-0.495988</td>\n",
       "      <td>-50</td>\n",
       "      <td>87492</td>\n",
       "      <td>tt1100089</td>\n",
       "      <td>Foxcatcher</td>\n",
       "      <td>8.103570</td>\n",
       "      <td>Foxcatcher</td>\n",
       "      <td>2015</td>\n",
       "    </tr>\n",
       "    <tr>\n",
       "      <th>2333</th>\n",
       "      <td>10000000</td>\n",
       "      <td>14479776</td>\n",
       "      <td>Big Eyes</td>\n",
       "      <td>25.12.2014 00:00</td>\n",
       "      <td>106</td>\n",
       "      <td>7.0</td>\n",
       "      <td>66972</td>\n",
       "      <td>2014</td>\n",
       "      <td>1</td>\n",
       "      <td>0.447978</td>\n",
       "      <td>40</td>\n",
       "      <td>87093</td>\n",
       "      <td>tt1126590</td>\n",
       "      <td>Big Eyes</td>\n",
       "      <td>7.412826</td>\n",
       "      <td>Big Eyes</td>\n",
       "      <td>2014</td>\n",
       "    </tr>\n",
       "    <tr>\n",
       "      <th>2334</th>\n",
       "      <td>15000000</td>\n",
       "      <td>1108247</td>\n",
       "      <td>Macbeth</td>\n",
       "      <td>11.12.2015 00:00</td>\n",
       "      <td>113</td>\n",
       "      <td>6.7</td>\n",
       "      <td>43481</td>\n",
       "      <td>2015</td>\n",
       "      <td>0</td>\n",
       "      <td>-0.926117</td>\n",
       "      <td>-90</td>\n",
       "      <td>41149</td>\n",
       "      <td>tt0079499</td>\n",
       "      <td>Macbeth</td>\n",
       "      <td>0.398025</td>\n",
       "      <td>A Performance of Macbeth</td>\n",
       "      <td>2015</td>\n",
       "    </tr>\n",
       "    <tr>\n",
       "      <th>2335</th>\n",
       "      <td>28000000</td>\n",
       "      <td>6998324</td>\n",
       "      <td>Our Brand Is Crisis</td>\n",
       "      <td>30.10.2015 00:00</td>\n",
       "      <td>107</td>\n",
       "      <td>6.1</td>\n",
       "      <td>16204</td>\n",
       "      <td>2015</td>\n",
       "      <td>0</td>\n",
       "      <td>-0.750060</td>\n",
       "      <td>-80</td>\n",
       "      <td>10317</td>\n",
       "      <td>tt1018765</td>\n",
       "      <td>Our Brand Is Crisis</td>\n",
       "      <td>12.158176</td>\n",
       "      <td>Our Brand Is Crisis</td>\n",
       "      <td>2015</td>\n",
       "    </tr>\n",
       "  </tbody>\n",
       "</table>\n",
       "<p>2336 rows × 17 columns</p>\n",
       "</div>"
      ],
      "text/plain": [
       "        budget     gross                         name          released  \\\n",
       "0      9000000  18564613      Flight of the Navigator   1.08.1986 00:00   \n",
       "1      6000000   8551228                  Blue Velvet  23.10.1986 00:00   \n",
       "2     16000000   5900000                   Highlander   7.03.1986 00:00   \n",
       "3      6000000   8200000                        Lucas  28.03.1986 00:00   \n",
       "4     25000000  11100000  Big Trouble in Little China   2.07.1986 00:00   \n",
       "...        ...       ...                          ...               ...   \n",
       "2331  95000000  17223265                  Seventh Son   6.02.2015 00:00   \n",
       "2332  24000000  12096300                   Foxcatcher  16.01.2015 00:00   \n",
       "2333  10000000  14479776                     Big Eyes  25.12.2014 00:00   \n",
       "2334  15000000   1108247                      Macbeth  11.12.2015 00:00   \n",
       "2335  28000000   6998324          Our Brand Is Crisis  30.10.2015 00:00   \n",
       "\n",
       "      runtime  score   votes  year  isprofit  profitability_ratio  \\\n",
       "0          90    6.9   36636  1986         1             1.062735   \n",
       "1         120    7.8  146768  1986         1             0.425205   \n",
       "2         116    7.2  104860  1986         0            -0.631250   \n",
       "3         100    6.8   12228  1986         1             0.366667   \n",
       "4          99    7.3  101678  1986         0            -0.556000   \n",
       "...       ...    ...     ...   ...       ...                  ...   \n",
       "2331      102    5.5   61441  2014         0            -0.818702   \n",
       "2332      134    7.0  117034  2014         0            -0.495988   \n",
       "2333      106    7.0   66972  2014         1             0.447978   \n",
       "2334      113    6.7   43481  2015         0            -0.926117   \n",
       "2335      107    6.1   16204  2015         0            -0.750060   \n",
       "\n",
       "      profitability_ratio_bucket     id    imdb_id  \\\n",
       "0                            110  10122  tt0091059   \n",
       "1                             40    793  tt0090756   \n",
       "2                            -60   8009  tt0091203   \n",
       "3                             40  13346  tt0091445   \n",
       "4                            -60   6978  tt0090728   \n",
       "...                          ...    ...        ...   \n",
       "2331                         -80  68737  tt1121096   \n",
       "2332                         -50  87492  tt1100089   \n",
       "2333                          40  87093  tt1126590   \n",
       "2334                         -90  41149  tt0079499   \n",
       "2335                         -80  10317  tt1018765   \n",
       "\n",
       "                   original_title  popularity                        title  \\\n",
       "0         Flight of the Navigator    5.526865      Flight of the Navigator   \n",
       "1                     Blue Velvet    7.882247                  Blue Velvet   \n",
       "2                      Highlander   16.870392                   Highlander   \n",
       "3                           Lucas    4.575350                        Lucas   \n",
       "4     Big Trouble in Little China   11.109932  Big Trouble in Little China   \n",
       "...                           ...         ...                          ...   \n",
       "2331                  Seventh Son   15.297821                  Seventh Son   \n",
       "2332                   Foxcatcher    8.103570                   Foxcatcher   \n",
       "2333                     Big Eyes    7.412826                     Big Eyes   \n",
       "2334                      Macbeth    0.398025     A Performance of Macbeth   \n",
       "2335          Our Brand Is Crisis   12.158176          Our Brand Is Crisis   \n",
       "\n",
       "      year_released  \n",
       "0              1986  \n",
       "1              1986  \n",
       "2              1986  \n",
       "3              1986  \n",
       "4              1986  \n",
       "...             ...  \n",
       "2331           2015  \n",
       "2332           2015  \n",
       "2333           2014  \n",
       "2334           2015  \n",
       "2335           2015  \n",
       "\n",
       "[2336 rows x 17 columns]"
      ]
     },
     "execution_count": 41,
     "metadata": {},
     "output_type": "execute_result"
    }
   ],
   "source": [
    "data_dropped_outlier_IQR = data_dropped_outlier_IQR.reset_index()\n",
    "del data_dropped_outlier_IQR['index']\n",
    "data_dropped_outlier_IQR"
   ]
  },
  {
   "cell_type": "code",
   "execution_count": 42,
   "metadata": {},
   "outputs": [
    {
     "data": {
      "text/html": [
       "<div>\n",
       "<style scoped>\n",
       "    .dataframe tbody tr th:only-of-type {\n",
       "        vertical-align: middle;\n",
       "    }\n",
       "\n",
       "    .dataframe tbody tr th {\n",
       "        vertical-align: top;\n",
       "    }\n",
       "\n",
       "    .dataframe thead th {\n",
       "        text-align: right;\n",
       "    }\n",
       "</style>\n",
       "<table border=\"1\" class=\"dataframe\">\n",
       "  <thead>\n",
       "    <tr style=\"text-align: right;\">\n",
       "      <th></th>\n",
       "      <th>budget</th>\n",
       "      <th>gross</th>\n",
       "      <th>runtime</th>\n",
       "      <th>score</th>\n",
       "      <th>votes</th>\n",
       "      <th>year</th>\n",
       "      <th>isprofit</th>\n",
       "      <th>profitability_ratio</th>\n",
       "      <th>profitability_ratio_bucket</th>\n",
       "      <th>id</th>\n",
       "      <th>popularity</th>\n",
       "      <th>year_released</th>\n",
       "    </tr>\n",
       "  </thead>\n",
       "  <tbody>\n",
       "    <tr>\n",
       "      <th>count</th>\n",
       "      <td>2.336000e+03</td>\n",
       "      <td>2.336000e+03</td>\n",
       "      <td>2336.000000</td>\n",
       "      <td>2336.000000</td>\n",
       "      <td>2336.000000</td>\n",
       "      <td>2336.000000</td>\n",
       "      <td>2336.000000</td>\n",
       "      <td>2336.000000</td>\n",
       "      <td>2336.000000</td>\n",
       "      <td>2336.000000</td>\n",
       "      <td>2336.000000</td>\n",
       "      <td>2336.000000</td>\n",
       "    </tr>\n",
       "    <tr>\n",
       "      <th>mean</th>\n",
       "      <td>2.812377e+07</td>\n",
       "      <td>2.827667e+07</td>\n",
       "      <td>105.166952</td>\n",
       "      <td>6.250856</td>\n",
       "      <td>52168.505993</td>\n",
       "      <td>2000.103596</td>\n",
       "      <td>0.433219</td>\n",
       "      <td>0.100741</td>\n",
       "      <td>10.003425</td>\n",
       "      <td>19130.776113</td>\n",
       "      <td>7.708499</td>\n",
       "      <td>2000.269264</td>\n",
       "    </tr>\n",
       "    <tr>\n",
       "      <th>std</th>\n",
       "      <td>2.282852e+07</td>\n",
       "      <td>2.929657e+07</td>\n",
       "      <td>14.093370</td>\n",
       "      <td>0.840373</td>\n",
       "      <td>55622.410590</td>\n",
       "      <td>7.262085</td>\n",
       "      <td>0.495626</td>\n",
       "      <td>0.974762</td>\n",
       "      <td>97.586577</td>\n",
       "      <td>19101.203877</td>\n",
       "      <td>3.649485</td>\n",
       "      <td>7.321308</td>\n",
       "    </tr>\n",
       "    <tr>\n",
       "      <th>min</th>\n",
       "      <td>2.000000e+04</td>\n",
       "      <td>3.090000e+02</td>\n",
       "      <td>69.000000</td>\n",
       "      <td>4.000000</td>\n",
       "      <td>456.000000</td>\n",
       "      <td>1986.000000</td>\n",
       "      <td>0.000000</td>\n",
       "      <td>-0.999979</td>\n",
       "      <td>-100.000000</td>\n",
       "      <td>5.000000</td>\n",
       "      <td>0.000578</td>\n",
       "      <td>1986.000000</td>\n",
       "    </tr>\n",
       "    <tr>\n",
       "      <th>25%</th>\n",
       "      <td>1.000000e+07</td>\n",
       "      <td>5.410719e+06</td>\n",
       "      <td>95.000000</td>\n",
       "      <td>5.700000</td>\n",
       "      <td>11899.750000</td>\n",
       "      <td>1994.000000</td>\n",
       "      <td>0.000000</td>\n",
       "      <td>-0.634612</td>\n",
       "      <td>-60.000000</td>\n",
       "      <td>9035.500000</td>\n",
       "      <td>5.222567</td>\n",
       "      <td>1995.000000</td>\n",
       "    </tr>\n",
       "    <tr>\n",
       "      <th>50%</th>\n",
       "      <td>2.200000e+07</td>\n",
       "      <td>1.832070e+07</td>\n",
       "      <td>102.500000</td>\n",
       "      <td>6.300000</td>\n",
       "      <td>31530.000000</td>\n",
       "      <td>2000.000000</td>\n",
       "      <td>0.000000</td>\n",
       "      <td>-0.163279</td>\n",
       "      <td>-20.000000</td>\n",
       "      <td>11519.000000</td>\n",
       "      <td>7.514438</td>\n",
       "      <td>2001.000000</td>\n",
       "    </tr>\n",
       "    <tr>\n",
       "      <th>75%</th>\n",
       "      <td>4.000000e+07</td>\n",
       "      <td>4.132717e+07</td>\n",
       "      <td>114.000000</td>\n",
       "      <td>6.900000</td>\n",
       "      <td>72160.500000</td>\n",
       "      <td>2006.000000</td>\n",
       "      <td>1.000000</td>\n",
       "      <td>0.556042</td>\n",
       "      <td>60.000000</td>\n",
       "      <td>23629.500000</td>\n",
       "      <td>10.082232</td>\n",
       "      <td>2006.000000</td>\n",
       "    </tr>\n",
       "    <tr>\n",
       "      <th>max</th>\n",
       "      <td>1.050000e+08</td>\n",
       "      <td>1.404647e+08</td>\n",
       "      <td>150.000000</td>\n",
       "      <td>8.200000</td>\n",
       "      <td>263834.000000</td>\n",
       "      <td>2015.000000</td>\n",
       "      <td>1.000000</td>\n",
       "      <td>3.399053</td>\n",
       "      <td>340.000000</td>\n",
       "      <td>89691.000000</td>\n",
       "      <td>19.420510</td>\n",
       "      <td>2015.000000</td>\n",
       "    </tr>\n",
       "  </tbody>\n",
       "</table>\n",
       "</div>"
      ],
      "text/plain": [
       "             budget         gross      runtime        score          votes  \\\n",
       "count  2.336000e+03  2.336000e+03  2336.000000  2336.000000    2336.000000   \n",
       "mean   2.812377e+07  2.827667e+07   105.166952     6.250856   52168.505993   \n",
       "std    2.282852e+07  2.929657e+07    14.093370     0.840373   55622.410590   \n",
       "min    2.000000e+04  3.090000e+02    69.000000     4.000000     456.000000   \n",
       "25%    1.000000e+07  5.410719e+06    95.000000     5.700000   11899.750000   \n",
       "50%    2.200000e+07  1.832070e+07   102.500000     6.300000   31530.000000   \n",
       "75%    4.000000e+07  4.132717e+07   114.000000     6.900000   72160.500000   \n",
       "max    1.050000e+08  1.404647e+08   150.000000     8.200000  263834.000000   \n",
       "\n",
       "              year     isprofit  profitability_ratio  \\\n",
       "count  2336.000000  2336.000000          2336.000000   \n",
       "mean   2000.103596     0.433219             0.100741   \n",
       "std       7.262085     0.495626             0.974762   \n",
       "min    1986.000000     0.000000            -0.999979   \n",
       "25%    1994.000000     0.000000            -0.634612   \n",
       "50%    2000.000000     0.000000            -0.163279   \n",
       "75%    2006.000000     1.000000             0.556042   \n",
       "max    2015.000000     1.000000             3.399053   \n",
       "\n",
       "       profitability_ratio_bucket            id   popularity  year_released  \n",
       "count                 2336.000000   2336.000000  2336.000000    2336.000000  \n",
       "mean                    10.003425  19130.776113     7.708499    2000.269264  \n",
       "std                     97.586577  19101.203877     3.649485       7.321308  \n",
       "min                   -100.000000      5.000000     0.000578    1986.000000  \n",
       "25%                    -60.000000   9035.500000     5.222567    1995.000000  \n",
       "50%                    -20.000000  11519.000000     7.514438    2001.000000  \n",
       "75%                     60.000000  23629.500000    10.082232    2006.000000  \n",
       "max                    340.000000  89691.000000    19.420510    2015.000000  "
      ]
     },
     "execution_count": 42,
     "metadata": {},
     "output_type": "execute_result"
    }
   ],
   "source": [
    "data_dropped_outlier_IQR.describe()"
   ]
  },
  {
   "cell_type": "markdown",
   "metadata": {},
   "source": [
    "## 2.5. Box Plot <a class=\"anchor\" id=\"25\"></a>"
   ]
  },
  {
   "cell_type": "markdown",
   "metadata": {},
   "source": [
    "### Boxplot of Initial Data"
   ]
  },
  {
   "cell_type": "code",
   "execution_count": 43,
   "metadata": {},
   "outputs": [
    {
     "data": {
      "text/plain": [
       "<AxesSubplot:>"
      ]
     },
     "execution_count": 43,
     "metadata": {},
     "output_type": "execute_result"
    },
    {
     "data": {
      "image/png": "[encoded data removed]",
      "text/plain": [
       "<Figure size 2304x1008 with 1 Axes>"
      ]
     },
     "metadata": {},
     "output_type": "display_data"
    }
   ],
   "source": [
    "df.plot(x=df.index.name, kind='box', figsize=(32, 14))"
   ]
  },
  {
   "cell_type": "markdown",
   "metadata": {},
   "source": [
    "Figure 2: Data Distribution before Cleaning\n",
    "<p>Figure 2 shows the distribution of the data before dropping rows. The graph represents five number summary: “minimum, first quartile, median, third quartile, and ''maximum”. The ends of the box are the quartiles, Q1 and Q3, while the box length is interquartile range (IQR). Two lines (called whiskers) outside the box extend to the smallest (Minimum) and largest (Maximum) observations. The circles are the outliers.</p>"
   ]
  },
  {
   "cell_type": "markdown",
   "metadata": {},
   "source": [
    "### Boxplot of Dropped Data"
   ]
  },
  {
   "cell_type": "code",
   "execution_count": 44,
   "metadata": {},
   "outputs": [
    {
     "data": {
      "text/plain": [
       "<AxesSubplot:>"
      ]
     },
     "execution_count": 44,
     "metadata": {},
     "output_type": "execute_result"
    },
    {
     "data": {
      "image/png": "[encoded data removed]",
      "text/plain": [
       "<Figure size 2304x1008 with 1 Axes>"
      ]
     },
     "metadata": {},
     "output_type": "display_data"
    }
   ],
   "source": [
    "data_dropped.plot(x=data_dropped.index.name, kind='box', figsize=(32, 14))"
   ]
  },
  {
   "cell_type": "markdown",
   "metadata": {},
   "source": [
    "Figure 3: Data Distribution of Dropped Data\n",
    "<p>Figure 3 shows the distibution of data after dropping rows with the value NaN. The graph represents five number summary: “minimum, first quartile, median, third quartile, and ''maximum”. The ends of the box are the quartiles, Q1 and Q3, while the box length is interquartile range (IQR). Two lines (called whiskers) outside the box extend to the smallest (Minimum) and largest (Maximum) observations. The circles are the outliers.</p>"
   ]
  },
  {
   "cell_type": "markdown",
   "metadata": {},
   "source": [
    "### Boxplot of Dropped Outlier Data"
   ]
  },
  {
   "cell_type": "code",
   "execution_count": 45,
   "metadata": {},
   "outputs": [
    {
     "data": {
      "text/plain": [
       "<AxesSubplot:>"
      ]
     },
     "execution_count": 45,
     "metadata": {},
     "output_type": "execute_result"
    },
    {
     "data": {
      "image/png": "[encoded data removed]",
      "text/plain": [
       "<Figure size 3312x1008 with 1 Axes>"
      ]
     },
     "metadata": {},
     "output_type": "display_data"
    }
   ],
   "source": [
    "data_dropped_outlier_IQR.plot(x=data_dropped_outlier_IQR.index.name, kind='box', figsize=(46, 14))"
   ]
  },
  {
   "cell_type": "markdown",
   "metadata": {},
   "source": [
    "Figure 4: Data Distribution of Outlier Data\n",
    "<p>Figure 4 shows the distributoion of data after dropping outliers. The graph represents five number summary: “minimum, first quartile, median, third quartile, and ''maximum”. The ends of the box are the quartiles, Q1 and Q3, while the box length is interquartile range (IQR). Two lines (called whiskers) outside the box extend to the smallest (Minimum) and largest (Maximum) observations. The circles are the outliers.</p>"
   ]
  },
  {
   "cell_type": "markdown",
   "metadata": {},
   "source": [
    "# 3. Data Transformation <a class=\"anchor\" id=\"3\"></a>"
   ]
  },
  {
   "cell_type": "markdown",
   "metadata": {},
   "source": [
    "Our data has the following columns that we can perform transformation on:\n",
    "* budget\n",
    "* runtime\n",
    "* score\n",
    "* votes\n",
    "* popularity\n",
    "\n",
    "<p>\n",
    "> We want to discretize and normalize the data so it will be ready for the modeling stage.\n",
    "<br><br>\n",
    "> After writing some general functions, we will perform the transformations one by one.\n",
    "</p>"
   ]
  },
  {
   "cell_type": "markdown",
   "metadata": {},
   "source": [
    "## 3.1. Binning <a class=\"anchor\" id=\"31\"></a>"
   ]
  },
  {
   "cell_type": "markdown",
   "metadata": {},
   "source": [
    "Below, we iterate over all continuous features and use binning to discretize the data. At the end, we summarize the results by indicating the 4 intervals that our data was partitioned into."
   ]
  },
  {
   "cell_type": "code",
   "execution_count": 46,
   "metadata": {},
   "outputs": [
    {
     "data": {
      "text/plain": [
       "count    2.336000e+03\n",
       "mean     2.812377e+07\n",
       "std      2.282852e+07\n",
       "min      2.000000e+04\n",
       "25%      1.000000e+07\n",
       "50%      2.200000e+07\n",
       "75%      4.000000e+07\n",
       "max      1.050000e+08\n",
       "Name: budget, dtype: float64"
      ]
     },
     "metadata": {},
     "output_type": "display_data"
    },
    {
     "data": {
      "text/plain": [
       "0         (19999.999, 10000000.0]\n",
       "1         (19999.999, 10000000.0]\n",
       "2        (10000000.0, 22000000.0]\n",
       "3         (19999.999, 10000000.0]\n",
       "4        (22000000.0, 40000000.0]\n",
       "                  ...            \n",
       "2331    (40000000.0, 105000000.0]\n",
       "2332     (22000000.0, 40000000.0]\n",
       "2333      (19999.999, 10000000.0]\n",
       "2334     (10000000.0, 22000000.0]\n",
       "2335     (22000000.0, 40000000.0]\n",
       "Name: budget, Length: 2336, dtype: category\n",
       "Categories (4, interval[float64]): [(19999.999, 10000000.0] < (10000000.0, 22000000.0] < (22000000.0, 40000000.0] < (40000000.0, 105000000.0]]"
      ]
     },
     "metadata": {},
     "output_type": "display_data"
    },
    {
     "data": {
      "text/plain": [
       "(22000000.0, 40000000.0]     613\n",
       "(10000000.0, 22000000.0]     608\n",
       "(19999.999, 10000000.0]      586\n",
       "(40000000.0, 105000000.0]    529\n",
       "Name: budget, dtype: int64"
      ]
     },
     "metadata": {},
     "output_type": "display_data"
    },
    {
     "data": {
      "text/plain": [
       "count    2336.000000\n",
       "mean      105.166952\n",
       "std        14.093370\n",
       "min        69.000000\n",
       "25%        95.000000\n",
       "50%       102.500000\n",
       "75%       114.000000\n",
       "max       150.000000\n",
       "Name: runtime, dtype: float64"
      ]
     },
     "metadata": {},
     "output_type": "display_data"
    },
    {
     "data": {
      "text/plain": [
       "0       (68.999, 95.0]\n",
       "1       (114.0, 150.0]\n",
       "2       (114.0, 150.0]\n",
       "3        (95.0, 102.5]\n",
       "4        (95.0, 102.5]\n",
       "             ...      \n",
       "2331     (95.0, 102.5]\n",
       "2332    (114.0, 150.0]\n",
       "2333    (102.5, 114.0]\n",
       "2334    (102.5, 114.0]\n",
       "2335    (102.5, 114.0]\n",
       "Name: runtime, Length: 2336, dtype: category\n",
       "Categories (4, interval[float64]): [(68.999, 95.0] < (95.0, 102.5] < (102.5, 114.0] < (114.0, 150.0]]"
      ]
     },
     "metadata": {},
     "output_type": "display_data"
    },
    {
     "data": {
      "text/plain": [
       "(102.5, 114.0]    604\n",
       "(68.999, 95.0]    593\n",
       "(95.0, 102.5]     575\n",
       "(114.0, 150.0]    564\n",
       "Name: runtime, dtype: int64"
      ]
     },
     "metadata": {},
     "output_type": "display_data"
    },
    {
     "data": {
      "text/plain": [
       "count    2336.000000\n",
       "mean        6.250856\n",
       "std         0.840373\n",
       "min         4.000000\n",
       "25%         5.700000\n",
       "50%         6.300000\n",
       "75%         6.900000\n",
       "max         8.200000\n",
       "Name: score, dtype: float64"
      ]
     },
     "metadata": {},
     "output_type": "display_data"
    },
    {
     "data": {
      "text/plain": [
       "0         (6.3, 6.9]\n",
       "1         (6.9, 8.2]\n",
       "2         (6.9, 8.2]\n",
       "3         (6.3, 6.9]\n",
       "4         (6.9, 8.2]\n",
       "            ...     \n",
       "2331    (3.999, 5.7]\n",
       "2332      (6.9, 8.2]\n",
       "2333      (6.9, 8.2]\n",
       "2334      (6.3, 6.9]\n",
       "2335      (5.7, 6.3]\n",
       "Name: score, Length: 2336, dtype: category\n",
       "Categories (4, interval[float64]): [(3.999, 5.7] < (5.7, 6.3] < (6.3, 6.9] < (6.9, 8.2]]"
      ]
     },
     "metadata": {},
     "output_type": "display_data"
    },
    {
     "data": {
      "text/plain": [
       "(3.999, 5.7]    636\n",
       "(6.3, 6.9]      610\n",
       "(5.7, 6.3]      581\n",
       "(6.9, 8.2]      509\n",
       "Name: score, dtype: int64"
      ]
     },
     "metadata": {},
     "output_type": "display_data"
    },
    {
     "data": {
      "text/plain": [
       "count      2336.000000\n",
       "mean      52168.505993\n",
       "std       55622.410590\n",
       "min         456.000000\n",
       "25%       11899.750000\n",
       "50%       31530.000000\n",
       "75%       72160.500000\n",
       "max      263834.000000\n",
       "Name: votes, dtype: float64"
      ]
     },
     "metadata": {},
     "output_type": "display_data"
    },
    {
     "data": {
      "text/plain": [
       "0        (31530.0, 72160.5]\n",
       "1       (72160.5, 263834.0]\n",
       "2       (72160.5, 263834.0]\n",
       "3       (11899.75, 31530.0]\n",
       "4       (72160.5, 263834.0]\n",
       "               ...         \n",
       "2331     (31530.0, 72160.5]\n",
       "2332    (72160.5, 263834.0]\n",
       "2333     (31530.0, 72160.5]\n",
       "2334     (31530.0, 72160.5]\n",
       "2335    (11899.75, 31530.0]\n",
       "Name: votes, Length: 2336, dtype: category\n",
       "Categories (4, interval[float64]): [(455.999, 11899.75] < (11899.75, 31530.0] < (31530.0, 72160.5] < (72160.5, 263834.0]]"
      ]
     },
     "metadata": {},
     "output_type": "display_data"
    },
    {
     "data": {
      "text/plain": [
       "(455.999, 11899.75]    584\n",
       "(11899.75, 31530.0]    584\n",
       "(31530.0, 72160.5]     584\n",
       "(72160.5, 263834.0]    584\n",
       "Name: votes, dtype: int64"
      ]
     },
     "metadata": {},
     "output_type": "display_data"
    },
    {
     "data": {
      "text/plain": [
       "count    2336.000000\n",
       "mean        7.708499\n",
       "std         3.649485\n",
       "min         0.000578\n",
       "25%         5.222567\n",
       "50%         7.514438\n",
       "75%        10.082232\n",
       "max        19.420510\n",
       "Name: popularity, dtype: float64"
      ]
     },
     "metadata": {},
     "output_type": "display_data"
    },
    {
     "data": {
      "text/plain": [
       "0                         (5.223, 7.514]\n",
       "1                        (7.514, 10.082]\n",
       "2                       (10.082, 19.421]\n",
       "3       (-0.00042200000000000007, 5.223]\n",
       "4                       (10.082, 19.421]\n",
       "                      ...               \n",
       "2331                    (10.082, 19.421]\n",
       "2332                     (7.514, 10.082]\n",
       "2333                      (5.223, 7.514]\n",
       "2334    (-0.00042200000000000007, 5.223]\n",
       "2335                    (10.082, 19.421]\n",
       "Name: popularity, Length: 2336, dtype: category\n",
       "Categories (4, interval[float64]): [(-0.00042200000000000007, 5.223] < (5.223, 7.514] < (7.514, 10.082] < (10.082, 19.421]]"
      ]
     },
     "metadata": {},
     "output_type": "display_data"
    },
    {
     "data": {
      "text/plain": [
       "(-0.00042200000000000007, 5.223]    584\n",
       "(5.223, 7.514]                      584\n",
       "(7.514, 10.082]                     584\n",
       "(10.082, 19.421]                    584\n",
       "Name: popularity, dtype: int64"
      ]
     },
     "metadata": {},
     "output_type": "display_data"
    }
   ],
   "source": [
    "for i in continuous_features:\n",
    "    display(data_dropped_outlier_IQR[i].describe())\n",
    "\n",
    "    display(pd.qcut(data_dropped_outlier_IQR[i], q=4))\n",
    "\n",
    "    display(pd.qcut(data_dropped_outlier_IQR[i], q=4).value_counts())"
   ]
  },
  {
   "cell_type": "markdown",
   "metadata": {},
   "source": [
    "## 3.2. Normalization <a class=\"anchor\" id=\"32\"></a>"
   ]
  },
  {
   "cell_type": "markdown",
   "metadata": {},
   "source": [
    "### 3.2.1. Z-score Method <a class=\"anchor\" id=\"321\"></a>"
   ]
  },
  {
   "cell_type": "code",
   "execution_count": 47,
   "metadata": {},
   "outputs": [
    {
     "data": {
      "text/html": [
       "<div>\n",
       "<style scoped>\n",
       "    .dataframe tbody tr th:only-of-type {\n",
       "        vertical-align: middle;\n",
       "    }\n",
       "\n",
       "    .dataframe tbody tr th {\n",
       "        vertical-align: top;\n",
       "    }\n",
       "\n",
       "    .dataframe thead th {\n",
       "        text-align: right;\n",
       "    }\n",
       "</style>\n",
       "<table border=\"1\" class=\"dataframe\">\n",
       "  <thead>\n",
       "    <tr style=\"text-align: right;\">\n",
       "      <th></th>\n",
       "      <th>budget</th>\n",
       "      <th>runtime</th>\n",
       "      <th>score</th>\n",
       "      <th>votes</th>\n",
       "      <th>popularity</th>\n",
       "    </tr>\n",
       "  </thead>\n",
       "  <tbody>\n",
       "    <tr>\n",
       "      <th>count</th>\n",
       "      <td>2.336000e+03</td>\n",
       "      <td>2336.000000</td>\n",
       "      <td>2336.000000</td>\n",
       "      <td>2336.000000</td>\n",
       "      <td>2336.000000</td>\n",
       "    </tr>\n",
       "    <tr>\n",
       "      <th>mean</th>\n",
       "      <td>2.812377e+07</td>\n",
       "      <td>105.166952</td>\n",
       "      <td>6.250856</td>\n",
       "      <td>52168.505993</td>\n",
       "      <td>7.708499</td>\n",
       "    </tr>\n",
       "    <tr>\n",
       "      <th>std</th>\n",
       "      <td>2.282852e+07</td>\n",
       "      <td>14.093370</td>\n",
       "      <td>0.840373</td>\n",
       "      <td>55622.410590</td>\n",
       "      <td>3.649485</td>\n",
       "    </tr>\n",
       "    <tr>\n",
       "      <th>min</th>\n",
       "      <td>2.000000e+04</td>\n",
       "      <td>69.000000</td>\n",
       "      <td>4.000000</td>\n",
       "      <td>456.000000</td>\n",
       "      <td>0.000578</td>\n",
       "    </tr>\n",
       "    <tr>\n",
       "      <th>25%</th>\n",
       "      <td>1.000000e+07</td>\n",
       "      <td>95.000000</td>\n",
       "      <td>5.700000</td>\n",
       "      <td>11899.750000</td>\n",
       "      <td>5.222567</td>\n",
       "    </tr>\n",
       "    <tr>\n",
       "      <th>50%</th>\n",
       "      <td>2.200000e+07</td>\n",
       "      <td>102.500000</td>\n",
       "      <td>6.300000</td>\n",
       "      <td>31530.000000</td>\n",
       "      <td>7.514438</td>\n",
       "    </tr>\n",
       "    <tr>\n",
       "      <th>75%</th>\n",
       "      <td>4.000000e+07</td>\n",
       "      <td>114.000000</td>\n",
       "      <td>6.900000</td>\n",
       "      <td>72160.500000</td>\n",
       "      <td>10.082232</td>\n",
       "    </tr>\n",
       "    <tr>\n",
       "      <th>max</th>\n",
       "      <td>1.050000e+08</td>\n",
       "      <td>150.000000</td>\n",
       "      <td>8.200000</td>\n",
       "      <td>263834.000000</td>\n",
       "      <td>19.420510</td>\n",
       "    </tr>\n",
       "  </tbody>\n",
       "</table>\n",
       "</div>"
      ],
      "text/plain": [
       "             budget      runtime        score          votes   popularity\n",
       "count  2.336000e+03  2336.000000  2336.000000    2336.000000  2336.000000\n",
       "mean   2.812377e+07   105.166952     6.250856   52168.505993     7.708499\n",
       "std    2.282852e+07    14.093370     0.840373   55622.410590     3.649485\n",
       "min    2.000000e+04    69.000000     4.000000     456.000000     0.000578\n",
       "25%    1.000000e+07    95.000000     5.700000   11899.750000     5.222567\n",
       "50%    2.200000e+07   102.500000     6.300000   31530.000000     7.514438\n",
       "75%    4.000000e+07   114.000000     6.900000   72160.500000    10.082232\n",
       "max    1.050000e+08   150.000000     8.200000  263834.000000    19.420510"
      ]
     },
     "execution_count": 47,
     "metadata": {},
     "output_type": "execute_result"
    }
   ],
   "source": [
    "data_dropped_outlier_IQR[continuous_features].describe()"
   ]
  },
  {
   "cell_type": "code",
   "execution_count": 48,
   "metadata": {},
   "outputs": [],
   "source": [
    "scaler = StandardScaler()"
   ]
  },
  {
   "cell_type": "code",
   "execution_count": 49,
   "metadata": {},
   "outputs": [],
   "source": [
    "data_dropped_z_score_scaled = pd.DataFrame(scaler.fit_transform(data_dropped_outlier_IQR[continuous_features]), columns=continuous_features)"
   ]
  },
  {
   "cell_type": "code",
   "execution_count": 50,
   "metadata": {},
   "outputs": [
    {
     "data": {
      "text/html": [
       "<div>\n",
       "<style scoped>\n",
       "    .dataframe tbody tr th:only-of-type {\n",
       "        vertical-align: middle;\n",
       "    }\n",
       "\n",
       "    .dataframe tbody tr th {\n",
       "        vertical-align: top;\n",
       "    }\n",
       "\n",
       "    .dataframe thead th {\n",
       "        text-align: right;\n",
       "    }\n",
       "</style>\n",
       "<table border=\"1\" class=\"dataframe\">\n",
       "  <thead>\n",
       "    <tr style=\"text-align: right;\">\n",
       "      <th></th>\n",
       "      <th>budget</th>\n",
       "      <th>runtime</th>\n",
       "      <th>score</th>\n",
       "      <th>votes</th>\n",
       "      <th>popularity</th>\n",
       "    </tr>\n",
       "  </thead>\n",
       "  <tbody>\n",
       "    <tr>\n",
       "      <th>count</th>\n",
       "      <td>2336.000000</td>\n",
       "      <td>2.336000e+03</td>\n",
       "      <td>2.336000e+03</td>\n",
       "      <td>2.336000e+03</td>\n",
       "      <td>2.336000e+03</td>\n",
       "    </tr>\n",
       "    <tr>\n",
       "      <th>mean</th>\n",
       "      <td>0.000000</td>\n",
       "      <td>-4.258390e-17</td>\n",
       "      <td>1.292725e-17</td>\n",
       "      <td>2.433366e-17</td>\n",
       "      <td>-1.216683e-17</td>\n",
       "    </tr>\n",
       "    <tr>\n",
       "      <th>std</th>\n",
       "      <td>1.000214</td>\n",
       "      <td>1.000214e+00</td>\n",
       "      <td>1.000214e+00</td>\n",
       "      <td>1.000214e+00</td>\n",
       "      <td>1.000214e+00</td>\n",
       "    </tr>\n",
       "    <tr>\n",
       "      <th>min</th>\n",
       "      <td>-1.231345</td>\n",
       "      <td>-2.566788e+00</td>\n",
       "      <td>-2.678976e+00</td>\n",
       "      <td>-9.299054e-01</td>\n",
       "      <td>-2.112509e+00</td>\n",
       "    </tr>\n",
       "    <tr>\n",
       "      <th>25%</th>\n",
       "      <td>-0.794079</td>\n",
       "      <td>-7.215541e-01</td>\n",
       "      <td>-6.556307e-01</td>\n",
       "      <td>-7.241214e-01</td>\n",
       "      <td>-6.813191e-01</td>\n",
       "    </tr>\n",
       "    <tr>\n",
       "      <th>50%</th>\n",
       "      <td>-0.268308</td>\n",
       "      <td>-1.892750e-01</td>\n",
       "      <td>5.849114e-02</td>\n",
       "      <td>-3.711260e-01</td>\n",
       "      <td>-5.318621e-02</td>\n",
       "    </tr>\n",
       "    <tr>\n",
       "      <th>75%</th>\n",
       "      <td>0.520348</td>\n",
       "      <td>6.268862e-01</td>\n",
       "      <td>7.726130e-01</td>\n",
       "      <td>3.595003e-01</td>\n",
       "      <td>6.505689e-01</td>\n",
       "    </tr>\n",
       "    <tr>\n",
       "      <th>max</th>\n",
       "      <td>3.368273</td>\n",
       "      <td>3.181826e+00</td>\n",
       "      <td>2.319877e+00</td>\n",
       "      <td>3.806214e+00</td>\n",
       "      <td>3.209910e+00</td>\n",
       "    </tr>\n",
       "  </tbody>\n",
       "</table>\n",
       "</div>"
      ],
      "text/plain": [
       "            budget       runtime         score         votes    popularity\n",
       "count  2336.000000  2.336000e+03  2.336000e+03  2.336000e+03  2.336000e+03\n",
       "mean      0.000000 -4.258390e-17  1.292725e-17  2.433366e-17 -1.216683e-17\n",
       "std       1.000214  1.000214e+00  1.000214e+00  1.000214e+00  1.000214e+00\n",
       "min      -1.231345 -2.566788e+00 -2.678976e+00 -9.299054e-01 -2.112509e+00\n",
       "25%      -0.794079 -7.215541e-01 -6.556307e-01 -7.241214e-01 -6.813191e-01\n",
       "50%      -0.268308 -1.892750e-01  5.849114e-02 -3.711260e-01 -5.318621e-02\n",
       "75%       0.520348  6.268862e-01  7.726130e-01  3.595003e-01  6.505689e-01\n",
       "max       3.368273  3.181826e+00  2.319877e+00  3.806214e+00  3.209910e+00"
      ]
     },
     "execution_count": 50,
     "metadata": {},
     "output_type": "execute_result"
    }
   ],
   "source": [
    "data_dropped_z_score_scaled.describe()"
   ]
  },
  {
   "cell_type": "code",
   "execution_count": 51,
   "metadata": {},
   "outputs": [
    {
     "data": {
      "text/plain": [
       "array([[<AxesSubplot:title={'center':'budget'}>,\n",
       "        <AxesSubplot:title={'center':'gross'}>,\n",
       "        <AxesSubplot:title={'center':'runtime'}>],\n",
       "       [<AxesSubplot:title={'center':'score'}>,\n",
       "        <AxesSubplot:title={'center':'votes'}>,\n",
       "        <AxesSubplot:title={'center':'year'}>],\n",
       "       [<AxesSubplot:title={'center':'isprofit'}>,\n",
       "        <AxesSubplot:title={'center':'profitability_ratio'}>,\n",
       "        <AxesSubplot:title={'center':'profitability_ratio_bucket'}>],\n",
       "       [<AxesSubplot:title={'center':'id'}>,\n",
       "        <AxesSubplot:title={'center':'popularity'}>,\n",
       "        <AxesSubplot:title={'center':'year_released'}>]], dtype=object)"
      ]
     },
     "execution_count": 51,
     "metadata": {},
     "output_type": "execute_result"
    },
    {
     "data": {
      "image/png": "[encoded data removed]",
      "text/plain": [
       "<Figure size 1152x1152 with 12 Axes>"
      ]
     },
     "metadata": {},
     "output_type": "display_data"
    }
   ],
   "source": [
    "data_dropped_outlier_IQR.hist(figsize=(16, 16))"
   ]
  },
  {
   "cell_type": "markdown",
   "metadata": {},
   "source": [
    "Figure 6: Histogram of Data Before Normalization\n",
    "<p>Figure 6 shows the bar charts helping us visualize the data befor the five features above have been normalized.</p>"
   ]
  },
  {
   "cell_type": "code",
   "execution_count": 52,
   "metadata": {},
   "outputs": [
    {
     "data": {
      "text/plain": [
       "array([[<AxesSubplot:title={'center':'budget'}>,\n",
       "        <AxesSubplot:title={'center':'runtime'}>],\n",
       "       [<AxesSubplot:title={'center':'score'}>,\n",
       "        <AxesSubplot:title={'center':'votes'}>],\n",
       "       [<AxesSubplot:title={'center':'popularity'}>, <AxesSubplot:>]],\n",
       "      dtype=object)"
      ]
     },
     "execution_count": 52,
     "metadata": {},
     "output_type": "execute_result"
    },
    {
     "data": {
      "image/png": "[encoded data removed]",
      "text/plain": [
       "<Figure size 720x720 with 6 Axes>"
      ]
     },
     "metadata": {},
     "output_type": "display_data"
    }
   ],
   "source": [
    "data_dropped_z_score_scaled.hist(figsize=(10, 10))"
   ]
  },
  {
   "cell_type": "markdown",
   "metadata": {},
   "source": [
    "Figure 7: Histogram of Data After Normalization\n",
    "<p>Figure 7 shows bar charts helping us visualize the data after the five features above have been normalized.</p>"
   ]
  },
  {
   "cell_type": "markdown",
   "metadata": {},
   "source": [
    "Add normalized columns to main dataset as new columns labeled with the feature name they relate to followed by \"_norm\"."
   ]
  },
  {
   "cell_type": "code",
   "execution_count": 53,
   "metadata": {},
   "outputs": [],
   "source": [
    "norm_column_names = ['budget_norm', 'runtime_norm', 'score_norm', 'votes_norm', 'popularity_norm']\n",
    "    \n",
    "for i, j in zip(norm_column_names, continuous_features):\n",
    "    data_dropped_outlier_IQR[i] = pd.Series(data_dropped_z_score_scaled[j])\n"
   ]
  },
  {
   "cell_type": "code",
   "execution_count": 54,
   "metadata": {},
   "outputs": [],
   "source": [
    "data_dropped_outlier_IQR.to_csv('data/training_data.csv')"
   ]
  },
  {
   "cell_type": "markdown",
   "metadata": {},
   "source": [
    "# 4. Results <a class=\"anchor\" id=\"4\"></a>"
   ]
  },
  {
   "cell_type": "markdown",
   "metadata": {},
   "source": [
    "## 4.1. Data Cleaning <a class=\"anchor\" id=\"41\"></a>"
   ]
  },
  {
   "cell_type": "markdown",
   "metadata": {},
   "source": [
    "As we analyze all the features in <a href=\"#21\">Section 2.1.</a> we can see that the only features that need cleaning are overview, tagline, spoken_languages_edited, production_countries_edited and keywords_edited. The rest of the features are clean meaning not missing any values that require either dropping or replacement of those values."
   ]
  },
  {
   "cell_type": "markdown",
   "metadata": {},
   "source": [
    "## 4.2. Data Transformation <a class=\"anchor\" id=\"42\"></a>"
   ]
  },
  {
   "cell_type": "markdown",
   "metadata": {},
   "source": [
    "After analyzing and cleaning the five categorical features found in <a href=\"#21\">Section 2.1.</a> we are able to focus on transforming our data.  \n",
    "\n",
    "<p>Our data includes categorical and continuous types but for transformation we want to focus on five that need to be discretized and normalized in order to be ready for modeling. These five features include budget, runtime, score, votes and popularity. The reason for discretizing the data is so we can partition the data into equal distributions that will be easier to manage and manipulate. After that we can use normalization to give all the attributes an equal weight which is useful to us in the following section where we model our data.</p>"
   ]
  }
 ],
 "metadata": {
  "kernelspec": {
   "display_name": "'Python3'",
   "language": "python",
   "name": "python3"
  },
  "language_info": {
   "codemirror_mode": {
    "name": "ipython",
    "version": 3
   },
   "file_extension": ".py",
   "mimetype": "text/x-python",
   "name": "python",
   "nbconvert_exporter": "python",
   "pygments_lexer": "ipython3",
   "version": "3.7.3"
  }
 },
 "nbformat": 4,
 "nbformat_minor": 2
}
