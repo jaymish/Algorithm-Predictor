{
 "cells": [
  {
   "cell_type": "markdown",
   "metadata": {},
   "source": [
    "### Table of Contents:\n",
    "* [1. Feature selection and improve accuracy of data mining results ](#1)\n",
    "* &emsp;[1.1. Importing Libraries](#11)\n",
    "* &emsp;[1.2. Converting categorical data to numerical](#12)\n",
    "* &emsp;[1.3. Correlation Matrix](#13)\n",
    "* &emsp;[1.4. Heat-Map of correlation Matrix](#14)\n",
    "* &emsp;[1.5. Relevant attributes to improve the accuracy of data mining results](#15)"
   ]
  },
  {
   "cell_type": "markdown",
   "metadata": {},
   "source": [
    "# 1. Feature selection and improve accuracy of data mining results <a class=\"anchor\" id=\"1\"></a>"
   ]
  },
  {
   "cell_type": "markdown",
   "metadata": {},
   "source": [
    "Select relevant attributes from your dataset to improve the accuracy of data mining results. "
   ]
  },
  {
   "cell_type": "markdown",
   "metadata": {},
   "source": [
    "## 1.1. Importing Libraries <a class=\"anchor\" id=\"11\"></a>"
   ]
  },
  {
   "cell_type": "code",
   "execution_count": 1,
   "metadata": {},
   "outputs": [],
   "source": [
    "import pandas as pd \n",
    "import numpy as np  \n",
    "import seaborn as sns\n",
    "import matplotlib.pyplot as plt"
   ]
  },
  {
   "cell_type": "markdown",
   "metadata": {},
   "source": [
    "## 1.2. Converting categorical data to numerical <a class=\"anchor\" id=\"12\"></a>"
   ]
  },
  {
   "cell_type": "code",
   "execution_count": 2,
   "metadata": {},
   "outputs": [],
   "source": [
    "df = pd.read_csv('data/training_data.csv')"
   ]
  },
  {
   "cell_type": "code",
   "execution_count": 4,
   "metadata": {},
   "outputs": [],
   "source": [
    "#categorical_features = ['company','country','director','genre','rating','released','star','year',\n",
    "#                        'writer','original_title','overview','tagline','title','genres_edited',\n",
    "#                        'spoken_languages_edited','production_countries_edited','keywords_edited']\n",
    "continuous_features = ['budget','runtime','score','votes','popularity']\n",
    "normalized_features = [e+'_norm' for e in continuous_features]\n",
    "target_features = ['isprofit','profitability_ratio']\n",
    "all_features = continuous_features + normalized_features + target_features"
   ]
  },
  {
   "cell_type": "code",
   "execution_count": 6,
   "metadata": {},
   "outputs": [],
   "source": [
    "#df['company']=df['company'].astype('category').cat.codes\n",
    "#df['country']=df['country'].astype('category').cat.codes\n",
    "#df['director']=df['director'].astype('category').cat.codes\n",
    "#df['genre']=df['genre'].astype('category').cat.codes\n",
    "#df['rating']=df['rating'].astype('category').cat.codes\n",
    "#df['star']=df['star'].astype('category').cat.codes\n",
    "#df['writer']=df['writer'].astype('category').cat.codes"
   ]
  },
  {
   "cell_type": "markdown",
   "metadata": {},
   "source": [
    "## 1.3. Correlation Matrix <a class=\"anchor\" id=\"13\"></a>"
   ]
  },
  {
   "cell_type": "code",
   "execution_count": 7,
   "metadata": {},
   "outputs": [],
   "source": [
    "corr_df=df[all_features].corr()"
   ]
  },
  {
   "cell_type": "code",
   "execution_count": 8,
   "metadata": {},
   "outputs": [
    {
     "data": {
      "text/html": [
       "<div>\n",
       "<style scoped>\n",
       "    .dataframe tbody tr th:only-of-type {\n",
       "        vertical-align: middle;\n",
       "    }\n",
       "\n",
       "    .dataframe tbody tr th {\n",
       "        vertical-align: top;\n",
       "    }\n",
       "\n",
       "    .dataframe thead th {\n",
       "        text-align: right;\n",
       "    }\n",
       "</style>\n",
       "<table border=\"1\" class=\"dataframe\">\n",
       "  <thead>\n",
       "    <tr style=\"text-align: right;\">\n",
       "      <th></th>\n",
       "      <th>budget</th>\n",
       "      <th>runtime</th>\n",
       "      <th>score</th>\n",
       "      <th>votes</th>\n",
       "      <th>popularity</th>\n",
       "      <th>budget_norm</th>\n",
       "      <th>runtime_norm</th>\n",
       "      <th>score_norm</th>\n",
       "      <th>votes_norm</th>\n",
       "      <th>popularity_norm</th>\n",
       "      <th>isprofit</th>\n",
       "      <th>profitability_ratio</th>\n",
       "    </tr>\n",
       "  </thead>\n",
       "  <tbody>\n",
       "    <tr>\n",
       "      <th>budget</th>\n",
       "      <td>1.000000</td>\n",
       "      <td>0.251860</td>\n",
       "      <td>-0.112511</td>\n",
       "      <td>0.402381</td>\n",
       "      <td>0.357078</td>\n",
       "      <td>1.000000</td>\n",
       "      <td>0.251860</td>\n",
       "      <td>-0.112511</td>\n",
       "      <td>0.402381</td>\n",
       "      <td>0.357078</td>\n",
       "      <td>-0.071842</td>\n",
       "      <td>-0.120503</td>\n",
       "    </tr>\n",
       "    <tr>\n",
       "      <th>runtime</th>\n",
       "      <td>0.251860</td>\n",
       "      <td>1.000000</td>\n",
       "      <td>0.381564</td>\n",
       "      <td>0.200113</td>\n",
       "      <td>0.115461</td>\n",
       "      <td>0.251860</td>\n",
       "      <td>1.000000</td>\n",
       "      <td>0.381564</td>\n",
       "      <td>0.200113</td>\n",
       "      <td>0.115461</td>\n",
       "      <td>-0.038992</td>\n",
       "      <td>-0.048151</td>\n",
       "    </tr>\n",
       "    <tr>\n",
       "      <th>score</th>\n",
       "      <td>-0.112511</td>\n",
       "      <td>0.381564</td>\n",
       "      <td>1.000000</td>\n",
       "      <td>0.386960</td>\n",
       "      <td>0.183645</td>\n",
       "      <td>-0.112511</td>\n",
       "      <td>0.381564</td>\n",
       "      <td>1.000000</td>\n",
       "      <td>0.386960</td>\n",
       "      <td>0.183645</td>\n",
       "      <td>0.117046</td>\n",
       "      <td>0.121273</td>\n",
       "    </tr>\n",
       "    <tr>\n",
       "      <th>votes</th>\n",
       "      <td>0.402381</td>\n",
       "      <td>0.200113</td>\n",
       "      <td>0.386960</td>\n",
       "      <td>1.000000</td>\n",
       "      <td>0.512225</td>\n",
       "      <td>0.402381</td>\n",
       "      <td>0.200113</td>\n",
       "      <td>0.386960</td>\n",
       "      <td>1.000000</td>\n",
       "      <td>0.512225</td>\n",
       "      <td>0.274563</td>\n",
       "      <td>0.255542</td>\n",
       "    </tr>\n",
       "    <tr>\n",
       "      <th>popularity</th>\n",
       "      <td>0.357078</td>\n",
       "      <td>0.115461</td>\n",
       "      <td>0.183645</td>\n",
       "      <td>0.512225</td>\n",
       "      <td>1.000000</td>\n",
       "      <td>0.357078</td>\n",
       "      <td>0.115461</td>\n",
       "      <td>0.183645</td>\n",
       "      <td>0.512225</td>\n",
       "      <td>1.000000</td>\n",
       "      <td>0.177348</td>\n",
       "      <td>0.177170</td>\n",
       "    </tr>\n",
       "    <tr>\n",
       "      <th>budget_norm</th>\n",
       "      <td>1.000000</td>\n",
       "      <td>0.251860</td>\n",
       "      <td>-0.112511</td>\n",
       "      <td>0.402381</td>\n",
       "      <td>0.357078</td>\n",
       "      <td>1.000000</td>\n",
       "      <td>0.251860</td>\n",
       "      <td>-0.112511</td>\n",
       "      <td>0.402381</td>\n",
       "      <td>0.357078</td>\n",
       "      <td>-0.071842</td>\n",
       "      <td>-0.120503</td>\n",
       "    </tr>\n",
       "    <tr>\n",
       "      <th>runtime_norm</th>\n",
       "      <td>0.251860</td>\n",
       "      <td>1.000000</td>\n",
       "      <td>0.381564</td>\n",
       "      <td>0.200113</td>\n",
       "      <td>0.115461</td>\n",
       "      <td>0.251860</td>\n",
       "      <td>1.000000</td>\n",
       "      <td>0.381564</td>\n",
       "      <td>0.200113</td>\n",
       "      <td>0.115461</td>\n",
       "      <td>-0.038992</td>\n",
       "      <td>-0.048151</td>\n",
       "    </tr>\n",
       "    <tr>\n",
       "      <th>score_norm</th>\n",
       "      <td>-0.112511</td>\n",
       "      <td>0.381564</td>\n",
       "      <td>1.000000</td>\n",
       "      <td>0.386960</td>\n",
       "      <td>0.183645</td>\n",
       "      <td>-0.112511</td>\n",
       "      <td>0.381564</td>\n",
       "      <td>1.000000</td>\n",
       "      <td>0.386960</td>\n",
       "      <td>0.183645</td>\n",
       "      <td>0.117046</td>\n",
       "      <td>0.121273</td>\n",
       "    </tr>\n",
       "    <tr>\n",
       "      <th>votes_norm</th>\n",
       "      <td>0.402381</td>\n",
       "      <td>0.200113</td>\n",
       "      <td>0.386960</td>\n",
       "      <td>1.000000</td>\n",
       "      <td>0.512225</td>\n",
       "      <td>0.402381</td>\n",
       "      <td>0.200113</td>\n",
       "      <td>0.386960</td>\n",
       "      <td>1.000000</td>\n",
       "      <td>0.512225</td>\n",
       "      <td>0.274563</td>\n",
       "      <td>0.255542</td>\n",
       "    </tr>\n",
       "    <tr>\n",
       "      <th>popularity_norm</th>\n",
       "      <td>0.357078</td>\n",
       "      <td>0.115461</td>\n",
       "      <td>0.183645</td>\n",
       "      <td>0.512225</td>\n",
       "      <td>1.000000</td>\n",
       "      <td>0.357078</td>\n",
       "      <td>0.115461</td>\n",
       "      <td>0.183645</td>\n",
       "      <td>0.512225</td>\n",
       "      <td>1.000000</td>\n",
       "      <td>0.177348</td>\n",
       "      <td>0.177170</td>\n",
       "    </tr>\n",
       "    <tr>\n",
       "      <th>isprofit</th>\n",
       "      <td>-0.071842</td>\n",
       "      <td>-0.038992</td>\n",
       "      <td>0.117046</td>\n",
       "      <td>0.274563</td>\n",
       "      <td>0.177348</td>\n",
       "      <td>-0.071842</td>\n",
       "      <td>-0.038992</td>\n",
       "      <td>0.117046</td>\n",
       "      <td>0.274563</td>\n",
       "      <td>0.177348</td>\n",
       "      <td>1.000000</td>\n",
       "      <td>0.782397</td>\n",
       "    </tr>\n",
       "    <tr>\n",
       "      <th>profitability_ratio</th>\n",
       "      <td>-0.120503</td>\n",
       "      <td>-0.048151</td>\n",
       "      <td>0.121273</td>\n",
       "      <td>0.255542</td>\n",
       "      <td>0.177170</td>\n",
       "      <td>-0.120503</td>\n",
       "      <td>-0.048151</td>\n",
       "      <td>0.121273</td>\n",
       "      <td>0.255542</td>\n",
       "      <td>0.177170</td>\n",
       "      <td>0.782397</td>\n",
       "      <td>1.000000</td>\n",
       "    </tr>\n",
       "  </tbody>\n",
       "</table>\n",
       "</div>"
      ],
      "text/plain": [
       "                       budget   runtime     score     votes  popularity  \\\n",
       "budget               1.000000  0.251860 -0.112511  0.402381    0.357078   \n",
       "runtime              0.251860  1.000000  0.381564  0.200113    0.115461   \n",
       "score               -0.112511  0.381564  1.000000  0.386960    0.183645   \n",
       "votes                0.402381  0.200113  0.386960  1.000000    0.512225   \n",
       "popularity           0.357078  0.115461  0.183645  0.512225    1.000000   \n",
       "budget_norm          1.000000  0.251860 -0.112511  0.402381    0.357078   \n",
       "runtime_norm         0.251860  1.000000  0.381564  0.200113    0.115461   \n",
       "score_norm          -0.112511  0.381564  1.000000  0.386960    0.183645   \n",
       "votes_norm           0.402381  0.200113  0.386960  1.000000    0.512225   \n",
       "popularity_norm      0.357078  0.115461  0.183645  0.512225    1.000000   \n",
       "isprofit            -0.071842 -0.038992  0.117046  0.274563    0.177348   \n",
       "profitability_ratio -0.120503 -0.048151  0.121273  0.255542    0.177170   \n",
       "\n",
       "                     budget_norm  runtime_norm  score_norm  votes_norm  \\\n",
       "budget                  1.000000      0.251860   -0.112511    0.402381   \n",
       "runtime                 0.251860      1.000000    0.381564    0.200113   \n",
       "score                  -0.112511      0.381564    1.000000    0.386960   \n",
       "votes                   0.402381      0.200113    0.386960    1.000000   \n",
       "popularity              0.357078      0.115461    0.183645    0.512225   \n",
       "budget_norm             1.000000      0.251860   -0.112511    0.402381   \n",
       "runtime_norm            0.251860      1.000000    0.381564    0.200113   \n",
       "score_norm             -0.112511      0.381564    1.000000    0.386960   \n",
       "votes_norm              0.402381      0.200113    0.386960    1.000000   \n",
       "popularity_norm         0.357078      0.115461    0.183645    0.512225   \n",
       "isprofit               -0.071842     -0.038992    0.117046    0.274563   \n",
       "profitability_ratio    -0.120503     -0.048151    0.121273    0.255542   \n",
       "\n",
       "                     popularity_norm  isprofit  profitability_ratio  \n",
       "budget                      0.357078 -0.071842            -0.120503  \n",
       "runtime                     0.115461 -0.038992            -0.048151  \n",
       "score                       0.183645  0.117046             0.121273  \n",
       "votes                       0.512225  0.274563             0.255542  \n",
       "popularity                  1.000000  0.177348             0.177170  \n",
       "budget_norm                 0.357078 -0.071842            -0.120503  \n",
       "runtime_norm                0.115461 -0.038992            -0.048151  \n",
       "score_norm                  0.183645  0.117046             0.121273  \n",
       "votes_norm                  0.512225  0.274563             0.255542  \n",
       "popularity_norm             1.000000  0.177348             0.177170  \n",
       "isprofit                    0.177348  1.000000             0.782397  \n",
       "profitability_ratio         0.177170  0.782397             1.000000  "
      ]
     },
     "execution_count": 8,
     "metadata": {},
     "output_type": "execute_result"
    }
   ],
   "source": [
    "corr_df"
   ]
  },
  {
   "cell_type": "markdown",
   "metadata": {},
   "source": [
    "## 1.4. Heat-Map of correlation Matrix <a class=\"anchor\" id=\"14\"></a>"
   ]
  },
  {
   "cell_type": "code",
   "execution_count": 9,
   "metadata": {},
   "outputs": [
    {
     "data": {
      "image/png": "[encoded data removed]",
      "text/plain": [
       "<Figure size 1440x1080 with 2 Axes>"
      ]
     },
     "metadata": {
      "needs_background": "light"
     },
     "output_type": "display_data"
    }
   ],
   "source": [
    "plt.figure(figsize=(20,15))\n",
    "sns.heatmap(corr_df,cmap='coolwarm',vmin=-1, vmax=1,annot=True,linewidth=.5);\n"
   ]
  },
  {
   "cell_type": "markdown",
   "metadata": {},
   "source": [
    "## 1.5. Relevant attributes to improve the accuracy of data mining results <a class=\"anchor\" id=\"15\"></a>"
   ]
  },
  {
   "cell_type": "code",
   "execution_count": 10,
   "metadata": {},
   "outputs": [],
   "source": [
    "corr_df_features = set()\n",
    "for i in range(len(corr_df.columns)-2):\n",
    "    if corr_df.iloc[i,10]<-0.04 or corr_df.iloc[i,10]>0.04 or \\\n",
    "        corr_df.iloc[i,11]<-0.04 or corr_df.iloc[i,11]>0.04:\n",
    "        corr_df_features.add(corr_df.columns[i])"
   ]
  },
  {
   "cell_type": "code",
   "execution_count": 11,
   "metadata": {},
   "outputs": [
    {
     "data": {
      "text/plain": [
       "{'budget',\n",
       " 'budget_norm',\n",
       " 'popularity',\n",
       " 'popularity_norm',\n",
       " 'runtime',\n",
       " 'runtime_norm',\n",
       " 'score',\n",
       " 'score_norm',\n",
       " 'votes',\n",
       " 'votes_norm'}"
      ]
     },
     "execution_count": 11,
     "metadata": {},
     "output_type": "execute_result"
    }
   ],
   "source": [
    "corr_df_features"
   ]
  },
  {
   "cell_type": "code",
   "execution_count": 12,
   "metadata": {},
   "outputs": [],
   "source": [
    "df[list(corr_df_features)+['isprofit','profitability_ratio']].to_csv('data/final_training_data.csv')"
   ]
  },
  {
   "cell_type": "code",
   "execution_count": null,
   "metadata": {},
   "outputs": [],
   "source": []
  }
 ],
 "metadata": {
  "kernelspec": {
   "display_name": "'Python3'",
   "language": "python",
   "name": "python3"
  },
  "language_info": {
   "codemirror_mode": {
    "name": "ipython",
    "version": 3
   },
   "file_extension": ".py",
   "mimetype": "text/x-python",
   "name": "python",
   "nbconvert_exporter": "python",
   "pygments_lexer": "ipython3",
   "version": "3.7.3"
  }
 },
 "nbformat": 4,
 "nbformat_minor": 4
}
